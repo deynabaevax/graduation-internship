{
  "nbformat": 4,
  "nbformat_minor": 0,
  "metadata": {
    "colab": {
      "provenance": [],
      "mount_file_id": "12_PTAfIypELoPUCW1kLwqGDj5FDIVK99",
      "authorship_tag": "ABX9TyNb578cTX6yX2h1L5xpqnts",
      "include_colab_link": true
    },
    "kernelspec": {
      "name": "python3",
      "display_name": "Python 3"
    },
    "language_info": {
      "name": "python"
    }
  },
  "cells": [
    {
      "cell_type": "markdown",
      "metadata": {
        "id": "view-in-github",
        "colab_type": "text"
      },
      "source": [
        "<a href=\"https://colab.research.google.com/github/deynabaevax/groupm-graduation/blob/developing/code/eda/eda_jumbo.ipynb\" target=\"_parent\"><img src=\"https://colab.research.google.com/assets/colab-badge.svg\" alt=\"Open In Colab\"/></a>"
      ]
    },
    {
      "cell_type": "markdown",
      "source": [
        "# EDA \n",
        "### Jumbo Data"
      ],
      "metadata": {
        "id": "DIltE9P9PKka"
      }
    },
    {
      "cell_type": "markdown",
      "source": [
        "### Import the libraries"
      ],
      "metadata": {
        "id": "sFiUfPM9PQzn"
      }
    },
    {
      "cell_type": "code",
      "source": [
        "!pip install emoji"
      ],
      "metadata": {
        "id": "o2lh6kadP61U"
      },
      "execution_count": null,
      "outputs": []
    },
    {
      "cell_type": "code",
      "execution_count": 3,
      "metadata": {
        "colab": {
          "base_uri": "https://localhost:8080/"
        },
        "id": "wPeYo4znPJjz",
        "outputId": "6983ca0a-52f8-4ef0-d1f3-b2564891fba1"
      },
      "outputs": [
        {
          "output_type": "stream",
          "name": "stderr",
          "text": [
            "[nltk_data] Downloading package stopwords to /root/nltk_data...\n",
            "[nltk_data]   Unzipping corpora/stopwords.zip.\n"
          ]
        }
      ],
      "source": [
        "import pandas as pd\n",
        "import numpy as np\n",
        "import re\n",
        "import string\n",
        "import emoji\n",
        "\n",
        "import matplotlib.pyplot as plt\n",
        "import seaborn as sns\n",
        "import plotly.express as px\n",
        "\n",
        "import nltk\n",
        "nltk.download('stopwords')\n",
        "from nltk.corpus import stopwords\n",
        "from sklearn.feature_extraction.text import CountVectorizer\n",
        "from sklearn.decomposition import LatentDirichletAllocation\n",
        "\n",
        "import warnings\n",
        "warnings.filterwarnings(\"ignore\")"
      ]
    },
    {
      "cell_type": "markdown",
      "source": [
        "### Import the data set"
      ],
      "metadata": {
        "id": "J3vjEaaXPsGf"
      }
    },
    {
      "cell_type": "code",
      "source": [
        "df = pd.read_excel(\"/content/drive/MyDrive/datasets/jumbo-data.xlsx\")"
      ],
      "metadata": {
        "id": "zwNb6m7QPrqt"
      },
      "execution_count": 28,
      "outputs": []
    },
    {
      "cell_type": "code",
      "source": [
        "df.head()"
      ],
      "metadata": {
        "id": "rTUPmjUAQcWo"
      },
      "execution_count": null,
      "outputs": []
    },
    {
      "cell_type": "code",
      "source": [
        "# rename the columns for easy typing\n",
        "df.rename(columns={\"Case Number\": \"id\", \"Case Description\": \"descr\", \"Case Origin\": \"source\"}, inplace=True)"
      ],
      "metadata": {
        "id": "YJIGZx4xUshf"
      },
      "execution_count": 34,
      "outputs": []
    },
    {
      "cell_type": "code",
      "source": [
        "df.shape"
      ],
      "metadata": {
        "colab": {
          "base_uri": "https://localhost:8080/"
        },
        "id": "nWZEunixQgBx",
        "outputId": "aa8c659d-0e41-4936-f4cb-b49f16e6150b"
      },
      "execution_count": 35,
      "outputs": [
        {
          "output_type": "execute_result",
          "data": {
            "text/plain": [
              "(95921, 3)"
            ]
          },
          "metadata": {},
          "execution_count": 35
        }
      ]
    },
    {
      "cell_type": "code",
      "source": [
        "df.info()"
      ],
      "metadata": {
        "id": "q4tyNWCkRCSV"
      },
      "execution_count": null,
      "outputs": []
    },
    {
      "cell_type": "code",
      "source": [
        "df.describe().T"
      ],
      "metadata": {
        "id": "GOEE8CQNQw51"
      },
      "execution_count": null,
      "outputs": []
    },
    {
      "cell_type": "code",
      "source": [
        "df.isnull().sum()"
      ],
      "metadata": {
        "id": "OoYMnMA8Q1XJ"
      },
      "execution_count": null,
      "outputs": []
    },
    {
      "cell_type": "code",
      "source": [
        "df[\"descr\"].isnull().values.any()"
      ],
      "metadata": {
        "id": "x8rRj2UyQ1UZ"
      },
      "execution_count": null,
      "outputs": []
    },
    {
      "cell_type": "code",
      "source": [
        "# check for duplicates in the 'query' column\n",
        "duplicates = df.duplicated(subset=[\"id\" ,\"descr\"])\n",
        "print(\"Number of duplicates:\", duplicates.sum())"
      ],
      "metadata": {
        "id": "ObkTuxDUSdb5"
      },
      "execution_count": null,
      "outputs": []
    },
    {
      "cell_type": "code",
      "source": [
        "# create a boolean mask of null values\n",
        "mask = df.isnull().any(axis=1)\n",
        "\n",
        "# select the rows that have at least one null value\n",
        "rows_with_null = df[mask]\n",
        "\n",
        "# print the selected rows\n",
        "print(rows_with_null)"
      ],
      "metadata": {
        "id": "jCf0NNyNR7WY"
      },
      "execution_count": null,
      "outputs": []
    },
    {
      "cell_type": "code",
      "source": [
        "df[\"descr\"][92513]"
      ],
      "metadata": {
        "id": "IsXrHa2NVw4U"
      },
      "execution_count": null,
      "outputs": []
    },
    {
      "cell_type": "code",
      "source": [
        "df[\"descr\"][92517]"
      ],
      "metadata": {
        "id": "no3ncCIbVzzC"
      },
      "execution_count": null,
      "outputs": []
    },
    {
      "cell_type": "code",
      "source": [
        "df[\"descr\"][60314]"
      ],
      "metadata": {
        "id": "lj-eQuSFTTvG"
      },
      "execution_count": null,
      "outputs": []
    },
    {
      "cell_type": "code",
      "source": [
        "# the above row seems usless, so I'll remove it\n",
        "id = [60314]\n",
        "df = df.drop(id, axis=0)"
      ],
      "metadata": {
        "id": "BHV-XyMUTouE"
      },
      "execution_count": 30,
      "outputs": []
    },
    {
      "cell_type": "code",
      "source": [
        "df[\"descr\"][92519] "
      ],
      "metadata": {
        "id": "KqOW_qdXTNWP"
      },
      "execution_count": null,
      "outputs": []
    },
    {
      "cell_type": "code",
      "source": [
        "df[\"descr\"][92515]"
      ],
      "metadata": {
        "id": "D8-kBs5jTHzc"
      },
      "execution_count": null,
      "outputs": []
    },
    {
      "cell_type": "code",
      "source": [
        " df.isnull().sum()[df.isnull().sum()>0]"
      ],
      "metadata": {
        "id": "GG1zG-VWUYyN"
      },
      "execution_count": null,
      "outputs": []
    },
    {
      "cell_type": "code",
      "source": [
        "data = df.dropna()"
      ],
      "metadata": {
        "id": "OS8zGzleVgrg"
      },
      "execution_count": 53,
      "outputs": []
    }
  ]
}