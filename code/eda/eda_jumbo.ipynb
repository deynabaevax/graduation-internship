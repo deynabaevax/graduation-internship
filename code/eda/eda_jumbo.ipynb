{
  "nbformat": 4,
  "nbformat_minor": 0,
  "metadata": {
    "colab": {
      "provenance": [],
      "mount_file_id": "https://github.com/deynabaevax/groupm-graduation/blob/developing/code/eda/eda_jumbo.ipynb",
      "authorship_tag": "ABX9TyMDphIGkgJq7fRgvo+WNpFp"
    },
    "kernelspec": {
      "name": "python3",
      "display_name": "Python 3"
    },
    "language_info": {
      "name": "python"
    }
  },
  "cells": [
    {
      "cell_type": "markdown",
      "source": [
        "# EDA \n",
        "### Jumbo Data"
      ],
      "metadata": {
        "id": "DIltE9P9PKka"
      }
    },
    {
      "cell_type": "markdown",
      "source": [
        "### Import the libraries"
      ],
      "metadata": {
        "id": "sFiUfPM9PQzn"
      }
    },
    {
      "cell_type": "code",
      "source": [
        "!pip install emoji"
      ],
      "metadata": {
        "id": "o2lh6kadP61U",
        "colab": {
          "base_uri": "https://localhost:8080/"
        },
        "outputId": "68c0d3d5-68a9-4a37-9c7e-85970fd5ac7e"
      },
      "execution_count": 45,
      "outputs": [
        {
          "output_type": "stream",
          "name": "stdout",
          "text": [
            "Looking in indexes: https://pypi.org/simple, https://us-python.pkg.dev/colab-wheels/public/simple/\n",
            "Requirement already satisfied: emoji in /usr/local/lib/python3.9/dist-packages (2.2.0)\n"
          ]
        }
      ]
    },
    {
      "cell_type": "code",
      "execution_count": 46,
      "metadata": {
        "colab": {
          "base_uri": "https://localhost:8080/"
        },
        "id": "wPeYo4znPJjz",
        "outputId": "bc24f320-2465-4d93-ab25-fb36ec328a79"
      },
      "outputs": [
        {
          "output_type": "stream",
          "name": "stderr",
          "text": [
            "[nltk_data] Downloading package stopwords to /root/nltk_data...\n",
            "[nltk_data]   Package stopwords is already up-to-date!\n"
          ]
        }
      ],
      "source": [
        "import pandas as pd\n",
        "import numpy as np\n",
        "import re\n",
        "import string\n",
        "import emoji\n",
        "\n",
        "import matplotlib.pyplot as plt\n",
        "import seaborn as sns\n",
        "import plotly.express as px\n",
        "\n",
        "import nltk\n",
        "nltk.download(\"stopwords\")\n",
        "from nltk.corpus import stopwords\n",
        "from sklearn.feature_extraction.text import CountVectorizer\n",
        "from sklearn.decomposition import LatentDirichletAllocation\n",
        "\n",
        "import warnings\n",
        "warnings.filterwarnings(\"ignore\")"
      ]
    },
    {
      "cell_type": "markdown",
      "source": [
        "### Import the data set"
      ],
      "metadata": {
        "id": "J3vjEaaXPsGf"
      }
    },
    {
      "cell_type": "code",
      "source": [
        "df = pd.read_excel(\"/content/drive/MyDrive/datasets/jumbo-data.xlsx\")"
      ],
      "metadata": {
        "id": "zwNb6m7QPrqt"
      },
      "execution_count": 47,
      "outputs": []
    },
    {
      "cell_type": "code",
      "source": [
        "df.head()"
      ],
      "metadata": {
        "id": "rTUPmjUAQcWo"
      },
      "execution_count": null,
      "outputs": []
    },
    {
      "cell_type": "code",
      "source": [
        "# rename the columns for easy typing\n",
        "df.rename(columns={\"Case Number\": \"id\", \"Case Description\": \"descr\", \"Case Origin\": \"source\"}, inplace=True)"
      ],
      "metadata": {
        "id": "YJIGZx4xUshf"
      },
      "execution_count": 49,
      "outputs": []
    },
    {
      "cell_type": "markdown",
      "source": [
        "## Data Profiling"
      ],
      "metadata": {
        "id": "dqva_03TkMHp"
      }
    },
    {
      "cell_type": "code",
      "source": [
        "df.shape"
      ],
      "metadata": {
        "id": "nWZEunixQgBx"
      },
      "execution_count": null,
      "outputs": []
    },
    {
      "cell_type": "code",
      "source": [
        "df.info()"
      ],
      "metadata": {
        "id": "q4tyNWCkRCSV"
      },
      "execution_count": null,
      "outputs": []
    },
    {
      "cell_type": "code",
      "source": [
        "df.describe().T"
      ],
      "metadata": {
        "id": "GOEE8CQNQw51"
      },
      "execution_count": null,
      "outputs": []
    },
    {
      "cell_type": "code",
      "source": [
        "# check for duplicates in the 'descr' column\n",
        "duplicates = df.duplicated(subset=[\"id\" ,\"descr\"])\n",
        "print(\"Number of duplicates:\", duplicates.sum())"
      ],
      "metadata": {
        "id": "ObkTuxDUSdb5"
      },
      "execution_count": null,
      "outputs": []
    },
    {
      "cell_type": "code",
      "source": [
        "df.isnull().sum()"
      ],
      "metadata": {
        "id": "OoYMnMA8Q1XJ",
        "colab": {
          "base_uri": "https://localhost:8080/"
        },
        "outputId": "38481178-3bfc-4cce-8a4a-ba63144501eb"
      },
      "execution_count": 54,
      "outputs": [
        {
          "output_type": "execute_result",
          "data": {
            "text/plain": [
              "id        9\n",
              "descr     5\n",
              "source    9\n",
              "dtype: int64"
            ]
          },
          "metadata": {},
          "execution_count": 54
        }
      ]
    },
    {
      "cell_type": "code",
      "source": [
        "# create a boolean mask of null values\n",
        "mask = df.isnull().any(axis=1)\n",
        "\n",
        "# select the rows that have at least one null value\n",
        "rows_with_null = df[mask]\n",
        "\n",
        "# print the selected rows\n",
        "print(rows_with_null)"
      ],
      "metadata": {
        "id": "jCf0NNyNR7WY",
        "colab": {
          "base_uri": "https://localhost:8080/"
        },
        "outputId": "bd5ba5c8-3427-4f2a-d4bf-4bbe378dded9"
      },
      "execution_count": 55,
      "outputs": [
        {
          "output_type": "stream",
          "name": "stdout",
          "text": [
            "              id                                              descr  source\n",
            "27726  4503153.0                                                NaN  E-mail\n",
            "60314        NaN  ? 1070 Bruxelles / Brussel [cid:image002.png@0...     NaN\n",
            "92512        NaN                                                NaN     NaN\n",
            "92513        NaN  Here you can find the after-movie of last year...     NaN\n",
            "92514        NaN                                                NaN     NaN\n",
            "92515        NaN  Best regards, Florian Hello Jumbo Marketing Te...     NaN\n",
            "92516        NaN                                                NaN     NaN\n",
            "92517        NaN  Here you can find the after-movie of last year...     NaN\n",
            "92518        NaN                                                NaN     NaN\n",
            "92519        NaN  Best regards, Florian Hi you're chatting with ...     NaN\n"
          ]
        }
      ]
    },
    {
      "cell_type": "code",
      "source": [
        "data = df.dropna()"
      ],
      "metadata": {
        "id": "OS8zGzleVgrg"
      },
      "execution_count": 56,
      "outputs": []
    },
    {
      "cell_type": "code",
      "source": [
        "data.shape"
      ],
      "metadata": {
        "colab": {
          "base_uri": "https://localhost:8080/"
        },
        "id": "ogtmjumZYPcp",
        "outputId": "a98c3c5f-ba10-46e4-a322-17267f62e548"
      },
      "execution_count": 57,
      "outputs": [
        {
          "output_type": "execute_result",
          "data": {
            "text/plain": [
              "(95912, 3)"
            ]
          },
          "metadata": {},
          "execution_count": 57
        }
      ]
    },
    {
      "cell_type": "code",
      "source": [
        "data.info()"
      ],
      "metadata": {
        "id": "B8sNiVyQbAfK"
      },
      "execution_count": null,
      "outputs": []
    },
    {
      "cell_type": "code",
      "source": [
        "data[\"source\"].unique()"
      ],
      "metadata": {
        "id": "-rsHrbh9cGGu"
      },
      "execution_count": null,
      "outputs": []
    },
    {
      "cell_type": "markdown",
      "source": [
        "### Visualize from which source are the most ocurring queries."
      ],
      "metadata": {
        "id": "bh4C8I-EcodF"
      }
    },
    {
      "cell_type": "code",
      "source": [
        "plt.figure(figsize=(12,6))\n",
        "sns.countplot(x=\"source\", data=data)"
      ],
      "metadata": {
        "id": "VoHhQgDia2z7"
      },
      "execution_count": null,
      "outputs": []
    },
    {
      "cell_type": "code",
      "source": [
        "counts = data[\"source\"].value_counts()\n",
        "counts"
      ],
      "metadata": {
        "id": "Y9EMzsVijb0X"
      },
      "execution_count": null,
      "outputs": []
    },
    {
      "cell_type": "markdown",
      "source": [
        "### Explore the text distribution"
      ],
      "metadata": {
        "id": "91fgay7nlXlD"
      }
    },
    {
      "cell_type": "code",
      "source": [
        "data[\"text_length\"] = data[\"descr\"].astype(str).apply(len)\n",
        "data[\"text_word_count\"] = data[\"descr\"].apply(lambda x: len(str(x).split()))"
      ],
      "metadata": {
        "id": "Cbsa7k--lMxR"
      },
      "execution_count": 65,
      "outputs": []
    },
    {
      "cell_type": "code",
      "source": [
        "# plot the length of the characters in a case query\n",
        "sns.distplot(data[\"text_length\"])\n",
        "plt.xlim([0, 1000]);\n",
        "plt.xlabel(\"Number of characters in a case description.\");"
      ],
      "metadata": {
        "id": "ivY_FU_GlMvK"
      },
      "execution_count": null,
      "outputs": []
    },
    {
      "cell_type": "code",
      "source": [
        "# plot the number of words in a case query\n",
        "sns.distplot(data[\"text_word_count\"])\n",
        "plt.xlim([0, 100]);\n",
        "plt.xlabel(\"Number of tokens(words) in a case description.\");"
      ],
      "metadata": {
        "id": "HJ2Y5hz1lMss"
      },
      "execution_count": null,
      "outputs": []
    },
    {
      "cell_type": "markdown",
      "source": [
        "### Explore the cases per `Web source`"
      ],
      "metadata": {
        "id": "kVtU52NmmOIW"
      }
    },
    {
      "cell_type": "code",
      "source": [
        "# select the cases which are coming from the 'Web'\n",
        "web_cases = data[data.source.isin([\"Web\"])]\n",
        "web_cases[\"descr\"].head(25)"
      ],
      "metadata": {
        "id": "x1SwyPUnmN5m"
      },
      "execution_count": null,
      "outputs": []
    },
    {
      "cell_type": "code",
      "source": [
        "web_cases[\"descr\"][0]"
      ],
      "metadata": {
        "id": "wbMmox78mNwD"
      },
      "execution_count": null,
      "outputs": []
    },
    {
      "cell_type": "code",
      "source": [
        "web_cases[\"descr\"][235]"
      ],
      "metadata": {
        "id": "6jDuZmyVneZb"
      },
      "execution_count": null,
      "outputs": []
    },
    {
      "cell_type": "code",
      "source": [
        "web_cases[\"descr\"][263]"
      ],
      "metadata": {
        "id": "eT7hjJeLnhwY"
      },
      "execution_count": null,
      "outputs": []
    },
    {
      "cell_type": "code",
      "source": [
        "web_cases[\"descr\"][553]"
      ],
      "metadata": {
        "id": "dsIjl2ehns2r"
      },
      "execution_count": null,
      "outputs": []
    },
    {
      "cell_type": "code",
      "source": [
        "web_cases[\"descr\"][810]"
      ],
      "metadata": {
        "id": "5p2BtH22nNsJ"
      },
      "execution_count": null,
      "outputs": []
    },
    {
      "cell_type": "markdown",
      "source": [
        "### Explore the cases per `Phone source`"
      ],
      "metadata": {
        "id": "6-b42XzFn5b5"
      }
    },
    {
      "cell_type": "code",
      "source": [
        "# select the cases which are coming from the 'Phone'\n",
        "phone_cases = data[data.source.isin([\"Phone\"])]\n",
        "phone_cases[\"descr\"].head(25)"
      ],
      "metadata": {
        "id": "GjV-f9vcn47W"
      },
      "execution_count": null,
      "outputs": []
    },
    {
      "cell_type": "code",
      "source": [
        "phone_cases[\"descr\"][9]"
      ],
      "metadata": {
        "id": "7Ir1bTlzoLEP"
      },
      "execution_count": null,
      "outputs": []
    },
    {
      "cell_type": "code",
      "source": [
        "phone_cases[\"descr\"][18]"
      ],
      "metadata": {
        "id": "8irx4Gdro3hq"
      },
      "execution_count": null,
      "outputs": []
    },
    {
      "cell_type": "code",
      "source": [
        "phone_cases[\"descr\"][28]"
      ],
      "metadata": {
        "id": "tgnMJKJYo3eY"
      },
      "execution_count": null,
      "outputs": []
    },
    {
      "cell_type": "markdown",
      "source": [
        "### Explore the cases per `WhatsApp source`"
      ],
      "metadata": {
        "id": "V-eSGKjupQR4"
      }
    },
    {
      "cell_type": "code",
      "source": [
        "# select the cases which are coming from the 'Phone'\n",
        "whapp_cases = data[data.source.isin([\"WhatsApp\"])]\n",
        "whapp_cases[\"descr\"].head(25)"
      ],
      "metadata": {
        "id": "ozYBP55rpQR6"
      },
      "execution_count": null,
      "outputs": []
    },
    {
      "cell_type": "code",
      "source": [
        "whapp_cases[\"descr\"][2]"
      ],
      "metadata": {
        "id": "u-S4okGopejV"
      },
      "execution_count": null,
      "outputs": []
    },
    {
      "cell_type": "code",
      "source": [
        "whapp_cases[\"descr\"][3]"
      ],
      "metadata": {
        "id": "dtUI5ujOpsHu"
      },
      "execution_count": null,
      "outputs": []
    },
    {
      "cell_type": "code",
      "source": [
        "whapp_cases[\"descr\"][4]"
      ],
      "metadata": {
        "id": "qOJK9JwlpvUY"
      },
      "execution_count": null,
      "outputs": []
    },
    {
      "cell_type": "code",
      "source": [
        "whapp_cases[\"descr\"][6]"
      ],
      "metadata": {
        "id": "whDkvXgrqDyD"
      },
      "execution_count": null,
      "outputs": []
    },
    {
      "cell_type": "code",
      "source": [
        "whapp_cases[\"descr\"][8]"
      ],
      "metadata": {
        "id": "iGzPymBBp5Z2"
      },
      "execution_count": null,
      "outputs": []
    },
    {
      "cell_type": "markdown",
      "source": [
        "### Explore the cases per `E-mail source`"
      ],
      "metadata": {
        "id": "wgGypyH_qQBj"
      }
    },
    {
      "cell_type": "code",
      "source": [
        "# select the cases which are coming from the 'Phone'\n",
        "email_cases = data[data.source.isin([\"E-mail\"])]\n",
        "email_cases[\"descr\"].head(25)"
      ],
      "metadata": {
        "id": "yTXzX04gqQBk"
      },
      "execution_count": null,
      "outputs": []
    },
    {
      "cell_type": "code",
      "source": [
        "email_cases[\"descr\"][34]"
      ],
      "metadata": {
        "id": "qjSJ-nW3qWJl"
      },
      "execution_count": null,
      "outputs": []
    },
    {
      "cell_type": "code",
      "source": [
        "email_cases[\"descr\"][48]"
      ],
      "metadata": {
        "id": "yKAr1JCpqWBX"
      },
      "execution_count": null,
      "outputs": []
    },
    {
      "cell_type": "code",
      "source": [
        "email_cases[\"descr\"][274]"
      ],
      "metadata": {
        "id": "DLV-xX_Yq4B2"
      },
      "execution_count": null,
      "outputs": []
    },
    {
      "cell_type": "code",
      "source": [
        "email_cases[\"descr\"][315]"
      ],
      "metadata": {
        "id": "_OAreQn6qtul"
      },
      "execution_count": null,
      "outputs": []
    }
  ]
}