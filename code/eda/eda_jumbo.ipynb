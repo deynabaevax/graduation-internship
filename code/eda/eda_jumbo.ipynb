{
  "nbformat": 4,
  "nbformat_minor": 0,
  "metadata": {
    "colab": {
      "provenance": [],
      "mount_file_id": "12_PTAfIypELoPUCW1kLwqGDj5FDIVK99",
      "authorship_tag": "ABX9TyNijbc+Zm4I8I+iCtfCM2pA"
    },
    "kernelspec": {
      "name": "python3",
      "display_name": "Python 3"
    },
    "language_info": {
      "name": "python"
    }
  },
  "cells": [
    {
      "cell_type": "markdown",
      "source": [
        "# EDA\n",
        "### Jumbo Data"
      ],
      "metadata": {
        "id": "DIltE9P9PKka"
      }
    },
    {
      "cell_type": "code",
      "source": [
        "from google.colab import drive\n",
        "drive.mount('/content/drive')"
      ],
      "metadata": {
        "colab": {
          "base_uri": "https://localhost:8080/"
        },
        "id": "PCJpwioDgyo1",
        "outputId": "d4a7a840-ebb0-4cfe-ad01-54cd3ab1a66b"
      },
      "execution_count": null,
      "outputs": [
        {
          "output_type": "stream",
          "name": "stdout",
          "text": [
            "Drive already mounted at /content/drive; to attempt to forcibly remount, call drive.mount(\"/content/drive\", force_remount=True).\n"
          ]
        }
      ]
    },
    {
      "cell_type": "markdown",
      "source": [
        "### Import the libraries"
      ],
      "metadata": {
        "id": "sFiUfPM9PQzn"
      }
    },
    {
      "cell_type": "code",
      "source": [
        "!pip install emoji"
      ],
      "metadata": {
        "id": "o2lh6kadP61U"
      },
      "execution_count": null,
      "outputs": []
    },
    {
      "cell_type": "code",
      "execution_count": null,
      "metadata": {
        "id": "wPeYo4znPJjz"
      },
      "outputs": [],
      "source": [
        "import pandas as pd\n",
        "import numpy as np\n",
        "import re\n",
        "import string\n",
        "import emoji\n",
        "\n",
        "import matplotlib.pyplot as plt\n",
        "import seaborn as sns\n",
        "import plotly.express as px\n",
        "\n",
        "import nltk\n",
        "nltk.download(\"stopwords\")\n",
        "from nltk.corpus import stopwords\n",
        "from sklearn.feature_extraction.text import CountVectorizer\n",
        "from sklearn.decomposition import LatentDirichletAllocation\n",
        "\n",
        "import warnings\n",
        "warnings.filterwarnings(\"ignore\")"
      ]
    },
    {
      "cell_type": "markdown",
      "source": [
        "### Import the data set"
      ],
      "metadata": {
        "id": "J3vjEaaXPsGf"
      }
    },
    {
      "cell_type": "code",
      "source": [
        "df = pd.read_excel(\"/content/drive/MyDrive/datasets/jumbo-data.xlsx\")"
      ],
      "metadata": {
        "id": "zwNb6m7QPrqt"
      },
      "execution_count": null,
      "outputs": []
    },
    {
      "cell_type": "code",
      "source": [
        "df.head()"
      ],
      "metadata": {
        "id": "rTUPmjUAQcWo",
        "colab": {
          "base_uri": "https://localhost:8080/",
          "height": 206
        },
        "outputId": "2f911866-5b10-4989-b4e5-c1d084e8657d"
      },
      "execution_count": null,
      "outputs": [
        {
          "output_type": "execute_result",
          "data": {
            "text/plain": [
              "   Case Number                                   Case Description Case Origin\n",
              "0    3349414.0  Mijn vrouw had wat van deze noten in haar kwar...         Web\n",
              "1    4438158.0                  klacht over baas en bazin winkel.       Phone\n",
              "2    4561261.0  Dag, ik had een probleem met mijn bestelling v...    WhatsApp\n",
              "3    4378916.0  Beste heer mevrouw Inmiddels zijn we 3 maanden...    WhatsApp\n",
              "4    4438325.0  Hallo, staan er voedingswaarden vermeld op de ...    WhatsApp"
            ],
            "text/html": [
              "\n",
              "  <div id=\"df-18e6f007-9c1b-4996-b46c-b7d29b324d28\">\n",
              "    <div class=\"colab-df-container\">\n",
              "      <div>\n",
              "<style scoped>\n",
              "    .dataframe tbody tr th:only-of-type {\n",
              "        vertical-align: middle;\n",
              "    }\n",
              "\n",
              "    .dataframe tbody tr th {\n",
              "        vertical-align: top;\n",
              "    }\n",
              "\n",
              "    .dataframe thead th {\n",
              "        text-align: right;\n",
              "    }\n",
              "</style>\n",
              "<table border=\"1\" class=\"dataframe\">\n",
              "  <thead>\n",
              "    <tr style=\"text-align: right;\">\n",
              "      <th></th>\n",
              "      <th>Case Number</th>\n",
              "      <th>Case Description</th>\n",
              "      <th>Case Origin</th>\n",
              "    </tr>\n",
              "  </thead>\n",
              "  <tbody>\n",
              "    <tr>\n",
              "      <th>0</th>\n",
              "      <td>3349414.0</td>\n",
              "      <td>Mijn vrouw had wat van deze noten in haar kwar...</td>\n",
              "      <td>Web</td>\n",
              "    </tr>\n",
              "    <tr>\n",
              "      <th>1</th>\n",
              "      <td>4438158.0</td>\n",
              "      <td>klacht over baas en bazin winkel.</td>\n",
              "      <td>Phone</td>\n",
              "    </tr>\n",
              "    <tr>\n",
              "      <th>2</th>\n",
              "      <td>4561261.0</td>\n",
              "      <td>Dag, ik had een probleem met mijn bestelling v...</td>\n",
              "      <td>WhatsApp</td>\n",
              "    </tr>\n",
              "    <tr>\n",
              "      <th>3</th>\n",
              "      <td>4378916.0</td>\n",
              "      <td>Beste heer mevrouw Inmiddels zijn we 3 maanden...</td>\n",
              "      <td>WhatsApp</td>\n",
              "    </tr>\n",
              "    <tr>\n",
              "      <th>4</th>\n",
              "      <td>4438325.0</td>\n",
              "      <td>Hallo, staan er voedingswaarden vermeld op de ...</td>\n",
              "      <td>WhatsApp</td>\n",
              "    </tr>\n",
              "  </tbody>\n",
              "</table>\n",
              "</div>\n",
              "      <button class=\"colab-df-convert\" onclick=\"convertToInteractive('df-18e6f007-9c1b-4996-b46c-b7d29b324d28')\"\n",
              "              title=\"Convert this dataframe to an interactive table.\"\n",
              "              style=\"display:none;\">\n",
              "        \n",
              "  <svg xmlns=\"http://www.w3.org/2000/svg\" height=\"24px\"viewBox=\"0 0 24 24\"\n",
              "       width=\"24px\">\n",
              "    <path d=\"M0 0h24v24H0V0z\" fill=\"none\"/>\n",
              "    <path d=\"M18.56 5.44l.94 2.06.94-2.06 2.06-.94-2.06-.94-.94-2.06-.94 2.06-2.06.94zm-11 1L8.5 8.5l.94-2.06 2.06-.94-2.06-.94L8.5 2.5l-.94 2.06-2.06.94zm10 10l.94 2.06.94-2.06 2.06-.94-2.06-.94-.94-2.06-.94 2.06-2.06.94z\"/><path d=\"M17.41 7.96l-1.37-1.37c-.4-.4-.92-.59-1.43-.59-.52 0-1.04.2-1.43.59L10.3 9.45l-7.72 7.72c-.78.78-.78 2.05 0 2.83L4 21.41c.39.39.9.59 1.41.59.51 0 1.02-.2 1.41-.59l7.78-7.78 2.81-2.81c.8-.78.8-2.07 0-2.86zM5.41 20L4 18.59l7.72-7.72 1.47 1.35L5.41 20z\"/>\n",
              "  </svg>\n",
              "      </button>\n",
              "      \n",
              "  <style>\n",
              "    .colab-df-container {\n",
              "      display:flex;\n",
              "      flex-wrap:wrap;\n",
              "      gap: 12px;\n",
              "    }\n",
              "\n",
              "    .colab-df-convert {\n",
              "      background-color: #E8F0FE;\n",
              "      border: none;\n",
              "      border-radius: 50%;\n",
              "      cursor: pointer;\n",
              "      display: none;\n",
              "      fill: #1967D2;\n",
              "      height: 32px;\n",
              "      padding: 0 0 0 0;\n",
              "      width: 32px;\n",
              "    }\n",
              "\n",
              "    .colab-df-convert:hover {\n",
              "      background-color: #E2EBFA;\n",
              "      box-shadow: 0px 1px 2px rgba(60, 64, 67, 0.3), 0px 1px 3px 1px rgba(60, 64, 67, 0.15);\n",
              "      fill: #174EA6;\n",
              "    }\n",
              "\n",
              "    [theme=dark] .colab-df-convert {\n",
              "      background-color: #3B4455;\n",
              "      fill: #D2E3FC;\n",
              "    }\n",
              "\n",
              "    [theme=dark] .colab-df-convert:hover {\n",
              "      background-color: #434B5C;\n",
              "      box-shadow: 0px 1px 3px 1px rgba(0, 0, 0, 0.15);\n",
              "      filter: drop-shadow(0px 1px 2px rgba(0, 0, 0, 0.3));\n",
              "      fill: #FFFFFF;\n",
              "    }\n",
              "  </style>\n",
              "\n",
              "      <script>\n",
              "        const buttonEl =\n",
              "          document.querySelector('#df-18e6f007-9c1b-4996-b46c-b7d29b324d28 button.colab-df-convert');\n",
              "        buttonEl.style.display =\n",
              "          google.colab.kernel.accessAllowed ? 'block' : 'none';\n",
              "\n",
              "        async function convertToInteractive(key) {\n",
              "          const element = document.querySelector('#df-18e6f007-9c1b-4996-b46c-b7d29b324d28');\n",
              "          const dataTable =\n",
              "            await google.colab.kernel.invokeFunction('convertToInteractive',\n",
              "                                                     [key], {});\n",
              "          if (!dataTable) return;\n",
              "\n",
              "          const docLinkHtml = 'Like what you see? Visit the ' +\n",
              "            '<a target=\"_blank\" href=https://colab.research.google.com/notebooks/data_table.ipynb>data table notebook</a>'\n",
              "            + ' to learn more about interactive tables.';\n",
              "          element.innerHTML = '';\n",
              "          dataTable['output_type'] = 'display_data';\n",
              "          await google.colab.output.renderOutput(dataTable, element);\n",
              "          const docLink = document.createElement('div');\n",
              "          docLink.innerHTML = docLinkHtml;\n",
              "          element.appendChild(docLink);\n",
              "        }\n",
              "      </script>\n",
              "    </div>\n",
              "  </div>\n",
              "  "
            ]
          },
          "metadata": {},
          "execution_count": 5
        }
      ]
    },
    {
      "cell_type": "code",
      "source": [
        "# rename the columns for easy typing\n",
        "df.rename(columns={\"Case Number\": \"id\", \"Case Description\": \"descr\", \"Case Origin\": \"source\"}, inplace=True)"
      ],
      "metadata": {
        "id": "YJIGZx4xUshf"
      },
      "execution_count": null,
      "outputs": []
    },
    {
      "cell_type": "markdown",
      "source": [
        "## Data Profiling"
      ],
      "metadata": {
        "id": "dqva_03TkMHp"
      }
    },
    {
      "cell_type": "code",
      "source": [
        "df.shape"
      ],
      "metadata": {
        "id": "nWZEunixQgBx",
        "colab": {
          "base_uri": "https://localhost:8080/"
        },
        "outputId": "affbd718-e85b-4689-a803-d5df429e9e1f"
      },
      "execution_count": null,
      "outputs": [
        {
          "output_type": "execute_result",
          "data": {
            "text/plain": [
              "(95922, 3)"
            ]
          },
          "metadata": {},
          "execution_count": 7
        }
      ]
    },
    {
      "cell_type": "code",
      "source": [
        "df.info()"
      ],
      "metadata": {
        "id": "q4tyNWCkRCSV",
        "colab": {
          "base_uri": "https://localhost:8080/"
        },
        "outputId": "d85cf8df-9e20-428e-91f5-324e1cc97379"
      },
      "execution_count": null,
      "outputs": [
        {
          "output_type": "stream",
          "name": "stdout",
          "text": [
            "<class 'pandas.core.frame.DataFrame'>\n",
            "RangeIndex: 95922 entries, 0 to 95921\n",
            "Data columns (total 3 columns):\n",
            " #   Column  Non-Null Count  Dtype  \n",
            "---  ------  --------------  -----  \n",
            " 0   id      95913 non-null  float64\n",
            " 1   descr   95917 non-null  object \n",
            " 2   source  95913 non-null  object \n",
            "dtypes: float64(1), object(2)\n",
            "memory usage: 2.2+ MB\n"
          ]
        }
      ]
    },
    {
      "cell_type": "code",
      "source": [
        "# check for duplicates in the 'descr' column\n",
        "duplicates = df.duplicated(subset=[\"id\" ,\"descr\"])\n",
        "print(\"Number of duplicates:\", duplicates.sum())"
      ],
      "metadata": {
        "id": "ObkTuxDUSdb5",
        "colab": {
          "base_uri": "https://localhost:8080/"
        },
        "outputId": "1c576325-c0c5-483c-ee5a-c746acd359f7"
      },
      "execution_count": null,
      "outputs": [
        {
          "output_type": "stream",
          "name": "stdout",
          "text": [
            "Number of duplicates: 7350\n"
          ]
        }
      ]
    },
    {
      "cell_type": "code",
      "source": [
        "df.isnull().sum()"
      ],
      "metadata": {
        "id": "OoYMnMA8Q1XJ",
        "colab": {
          "base_uri": "https://localhost:8080/"
        },
        "outputId": "47e27705-88f5-4df3-e30f-e624f7fd0953"
      },
      "execution_count": null,
      "outputs": [
        {
          "output_type": "execute_result",
          "data": {
            "text/plain": [
              "id        9\n",
              "descr     5\n",
              "source    9\n",
              "dtype: int64"
            ]
          },
          "metadata": {},
          "execution_count": 25
        }
      ]
    },
    {
      "cell_type": "code",
      "source": [
        "# create a boolean mask of null values\n",
        "mask = df.isnull().any(axis=1)\n",
        "\n",
        "# select the rows that have at least one null value\n",
        "rows_with_null = df[mask]\n",
        "\n",
        "# print the selected rows\n",
        "print(rows_with_null)"
      ],
      "metadata": {
        "id": "jCf0NNyNR7WY",
        "colab": {
          "base_uri": "https://localhost:8080/"
        },
        "outputId": "532a26e8-a480-4c11-c174-343ab3930c83"
      },
      "execution_count": null,
      "outputs": [
        {
          "output_type": "stream",
          "name": "stdout",
          "text": [
            "              id                                              descr  source\n",
            "27726  4503153.0                                                NaN  E-mail\n",
            "60314        NaN  ? 1070 Bruxelles / Brussel [cid:image002.png@0...     NaN\n",
            "92512        NaN                                                NaN     NaN\n",
            "92513        NaN  Here you can find the after-movie of last year...     NaN\n",
            "92514        NaN                                                NaN     NaN\n",
            "92515        NaN  Best regards, Florian Hello Jumbo Marketing Te...     NaN\n",
            "92516        NaN                                                NaN     NaN\n",
            "92517        NaN  Here you can find the after-movie of last year...     NaN\n",
            "92518        NaN                                                NaN     NaN\n",
            "92519        NaN  Best regards, Florian Hi you're chatting with ...     NaN\n"
          ]
        }
      ]
    },
    {
      "cell_type": "code",
      "source": [
        "data = df.dropna()"
      ],
      "metadata": {
        "id": "OS8zGzleVgrg"
      },
      "execution_count": null,
      "outputs": []
    },
    {
      "cell_type": "code",
      "source": [
        "data.shape"
      ],
      "metadata": {
        "colab": {
          "base_uri": "https://localhost:8080/"
        },
        "id": "ogtmjumZYPcp",
        "outputId": "18c51c0e-eb6d-4740-a9f8-bc01148842d2"
      },
      "execution_count": null,
      "outputs": [
        {
          "output_type": "execute_result",
          "data": {
            "text/plain": [
              "(95912, 3)"
            ]
          },
          "metadata": {},
          "execution_count": 16
        }
      ]
    },
    {
      "cell_type": "code",
      "source": [
        "data.info()"
      ],
      "metadata": {
        "id": "B8sNiVyQbAfK",
        "colab": {
          "base_uri": "https://localhost:8080/"
        },
        "outputId": "77cd1b91-0f04-4237-e8b7-ae1a757c3b45"
      },
      "execution_count": null,
      "outputs": [
        {
          "output_type": "stream",
          "name": "stdout",
          "text": [
            "<class 'pandas.core.frame.DataFrame'>\n",
            "Int64Index: 95912 entries, 0 to 95921\n",
            "Data columns (total 3 columns):\n",
            " #   Column  Non-Null Count  Dtype  \n",
            "---  ------  --------------  -----  \n",
            " 0   id      95912 non-null  float64\n",
            " 1   descr   95912 non-null  object \n",
            " 2   source  95912 non-null  object \n",
            "dtypes: float64(1), object(2)\n",
            "memory usage: 2.9+ MB\n"
          ]
        }
      ]
    },
    {
      "cell_type": "code",
      "source": [
        "data[\"source\"].unique()"
      ],
      "metadata": {
        "id": "-rsHrbh9cGGu",
        "colab": {
          "base_uri": "https://localhost:8080/"
        },
        "outputId": "8864119d-f2dd-43f4-ca29-cd4af433d294"
      },
      "execution_count": null,
      "outputs": [
        {
          "output_type": "execute_result",
          "data": {
            "text/plain": [
              "array(['Web', 'Phone', 'WhatsApp', 'E-mail', 'Telefoon', 'Twitter',\n",
              "       'Letter', 'Facebook', 'Customer - Chat'], dtype=object)"
            ]
          },
          "metadata": {},
          "execution_count": 18
        }
      ]
    },
    {
      "cell_type": "markdown",
      "source": [
        "### Visualize from which source are the most ocurring queries."
      ],
      "metadata": {
        "id": "bh4C8I-EcodF"
      }
    },
    {
      "cell_type": "code",
      "source": [
        "plt.figure(figsize=(12,6))\n",
        "sns.countplot(x=\"source\", data=data)"
      ],
      "metadata": {
        "id": "VoHhQgDia2z7",
        "colab": {
          "base_uri": "https://localhost:8080/",
          "height": 562
        },
        "outputId": "02e56a23-9074-4460-fdd3-e3aa2b3e121d"
      },
      "execution_count": null,
      "outputs": [
        {
          "output_type": "execute_result",
          "data": {
            "text/plain": [
              "<Axes: xlabel='source', ylabel='count'>"
            ]
          },
          "metadata": {},
          "execution_count": 19
        },
        {
          "output_type": "display_data",
          "data": {
            "text/plain": [
              "<Figure size 1200x600 with 1 Axes>"
            ],
            "image/png": "[encoded data removed]"
          },
          "metadata": {}
        }
      ]
    },
    {
      "cell_type": "code",
      "source": [
        "counts = data[\"source\"].value_counts()\n",
        "counts"
      ],
      "metadata": {
        "id": "Y9EMzsVijb0X",
        "colab": {
          "base_uri": "https://localhost:8080/"
        },
        "outputId": "d4cef568-6871-45a9-e046-25b03ca92cac"
      },
      "execution_count": null,
      "outputs": [
        {
          "output_type": "execute_result",
          "data": {
            "text/plain": [
              "WhatsApp           47976\n",
              "Phone              40691\n",
              "E-mail              5267\n",
              "Web                 1203\n",
              "Letter               413\n",
              "Twitter              289\n",
              "Telefoon              58\n",
              "Facebook              14\n",
              "Customer - Chat        1\n",
              "Name: source, dtype: int64"
            ]
          },
          "metadata": {},
          "execution_count": 20
        }
      ]
    },
    {
      "cell_type": "markdown",
      "source": [
        "### Explore the text distribution"
      ],
      "metadata": {
        "id": "91fgay7nlXlD"
      }
    },
    {
      "cell_type": "code",
      "source": [
        "data[\"text_length\"] = data[\"descr\"].astype(str).apply(len)\n",
        "data[\"text_word_count\"] = data[\"descr\"].apply(lambda x: len(str(x).split()))"
      ],
      "metadata": {
        "id": "Cbsa7k--lMxR"
      },
      "execution_count": null,
      "outputs": []
    },
    {
      "cell_type": "code",
      "source": [
        "# plot the length of the characters in a case query\n",
        "sns.distplot(data[\"text_length\"])\n",
        "plt.xlim([0, 1000]);\n",
        "plt.xlabel(\"Number of characters in a case description.\");"
      ],
      "metadata": {
        "id": "ivY_FU_GlMvK",
        "colab": {
          "base_uri": "https://localhost:8080/",
          "height": 279
        },
        "outputId": "b14930eb-b377-4468-f68e-cdc477c4d9dc"
      },
      "execution_count": null,
      "outputs": [
        {
          "output_type": "display_data",
          "data": {
            "text/plain": [
              "<Figure size 432x288 with 1 Axes>"
            ],
            "image/png": "[encoded data removed]"
          },
          "metadata": {
            "needs_background": "light"
          }
        }
      ]
    },
    {
      "cell_type": "code",
      "source": [
        "# plot the number of words in a case query\n",
        "sns.distplot(data[\"text_word_count\"])\n",
        "plt.xlim([0, 100]);\n",
        "plt.xlabel(\"Number of tokens(words) in a case description.\");"
      ],
      "metadata": {
        "id": "HJ2Y5hz1lMss",
        "colab": {
          "base_uri": "https://localhost:8080/",
          "height": 279
        },
        "outputId": "2cc8b94c-9e0d-4693-9f64-ab1f3e589d42"
      },
      "execution_count": null,
      "outputs": [
        {
          "output_type": "display_data",
          "data": {
            "text/plain": [
              "<Figure size 432x288 with 1 Axes>"
            ],
            "image/png": "[encoded data removed]"
          },
          "metadata": {
            "needs_background": "light"
          }
        }
      ]
    },
    {
      "cell_type": "markdown",
      "source": [
        "### Explore the cases per `Web source`"
      ],
      "metadata": {
        "id": "kVtU52NmmOIW"
      }
    },
    {
      "cell_type": "code",
      "source": [
        "# select the cases which are coming from the 'Web'\n",
        "web_cases = data[data.source.isin([\"Web\"])]\n",
        "web_cases[\"descr\"].head(25)"
      ],
      "metadata": {
        "id": "x1SwyPUnmN5m",
        "colab": {
          "base_uri": "https://localhost:8080/"
        },
        "outputId": "9e628b8c-b309-4b76-91f1-218224591531"
      },
      "execution_count": null,
      "outputs": [
        {
          "output_type": "execute_result",
          "data": {
            "text/plain": [
              "0      Mijn vrouw had wat van deze noten in haar kwar...\n",
              "5      Beste Jumbo, wij zijn al heel lang klant bij h...\n",
              "15     Gisteravond is een hele krat met boodschappen ...\n",
              "25     Goedemorgen. Ik had een paar weken geleden bes...\n",
              "50     Ik heb ruim 20 minuten moeten wachten voordat ...\n",
              "155    Het tijdstip van bezorging zou tussen 8.00 en ...\n",
              "175    Beste, Bij mijn online bestelling had ik Oedip...\n",
              "235    Deze klant heeft een terugbetaling van statieg...\n",
              "263    Deze klant heeft een terugbetaling van statieg...\n",
              "294    Deze klant heeft een terugbetaling van statieg...\n",
              "527    Deze klant heeft een terugbetaling van statieg...\n",
              "544    Deze klant heeft een terugbetaling van statieg...\n",
              "553    Deze klant heeft een terugbetaling van statieg...\n",
              "620    Ik koop regelmatig de Jumbo XL inlegkruisjes. ...\n",
              "630    Ik heb een tijd geleden kontakt gehad met de k...\n",
              "645    Jumbo had actie van leeuwenzegel frituurvet 50...\n",
              "665    Deze klant heeft een terugbetaling van statieg...\n",
              "695    Smelt chocolade melk jumbo huismerk heeft alle...\n",
              "705    I ordered several Graze items to get free deli...\n",
              "788    Deze klant heeft een terugbetaling van statieg...\n",
              "800    Voor de 4de keer laten thuisbezorgen. Kan niet...\n",
              "810    Bestelnummer 6029494884: bestelkosten ten onre...\n",
              "833    Deze klant heeft een terugbetaling van statieg...\n",
              "840    Ik was er eigenlijk van overtuigd dat ik produ...\n",
              "880    Wij hebben voor vandaag maandag 4 juli boodsch...\n",
              "Name: descr, dtype: object"
            ]
          },
          "metadata": {},
          "execution_count": 22
        }
      ]
    },
    {
      "cell_type": "code",
      "source": [
        "web_cases[\"descr\"][0]"
      ],
      "metadata": {
        "id": "wbMmox78mNwD",
        "colab": {
          "base_uri": "https://localhost:8080/",
          "height": 36
        },
        "outputId": "9f651f43-155e-40a0-c11b-8f8b13874de4"
      },
      "execution_count": null,
      "outputs": [
        {
          "output_type": "execute_result",
          "data": {
            "text/plain": [
              "'Mijn vrouw had wat van deze noten in haar kwark gedaan en beet vervolgens bijna haar kies kapot! Normaal valt dit wel op maar omdat het nu in de kwark zat viel niet niet op.'"
            ],
            "application/vnd.google.colaboratory.intrinsic+json": {
              "type": "string"
            }
          },
          "metadata": {},
          "execution_count": 23
        }
      ]
    },
    {
      "cell_type": "code",
      "source": [
        "web_cases[\"descr\"][553]"
      ],
      "metadata": {
        "id": "dsIjl2ehns2r",
        "colab": {
          "base_uri": "https://localhost:8080/",
          "height": 109
        },
        "outputId": "4acf472b-31c5-4e16-df99-43c383b4a787"
      },
      "execution_count": null,
      "outputs": [
        {
          "output_type": "execute_result",
          "data": {
            "text/plain": [
              "'Deze klant heeft een terugbetaling van statiegeld aangevraagd voor: 1 x Jumbo boodschappenkrat. Unitprijs: 5 EUR. Totale prijs: 5 EUR. 4 x lege fles frisdrank. Unitprijs: 0.25 EUR. Totale prijs: 1.00 EUR. 3 x Plastic fles 0,25L - 0,5L. Unitprijs: 0.15 EUR. Totale prijs: 0.45 EUR. 1 x volle krat bier 18/24 fles / campina. Unitprijs: 3.9 EUR. Totale prijs: 3.9 EUR. 1. Doe een terugbetaling voor deze artikelen op statiegeldartikelen (géén producten) met dezelfde prijs in de huidige bestelling. 2. Voor artikelen die niet in de huidige bestelling zitten, doe een terugbetaling op statiegeldartikelen (géén producten) met dezelfde prijs in een eerdere bestelling. 3. Maak een GOGW aan voor de resterende statiegeldartikelen. 4. Stuur een handmatige ipv automatische e-mail naar de klant om uit te leggen hoe ze hun geld terugkrijgen.'"
            ],
            "application/vnd.google.colaboratory.intrinsic+json": {
              "type": "string"
            }
          },
          "metadata": {},
          "execution_count": 26
        }
      ]
    },
    {
      "cell_type": "code",
      "source": [
        "web_cases[\"descr\"][810]"
      ],
      "metadata": {
        "id": "5p2BtH22nNsJ",
        "colab": {
          "base_uri": "https://localhost:8080/",
          "height": 36
        },
        "outputId": "72193c68-1783-4968-a04c-7805f8db21e3"
      },
      "execution_count": null,
      "outputs": [
        {
          "output_type": "execute_result",
          "data": {
            "text/plain": [
              "'Bestelnummer 6029494884: bestelkosten ten onrechte in rekening gebracht. Mvg Alie Kleinhaarhuis'"
            ],
            "application/vnd.google.colaboratory.intrinsic+json": {
              "type": "string"
            }
          },
          "metadata": {},
          "execution_count": 27
        }
      ]
    },
    {
      "cell_type": "markdown",
      "source": [
        "### Explore the cases per `Phone source`"
      ],
      "metadata": {
        "id": "6-b42XzFn5b5"
      }
    },
    {
      "cell_type": "code",
      "source": [
        "# select the cases which are coming from the 'Phone'\n",
        "phone_cases = data[data.source.isin([\"Phone\"])]\n",
        "phone_cases[\"descr\"].head(25)"
      ],
      "metadata": {
        "id": "GjV-f9vcn47W",
        "colab": {
          "base_uri": "https://localhost:8080/"
        },
        "outputId": "db8a7ccf-1d66-4d42-8b42-a0aef6df261d"
      },
      "execution_count": null,
      "outputs": [
        {
          "output_type": "execute_result",
          "data": {
            "text/plain": [
              "1                     klacht over baas en bazin winkel.\n",
              "9     Kredietlimiet ?1.00 Bestedingsruimte ?-25.02 8...\n",
              "10    bezorger door de heg gereden. mail gestuurd. 1...\n",
              "13                       Klant belt wacht op bestelling\n",
              "18    Klant belt, bestelling is vertraagd maar heeft...\n",
              "20                 belt over een bestelling van vandaag\n",
              "23                 klant heeft verkeerde krat ontvangen\n",
              "24            Klant had een terug betaling aangevraagd,\n",
              "28    Klant belt vraag is waarom de Remis fritesaus ...\n",
              "29          Vragen over pas en account en punten sparen\n",
              "30                             betalingslimiet verhogen\n",
              "31    wij zijn een stichting en andere lokaties hebb...\n",
              "33    kl geeft aan dat haar account geblokkeerd is d...\n",
              "37    Kl wilde weten hoe ze de bestelling moest beta...\n",
              "39                       vraagt waar de bezorger blijft\n",
              "40    bestelling komt 5u maar kl kan niet thuis zijn...\n",
              "41    Klant belde en gaf aan dat ze zich bijna heeft...\n",
              "44        vraag of haar bestelling goed is doorgekomen.\n",
              "45                       Bestelling wijzigen na cutt of\n",
              "46                Klant wilt graag op rekening betalen.\n",
              "47                           te weinig bestedingsruimte\n",
              "53    Klant heeft een berichtje gehad waardoor haar ...\n",
              "54                             hoelaat komt de bezorger\n",
              "56                                           bestelling\n",
              "57    Gebruikersnaam: M. Willemsen Consultancy E-mai...\n",
              "Name: descr, dtype: object"
            ]
          },
          "metadata": {},
          "execution_count": 28
        }
      ]
    },
    {
      "cell_type": "code",
      "source": [
        "phone_cases[\"descr\"][9]"
      ],
      "metadata": {
        "id": "7Ir1bTlzoLEP",
        "colab": {
          "base_uri": "https://localhost:8080/",
          "height": 36
        },
        "outputId": "0c5dc65f-d06f-44ef-9c19-a248bb448692"
      },
      "execution_count": null,
      "outputs": [
        {
          "output_type": "execute_result",
          "data": {
            "text/plain": [
              "'Kredietlimiet ?1.00 Bestedingsruimte ?-25.02 8010446 klopt het dat dit bedrag nog openstaat en zo ja met welke gegevens kan ik de klant deze laten overmaken ?'"
            ],
            "application/vnd.google.colaboratory.intrinsic+json": {
              "type": "string"
            }
          },
          "metadata": {},
          "execution_count": 29
        }
      ]
    },
    {
      "cell_type": "code",
      "source": [
        "phone_cases[\"descr\"][18]"
      ],
      "metadata": {
        "id": "8irx4Gdro3hq",
        "colab": {
          "base_uri": "https://localhost:8080/",
          "height": 54
        },
        "outputId": "17973955-5674-4573-9f84-4f12f7ebe1b2"
      },
      "execution_count": null,
      "outputs": [
        {
          "output_type": "execute_result",
          "data": {
            "text/plain": [
              "'Klant belt, bestelling is vertraagd maar heeft boodschappen echt z.s.m. nodig. Collega zou hebben gezegd dat een volgende bezorger dit oplost? Aangegeven dat de bezorger het niet kon vinden maar terug rijdt. Wil notitie laten maken dat als ze tussen 8 en 10 levering besteld, het dan ook geleverd wordt. Klant belt weer is nog steeds niet bezorgd'"
            ],
            "application/vnd.google.colaboratory.intrinsic+json": {
              "type": "string"
            }
          },
          "metadata": {},
          "execution_count": 30
        }
      ]
    },
    {
      "cell_type": "code",
      "source": [
        "phone_cases[\"descr\"][28]"
      ],
      "metadata": {
        "id": "tgnMJKJYo3eY",
        "colab": {
          "base_uri": "https://localhost:8080/",
          "height": 36
        },
        "outputId": "a42c45d3-61e6-4cd5-fb4e-03564ea45a7b"
      },
      "execution_count": null,
      "outputs": [
        {
          "output_type": "execute_result",
          "data": {
            "text/plain": [
              "'Klant belt vraag is waarom de Remis fritesaus Classic 1000ml het emmertje uit het online assortiment is'"
            ],
            "application/vnd.google.colaboratory.intrinsic+json": {
              "type": "string"
            }
          },
          "metadata": {},
          "execution_count": 31
        }
      ]
    },
    {
      "cell_type": "markdown",
      "source": [
        "### Explore the cases per `WhatsApp source`"
      ],
      "metadata": {
        "id": "V-eSGKjupQR4"
      }
    },
    {
      "cell_type": "code",
      "source": [
        "# select the cases which are coming from the 'Phone'\n",
        "whapp_cases = data[data.source.isin([\"WhatsApp\"])]\n",
        "whapp_cases[\"descr\"].head(25)"
      ],
      "metadata": {
        "id": "ozYBP55rpQR6",
        "colab": {
          "base_uri": "https://localhost:8080/"
        },
        "outputId": "61258318-0400-41b2-dddc-73ec25c6cf64"
      },
      "execution_count": null,
      "outputs": [
        {
          "output_type": "execute_result",
          "data": {
            "text/plain": [
              "2     Dag, ik had een probleem met mijn bestelling v...\n",
              "3     Beste heer mevrouw Inmiddels zijn we 3 maanden...\n",
              "4     Hallo, staan er voedingswaarden vermeld op de ...\n",
              "6     Bij Bestelling: 6057976661 had ik een servicec...\n",
              "7     Hi! Ik heb mijn bestelling net ontvangen. Ik h...\n",
              "8     Hello, is it possible to have this conversatio...\n",
              "11    Hallo ik wil even door geven dat ik morgen een...\n",
              "12    Hallo Jumbo! Ik probeer artikelen aan mijn bes...\n",
              "14    Goedenmiddag. Ik had 4 repen verkade besteld 1...\n",
              "16    Best Jumbo, ik heb nog geen terug betaling ont...\n",
              "17    Goede morgen ik wacht als sinds 8:00 op mijn b...\n",
              "19    Hoi Wij missen een aantal producten bij onze b...\n",
              "21    Goedemiddag, de app geeft geen besteltijd meer...\n",
              "22    Goedenavond, het is al niet meer nodig, ze hee...\n",
              "26    Ik ben klaar met mijn boodschappenlijst maar e...\n",
              "27    Volgens mij zitten de gratis producten er niet...\n",
              "32    Hallo, ik probeer al een tijdje een online bes...\n",
              "35    Goedendag, ik ben benieuwd waar ik mijn nr van...\n",
              "36    Dit heb ik gedaan Op welk pasnummer worden ze ...\n",
              "38    Wij willen online bestellen. Hebben een code v...\n",
              "42    Hallo, ik mis twee producten in jullie assorti...\n",
              "43    Goedenavond, Vanavond bij het uitpakken van de...\n",
              "51    Goedemorgen! Graag zou ik mijn pas willen kopp...\n",
              "52    Hallo, De punten van de extra pas zijn niet bi...\n",
              "55    Vraagje, ik heb nog geen rekening van de boods...\n",
              "Name: descr, dtype: object"
            ]
          },
          "metadata": {},
          "execution_count": 21
        }
      ]
    },
    {
      "cell_type": "code",
      "source": [
        "whapp_cases[\"descr\"][2]"
      ],
      "metadata": {
        "id": "u-S4okGopejV",
        "colab": {
          "base_uri": "https://localhost:8080/",
          "height": 91
        },
        "outputId": "bc9a4435-ec1b-4589-8a6c-6e7163de55d1"
      },
      "execution_count": null,
      "outputs": [
        {
          "output_type": "execute_result",
          "data": {
            "text/plain": [
              "'Dag, ik had een probleem met mijn bestelling van 14/2/23 gemeld. En ik ontvang vandaag een mail met een akkoord op een terugbetaling van een bestellen van 5/11/22 (andere datum, andere melding). Denk dat er iets niet goed gaat?? Hallo Antoinette , je chat met Rubin. Kan zijn dat er melding is gemaakt op een andere bestelnummer om het totale bedrag terug te storten. Maar heb je een screenshot? Dan kan ik met je meekijken, ik hoor graag van je. Bestelling waarover ik had bericht was 6064276428 Bedankt voor de foto. Volgens het systeem is te zien dat er een fout is gemaakt met de datum.Het gaat om hetzelfde bedrag 😊. Ik hoop je voldoende te hebben geinformeerd. Fijne avond!'"
            ],
            "application/vnd.google.colaboratory.intrinsic+json": {
              "type": "string"
            }
          },
          "metadata": {},
          "execution_count": 33
        }
      ]
    },
    {
      "cell_type": "code",
      "source": [
        "whapp_cases[\"descr\"][3]"
      ],
      "metadata": {
        "id": "dtUI5ujOpsHu",
        "colab": {
          "base_uri": "https://localhost:8080/",
          "height": 36
        },
        "outputId": "12718cf7-0384-4066-9312-7d5458897d77"
      },
      "execution_count": null,
      "outputs": [
        {
          "output_type": "execute_result",
          "data": {
            "text/plain": [
              "'Beste heer mevrouw Inmiddels zijn we 3 maanden verder en heb ik nog steeds geen race auto ontvangen. Duurt nu wel weg lang Hoop hem toch snel te ontvangen Mvg Daniëlle'"
            ],
            "application/vnd.google.colaboratory.intrinsic+json": {
              "type": "string"
            }
          },
          "metadata": {},
          "execution_count": 34
        }
      ]
    },
    {
      "cell_type": "code",
      "source": [
        "whapp_cases[\"descr\"][4]"
      ],
      "metadata": {
        "id": "qOJK9JwlpvUY",
        "colab": {
          "base_uri": "https://localhost:8080/",
          "height": 54
        },
        "outputId": "41e6485a-cc05-4f16-e00b-5dc91fef72b8"
      },
      "execution_count": null,
      "outputs": [
        {
          "output_type": "execute_result",
          "data": {
            "text/plain": [
              "'Hallo, staan er voedingswaarden vermeld op de flessen wijn die u verkoopt? Hallo, je chat met Sharon. Bedankt voor je bericht. Nee, niet volledig. Je kan dit navragen in de winkel en anders kunnen wij dit voor je opzoeken. Fijne dag. 😊 Ok bedankt, jij ook een fijne dag! Groetjes Greet Dankjewel!'"
            ],
            "application/vnd.google.colaboratory.intrinsic+json": {
              "type": "string"
            }
          },
          "metadata": {},
          "execution_count": 35
        }
      ]
    },
    {
      "cell_type": "code",
      "source": [
        "whapp_cases[\"descr\"][6]"
      ],
      "metadata": {
        "id": "whDkvXgrqDyD",
        "colab": {
          "base_uri": "https://localhost:8080/",
          "height": 54
        },
        "outputId": "756d0ddd-d163-4d8b-c1f6-50b6646a1667"
      },
      "execution_count": null,
      "outputs": [
        {
          "output_type": "execute_result",
          "data": {
            "text/plain": [
              "'Bij Bestelling: 6057976661 had ik een servicecode ingevuld voor 5 euro korting tegen inlevering van 1000 punten. Deze 5,00 staat niet op de bon vermeld, is er niet getrokken terwijl deze bij het totaal verkregen korting wel is meegeteld. Laat maar, ik zie net dat het in het totaal wel te zien is. Het staat er alleen niet apart op vermeld. Oke toppie👍. Fijne dag.'"
            ],
            "application/vnd.google.colaboratory.intrinsic+json": {
              "type": "string"
            }
          },
          "metadata": {},
          "execution_count": 36
        }
      ]
    },
    {
      "cell_type": "code",
      "source": [
        "whapp_cases[\"descr\"][8]"
      ],
      "metadata": {
        "id": "iGzPymBBp5Z2",
        "colab": {
          "base_uri": "https://localhost:8080/",
          "height": 73
        },
        "outputId": "473470db-a858-4222-ae1c-dba15666b847"
      },
      "execution_count": null,
      "outputs": [
        {
          "output_type": "execute_result",
          "data": {
            "text/plain": [
              "\"Hello, is it possible to have this conversation in english? Hello! I have made a refund request on Jumbo. I would like to cancel it as the delivery man came back and brought the missing items within an hour. I could not find out how to do that as I have difficulty translating the website into english Hello your chat with Raffaela. Good of you to send a message. Do you have an order number for me? Yes just a minute! 6058655116 this is the order number for the order :) by the way, will I get any points from this order? Okay let's get it out. Have a nice evening\""
            ],
            "application/vnd.google.colaboratory.intrinsic+json": {
              "type": "string"
            }
          },
          "metadata": {},
          "execution_count": 37
        }
      ]
    },
    {
      "cell_type": "code",
      "source": [
        "whapp_cases.isnull().sum()"
      ],
      "metadata": {
        "colab": {
          "base_uri": "https://localhost:8080/"
        },
        "id": "fRLotHo9m42x",
        "outputId": "fc65b3ba-1c9b-4152-ab77-73294eac4bd3"
      },
      "execution_count": null,
      "outputs": [
        {
          "output_type": "execute_result",
          "data": {
            "text/plain": [
              "id        0\n",
              "descr     0\n",
              "source    0\n",
              "dtype: int64"
            ]
          },
          "metadata": {},
          "execution_count": 26
        }
      ]
    },
    {
      "cell_type": "markdown",
      "source": [
        "### Explore the cases per `E-mail source`"
      ],
      "metadata": {
        "id": "wgGypyH_qQBj"
      }
    },
    {
      "cell_type": "code",
      "source": [
        "# select the cases which are coming from the 'Phone'\n",
        "email_cases = data[data.source.isin([\"E-mail\"])]\n",
        "email_cases[\"descr\"].head(25)"
      ],
      "metadata": {
        "id": "yTXzX04gqQBk",
        "colab": {
          "base_uri": "https://localhost:8080/"
        },
        "outputId": "7e2c99de-781b-4788-ea70-111b7f65b5dc"
      },
      "execution_count": null,
      "outputs": [
        {
          "output_type": "execute_result",
          "data": {
            "text/plain": [
              "34     Is deze mailing niet goed leesbaar? Bekijk de ...\n",
              "48     Hallo Ik koop altijd bij Jumbo (Udenhout) mijn...\n",
              "63     Goedemiddag, Ik heb daarnet een mailtje gestuu...\n",
              "77     Goedemiddag, Uw betaald de verkeerde ordernumm...\n",
              "104    Beste Jumbo Zeker fijn dat jullie deze informa...\n",
              "141    Hoezo kan ik het pas zaterdagavond ophalen. Ma...\n",
              "146    Geachte heer/mevrouw, Zojuist al een mail gest...\n",
              "148    Claudia Kleinherenbrink Industrieweg 10 ? 5281...\n",
              "214    Lekker op tijd! Hij is al op Met vriendelijke ...\n",
              "236    Van: Bianca Meerkerk <bianca_meerkerk@hotmail....\n",
              "273    Geachte, Ik.heb nog niks ontvangen. Kunt u het...\n",
              "274    [cid:image001.png@01D92C27.26DE2660] Beselare,...\n",
              "277    *via niv2 inbox* Van: i.p.n.van_tilburg@lumc.n...\n",
              "283    Goedemorgen, Kan het zo zijn dat ik dit bedrag...\n",
              "308    Al voldaan!! Verzonden vanaf mijn Galaxy -----...\n",
              "309    L.S., vanmiddag hadden wij op ons vakantiemenu...\n",
              "315    [Microsoft]<https://products.office.com> Bekij...\n",
              "325                         Bij deze bewijs van betaling\n",
              "337    Goedendag, Graag ontvang ik deze bon in het ve...\n",
              "360    Beste lezer Ik kan die 56 euro niet betalen, i...\n",
              "367    Hallo, In de 2e editie van de Jumbo gids/catal...\n",
              "387    Het is niet voor niets dat ik mijn boodschappe...\n",
              "417    dank voor de herinnering! helemaal vergeten ov...\n",
              "427    Ja ik ben tevreden over de jumbo Op ma 20 feb....\n",
              "458    Goede avond, Na telefonisch contact met 1 van ...\n",
              "Name: descr, dtype: object"
            ]
          },
          "metadata": {},
          "execution_count": 38
        }
      ]
    },
    {
      "cell_type": "code",
      "source": [
        "email_cases[\"descr\"][34]"
      ],
      "metadata": {
        "id": "qjSJ-nW3qWJl",
        "colab": {
          "base_uri": "https://localhost:8080/",
          "height": 128
        },
        "outputId": "ffe8e94a-79b8-4827-fb18-b967b818a7be"
      },
      "execution_count": null,
      "outputs": [
        {
          "output_type": "execute_result",
          "data": {
            "text/plain": [
              "'Is deze mailing niet goed leesbaar? Bekijk de mailing in uw browser<https://mailchi.mp/vadelo/verpakkingsmateriaal-direct-leverbaar-441862?e=5efbb5638f> [https://gallery.mailchimp.com/8f8fef41f06e12b3f9d1e70f7/images/c41480a8-4b7b-4a61-b467-c3b74ec1cc27.jpg]<https://officepalace.us3.list-manage.com/track/click?u=8f8fef41f06e12b3f9d1e70f7&id=060180fac3&e=5efbb5638f> [https://mcusercontent.com/8f8fef41f06e12b3f9d1e70f7/images/1694ef67-db6b-f9ad-15dd-d6981514d057.png]<https://officepalace.us3.list-manage.com/track/click?u=8f8fef41f06e12b3f9d1e70f7&id=8a2caa959a&e=5efbb5638f> Beste relatie, Vanuit de markt merken wij vanuit Vadelo een verhoogde vraag naar zelftesten. Momenteel hebben wij nog voldoende op voorraad. Vadelo levert direct uit eigen import, daardoor bieden we dus altijd de laagste prijs. Gebruiksvriendelijke speekseltesten en neustesten: - FlowFlex Single pack NL ? 529.965 op voorraad - FlowFlex Single pack EN ? 24.038 op voorraad - FlowFlex 5-pack ? 21.682 op voorraad - FlowFlex Lollipop Single packed ? 6.257 op voorraad - Flowflex 25-pack ? 1.336 op voorraad OP=OP Vul je voorraad zelftesten aan! Neem direct contact op voor meer informatie en het plaatsen van een bestelling.? Je kunt rechtstreeks contact opnemen door op de foto van uw accountmanager te klikken of laat hier<mailto:verkoop@vadelo.nl?subject=Terugbelverzoek%20Verpakkingsmateriaal&body=Ik%20ben%20ge%C3%AFnteresseerd%20in%20het%20aanbod%20verpakkingsmateriaal.%20Belt%20u%20mij%20hierover%20terug%3F%0A%0ABedrijfsnaam%3A%20%20%20%20%20%20%20%20%20%20%20%20%20%20%20%20%20%0AContactpersoon%3A%20%20%20%20%20%20%20%20%20%20%20%20%0ATelefoonnummer%3A%20%0ATijdstip%3A%20%20%20%20%20%20%20%20%20%20%20%20%0A> een terugbelverzoek achter. [https://mcusercontent.com/8f8fef41f06e12b3f9d1e70f7/images/e562bd4b-1aa8-71d4-407b-7925637d8b45.png]<mailto:a.wolbers@vadelo.nl>[https://mcusercontent.com/8f8fef41f06e12b3f9d1e70f7/images/c409a184-8b47-77d5-830a-c852d257e622.png]<mailto:j.dierks@vadelo.nl>[https://mcusercontent.com/8f8fef41f06e12b3f9d1e70f7/images/4d98dcb2-d97c-f1a7-4fb4-97b55fd93cd0.png]<mailto:a.ram@vadelo.nl>[https://mcusercontent.com/8f8fef41f06e12b3f9d1e70f7/images/8ab8a6da-19cb-5d3d-1cea-dbf5fff610dd.png]<mailto:x.hendriks@vadelo.nl> [https://mcusercontent.com/8f8fef41f06e12b3f9d1e70f7/images/c8cd92a9-d781-2828-af20-6b0c466d9b24.png]<mailto:m.krijgsman@vadelo.nl>[https://mcusercontent.com/8f8fef41f06e12b3f9d1e70f7/images/5f69be5f-3a39-0b2d-b14e-f737bc6cccb3.png]<mailto:m.vanham@vadelo.nl>[https://mcusercontent.com/8f8fef41f06e12b3f9d1e70f7/images/c7c409d6-55e2-997d-c733-d644bc7ba4f8.png]<mailto:n.denouden@vadelo.nl> Waarom Vadelo? * Betrouwbare partner * Wereldwijd netwerk * Laagste prijs garantie * Snelle levering Volg ons en blijf op de hoogte van actuele deals [https://mcusercontent.com/8f8fef41f06e12b3f9d1e70f7/images/f2635f31-2309-3612-7a70-39b096d15df2.png] <https://officepalace.us3.list-manage.com/track/click?u=8f8fef41f06e12b3f9d1e70f7&id=b2c8058237&e=5efbb5638f> Informatie Website Vadelo <https://officepalace.us3.list-manage.com/track/click?u=8f8fef41f06e12b3f9d1e70f7&id=9b6242a1a1&e=5efbb5638f> Over ons <https://officepalace.us3.list-manage.com/track/click?u=8f8fef41f06e12b3f9d1e70f7&id=c82fee9b86&e=5efbb5638f> Producten <https://officepalace.us3.list-manage.com/track/click?u=8f8fef41f06e12b3f9d1e70f7&id=88c33e759c&e=5efbb5638f> Handelsgebied <https://officepalace.us3.list-manage.com/track/click?u=8f8fef41f06e12b3f9d1e70f7&id=e905706486&e=5efbb5638f> Klantenservice Contactgegevens <https://officepalace.us3.list-manage.com/track/click?u=8f8fef41f06e12b3f9d1e70f7&id=aa51945a19&e=5efbb5638f> Download catalogus <https://officepalace.us3.list-manage.com/track/click?u=8f8fef41f06e12b3f9d1e70f7&id=c52cbdc3a6&e=5efbb5638f> Contact Schellingstraat 22 4879 NK Etten-Leur Nederland marketing@vadelo.nl <mailto:info@vadelo.nl> +31 (0)85 - 7441107 <tel:+31765041684> U ontvangt van ons deze mail omdat u in het verleden bij ons hebt besteld, advies hebt ontvangen of u zich hebt aangemeld voor nieuwsupdates Afmelden nieuwsbrief <https://officepalace.us3.list-manage.com/unsubscribe?u=8f8fef41f06e12b3f9d1e70f7&id=148e7a0ed7&e=5efbb5638f&c=0edf672ce3>'"
            ],
            "application/vnd.google.colaboratory.intrinsic+json": {
              "type": "string"
            }
          },
          "metadata": {},
          "execution_count": 39
        }
      ]
    },
    {
      "cell_type": "code",
      "source": [
        "email_cases[\"descr\"][48]"
      ],
      "metadata": {
        "id": "yKAr1JCpqWBX",
        "colab": {
          "base_uri": "https://localhost:8080/",
          "height": 73
        },
        "outputId": "90f3a6a1-3240-4234-b50e-e7ff9c629af7"
      },
      "execution_count": null,
      "outputs": [
        {
          "output_type": "execute_result",
          "data": {
            "text/plain": [
              "'Hallo Ik koop altijd bij Jumbo (Udenhout) mijn verspakket om lasagne te maken, omdat deze erg lekker is. Echter: De laatste keer zaten er 8 ipv 9 lasagnebladen in. Ik ging ervan uit dat dit een vergissing was. Maar helaas ook nu weer een pakket met maar 8 lasagnebladen. Dat is vervelend, want je hebt 3 lagen van 3 bladen nodig. Is dit een vergissing of verandering van samenstelling in het pakket? In het laatste geval zal ik gaan overstappen naar een ander merk/winkel. Ik zie graag uw reactie tegemoet. J v Wijk Verzonden vanaf mijn Galaxy'"
            ],
            "application/vnd.google.colaboratory.intrinsic+json": {
              "type": "string"
            }
          },
          "metadata": {},
          "execution_count": 40
        }
      ]
    },
    {
      "cell_type": "code",
      "source": [
        "email_cases[\"descr\"][274]"
      ],
      "metadata": {
        "id": "DLV-xX_Yq4B2",
        "colab": {
          "base_uri": "https://localhost:8080/",
          "height": 128
        },
        "outputId": "4599ee9b-2221-4208-f44e-592a56d52a5f"
      },
      "execution_count": null,
      "outputs": [
        {
          "output_type": "execute_result",
          "data": {
            "text/plain": [
              "'[cid:image001.png@01D92C27.26DE2660] Beselare, 09-01-2023 ?Betreft; Verzoek om prijzen in natura ? ? Geachte , Onze excuses dat we jou beroven van uw kostbare tijd. Maar alvast van harte dank om deze mail even te lezen. Als organisator van de werkgroep ?The Flaming Darters ?, die zich bezighoudt met het organiseren van hun 2de Dartstornooi binnen Groot-Zonnebeke. Dit betreft een tornooi dat doorgaat op 25 maart 2023. Deze worden dan ook voor verschillende groepen ingedeeld, voor Heren, Dames en Junioren. Ons tornooi is nu al volledig volzet, mede door de hype die het darten kent. Van de Belgische toppers, TV, WK. Wat inhoudt dat er 96 heren, 32 dames en 16 junioren ingeschreven zijn. Afkomstig uit het hele Vlaamse land. Dit mede door de bekendmaking bij verschillende clubs uit Oost- & West Vlaanderen. Daarom zouden we heel graag een mooie tombola op de dag zelf willen organiseren. Uiteraard is het de bedoeling om zoveel mogelijk deelnemers te belonen met een mooie prijs. Bij dezen zouden wij in alle vriendelijkheid graag vragen of jullie kunnen helpen om onze prijzentafel aan te vullen in de vorm van prijzen in natura, gadgets, of waardebonnen. Indien dit niet echt voor handen is, en jullie ons toch graag willen steunen. Is elke financiële hulp ook steeds welkom. Daar kopen we dan bij medesponsors enkele natura prijzen aan. Indien gewenst kunnen we jullie steeds voorzien van een sponsordocument. ? Met de meeste hoogachting en bedankt voor de steun van ons project, namens de werkgroep ? ? ? The Flaming Darters Bruno Cottem De Warande 1A 8980 Beselare tfdarters@hotmail.com<mailto:beecee@live.be>???????????????????????????????????? tel;?+32 479 492452 <tel:+32%20479%20492452> Verzonden vanuit Mail<https://go.microsoft.com/fwlink/?LinkId=550986> voor Windows'"
            ],
            "application/vnd.google.colaboratory.intrinsic+json": {
              "type": "string"
            }
          },
          "metadata": {},
          "execution_count": 41
        }
      ]
    },
    {
      "cell_type": "code",
      "source": [
        "email_cases[\"descr\"][315]"
      ],
      "metadata": {
        "id": "_OAreQn6qtul",
        "colab": {
          "base_uri": "https://localhost:8080/",
          "height": 183
        },
        "outputId": "32bb5e1f-32fd-4172-a498-73615ae0c5b6"
      },
      "execution_count": null,
      "outputs": [
        {
          "output_type": "execute_result",
          "data": {
            "text/plain": [
              "'[Microsoft]<https://products.office.com> Bekijk deze berichten 1 berichten worden voor u bewaard om te bekijken vanaf 21-2-2023 03:11:25 (UTC) . Bekijk ze binnen 15 dagen na de datum van ontvangst door naar de pagina Quarantaine<https://security.microsoft.com/quarantine> te gaan in het beveiligings- en compliancecentrum. Spamberichten zijn voorkomen Afzender: no-reply@sharepointonline.com Onderwerp: _Jumbo Document Datum: 21-2-2023 02:08:19 Bericht controleren <https://security.microsoft.com/quarantine?id=96f0db5a-9802-4d46-1247-08db13b0806e\\\\b6111630-9445-51c1-e4e6-1bc33977cca1&recipientAddress=%40ENC%40KDQ26mJtyCdo49DKW78IyNPVZ8%2FTNmBV0ovnTmvk7rjIGiXrDamb90pjVnjE9BfdRkp5%2BCvhmMCsxzoJLmOzcfPDRl0wGiIkghdemq%2BDmko%3D> Vrijgeven <https://eur03-quarantine.dataservice.protection.outlook.com/spamdigestesn/spamdigest.svc/releasespam/orgs/862dec83-e43a-4c95-aed3-8e98e6038d5f/users/klantenservice@jumbo.com/mail/96f0db5a-9802-4d46-1247-08db13b0806e?token=fwKejiuCFKf%2b59sFvrN8BEEGL4ypQ6xaJXmvT%2fnk7kI%3d> Afzender blokkeren <https://eur03-quarantine.dataservice.protection.outlook.com/spamdigestesn/spamdigest.svc/modifysender/orgs/862dec83-e43a-4c95-aed3-8e98e6038d5f/users/klantenservice@jumbo.com/mail/96f0db5a-9802-4d46-1247-08db13b0806e/sender/%40ENC%40iEBeJKfLJkEUVqtBBeZVERse1KGPv9wX3_UTQVSuj_AdogNerPRSYQ99SG6hDVQPBKqEA3QvNW9S5RnHUbgd7kXFSu6ebzFKD0Uo5FpVosc/allowed/False?token=LgJZlMN%2bOMBqI7RBX35m6sZWRSpTjVnqKUQ7ktbB7hA%3d> © 2023 Microsoft Corporation. Alle rechten voorbehouden. Privacyverklaring<https://go.microsoft.com/fwlink/p/?LinkID=138500> Gebruiksregels<https://go.microsoft.com/fwlink/p/?LinkID=79398>'"
            ],
            "application/vnd.google.colaboratory.intrinsic+json": {
              "type": "string"
            }
          },
          "metadata": {},
          "execution_count": 42
        }
      ]
    }
  ]
}