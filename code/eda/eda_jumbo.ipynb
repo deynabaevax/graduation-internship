{
  "nbformat": 4,
  "nbformat_minor": 0,
  "metadata": {
    "colab": {
      "provenance": [],
<<<<<<< HEAD
      "mount_file_id": "12_PTAfIypELoPUCW1kLwqGDj5FDIVK99",
      "authorship_tag": "ABX9TyNb578cTX6yX2h1L5xpqnts",
      "include_colab_link": true
=======
      "mount_file_id": "https://github.com/deynabaevax/groupm-graduation/blob/developing/code/eda/eda_jumbo.ipynb",
      "authorship_tag": "ABX9TyPpGUxGDXplVsvo0fB4DrHm"
>>>>>>> 4b8edd56e0b7a0a33a04386f4fd8d7025c4f6198
    },
    "kernelspec": {
      "name": "python3",
      "display_name": "Python 3"
    },
    "language_info": {
      "name": "python"
    }
  },
  "cells": [
    {
      "cell_type": "markdown",
<<<<<<< HEAD
      "metadata": {
        "id": "view-in-github",
        "colab_type": "text"
      },
      "source": [
        "<a href=\"https://colab.research.google.com/github/deynabaevax/groupm-graduation/blob/developing/code/eda/eda_jumbo.ipynb\" target=\"_parent\"><img src=\"https://colab.research.google.com/assets/colab-badge.svg\" alt=\"Open In Colab\"/></a>"
      ]
    },
    {
      "cell_type": "markdown",
=======
>>>>>>> 4b8edd56e0b7a0a33a04386f4fd8d7025c4f6198
      "source": [
        "# EDA \n",
        "### Jumbo Data"
      ],
      "metadata": {
        "id": "DIltE9P9PKka"
      }
    },
    {
<<<<<<< HEAD
=======
      "cell_type": "code",
      "source": [
        "# @title Setup\n",
        "from google.colab import auth\n",
        "from google.cloud import bigquery\n",
        "from google.colab import data_table\n",
        "\n",
        "project = 'conv-topic-modelling' # Project ID inserted based on the query results selected to explore\n",
        "location = 'EU' # Location inserted based on the query results selected to explore\n",
        "client = bigquery.Client(project=project, location=location)\n",
        "data_table.enable_dataframe_formatter()\n",
        "auth.authenticate_user()"
      ],
      "metadata": {
        "id": "ghilhKlUeZ_4"
      },
      "execution_count": 46,
      "outputs": []
    },
    {
      "cell_type": "code",
      "source": [
        "# @title Running this code will read results from your previous job\n",
        "\n",
        "job = client.get_job('bquxjob_a4de3b3_18703785047') # Job ID inserted based on the query results selected to explore\n",
        "df = job.to_dataframe()"
      ],
      "metadata": {
        "id": "wTGIFdQEfHbI"
      },
      "execution_count": 47,
      "outputs": []
    },
    {
>>>>>>> 4b8edd56e0b7a0a33a04386f4fd8d7025c4f6198
      "cell_type": "markdown",
      "source": [
        "### Import the libraries"
      ],
      "metadata": {
        "id": "sFiUfPM9PQzn"
      }
    },
    {
      "cell_type": "code",
      "source": [
        "!pip install emoji"
      ],
      "metadata": {
<<<<<<< HEAD
        "id": "o2lh6kadP61U"
      },
      "execution_count": null,
      "outputs": []
    },
    {
      "cell_type": "code",
      "execution_count": 3,
=======
        "id": "ShT_jn_ZU_P4",
        "outputId": "31506cd0-7ff0-44f7-ed0b-6282e31e462e",
        "colab": {
          "base_uri": "https://localhost:8080/"
        }
      },
      "execution_count": 49,
      "outputs": [
        {
          "output_type": "stream",
          "name": "stdout",
          "text": [
            "Looking in indexes: https://pypi.org/simple, https://us-python.pkg.dev/colab-wheels/public/simple/\n",
            "Requirement already satisfied: emoji in /usr/local/lib/python3.9/dist-packages (2.2.0)\n"
          ]
        }
      ]
    },
    {
      "cell_type": "code",
      "execution_count": 50,
>>>>>>> 4b8edd56e0b7a0a33a04386f4fd8d7025c4f6198
      "metadata": {
        "colab": {
          "base_uri": "https://localhost:8080/"
        },
        "id": "wPeYo4znPJjz",
<<<<<<< HEAD
        "outputId": "6983ca0a-52f8-4ef0-d1f3-b2564891fba1"
=======
        "outputId": "b16ff357-cd47-4c77-b99a-40b93b2d8511"
>>>>>>> 4b8edd56e0b7a0a33a04386f4fd8d7025c4f6198
      },
      "outputs": [
        {
          "output_type": "stream",
          "name": "stderr",
          "text": [
            "[nltk_data] Downloading package stopwords to /root/nltk_data...\n",
<<<<<<< HEAD
            "[nltk_data]   Unzipping corpora/stopwords.zip.\n"
=======
            "[nltk_data]   Package stopwords is already up-to-date!\n"
>>>>>>> 4b8edd56e0b7a0a33a04386f4fd8d7025c4f6198
          ]
        }
      ],
      "source": [
        "import pandas as pd\n",
        "import numpy as np\n",
        "import re\n",
        "import string\n",
        "import emoji\n",
        "\n",
        "import matplotlib.pyplot as plt\n",
        "import seaborn as sns\n",
        "import plotly.express as px\n",
        "\n",
        "import nltk\n",
<<<<<<< HEAD
        "nltk.download('stopwords')\n",
=======
        "nltk.download(\"stopwords\")\n",
>>>>>>> 4b8edd56e0b7a0a33a04386f4fd8d7025c4f6198
        "from nltk.corpus import stopwords\n",
        "from sklearn.feature_extraction.text import CountVectorizer\n",
        "from sklearn.decomposition import LatentDirichletAllocation\n",
        "\n",
        "import warnings\n",
        "warnings.filterwarnings(\"ignore\")"
      ]
    },
    {
      "cell_type": "markdown",
      "source": [
        "### Import the data set"
      ],
      "metadata": {
        "id": "J3vjEaaXPsGf"
      }
    },
    {
      "cell_type": "code",
      "source": [
<<<<<<< HEAD
        "df = pd.read_excel(\"/content/drive/MyDrive/datasets/jumbo-data.xlsx\")"
      ],
      "metadata": {
        "id": "zwNb6m7QPrqt"
      },
      "execution_count": 28,
      "outputs": []
    },
    {
      "cell_type": "code",
      "source": [
        "df.head()"
      ],
      "metadata": {
        "id": "rTUPmjUAQcWo"
      },
      "execution_count": null,
      "outputs": []
    },
    {
      "cell_type": "code",
      "source": [
        "# rename the columns for easy typing\n",
        "df.rename(columns={\"Case Number\": \"id\", \"Case Description\": \"descr\", \"Case Origin\": \"source\"}, inplace=True)"
      ],
      "metadata": {
        "id": "YJIGZx4xUshf"
      },
      "execution_count": 34,
      "outputs": []
=======
        "df.head()"
      ],
      "metadata": {
        "id": "rTUPmjUAQcWo",
        "colab": {
          "base_uri": "https://localhost:8080/",
          "height": 466
        },
        "outputId": "add8b827-5d89-44b4-d4ea-f0fdceb7b8e4"
      },
      "execution_count": 51,
      "outputs": [
        {
          "output_type": "execute_result",
          "data": {
            "text/plain": [
              "          id                                              descr source\n",
              "0  3349414.0  Mijn vrouw had wat van deze noten in haar kwar...    Web\n",
              "1  3408031.0  Beste Jumbo, wij zijn al heel lang klant bij h...    Web\n",
              "2  3454059.0  Gisteravond is een hele krat met boodschappen ...    Web\n",
              "3  3432804.0  Goedemorgen. Ik had een paar weken geleden bes...    Web\n",
              "4  3455745.0  Ik heb ruim 20 minuten moeten wachten voordat ...    Web"
            ],
            "text/html": [
              "\n",
              "  <div id=\"df-6eccc3f5-d120-4185-93a0-6fbbd0e3af9e\">\n",
              "    <div class=\"colab-df-container\">\n",
              "      <div>\n",
              "<style scoped>\n",
              "    .dataframe tbody tr th:only-of-type {\n",
              "        vertical-align: middle;\n",
              "    }\n",
              "\n",
              "    .dataframe tbody tr th {\n",
              "        vertical-align: top;\n",
              "    }\n",
              "\n",
              "    .dataframe thead th {\n",
              "        text-align: right;\n",
              "    }\n",
              "</style>\n",
              "<table border=\"1\" class=\"dataframe\">\n",
              "  <thead>\n",
              "    <tr style=\"text-align: right;\">\n",
              "      <th></th>\n",
              "      <th>id</th>\n",
              "      <th>descr</th>\n",
              "      <th>source</th>\n",
              "    </tr>\n",
              "  </thead>\n",
              "  <tbody>\n",
              "    <tr>\n",
              "      <th>0</th>\n",
              "      <td>3349414.0</td>\n",
              "      <td>Mijn vrouw had wat van deze noten in haar kwar...</td>\n",
              "      <td>Web</td>\n",
              "    </tr>\n",
              "    <tr>\n",
              "      <th>1</th>\n",
              "      <td>3408031.0</td>\n",
              "      <td>Beste Jumbo, wij zijn al heel lang klant bij h...</td>\n",
              "      <td>Web</td>\n",
              "    </tr>\n",
              "    <tr>\n",
              "      <th>2</th>\n",
              "      <td>3454059.0</td>\n",
              "      <td>Gisteravond is een hele krat met boodschappen ...</td>\n",
              "      <td>Web</td>\n",
              "    </tr>\n",
              "    <tr>\n",
              "      <th>3</th>\n",
              "      <td>3432804.0</td>\n",
              "      <td>Goedemorgen. Ik had een paar weken geleden bes...</td>\n",
              "      <td>Web</td>\n",
              "    </tr>\n",
              "    <tr>\n",
              "      <th>4</th>\n",
              "      <td>3455745.0</td>\n",
              "      <td>Ik heb ruim 20 minuten moeten wachten voordat ...</td>\n",
              "      <td>Web</td>\n",
              "    </tr>\n",
              "  </tbody>\n",
              "</table>\n",
              "</div>\n",
              "      <button class=\"colab-df-convert\" onclick=\"convertToInteractive('df-6eccc3f5-d120-4185-93a0-6fbbd0e3af9e')\"\n",
              "              title=\"Convert this dataframe to an interactive table.\"\n",
              "              style=\"display:none;\">\n",
              "        \n",
              "  <svg xmlns=\"http://www.w3.org/2000/svg\" height=\"24px\"viewBox=\"0 0 24 24\"\n",
              "       width=\"24px\">\n",
              "    <path d=\"M0 0h24v24H0V0z\" fill=\"none\"/>\n",
              "    <path d=\"M18.56 5.44l.94 2.06.94-2.06 2.06-.94-2.06-.94-.94-2.06-.94 2.06-2.06.94zm-11 1L8.5 8.5l.94-2.06 2.06-.94-2.06-.94L8.5 2.5l-.94 2.06-2.06.94zm10 10l.94 2.06.94-2.06 2.06-.94-2.06-.94-.94-2.06-.94 2.06-2.06.94z\"/><path d=\"M17.41 7.96l-1.37-1.37c-.4-.4-.92-.59-1.43-.59-.52 0-1.04.2-1.43.59L10.3 9.45l-7.72 7.72c-.78.78-.78 2.05 0 2.83L4 21.41c.39.39.9.59 1.41.59.51 0 1.02-.2 1.41-.59l7.78-7.78 2.81-2.81c.8-.78.8-2.07 0-2.86zM5.41 20L4 18.59l7.72-7.72 1.47 1.35L5.41 20z\"/>\n",
              "  </svg>\n",
              "      </button>\n",
              "      \n",
              "  <style>\n",
              "    .colab-df-container {\n",
              "      display:flex;\n",
              "      flex-wrap:wrap;\n",
              "      gap: 12px;\n",
              "    }\n",
              "\n",
              "    .colab-df-convert {\n",
              "      background-color: #E8F0FE;\n",
              "      border: none;\n",
              "      border-radius: 50%;\n",
              "      cursor: pointer;\n",
              "      display: none;\n",
              "      fill: #1967D2;\n",
              "      height: 32px;\n",
              "      padding: 0 0 0 0;\n",
              "      width: 32px;\n",
              "    }\n",
              "\n",
              "    .colab-df-convert:hover {\n",
              "      background-color: #E2EBFA;\n",
              "      box-shadow: 0px 1px 2px rgba(60, 64, 67, 0.3), 0px 1px 3px 1px rgba(60, 64, 67, 0.15);\n",
              "      fill: #174EA6;\n",
              "    }\n",
              "\n",
              "    [theme=dark] .colab-df-convert {\n",
              "      background-color: #3B4455;\n",
              "      fill: #D2E3FC;\n",
              "    }\n",
              "\n",
              "    [theme=dark] .colab-df-convert:hover {\n",
              "      background-color: #434B5C;\n",
              "      box-shadow: 0px 1px 3px 1px rgba(0, 0, 0, 0.15);\n",
              "      filter: drop-shadow(0px 1px 2px rgba(0, 0, 0, 0.3));\n",
              "      fill: #FFFFFF;\n",
              "    }\n",
              "  </style>\n",
              "\n",
              "      <script>\n",
              "        const buttonEl =\n",
              "          document.querySelector('#df-6eccc3f5-d120-4185-93a0-6fbbd0e3af9e button.colab-df-convert');\n",
              "        buttonEl.style.display =\n",
              "          google.colab.kernel.accessAllowed ? 'block' : 'none';\n",
              "\n",
              "        async function convertToInteractive(key) {\n",
              "          const element = document.querySelector('#df-6eccc3f5-d120-4185-93a0-6fbbd0e3af9e');\n",
              "          const dataTable =\n",
              "            await google.colab.kernel.invokeFunction('convertToInteractive',\n",
              "                                                     [key], {});\n",
              "          if (!dataTable) return;\n",
              "\n",
              "          const docLinkHtml = 'Like what you see? Visit the ' +\n",
              "            '<a target=\"_blank\" href=https://colab.research.google.com/notebooks/data_table.ipynb>data table notebook</a>'\n",
              "            + ' to learn more about interactive tables.';\n",
              "          element.innerHTML = '';\n",
              "          dataTable['output_type'] = 'display_data';\n",
              "          await google.colab.output.renderOutput(dataTable, element);\n",
              "          const docLink = document.createElement('div');\n",
              "          docLink.innerHTML = docLinkHtml;\n",
              "          element.appendChild(docLink);\n",
              "        }\n",
              "      </script>\n",
              "    </div>\n",
              "  </div>\n",
              "  "
            ],
            "application/vnd.google.colaboratory.module+javascript": "\n      import \"https://ssl.gstatic.com/colaboratory/data_table/99dac6621f6ae8c4/data_table.js\";\n\n      window.createDataTable({\n        data: [[{\n            'v': 0,\n            'f': \"0\",\n        },\n{\n            'v': 3349414.0,\n            'f': \"3349414.0\",\n        },\n\"Mijn vrouw had wat van deze noten in haar kwark gedaan en beet vervolgens bijna haar kies kapot! Normaal valt dit wel op maar omdat het nu in de kwark zat viel niet niet op.\",\n\"Web\"],\n [{\n            'v': 1,\n            'f': \"1\",\n        },\n{\n            'v': 3408031.0,\n            'f': \"3408031.0\",\n        },\n\"Beste Jumbo, wij zijn al heel lang klant bij het Jumbo filiaal aan de Geerkade in Etten-Leur. Buiten de boodschappen gebruikte ik ook zeer regelmatig het PostNL Pakketpunt van dit filiaal. Dit was ideaal. Even je pakketje afgeven boodschappen doen of boodschappen doen en je pakketje even ophalen. Maar wat schetst mijn verbazing! Sinds enige tijd hebben ze daar een Pakketautomaat en kan je de pakketjes dus niet afgeven en ophalen aan de bali. Makkelijk zou je zeggen? Niet echt!!! Ik ben nu vier keer geweest op verschillende dagen om een pakketje af te geven en alle vier de keren kon ik het pakketje niet afgeven omdat er geen plek was in de pakketautomaat. Dit is nog nooit voorgekomen toen er nog geen pakketautomaat was. Dus kort gezegd: Pakketautomaat = Makkelijk voor Jumbo, maar niet voor klant. Jammer een gemiste kans voor Jumbo Geerkade Etten-Leur. Dus waarom heeft het Jumbo filiaal gekozen voor een pakketautomaat?\",\n\"Web\"],\n [{\n            'v': 2,\n            'f': \"2\",\n        },\n{\n            'v': 3454059.0,\n            'f': \"3454059.0\",\n        },\n\"Gisteravond is een hele krat met boodschappen niet bij ons bezorgd. De bezorger gaf aan dit verkeerd bezorgd te hebben bij mensen in beek in donk. Dit betekend voor ons dat we Gisteravond alsnog met de auto boodschappen moesten gaan doen. We hebben de bezorgkosten wel moeten betalen ondanks dat de helft niet binnen was gekomen..\",\n\"Web\"],\n [{\n            'v': 3,\n            'f': \"3\",\n        },\n{\n            'v': 3432804.0,\n            'f': \"3432804.0\",\n        },\n\"Goedemorgen. Ik had een paar weken geleden besteld maar toen kon door een technisch probleem een deel niet geleverd. Ik heb een kortingscode gekregen voor de volgende bestelling maar als ik die invoer krijg ik de melding dat de code niet geldig is. Hoe moet ik het dan doen ? Waarom werkt het niet ? Hier onder de mail die ik gehad heb. Onlangs heb je jouw online bestelling ontvangen of opgehaald bij het Pick up Point. Echter was deze bestelling niet zoals je van ons mag verwachten, je hebt niet alle producten ontvangen die je had besteld. Afgelopen week hebben we een technische storing gehad, hierdoor konden we een deel van je bestelling niet uitleveren. We hebben het probleem redelijk snel kunnen oplossen, maar helaas niet op tijd voor jouw bestelling. Bij Jumbo doen we er iedere dag alles aan om onze klanten de beste service te bieden en alle boodschappen volledig en op tijd te bezorgen. We vinden het erg vervelend als dat niet lukt. Als tegemoetkoming bieden we je daarom graag een kortingscode aan van ?7,50. Jouw kortingscode is GOG726LT6. De code is tot en met 01-07-2022 te gebruiken voor bestellingen die je ophaalt of laat bezorgen, hiervoor geldt een minimale bestelwaarde van ?50,00. Onze gebruikelijke actievoorwaarden zijn van toepassing op deze kortingscode. Ik heb voor 134 euro in de bestel lijst staan en het is voor 17 juni dat ik wil bestellen.\",\n\"Web\"],\n [{\n            'v': 4,\n            'f': \"4\",\n        },\n{\n            'v': 3455745.0,\n            'f': \"3455745.0\",\n        },\n\"Ik heb ruim 20 minuten moeten wachten voordat ik mijn online boodschappen in de winkel kreeg. Medewerker aldaar heb ik duidelijk gemaakt dat ik al erg lang stond te wachten, en al herhaaldelijk een andere collega had gevraagd waarom het zo lang moest duren. Ik werd telkens onderbroken door deze medewerker, kreeg mijn verhaal niet eens fatsoenlijk eruit. Ik moest het maar doen met een lauw excuus, want het pinapparaat was niet gekoppeld met de tablet en dat was niet zijn schuld dus blijkbaar is een eenmalig lauw excuus dan voldoende en moet de klant niet zo zeuren? Niet zijn gesproken woorden, maar zo kwam het bij mij over in ieder geval. Ik doe online boodschappen, waarvoor ik extra betaal, waar een tijdvak ingepland staat. Dan verwacht ik dat de verantwoordelijke Jumbo medewerker zorgt dat alles voor elkaar is voor die tijd, dat alles gecheckt is etc. Maar dat verhaal werd door de betreffende medewerker herhaaldelijk onderbroken, en ik moest het dus maar doen met een lauw excuus. Ik ben van mening dat de klant niet ge\\u00efnterrumpeerd moet bij het uiten van een terechte klacht, dat de medewerker luistert naar wat ik te zeggen heb en dan met een reactie komt. Nu wordt ik tijdens mijn betoog telkens weer onderbroken met het zelfde verhaal dat de tablet niet gekoppeld was, dat dat niet zijn schuld is... ja... die had ik al gehoord, ik wil als klant ook worden gehoord! Ik wil de bestelkosten graag gecompenseerd hebben, ik betaal deze immers voor een stukje service wat ik vandaag onvoldoende heb gekregen. Had net zo goed zelf met een karretje door de winkel kunnen lopen, dan was ik sneller klaar geweest en met een stuk minder frustratie thuis gekomen. Daarnaast zie ik graag dat deze \\\"problemen\\\" aangepakt worden zodat dit niet weer tot onnodige vertragingen bij het ophalen leidt. De medewerkster die het de weken ervoor deed, kon wel vlot komen opdagen en vriendelijk van dienst zijn.\",\n\"Web\"]],\n        columns: [[\"number\", \"index\"], [\"number\", \"id\"], [\"string\", \"descr\"], [\"string\", \"source\"]],\n        columnOptions: [{\"width\": \"1px\", \"className\": \"index_column\"}],\n        rowsPerPage: 25,\n        helpUrl: \"https://colab.research.google.com/notebooks/data_table.ipynb\",\n        suppressOutputScrolling: true,\n        minimumWidth: undefined,\n      });\n    "
          },
          "metadata": {},
          "execution_count": 51
        }
      ]
    },
    {
      "cell_type": "markdown",
      "source": [
        "## Data Profiling"
      ],
      "metadata": {
        "id": "dqva_03TkMHp"
      }
>>>>>>> 4b8edd56e0b7a0a33a04386f4fd8d7025c4f6198
    },
    {
      "cell_type": "code",
      "source": [
        "df.shape"
      ],
      "metadata": {
        "colab": {
          "base_uri": "https://localhost:8080/"
        },
        "id": "nWZEunixQgBx",
<<<<<<< HEAD
        "outputId": "aa8c659d-0e41-4936-f4cb-b49f16e6150b"
      },
      "execution_count": 35,
=======
        "outputId": "a913ecd7-39f6-4de6-9d84-5eebc47d50da"
      },
      "execution_count": 53,
>>>>>>> 4b8edd56e0b7a0a33a04386f4fd8d7025c4f6198
      "outputs": [
        {
          "output_type": "execute_result",
          "data": {
            "text/plain": [
<<<<<<< HEAD
              "(95921, 3)"
            ]
          },
          "metadata": {},
          "execution_count": 35
=======
              "(95912, 3)"
            ]
          },
          "metadata": {},
          "execution_count": 53
>>>>>>> 4b8edd56e0b7a0a33a04386f4fd8d7025c4f6198
        }
      ]
    },
    {
      "cell_type": "code",
      "source": [
        "df.info()"
      ],
      "metadata": {
<<<<<<< HEAD
        "id": "q4tyNWCkRCSV"
      },
      "execution_count": null,
      "outputs": []
=======
        "id": "q4tyNWCkRCSV",
        "colab": {
          "base_uri": "https://localhost:8080/"
        },
        "outputId": "5a180b8e-80aa-453a-ff8d-a73426489acc"
      },
      "execution_count": 54,
      "outputs": [
        {
          "output_type": "stream",
          "name": "stdout",
          "text": [
            "<class 'pandas.core.frame.DataFrame'>\n",
            "RangeIndex: 95912 entries, 0 to 95911\n",
            "Data columns (total 3 columns):\n",
            " #   Column  Non-Null Count  Dtype  \n",
            "---  ------  --------------  -----  \n",
            " 0   id      95912 non-null  float64\n",
            " 1   descr   95912 non-null  object \n",
            " 2   source  95912 non-null  object \n",
            "dtypes: float64(1), object(2)\n",
            "memory usage: 2.2+ MB\n"
          ]
        }
      ]
>>>>>>> 4b8edd56e0b7a0a33a04386f4fd8d7025c4f6198
    },
    {
      "cell_type": "code",
      "source": [
        "df.describe().T"
      ],
      "metadata": {
<<<<<<< HEAD
        "id": "GOEE8CQNQw51"
      },
      "execution_count": null,
      "outputs": []
    },
    {
      "cell_type": "code",
      "source": [
        "df.isnull().sum()"
      ],
      "metadata": {
        "id": "OoYMnMA8Q1XJ"
      },
      "execution_count": null,
      "outputs": []
=======
        "id": "GOEE8CQNQw51",
        "colab": {
          "base_uri": "https://localhost:8080/",
          "height": 115
        },
        "outputId": "5563edc8-3973-40e2-8f48-9840eafc136d"
      },
      "execution_count": 55,
      "outputs": [
        {
          "output_type": "execute_result",
          "data": {
            "text/plain": [
              "      count          mean            std        min         25%        50%  \\\n",
              "id  95912.0  4.499588e+06  107767.883461  1703086.0  4417905.75  4500317.5   \n",
              "\n",
              "           75%        max  \n",
              "id  4585739.75  4670184.0  "
            ],
            "text/html": [
              "\n",
              "  <div id=\"df-1f3e96de-3aa2-47e5-a000-439e0a11a7d4\">\n",
              "    <div class=\"colab-df-container\">\n",
              "      <div>\n",
              "<style scoped>\n",
              "    .dataframe tbody tr th:only-of-type {\n",
              "        vertical-align: middle;\n",
              "    }\n",
              "\n",
              "    .dataframe tbody tr th {\n",
              "        vertical-align: top;\n",
              "    }\n",
              "\n",
              "    .dataframe thead th {\n",
              "        text-align: right;\n",
              "    }\n",
              "</style>\n",
              "<table border=\"1\" class=\"dataframe\">\n",
              "  <thead>\n",
              "    <tr style=\"text-align: right;\">\n",
              "      <th></th>\n",
              "      <th>count</th>\n",
              "      <th>mean</th>\n",
              "      <th>std</th>\n",
              "      <th>min</th>\n",
              "      <th>25%</th>\n",
              "      <th>50%</th>\n",
              "      <th>75%</th>\n",
              "      <th>max</th>\n",
              "    </tr>\n",
              "  </thead>\n",
              "  <tbody>\n",
              "    <tr>\n",
              "      <th>id</th>\n",
              "      <td>95912.0</td>\n",
              "      <td>4.499588e+06</td>\n",
              "      <td>107767.883461</td>\n",
              "      <td>1703086.0</td>\n",
              "      <td>4417905.75</td>\n",
              "      <td>4500317.5</td>\n",
              "      <td>4585739.75</td>\n",
              "      <td>4670184.0</td>\n",
              "    </tr>\n",
              "  </tbody>\n",
              "</table>\n",
              "</div>\n",
              "      <button class=\"colab-df-convert\" onclick=\"convertToInteractive('df-1f3e96de-3aa2-47e5-a000-439e0a11a7d4')\"\n",
              "              title=\"Convert this dataframe to an interactive table.\"\n",
              "              style=\"display:none;\">\n",
              "        \n",
              "  <svg xmlns=\"http://www.w3.org/2000/svg\" height=\"24px\"viewBox=\"0 0 24 24\"\n",
              "       width=\"24px\">\n",
              "    <path d=\"M0 0h24v24H0V0z\" fill=\"none\"/>\n",
              "    <path d=\"M18.56 5.44l.94 2.06.94-2.06 2.06-.94-2.06-.94-.94-2.06-.94 2.06-2.06.94zm-11 1L8.5 8.5l.94-2.06 2.06-.94-2.06-.94L8.5 2.5l-.94 2.06-2.06.94zm10 10l.94 2.06.94-2.06 2.06-.94-2.06-.94-.94-2.06-.94 2.06-2.06.94z\"/><path d=\"M17.41 7.96l-1.37-1.37c-.4-.4-.92-.59-1.43-.59-.52 0-1.04.2-1.43.59L10.3 9.45l-7.72 7.72c-.78.78-.78 2.05 0 2.83L4 21.41c.39.39.9.59 1.41.59.51 0 1.02-.2 1.41-.59l7.78-7.78 2.81-2.81c.8-.78.8-2.07 0-2.86zM5.41 20L4 18.59l7.72-7.72 1.47 1.35L5.41 20z\"/>\n",
              "  </svg>\n",
              "      </button>\n",
              "      \n",
              "  <style>\n",
              "    .colab-df-container {\n",
              "      display:flex;\n",
              "      flex-wrap:wrap;\n",
              "      gap: 12px;\n",
              "    }\n",
              "\n",
              "    .colab-df-convert {\n",
              "      background-color: #E8F0FE;\n",
              "      border: none;\n",
              "      border-radius: 50%;\n",
              "      cursor: pointer;\n",
              "      display: none;\n",
              "      fill: #1967D2;\n",
              "      height: 32px;\n",
              "      padding: 0 0 0 0;\n",
              "      width: 32px;\n",
              "    }\n",
              "\n",
              "    .colab-df-convert:hover {\n",
              "      background-color: #E2EBFA;\n",
              "      box-shadow: 0px 1px 2px rgba(60, 64, 67, 0.3), 0px 1px 3px 1px rgba(60, 64, 67, 0.15);\n",
              "      fill: #174EA6;\n",
              "    }\n",
              "\n",
              "    [theme=dark] .colab-df-convert {\n",
              "      background-color: #3B4455;\n",
              "      fill: #D2E3FC;\n",
              "    }\n",
              "\n",
              "    [theme=dark] .colab-df-convert:hover {\n",
              "      background-color: #434B5C;\n",
              "      box-shadow: 0px 1px 3px 1px rgba(0, 0, 0, 0.15);\n",
              "      filter: drop-shadow(0px 1px 2px rgba(0, 0, 0, 0.3));\n",
              "      fill: #FFFFFF;\n",
              "    }\n",
              "  </style>\n",
              "\n",
              "      <script>\n",
              "        const buttonEl =\n",
              "          document.querySelector('#df-1f3e96de-3aa2-47e5-a000-439e0a11a7d4 button.colab-df-convert');\n",
              "        buttonEl.style.display =\n",
              "          google.colab.kernel.accessAllowed ? 'block' : 'none';\n",
              "\n",
              "        async function convertToInteractive(key) {\n",
              "          const element = document.querySelector('#df-1f3e96de-3aa2-47e5-a000-439e0a11a7d4');\n",
              "          const dataTable =\n",
              "            await google.colab.kernel.invokeFunction('convertToInteractive',\n",
              "                                                     [key], {});\n",
              "          if (!dataTable) return;\n",
              "\n",
              "          const docLinkHtml = 'Like what you see? Visit the ' +\n",
              "            '<a target=\"_blank\" href=https://colab.research.google.com/notebooks/data_table.ipynb>data table notebook</a>'\n",
              "            + ' to learn more about interactive tables.';\n",
              "          element.innerHTML = '';\n",
              "          dataTable['output_type'] = 'display_data';\n",
              "          await google.colab.output.renderOutput(dataTable, element);\n",
              "          const docLink = document.createElement('div');\n",
              "          docLink.innerHTML = docLinkHtml;\n",
              "          element.appendChild(docLink);\n",
              "        }\n",
              "      </script>\n",
              "    </div>\n",
              "  </div>\n",
              "  "
            ],
            "application/vnd.google.colaboratory.module+javascript": "\n      import \"https://ssl.gstatic.com/colaboratory/data_table/99dac6621f6ae8c4/data_table.js\";\n\n      window.createDataTable({\n        data: [[\"id\",\n{\n            'v': 95912.0,\n            'f': \"95912.0\",\n        },\n{\n            'v': 4499588.244651347,\n            'f': \"4499588.244651347\",\n        },\n{\n            'v': 107767.88346115031,\n            'f': \"107767.88346115031\",\n        },\n{\n            'v': 1703086.0,\n            'f': \"1703086.0\",\n        },\n{\n            'v': 4417905.75,\n            'f': \"4417905.75\",\n        },\n{\n            'v': 4500317.5,\n            'f': \"4500317.5\",\n        },\n{\n            'v': 4585739.75,\n            'f': \"4585739.75\",\n        },\n{\n            'v': 4670184.0,\n            'f': \"4670184.0\",\n        }]],\n        columns: [[\"string\", \"index\"], [\"number\", \"count\"], [\"number\", \"mean\"], [\"number\", \"std\"], [\"number\", \"min\"], [\"number\", \"25%\"], [\"number\", \"50%\"], [\"number\", \"75%\"], [\"number\", \"max\"]],\n        columnOptions: [{\"width\": \"1px\", \"className\": \"index_column\"}],\n        rowsPerPage: 25,\n        helpUrl: \"https://colab.research.google.com/notebooks/data_table.ipynb\",\n        suppressOutputScrolling: true,\n        minimumWidth: undefined,\n      });\n    "
          },
          "metadata": {},
          "execution_count": 55
        }
      ]
>>>>>>> 4b8edd56e0b7a0a33a04386f4fd8d7025c4f6198
    },
    {
      "cell_type": "code",
      "source": [
<<<<<<< HEAD
        "df[\"descr\"].isnull().values.any()"
      ],
      "metadata": {
        "id": "x8rRj2UyQ1UZ"
      },
      "execution_count": null,
      "outputs": []
=======
        "# check for duplicates in the 'descr' column\n",
        "duplicates = df.duplicated(subset=[\"id\" ,\"descr\"])\n",
        "print(\"Number of duplicates:\", duplicates.sum())"
      ],
      "metadata": {
        "id": "ObkTuxDUSdb5",
        "colab": {
          "base_uri": "https://localhost:8080/"
        },
        "outputId": "f699cf7d-4772-4b25-80c2-231df906148a"
      },
      "execution_count": 56,
      "outputs": [
        {
          "output_type": "stream",
          "name": "stdout",
          "text": [
            "Number of duplicates: 0\n"
          ]
        }
      ]
>>>>>>> 4b8edd56e0b7a0a33a04386f4fd8d7025c4f6198
    },
    {
      "cell_type": "code",
      "source": [
<<<<<<< HEAD
        "# check for duplicates in the 'query' column\n",
        "duplicates = df.duplicated(subset=[\"id\" ,\"descr\"])\n",
        "print(\"Number of duplicates:\", duplicates.sum())"
      ],
      "metadata": {
        "id": "ObkTuxDUSdb5"
      },
      "execution_count": null,
      "outputs": []
=======
        "df.isnull().sum()"
      ],
      "metadata": {
        "id": "OoYMnMA8Q1XJ",
        "colab": {
          "base_uri": "https://localhost:8080/"
        },
        "outputId": "332576cf-9b55-47a8-8112-a1588f353181"
      },
      "execution_count": 57,
      "outputs": [
        {
          "output_type": "execute_result",
          "data": {
            "text/plain": [
              "id        0\n",
              "descr     0\n",
              "source    0\n",
              "dtype: int64"
            ]
          },
          "metadata": {},
          "execution_count": 57
        }
      ]
>>>>>>> 4b8edd56e0b7a0a33a04386f4fd8d7025c4f6198
    },
    {
      "cell_type": "code",
      "source": [
        "# create a boolean mask of null values\n",
        "mask = df.isnull().any(axis=1)\n",
        "\n",
        "# select the rows that have at least one null value\n",
        "rows_with_null = df[mask]\n",
        "\n",
        "# print the selected rows\n",
        "print(rows_with_null)"
      ],
      "metadata": {
<<<<<<< HEAD
        "id": "jCf0NNyNR7WY"
      },
      "execution_count": null,
      "outputs": []
=======
        "id": "jCf0NNyNR7WY",
        "colab": {
          "base_uri": "https://localhost:8080/"
        },
        "outputId": "13668615-09b8-43a6-9e01-773f3f694b4d"
      },
      "execution_count": 58,
      "outputs": [
        {
          "output_type": "stream",
          "name": "stdout",
          "text": [
            "Empty DataFrame\n",
            "Columns: [id, descr, source]\n",
            "Index: []\n"
          ]
        }
      ]
>>>>>>> 4b8edd56e0b7a0a33a04386f4fd8d7025c4f6198
    },
    {
      "cell_type": "code",
      "source": [
<<<<<<< HEAD
        "df[\"descr\"][92513]"
      ],
      "metadata": {
        "id": "IsXrHa2NVw4U"
      },
      "execution_count": null,
=======
        "data = df.dropna()"
      ],
      "metadata": {
        "id": "OS8zGzleVgrg"
      },
      "execution_count": 59,
>>>>>>> 4b8edd56e0b7a0a33a04386f4fd8d7025c4f6198
      "outputs": []
    },
    {
      "cell_type": "code",
      "source": [
<<<<<<< HEAD
        "df[\"descr\"][92517]"
      ],
      "metadata": {
        "id": "no3ncCIbVzzC"
      },
      "execution_count": null,
      "outputs": []
=======
        "data.shape"
      ],
      "metadata": {
        "colab": {
          "base_uri": "https://localhost:8080/"
        },
        "id": "ogtmjumZYPcp",
        "outputId": "c93423e9-a1df-4ea4-929c-d9bc30b7753d"
      },
      "execution_count": 60,
      "outputs": [
        {
          "output_type": "execute_result",
          "data": {
            "text/plain": [
              "(95912, 3)"
            ]
          },
          "metadata": {},
          "execution_count": 60
        }
      ]
>>>>>>> 4b8edd56e0b7a0a33a04386f4fd8d7025c4f6198
    },
    {
      "cell_type": "code",
      "source": [
<<<<<<< HEAD
        "df[\"descr\"][60314]"
      ],
      "metadata": {
        "id": "lj-eQuSFTTvG"
      },
      "execution_count": null,
      "outputs": []
=======
        "data.info()"
      ],
      "metadata": {
        "colab": {
          "base_uri": "https://localhost:8080/"
        },
        "id": "B8sNiVyQbAfK",
        "outputId": "4e3094b2-6bd4-4eab-a0ce-f5727035bb88"
      },
      "execution_count": 61,
      "outputs": [
        {
          "output_type": "stream",
          "name": "stdout",
          "text": [
            "<class 'pandas.core.frame.DataFrame'>\n",
            "RangeIndex: 95912 entries, 0 to 95911\n",
            "Data columns (total 3 columns):\n",
            " #   Column  Non-Null Count  Dtype  \n",
            "---  ------  --------------  -----  \n",
            " 0   id      95912 non-null  float64\n",
            " 1   descr   95912 non-null  object \n",
            " 2   source  95912 non-null  object \n",
            "dtypes: float64(1), object(2)\n",
            "memory usage: 2.2+ MB\n"
          ]
        }
      ]
>>>>>>> 4b8edd56e0b7a0a33a04386f4fd8d7025c4f6198
    },
    {
      "cell_type": "code",
      "source": [
<<<<<<< HEAD
        "# the above row seems usless, so I'll remove it\n",
        "id = [60314]\n",
        "df = df.drop(id, axis=0)"
      ],
      "metadata": {
        "id": "BHV-XyMUTouE"
      },
      "execution_count": 30,
      "outputs": []
=======
        "data[\"source\"].unique()"
      ],
      "metadata": {
        "colab": {
          "base_uri": "https://localhost:8080/"
        },
        "id": "-rsHrbh9cGGu",
        "outputId": "eaf3a45e-b0d0-4548-829b-98333a6d9f68"
      },
      "execution_count": 62,
      "outputs": [
        {
          "output_type": "execute_result",
          "data": {
            "text/plain": [
              "array(['Web', 'Phone', 'E-mail', 'Letter', 'Twitter', 'Facebook',\n",
              "       'Telefoon', 'WhatsApp', 'Customer - Chat'], dtype=object)"
            ]
          },
          "metadata": {},
          "execution_count": 62
        }
      ]
    },
    {
      "cell_type": "markdown",
      "source": [
        "### Visualize from which source are the most ocurring queries."
      ],
      "metadata": {
        "id": "bh4C8I-EcodF"
      }
>>>>>>> 4b8edd56e0b7a0a33a04386f4fd8d7025c4f6198
    },
    {
      "cell_type": "code",
      "source": [
<<<<<<< HEAD
        "df[\"descr\"][92519] "
      ],
      "metadata": {
        "id": "KqOW_qdXTNWP"
      },
      "execution_count": null,
      "outputs": []
=======
        "plt.figure(figsize=(12,6))\n",
        "sns.countplot(x=\"source\", data=data)"
      ],
      "metadata": {
        "colab": {
          "base_uri": "https://localhost:8080/",
          "height": 408
        },
        "id": "VoHhQgDia2z7",
        "outputId": "fb2c5c01-c4a7-4c4d-98cd-18c42aafdbf4"
      },
      "execution_count": 63,
      "outputs": [
        {
          "output_type": "execute_result",
          "data": {
            "text/plain": [
              "<Axes: xlabel='source', ylabel='count'>"
            ]
          },
          "metadata": {},
          "execution_count": 63
        },
        {
          "output_type": "display_data",
          "data": {
            "text/plain": [
              "<Figure size 864x432 with 1 Axes>"
            ],
            "image/png": "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\n"
          },
          "metadata": {
            "needs_background": "light"
          }
        }
      ]
>>>>>>> 4b8edd56e0b7a0a33a04386f4fd8d7025c4f6198
    },
    {
      "cell_type": "code",
      "source": [
<<<<<<< HEAD
        "df[\"descr\"][92515]"
      ],
      "metadata": {
        "id": "D8-kBs5jTHzc"
      },
      "execution_count": null,
      "outputs": []
=======
        "counts = data[\"source\"].value_counts()\n",
        "counts"
      ],
      "metadata": {
        "colab": {
          "base_uri": "https://localhost:8080/"
        },
        "id": "Y9EMzsVijb0X",
        "outputId": "c3bd260c-c43a-4234-d4c2-7ed2b403c541"
      },
      "execution_count": 64,
      "outputs": [
        {
          "output_type": "execute_result",
          "data": {
            "text/plain": [
              "WhatsApp           47976\n",
              "Phone              40691\n",
              "E-mail              5267\n",
              "Web                 1203\n",
              "Letter               413\n",
              "Twitter              289\n",
              "Telefoon              58\n",
              "Facebook              14\n",
              "Customer - Chat        1\n",
              "Name: source, dtype: int64"
            ]
          },
          "metadata": {},
          "execution_count": 64
        }
      ]
    },
    {
      "cell_type": "markdown",
      "source": [
        "### Explore the text distribution"
      ],
      "metadata": {
        "id": "91fgay7nlXlD"
      }
>>>>>>> 4b8edd56e0b7a0a33a04386f4fd8d7025c4f6198
    },
    {
      "cell_type": "code",
      "source": [
<<<<<<< HEAD
        " df.isnull().sum()[df.isnull().sum()>0]"
      ],
      "metadata": {
        "id": "GG1zG-VWUYyN"
      },
      "execution_count": null,
=======
        "data[\"text_length\"] = data[\"descr\"].astype(str).apply(len)\n",
        "data[\"text_word_count\"] = data[\"descr\"].apply(lambda x: len(str(x).split()))"
      ],
      "metadata": {
        "id": "Cbsa7k--lMxR"
      },
      "execution_count": 65,
>>>>>>> 4b8edd56e0b7a0a33a04386f4fd8d7025c4f6198
      "outputs": []
    },
    {
      "cell_type": "code",
      "source": [
<<<<<<< HEAD
        "data = df.dropna()"
      ],
      "metadata": {
        "id": "OS8zGzleVgrg"
      },
      "execution_count": 53,
      "outputs": []
=======
        "# plot the length of the characters in a case query\n",
        "sns.distplot(data[\"text_length\"])\n",
        "plt.xlim([0, 1000]);\n",
        "plt.xlabel(\"Number of characters in a case description.\");"
      ],
      "metadata": {
        "colab": {
          "base_uri": "https://localhost:8080/",
          "height": 279
        },
        "id": "ivY_FU_GlMvK",
        "outputId": "675fd0ac-e2c4-45f7-ef8a-0a9c3757d185"
      },
      "execution_count": 66,
      "outputs": [
        {
          "output_type": "display_data",
          "data": {
            "text/plain": [
              "<Figure size 432x288 with 1 Axes>"
            ],
            "image/png": "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\n"
          },
          "metadata": {
            "needs_background": "light"
          }
        }
      ]
    },
    {
      "cell_type": "code",
      "source": [
        "# plot the number of words in a case query\n",
        "sns.distplot(data[\"text_word_count\"])\n",
        "plt.xlim([0, 100]);\n",
        "plt.xlabel(\"Number of tokens(words) in a case description.\");"
      ],
      "metadata": {
        "colab": {
          "base_uri": "https://localhost:8080/",
          "height": 279
        },
        "id": "HJ2Y5hz1lMss",
        "outputId": "bb325deb-8f0b-4f08-aa77-fa98368ccbeb"
      },
      "execution_count": 67,
      "outputs": [
        {
          "output_type": "display_data",
          "data": {
            "text/plain": [
              "<Figure size 432x288 with 1 Axes>"
            ],
            "image/png": "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\n"
          },
          "metadata": {
            "needs_background": "light"
          }
        }
      ]
    },
    {
      "cell_type": "markdown",
      "source": [
        "### Explore the cases per `Web source`"
      ],
      "metadata": {
        "id": "kVtU52NmmOIW"
      }
    },
    {
      "cell_type": "code",
      "source": [
        "# select the cases which are coming from the 'Web'\n",
        "web_cases = data[data.source.isin([\"Web\"])]\n",
        "web_cases[\"descr\"].head(25)"
      ],
      "metadata": {
        "colab": {
          "base_uri": "https://localhost:8080/"
        },
        "id": "x1SwyPUnmN5m",
        "outputId": "944a4e90-94f8-4a31-b8a4-348f63faeeee"
      },
      "execution_count": 68,
      "outputs": [
        {
          "output_type": "execute_result",
          "data": {
            "text/plain": [
              "0     Mijn vrouw had wat van deze noten in haar kwar...\n",
              "1     Beste Jumbo, wij zijn al heel lang klant bij h...\n",
              "2     Gisteravond is een hele krat met boodschappen ...\n",
              "3     Goedemorgen. Ik had een paar weken geleden bes...\n",
              "4     Ik heb ruim 20 minuten moeten wachten voordat ...\n",
              "5     Het tijdstip van bezorging zou tussen 8.00 en ...\n",
              "6     Beste, Bij mijn online bestelling had ik Oedip...\n",
              "7     Deze klant heeft een terugbetaling van statieg...\n",
              "8     Deze klant heeft een terugbetaling van statieg...\n",
              "9     Deze klant heeft een terugbetaling van statieg...\n",
              "10    Deze klant heeft een terugbetaling van statieg...\n",
              "11    Deze klant heeft een terugbetaling van statieg...\n",
              "12    Deze klant heeft een terugbetaling van statieg...\n",
              "13    Ik koop regelmatig de Jumbo XL inlegkruisjes. ...\n",
              "14    Ik heb een tijd geleden kontakt gehad met de k...\n",
              "15    Jumbo had actie van leeuwenzegel frituurvet 50...\n",
              "16    Deze klant heeft een terugbetaling van statieg...\n",
              "17    Smelt chocolade melk jumbo huismerk heeft alle...\n",
              "18    I ordered several Graze items to get free deli...\n",
              "19    Deze klant heeft een terugbetaling van statieg...\n",
              "20    Voor de 4de keer laten thuisbezorgen. Kan niet...\n",
              "21    Bestelnummer 6029494884: bestelkosten ten onre...\n",
              "22    Deze klant heeft een terugbetaling van statieg...\n",
              "23    Ik was er eigenlijk van overtuigd dat ik produ...\n",
              "24    Wij hebben voor vandaag maandag 4 juli boodsch...\n",
              "Name: descr, dtype: object"
            ]
          },
          "metadata": {},
          "execution_count": 68
        }
      ]
    },
    {
      "cell_type": "code",
      "source": [
        "web_cases[\"descr\"][0]"
      ],
      "metadata": {
        "colab": {
          "base_uri": "https://localhost:8080/",
          "height": 36
        },
        "id": "wbMmox78mNwD",
        "outputId": "3c3de79f-b2a9-4b4e-a548-9f6c5eb89ede"
      },
      "execution_count": 69,
      "outputs": [
        {
          "output_type": "execute_result",
          "data": {
            "text/plain": [
              "'Mijn vrouw had wat van deze noten in haar kwark gedaan en beet vervolgens bijna haar kies kapot! Normaal valt dit wel op maar omdat het nu in de kwark zat viel niet niet op.'"
            ],
            "application/vnd.google.colaboratory.intrinsic+json": {
              "type": "string"
            }
          },
          "metadata": {},
          "execution_count": 69
        }
      ]
    },
    {
      "cell_type": "code",
      "source": [
        "web_cases[\"descr\"][235]"
      ],
      "metadata": {
        "colab": {
          "base_uri": "https://localhost:8080/",
          "height": 73
        },
        "id": "6jDuZmyVneZb",
        "outputId": "28fbcda9-ae8d-427e-f2c6-4b3572c4f071"
      },
      "execution_count": 70,
      "outputs": [
        {
          "output_type": "execute_result",
          "data": {
            "text/plain": [
              "'Deze klant heeft een terugbetaling van statiegeld aangevraagd voor: 3 x volle krat bier 18/24 fles / campina. Unitprijs: 3.9 EUR. Totale prijs: 11.7 EUR. 1. Doe een terugbetaling voor deze artikelen op statiegeldartikelen (géén producten) met dezelfde prijs in de huidige bestelling. 2. Voor artikelen die niet in de huidige bestelling zitten, doe een terugbetaling op statiegeldartikelen (géén producten) met dezelfde prijs in een eerdere bestelling. 3. Maak een GOGW aan voor de resterende statiegeldartikelen. 4. Stuur een handmatige ipv automatische e-mail naar de klant om uit te leggen hoe ze hun geld terugkrijgen.'"
            ],
            "application/vnd.google.colaboratory.intrinsic+json": {
              "type": "string"
            }
          },
          "metadata": {},
          "execution_count": 70
        }
      ]
    },
    {
      "cell_type": "code",
      "source": [
        "web_cases[\"descr\"][263]"
      ],
      "metadata": {
        "colab": {
          "base_uri": "https://localhost:8080/",
          "height": 73
        },
        "id": "eT7hjJeLnhwY",
        "outputId": "4e566581-9f37-4a3c-e0e6-ffb5a7660c26"
      },
      "execution_count": 71,
      "outputs": [
        {
          "output_type": "execute_result",
          "data": {
            "text/plain": [
              "'Deze klant heeft een terugbetaling van statiegeld aangevraagd voor: 6 x lege fles frisdrank. Unitprijs: 0.25 EUR. Totale prijs: 1.50 EUR. 1. Doe een terugbetaling voor deze artikelen op statiegeldartikelen (géén producten) met dezelfde prijs in de huidige bestelling. 2. Voor artikelen die niet in de huidige bestelling zitten, doe een terugbetaling op statiegeldartikelen (géén producten) met dezelfde prijs in een eerdere bestelling. 3. Maak een GOGW aan voor de resterende statiegeldartikelen. 4. Stuur een handmatige ipv automatische e-mail naar de klant om uit te leggen hoe ze hun geld terugkrijgen.'"
            ],
            "application/vnd.google.colaboratory.intrinsic+json": {
              "type": "string"
            }
          },
          "metadata": {},
          "execution_count": 71
        }
      ]
    },
    {
      "cell_type": "code",
      "source": [
        "web_cases[\"descr\"][553]"
      ],
      "metadata": {
        "colab": {
          "base_uri": "https://localhost:8080/",
          "height": 73
        },
        "id": "dsIjl2ehns2r",
        "outputId": "9bc8ba37-ea60-41df-d080-e06c00822b82"
      },
      "execution_count": 72,
      "outputs": [
        {
          "output_type": "execute_result",
          "data": {
            "text/plain": [
              "'Deze klant heeft een terugbetaling van statiegeld aangevraagd voor: 2 x volle krat bier 18/24 fles / campina. Unitprijs: 3.9 EUR. Totale prijs: 7.8 EUR. 1. Doe een terugbetaling voor deze artikelen op statiegeldartikelen (géén producten) met dezelfde prijs in de huidige bestelling. 2. Voor artikelen die niet in de huidige bestelling zitten, doe een terugbetaling op statiegeldartikelen (géén producten) met dezelfde prijs in een eerdere bestelling. 3. Maak een GOGW aan voor de resterende statiegeldartikelen. 4. Stuur een handmatige ipv automatische e-mail naar de klant om uit te leggen hoe ze hun geld terugkrijgen.'"
            ],
            "application/vnd.google.colaboratory.intrinsic+json": {
              "type": "string"
            }
          },
          "metadata": {},
          "execution_count": 72
        }
      ]
    },
    {
      "cell_type": "code",
      "source": [
        "web_cases[\"descr\"][810]"
      ],
      "metadata": {
        "colab": {
          "base_uri": "https://localhost:8080/",
          "height": 91
        },
        "id": "5p2BtH22nNsJ",
        "outputId": "a28a41f7-6c48-4cc8-95f9-fda7721047c6"
      },
      "execution_count": 73,
      "outputs": [
        {
          "output_type": "execute_result",
          "data": {
            "text/plain": [
              "'Deze klant heeft een terugbetaling van statiegeld aangevraagd voor: 2 x Jumbo boodschappenkrat. Unitprijs: 5 EUR. Totale prijs: 10 EUR. 3 x Plastic tas. Unitprijs: 0.05 EUR. Totale prijs: 0.15 EUR. 3 x volle krat bier 18/24 fles / campina. Unitprijs: 3.9 EUR. Totale prijs: 11.7 EUR. 1. Doe een terugbetaling voor deze artikelen op statiegeldartikelen (géén producten) met dezelfde prijs in de huidige bestelling. 2. Voor artikelen die niet in de huidige bestelling zitten, doe een terugbetaling op statiegeldartikelen (géén producten) met dezelfde prijs in een eerdere bestelling. 3. Maak een GOGW aan voor de resterende statiegeldartikelen. 4. Stuur een handmatige ipv automatische e-mail naar de klant om uit te leggen hoe ze hun geld terugkrijgen.'"
            ],
            "application/vnd.google.colaboratory.intrinsic+json": {
              "type": "string"
            }
          },
          "metadata": {},
          "execution_count": 73
        }
      ]
    },
    {
      "cell_type": "markdown",
      "source": [
        "### Explore the cases per `Phone source`"
      ],
      "metadata": {
        "id": "6-b42XzFn5b5"
      }
    },
    {
      "cell_type": "code",
      "source": [
        "# select the cases which are coming from the 'Phone'\n",
        "phone_cases = data[data.source.isin([\"Phone\"])]\n",
        "phone_cases[\"descr\"].head(25)"
      ],
      "metadata": {
        "colab": {
          "base_uri": "https://localhost:8080/"
        },
        "id": "GjV-f9vcn47W",
        "outputId": "0eec18d4-3130-4f58-aab9-1a16b3b26c5e"
      },
      "execution_count": 74,
      "outputs": [
        {
          "output_type": "execute_result",
          "data": {
            "text/plain": [
              "1203                    klacht over baas en bazin winkel.\n",
              "1204    Kredietlimiet ?1.00 Bestedingsruimte ?-25.02 8...\n",
              "1205    bezorger door de heg gereden. mail gestuurd. 1...\n",
              "1206                       Klant belt wacht op bestelling\n",
              "1207    Klant belt, bestelling is vertraagd maar heeft...\n",
              "1208                 belt over een bestelling van vandaag\n",
              "1209                 klant heeft verkeerde krat ontvangen\n",
              "1210            Klant had een terug betaling aangevraagd,\n",
              "1211    Klant belt vraag is waarom de Remis fritesaus ...\n",
              "1212          Vragen over pas en account en punten sparen\n",
              "1213                             betalingslimiet verhogen\n",
              "1214    wij zijn een stichting en andere lokaties hebb...\n",
              "1215    kl geeft aan dat haar account geblokkeerd is d...\n",
              "1216    Kl wilde weten hoe ze de bestelling moest beta...\n",
              "1217                       vraagt waar de bezorger blijft\n",
              "1218    bestelling komt 5u maar kl kan niet thuis zijn...\n",
              "1219    Klant belde en gaf aan dat ze zich bijna heeft...\n",
              "1220        vraag of haar bestelling goed is doorgekomen.\n",
              "1221                       Bestelling wijzigen na cutt of\n",
              "1222                Klant wilt graag op rekening betalen.\n",
              "1223                           te weinig bestedingsruimte\n",
              "1224    Klant heeft een berichtje gehad waardoor haar ...\n",
              "1225                             hoelaat komt de bezorger\n",
              "1226                                           bestelling\n",
              "1227    Gebruikersnaam: M. Willemsen Consultancy E-mai...\n",
              "Name: descr, dtype: object"
            ]
          },
          "metadata": {},
          "execution_count": 74
        }
      ]
    },
    {
      "cell_type": "code",
      "source": [
        "phone_cases[\"descr\"][1227]"
      ],
      "metadata": {
        "colab": {
          "base_uri": "https://localhost:8080/",
          "height": 36
        },
        "id": "8irx4Gdro3hq",
        "outputId": "50baa7b3-6042-485b-ef28-1eae61e1a89f"
      },
      "execution_count": 77,
      "outputs": [
        {
          "output_type": "execute_result",
          "data": {
            "text/plain": [
              "'Gebruikersnaam: M. Willemsen Consultancy E-mail: willemsenconsultancy@outlook.com Klanttype: B2B Debiteurennummer: Order Nummer: 6065837814'"
            ],
            "application/vnd.google.colaboratory.intrinsic+json": {
              "type": "string"
            }
          },
          "metadata": {},
          "execution_count": 77
        }
      ]
    },
    {
      "cell_type": "code",
      "source": [
        "phone_cases[\"descr\"][1219]"
      ],
      "metadata": {
        "colab": {
          "base_uri": "https://localhost:8080/",
          "height": 36
        },
        "id": "tgnMJKJYo3eY",
        "outputId": "7dd6b657-6ffa-4a83-831c-9f73c1b0b014"
      },
      "execution_count": 78,
      "outputs": [
        {
          "output_type": "execute_result",
          "data": {
            "text/plain": [
              "'Klant belde en gaf aan dat ze zich bijna heeft verband aan zak droogijs.'"
            ],
            "application/vnd.google.colaboratory.intrinsic+json": {
              "type": "string"
            }
          },
          "metadata": {},
          "execution_count": 78
        }
      ]
    },
    {
      "cell_type": "code",
      "source": [
        "phone_cases[\"descr\"][1227]"
      ],
      "metadata": {
        "id": "lzDXonmmpU5C",
        "outputId": "dfb4e1a8-0abb-47b2-e10e-f50d2f0b279a",
        "colab": {
          "base_uri": "https://localhost:8080/",
          "height": 36
        }
      },
      "execution_count": 89,
      "outputs": [
        {
          "output_type": "execute_result",
          "data": {
            "text/plain": [
              "'Gebruikersnaam: M. Willemsen Consultancy E-mail: willemsenconsultancy@outlook.com Klanttype: B2B Debiteurennummer: Order Nummer: 6065837814'"
            ],
            "application/vnd.google.colaboratory.intrinsic+json": {
              "type": "string"
            }
          },
          "metadata": {},
          "execution_count": 89
        }
      ]
    },
    {
      "cell_type": "code",
      "source": [
        "phone_cases[\"descr\"][1205]"
      ],
      "metadata": {
        "id": "_VN7it5dpZMG",
        "outputId": "3b09b522-96ed-4091-b3a7-41af2c89a7fc",
        "colab": {
          "base_uri": "https://localhost:8080/",
          "height": 36
        }
      },
      "execution_count": 90,
      "outputs": [
        {
          "output_type": "execute_result",
          "data": {
            "text/plain": [
              "'bezorger door de heg gereden. mail gestuurd. 13-06 / doorgestuurd naar P&S voor HUB Breda / mail van kl met bijlage ook doorgestuurd'"
            ],
            "application/vnd.google.colaboratory.intrinsic+json": {
              "type": "string"
            }
          },
          "metadata": {},
          "execution_count": 90
        }
      ]
    },
    {
      "cell_type": "markdown",
      "source": [
        "### Explore the cases per `WhatsApp source`"
      ],
      "metadata": {
        "id": "V-eSGKjupQR4"
      }
    },
    {
      "cell_type": "code",
      "source": [
        "# select the cases which are coming from the 'Phone'\n",
        "whapp_cases = data[data.source.isin([\"WhatsApp\"])]\n",
        "whapp_cases[\"descr\"].head(25)"
      ],
      "metadata": {
        "outputId": "ba7ab8a1-8150-41a7-d30e-c90e813c88f9",
        "colab": {
          "base_uri": "https://localhost:8080/"
        },
        "id": "ozYBP55rpQR6"
      },
      "execution_count": 79,
      "outputs": [
        {
          "output_type": "execute_result",
          "data": {
            "text/plain": [
              "47935    Dag, ik had een probleem met mijn bestelling v...\n",
              "47936    Beste heer mevrouw Inmiddels zijn we 3 maanden...\n",
              "47937    Hallo, staan er voedingswaarden vermeld op de ...\n",
              "47938    Bij Bestelling: 6057976661 had ik een servicec...\n",
              "47939    Hi! Ik heb mijn bestelling net ontvangen. Ik h...\n",
              "47940    Hello, is it possible to have this conversatio...\n",
              "47941    Hallo ik wil even door geven dat ik morgen een...\n",
              "47942    Hallo Jumbo! Ik probeer artikelen aan mijn bes...\n",
              "47943    Goedenmiddag. Ik had 4 repen verkade besteld 1...\n",
              "47944    Best Jumbo, ik heb nog geen terug betaling ont...\n",
              "47945    Goede morgen ik wacht als sinds 8:00 op mijn b...\n",
              "47946    Hoi Wij missen een aantal producten bij onze b...\n",
              "47947    Goedemiddag, de app geeft geen besteltijd meer...\n",
              "47948    Goedenavond, het is al niet meer nodig, ze hee...\n",
              "47949    Ik ben klaar met mijn boodschappenlijst maar e...\n",
              "47950    Volgens mij zitten de gratis producten er niet...\n",
              "47951    Hallo, ik probeer al een tijdje een online bes...\n",
              "47952    Goedendag, ik ben benieuwd waar ik mijn nr van...\n",
              "47953    Dit heb ik gedaan Op welk pasnummer worden ze ...\n",
              "47954    Wij willen online bestellen. Hebben een code v...\n",
              "47955    Hallo, ik mis twee producten in jullie assorti...\n",
              "47956    Goedenavond, Vanavond bij het uitpakken van de...\n",
              "47957    Goedemorgen! Graag zou ik mijn pas willen kopp...\n",
              "47958    Hallo, De punten van de extra pas zijn niet bi...\n",
              "47959    Vraagje, ik heb nog geen rekening van de boods...\n",
              "Name: descr, dtype: object"
            ]
          },
          "metadata": {},
          "execution_count": 79
        }
      ]
    },
    {
      "cell_type": "code",
      "source": [
        "whapp_cases[\"descr\"][47935]"
      ],
      "metadata": {
        "colab": {
          "base_uri": "https://localhost:8080/",
          "height": 91
        },
        "id": "u-S4okGopejV",
        "outputId": "ed2131e1-3f0e-483f-bc86-8292ddfc8ef9"
      },
      "execution_count": 80,
      "outputs": [
        {
          "output_type": "execute_result",
          "data": {
            "text/plain": [
              "'Dag, ik had een probleem met mijn bestelling van 14/2/23 gemeld. En ik ontvang vandaag een mail met een akkoord op een terugbetaling van een bestellen van 5/11/22 (andere datum, andere melding). Denk dat er iets niet goed gaat?? Hallo Antoinette , je chat met Rubin. Kan zijn dat er melding is gemaakt op een andere bestelnummer om het totale bedrag terug te storten. Maar heb je een screenshot? Dan kan ik met je meekijken, ik hoor graag van je. Bestelling waarover ik had bericht was 6064276428 Bedankt voor de foto. Volgens het systeem is te zien dat er een fout is gemaakt met de datum.Het gaat om hetzelfde bedrag 😊. Ik hoop je voldoende te hebben geinformeerd. Fijne avond!'"
            ],
            "application/vnd.google.colaboratory.intrinsic+json": {
              "type": "string"
            }
          },
          "metadata": {},
          "execution_count": 80
        }
      ]
    },
    {
      "cell_type": "code",
      "source": [
        "whapp_cases[\"descr\"][47938]"
      ],
      "metadata": {
        "colab": {
          "base_uri": "https://localhost:8080/",
          "height": 55
        },
        "id": "dtUI5ujOpsHu",
        "outputId": "5cc5ed26-b182-4ca5-e1ea-3cb82508567a"
      },
      "execution_count": 81,
      "outputs": [
        {
          "output_type": "execute_result",
          "data": {
            "text/plain": [
              "'Bij Bestelling: 6057976661 had ik een servicecode ingevuld voor 5 euro korting tegen inlevering van 1000 punten. Deze 5,00 staat niet op de bon vermeld, is er niet getrokken terwijl deze bij het totaal verkregen korting wel is meegeteld. Laat maar, ik zie net dat het in het totaal wel te zien is. Het staat er alleen niet apart op vermeld. Oke toppie👍. Fijne dag.'"
            ],
            "application/vnd.google.colaboratory.intrinsic+json": {
              "type": "string"
            }
          },
          "metadata": {},
          "execution_count": 81
        }
      ]
    },
    {
      "cell_type": "code",
      "source": [
        "whapp_cases[\"descr\"][47957]"
      ],
      "metadata": {
        "colab": {
          "base_uri": "https://localhost:8080/",
          "height": 128
        },
        "id": "qOJK9JwlpvUY",
        "outputId": "a332f1ca-3d18-47f7-d5ab-02a8624f3b7b"
      },
      "execution_count": 82,
      "outputs": [
        {
          "output_type": "execute_result",
          "data": {
            "text/plain": [
              "'Goedemorgen! Graag zou ik mijn pas willen koppelen aan mijn online account want dan kan ik de punten sparen. Is er ook een optie om koopzegels gelijk bij te kopen? Met vriendelijke groet Welmoed Hallo Welmoed je chat met Dewi, je kan je pas koppelen om door het zelfde emailadres te gebruiken die je bij je jumbo online gebruikt. Je kan helaas geen koopzegels online sparen. Je kan wel losse koopzegels kopen bij de servicebalie. Voor verdere vragen hoor ik het graag! Verder wens ik je een fijne avond! Hallo dewi! Ik gebruik hetzelfde mail adres voor mijn jumbo pas en voor mijn online app Dus hoe kan ik hem dan koppelen? Dan staat die automatisch gekoppeld doordat je het zelfde emailadres gebruikt! Voor verdere vragen hoor ik het graag! Verder wens ik je een fijne avond😊 Helaas krijg ik geen punten dus er gaat ergens iets mis Oh jee! Hoe lang ontvang je al geen punten? Zo lang ik bij jullie bestel al niet 😂 Nu begreep ik dat er in het begin niet gekoppeld kon worden met de pas maar dat dat sinds een paar maanden wel kan Dat is vreemd! Ik zal dit naar de juiste afdeling sturen. Zodra we antwoord hebben nemen we contact op! Voor verdere vragen hoor ik het graag! Verder wens ik je een fijne avond! Dank je wel!'"
            ],
            "application/vnd.google.colaboratory.intrinsic+json": {
              "type": "string"
            }
          },
          "metadata": {},
          "execution_count": 82
        }
      ]
    },
    {
      "cell_type": "code",
      "source": [
        "whapp_cases[\"descr\"][47959]"
      ],
      "metadata": {
        "id": "HM3RsEVRpHnU",
        "outputId": "3049f15f-17d0-4dc0-e2cf-8e3edac17dd3",
        "colab": {
          "base_uri": "https://localhost:8080/",
          "height": 55
        }
      },
      "execution_count": 88,
      "outputs": [
        {
          "output_type": "execute_result",
          "data": {
            "text/plain": [
              "'Vraagje, ik heb nog geen rekening van de boodschappen van vanmorgen. Hoelang kan het duren voor ik kan betalen? Hallo Nicole, je chat met Hajar. Bedankt voor het berict. Het betaalverzoek ontvang je altijd binnen twee werkdagen. Ik hoop je voldoende te hebben geiformeerd. Fijne dag verder!'"
            ],
            "application/vnd.google.colaboratory.intrinsic+json": {
              "type": "string"
            }
          },
          "metadata": {},
          "execution_count": 88
        }
      ]
    },
    {
      "cell_type": "markdown",
      "source": [
        "### Explore the cases per `E-mail source`"
      ],
      "metadata": {
        "id": "wgGypyH_qQBj"
      }
    },
    {
      "cell_type": "code",
      "source": [
        "# select the cases which are coming from the 'Phone'\n",
        "email_cases = data[data.source.isin([\"E-mail\"])]\n",
        "email_cases[\"descr\"].head(25)"
      ],
      "metadata": {
        "outputId": "a8f35275-558a-43c8-83d4-e7e5712e8a84",
        "colab": {
          "base_uri": "https://localhost:8080/"
        },
        "id": "yTXzX04gqQBk"
      },
      "execution_count": 83,
      "outputs": [
        {
          "output_type": "execute_result",
          "data": {
            "text/plain": [
              "41894    Is deze mailing niet goed leesbaar? Bekijk de ...\n",
              "41895    Hallo Ik koop altijd bij Jumbo (Udenhout) mijn...\n",
              "41896    Goedemiddag, Ik heb daarnet een mailtje gestuu...\n",
              "41897    Goedemiddag, Uw betaald de verkeerde ordernumm...\n",
              "41898    Beste Jumbo Zeker fijn dat jullie deze informa...\n",
              "41899    Hoezo kan ik het pas zaterdagavond ophalen. Ma...\n",
              "41900    Geachte heer/mevrouw, Zojuist al een mail gest...\n",
              "41901    Claudia Kleinherenbrink Industrieweg 10 ? 5281...\n",
              "41902    Lekker op tijd! Hij is al op Met vriendelijke ...\n",
              "41903    Van: Bianca Meerkerk <bianca_meerkerk@hotmail....\n",
              "41904    Geachte, Ik.heb nog niks ontvangen. Kunt u het...\n",
              "41905    [cid:image001.png@01D92C27.26DE2660] Beselare,...\n",
              "41906    *via niv2 inbox* Van: i.p.n.van_tilburg@lumc.n...\n",
              "41907    Goedemorgen, Kan het zo zijn dat ik dit bedrag...\n",
              "41908    Al voldaan!! Verzonden vanaf mijn Galaxy -----...\n",
              "41909    L.S., vanmiddag hadden wij op ons vakantiemenu...\n",
              "41910    [Microsoft]<https://products.office.com> Bekij...\n",
              "41911                         Bij deze bewijs van betaling\n",
              "41912    Goedendag, Graag ontvang ik deze bon in het ve...\n",
              "41913    Beste lezer Ik kan die 56 euro niet betalen, i...\n",
              "41914    Hallo, In de 2e editie van de Jumbo gids/catal...\n",
              "41915    Het is niet voor niets dat ik mijn boodschappe...\n",
              "41916    dank voor de herinnering! helemaal vergeten ov...\n",
              "41917    Ja ik ben tevreden over de jumbo Op ma 20 feb....\n",
              "41918    Goede avond, Na telefonisch contact met 1 van ...\n",
              "Name: descr, dtype: object"
            ]
          },
          "metadata": {},
          "execution_count": 83
        }
      ]
    },
    {
      "cell_type": "code",
      "source": [
        "email_cases[\"descr\"][41894]"
      ],
      "metadata": {
        "colab": {
          "base_uri": "https://localhost:8080/",
          "height": 110
        },
        "id": "qjSJ-nW3qWJl",
        "outputId": "78c6bbe0-59a2-4fe7-f86f-b3da02739bd2"
      },
      "execution_count": 84,
      "outputs": [
        {
          "output_type": "execute_result",
          "data": {
            "text/plain": [
              "'Is deze mailing niet goed leesbaar? Bekijk de mailing in uw browser<https://mailchi.mp/vadelo/verpakkingsmateriaal-direct-leverbaar-441862?e=5efbb5638f> [https://gallery.mailchimp.com/8f8fef41f06e12b3f9d1e70f7/images/c41480a8-4b7b-4a61-b467-c3b74ec1cc27.jpg]<https://officepalace.us3.list-manage.com/track/click?u=8f8fef41f06e12b3f9d1e70f7&id=060180fac3&e=5efbb5638f> [https://mcusercontent.com/8f8fef41f06e12b3f9d1e70f7/images/1694ef67-db6b-f9ad-15dd-d6981514d057.png]<https://officepalace.us3.list-manage.com/track/click?u=8f8fef41f06e12b3f9d1e70f7&id=8a2caa959a&e=5efbb5638f> Beste relatie, Vanuit de markt merken wij vanuit Vadelo een verhoogde vraag naar zelftesten. Momenteel hebben wij nog voldoende op voorraad. Vadelo levert direct uit eigen import, daardoor bieden we dus altijd de laagste prijs. Gebruiksvriendelijke speekseltesten en neustesten: - FlowFlex Single pack NL ? 529.965 op voorraad - FlowFlex Single pack EN ? 24.038 op voorraad - FlowFlex 5-pack ? 21.682 op voorraad - FlowFlex Lollipop Single packed ? 6.257 op voorraad - Flowflex 25-pack ? 1.336 op voorraad OP=OP Vul je voorraad zelftesten aan! Neem direct contact op voor meer informatie en het plaatsen van een bestelling.? Je kunt rechtstreeks contact opnemen door op de foto van uw accountmanager te klikken of laat hier<mailto:verkoop@vadelo.nl?subject=Terugbelverzoek%20Verpakkingsmateriaal&body=Ik%20ben%20ge%C3%AFnteresseerd%20in%20het%20aanbod%20verpakkingsmateriaal.%20Belt%20u%20mij%20hierover%20terug%3F%0A%0ABedrijfsnaam%3A%20%20%20%20%20%20%20%20%20%20%20%20%20%20%20%20%20%0AContactpersoon%3A%20%20%20%20%20%20%20%20%20%20%20%20%0ATelefoonnummer%3A%20%0ATijdstip%3A%20%20%20%20%20%20%20%20%20%20%20%20%0A> een terugbelverzoek achter. [https://mcusercontent.com/8f8fef41f06e12b3f9d1e70f7/images/e562bd4b-1aa8-71d4-407b-7925637d8b45.png]<mailto:a.wolbers@vadelo.nl>[https://mcusercontent.com/8f8fef41f06e12b3f9d1e70f7/images/c409a184-8b47-77d5-830a-c852d257e622.png]<mailto:j.dierks@vadelo.nl>[https://mcusercontent.com/8f8fef41f06e12b3f9d1e70f7/images/4d98dcb2-d97c-f1a7-4fb4-97b55fd93cd0.png]<mailto:a.ram@vadelo.nl>[https://mcusercontent.com/8f8fef41f06e12b3f9d1e70f7/images/8ab8a6da-19cb-5d3d-1cea-dbf5fff610dd.png]<mailto:x.hendriks@vadelo.nl> [https://mcusercontent.com/8f8fef41f06e12b3f9d1e70f7/images/c8cd92a9-d781-2828-af20-6b0c466d9b24.png]<mailto:m.krijgsman@vadelo.nl>[https://mcusercontent.com/8f8fef41f06e12b3f9d1e70f7/images/5f69be5f-3a39-0b2d-b14e-f737bc6cccb3.png]<mailto:m.vanham@vadelo.nl>[https://mcusercontent.com/8f8fef41f06e12b3f9d1e70f7/images/c7c409d6-55e2-997d-c733-d644bc7ba4f8.png]<mailto:n.denouden@vadelo.nl> Waarom Vadelo? * Betrouwbare partner * Wereldwijd netwerk * Laagste prijs garantie * Snelle levering Volg ons en blijf op de hoogte van actuele deals [https://mcusercontent.com/8f8fef41f06e12b3f9d1e70f7/images/f2635f31-2309-3612-7a70-39b096d15df2.png] <https://officepalace.us3.list-manage.com/track/click?u=8f8fef41f06e12b3f9d1e70f7&id=b2c8058237&e=5efbb5638f> Informatie Website Vadelo <https://officepalace.us3.list-manage.com/track/click?u=8f8fef41f06e12b3f9d1e70f7&id=9b6242a1a1&e=5efbb5638f> Over ons <https://officepalace.us3.list-manage.com/track/click?u=8f8fef41f06e12b3f9d1e70f7&id=c82fee9b86&e=5efbb5638f> Producten <https://officepalace.us3.list-manage.com/track/click?u=8f8fef41f06e12b3f9d1e70f7&id=88c33e759c&e=5efbb5638f> Handelsgebied <https://officepalace.us3.list-manage.com/track/click?u=8f8fef41f06e12b3f9d1e70f7&id=e905706486&e=5efbb5638f> Klantenservice Contactgegevens <https://officepalace.us3.list-manage.com/track/click?u=8f8fef41f06e12b3f9d1e70f7&id=aa51945a19&e=5efbb5638f> Download catalogus <https://officepalace.us3.list-manage.com/track/click?u=8f8fef41f06e12b3f9d1e70f7&id=c52cbdc3a6&e=5efbb5638f> Contact Schellingstraat 22 4879 NK Etten-Leur Nederland marketing@vadelo.nl <mailto:info@vadelo.nl> +31 (0)85 - 7441107 <tel:+31765041684> U ontvangt van ons deze mail omdat u in het verleden bij ons hebt besteld, advies hebt ontvangen of u zich hebt aangemeld voor nieuwsupdates Afmelden nieuwsbrief <https://officepalace.us3.list-manage.com/unsubscribe?u=8f8fef41f06e12b3f9d1e70f7&id=148e7a0ed7&e=5efbb5638f&c=0edf672ce3>'"
            ],
            "application/vnd.google.colaboratory.intrinsic+json": {
              "type": "string"
            }
          },
          "metadata": {},
          "execution_count": 84
        }
      ]
    },
    {
      "cell_type": "code",
      "source": [
        "email_cases[\"descr\"][41895]"
      ],
      "metadata": {
        "colab": {
          "base_uri": "https://localhost:8080/",
          "height": 73
        },
        "id": "yKAr1JCpqWBX",
        "outputId": "4c0656d8-0eaa-4740-979a-5406e18922cc"
      },
      "execution_count": 85,
      "outputs": [
        {
          "output_type": "execute_result",
          "data": {
            "text/plain": [
              "'Hallo Ik koop altijd bij Jumbo (Udenhout) mijn verspakket om lasagne te maken, omdat deze erg lekker is. Echter: De laatste keer zaten er 8 ipv 9 lasagnebladen in. Ik ging ervan uit dat dit een vergissing was. Maar helaas ook nu weer een pakket met maar 8 lasagnebladen. Dat is vervelend, want je hebt 3 lagen van 3 bladen nodig. Is dit een vergissing of verandering van samenstelling in het pakket? In het laatste geval zal ik gaan overstappen naar een ander merk/winkel. Ik zie graag uw reactie tegemoet. J v Wijk Verzonden vanaf mijn Galaxy'"
            ],
            "application/vnd.google.colaboratory.intrinsic+json": {
              "type": "string"
            }
          },
          "metadata": {},
          "execution_count": 85
        }
      ]
    },
    {
      "cell_type": "code",
      "source": [
        "email_cases[\"descr\"][41914]"
      ],
      "metadata": {
        "colab": {
          "base_uri": "https://localhost:8080/",
          "height": 110
        },
        "id": "DLV-xX_Yq4B2",
        "outputId": "a9961b08-d52c-460a-ca6f-b51125f8813c"
      },
      "execution_count": 86,
      "outputs": [
        {
          "output_type": "execute_result",
          "data": {
            "text/plain": [
              "'Hallo, In de 2e editie van de Jumbo gids/catalogus hebben jullie op pagina 45 tips staan over wat er in de koelkast bewaard moet worden (zie bijlage) Hierover heb ik een aanmerking. Het is namelijk zo dat, wanneer je boodschappen online besteld, bepaalde groenten en fruit gekoeld worden aangeleverd. Zodra je deze buiten de koeling gaan bewaren veranderen zij snel van conditie. Jullie pretenderen in de gids dat die groenten en fruit buiten de koelkast moeten worden bewaard en leveren dit zelf koel aan. Waarom? Jullie verkorten hierdoor de levensduur door het enorme temperatuurverschil. Hierdoor ben ik als klant verplicht om het ook te koelen, wil ik het langer kunnen bewaren. Als ik het namelijk in de koele conditie in de keuken leg merk je dat diverse producten met 3 dagen allemaal niet meer lekker zijn. Ik krijg in 3 dagen tijd geen volledig net aan sinaasappelen leeg. Hopelijk kunnen en/of gaan jullie dit aanpassen in het proces want het is heel vervelend. Ik bestel voor het gemak maar moet dankzij derving vaak weer naar een supermarkt toe. Je bent altijd afhankelijk van hoe het product reageert op het verschil in temperatuur. Als ze al veel schade hebben opgelopen gaat het product hard van je af. Groet, Sabine van Dalen'"
            ],
            "application/vnd.google.colaboratory.intrinsic+json": {
              "type": "string"
            }
          },
          "metadata": {},
          "execution_count": 86
        }
      ]
    },
    {
      "cell_type": "code",
      "source": [
        "email_cases[\"descr\"][41918]"
      ],
      "metadata": {
        "colab": {
          "base_uri": "https://localhost:8080/",
          "height": 110
        },
        "id": "_OAreQn6qtul",
        "outputId": "b7f35cb0-b19b-4e6a-f4be-b8f0cf005f32"
      },
      "execution_count": 87,
      "outputs": [
        {
          "output_type": "execute_result",
          "data": {
            "text/plain": [
              "'Goede avond, Na telefonisch contact met 1 van uw medewerkers stuur ik u deze mail. Ik heb 31 december 2022 voor mijn verjaardag een JUMBO Cadeaukaart ontvangen van mijn zus, ter waarde van ?15,- Afgelopen zaterdag wil ik deze cadeaukaart inleveren bij jullie vestiging in Hank (Kerkstraat) maar volgens de caissière stond er geen tegoed op en vroeg of ik vandaag terug kon komen omdat dan de hoofdverantwoordelijke aanwezig was. Vandaag ben ik teruggegaan en kreeg het advies om via de klantenservice contact met u op te nemen. Waarop de medewerker van de klantenservice weer zei dat ik een mail moest sturen met alle gegevens. Bij deze: - De desbetreffende kaart - Bewijs dat betaling geslaagd is - En een screenshot dat naar mijn idee, desbetreffende medewerker eerst ?15,- op de kaart heeft gezet en deze vervolgens er binnen 23 seconden er weer vanaf heeft gehaald.... #vreemd Hopende u hier voldoende mee te hebben geïnformeerd en zie ik graag de besproken oplossing tegemoet. Met vriendelijke groeten, Annie van Delft - Wintermans'"
            ],
            "application/vnd.google.colaboratory.intrinsic+json": {
              "type": "string"
            }
          },
          "metadata": {},
          "execution_count": 87
        }
      ]
    },
    {
      "cell_type": "markdown",
      "source": [
        "### Explore the cases per `Letter source`"
      ],
      "metadata": {
        "id": "X_0Tiz0vvnf9"
      }
    },
    {
      "cell_type": "code",
      "source": [
        "# select the cases which are coming from the 'Phone'\n",
        "letter_cases = data[data.source.isin([\"Letter\"])]\n",
        "letter_cases[\"descr\"].head(25)"
      ],
      "metadata": {
        "colab": {
          "base_uri": "https://localhost:8080/"
        },
        "outputId": "45a1d9c9-88c8-4c8a-c244-14efcded817d",
        "id": "ZKY23AEqvnf-"
      },
      "execution_count": 91,
      "outputs": [
        {
          "output_type": "execute_result",
          "data": {
            "text/plain": [
              "47161                    100% controle uitgevoerd door P&S\n",
              "47162                                           GOGW lijst\n",
              "47163       Kl mailt: Geeft aan geen statiegeld verrekend.\n",
              "47164                                           GOGW lijst\n",
              "47165                                           GOGW lijst\n",
              "47166                                           GOGW lijst\n",
              "47167               Kl mailt: Heeft geen zegels ontvangen.\n",
              "47168    Klant is pas kwijt / heeft geen andere passen ...\n",
              "47169    Doetinchem jumbo ontvangt deze met een tht dat...\n",
              "47170    24-1 Servicepakket// Kaart binnengekregen via ...\n",
              "47171    klant stuurde een verpakking cake, was droog e...\n",
              "47172                Op verzoek van p&s refund aangemaakt.\n",
              "47173    impossible to change the favorite store in pro...\n",
              "47174                                       GOGW JSC klant\n",
              "47175    Goedenavond, Nog even een aanvulling. Ik heb e...\n",
              "47176                 Op verzoek van P&S zegels verstuurd.\n",
              "47177                                       GOGW JSC klant\n",
              "47178                                   bestelling te laat\n",
              "47179                                       GOGW JSC klant\n",
              "47180    Klant heeft een productklacht. Een stukje plas...\n",
              "47181    Klant geeft in een brief aan dat er stukjes va...\n",
              "47182                                       GOGW JSC klant\n",
              "47183                                       GOGW JSC klant\n",
              "47184    Brief ontvangen via directie Zie toegevoegde b...\n",
              "47185    Klant Jumbo kuipjes zalm kabeljauw voor de kat...\n",
              "Name: descr, dtype: object"
            ]
          },
          "metadata": {},
          "execution_count": 91
        }
      ]
    },
    {
      "cell_type": "code",
      "source": [
        "phone_cases[\"descr\"][1227]"
      ],
      "metadata": {
        "colab": {
          "base_uri": "https://localhost:8080/",
          "height": 36
        },
        "outputId": "50baa7b3-6042-485b-ef28-1eae61e1a89f",
        "id": "F68WiAbtvnf-"
      },
      "execution_count": null,
      "outputs": [
        {
          "output_type": "execute_result",
          "data": {
            "text/plain": [
              "'Gebruikersnaam: M. Willemsen Consultancy E-mail: willemsenconsultancy@outlook.com Klanttype: B2B Debiteurennummer: Order Nummer: 6065837814'"
            ],
            "application/vnd.google.colaboratory.intrinsic+json": {
              "type": "string"
            }
          },
          "metadata": {},
          "execution_count": 77
        }
      ]
>>>>>>> 4b8edd56e0b7a0a33a04386f4fd8d7025c4f6198
    }
  ]
}