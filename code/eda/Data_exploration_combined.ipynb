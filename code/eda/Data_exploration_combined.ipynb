{
  "cells": [
    {
      "cell_type": "markdown",
      "metadata": {
        "id": "kQkULXGmGRSk"
      },
      "source": [
        "<h1> Exploratory Data Analysis (EDA) </h1>"
      ]
    },
    {
      "cell_type": "code",
      "execution_count": null,
      "metadata": {
        "colab": {
          "base_uri": "https://localhost:8080/"
        },
        "id": "VTgsR-ajPl9y",
        "outputId": "8b752ce3-793d-4bfe-b2c5-097aa23db4c5"
      },
      "outputs": [
        {
          "output_type": "stream",
          "name": "stdout",
          "text": [
            "Drive already mounted at /content/drive; to attempt to forcibly remount, call drive.mount(\"/content/drive\", force_remount=True).\n"
          ]
        }
      ],
      "source": [
        "from google.colab import drive\n",
        "drive.mount('/content/drive')"
      ]
    },
    {
      "cell_type": "markdown",
      "metadata": {
        "id": "u_19FbjcFNvo"
      },
      "source": [
        "### Add the libraries"
      ]
    },
    {
      "cell_type": "code",
      "execution_count": null,
      "metadata": {
        "colab": {
          "base_uri": "https://localhost:8080/"
        },
        "id": "VlOQMXbd_Wdt",
        "outputId": "46f76784-c5fd-4493-87a8-46468317a031"
      },
      "outputs": [
        {
          "output_type": "stream",
          "name": "stdout",
          "text": [
            "Looking in indexes: https://pypi.org/simple, https://us-python.pkg.dev/colab-wheels/public/simple/\n",
            "Collecting emoji\n",
            "  Downloading emoji-2.2.0.tar.gz (240 kB)\n",
            "\u001b[2K     \u001b[90m━━━━━━━━━━━━━━━━━━━━━━━━━━━━━━━━━━━━━━━\u001b[0m \u001b[32m240.9/240.9 KB\u001b[0m \u001b[31m4.8 MB/s\u001b[0m eta \u001b[36m0:00:00\u001b[0m\n",
            "\u001b[?25h  Preparing metadata (setup.py) ... \u001b[?25l\u001b[?25hdone\n",
            "Building wheels for collected packages: emoji\n",
            "  Building wheel for emoji (setup.py) ... \u001b[?25l\u001b[?25hdone\n",
            "  Created wheel for emoji: filename=emoji-2.2.0-py3-none-any.whl size=234926 sha256=01dcd7be4acde85d5d4455b3863ea254070dac4927db759391043c99caeacf44\n",
            "  Stored in directory: /root/.cache/pip/wheels/9a/b8/0f/f580817231cbf59f6ade9fd132ff60ada1de9f7dc85521f857\n",
            "Successfully built emoji\n",
            "Installing collected packages: emoji\n",
            "Successfully installed emoji-2.2.0\n"
          ]
        }
      ],
      "source": [
        "!pip install emoji\n",
        "# !pip install plotly==5.13.1 "
      ]
    },
    {
      "cell_type": "code",
      "execution_count": null,
      "metadata": {
        "colab": {
          "base_uri": "https://localhost:8080/"
        },
        "id": "vwP6l-gGhE67",
        "outputId": "4de98009-aa74-4045-a8c4-0ee5046ee633"
      },
      "outputs": [
        {
          "output_type": "stream",
          "name": "stderr",
          "text": [
            "[nltk_data] Downloading package stopwords to /root/nltk_data...\n",
            "[nltk_data]   Unzipping corpora/stopwords.zip.\n"
          ]
        }
      ],
      "source": [
        "import pandas as pd\n",
        "import numpy as np\n",
        "import re\n",
        "import string\n",
        "import emoji\n",
        "\n",
        "import matplotlib.pyplot as plt\n",
        "import seaborn as sns\n",
        "import plotly.express as px\n",
        "\n",
        "import nltk\n",
        "nltk.download('stopwords')\n",
        "from nltk.corpus import stopwords\n",
        "from sklearn.feature_extraction.text import CountVectorizer\n",
        "from sklearn.decomposition import LatentDirichletAllocation\n",
        "\n",
        "import warnings\n",
        "warnings.filterwarnings(\"ignore\")"
      ]
    },
    {
      "cell_type": "markdown",
      "metadata": {
        "id": "56B7PMXMFTqh"
      },
      "source": [
        "### Load the combined data set"
      ]
    },
    {
      "cell_type": "code",
      "execution_count": null,
      "metadata": {
        "colab": {
          "base_uri": "https://localhost:8080/",
          "height": 496
        },
        "id": "gROodVBIhOTm",
        "outputId": "da6c2b68-036c-46b2-d553-a19baee0dc39"
      },
      "outputs": [
        {
          "output_type": "execute_result",
          "data": {
            "text/plain": [
              "   Unnamed: 0                            session_id  \\\n",
              "0           0  b4f10369-b2f4-4563-8133-0cc7bcaeb2e4   \n",
              "1           1  99c92c26-cdfc-425e-b0a9-649f93c9cc2b   \n",
              "2           2  99c92c26-cdfc-425e-b0a9-649f93c9cc2b   \n",
              "3           3  965900e2-f1a3-4106-94a3-b76ef5ad86b1   \n",
              "4           4  33bbbc4d-f1eb-40b4-be85-08de9ed4193b   \n",
              "\n",
              "                                               query      intent  \\\n",
              "0  ons abobbement lijkt afgesloten terwijl we wel...  faq.thanks   \n",
              "1                                   Ik ga wel bellen  faq.thanks   \n",
              "2                                   Ik ga wel bellen  faq.thanks   \n",
              "3                                            Dank je  faq.thanks   \n",
              "4  Is mijn bestelling bekend bij jullie? Betaling...  faq.thanks   \n",
              "\n",
              "             page_funnel          responses fallback fallback_funnel  \\\n",
              "0        ['Else' 'Else']  ['Graag gedaan!']    False             NaN   \n",
              "1        ['Else' 'Else']  ['Graag gedaan!']    False             NaN   \n",
              "2        ['Else' 'Else']  ['Graag gedaan!']    False             NaN   \n",
              "3        ['Else' 'Else']  ['Graag gedaan!']    False             NaN   \n",
              "4  ['Welcome' 'Welcome']  ['Graag gedaan!']    False             NaN   \n",
              "\n",
              "   feedback first_intent fulfillment_error             source  origin  \\\n",
              "0       NaN        False                []  ACTIONS_ON_GOOGLE     NaN   \n",
              "1       NaN        False                []  ACTIONS_ON_GOOGLE     NaN   \n",
              "2       NaN        False                []  ACTIONS_ON_GOOGLE     NaN   \n",
              "3       NaN        False                []  ACTIONS_ON_GOOGLE     NaN   \n",
              "4       NaN         True                []  ACTIONS_ON_GOOGLE     NaN   \n",
              "\n",
              "  preferences_shown preference_picked products_shown product_clicked  \\\n",
              "0               NaN               NaN             []             NaN   \n",
              "1               NaN               NaN             []             NaN   \n",
              "2               NaN               NaN             []             NaN   \n",
              "3               NaN               NaN             []             NaN   \n",
              "4               NaN               NaN             []             NaN   \n",
              "\n",
              "                          timestamp  session_duration isTestMessage  \n",
              "0  2022-02-21 07:23:32.446993+00:00               NaN         False  \n",
              "1  2022-03-03 08:00:51.074421+00:00             140.0         False  \n",
              "2  2022-03-03 08:00:51.074421+00:00             140.0         False  \n",
              "3  2021-12-16 07:59:45.233663+00:00             105.0         False  \n",
              "4  2021-12-20 11:58:49.831912+00:00               NaN         False  "
            ],
            "text/html": [
              "\n",
              "  <div id=\"df-2c910980-d4c9-4ba5-bafb-3db3bc4820ce\">\n",
              "    <div class=\"colab-df-container\">\n",
              "      <div>\n",
              "<style scoped>\n",
              "    .dataframe tbody tr th:only-of-type {\n",
              "        vertical-align: middle;\n",
              "    }\n",
              "\n",
              "    .dataframe tbody tr th {\n",
              "        vertical-align: top;\n",
              "    }\n",
              "\n",
              "    .dataframe thead th {\n",
              "        text-align: right;\n",
              "    }\n",
              "</style>\n",
              "<table border=\"1\" class=\"dataframe\">\n",
              "  <thead>\n",
              "    <tr style=\"text-align: right;\">\n",
              "      <th></th>\n",
              "      <th>Unnamed: 0</th>\n",
              "      <th>session_id</th>\n",
              "      <th>query</th>\n",
              "      <th>intent</th>\n",
              "      <th>page_funnel</th>\n",
              "      <th>responses</th>\n",
              "      <th>fallback</th>\n",
              "      <th>fallback_funnel</th>\n",
              "      <th>feedback</th>\n",
              "      <th>first_intent</th>\n",
              "      <th>fulfillment_error</th>\n",
              "      <th>source</th>\n",
              "      <th>origin</th>\n",
              "      <th>preferences_shown</th>\n",
              "      <th>preference_picked</th>\n",
              "      <th>products_shown</th>\n",
              "      <th>product_clicked</th>\n",
              "      <th>timestamp</th>\n",
              "      <th>session_duration</th>\n",
              "      <th>isTestMessage</th>\n",
              "    </tr>\n",
              "  </thead>\n",
              "  <tbody>\n",
              "    <tr>\n",
              "      <th>0</th>\n",
              "      <td>0</td>\n",
              "      <td>b4f10369-b2f4-4563-8133-0cc7bcaeb2e4</td>\n",
              "      <td>ons abobbement lijkt afgesloten terwijl we wel...</td>\n",
              "      <td>faq.thanks</td>\n",
              "      <td>['Else' 'Else']</td>\n",
              "      <td>['Graag gedaan!']</td>\n",
              "      <td>False</td>\n",
              "      <td>NaN</td>\n",
              "      <td>NaN</td>\n",
              "      <td>False</td>\n",
              "      <td>[]</td>\n",
              "      <td>ACTIONS_ON_GOOGLE</td>\n",
              "      <td>NaN</td>\n",
              "      <td>NaN</td>\n",
              "      <td>NaN</td>\n",
              "      <td>[]</td>\n",
              "      <td>NaN</td>\n",
              "      <td>2022-02-21 07:23:32.446993+00:00</td>\n",
              "      <td>NaN</td>\n",
              "      <td>False</td>\n",
              "    </tr>\n",
              "    <tr>\n",
              "      <th>1</th>\n",
              "      <td>1</td>\n",
              "      <td>99c92c26-cdfc-425e-b0a9-649f93c9cc2b</td>\n",
              "      <td>Ik ga wel bellen</td>\n",
              "      <td>faq.thanks</td>\n",
              "      <td>['Else' 'Else']</td>\n",
              "      <td>['Graag gedaan!']</td>\n",
              "      <td>False</td>\n",
              "      <td>NaN</td>\n",
              "      <td>NaN</td>\n",
              "      <td>False</td>\n",
              "      <td>[]</td>\n",
              "      <td>ACTIONS_ON_GOOGLE</td>\n",
              "      <td>NaN</td>\n",
              "      <td>NaN</td>\n",
              "      <td>NaN</td>\n",
              "      <td>[]</td>\n",
              "      <td>NaN</td>\n",
              "      <td>2022-03-03 08:00:51.074421+00:00</td>\n",
              "      <td>140.0</td>\n",
              "      <td>False</td>\n",
              "    </tr>\n",
              "    <tr>\n",
              "      <th>2</th>\n",
              "      <td>2</td>\n",
              "      <td>99c92c26-cdfc-425e-b0a9-649f93c9cc2b</td>\n",
              "      <td>Ik ga wel bellen</td>\n",
              "      <td>faq.thanks</td>\n",
              "      <td>['Else' 'Else']</td>\n",
              "      <td>['Graag gedaan!']</td>\n",
              "      <td>False</td>\n",
              "      <td>NaN</td>\n",
              "      <td>NaN</td>\n",
              "      <td>False</td>\n",
              "      <td>[]</td>\n",
              "      <td>ACTIONS_ON_GOOGLE</td>\n",
              "      <td>NaN</td>\n",
              "      <td>NaN</td>\n",
              "      <td>NaN</td>\n",
              "      <td>[]</td>\n",
              "      <td>NaN</td>\n",
              "      <td>2022-03-03 08:00:51.074421+00:00</td>\n",
              "      <td>140.0</td>\n",
              "      <td>False</td>\n",
              "    </tr>\n",
              "    <tr>\n",
              "      <th>3</th>\n",
              "      <td>3</td>\n",
              "      <td>965900e2-f1a3-4106-94a3-b76ef5ad86b1</td>\n",
              "      <td>Dank je</td>\n",
              "      <td>faq.thanks</td>\n",
              "      <td>['Else' 'Else']</td>\n",
              "      <td>['Graag gedaan!']</td>\n",
              "      <td>False</td>\n",
              "      <td>NaN</td>\n",
              "      <td>NaN</td>\n",
              "      <td>False</td>\n",
              "      <td>[]</td>\n",
              "      <td>ACTIONS_ON_GOOGLE</td>\n",
              "      <td>NaN</td>\n",
              "      <td>NaN</td>\n",
              "      <td>NaN</td>\n",
              "      <td>[]</td>\n",
              "      <td>NaN</td>\n",
              "      <td>2021-12-16 07:59:45.233663+00:00</td>\n",
              "      <td>105.0</td>\n",
              "      <td>False</td>\n",
              "    </tr>\n",
              "    <tr>\n",
              "      <th>4</th>\n",
              "      <td>4</td>\n",
              "      <td>33bbbc4d-f1eb-40b4-be85-08de9ed4193b</td>\n",
              "      <td>Is mijn bestelling bekend bij jullie? Betaling...</td>\n",
              "      <td>faq.thanks</td>\n",
              "      <td>['Welcome' 'Welcome']</td>\n",
              "      <td>['Graag gedaan!']</td>\n",
              "      <td>False</td>\n",
              "      <td>NaN</td>\n",
              "      <td>NaN</td>\n",
              "      <td>True</td>\n",
              "      <td>[]</td>\n",
              "      <td>ACTIONS_ON_GOOGLE</td>\n",
              "      <td>NaN</td>\n",
              "      <td>NaN</td>\n",
              "      <td>NaN</td>\n",
              "      <td>[]</td>\n",
              "      <td>NaN</td>\n",
              "      <td>2021-12-20 11:58:49.831912+00:00</td>\n",
              "      <td>NaN</td>\n",
              "      <td>False</td>\n",
              "    </tr>\n",
              "  </tbody>\n",
              "</table>\n",
              "</div>\n",
              "      <button class=\"colab-df-convert\" onclick=\"convertToInteractive('df-2c910980-d4c9-4ba5-bafb-3db3bc4820ce')\"\n",
              "              title=\"Convert this dataframe to an interactive table.\"\n",
              "              style=\"display:none;\">\n",
              "        \n",
              "  <svg xmlns=\"http://www.w3.org/2000/svg\" height=\"24px\"viewBox=\"0 0 24 24\"\n",
              "       width=\"24px\">\n",
              "    <path d=\"M0 0h24v24H0V0z\" fill=\"none\"/>\n",
              "    <path d=\"M18.56 5.44l.94 2.06.94-2.06 2.06-.94-2.06-.94-.94-2.06-.94 2.06-2.06.94zm-11 1L8.5 8.5l.94-2.06 2.06-.94-2.06-.94L8.5 2.5l-.94 2.06-2.06.94zm10 10l.94 2.06.94-2.06 2.06-.94-2.06-.94-.94-2.06-.94 2.06-2.06.94z\"/><path d=\"M17.41 7.96l-1.37-1.37c-.4-.4-.92-.59-1.43-.59-.52 0-1.04.2-1.43.59L10.3 9.45l-7.72 7.72c-.78.78-.78 2.05 0 2.83L4 21.41c.39.39.9.59 1.41.59.51 0 1.02-.2 1.41-.59l7.78-7.78 2.81-2.81c.8-.78.8-2.07 0-2.86zM5.41 20L4 18.59l7.72-7.72 1.47 1.35L5.41 20z\"/>\n",
              "  </svg>\n",
              "      </button>\n",
              "      \n",
              "  <style>\n",
              "    .colab-df-container {\n",
              "      display:flex;\n",
              "      flex-wrap:wrap;\n",
              "      gap: 12px;\n",
              "    }\n",
              "\n",
              "    .colab-df-convert {\n",
              "      background-color: #E8F0FE;\n",
              "      border: none;\n",
              "      border-radius: 50%;\n",
              "      cursor: pointer;\n",
              "      display: none;\n",
              "      fill: #1967D2;\n",
              "      height: 32px;\n",
              "      padding: 0 0 0 0;\n",
              "      width: 32px;\n",
              "    }\n",
              "\n",
              "    .colab-df-convert:hover {\n",
              "      background-color: #E2EBFA;\n",
              "      box-shadow: 0px 1px 2px rgba(60, 64, 67, 0.3), 0px 1px 3px 1px rgba(60, 64, 67, 0.15);\n",
              "      fill: #174EA6;\n",
              "    }\n",
              "\n",
              "    [theme=dark] .colab-df-convert {\n",
              "      background-color: #3B4455;\n",
              "      fill: #D2E3FC;\n",
              "    }\n",
              "\n",
              "    [theme=dark] .colab-df-convert:hover {\n",
              "      background-color: #434B5C;\n",
              "      box-shadow: 0px 1px 3px 1px rgba(0, 0, 0, 0.15);\n",
              "      filter: drop-shadow(0px 1px 2px rgba(0, 0, 0, 0.3));\n",
              "      fill: #FFFFFF;\n",
              "    }\n",
              "  </style>\n",
              "\n",
              "      <script>\n",
              "        const buttonEl =\n",
              "          document.querySelector('#df-2c910980-d4c9-4ba5-bafb-3db3bc4820ce button.colab-df-convert');\n",
              "        buttonEl.style.display =\n",
              "          google.colab.kernel.accessAllowed ? 'block' : 'none';\n",
              "\n",
              "        async function convertToInteractive(key) {\n",
              "          const element = document.querySelector('#df-2c910980-d4c9-4ba5-bafb-3db3bc4820ce');\n",
              "          const dataTable =\n",
              "            await google.colab.kernel.invokeFunction('convertToInteractive',\n",
              "                                                     [key], {});\n",
              "          if (!dataTable) return;\n",
              "\n",
              "          const docLinkHtml = 'Like what you see? Visit the ' +\n",
              "            '<a target=\"_blank\" href=https://colab.research.google.com/notebooks/data_table.ipynb>data table notebook</a>'\n",
              "            + ' to learn more about interactive tables.';\n",
              "          element.innerHTML = '';\n",
              "          dataTable['output_type'] = 'display_data';\n",
              "          await google.colab.output.renderOutput(dataTable, element);\n",
              "          const docLink = document.createElement('div');\n",
              "          docLink.innerHTML = docLinkHtml;\n",
              "          element.appendChild(docLink);\n",
              "        }\n",
              "      </script>\n",
              "    </div>\n",
              "  </div>\n",
              "  "
            ]
          },
          "metadata": {},
          "execution_count": 4
        }
      ],
      "source": [
        "df = pd.read_csv(\"/content/drive/MyDrive/datasets/downloaded-data/combined_df.csv\")\n",
        "df.head()"
      ]
    },
    {
      "cell_type": "code",
      "execution_count": null,
      "metadata": {
        "id": "SfE4W3TFhUme"
      },
      "outputs": [],
      "source": [
        "# drop the Unnamed column\n",
        "df.drop(df.columns[df.columns.str.contains('Unnamed',case = False)],axis = 1, inplace = True)"
      ]
    },
    {
      "cell_type": "markdown",
      "metadata": {
        "id": "tkjucYIsFY_g"
      },
      "source": [
        "### Explore the data set"
      ]
    },
    {
      "cell_type": "code",
      "execution_count": null,
      "metadata": {
        "colab": {
          "base_uri": "https://localhost:8080/"
        },
        "id": "7ymc7r-uh02e",
        "outputId": "4ca22606-1f9d-4fd5-e3d3-49bd0dc6bacc"
      },
      "outputs": [
        {
          "output_type": "execute_result",
          "data": {
            "text/plain": [
              "(75814, 19)"
            ]
          },
          "metadata": {},
          "execution_count": 6
        }
      ],
      "source": [
        "df.shape"
      ]
    },
    {
      "cell_type": "code",
      "execution_count": null,
      "metadata": {
        "colab": {
          "base_uri": "https://localhost:8080/"
        },
        "id": "Ime607_thkva",
        "outputId": "a53f561f-33e8-4758-d0a8-cab578e473d5"
      },
      "outputs": [
        {
          "output_type": "stream",
          "name": "stdout",
          "text": [
            "<class 'pandas.core.frame.DataFrame'>\n",
            "RangeIndex: 75814 entries, 0 to 75813\n",
            "Data columns (total 19 columns):\n",
            " #   Column             Non-Null Count  Dtype  \n",
            "---  ------             --------------  -----  \n",
            " 0   session_id         75512 non-null  object \n",
            " 1   query              75814 non-null  object \n",
            " 2   intent             75814 non-null  object \n",
            " 3   page_funnel        75814 non-null  object \n",
            " 4   responses          75512 non-null  object \n",
            " 5   fallback           75512 non-null  object \n",
            " 6   fallback_funnel    5360 non-null   object \n",
            " 7   feedback           684 non-null    float64\n",
            " 8   first_intent       75512 non-null  object \n",
            " 9   fulfillment_error  75512 non-null  object \n",
            " 10  source             75512 non-null  object \n",
            " 11  origin             0 non-null      float64\n",
            " 12  preferences_shown  32627 non-null  object \n",
            " 13  preference_picked  37841 non-null  object \n",
            " 14  products_shown     75512 non-null  object \n",
            " 15  product_clicked    5510 non-null   object \n",
            " 16  timestamp          75512 non-null  object \n",
            " 17  session_duration   19035 non-null  float64\n",
            " 18  isTestMessage      75512 non-null  object \n",
            "dtypes: float64(3), object(16)\n",
            "memory usage: 11.0+ MB\n"
          ]
        }
      ],
      "source": [
        "df.info()"
      ]
    },
    {
      "cell_type": "code",
      "execution_count": null,
      "metadata": {
        "colab": {
          "base_uri": "https://localhost:8080/",
          "height": 143
        },
        "id": "XKIUeyAlKJhT",
        "outputId": "22a9d1ab-bd57-4656-fa8e-0b41d32b2b52"
      },
      "outputs": [
        {
          "output_type": "execute_result",
          "data": {
            "text/plain": [
              "                    count       mean         std  min  25%   50%   75%  \\\n",
              "feedback            684.0   3.739766    1.172949  1.0  3.0   4.0   5.0   \n",
              "origin                0.0        NaN         NaN  NaN  NaN   NaN   NaN   \n",
              "session_duration  19035.0  84.321618  312.275469  0.0  0.0  33.0  89.0   \n",
              "\n",
              "                      max  \n",
              "feedback              7.0  \n",
              "origin                NaN  \n",
              "session_duration  23589.0  "
            ],
            "text/html": [
              "\n",
              "  <div id=\"df-a4847964-dcce-40bb-b320-5a14258507dc\">\n",
              "    <div class=\"colab-df-container\">\n",
              "      <div>\n",
              "<style scoped>\n",
              "    .dataframe tbody tr th:only-of-type {\n",
              "        vertical-align: middle;\n",
              "    }\n",
              "\n",
              "    .dataframe tbody tr th {\n",
              "        vertical-align: top;\n",
              "    }\n",
              "\n",
              "    .dataframe thead th {\n",
              "        text-align: right;\n",
              "    }\n",
              "</style>\n",
              "<table border=\"1\" class=\"dataframe\">\n",
              "  <thead>\n",
              "    <tr style=\"text-align: right;\">\n",
              "      <th></th>\n",
              "      <th>count</th>\n",
              "      <th>mean</th>\n",
              "      <th>std</th>\n",
              "      <th>min</th>\n",
              "      <th>25%</th>\n",
              "      <th>50%</th>\n",
              "      <th>75%</th>\n",
              "      <th>max</th>\n",
              "    </tr>\n",
              "  </thead>\n",
              "  <tbody>\n",
              "    <tr>\n",
              "      <th>feedback</th>\n",
              "      <td>684.0</td>\n",
              "      <td>3.739766</td>\n",
              "      <td>1.172949</td>\n",
              "      <td>1.0</td>\n",
              "      <td>3.0</td>\n",
              "      <td>4.0</td>\n",
              "      <td>5.0</td>\n",
              "      <td>7.0</td>\n",
              "    </tr>\n",
              "    <tr>\n",
              "      <th>origin</th>\n",
              "      <td>0.0</td>\n",
              "      <td>NaN</td>\n",
              "      <td>NaN</td>\n",
              "      <td>NaN</td>\n",
              "      <td>NaN</td>\n",
              "      <td>NaN</td>\n",
              "      <td>NaN</td>\n",
              "      <td>NaN</td>\n",
              "    </tr>\n",
              "    <tr>\n",
              "      <th>session_duration</th>\n",
              "      <td>19035.0</td>\n",
              "      <td>84.321618</td>\n",
              "      <td>312.275469</td>\n",
              "      <td>0.0</td>\n",
              "      <td>0.0</td>\n",
              "      <td>33.0</td>\n",
              "      <td>89.0</td>\n",
              "      <td>23589.0</td>\n",
              "    </tr>\n",
              "  </tbody>\n",
              "</table>\n",
              "</div>\n",
              "      <button class=\"colab-df-convert\" onclick=\"convertToInteractive('df-a4847964-dcce-40bb-b320-5a14258507dc')\"\n",
              "              title=\"Convert this dataframe to an interactive table.\"\n",
              "              style=\"display:none;\">\n",
              "        \n",
              "  <svg xmlns=\"http://www.w3.org/2000/svg\" height=\"24px\"viewBox=\"0 0 24 24\"\n",
              "       width=\"24px\">\n",
              "    <path d=\"M0 0h24v24H0V0z\" fill=\"none\"/>\n",
              "    <path d=\"M18.56 5.44l.94 2.06.94-2.06 2.06-.94-2.06-.94-.94-2.06-.94 2.06-2.06.94zm-11 1L8.5 8.5l.94-2.06 2.06-.94-2.06-.94L8.5 2.5l-.94 2.06-2.06.94zm10 10l.94 2.06.94-2.06 2.06-.94-2.06-.94-.94-2.06-.94 2.06-2.06.94z\"/><path d=\"M17.41 7.96l-1.37-1.37c-.4-.4-.92-.59-1.43-.59-.52 0-1.04.2-1.43.59L10.3 9.45l-7.72 7.72c-.78.78-.78 2.05 0 2.83L4 21.41c.39.39.9.59 1.41.59.51 0 1.02-.2 1.41-.59l7.78-7.78 2.81-2.81c.8-.78.8-2.07 0-2.86zM5.41 20L4 18.59l7.72-7.72 1.47 1.35L5.41 20z\"/>\n",
              "  </svg>\n",
              "      </button>\n",
              "      \n",
              "  <style>\n",
              "    .colab-df-container {\n",
              "      display:flex;\n",
              "      flex-wrap:wrap;\n",
              "      gap: 12px;\n",
              "    }\n",
              "\n",
              "    .colab-df-convert {\n",
              "      background-color: #E8F0FE;\n",
              "      border: none;\n",
              "      border-radius: 50%;\n",
              "      cursor: pointer;\n",
              "      display: none;\n",
              "      fill: #1967D2;\n",
              "      height: 32px;\n",
              "      padding: 0 0 0 0;\n",
              "      width: 32px;\n",
              "    }\n",
              "\n",
              "    .colab-df-convert:hover {\n",
              "      background-color: #E2EBFA;\n",
              "      box-shadow: 0px 1px 2px rgba(60, 64, 67, 0.3), 0px 1px 3px 1px rgba(60, 64, 67, 0.15);\n",
              "      fill: #174EA6;\n",
              "    }\n",
              "\n",
              "    [theme=dark] .colab-df-convert {\n",
              "      background-color: #3B4455;\n",
              "      fill: #D2E3FC;\n",
              "    }\n",
              "\n",
              "    [theme=dark] .colab-df-convert:hover {\n",
              "      background-color: #434B5C;\n",
              "      box-shadow: 0px 1px 3px 1px rgba(0, 0, 0, 0.15);\n",
              "      filter: drop-shadow(0px 1px 2px rgba(0, 0, 0, 0.3));\n",
              "      fill: #FFFFFF;\n",
              "    }\n",
              "  </style>\n",
              "\n",
              "      <script>\n",
              "        const buttonEl =\n",
              "          document.querySelector('#df-a4847964-dcce-40bb-b320-5a14258507dc button.colab-df-convert');\n",
              "        buttonEl.style.display =\n",
              "          google.colab.kernel.accessAllowed ? 'block' : 'none';\n",
              "\n",
              "        async function convertToInteractive(key) {\n",
              "          const element = document.querySelector('#df-a4847964-dcce-40bb-b320-5a14258507dc');\n",
              "          const dataTable =\n",
              "            await google.colab.kernel.invokeFunction('convertToInteractive',\n",
              "                                                     [key], {});\n",
              "          if (!dataTable) return;\n",
              "\n",
              "          const docLinkHtml = 'Like what you see? Visit the ' +\n",
              "            '<a target=\"_blank\" href=https://colab.research.google.com/notebooks/data_table.ipynb>data table notebook</a>'\n",
              "            + ' to learn more about interactive tables.';\n",
              "          element.innerHTML = '';\n",
              "          dataTable['output_type'] = 'display_data';\n",
              "          await google.colab.output.renderOutput(dataTable, element);\n",
              "          const docLink = document.createElement('div');\n",
              "          docLink.innerHTML = docLinkHtml;\n",
              "          element.appendChild(docLink);\n",
              "        }\n",
              "      </script>\n",
              "    </div>\n",
              "  </div>\n",
              "  "
            ]
          },
          "metadata": {},
          "execution_count": 8
        }
      ],
      "source": [
        "df.describe().T"
      ]
    },
    {
      "cell_type": "code",
      "execution_count": null,
      "metadata": {
        "colab": {
          "base_uri": "https://localhost:8080/"
        },
        "id": "9oik0Qf3hkeG",
        "outputId": "88393680-819f-439d-a788-96f861894c23"
      },
      "outputs": [
        {
          "output_type": "execute_result",
          "data": {
            "text/plain": [
              "session_id             302\n",
              "query                    0\n",
              "intent                   0\n",
              "page_funnel              0\n",
              "responses              302\n",
              "fallback               302\n",
              "fallback_funnel      70454\n",
              "feedback             75130\n",
              "first_intent           302\n",
              "fulfillment_error      302\n",
              "source                 302\n",
              "origin               75814\n",
              "preferences_shown    43187\n",
              "preference_picked    37973\n",
              "products_shown         302\n",
              "product_clicked      70304\n",
              "timestamp              302\n",
              "session_duration     56779\n",
              "isTestMessage          302\n",
              "dtype: int64"
            ]
          },
          "metadata": {},
          "execution_count": 9
        }
      ],
      "source": [
        "df.isnull().sum()"
      ]
    },
    {
      "cell_type": "code",
      "execution_count": null,
      "metadata": {
        "colab": {
          "base_uri": "https://localhost:8080/"
        },
        "id": "9kv_FCu5F2SO",
        "outputId": "468258de-5f5e-4571-81a4-8c24b757c9a3"
      },
      "outputs": [
        {
          "output_type": "execute_result",
          "data": {
            "text/plain": [
              "event.highpressure.start                    8019\n",
              "answer.yes                                  6752\n",
              "answer.no                                   5814\n",
              "event.floorcleaner.start                    5575\n",
              "ev_welcome_tijdschrift                      5417\n",
              "Fallback (unable to determine which one)    5360\n",
              "intent.submit                               4432\n",
              "purpose.answer.toepassing                   4275\n",
              "event.satisfactionFlow                      2847\n",
              "event.productClicked                        2289\n",
              "intent.yes                                  2005\n",
              "purpose.answer.else                         1857\n",
              "event.floorcleaner.satisfactionFlow         1669\n",
              "intent.activerenopzeggen                    1484\n",
              "intent.else                                 1471\n",
              "event.floorcleaner.productClicked           1292\n",
              "intent.no                                   1284\n",
              "surface.answer.20-50                        1092\n",
              "faq.abonnementOpzeggen                       953\n",
              "intent.inloggen                              877\n",
              "colour.answer.noPreference                   803\n",
              "colour.answer.white                          789\n",
              "satisfaction.received                        710\n",
              "surface.answer.50-80                         698\n",
              "faq.cannotLogin                              664\n",
              "surface.answer.100                           567\n",
              "faq.problemenActiveren                       546\n",
              "surface.answer.80-100                        498\n",
              "intent.nextStep                              425\n",
              "intent.app                                   374\n",
              "satisfactionFeedback.answer                  354\n",
              "colour.answer.yellow                         340\n",
              "surface.answer.20                            336\n",
              "ev_review                                    288\n",
              "carsize.answer.medium                        288\n",
              "any.fallback                                 251\n",
              "faq.noNewEdition                             247\n",
              "faq.medewerkerSpreken                        240\n",
              "intent.financieel                            212\n",
              "faq.appFail                                  206\n",
              "intent.unknown                               204\n",
              "carsize.answer.large                         192\n",
              "faq.postcodeRecognize                        187\n",
              "faq.abonnementWijzigen                       101\n",
              "faq.thanks                                    92\n",
              "faq.geenPrijs                                 78\n",
              "answer.electricity                            68\n",
              "Fallback                                      65\n",
              "otherusecase.submit                           65\n",
              "usecase.answer.usecases                       65\n",
              "faq.aanbod                                    57\n",
              "intent.noNewEditions                          53\n",
              "faq.werking                                   52\n",
              "faq.hoelang                                   51\n",
              "faq.webReaderFail                             51\n",
              "faq.abonnementEnded                           51\n",
              "carsize.answer.small                          50\n",
              "intent.notsucceeded                           47\n",
              "faq.vrijblijvend                              45\n",
              "answer.batteries                              45\n",
              "faq.appReinstall                              31\n",
              "faq.noDiscount                                31\n",
              "faq.oplettenTips                              31\n",
              "faq.appVersion                                27\n",
              "wall.answer.gevel                             26\n",
              "faq.otherQuestion                             25\n",
              "faq.reinigingsmiddel                          23\n",
              "faq.1ct                                       23\n",
              "faq.welkomstMail                              23\n",
              "faq.abonnementVerlengen                       22\n",
              "faq.abonnementopzeggenluktniet                21\n",
              "intent.phoneOs                                20\n",
              "faq.accountDelen                              20\n",
              "faq.fc.vloer                                  19\n",
              "Default Welcome Intent                        18\n",
              "faq.devices                                   16\n",
              "faq.bye                                       16\n",
              "faq.fc.verschil                               15\n",
              "surface.answer.number                         15\n",
              "faq.otherDevice                               14\n",
              "faq.leveringBestelling                        14\n",
              "faq.regels                                    13\n",
              "faq.test                                      13\n",
              "event.highPressure.start                      11\n",
              "faq.garantie                                  10\n",
              "event.floorCleaners.start                      9\n",
              "faq.fc.helevloer                               9\n",
              "faq.uitproberen                                9\n",
              "faq.digitaalKoppelen                           8\n",
              "faq.wensenDoorgeven                            8\n",
              "faq.freeUpSpace                                7\n",
              "wall.answer.klein                              6\n",
              "faq.fc.hondenharen                             6\n",
              "faq.offlineOnline                              6\n",
              "faq.lidWorden                                  4\n",
              "faq.fc.houtenvloer                             3\n",
              "event.productClicked1                          3\n",
              "faq.proefritThuis                              3\n",
              "intent.succeeded                               3\n",
              "ev_otherQuestion                               2\n",
              "faq.afspraakBevestigen                         2\n",
              "event.floorCleaner.start                       2\n",
              "faq.opzeggen                                   2\n",
              "faq.checklist                                  2\n",
              "faq.reinigingsmiddelAanbrengen                 2\n",
              "faq.voorwaarden                                2\n",
              "Name: intent, dtype: int64"
            ]
          },
          "metadata": {},
          "execution_count": 10
        }
      ],
      "source": [
        "pd.set_option(\"display.max_rows\", None)\n",
        "df[\"intent\"].value_counts()"
      ]
    },
    {
      "cell_type": "markdown",
      "metadata": {
        "id": "cK7CcukqMA6Z"
      },
      "source": [
        "> <h5>There are two row instances of \"Fallback\" and \"Fallback (unable to determine which one)\", which have the same meaning. Thus, categorizing them together is a logical solution.</h5>"
      ]
    },
    {
      "cell_type": "code",
      "execution_count": null,
      "metadata": {
        "id": "jYJtLuWPLuzB"
      },
      "outputs": [],
      "source": [
        "# Replace \"Fallback\" with \"Fallback (unable to determine which one)\" \n",
        "df.loc[df[\"intent\"] == \"Fallback\", \"intent\"] = \"Fallback (unable to determine which one)\""
      ]
    },
    {
      "cell_type": "code",
      "source": [
        "# Replace \"Fallback\" with \"Fallback (unable to determine which one)\" \n",
        "df.loc[df[\"intent\"] == \"any.fallback\", \"intent\"] = \"Fallback (unable to determine which one)\""
      ],
      "metadata": {
        "id": "B7dCWJUgOnKr"
      },
      "execution_count": null,
      "outputs": []
    },
    {
      "cell_type": "code",
      "execution_count": null,
      "metadata": {
        "id": "0_VCOel4NEt_"
      },
      "outputs": [],
      "source": [
        "# The \"Default Welcome Intent\" is not useful, therefore excluding it.\n",
        "df = df[df[\"intent\"] != \"Default Welcome Intent\"]"
      ]
    },
    {
      "cell_type": "code",
      "execution_count": null,
      "metadata": {
        "colab": {
          "base_uri": "https://localhost:8080/"
        },
        "id": "CmMFOTT43C43",
        "outputId": "ef2e5827-f627-467f-be1d-a1cb2a0ef99c"
      },
      "outputs": [
        {
          "output_type": "stream",
          "name": "stdout",
          "text": [
            "Number of duplicate timestamps: 422\n"
          ]
        }
      ],
      "source": [
        "# check for duplicates in the 'query' column\n",
        "duplicates = df.duplicated(subset=[\"query\" ,\"timestamp\"])\n",
        "print(\"Number of duplicate timestamps:\", duplicates.sum())"
      ]
    },
    {
      "cell_type": "code",
      "execution_count": null,
      "metadata": {
        "colab": {
          "base_uri": "https://localhost:8080/"
        },
        "id": "2n4YRZsq0Bxe",
        "outputId": "474dab7a-a28c-4738-c2ad-944278cc94da"
      },
      "outputs": [
        {
          "output_type": "stream",
          "name": "stdout",
          "text": [
            "Number of remaining rows: 75374\n"
          ]
        }
      ],
      "source": [
        "# drop duplicates based on the 'query' and 'timestamp' columns\n",
        "df.drop_duplicates(subset=[\"query\", \"timestamp\"], inplace=True)\n",
        "\n",
        "# print the number of remaining rows in the DataFrame\n",
        "print(\"Number of remaining rows:\", len(df))"
      ]
    },
    {
      "cell_type": "code",
      "execution_count": null,
      "metadata": {
        "colab": {
          "base_uri": "https://localhost:8080/",
          "height": 175
        },
        "id": "g_HwvQwlMOYC",
        "outputId": "327d01e4-9b7f-4646-9920-25111147f8e5"
      },
      "outputs": [
        {
          "output_type": "execute_result",
          "data": {
            "text/plain": [
              "                                                   query  \\\n",
              "70262  Wanneer is de app weer bruikbaar. Ik ksn geen ...   \n",
              "72932  Wanneer is de app weer bruikbaar. Ik ksn geen ...   \n",
              "73247  Wanneer is de app weer bruikbaar. Ik ksn geen ...   \n",
              "73322  Wanneer is de app weer bruikbaar. Ik ksn geen ...   \n",
              "\n",
              "                              timestamp  \n",
              "70262  2021-12-24 12:59:06.140691+00:00  \n",
              "72932  2021-12-24 12:59:18.990265+00:00  \n",
              "73247  2021-12-24 13:06:07.336400+00:00  \n",
              "73322  2021-12-24 13:06:41.694562+00:00  "
            ],
            "text/html": [
              "\n",
              "  <div id=\"df-f27781a1-9549-47bd-ab01-2749d4e75504\">\n",
              "    <div class=\"colab-df-container\">\n",
              "      <div>\n",
              "<style scoped>\n",
              "    .dataframe tbody tr th:only-of-type {\n",
              "        vertical-align: middle;\n",
              "    }\n",
              "\n",
              "    .dataframe tbody tr th {\n",
              "        vertical-align: top;\n",
              "    }\n",
              "\n",
              "    .dataframe thead th {\n",
              "        text-align: right;\n",
              "    }\n",
              "</style>\n",
              "<table border=\"1\" class=\"dataframe\">\n",
              "  <thead>\n",
              "    <tr style=\"text-align: right;\">\n",
              "      <th></th>\n",
              "      <th>query</th>\n",
              "      <th>timestamp</th>\n",
              "    </tr>\n",
              "  </thead>\n",
              "  <tbody>\n",
              "    <tr>\n",
              "      <th>70262</th>\n",
              "      <td>Wanneer is de app weer bruikbaar. Ik ksn geen ...</td>\n",
              "      <td>2021-12-24 12:59:06.140691+00:00</td>\n",
              "    </tr>\n",
              "    <tr>\n",
              "      <th>72932</th>\n",
              "      <td>Wanneer is de app weer bruikbaar. Ik ksn geen ...</td>\n",
              "      <td>2021-12-24 12:59:18.990265+00:00</td>\n",
              "    </tr>\n",
              "    <tr>\n",
              "      <th>73247</th>\n",
              "      <td>Wanneer is de app weer bruikbaar. Ik ksn geen ...</td>\n",
              "      <td>2021-12-24 13:06:07.336400+00:00</td>\n",
              "    </tr>\n",
              "    <tr>\n",
              "      <th>73322</th>\n",
              "      <td>Wanneer is de app weer bruikbaar. Ik ksn geen ...</td>\n",
              "      <td>2021-12-24 13:06:41.694562+00:00</td>\n",
              "    </tr>\n",
              "  </tbody>\n",
              "</table>\n",
              "</div>\n",
              "      <button class=\"colab-df-convert\" onclick=\"convertToInteractive('df-f27781a1-9549-47bd-ab01-2749d4e75504')\"\n",
              "              title=\"Convert this dataframe to an interactive table.\"\n",
              "              style=\"display:none;\">\n",
              "        \n",
              "  <svg xmlns=\"http://www.w3.org/2000/svg\" height=\"24px\"viewBox=\"0 0 24 24\"\n",
              "       width=\"24px\">\n",
              "    <path d=\"M0 0h24v24H0V0z\" fill=\"none\"/>\n",
              "    <path d=\"M18.56 5.44l.94 2.06.94-2.06 2.06-.94-2.06-.94-.94-2.06-.94 2.06-2.06.94zm-11 1L8.5 8.5l.94-2.06 2.06-.94-2.06-.94L8.5 2.5l-.94 2.06-2.06.94zm10 10l.94 2.06.94-2.06 2.06-.94-2.06-.94-.94-2.06-.94 2.06-2.06.94z\"/><path d=\"M17.41 7.96l-1.37-1.37c-.4-.4-.92-.59-1.43-.59-.52 0-1.04.2-1.43.59L10.3 9.45l-7.72 7.72c-.78.78-.78 2.05 0 2.83L4 21.41c.39.39.9.59 1.41.59.51 0 1.02-.2 1.41-.59l7.78-7.78 2.81-2.81c.8-.78.8-2.07 0-2.86zM5.41 20L4 18.59l7.72-7.72 1.47 1.35L5.41 20z\"/>\n",
              "  </svg>\n",
              "      </button>\n",
              "      \n",
              "  <style>\n",
              "    .colab-df-container {\n",
              "      display:flex;\n",
              "      flex-wrap:wrap;\n",
              "      gap: 12px;\n",
              "    }\n",
              "\n",
              "    .colab-df-convert {\n",
              "      background-color: #E8F0FE;\n",
              "      border: none;\n",
              "      border-radius: 50%;\n",
              "      cursor: pointer;\n",
              "      display: none;\n",
              "      fill: #1967D2;\n",
              "      height: 32px;\n",
              "      padding: 0 0 0 0;\n",
              "      width: 32px;\n",
              "    }\n",
              "\n",
              "    .colab-df-convert:hover {\n",
              "      background-color: #E2EBFA;\n",
              "      box-shadow: 0px 1px 2px rgba(60, 64, 67, 0.3), 0px 1px 3px 1px rgba(60, 64, 67, 0.15);\n",
              "      fill: #174EA6;\n",
              "    }\n",
              "\n",
              "    [theme=dark] .colab-df-convert {\n",
              "      background-color: #3B4455;\n",
              "      fill: #D2E3FC;\n",
              "    }\n",
              "\n",
              "    [theme=dark] .colab-df-convert:hover {\n",
              "      background-color: #434B5C;\n",
              "      box-shadow: 0px 1px 3px 1px rgba(0, 0, 0, 0.15);\n",
              "      filter: drop-shadow(0px 1px 2px rgba(0, 0, 0, 0.3));\n",
              "      fill: #FFFFFF;\n",
              "    }\n",
              "  </style>\n",
              "\n",
              "      <script>\n",
              "        const buttonEl =\n",
              "          document.querySelector('#df-f27781a1-9549-47bd-ab01-2749d4e75504 button.colab-df-convert');\n",
              "        buttonEl.style.display =\n",
              "          google.colab.kernel.accessAllowed ? 'block' : 'none';\n",
              "\n",
              "        async function convertToInteractive(key) {\n",
              "          const element = document.querySelector('#df-f27781a1-9549-47bd-ab01-2749d4e75504');\n",
              "          const dataTable =\n",
              "            await google.colab.kernel.invokeFunction('convertToInteractive',\n",
              "                                                     [key], {});\n",
              "          if (!dataTable) return;\n",
              "\n",
              "          const docLinkHtml = 'Like what you see? Visit the ' +\n",
              "            '<a target=\"_blank\" href=https://colab.research.google.com/notebooks/data_table.ipynb>data table notebook</a>'\n",
              "            + ' to learn more about interactive tables.';\n",
              "          element.innerHTML = '';\n",
              "          dataTable['output_type'] = 'display_data';\n",
              "          await google.colab.output.renderOutput(dataTable, element);\n",
              "          const docLink = document.createElement('div');\n",
              "          docLink.innerHTML = docLinkHtml;\n",
              "          element.appendChild(docLink);\n",
              "        }\n",
              "      </script>\n",
              "    </div>\n",
              "  </div>\n",
              "  "
            ]
          },
          "metadata": {},
          "execution_count": 16
        }
      ],
      "source": [
        "# check which rows are starting with the below string\n",
        "dupl = df[df[\"query\"].str.startswith(\"Wanneer is de app weer bruikbaar\")]\n",
        "\n",
        "# select only the 'query' column to see the user's input\n",
        "dupli = dupl[[\"query\", \"timestamp\"]]\n",
        "\n",
        "# display the resulting DataFrame\n",
        "dupli.head(50)"
      ]
    },
    {
      "cell_type": "code",
      "execution_count": null,
      "metadata": {
        "colab": {
          "base_uri": "https://localhost:8080/"
        },
        "id": "77q_dhhz0fJ0",
        "outputId": "b5177412-3111-4e6e-f2e6-94b329747530"
      },
      "outputs": [
        {
          "output_type": "stream",
          "name": "stdout",
          "text": [
            "Empty DataFrame\n",
            "Columns: [session_id, query, intent, page_funnel, responses, fallback, fallback_funnel, feedback, first_intent, fulfillment_error, source, origin, preferences_shown, preference_picked, products_shown, product_clicked, timestamp, session_duration, isTestMessage]\n",
            "Index: []\n"
          ]
        }
      ],
      "source": [
        "# group the DataFrame by the 'query' and 'timestamp' columns\n",
        "groups = df.groupby([\"query\", \"timestamp\"])\n",
        "\n",
        "# count the number of rows in each group\n",
        "counts = groups.size()\n",
        "\n",
        "# filter the groups to only show those with more than one row\n",
        "duplicates = groups.filter(lambda x: len(x) > 1)\n",
        "\n",
        "# print the duplicates\n",
        "print(duplicates)"
      ]
    },
    {
      "cell_type": "markdown",
      "metadata": {
        "id": "yG7OQ8h602mB"
      },
      "source": [
        "After using the \"drop_duplicates\", there are still some remaining rows, which are not removed. \n",
        "\n",
        "> The following code converts all the values in the timestamp column to a consistent datetime format, drops any duplicate rows based on the query and timestamp columns, and prints the number of remaining rows in the DataFrame."
      ]
    },
    {
      "cell_type": "code",
      "execution_count": null,
      "metadata": {
        "colab": {
          "base_uri": "https://localhost:8080/"
        },
        "id": "p1_lGV7u0zar",
        "outputId": "d9f4e868-9f89-46cc-9cbf-9206d3dcca90"
      },
      "outputs": [
        {
          "output_type": "stream",
          "name": "stdout",
          "text": [
            "Number of remaining rows: 75374\n"
          ]
        }
      ],
      "source": [
        "# convert the 'timestamp' column to a consistent format\n",
        "df[\"timestamp\"] = pd.to_datetime(df[\"timestamp\"])\n",
        "\n",
        "# drop duplicates based on the 'query' and 'timestamp' columns\n",
        "df.drop_duplicates(subset=[\"query\", \"timestamp\"], inplace=True)\n",
        "\n",
        "# print the number of remaining rows in the DataFrame\n",
        "print(\"Number of remaining rows:\", len(df))"
      ]
    },
    {
      "cell_type": "markdown",
      "metadata": {
        "id": "tr_K7_NP3wBk"
      },
      "source": [
        "Apparently, the above code did not find any duplicates. \n",
        "> Therefore, I will try another approach."
      ]
    },
    {
      "cell_type": "code",
      "execution_count": null,
      "metadata": {
        "colab": {
          "base_uri": "https://localhost:8080/"
        },
        "id": "eOrgaG5V0yl7",
        "outputId": "7e0410a7-2449-4f59-b6ba-18333620c6e5"
      },
      "outputs": [
        {
          "output_type": "stream",
          "name": "stdout",
          "text": [
            "Number of duplicate rows: 0\n"
          ]
        }
      ],
      "source": [
        "# find the duplicates based on the 'query' and 'timestamp' columns\n",
        "duplicates = df[df.duplicated(subset=[\"query\", \"timestamp\"], keep=False)]\n",
        "\n",
        "# print out the number of rows in the duplicates DataFrame\n",
        "print(\"Number of duplicate rows:\", len(duplicates))\n",
        "\n",
        "# loop over the duplicates and print their unique values for each column\n",
        "for _, row in duplicates.iterrows():\n",
        "    print(\"Query:\", row[\"query\"])\n",
        "    print(\"Timestamp:\", row[\"timestamp\"])\n",
        "    print(\"Session ID:\", row[\"session_id\"])\n",
        "    print(\"Intent:\", row[\"intent\"])"
      ]
    },
    {
      "cell_type": "code",
      "execution_count": null,
      "metadata": {
        "colab": {
          "base_uri": "https://localhost:8080/"
        },
        "id": "imvY15BH4dp8",
        "outputId": "6bc6c0de-ea37-4a78-e1cc-ac767f7e9e60"
      },
      "outputs": [
        {
          "output_type": "stream",
          "name": "stdout",
          "text": [
            "(75374,) (75374,)\n"
          ]
        }
      ],
      "source": [
        "print(df[\"query\"].shape, df[\"timestamp\"].shape)"
      ]
    },
    {
      "cell_type": "code",
      "source": [
        "pd.set_option(\"display.max_rows\", None)\n",
        "df[\"intent\"].value_counts()"
      ],
      "metadata": {
        "colab": {
          "base_uri": "https://localhost:8080/"
        },
        "id": "AdHgrFDGNM05",
        "outputId": "2ecbd917-3880-46f0-e174-a6519d50a74e"
      },
      "execution_count": null,
      "outputs": [
        {
          "output_type": "execute_result",
          "data": {
            "text/plain": [
              "event.highpressure.start                    8019\n",
              "answer.yes                                  6752\n",
              "answer.no                                   5814\n",
              "Fallback (unable to determine which one)    5650\n",
              "event.floorcleaner.start                    5575\n",
              "ev_welcome_tijdschrift                      5353\n",
              "intent.submit                               4432\n",
              "purpose.answer.toepassing                   4275\n",
              "event.satisfactionFlow                      2847\n",
              "event.productClicked                        2289\n",
              "intent.yes                                  1985\n",
              "purpose.answer.else                         1857\n",
              "event.floorcleaner.satisfactionFlow         1669\n",
              "intent.activerenopzeggen                    1471\n",
              "intent.else                                 1458\n",
              "event.floorcleaner.productClicked           1292\n",
              "intent.no                                   1268\n",
              "surface.answer.20-50                        1092\n",
              "faq.abonnementOpzeggen                       944\n",
              "intent.inloggen                              872\n",
              "colour.answer.noPreference                   803\n",
              "colour.answer.white                          789\n",
              "satisfaction.received                        710\n",
              "surface.answer.50-80                         698\n",
              "faq.cannotLogin                              661\n",
              "surface.answer.100                           567\n",
              "faq.problemenActiveren                       541\n",
              "surface.answer.80-100                        498\n",
              "intent.nextStep                              417\n",
              "intent.app                                   366\n",
              "satisfactionFeedback.answer                  354\n",
              "colour.answer.yellow                         340\n",
              "surface.answer.20                            336\n",
              "carsize.answer.medium                        288\n",
              "ev_review                                    284\n",
              "faq.noNewEdition                             244\n",
              "faq.medewerkerSpreken                        239\n",
              "intent.financieel                            211\n",
              "intent.unknown                               204\n",
              "faq.appFail                                  200\n",
              "carsize.answer.large                         192\n",
              "faq.postcodeRecognize                        183\n",
              "faq.abonnementWijzigen                       101\n",
              "faq.thanks                                    91\n",
              "faq.geenPrijs                                 78\n",
              "answer.electricity                            68\n",
              "otherusecase.submit                           65\n",
              "usecase.answer.usecases                       65\n",
              "faq.aanbod                                    56\n",
              "faq.webReaderFail                             51\n",
              "carsize.answer.small                          50\n",
              "faq.abonnementEnded                           50\n",
              "intent.noNewEditions                          49\n",
              "intent.notsucceeded                           47\n",
              "answer.batteries                              45\n",
              "faq.noDiscount                                31\n",
              "faq.appReinstall                              31\n",
              "faq.appVersion                                27\n",
              "wall.answer.gevel                             26\n",
              "faq.welkomstMail                              23\n",
              "faq.reinigingsmiddel                          23\n",
              "faq.1ct                                       23\n",
              "faq.abonnementVerlengen                       22\n",
              "intent.phoneOs                                20\n",
              "faq.abonnementopzeggenluktniet                20\n",
              "faq.fc.vloer                                  19\n",
              "faq.accountDelen                              18\n",
              "faq.devices                                   16\n",
              "faq.bye                                       16\n",
              "faq.fc.verschil                               15\n",
              "surface.answer.number                         15\n",
              "faq.otherDevice                               14\n",
              "faq.test                                      13\n",
              "faq.leveringBestelling                        13\n",
              "event.highPressure.start                      11\n",
              "faq.garantie                                  10\n",
              "faq.fc.helevloer                               9\n",
              "faq.uitproberen                                9\n",
              "event.floorCleaners.start                      9\n",
              "faq.digitaalKoppelen                           8\n",
              "faq.freeUpSpace                                6\n",
              "wall.answer.klein                              6\n",
              "faq.fc.hondenharen                             6\n",
              "faq.hoelang                                    6\n",
              "faq.vrijblijvend                               5\n",
              "faq.offlineOnline                              5\n",
              "faq.regels                                     4\n",
              "faq.lidWorden                                  4\n",
              "intent.succeeded                               3\n",
              "faq.proefritThuis                              3\n",
              "event.productClicked1                          3\n",
              "faq.fc.houtenvloer                             3\n",
              "faq.oplettenTips                               3\n",
              "faq.werking                                    3\n",
              "faq.otherQuestion                              3\n",
              "faq.afspraakBevestigen                         2\n",
              "event.floorCleaner.start                       2\n",
              "faq.opzeggen                                   2\n",
              "faq.checklist                                  2\n",
              "ev_otherQuestion                               2\n",
              "faq.reinigingsmiddelAanbrengen                 2\n",
              "faq.voorwaarden                                2\n",
              "faq.wensenDoorgeven                            1\n",
              "Name: intent, dtype: int64"
            ]
          },
          "metadata": {},
          "execution_count": 21
        }
      ]
    },
    {
      "cell_type": "code",
      "execution_count": null,
      "metadata": {
        "id": "OAxJR9c2IvF6"
      },
      "outputs": [],
      "source": [
        "# create a boolean mask for rows that contain \"event\" or \"ev_\" \n",
        "event_mask = df[\"intent\"].str.startswith(\"event\") | df[\"intent\"].str.startswith(\"ev_\")\n",
        "\n",
        "# create a new filtered DataFrame without the events\n",
        "filt_df = df[~event_mask].reset_index(drop=True)"
      ]
    },
    {
      "cell_type": "code",
      "execution_count": null,
      "metadata": {
        "colab": {
          "base_uri": "https://localhost:8080/"
        },
        "id": "7_VzhgLLgrUA",
        "outputId": "34d90b9d-170c-4f99-bd0a-d74d5df9d24b"
      },
      "outputs": [
        {
          "output_type": "execute_result",
          "data": {
            "text/plain": [
              "(48019, 19)"
            ]
          },
          "metadata": {},
          "execution_count": 23
        }
      ],
      "source": [
        "filt_df.shape"
      ]
    },
    {
      "cell_type": "code",
      "execution_count": null,
      "metadata": {
        "colab": {
          "base_uri": "https://localhost:8080/"
        },
        "id": "dZCZ8ugDJXb8",
        "outputId": "2233f5d0-1293-4031-c963-8c98b530182d"
      },
      "outputs": [
        {
          "output_type": "execute_result",
          "data": {
            "text/plain": [
              "answer.yes                                  6752\n",
              "answer.no                                   5814\n",
              "Fallback (unable to determine which one)    5650\n",
              "intent.submit                               4432\n",
              "purpose.answer.toepassing                   4275\n",
              "intent.yes                                  1985\n",
              "purpose.answer.else                         1857\n",
              "intent.activerenopzeggen                    1471\n",
              "intent.else                                 1458\n",
              "intent.no                                   1268\n",
              "surface.answer.20-50                        1092\n",
              "faq.abonnementOpzeggen                       944\n",
              "intent.inloggen                              872\n",
              "colour.answer.noPreference                   803\n",
              "colour.answer.white                          789\n",
              "satisfaction.received                        710\n",
              "surface.answer.50-80                         698\n",
              "faq.cannotLogin                              661\n",
              "surface.answer.100                           567\n",
              "faq.problemenActiveren                       541\n",
              "surface.answer.80-100                        498\n",
              "intent.nextStep                              417\n",
              "intent.app                                   366\n",
              "satisfactionFeedback.answer                  354\n",
              "colour.answer.yellow                         340\n",
              "surface.answer.20                            336\n",
              "carsize.answer.medium                        288\n",
              "faq.noNewEdition                             244\n",
              "faq.medewerkerSpreken                        239\n",
              "intent.financieel                            211\n",
              "intent.unknown                               204\n",
              "faq.appFail                                  200\n",
              "carsize.answer.large                         192\n",
              "faq.postcodeRecognize                        183\n",
              "faq.abonnementWijzigen                       101\n",
              "faq.thanks                                    91\n",
              "faq.geenPrijs                                 78\n",
              "answer.electricity                            68\n",
              "usecase.answer.usecases                       65\n",
              "otherusecase.submit                           65\n",
              "faq.aanbod                                    56\n",
              "faq.webReaderFail                             51\n",
              "faq.abonnementEnded                           50\n",
              "carsize.answer.small                          50\n",
              "intent.noNewEditions                          49\n",
              "intent.notsucceeded                           47\n",
              "answer.batteries                              45\n",
              "faq.noDiscount                                31\n",
              "faq.appReinstall                              31\n",
              "faq.appVersion                                27\n",
              "wall.answer.gevel                             26\n",
              "faq.reinigingsmiddel                          23\n",
              "faq.1ct                                       23\n",
              "faq.welkomstMail                              23\n",
              "faq.abonnementVerlengen                       22\n",
              "faq.abonnementopzeggenluktniet                20\n",
              "intent.phoneOs                                20\n",
              "faq.fc.vloer                                  19\n",
              "faq.accountDelen                              18\n",
              "faq.devices                                   16\n",
              "faq.bye                                       16\n",
              "surface.answer.number                         15\n",
              "faq.fc.verschil                               15\n",
              "faq.otherDevice                               14\n",
              "faq.test                                      13\n",
              "faq.leveringBestelling                        13\n",
              "faq.garantie                                  10\n",
              "faq.fc.helevloer                               9\n",
              "faq.uitproberen                                9\n",
              "faq.digitaalKoppelen                           8\n",
              "wall.answer.klein                              6\n",
              "faq.freeUpSpace                                6\n",
              "faq.fc.hondenharen                             6\n",
              "faq.hoelang                                    6\n",
              "faq.offlineOnline                              5\n",
              "faq.vrijblijvend                               5\n",
              "faq.regels                                     4\n",
              "faq.lidWorden                                  4\n",
              "faq.fc.houtenvloer                             3\n",
              "faq.proefritThuis                              3\n",
              "intent.succeeded                               3\n",
              "faq.oplettenTips                               3\n",
              "faq.werking                                    3\n",
              "faq.otherQuestion                              3\n",
              "faq.afspraakBevestigen                         2\n",
              "faq.checklist                                  2\n",
              "faq.reinigingsmiddelAanbrengen                 2\n",
              "faq.opzeggen                                   2\n",
              "faq.voorwaarden                                2\n",
              "faq.wensenDoorgeven                            1\n",
              "Name: intent, dtype: int64"
            ]
          },
          "metadata": {},
          "execution_count": 24
        }
      ],
      "source": [
        "filt_df[\"intent\"].value_counts()"
      ]
    },
    {
      "cell_type": "code",
      "execution_count": null,
      "metadata": {
        "colab": {
          "base_uri": "https://localhost:8080/"
        },
        "id": "okr5XvUWA8UE",
        "outputId": "5a0d4b86-3c6d-4ade-dddc-f56d3c1ccce6"
      },
      "outputs": [
        {
          "output_type": "stream",
          "name": "stdout",
          "text": [
            "<class 'pandas.core.frame.DataFrame'>\n",
            "RangeIndex: 48019 entries, 0 to 48018\n",
            "Data columns (total 19 columns):\n",
            " #   Column             Non-Null Count  Dtype              \n",
            "---  ------             --------------  -----              \n",
            " 0   session_id         47921 non-null  object             \n",
            " 1   query              48019 non-null  object             \n",
            " 2   intent             48019 non-null  object             \n",
            " 3   page_funnel        48019 non-null  object             \n",
            " 4   responses          47921 non-null  object             \n",
            " 5   fallback           47921 non-null  object             \n",
            " 6   fallback_funnel    5335 non-null   object             \n",
            " 7   feedback           684 non-null    float64            \n",
            " 8   first_intent       47921 non-null  object             \n",
            " 9   fulfillment_error  47921 non-null  object             \n",
            " 10  source             47921 non-null  object             \n",
            " 11  origin             0 non-null      float64            \n",
            " 12  preferences_shown  23085 non-null  object             \n",
            " 13  preference_picked  35898 non-null  object             \n",
            " 14  products_shown     47921 non-null  object             \n",
            " 15  product_clicked    227 non-null    object             \n",
            " 16  timestamp          47921 non-null  datetime64[ns, UTC]\n",
            " 17  session_duration   8231 non-null   float64            \n",
            " 18  isTestMessage      47921 non-null  object             \n",
            "dtypes: datetime64[ns, UTC](1), float64(3), object(15)\n",
            "memory usage: 7.0+ MB\n"
          ]
        }
      ],
      "source": [
        "filt_df.info()"
      ]
    },
    {
      "cell_type": "code",
      "execution_count": null,
      "metadata": {
        "colab": {
          "base_uri": "https://localhost:8080/",
          "height": 283
        },
        "id": "IhVdslFzhxN-",
        "outputId": "1c84fe61-9bfc-4941-b4a8-81da0864cb1f"
      },
      "outputs": [
        {
          "output_type": "execute_result",
          "data": {
            "text/plain": [
              "<AxesSubplot:>"
            ]
          },
          "metadata": {},
          "execution_count": 26
        },
        {
          "output_type": "display_data",
          "data": {
            "text/plain": [
              "<Figure size 432x288 with 1 Axes>"
            ],
            "image/png": "[encoded data removed]"
          },
          "metadata": {
            "needs_background": "light"
          }
        }
      ],
      "source": [
        "# look which are the 20 most common values in the query column\n",
        "filt_df[\"query\"].value_counts()[:20].plot(kind='barh')"
      ]
    },
    {
      "cell_type": "code",
      "execution_count": null,
      "metadata": {
        "id": "vTdF0owEQ3zb"
      },
      "outputs": [],
      "source": [
        "filt_df[\"text_length\"] = filt_df[\"query\"].astype(str).apply(len)\n",
        "filt_df[\"text_word_count\"] = filt_df[\"query\"].apply(lambda x: len(str(x).split()))"
      ]
    },
    {
      "cell_type": "code",
      "execution_count": null,
      "metadata": {
        "colab": {
          "base_uri": "https://localhost:8080/",
          "height": 279
        },
        "id": "F2Z7dtXoOKPn",
        "outputId": "3ee9255f-ae7d-4471-f2de-898a1ec375f5"
      },
      "outputs": [
        {
          "output_type": "display_data",
          "data": {
            "text/plain": [
              "<Figure size 432x288 with 1 Axes>"
            ],
            "image/png": "[encoded data removed]"
          },
          "metadata": {
            "needs_background": "light"
          }
        }
      ],
      "source": [
        "# plot the length of the characters in a user query\n",
        "sns.distplot(filt_df[\"text_length\"])\n",
        "plt.xlim([0, 50]);\n",
        "plt.xlabel(\"Number of characters in a user query.\");"
      ]
    },
    {
      "cell_type": "code",
      "execution_count": null,
      "metadata": {
        "colab": {
          "base_uri": "https://localhost:8080/",
          "height": 279
        },
        "id": "SM9ILAd5Ue3q",
        "outputId": "6f3f1def-217d-471f-9b5f-f32f48e3b010"
      },
      "outputs": [
        {
          "output_type": "display_data",
          "data": {
            "text/plain": [
              "<Figure size 432x288 with 1 Axes>"
            ],
            "image/png": "[encoded data removed]"
          },
          "metadata": {
            "needs_background": "light"
          }
        }
      ],
      "source": [
        "# plot the number of words in a user query\n",
        "sns.distplot(filt_df[\"text_word_count\"])\n",
        "plt.xlim([0, 15]);\n",
        "plt.xlabel(\"Number of tokens(words) in a query.\");"
      ]
    },
    {
      "cell_type": "code",
      "source": [
        "filt_df.info()"
      ],
      "metadata": {
        "colab": {
          "base_uri": "https://localhost:8080/"
        },
        "id": "DW-w1xF0KbZn",
        "outputId": "e8b8def9-ed90-41a4-cd27-2d41f16e42ea"
      },
      "execution_count": null,
      "outputs": [
        {
          "output_type": "stream",
          "name": "stdout",
          "text": [
            "<class 'pandas.core.frame.DataFrame'>\n",
            "RangeIndex: 48019 entries, 0 to 48018\n",
            "Data columns (total 21 columns):\n",
            " #   Column             Non-Null Count  Dtype              \n",
            "---  ------             --------------  -----              \n",
            " 0   session_id         47921 non-null  object             \n",
            " 1   query              48019 non-null  object             \n",
            " 2   intent             48019 non-null  object             \n",
            " 3   page_funnel        48019 non-null  object             \n",
            " 4   responses          47921 non-null  object             \n",
            " 5   fallback           47921 non-null  object             \n",
            " 6   fallback_funnel    5335 non-null   object             \n",
            " 7   feedback           684 non-null    float64            \n",
            " 8   first_intent       47921 non-null  object             \n",
            " 9   fulfillment_error  47921 non-null  object             \n",
            " 10  source             47921 non-null  object             \n",
            " 11  origin             0 non-null      float64            \n",
            " 12  preferences_shown  23085 non-null  object             \n",
            " 13  preference_picked  35898 non-null  object             \n",
            " 14  products_shown     47921 non-null  object             \n",
            " 15  product_clicked    227 non-null    object             \n",
            " 16  timestamp          47921 non-null  datetime64[ns, UTC]\n",
            " 17  session_duration   8231 non-null   float64            \n",
            " 18  isTestMessage      47921 non-null  object             \n",
            " 19  text_length        48019 non-null  int64              \n",
            " 20  text_word_count    48019 non-null  int64              \n",
            "dtypes: datetime64[ns, UTC](1), float64(3), int64(2), object(15)\n",
            "memory usage: 7.7+ MB\n"
          ]
        }
      ]
    },
    {
      "cell_type": "markdown",
      "metadata": {
        "id": "gldgG9vCCLQv"
      },
      "source": [
        "## Look into some of the query data grouped by intent."
      ]
    },
    {
      "cell_type": "code",
      "execution_count": null,
      "metadata": {
        "colab": {
          "base_uri": "https://localhost:8080/",
          "height": 677
        },
        "id": "1qswPg7_6vnK",
        "outputId": "88c38687-170d-4a31-cd08-c19635e8b819"
      },
      "outputs": [
        {
          "output_type": "execute_result",
          "data": {
            "text/plain": [
              "                                                  query\n",
              "2347                                                nee\n",
              "2350                                              zeker\n",
              "2352                                       cvnmnb,.nbvc\n",
              "2357  er ging iets mis in het begin bij de oppervlak...\n",
              "2358                         hoe werkt reinigingsmiddel\n",
              "2368                                  Dit advies is top\n",
              "2375                                                nee\n",
              "2383                                 het was prima hoor\n",
              "2392                                       prima advies\n",
              "2408                                                nee\n",
              "2435   ik vroeg iets over graffiti en dat wist jij niet\n",
              "2451                                                nee\n",
              "2452                                                nee\n",
              "2454                                          geen idee\n",
              "2458                                               neen\n",
              "2460                               asdfasdf asdf sdfsdf\n",
              "2465                                             gewoon\n",
              "2471                                                nee\n",
              "2474                                      Zoomen is gek\n",
              "2476                        Je begreep niet alles karel"
            ],
            "text/html": [
              "\n",
              "  <div id=\"df-ff6b257b-3edc-4781-92a5-57dcc0b683df\">\n",
              "    <div class=\"colab-df-container\">\n",
              "      <div>\n",
              "<style scoped>\n",
              "    .dataframe tbody tr th:only-of-type {\n",
              "        vertical-align: middle;\n",
              "    }\n",
              "\n",
              "    .dataframe tbody tr th {\n",
              "        vertical-align: top;\n",
              "    }\n",
              "\n",
              "    .dataframe thead th {\n",
              "        text-align: right;\n",
              "    }\n",
              "</style>\n",
              "<table border=\"1\" class=\"dataframe\">\n",
              "  <thead>\n",
              "    <tr style=\"text-align: right;\">\n",
              "      <th></th>\n",
              "      <th>query</th>\n",
              "    </tr>\n",
              "  </thead>\n",
              "  <tbody>\n",
              "    <tr>\n",
              "      <th>2347</th>\n",
              "      <td>nee</td>\n",
              "    </tr>\n",
              "    <tr>\n",
              "      <th>2350</th>\n",
              "      <td>zeker</td>\n",
              "    </tr>\n",
              "    <tr>\n",
              "      <th>2352</th>\n",
              "      <td>cvnmnb,.nbvc</td>\n",
              "    </tr>\n",
              "    <tr>\n",
              "      <th>2357</th>\n",
              "      <td>er ging iets mis in het begin bij de oppervlak...</td>\n",
              "    </tr>\n",
              "    <tr>\n",
              "      <th>2358</th>\n",
              "      <td>hoe werkt reinigingsmiddel</td>\n",
              "    </tr>\n",
              "    <tr>\n",
              "      <th>2368</th>\n",
              "      <td>Dit advies is top</td>\n",
              "    </tr>\n",
              "    <tr>\n",
              "      <th>2375</th>\n",
              "      <td>nee</td>\n",
              "    </tr>\n",
              "    <tr>\n",
              "      <th>2383</th>\n",
              "      <td>het was prima hoor</td>\n",
              "    </tr>\n",
              "    <tr>\n",
              "      <th>2392</th>\n",
              "      <td>prima advies</td>\n",
              "    </tr>\n",
              "    <tr>\n",
              "      <th>2408</th>\n",
              "      <td>nee</td>\n",
              "    </tr>\n",
              "    <tr>\n",
              "      <th>2435</th>\n",
              "      <td>ik vroeg iets over graffiti en dat wist jij niet</td>\n",
              "    </tr>\n",
              "    <tr>\n",
              "      <th>2451</th>\n",
              "      <td>nee</td>\n",
              "    </tr>\n",
              "    <tr>\n",
              "      <th>2452</th>\n",
              "      <td>nee</td>\n",
              "    </tr>\n",
              "    <tr>\n",
              "      <th>2454</th>\n",
              "      <td>geen idee</td>\n",
              "    </tr>\n",
              "    <tr>\n",
              "      <th>2458</th>\n",
              "      <td>neen</td>\n",
              "    </tr>\n",
              "    <tr>\n",
              "      <th>2460</th>\n",
              "      <td>asdfasdf asdf sdfsdf</td>\n",
              "    </tr>\n",
              "    <tr>\n",
              "      <th>2465</th>\n",
              "      <td>gewoon</td>\n",
              "    </tr>\n",
              "    <tr>\n",
              "      <th>2471</th>\n",
              "      <td>nee</td>\n",
              "    </tr>\n",
              "    <tr>\n",
              "      <th>2474</th>\n",
              "      <td>Zoomen is gek</td>\n",
              "    </tr>\n",
              "    <tr>\n",
              "      <th>2476</th>\n",
              "      <td>Je begreep niet alles karel</td>\n",
              "    </tr>\n",
              "  </tbody>\n",
              "</table>\n",
              "</div>\n",
              "      <button class=\"colab-df-convert\" onclick=\"convertToInteractive('df-ff6b257b-3edc-4781-92a5-57dcc0b683df')\"\n",
              "              title=\"Convert this dataframe to an interactive table.\"\n",
              "              style=\"display:none;\">\n",
              "        \n",
              "  <svg xmlns=\"http://www.w3.org/2000/svg\" height=\"24px\"viewBox=\"0 0 24 24\"\n",
              "       width=\"24px\">\n",
              "    <path d=\"M0 0h24v24H0V0z\" fill=\"none\"/>\n",
              "    <path d=\"M18.56 5.44l.94 2.06.94-2.06 2.06-.94-2.06-.94-.94-2.06-.94 2.06-2.06.94zm-11 1L8.5 8.5l.94-2.06 2.06-.94-2.06-.94L8.5 2.5l-.94 2.06-2.06.94zm10 10l.94 2.06.94-2.06 2.06-.94-2.06-.94-.94-2.06-.94 2.06-2.06.94z\"/><path d=\"M17.41 7.96l-1.37-1.37c-.4-.4-.92-.59-1.43-.59-.52 0-1.04.2-1.43.59L10.3 9.45l-7.72 7.72c-.78.78-.78 2.05 0 2.83L4 21.41c.39.39.9.59 1.41.59.51 0 1.02-.2 1.41-.59l7.78-7.78 2.81-2.81c.8-.78.8-2.07 0-2.86zM5.41 20L4 18.59l7.72-7.72 1.47 1.35L5.41 20z\"/>\n",
              "  </svg>\n",
              "      </button>\n",
              "      \n",
              "  <style>\n",
              "    .colab-df-container {\n",
              "      display:flex;\n",
              "      flex-wrap:wrap;\n",
              "      gap: 12px;\n",
              "    }\n",
              "\n",
              "    .colab-df-convert {\n",
              "      background-color: #E8F0FE;\n",
              "      border: none;\n",
              "      border-radius: 50%;\n",
              "      cursor: pointer;\n",
              "      display: none;\n",
              "      fill: #1967D2;\n",
              "      height: 32px;\n",
              "      padding: 0 0 0 0;\n",
              "      width: 32px;\n",
              "    }\n",
              "\n",
              "    .colab-df-convert:hover {\n",
              "      background-color: #E2EBFA;\n",
              "      box-shadow: 0px 1px 2px rgba(60, 64, 67, 0.3), 0px 1px 3px 1px rgba(60, 64, 67, 0.15);\n",
              "      fill: #174EA6;\n",
              "    }\n",
              "\n",
              "    [theme=dark] .colab-df-convert {\n",
              "      background-color: #3B4455;\n",
              "      fill: #D2E3FC;\n",
              "    }\n",
              "\n",
              "    [theme=dark] .colab-df-convert:hover {\n",
              "      background-color: #434B5C;\n",
              "      box-shadow: 0px 1px 3px 1px rgba(0, 0, 0, 0.15);\n",
              "      filter: drop-shadow(0px 1px 2px rgba(0, 0, 0, 0.3));\n",
              "      fill: #FFFFFF;\n",
              "    }\n",
              "  </style>\n",
              "\n",
              "      <script>\n",
              "        const buttonEl =\n",
              "          document.querySelector('#df-ff6b257b-3edc-4781-92a5-57dcc0b683df button.colab-df-convert');\n",
              "        buttonEl.style.display =\n",
              "          google.colab.kernel.accessAllowed ? 'block' : 'none';\n",
              "\n",
              "        async function convertToInteractive(key) {\n",
              "          const element = document.querySelector('#df-ff6b257b-3edc-4781-92a5-57dcc0b683df');\n",
              "          const dataTable =\n",
              "            await google.colab.kernel.invokeFunction('convertToInteractive',\n",
              "                                                     [key], {});\n",
              "          if (!dataTable) return;\n",
              "\n",
              "          const docLinkHtml = 'Like what you see? Visit the ' +\n",
              "            '<a target=\"_blank\" href=https://colab.research.google.com/notebooks/data_table.ipynb>data table notebook</a>'\n",
              "            + ' to learn more about interactive tables.';\n",
              "          element.innerHTML = '';\n",
              "          dataTable['output_type'] = 'display_data';\n",
              "          await google.colab.output.renderOutput(dataTable, element);\n",
              "          const docLink = document.createElement('div');\n",
              "          docLink.innerHTML = docLinkHtml;\n",
              "          element.appendChild(docLink);\n",
              "        }\n",
              "      </script>\n",
              "    </div>\n",
              "  </div>\n",
              "  "
            ]
          },
          "metadata": {},
          "execution_count": 32
        }
      ],
      "source": [
        "# check what's the data for the queries, which are with intent satisfactionFeedback.answer\n",
        "\n",
        "# filter the rows where the intent starts with \"satisfactionFeedback.answer\"\n",
        "sat_df = filt_df[filt_df[\"intent\"].str.contains(\"satisfactionFeedback.answer\")]\n",
        "\n",
        "# select only the 'query' column to see the user's input\n",
        "sat_df = sat_df[[\"query\"]]\n",
        "\n",
        "# display the resulting DataFrame\n",
        "sat_df.head(20)"
      ]
    },
    {
      "cell_type": "code",
      "source": [
        "# check what's the data for the queries, which are with intent intent.notsucceeded \n",
        "\n",
        "# filter the rows where the intent starts with \"faq.geenPrijs\"\n",
        "int_df = df[df[\"intent\"].str.contains(\"intent.notsucceeded\")]\n",
        "\n",
        "# select only the 'query' column to see the user's input\n",
        "int_df = int_df[[\"query\"]]\n",
        "\n",
        "# display the resulting DataFrame\n",
        "int_df.head(20)"
      ],
      "metadata": {
        "id": "qDTNHu3msLk8",
        "colab": {
          "base_uri": "https://localhost:8080/",
          "height": 677
        },
        "outputId": "d7d4f286-964a-44d3-96a2-e03c3f7535c6"
      },
      "execution_count": null,
      "outputs": [
        {
          "output_type": "execute_result",
          "data": {
            "text/plain": [
              "                                              query\n",
              "734                                     niet gelukt\n",
              "738                                     Niet gelukt\n",
              "739                                  diyt lukt niet\n",
              "740                                     Niet gelukt\n",
              "741  Dat probeer ik steeds maar pagina refresh niet\n",
              "742                            dat lukt me dus niet\n",
              "744                            dat lukt niet online\n",
              "745                                   Het lukt niet\n",
              "746                                  dat werkt niet\n",
              "747                                     Niet gelukt\n",
              "748                           Lukt niet foutmelding\n",
              "749                                   het lukt niet\n",
              "750                           dat lukt niet via hun\n",
              "751                                   Het lukt niet\n",
              "752                                     werkt niet!\n",
              "753                                     Niet gelukt\n",
              "755                                 Link Werkt niet\n",
              "757                              het is niet gelukt\n",
              "758                     Nee, dat lukt digitaal niet\n",
              "759                                       lukt niet"
            ],
            "text/html": [
              "\n",
              "  <div id=\"df-7d0fc2a1-45f4-4242-b565-af333a36bd0b\">\n",
              "    <div class=\"colab-df-container\">\n",
              "      <div>\n",
              "<style scoped>\n",
              "    .dataframe tbody tr th:only-of-type {\n",
              "        vertical-align: middle;\n",
              "    }\n",
              "\n",
              "    .dataframe tbody tr th {\n",
              "        vertical-align: top;\n",
              "    }\n",
              "\n",
              "    .dataframe thead th {\n",
              "        text-align: right;\n",
              "    }\n",
              "</style>\n",
              "<table border=\"1\" class=\"dataframe\">\n",
              "  <thead>\n",
              "    <tr style=\"text-align: right;\">\n",
              "      <th></th>\n",
              "      <th>query</th>\n",
              "    </tr>\n",
              "  </thead>\n",
              "  <tbody>\n",
              "    <tr>\n",
              "      <th>734</th>\n",
              "      <td>niet gelukt</td>\n",
              "    </tr>\n",
              "    <tr>\n",
              "      <th>738</th>\n",
              "      <td>Niet gelukt</td>\n",
              "    </tr>\n",
              "    <tr>\n",
              "      <th>739</th>\n",
              "      <td>diyt lukt niet</td>\n",
              "    </tr>\n",
              "    <tr>\n",
              "      <th>740</th>\n",
              "      <td>Niet gelukt</td>\n",
              "    </tr>\n",
              "    <tr>\n",
              "      <th>741</th>\n",
              "      <td>Dat probeer ik steeds maar pagina refresh niet</td>\n",
              "    </tr>\n",
              "    <tr>\n",
              "      <th>742</th>\n",
              "      <td>dat lukt me dus niet</td>\n",
              "    </tr>\n",
              "    <tr>\n",
              "      <th>744</th>\n",
              "      <td>dat lukt niet online</td>\n",
              "    </tr>\n",
              "    <tr>\n",
              "      <th>745</th>\n",
              "      <td>Het lukt niet</td>\n",
              "    </tr>\n",
              "    <tr>\n",
              "      <th>746</th>\n",
              "      <td>dat werkt niet</td>\n",
              "    </tr>\n",
              "    <tr>\n",
              "      <th>747</th>\n",
              "      <td>Niet gelukt</td>\n",
              "    </tr>\n",
              "    <tr>\n",
              "      <th>748</th>\n",
              "      <td>Lukt niet foutmelding</td>\n",
              "    </tr>\n",
              "    <tr>\n",
              "      <th>749</th>\n",
              "      <td>het lukt niet</td>\n",
              "    </tr>\n",
              "    <tr>\n",
              "      <th>750</th>\n",
              "      <td>dat lukt niet via hun</td>\n",
              "    </tr>\n",
              "    <tr>\n",
              "      <th>751</th>\n",
              "      <td>Het lukt niet</td>\n",
              "    </tr>\n",
              "    <tr>\n",
              "      <th>752</th>\n",
              "      <td>werkt niet!</td>\n",
              "    </tr>\n",
              "    <tr>\n",
              "      <th>753</th>\n",
              "      <td>Niet gelukt</td>\n",
              "    </tr>\n",
              "    <tr>\n",
              "      <th>755</th>\n",
              "      <td>Link Werkt niet</td>\n",
              "    </tr>\n",
              "    <tr>\n",
              "      <th>757</th>\n",
              "      <td>het is niet gelukt</td>\n",
              "    </tr>\n",
              "    <tr>\n",
              "      <th>758</th>\n",
              "      <td>Nee, dat lukt digitaal niet</td>\n",
              "    </tr>\n",
              "    <tr>\n",
              "      <th>759</th>\n",
              "      <td>lukt niet</td>\n",
              "    </tr>\n",
              "  </tbody>\n",
              "</table>\n",
              "</div>\n",
              "      <button class=\"colab-df-convert\" onclick=\"convertToInteractive('df-7d0fc2a1-45f4-4242-b565-af333a36bd0b')\"\n",
              "              title=\"Convert this dataframe to an interactive table.\"\n",
              "              style=\"display:none;\">\n",
              "        \n",
              "  <svg xmlns=\"http://www.w3.org/2000/svg\" height=\"24px\"viewBox=\"0 0 24 24\"\n",
              "       width=\"24px\">\n",
              "    <path d=\"M0 0h24v24H0V0z\" fill=\"none\"/>\n",
              "    <path d=\"M18.56 5.44l.94 2.06.94-2.06 2.06-.94-2.06-.94-.94-2.06-.94 2.06-2.06.94zm-11 1L8.5 8.5l.94-2.06 2.06-.94-2.06-.94L8.5 2.5l-.94 2.06-2.06.94zm10 10l.94 2.06.94-2.06 2.06-.94-2.06-.94-.94-2.06-.94 2.06-2.06.94z\"/><path d=\"M17.41 7.96l-1.37-1.37c-.4-.4-.92-.59-1.43-.59-.52 0-1.04.2-1.43.59L10.3 9.45l-7.72 7.72c-.78.78-.78 2.05 0 2.83L4 21.41c.39.39.9.59 1.41.59.51 0 1.02-.2 1.41-.59l7.78-7.78 2.81-2.81c.8-.78.8-2.07 0-2.86zM5.41 20L4 18.59l7.72-7.72 1.47 1.35L5.41 20z\"/>\n",
              "  </svg>\n",
              "      </button>\n",
              "      \n",
              "  <style>\n",
              "    .colab-df-container {\n",
              "      display:flex;\n",
              "      flex-wrap:wrap;\n",
              "      gap: 12px;\n",
              "    }\n",
              "\n",
              "    .colab-df-convert {\n",
              "      background-color: #E8F0FE;\n",
              "      border: none;\n",
              "      border-radius: 50%;\n",
              "      cursor: pointer;\n",
              "      display: none;\n",
              "      fill: #1967D2;\n",
              "      height: 32px;\n",
              "      padding: 0 0 0 0;\n",
              "      width: 32px;\n",
              "    }\n",
              "\n",
              "    .colab-df-convert:hover {\n",
              "      background-color: #E2EBFA;\n",
              "      box-shadow: 0px 1px 2px rgba(60, 64, 67, 0.3), 0px 1px 3px 1px rgba(60, 64, 67, 0.15);\n",
              "      fill: #174EA6;\n",
              "    }\n",
              "\n",
              "    [theme=dark] .colab-df-convert {\n",
              "      background-color: #3B4455;\n",
              "      fill: #D2E3FC;\n",
              "    }\n",
              "\n",
              "    [theme=dark] .colab-df-convert:hover {\n",
              "      background-color: #434B5C;\n",
              "      box-shadow: 0px 1px 3px 1px rgba(0, 0, 0, 0.15);\n",
              "      filter: drop-shadow(0px 1px 2px rgba(0, 0, 0, 0.3));\n",
              "      fill: #FFFFFF;\n",
              "    }\n",
              "  </style>\n",
              "\n",
              "      <script>\n",
              "        const buttonEl =\n",
              "          document.querySelector('#df-7d0fc2a1-45f4-4242-b565-af333a36bd0b button.colab-df-convert');\n",
              "        buttonEl.style.display =\n",
              "          google.colab.kernel.accessAllowed ? 'block' : 'none';\n",
              "\n",
              "        async function convertToInteractive(key) {\n",
              "          const element = document.querySelector('#df-7d0fc2a1-45f4-4242-b565-af333a36bd0b');\n",
              "          const dataTable =\n",
              "            await google.colab.kernel.invokeFunction('convertToInteractive',\n",
              "                                                     [key], {});\n",
              "          if (!dataTable) return;\n",
              "\n",
              "          const docLinkHtml = 'Like what you see? Visit the ' +\n",
              "            '<a target=\"_blank\" href=https://colab.research.google.com/notebooks/data_table.ipynb>data table notebook</a>'\n",
              "            + ' to learn more about interactive tables.';\n",
              "          element.innerHTML = '';\n",
              "          dataTable['output_type'] = 'display_data';\n",
              "          await google.colab.output.renderOutput(dataTable, element);\n",
              "          const docLink = document.createElement('div');\n",
              "          docLink.innerHTML = docLinkHtml;\n",
              "          element.appendChild(docLink);\n",
              "        }\n",
              "      </script>\n",
              "    </div>\n",
              "  </div>\n",
              "  "
            ]
          },
          "metadata": {},
          "execution_count": 33
        }
      ]
    },
    {
      "cell_type": "code",
      "execution_count": null,
      "metadata": {
        "colab": {
          "base_uri": "https://localhost:8080/",
          "height": 677
        },
        "id": "5rsaRagn-IE6",
        "outputId": "ae57ac11-72d3-448e-8cce-a8ca4aacb227"
      },
      "outputs": [
        {
          "output_type": "execute_result",
          "data": {
            "text/plain": [
              "                                              query\n",
              "437                                     niet gelukt\n",
              "441                                     Niet gelukt\n",
              "442                                  diyt lukt niet\n",
              "443                                     Niet gelukt\n",
              "444  Dat probeer ik steeds maar pagina refresh niet\n",
              "445                            dat lukt me dus niet\n",
              "447                            dat lukt niet online\n",
              "448                                   Het lukt niet\n",
              "449                                  dat werkt niet\n",
              "450                                     Niet gelukt\n",
              "451                           Lukt niet foutmelding\n",
              "452                                   het lukt niet\n",
              "453                           dat lukt niet via hun\n",
              "454                                   Het lukt niet\n",
              "455                                     werkt niet!\n",
              "456                                     Niet gelukt\n",
              "458                                 Link Werkt niet\n",
              "460                              het is niet gelukt\n",
              "461                     Nee, dat lukt digitaal niet\n",
              "462                                       lukt niet"
            ],
            "text/html": [
              "\n",
              "  <div id=\"df-35bceda2-af35-4344-bbde-ac8880a2d18f\">\n",
              "    <div class=\"colab-df-container\">\n",
              "      <div>\n",
              "<style scoped>\n",
              "    .dataframe tbody tr th:only-of-type {\n",
              "        vertical-align: middle;\n",
              "    }\n",
              "\n",
              "    .dataframe tbody tr th {\n",
              "        vertical-align: top;\n",
              "    }\n",
              "\n",
              "    .dataframe thead th {\n",
              "        text-align: right;\n",
              "    }\n",
              "</style>\n",
              "<table border=\"1\" class=\"dataframe\">\n",
              "  <thead>\n",
              "    <tr style=\"text-align: right;\">\n",
              "      <th></th>\n",
              "      <th>query</th>\n",
              "    </tr>\n",
              "  </thead>\n",
              "  <tbody>\n",
              "    <tr>\n",
              "      <th>437</th>\n",
              "      <td>niet gelukt</td>\n",
              "    </tr>\n",
              "    <tr>\n",
              "      <th>441</th>\n",
              "      <td>Niet gelukt</td>\n",
              "    </tr>\n",
              "    <tr>\n",
              "      <th>442</th>\n",
              "      <td>diyt lukt niet</td>\n",
              "    </tr>\n",
              "    <tr>\n",
              "      <th>443</th>\n",
              "      <td>Niet gelukt</td>\n",
              "    </tr>\n",
              "    <tr>\n",
              "      <th>444</th>\n",
              "      <td>Dat probeer ik steeds maar pagina refresh niet</td>\n",
              "    </tr>\n",
              "    <tr>\n",
              "      <th>445</th>\n",
              "      <td>dat lukt me dus niet</td>\n",
              "    </tr>\n",
              "    <tr>\n",
              "      <th>447</th>\n",
              "      <td>dat lukt niet online</td>\n",
              "    </tr>\n",
              "    <tr>\n",
              "      <th>448</th>\n",
              "      <td>Het lukt niet</td>\n",
              "    </tr>\n",
              "    <tr>\n",
              "      <th>449</th>\n",
              "      <td>dat werkt niet</td>\n",
              "    </tr>\n",
              "    <tr>\n",
              "      <th>450</th>\n",
              "      <td>Niet gelukt</td>\n",
              "    </tr>\n",
              "    <tr>\n",
              "      <th>451</th>\n",
              "      <td>Lukt niet foutmelding</td>\n",
              "    </tr>\n",
              "    <tr>\n",
              "      <th>452</th>\n",
              "      <td>het lukt niet</td>\n",
              "    </tr>\n",
              "    <tr>\n",
              "      <th>453</th>\n",
              "      <td>dat lukt niet via hun</td>\n",
              "    </tr>\n",
              "    <tr>\n",
              "      <th>454</th>\n",
              "      <td>Het lukt niet</td>\n",
              "    </tr>\n",
              "    <tr>\n",
              "      <th>455</th>\n",
              "      <td>werkt niet!</td>\n",
              "    </tr>\n",
              "    <tr>\n",
              "      <th>456</th>\n",
              "      <td>Niet gelukt</td>\n",
              "    </tr>\n",
              "    <tr>\n",
              "      <th>458</th>\n",
              "      <td>Link Werkt niet</td>\n",
              "    </tr>\n",
              "    <tr>\n",
              "      <th>460</th>\n",
              "      <td>het is niet gelukt</td>\n",
              "    </tr>\n",
              "    <tr>\n",
              "      <th>461</th>\n",
              "      <td>Nee, dat lukt digitaal niet</td>\n",
              "    </tr>\n",
              "    <tr>\n",
              "      <th>462</th>\n",
              "      <td>lukt niet</td>\n",
              "    </tr>\n",
              "  </tbody>\n",
              "</table>\n",
              "</div>\n",
              "      <button class=\"colab-df-convert\" onclick=\"convertToInteractive('df-35bceda2-af35-4344-bbde-ac8880a2d18f')\"\n",
              "              title=\"Convert this dataframe to an interactive table.\"\n",
              "              style=\"display:none;\">\n",
              "        \n",
              "  <svg xmlns=\"http://www.w3.org/2000/svg\" height=\"24px\"viewBox=\"0 0 24 24\"\n",
              "       width=\"24px\">\n",
              "    <path d=\"M0 0h24v24H0V0z\" fill=\"none\"/>\n",
              "    <path d=\"M18.56 5.44l.94 2.06.94-2.06 2.06-.94-2.06-.94-.94-2.06-.94 2.06-2.06.94zm-11 1L8.5 8.5l.94-2.06 2.06-.94-2.06-.94L8.5 2.5l-.94 2.06-2.06.94zm10 10l.94 2.06.94-2.06 2.06-.94-2.06-.94-.94-2.06-.94 2.06-2.06.94z\"/><path d=\"M17.41 7.96l-1.37-1.37c-.4-.4-.92-.59-1.43-.59-.52 0-1.04.2-1.43.59L10.3 9.45l-7.72 7.72c-.78.78-.78 2.05 0 2.83L4 21.41c.39.39.9.59 1.41.59.51 0 1.02-.2 1.41-.59l7.78-7.78 2.81-2.81c.8-.78.8-2.07 0-2.86zM5.41 20L4 18.59l7.72-7.72 1.47 1.35L5.41 20z\"/>\n",
              "  </svg>\n",
              "      </button>\n",
              "      \n",
              "  <style>\n",
              "    .colab-df-container {\n",
              "      display:flex;\n",
              "      flex-wrap:wrap;\n",
              "      gap: 12px;\n",
              "    }\n",
              "\n",
              "    .colab-df-convert {\n",
              "      background-color: #E8F0FE;\n",
              "      border: none;\n",
              "      border-radius: 50%;\n",
              "      cursor: pointer;\n",
              "      display: none;\n",
              "      fill: #1967D2;\n",
              "      height: 32px;\n",
              "      padding: 0 0 0 0;\n",
              "      width: 32px;\n",
              "    }\n",
              "\n",
              "    .colab-df-convert:hover {\n",
              "      background-color: #E2EBFA;\n",
              "      box-shadow: 0px 1px 2px rgba(60, 64, 67, 0.3), 0px 1px 3px 1px rgba(60, 64, 67, 0.15);\n",
              "      fill: #174EA6;\n",
              "    }\n",
              "\n",
              "    [theme=dark] .colab-df-convert {\n",
              "      background-color: #3B4455;\n",
              "      fill: #D2E3FC;\n",
              "    }\n",
              "\n",
              "    [theme=dark] .colab-df-convert:hover {\n",
              "      background-color: #434B5C;\n",
              "      box-shadow: 0px 1px 3px 1px rgba(0, 0, 0, 0.15);\n",
              "      filter: drop-shadow(0px 1px 2px rgba(0, 0, 0, 0.3));\n",
              "      fill: #FFFFFF;\n",
              "    }\n",
              "  </style>\n",
              "\n",
              "      <script>\n",
              "        const buttonEl =\n",
              "          document.querySelector('#df-35bceda2-af35-4344-bbde-ac8880a2d18f button.colab-df-convert');\n",
              "        buttonEl.style.display =\n",
              "          google.colab.kernel.accessAllowed ? 'block' : 'none';\n",
              "\n",
              "        async function convertToInteractive(key) {\n",
              "          const element = document.querySelector('#df-35bceda2-af35-4344-bbde-ac8880a2d18f');\n",
              "          const dataTable =\n",
              "            await google.colab.kernel.invokeFunction('convertToInteractive',\n",
              "                                                     [key], {});\n",
              "          if (!dataTable) return;\n",
              "\n",
              "          const docLinkHtml = 'Like what you see? Visit the ' +\n",
              "            '<a target=\"_blank\" href=https://colab.research.google.com/notebooks/data_table.ipynb>data table notebook</a>'\n",
              "            + ' to learn more about interactive tables.';\n",
              "          element.innerHTML = '';\n",
              "          dataTable['output_type'] = 'display_data';\n",
              "          await google.colab.output.renderOutput(dataTable, element);\n",
              "          const docLink = document.createElement('div');\n",
              "          docLink.innerHTML = docLinkHtml;\n",
              "          element.appendChild(docLink);\n",
              "        }\n",
              "      </script>\n",
              "    </div>\n",
              "  </div>\n",
              "  "
            ]
          },
          "metadata": {},
          "execution_count": 35
        }
      ],
      "source": [
        "# check what's the data for the queries, which are with intent intent.notsucceeded \n",
        "\n",
        "# filter the rows where the intent starts with \"faq.geenPrijs\"\n",
        "int_df = filt_df[filt_df[\"intent\"].str.contains(\"intent.notsucceeded\")]\n",
        "\n",
        "# select only the 'query' column to see the user's input\n",
        "int_df = int_df[[\"query\"]]\n",
        "\n",
        "# display the resulting DataFrame\n",
        "int_df.head(20)"
      ]
    },
    {
      "cell_type": "code",
      "execution_count": null,
      "metadata": {
        "colab": {
          "base_uri": "https://localhost:8080/",
          "height": 677
        },
        "id": "vUfL21ldBgsd",
        "outputId": "932abf92-c9fa-46da-da25-90d123e7a4f6"
      },
      "outputs": [
        {
          "output_type": "execute_result",
          "data": {
            "text/plain": [
              "                                                  query\n",
              "2360                 waarom heeft een produt geen prijs\n",
              "2363                         waarom staat er geen prijs\n",
              "2369               Waarom heeft dit product geen prijs?\n",
              "2377                    waarom staat er geen prijs bij?\n",
              "2378        waarom staat er geen prijs bij het product?\n",
              "2379                        waarom staat er geen prijs?\n",
              "2381                                             prijs?\n",
              "2405        waarom staat er geen prijs bij het product?\n",
              "2410                   hoi inge zie je dit vraagteken ?\n",
              "2411                                        zie je dit?\n",
              "2418                                   hoe duur is die?\n",
              "2419                                             prijs?\n",
              "2421                                             prijs?\n",
              "2424  hoe kan het dat sommige producten geen prijs h...\n",
              "2431                                 ik zie geen prijs?\n",
              "2434                                        geen prijs?\n",
              "2436                                             prijs?\n",
              "2464                                er staat geen prijs\n",
              "2479                       Waarom..staat er geen prijs?\n",
              "2491                                er staat geen prijs"
            ],
            "text/html": [
              "\n",
              "  <div id=\"df-d5a5df0a-a1a6-49a6-a0c9-d1c8325b6e13\">\n",
              "    <div class=\"colab-df-container\">\n",
              "      <div>\n",
              "<style scoped>\n",
              "    .dataframe tbody tr th:only-of-type {\n",
              "        vertical-align: middle;\n",
              "    }\n",
              "\n",
              "    .dataframe tbody tr th {\n",
              "        vertical-align: top;\n",
              "    }\n",
              "\n",
              "    .dataframe thead th {\n",
              "        text-align: right;\n",
              "    }\n",
              "</style>\n",
              "<table border=\"1\" class=\"dataframe\">\n",
              "  <thead>\n",
              "    <tr style=\"text-align: right;\">\n",
              "      <th></th>\n",
              "      <th>query</th>\n",
              "    </tr>\n",
              "  </thead>\n",
              "  <tbody>\n",
              "    <tr>\n",
              "      <th>2360</th>\n",
              "      <td>waarom heeft een produt geen prijs</td>\n",
              "    </tr>\n",
              "    <tr>\n",
              "      <th>2363</th>\n",
              "      <td>waarom staat er geen prijs</td>\n",
              "    </tr>\n",
              "    <tr>\n",
              "      <th>2369</th>\n",
              "      <td>Waarom heeft dit product geen prijs?</td>\n",
              "    </tr>\n",
              "    <tr>\n",
              "      <th>2377</th>\n",
              "      <td>waarom staat er geen prijs bij?</td>\n",
              "    </tr>\n",
              "    <tr>\n",
              "      <th>2378</th>\n",
              "      <td>waarom staat er geen prijs bij het product?</td>\n",
              "    </tr>\n",
              "    <tr>\n",
              "      <th>2379</th>\n",
              "      <td>waarom staat er geen prijs?</td>\n",
              "    </tr>\n",
              "    <tr>\n",
              "      <th>2381</th>\n",
              "      <td>prijs?</td>\n",
              "    </tr>\n",
              "    <tr>\n",
              "      <th>2405</th>\n",
              "      <td>waarom staat er geen prijs bij het product?</td>\n",
              "    </tr>\n",
              "    <tr>\n",
              "      <th>2410</th>\n",
              "      <td>hoi inge zie je dit vraagteken ?</td>\n",
              "    </tr>\n",
              "    <tr>\n",
              "      <th>2411</th>\n",
              "      <td>zie je dit?</td>\n",
              "    </tr>\n",
              "    <tr>\n",
              "      <th>2418</th>\n",
              "      <td>hoe duur is die?</td>\n",
              "    </tr>\n",
              "    <tr>\n",
              "      <th>2419</th>\n",
              "      <td>prijs?</td>\n",
              "    </tr>\n",
              "    <tr>\n",
              "      <th>2421</th>\n",
              "      <td>prijs?</td>\n",
              "    </tr>\n",
              "    <tr>\n",
              "      <th>2424</th>\n",
              "      <td>hoe kan het dat sommige producten geen prijs h...</td>\n",
              "    </tr>\n",
              "    <tr>\n",
              "      <th>2431</th>\n",
              "      <td>ik zie geen prijs?</td>\n",
              "    </tr>\n",
              "    <tr>\n",
              "      <th>2434</th>\n",
              "      <td>geen prijs?</td>\n",
              "    </tr>\n",
              "    <tr>\n",
              "      <th>2436</th>\n",
              "      <td>prijs?</td>\n",
              "    </tr>\n",
              "    <tr>\n",
              "      <th>2464</th>\n",
              "      <td>er staat geen prijs</td>\n",
              "    </tr>\n",
              "    <tr>\n",
              "      <th>2479</th>\n",
              "      <td>Waarom..staat er geen prijs?</td>\n",
              "    </tr>\n",
              "    <tr>\n",
              "      <th>2491</th>\n",
              "      <td>er staat geen prijs</td>\n",
              "    </tr>\n",
              "  </tbody>\n",
              "</table>\n",
              "</div>\n",
              "      <button class=\"colab-df-convert\" onclick=\"convertToInteractive('df-d5a5df0a-a1a6-49a6-a0c9-d1c8325b6e13')\"\n",
              "              title=\"Convert this dataframe to an interactive table.\"\n",
              "              style=\"display:none;\">\n",
              "        \n",
              "  <svg xmlns=\"http://www.w3.org/2000/svg\" height=\"24px\"viewBox=\"0 0 24 24\"\n",
              "       width=\"24px\">\n",
              "    <path d=\"M0 0h24v24H0V0z\" fill=\"none\"/>\n",
              "    <path d=\"M18.56 5.44l.94 2.06.94-2.06 2.06-.94-2.06-.94-.94-2.06-.94 2.06-2.06.94zm-11 1L8.5 8.5l.94-2.06 2.06-.94-2.06-.94L8.5 2.5l-.94 2.06-2.06.94zm10 10l.94 2.06.94-2.06 2.06-.94-2.06-.94-.94-2.06-.94 2.06-2.06.94z\"/><path d=\"M17.41 7.96l-1.37-1.37c-.4-.4-.92-.59-1.43-.59-.52 0-1.04.2-1.43.59L10.3 9.45l-7.72 7.72c-.78.78-.78 2.05 0 2.83L4 21.41c.39.39.9.59 1.41.59.51 0 1.02-.2 1.41-.59l7.78-7.78 2.81-2.81c.8-.78.8-2.07 0-2.86zM5.41 20L4 18.59l7.72-7.72 1.47 1.35L5.41 20z\"/>\n",
              "  </svg>\n",
              "      </button>\n",
              "      \n",
              "  <style>\n",
              "    .colab-df-container {\n",
              "      display:flex;\n",
              "      flex-wrap:wrap;\n",
              "      gap: 12px;\n",
              "    }\n",
              "\n",
              "    .colab-df-convert {\n",
              "      background-color: #E8F0FE;\n",
              "      border: none;\n",
              "      border-radius: 50%;\n",
              "      cursor: pointer;\n",
              "      display: none;\n",
              "      fill: #1967D2;\n",
              "      height: 32px;\n",
              "      padding: 0 0 0 0;\n",
              "      width: 32px;\n",
              "    }\n",
              "\n",
              "    .colab-df-convert:hover {\n",
              "      background-color: #E2EBFA;\n",
              "      box-shadow: 0px 1px 2px rgba(60, 64, 67, 0.3), 0px 1px 3px 1px rgba(60, 64, 67, 0.15);\n",
              "      fill: #174EA6;\n",
              "    }\n",
              "\n",
              "    [theme=dark] .colab-df-convert {\n",
              "      background-color: #3B4455;\n",
              "      fill: #D2E3FC;\n",
              "    }\n",
              "\n",
              "    [theme=dark] .colab-df-convert:hover {\n",
              "      background-color: #434B5C;\n",
              "      box-shadow: 0px 1px 3px 1px rgba(0, 0, 0, 0.15);\n",
              "      filter: drop-shadow(0px 1px 2px rgba(0, 0, 0, 0.3));\n",
              "      fill: #FFFFFF;\n",
              "    }\n",
              "  </style>\n",
              "\n",
              "      <script>\n",
              "        const buttonEl =\n",
              "          document.querySelector('#df-d5a5df0a-a1a6-49a6-a0c9-d1c8325b6e13 button.colab-df-convert');\n",
              "        buttonEl.style.display =\n",
              "          google.colab.kernel.accessAllowed ? 'block' : 'none';\n",
              "\n",
              "        async function convertToInteractive(key) {\n",
              "          const element = document.querySelector('#df-d5a5df0a-a1a6-49a6-a0c9-d1c8325b6e13');\n",
              "          const dataTable =\n",
              "            await google.colab.kernel.invokeFunction('convertToInteractive',\n",
              "                                                     [key], {});\n",
              "          if (!dataTable) return;\n",
              "\n",
              "          const docLinkHtml = 'Like what you see? Visit the ' +\n",
              "            '<a target=\"_blank\" href=https://colab.research.google.com/notebooks/data_table.ipynb>data table notebook</a>'\n",
              "            + ' to learn more about interactive tables.';\n",
              "          element.innerHTML = '';\n",
              "          dataTable['output_type'] = 'display_data';\n",
              "          await google.colab.output.renderOutput(dataTable, element);\n",
              "          const docLink = document.createElement('div');\n",
              "          docLink.innerHTML = docLinkHtml;\n",
              "          element.appendChild(docLink);\n",
              "        }\n",
              "      </script>\n",
              "    </div>\n",
              "  </div>\n",
              "  "
            ]
          },
          "metadata": {},
          "execution_count": 36
        }
      ],
      "source": [
        "# check what's the data for the queries, which are with intent faq.geenPrijs\n",
        "\n",
        "# filter the rows where the intent starts with \"faq.geenPrijs\"\n",
        "faq_df = filt_df[filt_df[\"intent\"].str.contains(\"faq.geenPrijs\")]\n",
        "\n",
        "# select only the 'query' column to see the user's input\n",
        "faq_df = faq_df[[\"query\"]]\n",
        "\n",
        "# display the resulting DataFrame\n",
        "faq_df.head(20)"
      ]
    },
    {
      "cell_type": "code",
      "source": [
        "# check what's the data for the queries, which are with intent intent.notsucceeded \n",
        "\n",
        "# filter the rows where the intent starts with \"faq.geenPrijs\"\n",
        "int_df = filt_df[filt_df[\"query\"].str.contains(\"klantnummer\")]\n",
        "\n",
        "# select only the 'query' column to see the user's input\n",
        "int_df = int_df[[\"query\"]]\n",
        "\n",
        "# display the resulting DataFrame\n",
        "int_df.head(20)"
      ],
      "metadata": {
        "colab": {
          "base_uri": "https://localhost:8080/",
          "height": 238
        },
        "id": "S0n2PwqPsdq9",
        "outputId": "c8d4ac7a-a299-412e-8a58-dbceaf431d00"
      },
      "execution_count": null,
      "outputs": [
        {
          "output_type": "execute_result",
          "data": {
            "text/plain": [
              "                                                   query\n",
              "42942  De voornaam van klantnummer 0058203167 is Carl...\n",
              "43229                      Waar vind ik mijn klantnummer\n",
              "44441                      Ik wil mijn klantnummer weten\n",
              "45242  Mijn klantnummer is 25.31.64.03 mevr. T.Haandr...\n",
              "45323  Mijn klantnummer is 106022415 wanneer krijg ik...\n",
              "45903  Goedemorgen, mijn klantnummer is 0040778072 en..."
            ],
            "text/html": [
              "\n",
              "  <div id=\"df-555426c8-f771-468e-b29b-ebf70f6b5c14\">\n",
              "    <div class=\"colab-df-container\">\n",
              "      <div>\n",
              "<style scoped>\n",
              "    .dataframe tbody tr th:only-of-type {\n",
              "        vertical-align: middle;\n",
              "    }\n",
              "\n",
              "    .dataframe tbody tr th {\n",
              "        vertical-align: top;\n",
              "    }\n",
              "\n",
              "    .dataframe thead th {\n",
              "        text-align: right;\n",
              "    }\n",
              "</style>\n",
              "<table border=\"1\" class=\"dataframe\">\n",
              "  <thead>\n",
              "    <tr style=\"text-align: right;\">\n",
              "      <th></th>\n",
              "      <th>query</th>\n",
              "    </tr>\n",
              "  </thead>\n",
              "  <tbody>\n",
              "    <tr>\n",
              "      <th>42942</th>\n",
              "      <td>De voornaam van klantnummer 0058203167 is Carl...</td>\n",
              "    </tr>\n",
              "    <tr>\n",
              "      <th>43229</th>\n",
              "      <td>Waar vind ik mijn klantnummer</td>\n",
              "    </tr>\n",
              "    <tr>\n",
              "      <th>44441</th>\n",
              "      <td>Ik wil mijn klantnummer weten</td>\n",
              "    </tr>\n",
              "    <tr>\n",
              "      <th>45242</th>\n",
              "      <td>Mijn klantnummer is 25.31.64.03 mevr. T.Haandr...</td>\n",
              "    </tr>\n",
              "    <tr>\n",
              "      <th>45323</th>\n",
              "      <td>Mijn klantnummer is 106022415 wanneer krijg ik...</td>\n",
              "    </tr>\n",
              "    <tr>\n",
              "      <th>45903</th>\n",
              "      <td>Goedemorgen, mijn klantnummer is 0040778072 en...</td>\n",
              "    </tr>\n",
              "  </tbody>\n",
              "</table>\n",
              "</div>\n",
              "      <button class=\"colab-df-convert\" onclick=\"convertToInteractive('df-555426c8-f771-468e-b29b-ebf70f6b5c14')\"\n",
              "              title=\"Convert this dataframe to an interactive table.\"\n",
              "              style=\"display:none;\">\n",
              "        \n",
              "  <svg xmlns=\"http://www.w3.org/2000/svg\" height=\"24px\"viewBox=\"0 0 24 24\"\n",
              "       width=\"24px\">\n",
              "    <path d=\"M0 0h24v24H0V0z\" fill=\"none\"/>\n",
              "    <path d=\"M18.56 5.44l.94 2.06.94-2.06 2.06-.94-2.06-.94-.94-2.06-.94 2.06-2.06.94zm-11 1L8.5 8.5l.94-2.06 2.06-.94-2.06-.94L8.5 2.5l-.94 2.06-2.06.94zm10 10l.94 2.06.94-2.06 2.06-.94-2.06-.94-.94-2.06-.94 2.06-2.06.94z\"/><path d=\"M17.41 7.96l-1.37-1.37c-.4-.4-.92-.59-1.43-.59-.52 0-1.04.2-1.43.59L10.3 9.45l-7.72 7.72c-.78.78-.78 2.05 0 2.83L4 21.41c.39.39.9.59 1.41.59.51 0 1.02-.2 1.41-.59l7.78-7.78 2.81-2.81c.8-.78.8-2.07 0-2.86zM5.41 20L4 18.59l7.72-7.72 1.47 1.35L5.41 20z\"/>\n",
              "  </svg>\n",
              "      </button>\n",
              "      \n",
              "  <style>\n",
              "    .colab-df-container {\n",
              "      display:flex;\n",
              "      flex-wrap:wrap;\n",
              "      gap: 12px;\n",
              "    }\n",
              "\n",
              "    .colab-df-convert {\n",
              "      background-color: #E8F0FE;\n",
              "      border: none;\n",
              "      border-radius: 50%;\n",
              "      cursor: pointer;\n",
              "      display: none;\n",
              "      fill: #1967D2;\n",
              "      height: 32px;\n",
              "      padding: 0 0 0 0;\n",
              "      width: 32px;\n",
              "    }\n",
              "\n",
              "    .colab-df-convert:hover {\n",
              "      background-color: #E2EBFA;\n",
              "      box-shadow: 0px 1px 2px rgba(60, 64, 67, 0.3), 0px 1px 3px 1px rgba(60, 64, 67, 0.15);\n",
              "      fill: #174EA6;\n",
              "    }\n",
              "\n",
              "    [theme=dark] .colab-df-convert {\n",
              "      background-color: #3B4455;\n",
              "      fill: #D2E3FC;\n",
              "    }\n",
              "\n",
              "    [theme=dark] .colab-df-convert:hover {\n",
              "      background-color: #434B5C;\n",
              "      box-shadow: 0px 1px 3px 1px rgba(0, 0, 0, 0.15);\n",
              "      filter: drop-shadow(0px 1px 2px rgba(0, 0, 0, 0.3));\n",
              "      fill: #FFFFFF;\n",
              "    }\n",
              "  </style>\n",
              "\n",
              "      <script>\n",
              "        const buttonEl =\n",
              "          document.querySelector('#df-555426c8-f771-468e-b29b-ebf70f6b5c14 button.colab-df-convert');\n",
              "        buttonEl.style.display =\n",
              "          google.colab.kernel.accessAllowed ? 'block' : 'none';\n",
              "\n",
              "        async function convertToInteractive(key) {\n",
              "          const element = document.querySelector('#df-555426c8-f771-468e-b29b-ebf70f6b5c14');\n",
              "          const dataTable =\n",
              "            await google.colab.kernel.invokeFunction('convertToInteractive',\n",
              "                                                     [key], {});\n",
              "          if (!dataTable) return;\n",
              "\n",
              "          const docLinkHtml = 'Like what you see? Visit the ' +\n",
              "            '<a target=\"_blank\" href=https://colab.research.google.com/notebooks/data_table.ipynb>data table notebook</a>'\n",
              "            + ' to learn more about interactive tables.';\n",
              "          element.innerHTML = '';\n",
              "          dataTable['output_type'] = 'display_data';\n",
              "          await google.colab.output.renderOutput(dataTable, element);\n",
              "          const docLink = document.createElement('div');\n",
              "          docLink.innerHTML = docLinkHtml;\n",
              "          element.appendChild(docLink);\n",
              "        }\n",
              "      </script>\n",
              "    </div>\n",
              "  </div>\n",
              "  "
            ]
          },
          "metadata": {},
          "execution_count": 37
        }
      ]
    },
    {
      "cell_type": "code",
      "execution_count": null,
      "metadata": {
        "colab": {
          "base_uri": "https://localhost:8080/",
          "height": 677
        },
        "id": "v4cqbk1FC07r",
        "outputId": "804793ea-7cca-456b-9fdb-396daca3f7cd"
      },
      "outputs": [
        {
          "output_type": "execute_result",
          "data": {
            "text/plain": [
              "                                                   query\n",
              "35496  Ik moet mijn account activeren maar ben het wa...\n",
              "35497  Ik kan mijn digitaal abonnement niet activeren...\n",
              "35498  Hoi, ik heb net mijn code ingevoerd om 4 weken...\n",
              "35499  Wachtwoord vergeten, maar mijn e-mail adres is...\n",
              "35500  Ik wil mijn abonnement niet activeren maar nie...\n",
              "35501                    Kan mijn account niet activeren\n",
              "35502                              Registratie lukt niet\n",
              "35503                    Geen bevestigingsmail ontvangen\n",
              "35504  Ik wil mijn Hearst abonnement activeren maar i...\n",
              "35505  account activeren voor abonnementsnummer 38036...\n",
              "35506                                Activeren lukt niet\n",
              "35507  wil het blad Helden digitaal lezen maar het ac...\n",
              "35508      ik probeerde te activeren, maar het lukt niet\n",
              "35509                 Ik kan mijn account niet activeren\n",
              "35510                              Registreren lukt niet\n",
              "35511                    Ik wil geen mail meer ontvangen\n",
              "35512     Gisteren abonnement verlengd. Nog geen toegang\n",
              "35513                                       Geen togenag\n",
              "35514   Kan digitaal abonnement 105999753 niet activeren\n",
              "35515  ik heb een abonnement afgesloten dat ik niet w..."
            ],
            "text/html": [
              "\n",
              "  <div id=\"df-3df0de09-a13e-43fc-ad49-650f67230da2\">\n",
              "    <div class=\"colab-df-container\">\n",
              "      <div>\n",
              "<style scoped>\n",
              "    .dataframe tbody tr th:only-of-type {\n",
              "        vertical-align: middle;\n",
              "    }\n",
              "\n",
              "    .dataframe tbody tr th {\n",
              "        vertical-align: top;\n",
              "    }\n",
              "\n",
              "    .dataframe thead th {\n",
              "        text-align: right;\n",
              "    }\n",
              "</style>\n",
              "<table border=\"1\" class=\"dataframe\">\n",
              "  <thead>\n",
              "    <tr style=\"text-align: right;\">\n",
              "      <th></th>\n",
              "      <th>query</th>\n",
              "    </tr>\n",
              "  </thead>\n",
              "  <tbody>\n",
              "    <tr>\n",
              "      <th>35496</th>\n",
              "      <td>Ik moet mijn account activeren maar ben het wa...</td>\n",
              "    </tr>\n",
              "    <tr>\n",
              "      <th>35497</th>\n",
              "      <td>Ik kan mijn digitaal abonnement niet activeren...</td>\n",
              "    </tr>\n",
              "    <tr>\n",
              "      <th>35498</th>\n",
              "      <td>Hoi, ik heb net mijn code ingevoerd om 4 weken...</td>\n",
              "    </tr>\n",
              "    <tr>\n",
              "      <th>35499</th>\n",
              "      <td>Wachtwoord vergeten, maar mijn e-mail adres is...</td>\n",
              "    </tr>\n",
              "    <tr>\n",
              "      <th>35500</th>\n",
              "      <td>Ik wil mijn abonnement niet activeren maar nie...</td>\n",
              "    </tr>\n",
              "    <tr>\n",
              "      <th>35501</th>\n",
              "      <td>Kan mijn account niet activeren</td>\n",
              "    </tr>\n",
              "    <tr>\n",
              "      <th>35502</th>\n",
              "      <td>Registratie lukt niet</td>\n",
              "    </tr>\n",
              "    <tr>\n",
              "      <th>35503</th>\n",
              "      <td>Geen bevestigingsmail ontvangen</td>\n",
              "    </tr>\n",
              "    <tr>\n",
              "      <th>35504</th>\n",
              "      <td>Ik wil mijn Hearst abonnement activeren maar i...</td>\n",
              "    </tr>\n",
              "    <tr>\n",
              "      <th>35505</th>\n",
              "      <td>account activeren voor abonnementsnummer 38036...</td>\n",
              "    </tr>\n",
              "    <tr>\n",
              "      <th>35506</th>\n",
              "      <td>Activeren lukt niet</td>\n",
              "    </tr>\n",
              "    <tr>\n",
              "      <th>35507</th>\n",
              "      <td>wil het blad Helden digitaal lezen maar het ac...</td>\n",
              "    </tr>\n",
              "    <tr>\n",
              "      <th>35508</th>\n",
              "      <td>ik probeerde te activeren, maar het lukt niet</td>\n",
              "    </tr>\n",
              "    <tr>\n",
              "      <th>35509</th>\n",
              "      <td>Ik kan mijn account niet activeren</td>\n",
              "    </tr>\n",
              "    <tr>\n",
              "      <th>35510</th>\n",
              "      <td>Registreren lukt niet</td>\n",
              "    </tr>\n",
              "    <tr>\n",
              "      <th>35511</th>\n",
              "      <td>Ik wil geen mail meer ontvangen</td>\n",
              "    </tr>\n",
              "    <tr>\n",
              "      <th>35512</th>\n",
              "      <td>Gisteren abonnement verlengd. Nog geen toegang</td>\n",
              "    </tr>\n",
              "    <tr>\n",
              "      <th>35513</th>\n",
              "      <td>Geen togenag</td>\n",
              "    </tr>\n",
              "    <tr>\n",
              "      <th>35514</th>\n",
              "      <td>Kan digitaal abonnement 105999753 niet activeren</td>\n",
              "    </tr>\n",
              "    <tr>\n",
              "      <th>35515</th>\n",
              "      <td>ik heb een abonnement afgesloten dat ik niet w...</td>\n",
              "    </tr>\n",
              "  </tbody>\n",
              "</table>\n",
              "</div>\n",
              "      <button class=\"colab-df-convert\" onclick=\"convertToInteractive('df-3df0de09-a13e-43fc-ad49-650f67230da2')\"\n",
              "              title=\"Convert this dataframe to an interactive table.\"\n",
              "              style=\"display:none;\">\n",
              "        \n",
              "  <svg xmlns=\"http://www.w3.org/2000/svg\" height=\"24px\"viewBox=\"0 0 24 24\"\n",
              "       width=\"24px\">\n",
              "    <path d=\"M0 0h24v24H0V0z\" fill=\"none\"/>\n",
              "    <path d=\"M18.56 5.44l.94 2.06.94-2.06 2.06-.94-2.06-.94-.94-2.06-.94 2.06-2.06.94zm-11 1L8.5 8.5l.94-2.06 2.06-.94-2.06-.94L8.5 2.5l-.94 2.06-2.06.94zm10 10l.94 2.06.94-2.06 2.06-.94-2.06-.94-.94-2.06-.94 2.06-2.06.94z\"/><path d=\"M17.41 7.96l-1.37-1.37c-.4-.4-.92-.59-1.43-.59-.52 0-1.04.2-1.43.59L10.3 9.45l-7.72 7.72c-.78.78-.78 2.05 0 2.83L4 21.41c.39.39.9.59 1.41.59.51 0 1.02-.2 1.41-.59l7.78-7.78 2.81-2.81c.8-.78.8-2.07 0-2.86zM5.41 20L4 18.59l7.72-7.72 1.47 1.35L5.41 20z\"/>\n",
              "  </svg>\n",
              "      </button>\n",
              "      \n",
              "  <style>\n",
              "    .colab-df-container {\n",
              "      display:flex;\n",
              "      flex-wrap:wrap;\n",
              "      gap: 12px;\n",
              "    }\n",
              "\n",
              "    .colab-df-convert {\n",
              "      background-color: #E8F0FE;\n",
              "      border: none;\n",
              "      border-radius: 50%;\n",
              "      cursor: pointer;\n",
              "      display: none;\n",
              "      fill: #1967D2;\n",
              "      height: 32px;\n",
              "      padding: 0 0 0 0;\n",
              "      width: 32px;\n",
              "    }\n",
              "\n",
              "    .colab-df-convert:hover {\n",
              "      background-color: #E2EBFA;\n",
              "      box-shadow: 0px 1px 2px rgba(60, 64, 67, 0.3), 0px 1px 3px 1px rgba(60, 64, 67, 0.15);\n",
              "      fill: #174EA6;\n",
              "    }\n",
              "\n",
              "    [theme=dark] .colab-df-convert {\n",
              "      background-color: #3B4455;\n",
              "      fill: #D2E3FC;\n",
              "    }\n",
              "\n",
              "    [theme=dark] .colab-df-convert:hover {\n",
              "      background-color: #434B5C;\n",
              "      box-shadow: 0px 1px 3px 1px rgba(0, 0, 0, 0.15);\n",
              "      filter: drop-shadow(0px 1px 2px rgba(0, 0, 0, 0.3));\n",
              "      fill: #FFFFFF;\n",
              "    }\n",
              "  </style>\n",
              "\n",
              "      <script>\n",
              "        const buttonEl =\n",
              "          document.querySelector('#df-3df0de09-a13e-43fc-ad49-650f67230da2 button.colab-df-convert');\n",
              "        buttonEl.style.display =\n",
              "          google.colab.kernel.accessAllowed ? 'block' : 'none';\n",
              "\n",
              "        async function convertToInteractive(key) {\n",
              "          const element = document.querySelector('#df-3df0de09-a13e-43fc-ad49-650f67230da2');\n",
              "          const dataTable =\n",
              "            await google.colab.kernel.invokeFunction('convertToInteractive',\n",
              "                                                     [key], {});\n",
              "          if (!dataTable) return;\n",
              "\n",
              "          const docLinkHtml = 'Like what you see? Visit the ' +\n",
              "            '<a target=\"_blank\" href=https://colab.research.google.com/notebooks/data_table.ipynb>data table notebook</a>'\n",
              "            + ' to learn more about interactive tables.';\n",
              "          element.innerHTML = '';\n",
              "          dataTable['output_type'] = 'display_data';\n",
              "          await google.colab.output.renderOutput(dataTable, element);\n",
              "          const docLink = document.createElement('div');\n",
              "          docLink.innerHTML = docLinkHtml;\n",
              "          element.appendChild(docLink);\n",
              "        }\n",
              "      </script>\n",
              "    </div>\n",
              "  </div>\n",
              "  "
            ]
          },
          "metadata": {},
          "execution_count": 38
        }
      ],
      "source": [
        "# check what's the data for the queries, which are with intent faq.problemenActiveren\n",
        "\n",
        "# filter the rows where the intent starts with \"faq.problemenActiveren\"\n",
        "faq_pr_df = filt_df[filt_df[\"intent\"].str.contains(\"faq.problemenActiveren\")]\n",
        "\n",
        "# select only the 'query' column to see the user's input\n",
        "faq_pr_df = faq_pr_df[[\"query\"]]\n",
        "\n",
        "# display the resulting DataFrame\n",
        "faq_pr_df.head(20)"
      ]
    },
    {
      "cell_type": "code",
      "execution_count": null,
      "metadata": {
        "colab": {
          "base_uri": "https://localhost:8080/",
          "height": 206
        },
        "id": "X4vcU0vk_M4v",
        "outputId": "1b35e72b-36a7-429b-c2a5-677ea343295e"
      },
      "outputs": [
        {
          "output_type": "execute_result",
          "data": {
            "text/plain": [
              "             query\n",
              "31554  20m² - 50m²\n",
              "31555  20m² - 50m²\n",
              "31556  20m² - 50m²\n",
              "31557  20m² - 50m²\n",
              "31558  20m² - 50m²"
            ],
            "text/html": [
              "\n",
              "  <div id=\"df-4ce01bd9-3caf-4fd7-84ab-d9619b42f4ff\">\n",
              "    <div class=\"colab-df-container\">\n",
              "      <div>\n",
              "<style scoped>\n",
              "    .dataframe tbody tr th:only-of-type {\n",
              "        vertical-align: middle;\n",
              "    }\n",
              "\n",
              "    .dataframe tbody tr th {\n",
              "        vertical-align: top;\n",
              "    }\n",
              "\n",
              "    .dataframe thead th {\n",
              "        text-align: right;\n",
              "    }\n",
              "</style>\n",
              "<table border=\"1\" class=\"dataframe\">\n",
              "  <thead>\n",
              "    <tr style=\"text-align: right;\">\n",
              "      <th></th>\n",
              "      <th>query</th>\n",
              "    </tr>\n",
              "  </thead>\n",
              "  <tbody>\n",
              "    <tr>\n",
              "      <th>31554</th>\n",
              "      <td>20m² - 50m²</td>\n",
              "    </tr>\n",
              "    <tr>\n",
              "      <th>31555</th>\n",
              "      <td>20m² - 50m²</td>\n",
              "    </tr>\n",
              "    <tr>\n",
              "      <th>31556</th>\n",
              "      <td>20m² - 50m²</td>\n",
              "    </tr>\n",
              "    <tr>\n",
              "      <th>31557</th>\n",
              "      <td>20m² - 50m²</td>\n",
              "    </tr>\n",
              "    <tr>\n",
              "      <th>31558</th>\n",
              "      <td>20m² - 50m²</td>\n",
              "    </tr>\n",
              "  </tbody>\n",
              "</table>\n",
              "</div>\n",
              "      <button class=\"colab-df-convert\" onclick=\"convertToInteractive('df-4ce01bd9-3caf-4fd7-84ab-d9619b42f4ff')\"\n",
              "              title=\"Convert this dataframe to an interactive table.\"\n",
              "              style=\"display:none;\">\n",
              "        \n",
              "  <svg xmlns=\"http://www.w3.org/2000/svg\" height=\"24px\"viewBox=\"0 0 24 24\"\n",
              "       width=\"24px\">\n",
              "    <path d=\"M0 0h24v24H0V0z\" fill=\"none\"/>\n",
              "    <path d=\"M18.56 5.44l.94 2.06.94-2.06 2.06-.94-2.06-.94-.94-2.06-.94 2.06-2.06.94zm-11 1L8.5 8.5l.94-2.06 2.06-.94-2.06-.94L8.5 2.5l-.94 2.06-2.06.94zm10 10l.94 2.06.94-2.06 2.06-.94-2.06-.94-.94-2.06-.94 2.06-2.06.94z\"/><path d=\"M17.41 7.96l-1.37-1.37c-.4-.4-.92-.59-1.43-.59-.52 0-1.04.2-1.43.59L10.3 9.45l-7.72 7.72c-.78.78-.78 2.05 0 2.83L4 21.41c.39.39.9.59 1.41.59.51 0 1.02-.2 1.41-.59l7.78-7.78 2.81-2.81c.8-.78.8-2.07 0-2.86zM5.41 20L4 18.59l7.72-7.72 1.47 1.35L5.41 20z\"/>\n",
              "  </svg>\n",
              "      </button>\n",
              "      \n",
              "  <style>\n",
              "    .colab-df-container {\n",
              "      display:flex;\n",
              "      flex-wrap:wrap;\n",
              "      gap: 12px;\n",
              "    }\n",
              "\n",
              "    .colab-df-convert {\n",
              "      background-color: #E8F0FE;\n",
              "      border: none;\n",
              "      border-radius: 50%;\n",
              "      cursor: pointer;\n",
              "      display: none;\n",
              "      fill: #1967D2;\n",
              "      height: 32px;\n",
              "      padding: 0 0 0 0;\n",
              "      width: 32px;\n",
              "    }\n",
              "\n",
              "    .colab-df-convert:hover {\n",
              "      background-color: #E2EBFA;\n",
              "      box-shadow: 0px 1px 2px rgba(60, 64, 67, 0.3), 0px 1px 3px 1px rgba(60, 64, 67, 0.15);\n",
              "      fill: #174EA6;\n",
              "    }\n",
              "\n",
              "    [theme=dark] .colab-df-convert {\n",
              "      background-color: #3B4455;\n",
              "      fill: #D2E3FC;\n",
              "    }\n",
              "\n",
              "    [theme=dark] .colab-df-convert:hover {\n",
              "      background-color: #434B5C;\n",
              "      box-shadow: 0px 1px 3px 1px rgba(0, 0, 0, 0.15);\n",
              "      filter: drop-shadow(0px 1px 2px rgba(0, 0, 0, 0.3));\n",
              "      fill: #FFFFFF;\n",
              "    }\n",
              "  </style>\n",
              "\n",
              "      <script>\n",
              "        const buttonEl =\n",
              "          document.querySelector('#df-4ce01bd9-3caf-4fd7-84ab-d9619b42f4ff button.colab-df-convert');\n",
              "        buttonEl.style.display =\n",
              "          google.colab.kernel.accessAllowed ? 'block' : 'none';\n",
              "\n",
              "        async function convertToInteractive(key) {\n",
              "          const element = document.querySelector('#df-4ce01bd9-3caf-4fd7-84ab-d9619b42f4ff');\n",
              "          const dataTable =\n",
              "            await google.colab.kernel.invokeFunction('convertToInteractive',\n",
              "                                                     [key], {});\n",
              "          if (!dataTable) return;\n",
              "\n",
              "          const docLinkHtml = 'Like what you see? Visit the ' +\n",
              "            '<a target=\"_blank\" href=https://colab.research.google.com/notebooks/data_table.ipynb>data table notebook</a>'\n",
              "            + ' to learn more about interactive tables.';\n",
              "          element.innerHTML = '';\n",
              "          dataTable['output_type'] = 'display_data';\n",
              "          await google.colab.output.renderOutput(dataTable, element);\n",
              "          const docLink = document.createElement('div');\n",
              "          docLink.innerHTML = docLinkHtml;\n",
              "          element.appendChild(docLink);\n",
              "        }\n",
              "      </script>\n",
              "    </div>\n",
              "  </div>\n",
              "  "
            ]
          },
          "metadata": {},
          "execution_count": 39
        }
      ],
      "source": [
        "# check what's the data for the queries, which are with intent surface.answer.20-50\n",
        "\n",
        "# filter the rows where the intent starts with \"faq.problemenActiveren\"\n",
        "surf_df = filt_df[filt_df[\"intent\"].str.contains(\"surface.answer.20-50\")]\n",
        "\n",
        "# select only the 'query' column to see the user's input\n",
        "surf_df = surf_df[[\"query\"]]\n",
        "\n",
        "# display the resulting DataFrame\n",
        "surf_df.head()"
      ]
    },
    {
      "cell_type": "code",
      "execution_count": null,
      "metadata": {
        "colab": {
          "base_uri": "https://localhost:8080/",
          "height": 206
        },
        "id": "2kPIRLPx_dzT",
        "outputId": "d7738050-61c1-45a3-f04c-4db638bbfd5e"
      },
      "outputs": [
        {
          "output_type": "execute_result",
          "data": {
            "text/plain": [
              "            query\n",
              "1240  Apple (iOS)\n",
              "1241  Apple (iOS)\n",
              "1242  Apple (iOS)\n",
              "1243  Apple (iOS)\n",
              "1244  Apple (iOS)"
            ],
            "text/html": [
              "\n",
              "  <div id=\"df-797b204e-605e-4359-86cd-9f633d32035b\">\n",
              "    <div class=\"colab-df-container\">\n",
              "      <div>\n",
              "<style scoped>\n",
              "    .dataframe tbody tr th:only-of-type {\n",
              "        vertical-align: middle;\n",
              "    }\n",
              "\n",
              "    .dataframe tbody tr th {\n",
              "        vertical-align: top;\n",
              "    }\n",
              "\n",
              "    .dataframe thead th {\n",
              "        text-align: right;\n",
              "    }\n",
              "</style>\n",
              "<table border=\"1\" class=\"dataframe\">\n",
              "  <thead>\n",
              "    <tr style=\"text-align: right;\">\n",
              "      <th></th>\n",
              "      <th>query</th>\n",
              "    </tr>\n",
              "  </thead>\n",
              "  <tbody>\n",
              "    <tr>\n",
              "      <th>1240</th>\n",
              "      <td>Apple (iOS)</td>\n",
              "    </tr>\n",
              "    <tr>\n",
              "      <th>1241</th>\n",
              "      <td>Apple (iOS)</td>\n",
              "    </tr>\n",
              "    <tr>\n",
              "      <th>1242</th>\n",
              "      <td>Apple (iOS)</td>\n",
              "    </tr>\n",
              "    <tr>\n",
              "      <th>1243</th>\n",
              "      <td>Apple (iOS)</td>\n",
              "    </tr>\n",
              "    <tr>\n",
              "      <th>1244</th>\n",
              "      <td>Apple (iOS)</td>\n",
              "    </tr>\n",
              "  </tbody>\n",
              "</table>\n",
              "</div>\n",
              "      <button class=\"colab-df-convert\" onclick=\"convertToInteractive('df-797b204e-605e-4359-86cd-9f633d32035b')\"\n",
              "              title=\"Convert this dataframe to an interactive table.\"\n",
              "              style=\"display:none;\">\n",
              "        \n",
              "  <svg xmlns=\"http://www.w3.org/2000/svg\" height=\"24px\"viewBox=\"0 0 24 24\"\n",
              "       width=\"24px\">\n",
              "    <path d=\"M0 0h24v24H0V0z\" fill=\"none\"/>\n",
              "    <path d=\"M18.56 5.44l.94 2.06.94-2.06 2.06-.94-2.06-.94-.94-2.06-.94 2.06-2.06.94zm-11 1L8.5 8.5l.94-2.06 2.06-.94-2.06-.94L8.5 2.5l-.94 2.06-2.06.94zm10 10l.94 2.06.94-2.06 2.06-.94-2.06-.94-.94-2.06-.94 2.06-2.06.94z\"/><path d=\"M17.41 7.96l-1.37-1.37c-.4-.4-.92-.59-1.43-.59-.52 0-1.04.2-1.43.59L10.3 9.45l-7.72 7.72c-.78.78-.78 2.05 0 2.83L4 21.41c.39.39.9.59 1.41.59.51 0 1.02-.2 1.41-.59l7.78-7.78 2.81-2.81c.8-.78.8-2.07 0-2.86zM5.41 20L4 18.59l7.72-7.72 1.47 1.35L5.41 20z\"/>\n",
              "  </svg>\n",
              "      </button>\n",
              "      \n",
              "  <style>\n",
              "    .colab-df-container {\n",
              "      display:flex;\n",
              "      flex-wrap:wrap;\n",
              "      gap: 12px;\n",
              "    }\n",
              "\n",
              "    .colab-df-convert {\n",
              "      background-color: #E8F0FE;\n",
              "      border: none;\n",
              "      border-radius: 50%;\n",
              "      cursor: pointer;\n",
              "      display: none;\n",
              "      fill: #1967D2;\n",
              "      height: 32px;\n",
              "      padding: 0 0 0 0;\n",
              "      width: 32px;\n",
              "    }\n",
              "\n",
              "    .colab-df-convert:hover {\n",
              "      background-color: #E2EBFA;\n",
              "      box-shadow: 0px 1px 2px rgba(60, 64, 67, 0.3), 0px 1px 3px 1px rgba(60, 64, 67, 0.15);\n",
              "      fill: #174EA6;\n",
              "    }\n",
              "\n",
              "    [theme=dark] .colab-df-convert {\n",
              "      background-color: #3B4455;\n",
              "      fill: #D2E3FC;\n",
              "    }\n",
              "\n",
              "    [theme=dark] .colab-df-convert:hover {\n",
              "      background-color: #434B5C;\n",
              "      box-shadow: 0px 1px 3px 1px rgba(0, 0, 0, 0.15);\n",
              "      filter: drop-shadow(0px 1px 2px rgba(0, 0, 0, 0.3));\n",
              "      fill: #FFFFFF;\n",
              "    }\n",
              "  </style>\n",
              "\n",
              "      <script>\n",
              "        const buttonEl =\n",
              "          document.querySelector('#df-797b204e-605e-4359-86cd-9f633d32035b button.colab-df-convert');\n",
              "        buttonEl.style.display =\n",
              "          google.colab.kernel.accessAllowed ? 'block' : 'none';\n",
              "\n",
              "        async function convertToInteractive(key) {\n",
              "          const element = document.querySelector('#df-797b204e-605e-4359-86cd-9f633d32035b');\n",
              "          const dataTable =\n",
              "            await google.colab.kernel.invokeFunction('convertToInteractive',\n",
              "                                                     [key], {});\n",
              "          if (!dataTable) return;\n",
              "\n",
              "          const docLinkHtml = 'Like what you see? Visit the ' +\n",
              "            '<a target=\"_blank\" href=https://colab.research.google.com/notebooks/data_table.ipynb>data table notebook</a>'\n",
              "            + ' to learn more about interactive tables.';\n",
              "          element.innerHTML = '';\n",
              "          dataTable['output_type'] = 'display_data';\n",
              "          await google.colab.output.renderOutput(dataTable, element);\n",
              "          const docLink = document.createElement('div');\n",
              "          docLink.innerHTML = docLinkHtml;\n",
              "          element.appendChild(docLink);\n",
              "        }\n",
              "      </script>\n",
              "    </div>\n",
              "  </div>\n",
              "  "
            ]
          },
          "metadata": {},
          "execution_count": 40
        }
      ],
      "source": [
        "# check what's the data for the queries, which are with intent intent.phoneOs\n",
        "\n",
        "# filter the rows where the intent starts with \"faq.problemenActiveren\"\n",
        "ph_df = filt_df[filt_df[\"intent\"].str.contains(\"intent.phoneOs\")]\n",
        "\n",
        "# select only the 'query' column to see the user's input\n",
        "ph_df = ph_df[[\"query\"]]\n",
        "\n",
        "# display the resulting DataFrame\n",
        "ph_df.head()"
      ]
    },
    {
      "cell_type": "code",
      "execution_count": null,
      "metadata": {
        "colab": {
          "base_uri": "https://localhost:8080/",
          "height": 206
        },
        "id": "32m-JMLH_3cy",
        "outputId": "767ed13c-f2e4-4a96-de66-d8b4a931e83a"
      },
      "outputs": [
        {
          "output_type": "execute_result",
          "data": {
            "text/plain": [
              "                                                 query\n",
              "343                                  De link werk niet\n",
              "344                              De link doetbhet niet\n",
              "345  Ik heb mijn abonnement omgezet van Veronica Ma...\n",
              "346  Heb ik al een paar keer gedaan maar komt niet ...\n",
              "347  ik krijg normaal toch de magazine ook via de p..."
            ],
            "text/html": [
              "\n",
              "  <div id=\"df-0f9a45ed-8ff7-4a6d-8f54-268a3132ef89\">\n",
              "    <div class=\"colab-df-container\">\n",
              "      <div>\n",
              "<style scoped>\n",
              "    .dataframe tbody tr th:only-of-type {\n",
              "        vertical-align: middle;\n",
              "    }\n",
              "\n",
              "    .dataframe tbody tr th {\n",
              "        vertical-align: top;\n",
              "    }\n",
              "\n",
              "    .dataframe thead th {\n",
              "        text-align: right;\n",
              "    }\n",
              "</style>\n",
              "<table border=\"1\" class=\"dataframe\">\n",
              "  <thead>\n",
              "    <tr style=\"text-align: right;\">\n",
              "      <th></th>\n",
              "      <th>query</th>\n",
              "    </tr>\n",
              "  </thead>\n",
              "  <tbody>\n",
              "    <tr>\n",
              "      <th>343</th>\n",
              "      <td>De link werk niet</td>\n",
              "    </tr>\n",
              "    <tr>\n",
              "      <th>344</th>\n",
              "      <td>De link doetbhet niet</td>\n",
              "    </tr>\n",
              "    <tr>\n",
              "      <th>345</th>\n",
              "      <td>Ik heb mijn abonnement omgezet van Veronica Ma...</td>\n",
              "    </tr>\n",
              "    <tr>\n",
              "      <th>346</th>\n",
              "      <td>Heb ik al een paar keer gedaan maar komt niet ...</td>\n",
              "    </tr>\n",
              "    <tr>\n",
              "      <th>347</th>\n",
              "      <td>ik krijg normaal toch de magazine ook via de p...</td>\n",
              "    </tr>\n",
              "  </tbody>\n",
              "</table>\n",
              "</div>\n",
              "      <button class=\"colab-df-convert\" onclick=\"convertToInteractive('df-0f9a45ed-8ff7-4a6d-8f54-268a3132ef89')\"\n",
              "              title=\"Convert this dataframe to an interactive table.\"\n",
              "              style=\"display:none;\">\n",
              "        \n",
              "  <svg xmlns=\"http://www.w3.org/2000/svg\" height=\"24px\"viewBox=\"0 0 24 24\"\n",
              "       width=\"24px\">\n",
              "    <path d=\"M0 0h24v24H0V0z\" fill=\"none\"/>\n",
              "    <path d=\"M18.56 5.44l.94 2.06.94-2.06 2.06-.94-2.06-.94-.94-2.06-.94 2.06-2.06.94zm-11 1L8.5 8.5l.94-2.06 2.06-.94-2.06-.94L8.5 2.5l-.94 2.06-2.06.94zm10 10l.94 2.06.94-2.06 2.06-.94-2.06-.94-.94-2.06-.94 2.06-2.06.94z\"/><path d=\"M17.41 7.96l-1.37-1.37c-.4-.4-.92-.59-1.43-.59-.52 0-1.04.2-1.43.59L10.3 9.45l-7.72 7.72c-.78.78-.78 2.05 0 2.83L4 21.41c.39.39.9.59 1.41.59.51 0 1.02-.2 1.41-.59l7.78-7.78 2.81-2.81c.8-.78.8-2.07 0-2.86zM5.41 20L4 18.59l7.72-7.72 1.47 1.35L5.41 20z\"/>\n",
              "  </svg>\n",
              "      </button>\n",
              "      \n",
              "  <style>\n",
              "    .colab-df-container {\n",
              "      display:flex;\n",
              "      flex-wrap:wrap;\n",
              "      gap: 12px;\n",
              "    }\n",
              "\n",
              "    .colab-df-convert {\n",
              "      background-color: #E8F0FE;\n",
              "      border: none;\n",
              "      border-radius: 50%;\n",
              "      cursor: pointer;\n",
              "      display: none;\n",
              "      fill: #1967D2;\n",
              "      height: 32px;\n",
              "      padding: 0 0 0 0;\n",
              "      width: 32px;\n",
              "    }\n",
              "\n",
              "    .colab-df-convert:hover {\n",
              "      background-color: #E2EBFA;\n",
              "      box-shadow: 0px 1px 2px rgba(60, 64, 67, 0.3), 0px 1px 3px 1px rgba(60, 64, 67, 0.15);\n",
              "      fill: #174EA6;\n",
              "    }\n",
              "\n",
              "    [theme=dark] .colab-df-convert {\n",
              "      background-color: #3B4455;\n",
              "      fill: #D2E3FC;\n",
              "    }\n",
              "\n",
              "    [theme=dark] .colab-df-convert:hover {\n",
              "      background-color: #434B5C;\n",
              "      box-shadow: 0px 1px 3px 1px rgba(0, 0, 0, 0.15);\n",
              "      filter: drop-shadow(0px 1px 2px rgba(0, 0, 0, 0.3));\n",
              "      fill: #FFFFFF;\n",
              "    }\n",
              "  </style>\n",
              "\n",
              "      <script>\n",
              "        const buttonEl =\n",
              "          document.querySelector('#df-0f9a45ed-8ff7-4a6d-8f54-268a3132ef89 button.colab-df-convert');\n",
              "        buttonEl.style.display =\n",
              "          google.colab.kernel.accessAllowed ? 'block' : 'none';\n",
              "\n",
              "        async function convertToInteractive(key) {\n",
              "          const element = document.querySelector('#df-0f9a45ed-8ff7-4a6d-8f54-268a3132ef89');\n",
              "          const dataTable =\n",
              "            await google.colab.kernel.invokeFunction('convertToInteractive',\n",
              "                                                     [key], {});\n",
              "          if (!dataTable) return;\n",
              "\n",
              "          const docLinkHtml = 'Like what you see? Visit the ' +\n",
              "            '<a target=\"_blank\" href=https://colab.research.google.com/notebooks/data_table.ipynb>data table notebook</a>'\n",
              "            + ' to learn more about interactive tables.';\n",
              "          element.innerHTML = '';\n",
              "          dataTable['output_type'] = 'display_data';\n",
              "          await google.colab.output.renderOutput(dataTable, element);\n",
              "          const docLink = document.createElement('div');\n",
              "          docLink.innerHTML = docLinkHtml;\n",
              "          element.appendChild(docLink);\n",
              "        }\n",
              "      </script>\n",
              "    </div>\n",
              "  </div>\n",
              "  "
            ]
          },
          "metadata": {},
          "execution_count": 41
        }
      ],
      "source": [
        "# check what's the data for the queries, which are with intent faq.noNewEdition\n",
        "\n",
        "# filter the rows where the intent starts with \"faq.problemenActiveren\"\n",
        "faqn_df = filt_df[filt_df[\"intent\"].str.contains(\"faq.noNewEdition\")]\n",
        "\n",
        "# select only the 'query' column to see the user's input\n",
        "faqn_df = faqn_df[[\"query\"]]\n",
        "\n",
        "# display the resulting DataFrame\n",
        "faqn_df.tail()"
      ]
    },
    {
      "cell_type": "code",
      "execution_count": null,
      "metadata": {
        "colab": {
          "base_uri": "https://localhost:8080/",
          "height": 300
        },
        "id": "0Igq4Xg35-ls",
        "outputId": "71ed811c-085b-4790-8130-61c82638eae7"
      },
      "outputs": [
        {
          "output_type": "execute_result",
          "data": {
            "text/plain": [
              "                            query                        timestamp\n",
              "73734  Etwas anderes, nämlich ... 2021-05-26 09:03:48.571788+00:00\n",
              "73753  Etwas anderes, nämlich ... 2021-05-27 06:14:40.325907+00:00\n",
              "73754  Etwas anderes, nämlich ... 2021-05-27 06:27:45.662556+00:00\n",
              "73755  Etwas anderes, nämlich ... 2021-05-27 06:28:49.475679+00:00\n",
              "73756  Etwas anderes, nämlich ... 2021-05-27 06:28:54.878064+00:00\n",
              "73758  Etwas anderes, nämlich ... 2021-05-27 07:57:57.808658+00:00\n",
              "73759  Etwas anderes, nämlich ... 2021-05-27 07:58:11.371828+00:00\n",
              "73760  Etwas anderes, nämlich ... 2021-05-27 08:01:45.362914+00:00"
            ],
            "text/html": [
              "\n",
              "  <div id=\"df-7f60cfd3-c292-488a-8cc1-4654a8a871af\">\n",
              "    <div class=\"colab-df-container\">\n",
              "      <div>\n",
              "<style scoped>\n",
              "    .dataframe tbody tr th:only-of-type {\n",
              "        vertical-align: middle;\n",
              "    }\n",
              "\n",
              "    .dataframe tbody tr th {\n",
              "        vertical-align: top;\n",
              "    }\n",
              "\n",
              "    .dataframe thead th {\n",
              "        text-align: right;\n",
              "    }\n",
              "</style>\n",
              "<table border=\"1\" class=\"dataframe\">\n",
              "  <thead>\n",
              "    <tr style=\"text-align: right;\">\n",
              "      <th></th>\n",
              "      <th>query</th>\n",
              "      <th>timestamp</th>\n",
              "    </tr>\n",
              "  </thead>\n",
              "  <tbody>\n",
              "    <tr>\n",
              "      <th>73734</th>\n",
              "      <td>Etwas anderes, nämlich ...</td>\n",
              "      <td>2021-05-26 09:03:48.571788+00:00</td>\n",
              "    </tr>\n",
              "    <tr>\n",
              "      <th>73753</th>\n",
              "      <td>Etwas anderes, nämlich ...</td>\n",
              "      <td>2021-05-27 06:14:40.325907+00:00</td>\n",
              "    </tr>\n",
              "    <tr>\n",
              "      <th>73754</th>\n",
              "      <td>Etwas anderes, nämlich ...</td>\n",
              "      <td>2021-05-27 06:27:45.662556+00:00</td>\n",
              "    </tr>\n",
              "    <tr>\n",
              "      <th>73755</th>\n",
              "      <td>Etwas anderes, nämlich ...</td>\n",
              "      <td>2021-05-27 06:28:49.475679+00:00</td>\n",
              "    </tr>\n",
              "    <tr>\n",
              "      <th>73756</th>\n",
              "      <td>Etwas anderes, nämlich ...</td>\n",
              "      <td>2021-05-27 06:28:54.878064+00:00</td>\n",
              "    </tr>\n",
              "    <tr>\n",
              "      <th>73758</th>\n",
              "      <td>Etwas anderes, nämlich ...</td>\n",
              "      <td>2021-05-27 07:57:57.808658+00:00</td>\n",
              "    </tr>\n",
              "    <tr>\n",
              "      <th>73759</th>\n",
              "      <td>Etwas anderes, nämlich ...</td>\n",
              "      <td>2021-05-27 07:58:11.371828+00:00</td>\n",
              "    </tr>\n",
              "    <tr>\n",
              "      <th>73760</th>\n",
              "      <td>Etwas anderes, nämlich ...</td>\n",
              "      <td>2021-05-27 08:01:45.362914+00:00</td>\n",
              "    </tr>\n",
              "  </tbody>\n",
              "</table>\n",
              "</div>\n",
              "      <button class=\"colab-df-convert\" onclick=\"convertToInteractive('df-7f60cfd3-c292-488a-8cc1-4654a8a871af')\"\n",
              "              title=\"Convert this dataframe to an interactive table.\"\n",
              "              style=\"display:none;\">\n",
              "        \n",
              "  <svg xmlns=\"http://www.w3.org/2000/svg\" height=\"24px\"viewBox=\"0 0 24 24\"\n",
              "       width=\"24px\">\n",
              "    <path d=\"M0 0h24v24H0V0z\" fill=\"none\"/>\n",
              "    <path d=\"M18.56 5.44l.94 2.06.94-2.06 2.06-.94-2.06-.94-.94-2.06-.94 2.06-2.06.94zm-11 1L8.5 8.5l.94-2.06 2.06-.94-2.06-.94L8.5 2.5l-.94 2.06-2.06.94zm10 10l.94 2.06.94-2.06 2.06-.94-2.06-.94-.94-2.06-.94 2.06-2.06.94z\"/><path d=\"M17.41 7.96l-1.37-1.37c-.4-.4-.92-.59-1.43-.59-.52 0-1.04.2-1.43.59L10.3 9.45l-7.72 7.72c-.78.78-.78 2.05 0 2.83L4 21.41c.39.39.9.59 1.41.59.51 0 1.02-.2 1.41-.59l7.78-7.78 2.81-2.81c.8-.78.8-2.07 0-2.86zM5.41 20L4 18.59l7.72-7.72 1.47 1.35L5.41 20z\"/>\n",
              "  </svg>\n",
              "      </button>\n",
              "      \n",
              "  <style>\n",
              "    .colab-df-container {\n",
              "      display:flex;\n",
              "      flex-wrap:wrap;\n",
              "      gap: 12px;\n",
              "    }\n",
              "\n",
              "    .colab-df-convert {\n",
              "      background-color: #E8F0FE;\n",
              "      border: none;\n",
              "      border-radius: 50%;\n",
              "      cursor: pointer;\n",
              "      display: none;\n",
              "      fill: #1967D2;\n",
              "      height: 32px;\n",
              "      padding: 0 0 0 0;\n",
              "      width: 32px;\n",
              "    }\n",
              "\n",
              "    .colab-df-convert:hover {\n",
              "      background-color: #E2EBFA;\n",
              "      box-shadow: 0px 1px 2px rgba(60, 64, 67, 0.3), 0px 1px 3px 1px rgba(60, 64, 67, 0.15);\n",
              "      fill: #174EA6;\n",
              "    }\n",
              "\n",
              "    [theme=dark] .colab-df-convert {\n",
              "      background-color: #3B4455;\n",
              "      fill: #D2E3FC;\n",
              "    }\n",
              "\n",
              "    [theme=dark] .colab-df-convert:hover {\n",
              "      background-color: #434B5C;\n",
              "      box-shadow: 0px 1px 3px 1px rgba(0, 0, 0, 0.15);\n",
              "      filter: drop-shadow(0px 1px 2px rgba(0, 0, 0, 0.3));\n",
              "      fill: #FFFFFF;\n",
              "    }\n",
              "  </style>\n",
              "\n",
              "      <script>\n",
              "        const buttonEl =\n",
              "          document.querySelector('#df-7f60cfd3-c292-488a-8cc1-4654a8a871af button.colab-df-convert');\n",
              "        buttonEl.style.display =\n",
              "          google.colab.kernel.accessAllowed ? 'block' : 'none';\n",
              "\n",
              "        async function convertToInteractive(key) {\n",
              "          const element = document.querySelector('#df-7f60cfd3-c292-488a-8cc1-4654a8a871af');\n",
              "          const dataTable =\n",
              "            await google.colab.kernel.invokeFunction('convertToInteractive',\n",
              "                                                     [key], {});\n",
              "          if (!dataTable) return;\n",
              "\n",
              "          const docLinkHtml = 'Like what you see? Visit the ' +\n",
              "            '<a target=\"_blank\" href=https://colab.research.google.com/notebooks/data_table.ipynb>data table notebook</a>'\n",
              "            + ' to learn more about interactive tables.';\n",
              "          element.innerHTML = '';\n",
              "          dataTable['output_type'] = 'display_data';\n",
              "          await google.colab.output.renderOutput(dataTable, element);\n",
              "          const docLink = document.createElement('div');\n",
              "          docLink.innerHTML = docLinkHtml;\n",
              "          element.appendChild(docLink);\n",
              "        }\n",
              "      </script>\n",
              "    </div>\n",
              "  </div>\n",
              "  "
            ]
          },
          "metadata": {},
          "execution_count": 42
        }
      ],
      "source": [
        "# check which rows are starting with the below string\n",
        "dupli = df[df[\"query\"].str.startswith(\"Etwas anderes,\")]\n",
        "\n",
        "# select only the 'query' column to see the user's input\n",
        "dupli = dupli[[\"query\", \"timestamp\"]]\n",
        "\n",
        "# display the resulting DataFrame\n",
        "dupli.head(20)"
      ]
    },
    {
      "cell_type": "markdown",
      "metadata": {
        "id": "vptyJPKwT1Og"
      },
      "source": [
        "### Experimenting when dropping all the duplicates from the data. This will lead to having less data available."
      ]
    },
    {
      "cell_type": "code",
      "execution_count": null,
      "metadata": {
        "id": "Mwf3V5_janWO"
      },
      "outputs": [],
      "source": [
        "new_df = filt_df"
      ]
    },
    {
      "cell_type": "code",
      "execution_count": null,
      "metadata": {
        "id": "JouPRM2xCC7R"
      },
      "outputs": [],
      "source": [
        "# sort the DataFrame by timestamp\n",
        "new_df.sort_values(by=\"timestamp\", ascending=False, inplace=True)\n",
        "\n",
        "# drop duplicates based on the 'query' column, keeping the most recent occurrence\n",
        "new_df.drop_duplicates(subset=[\"query\"], keep=\"first\", inplace=True)"
      ]
    },
    {
      "cell_type": "code",
      "source": [
        "new_df_download = new_df.to_csv(\"cleaned_queries.csv\")"
      ],
      "metadata": {
        "id": "HxDspWlwPK-q"
      },
      "execution_count": null,
      "outputs": []
    },
    {
      "cell_type": "code",
      "execution_count": null,
      "metadata": {
        "colab": {
          "base_uri": "https://localhost:8080/"
        },
        "id": "r9ecCXdxCUQJ",
        "outputId": "d5dd6ca0-08a2-47f0-bbe6-81fd11b4506a"
      },
      "outputs": [
        {
          "output_type": "execute_result",
          "data": {
            "text/plain": [
              "Fallback (unable to determine which one)    5003\n",
              "purpose.answer.toepassing                    464\n",
              "satisfactionFeedback.answer                  243\n",
              "faq.abonnementOpzeggen                       216\n",
              "faq.problemenActiveren                       183\n",
              "faq.medewerkerSpreken                        167\n",
              "faq.cannotLogin                              167\n",
              "faq.noNewEdition                             156\n",
              "faq.postcodeRecognize                        126\n",
              "faq.appFail                                   95\n",
              "faq.geenPrijs                                 62\n",
              "faq.abonnementWijzigen                        61\n",
              "faq.aanbod                                    56\n",
              "faq.thanks                                    55\n",
              "faq.webReaderFail                             50\n",
              "usecase.answer.usecases                       37\n",
              "faq.noDiscount                                30\n",
              "intent.notsucceeded                           28\n",
              "faq.abonnementEnded                           28\n",
              "intent.activerenopzeggen                      26\n",
              "faq.appVersion                                24\n",
              "intent.else                                   24\n",
              "faq.1ct                                       23\n",
              "faq.abonnementopzeggenluktniet                19\n",
              "faq.accountDelen                              18\n",
              "faq.fc.vloer                                  18\n",
              "faq.reinigingsmiddel                          17\n",
              "faq.devices                                   16\n",
              "faq.fc.verschil                               15\n",
              "faq.appReinstall                              14\n",
              "satisfaction.received                         13\n",
              "faq.abonnementVerlengen                       12\n",
              "faq.otherDevice                               12\n",
              "surface.answer.number                         12\n",
              "intent.no                                     12\n",
              "faq.leveringBestelling                        12\n",
              "faq.bye                                       11\n",
              "faq.welkomstMail                              11\n",
              "faq.garantie                                  10\n",
              "answer.yes                                     9\n",
              "faq.fc.helevloer                               9\n",
              "intent.app                                     8\n",
              "faq.digitaalKoppelen                           8\n",
              "answer.no                                      7\n",
              "intent.yes                                     7\n",
              "faq.hoelang                                    6\n",
              "colour.answer.noPreference                     6\n",
              "faq.offlineOnline                              5\n",
              "faq.uitproberen                                5\n",
              "intent.inloggen                                5\n",
              "faq.fc.hondenharen                             5\n",
              "faq.vrijblijvend                               5\n",
              "carsize.answer.large                           4\n",
              "faq.regels                                     4\n",
              "faq.lidWorden                                  4\n",
              "faq.proefritThuis                              3\n",
              "intent.unknown                                 3\n",
              "faq.test                                       3\n",
              "intent.succeeded                               3\n",
              "intent.noNewEditions                           3\n",
              "intent.nextStep                                3\n",
              "colour.answer.yellow                           3\n",
              "colour.answer.white                            3\n",
              "faq.fc.houtenvloer                             3\n",
              "faq.oplettenTips                               3\n",
              "faq.werking                                    3\n",
              "faq.reinigingsmiddelAanbrengen                 2\n",
              "faq.afspraakBevestigen                         2\n",
              "faq.checklist                                  2\n",
              "faq.otherQuestion                              2\n",
              "faq.voorwaarden                                2\n",
              "surface.answer.20                              2\n",
              "intent.phoneOs                                 2\n",
              "carsize.answer.medium                          2\n",
              "carsize.answer.small                           2\n",
              "surface.answer.80-100                          2\n",
              "surface.answer.50-80                           2\n",
              "surface.answer.20-50                           2\n",
              "answer.batteries                               2\n",
              "surface.answer.100                             2\n",
              "answer.electricity                             2\n",
              "faq.freeUpSpace                                2\n",
              "purpose.answer.else                            2\n",
              "intent.financieel                              1\n",
              "wall.answer.klein                              1\n",
              "faq.wensenDoorgeven                            1\n",
              "wall.answer.gevel                              1\n",
              "intent.submit                                  1\n",
              "Name: intent, dtype: int64"
            ]
          },
          "metadata": {},
          "execution_count": 41
        }
      ],
      "source": [
        "new_df[\"intent\"].value_counts()"
      ]
    },
    {
      "cell_type": "code",
      "execution_count": null,
      "metadata": {
        "colab": {
          "base_uri": "https://localhost:8080/"
        },
        "id": "PZ0gFwhTCKT7",
        "outputId": "1c07a010-73a2-43ee-e0ba-32d7c9bd86e4"
      },
      "outputs": [
        {
          "output_type": "execute_result",
          "data": {
            "text/plain": [
              "(7715, 21)"
            ]
          },
          "metadata": {},
          "execution_count": 42
        }
      ],
      "source": [
        "new_df.shape"
      ]
    },
    {
      "cell_type": "code",
      "execution_count": null,
      "metadata": {
        "id": "fjLWSRT_Cfgx"
      },
      "outputs": [],
      "source": [
        "new_df[\"text_length\"] = new_df[\"query\"].astype(str).apply(len)\n",
        "new_df[\"text_word_count\"] = new_df[\"query\"].apply(lambda x: len(str(x).split()))"
      ]
    },
    {
      "cell_type": "code",
      "execution_count": null,
      "metadata": {
        "colab": {
          "base_uri": "https://localhost:8080/",
          "height": 279
        },
        "id": "460g97x5Cfg0",
        "outputId": "4504621e-2d42-4ab5-f744-35fda5e54bfe"
      },
      "outputs": [
        {
          "output_type": "display_data",
          "data": {
            "text/plain": [
              "<Figure size 432x288 with 1 Axes>"
            ],
            "image/png": "[encoded data removed]"
          },
          "metadata": {
            "needs_background": "light"
          }
        }
      ],
      "source": [
        "# plot the length of the characters in a user query\n",
        "sns.distplot(new_df['text_length'])\n",
        "plt.xlim([0, 50]);\n",
        "plt.xlabel('Number of characters in a user query.');"
      ]
    },
    {
      "cell_type": "code",
      "execution_count": null,
      "metadata": {
        "colab": {
          "base_uri": "https://localhost:8080/",
          "height": 279
        },
        "id": "Z-Gx7YiYCfg1",
        "outputId": "d1fb6b4e-a5dd-4a02-a7e9-54037a0b3d7c"
      },
      "outputs": [
        {
          "output_type": "display_data",
          "data": {
            "text/plain": [
              "<Figure size 432x288 with 1 Axes>"
            ],
            "image/png": "[encoded data removed]"
          },
          "metadata": {
            "needs_background": "light"
          }
        }
      ],
      "source": [
        "# plot the number of words in a user query\n",
        "sns.distplot(new_df['text_word_count'])\n",
        "plt.xlim([0, 15]);\n",
        "plt.xlabel('Number of tokens(words) in a query.');"
      ]
    },
    {
      "cell_type": "markdown",
      "metadata": {
        "id": "7Ag1sRsR_J7A"
      },
      "source": [
        "### Look into the Fallback data\n",
        "\n",
        "> ___Fallback (unable to determine which one)___ contains data, which was not labelled. Therefore, this is something I will further explore."
      ]
    },
    {
      "cell_type": "code",
      "execution_count": null,
      "metadata": {
        "colab": {
          "base_uri": "https://localhost:8080/",
          "height": 677
        },
        "id": "2MH2UWozJob0",
        "outputId": "1d5daf6e-8ae1-4f77-a7e9-38406306915a"
      },
      "outputs": [
        {
          "output_type": "execute_result",
          "data": {
            "text/plain": [
              "                                                   query\n",
              "47994  ik ben bij dealer De Waal geweest en wil graag...\n",
              "47995                               proefrit in Polo GTI\n",
              "47996  We hebben een proefrit aangevraagd, maar nog g...\n",
              "47997                          Geen bevestiging proefrit\n",
              "47998              Kan ik een auto kopen als financieren\n",
              "47999                        Ik wil een auto financieren\n",
              "48000                          Hoe plan ik een proefrit?\n",
              "48001                          Ik wil graag een proefrit\n",
              "48002                       Als de vetkoper gaat dwingen\n",
              "48003                      Als de verkoper gaat dwingen?\n",
              "48004                  Moet je betalen voor een proefrit\n",
              "48006  ik heb een proefrit aangevraagd, maar na de bi...\n",
              "48007                      nog steeds geen contact gehad\n",
              "48008                            Wordt de auto opgehaald\n",
              "48009                                       Ophalen auto\n",
              "48013                                      Proefrit id 5\n",
              "48014                                      Wie rijd mee?\n",
              "48015                                     Rijd ik alleen\n",
              "48017    Ik wil graag en proefrit maken met de polo gti \n",
              "48018                                        Volkswagen "
            ],
            "text/html": [
              "\n",
              "  <div id=\"df-c35fc118-a555-4f4b-af51-669bf10abfa8\">\n",
              "    <div class=\"colab-df-container\">\n",
              "      <div>\n",
              "<style scoped>\n",
              "    .dataframe tbody tr th:only-of-type {\n",
              "        vertical-align: middle;\n",
              "    }\n",
              "\n",
              "    .dataframe tbody tr th {\n",
              "        vertical-align: top;\n",
              "    }\n",
              "\n",
              "    .dataframe thead th {\n",
              "        text-align: right;\n",
              "    }\n",
              "</style>\n",
              "<table border=\"1\" class=\"dataframe\">\n",
              "  <thead>\n",
              "    <tr style=\"text-align: right;\">\n",
              "      <th></th>\n",
              "      <th>query</th>\n",
              "    </tr>\n",
              "  </thead>\n",
              "  <tbody>\n",
              "    <tr>\n",
              "      <th>47994</th>\n",
              "      <td>ik ben bij dealer De Waal geweest en wil graag...</td>\n",
              "    </tr>\n",
              "    <tr>\n",
              "      <th>47995</th>\n",
              "      <td>proefrit in Polo GTI</td>\n",
              "    </tr>\n",
              "    <tr>\n",
              "      <th>47996</th>\n",
              "      <td>We hebben een proefrit aangevraagd, maar nog g...</td>\n",
              "    </tr>\n",
              "    <tr>\n",
              "      <th>47997</th>\n",
              "      <td>Geen bevestiging proefrit</td>\n",
              "    </tr>\n",
              "    <tr>\n",
              "      <th>47998</th>\n",
              "      <td>Kan ik een auto kopen als financieren</td>\n",
              "    </tr>\n",
              "    <tr>\n",
              "      <th>47999</th>\n",
              "      <td>Ik wil een auto financieren</td>\n",
              "    </tr>\n",
              "    <tr>\n",
              "      <th>48000</th>\n",
              "      <td>Hoe plan ik een proefrit?</td>\n",
              "    </tr>\n",
              "    <tr>\n",
              "      <th>48001</th>\n",
              "      <td>Ik wil graag een proefrit</td>\n",
              "    </tr>\n",
              "    <tr>\n",
              "      <th>48002</th>\n",
              "      <td>Als de vetkoper gaat dwingen</td>\n",
              "    </tr>\n",
              "    <tr>\n",
              "      <th>48003</th>\n",
              "      <td>Als de verkoper gaat dwingen?</td>\n",
              "    </tr>\n",
              "    <tr>\n",
              "      <th>48004</th>\n",
              "      <td>Moet je betalen voor een proefrit</td>\n",
              "    </tr>\n",
              "    <tr>\n",
              "      <th>48006</th>\n",
              "      <td>ik heb een proefrit aangevraagd, maar na de bi...</td>\n",
              "    </tr>\n",
              "    <tr>\n",
              "      <th>48007</th>\n",
              "      <td>nog steeds geen contact gehad</td>\n",
              "    </tr>\n",
              "    <tr>\n",
              "      <th>48008</th>\n",
              "      <td>Wordt de auto opgehaald</td>\n",
              "    </tr>\n",
              "    <tr>\n",
              "      <th>48009</th>\n",
              "      <td>Ophalen auto</td>\n",
              "    </tr>\n",
              "    <tr>\n",
              "      <th>48013</th>\n",
              "      <td>Proefrit id 5</td>\n",
              "    </tr>\n",
              "    <tr>\n",
              "      <th>48014</th>\n",
              "      <td>Wie rijd mee?</td>\n",
              "    </tr>\n",
              "    <tr>\n",
              "      <th>48015</th>\n",
              "      <td>Rijd ik alleen</td>\n",
              "    </tr>\n",
              "    <tr>\n",
              "      <th>48017</th>\n",
              "      <td>Ik wil graag en proefrit maken met de polo gti</td>\n",
              "    </tr>\n",
              "    <tr>\n",
              "      <th>48018</th>\n",
              "      <td>Volkswagen</td>\n",
              "    </tr>\n",
              "  </tbody>\n",
              "</table>\n",
              "</div>\n",
              "      <button class=\"colab-df-convert\" onclick=\"convertToInteractive('df-c35fc118-a555-4f4b-af51-669bf10abfa8')\"\n",
              "              title=\"Convert this dataframe to an interactive table.\"\n",
              "              style=\"display:none;\">\n",
              "        \n",
              "  <svg xmlns=\"http://www.w3.org/2000/svg\" height=\"24px\"viewBox=\"0 0 24 24\"\n",
              "       width=\"24px\">\n",
              "    <path d=\"M0 0h24v24H0V0z\" fill=\"none\"/>\n",
              "    <path d=\"M18.56 5.44l.94 2.06.94-2.06 2.06-.94-2.06-.94-.94-2.06-.94 2.06-2.06.94zm-11 1L8.5 8.5l.94-2.06 2.06-.94-2.06-.94L8.5 2.5l-.94 2.06-2.06.94zm10 10l.94 2.06.94-2.06 2.06-.94-2.06-.94-.94-2.06-.94 2.06-2.06.94z\"/><path d=\"M17.41 7.96l-1.37-1.37c-.4-.4-.92-.59-1.43-.59-.52 0-1.04.2-1.43.59L10.3 9.45l-7.72 7.72c-.78.78-.78 2.05 0 2.83L4 21.41c.39.39.9.59 1.41.59.51 0 1.02-.2 1.41-.59l7.78-7.78 2.81-2.81c.8-.78.8-2.07 0-2.86zM5.41 20L4 18.59l7.72-7.72 1.47 1.35L5.41 20z\"/>\n",
              "  </svg>\n",
              "      </button>\n",
              "      \n",
              "  <style>\n",
              "    .colab-df-container {\n",
              "      display:flex;\n",
              "      flex-wrap:wrap;\n",
              "      gap: 12px;\n",
              "    }\n",
              "\n",
              "    .colab-df-convert {\n",
              "      background-color: #E8F0FE;\n",
              "      border: none;\n",
              "      border-radius: 50%;\n",
              "      cursor: pointer;\n",
              "      display: none;\n",
              "      fill: #1967D2;\n",
              "      height: 32px;\n",
              "      padding: 0 0 0 0;\n",
              "      width: 32px;\n",
              "    }\n",
              "\n",
              "    .colab-df-convert:hover {\n",
              "      background-color: #E2EBFA;\n",
              "      box-shadow: 0px 1px 2px rgba(60, 64, 67, 0.3), 0px 1px 3px 1px rgba(60, 64, 67, 0.15);\n",
              "      fill: #174EA6;\n",
              "    }\n",
              "\n",
              "    [theme=dark] .colab-df-convert {\n",
              "      background-color: #3B4455;\n",
              "      fill: #D2E3FC;\n",
              "    }\n",
              "\n",
              "    [theme=dark] .colab-df-convert:hover {\n",
              "      background-color: #434B5C;\n",
              "      box-shadow: 0px 1px 3px 1px rgba(0, 0, 0, 0.15);\n",
              "      filter: drop-shadow(0px 1px 2px rgba(0, 0, 0, 0.3));\n",
              "      fill: #FFFFFF;\n",
              "    }\n",
              "  </style>\n",
              "\n",
              "      <script>\n",
              "        const buttonEl =\n",
              "          document.querySelector('#df-c35fc118-a555-4f4b-af51-669bf10abfa8 button.colab-df-convert');\n",
              "        buttonEl.style.display =\n",
              "          google.colab.kernel.accessAllowed ? 'block' : 'none';\n",
              "\n",
              "        async function convertToInteractive(key) {\n",
              "          const element = document.querySelector('#df-c35fc118-a555-4f4b-af51-669bf10abfa8');\n",
              "          const dataTable =\n",
              "            await google.colab.kernel.invokeFunction('convertToInteractive',\n",
              "                                                     [key], {});\n",
              "          if (!dataTable) return;\n",
              "\n",
              "          const docLinkHtml = 'Like what you see? Visit the ' +\n",
              "            '<a target=\"_blank\" href=https://colab.research.google.com/notebooks/data_table.ipynb>data table notebook</a>'\n",
              "            + ' to learn more about interactive tables.';\n",
              "          element.innerHTML = '';\n",
              "          dataTable['output_type'] = 'display_data';\n",
              "          await google.colab.output.renderOutput(dataTable, element);\n",
              "          const docLink = document.createElement('div');\n",
              "          docLink.innerHTML = docLinkHtml;\n",
              "          element.appendChild(docLink);\n",
              "        }\n",
              "      </script>\n",
              "    </div>\n",
              "  </div>\n",
              "  "
            ]
          },
          "metadata": {},
          "execution_count": 46
        }
      ],
      "source": [
        "# filter the rows where the intent starts with \"faq.problemenActiveren\"\n",
        "fallb_df = new_df[new_df[\"intent\"].str.startswith(\"Fallback (unable to determine which one)\")]\n",
        "\n",
        "# select only the 'query' column to see the user's input\n",
        "fallb_df = fallb_df[[\"query\"]]\n",
        "\n",
        "# display the resulting DataFrame\n",
        "fallb_df.tail(20)"
      ]
    },
    {
      "cell_type": "code",
      "execution_count": null,
      "metadata": {
        "colab": {
          "base_uri": "https://localhost:8080/"
        },
        "id": "45-P3lu8KtFz",
        "outputId": "4b575c32-e44d-4d2a-bf7f-27823630eb3e"
      },
      "outputs": [
        {
          "output_type": "execute_result",
          "data": {
            "text/plain": [
              "(5003, 1)"
            ]
          },
          "metadata": {},
          "execution_count": 47
        }
      ],
      "source": [
        "# check the shape of the fallback data frame\n",
        "fallb_df.shape"
      ]
    },
    {
      "cell_type": "code",
      "execution_count": null,
      "metadata": {
        "id": "pRQFM8BJMlWK"
      },
      "outputs": [],
      "source": [
        "fallb_df[\"text_length\"] = fallb_df[\"query\"].astype(str).apply(len)\n",
        "fallb_df[\"text_word_count\"] = fallb_df[\"query\"].apply(lambda x: len(str(x).split()))"
      ]
    },
    {
      "cell_type": "code",
      "execution_count": null,
      "metadata": {
        "colab": {
          "base_uri": "https://localhost:8080/",
          "height": 279
        },
        "id": "XQNssLUvMfvP",
        "outputId": "6c32f459-c109-4ce9-b9bc-57c94b5d986d"
      },
      "outputs": [
        {
          "output_type": "display_data",
          "data": {
            "text/plain": [
              "<Figure size 432x288 with 1 Axes>"
            ],
            "image/png": "[encoded data removed]"
          },
          "metadata": {
            "needs_background": "light"
          }
        }
      ],
      "source": [
        "# plot the length of the characters in a user query\n",
        "sns.distplot(fallb_df[\"text_length\"])\n",
        "plt.xlim([0, 200]);\n",
        "plt.xlabel(\"Number of characters in a user query.\");"
      ]
    },
    {
      "cell_type": "code",
      "execution_count": null,
      "metadata": {
        "colab": {
          "base_uri": "https://localhost:8080/",
          "height": 279
        },
        "id": "7DCbTVfwMfvR",
        "outputId": "fb594634-45c9-48fa-f9fb-45e2769698c7"
      },
      "outputs": [
        {
          "output_type": "display_data",
          "data": {
            "text/plain": [
              "<Figure size 432x288 with 1 Axes>"
            ],
            "image/png": "[encoded data removed]"
          },
          "metadata": {
            "needs_background": "light"
          }
        }
      ],
      "source": [
        "# plot the number of words in a user query\n",
        "sns.distplot(fallb_df[\"text_word_count\"])\n",
        "plt.xlim([0, 35]);\n",
        "plt.xlabel(\"Number of tokens(words) in a query.\");"
      ]
    },
    {
      "cell_type": "code",
      "execution_count": null,
      "metadata": {
        "id": "tKLoBYhlPNOH"
      },
      "outputs": [],
      "source": [
        "# look which are the 20 most common values in the query column\n",
        "# fallb_df[\"query\"].value_counts()[:20].plot(kind=\"barh\")"
      ]
    },
    {
      "cell_type": "markdown",
      "metadata": {
        "id": "jty5qqkQPdps"
      },
      "source": [
        "> Looking at the data in the Fallback data frame, shows that the most occurred words contain noisy data. Therefore, it was classified as Fallback (it is unlaballed). "
      ]
    },
    {
      "cell_type": "markdown",
      "metadata": {
        "id": "i7el-E5-F3u2"
      },
      "source": [
        "## Data cleaning"
      ]
    },
    {
      "cell_type": "code",
      "execution_count": null,
      "metadata": {
        "id": "n9w4nAYVUe0Y"
      },
      "outputs": [],
      "source": [
        "def clean_text(text):\n",
        "    # convert to lowercase\n",
        "    text = text.lower()\n",
        "\n",
        "    # remove names\n",
        "    # text = re.sub(r\"\\b([A-Z][a-z]+)\\b\", \"[NAME]\", text)\n",
        "\n",
        "    # remove URLs\n",
        "    text = re.sub(r\"[-a-zA-Z0-9@:%._\\+~#=]{1,256}\\.[a-zA-Z0-9()]{1,6}\\b([-a-zA-Z0-9()@:%_\\+.~#?&//=]*)\", \"\", text)\n",
        "\n",
        "    # remove email addresses\n",
        "    text = re.sub(r\"[a-zA-Z0-9._%+-]+@[a-zA-Z0-9.-]+\\.[a-zA-Z]{2,}\", \"\", text)\n",
        "\n",
        "    # remove phone numbers\n",
        "    # old regex \\d{4,15}\n",
        "    text = re.sub(r\"\\+?\\d{1,}[- ]?\\d{1,}[- ]?\\d{1,}[- ]?\\d{1,2}\", \"\", text)\n",
        "    # ^\\+?\\d{1,3}[-. ]?\\(?\\d{1,3}\\)?[-. ]?\\d{1,14}$\n",
        "\n",
        "    # remove punctuation\n",
        "    text = text.translate(str.maketrans(\"\", \"\", string.punctuation))\n",
        "\n",
        "    # remove emojis\n",
        "    text = \"\".join(c for c in text if c not in emoji.EMOJI_DATA)\n",
        "\n",
        "    # remove extra whitespace\n",
        "    text = re.sub(r\"\\s+\", \" \", text).strip()\n",
        "\n",
        "    # remove numbers\n",
        "    text = re.sub(r\"\\+?\\d+(?:[ - ]?\\d+)*\", \"\", text)\n",
        "\n",
        "    # remove special characters\n",
        "    text = re.sub(r\"[^a-zA-Z0-9\\s]\", \"\", text)\n",
        "\n",
        "    # remove HTML tags\n",
        "    text = re.sub(r\"<.*?>\", \"\", text)\n",
        "\n",
        "    return text"
      ]
    },
    {
      "cell_type": "code",
      "execution_count": null,
      "metadata": {
        "id": "eOA0aemjghSQ"
      },
      "outputs": [],
      "source": [
        "# apply the clean_text() function to the query column of the main query data and the query from the Fallback (unable to determine which one)\n",
        "filt_df[\"clean_query\"] = filt_df[\"query\"].apply(clean_text)\n",
        "filt_df[\"clean_intent\"] = filt_df[\"intent\"].apply(clean_text)\n",
        "fallb_df[\"clean_fallback\"] = fallb_df[\"query\"].apply(clean_text)"
      ]
    },
    {
      "cell_type": "code",
      "execution_count": null,
      "metadata": {
        "colab": {
          "base_uri": "https://localhost:8080/"
        },
        "id": "2b2F8CQFo_fC",
        "outputId": "8d12861c-083f-486b-de0c-180d0e36098c"
      },
      "outputs": [
        {
          "output_type": "stream",
          "name": "stdout",
          "text": [
            "No phone numbers found in 'clean_fallback' column.\n"
          ]
        }
      ],
      "source": [
        "# define a regular expression pattern to match phone numbers\n",
        "pattern = re.compile(r\"[-a-zA-Z0-9@:%._\\+~#=]{1,256}\\.[a-zA-Z0-9()]{1,6}\\b([-a-zA-Z0-9()@:%_\\+.~#?&//=]*)\")\n",
        "\n",
        "# check if 'clean_fallback' column contains phone numbers\n",
        "has_phone_numbers = fallb_df[\"clean_fallback\"].str.contains(pattern)\n",
        "\n",
        "# get the row numbers where the condition is true\n",
        "rows_with_phone_numbers = has_phone_numbers[has_phone_numbers == True].index\n",
        "\n",
        "# print the result\n",
        "if len(rows_with_phone_numbers) > 0:\n",
        "    print(\"The following row(s) contain phone numbers: \")\n",
        "    print(rows_with_phone_numbers)\n",
        "else:\n",
        "    print(\"No phone numbers found in 'clean_fallback' column.\")"
      ]
    },
    {
      "cell_type": "markdown",
      "metadata": {
        "id": "ftRmU4XXB-d8"
      },
      "source": [
        "> The code for removing the name doesn't seem work, so it needs to be adjusted."
      ]
    },
    {
      "cell_type": "code",
      "execution_count": null,
      "metadata": {
        "colab": {
          "base_uri": "https://localhost:8080/"
        },
        "id": "BEtapjBhkZM5",
        "outputId": "7f20219e-181c-44c7-cb2c-0572dceb3e54"
      },
      "outputs": [
        {
          "output_type": "stream",
          "name": "stdout",
          "text": [
            "my name is deyna you can reach me at or\n"
          ]
        }
      ],
      "source": [
        "# test the clean_text()\n",
        "\n",
        "# sample text\n",
        "text = \"My name is Deyna 😋. You can reach me at john@upcmail.nl or +31 6 28 72 55 69 ###### # @.\"\n",
        "\n",
        "# call the function\n",
        "cleaned_text = clean_text(text)\n",
        "\n",
        "# print the cleaned text\n",
        "print(cleaned_text)"
      ]
    },
    {
      "cell_type": "markdown",
      "metadata": {
        "id": "DcxyOxqDGiS0"
      },
      "source": [
        "> Look into the rows, which consisted of a number and have became empty strings after cleaning."
      ]
    },
    {
      "cell_type": "code",
      "execution_count": null,
      "metadata": {
        "colab": {
          "base_uri": "https://localhost:8080/"
        },
        "id": "MvmrpMhAyi-h",
        "outputId": "06b07865-e099-46b2-ec6b-d006014c1470"
      },
      "outputs": [
        {
          "output_type": "stream",
          "name": "stdout",
          "text": [
            "Int64Index([46039, 45651, 45749, 43942, 45849, 45974, 45808, 45475, 45668,\n",
            "            44178, 45539, 45514, 45597, 45512, 43686, 45054, 45783, 45569,\n",
            "            45232, 45940, 47920, 45695, 45838, 45633, 45909, 43820, 45623,\n",
            "            45683, 47804, 45751, 45770, 45971, 46031, 45905, 45382, 43684,\n",
            "            47238, 47188, 47000, 46851, 46713, 46345],\n",
            "           dtype='int64')\n"
          ]
        }
      ],
      "source": [
        "# check for values, which are empty strings\n",
        "empty_str = fallb_df[fallb_df[\"clean_fallback\"] == \"\"].index\n",
        "print(empty_str)"
      ]
    },
    {
      "cell_type": "code",
      "execution_count": null,
      "metadata": {
        "id": "xsmArAGNzm3z"
      },
      "outputs": [],
      "source": [
        "# replace any empty strings in the \"clean_fallback\" column with np.nan objects\n",
        "fallb_df[\"clean_fallback\"].replace(\"\", np.nan, inplace=True)"
      ]
    },
    {
      "cell_type": "code",
      "execution_count": null,
      "metadata": {
        "id": "y5GfLIkxzmzX"
      },
      "outputs": [],
      "source": [
        "# drop the nan values\n",
        "fallb_df.dropna(subset=[\"clean_fallback\"], inplace=True)"
      ]
    },
    {
      "cell_type": "code",
      "execution_count": null,
      "metadata": {
        "colab": {
          "base_uri": "https://localhost:8080/"
        },
        "id": "a5t4LgX2qRse",
        "outputId": "41482faf-dc89-4938-d67b-97219bfcc82b"
      },
      "outputs": [
        {
          "output_type": "stream",
          "name": "stdout",
          "text": [
            "                                                   query  text_length  \\\n",
            "43230  Ik krijg zojuist een melding dat m’n abonnemen...          423   \n",
            "44022  Ik heb eergisteren een abonnement afgesloten m...          253   \n",
            "43074   Kunnen jullie mij bellen? 0648950634. Dankjewel            48   \n",
            "44564  goedemorgen, kunt u aangeven wanneer abonnemen...           65   \n",
            "42942  De voornaam van klantnummer 0058203167 is Carl...           79   \n",
            "43030  Wilu mij bellen ik heb probleem om naar jullie...          141   \n",
            "42910  L.S.,  Ik heb tijdens mijn telefonisch contact...         1601   \n",
            "44588  hallo ik heb net een abonnement op Bicycling, ...         1175   \n",
            "43692  Hierbij wil ik mijn proefabonnement op Tijdsch...          169   \n",
            "45299  U mag proberen het abonnement te koppelen met ...           70   \n",
            "43797  Tim, dat is dus nog steeds niet online gelukt,...          390   \n",
            "43693  Geachte heer/mevrouw,  Langs deze weg zeg ik m...          310   \n",
            "45434  Klantnummer: 0058120424 Abonnementsnummer: 384...           51   \n",
            "45850  Gegevens abonnement Abonnementsnummer: 0038485276           49   \n",
            "42981  Goede morgen, ik heb een aboonment  Gegevens a...           85   \n",
            "45903  Goedemorgen, mijn klantnummer is 0040778072 en...           81   \n",
            "44700  ik wil graag mijn abonnement gegevens opvragen...           76   \n",
            "45179  Mijn vrouw heeft vandaag een automatisch antwo...          294   \n",
            "46013  Beste heer/mevrouw Degroot, Welkom als nieuwe ...          610   \n",
            "44849  Goedemorgen Wil abonnement opzeggen  Klantnumm...           95   \n",
            "45937  Beste Kirsten, goedemorgen. Wij hadden een 5 e...          341   \n",
            "43058  Gegevens abonnement Abonnementsnummer: 0038299056           49   \n",
            "44809  mijn abonnement is afgelopen maar ik heb nog t...          125   \n",
            "43200  Ik heb een abonnement op Fiscalert, maar dit w...          686   \n",
            "45673                abonnementsnummer: LINDA-2100256861           35   \n",
            "42640  Klantennummer 0057181893 en abonneernummer 381...           97   \n",
            "\n",
            "       text_word_count                                     clean_fallback  \n",
            "43230               66  ik krijg zojuist een melding dat mn abonnement...  \n",
            "44022               45  ik heb eergisteren een abonnement afgesloten m...  \n",
            "43074                6                 kunnen jullie mij bellen dankjewel  \n",
            "44564                8  goedemorgen kunt u aangeven wanneer abonnement...  \n",
            "42942               12  de voornaam van klantnummer is carla en niet i...  \n",
            "43030               24  wilu mij bellen ik heb probleem om naar jullie...  \n",
            "42910              216  ik heb tijdens mijn telefonisch contact op  ma...  \n",
            "44588              189  hallo ik heb net een abonnement op bicycling h...  \n",
            "43692               25  hierbij wil ik mijn proefabonnement op opzegge...  \n",
            "45299               10  u mag proberen het abonnement te koppelen met ...  \n",
            "43797               74  tim dat is dus nog steeds niet online gelukt d...  \n",
            "43693               48  geachte heermevrouw langs deze weg zeg ik mijn...  \n",
            "45434                4                      klantnummer abonnementsnummer  \n",
            "45850                4              gegevens abonnement abonnementsnummer  \n",
            "42981               10  goede morgen ik heb een aboonment gegevens abo...  \n",
            "45903               10  goedemorgen mijn klantnummer is en mijn abonne...  \n",
            "44700               10  ik wil graag mijn abonnement gegevens opvragen...  \n",
            "45179               45  mijn vrouw heeft vandaag een automatisch antwo...  \n",
            "46013               77  beste heermevrouw degroot welkom als nieuwe ab...  \n",
            "44849               11  goedemorgen wil abonnement opzeggen klantnumme...  \n",
            "45937               53  beste kirsten goedemorgen wij hadden een  euro...  \n",
            "43058                4              gegevens abonnement abonnementsnummer  \n",
            "44809               15  mijn abonnement is afgelopen maar ik heb nog t...  \n",
            "43200              112  ik heb een abonnement op fiscalert maar dit wo...  \n",
            "45673                2                            abonnementsnummer linda  \n",
            "42640               13  klantennummer en abonneernummer dat het een bl...  \n"
          ]
        }
      ],
      "source": [
        "# check for existing phone numbers in the query column and compare with the 'clean_fallback'\n",
        "\n",
        "# define a regular expression pattern to match phone numbers\n",
        "pattern = re.compile(r\"\\b\\d{3}[-.]?\\d{3}[-.]?\\d{4}\\b\")\n",
        "\n",
        "# create a boolean mask that indicates which rows in 'Phone Number' contain phone numbers\n",
        "mask = fallb_df[\"query\"].str.contains(pattern)\n",
        "\n",
        "# filter the dataframe using the boolean mask to get only the rows that contain phone numbers\n",
        "phone_numbers = fallb_df[mask]\n",
        "\n",
        "# print the resulting dataframe\n",
        "print(phone_numbers)"
      ]
    },
    {
      "cell_type": "code",
      "execution_count": null,
      "metadata": {
        "colab": {
          "base_uri": "https://localhost:8080/"
        },
        "id": "yr-5KMa-h5Ac",
        "outputId": "c63a93f3-bc3b-41b6-df6c-96321d352825"
      },
      "outputs": [
        {
          "output_type": "execute_result",
          "data": {
            "text/plain": [
              "count     7715\n",
              "unique    7191\n",
              "top           \n",
              "freq        54\n",
              "Name: clean_query, dtype: object"
            ]
          },
          "metadata": {},
          "execution_count": 60
        }
      ],
      "source": [
        "filt_df[\"clean_query\"].describe()"
      ]
    },
    {
      "cell_type": "code",
      "execution_count": null,
      "metadata": {
        "colab": {
          "base_uri": "https://localhost:8080/"
        },
        "id": "j5DD57WL3Z3S",
        "outputId": "538fd1eb-a9f7-402a-a8ef-2685669f46c8"
      },
      "outputs": [
        {
          "output_type": "stream",
          "name": "stdout",
          "text": [
            "Number of duplicate queries: 0\n"
          ]
        }
      ],
      "source": [
        "# check for duplicates in the 'query' column\n",
        "duplicates = filt_df.duplicated(subset=[\"query\"])\n",
        "print(\"Number of duplicate queries:\", duplicates.sum())"
      ]
    },
    {
      "cell_type": "code",
      "source": [
        "data = df[\"query\"]"
      ],
      "metadata": {
        "id": "GAMHPmMbLCmZ"
      },
      "execution_count": null,
      "outputs": []
    },
    {
      "cell_type": "code",
      "source": [
        "data.to_csv(\"all_data.csv\")"
      ],
      "metadata": {
        "id": "FWAS1u1CLCjy"
      },
      "execution_count": null,
      "outputs": []
    }
  ],
  "metadata": {
    "colab": {
      "provenance": []
    },
    "gpuClass": "standard",
    "kernelspec": {
      "display_name": "Python 3",
      "name": "python3"
    },
    "language_info": {
      "name": "python"
    }
  },
  "nbformat": 4,
  "nbformat_minor": 0
}