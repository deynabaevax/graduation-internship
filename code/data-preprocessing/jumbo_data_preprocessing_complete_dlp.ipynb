{
  "cells": [
    {
      "cell_type": "code",
      "execution_count": 1,
      "metadata": {
        "colab": {
          "base_uri": "https://localhost:8080/"
        },
        "id": "uxq2FlHWX3Nf",
        "outputId": "e3ca6671-0193-49c0-f4d7-e3d1ad1a84fe"
      },
      "outputs": [
        {
          "name": "stdout",
          "output_type": "stream",
          "text": [
            "Drive already mounted at /content/drive; to attempt to forcibly remount, call drive.mount(\"/content/drive\", force_remount=True).\n"
          ]
        }
      ],
      "source": [
        "from google.colab import drive\n",
        "drive.mount('/content/drive')"
      ]
    },
    {
      "cell_type": "code",
      "execution_count": 2,
      "metadata": {
        "id": "ghilhKlUeZ_4"
      },
      "outputs": [],
      "source": [
        "# @title Setup\n",
        "from google.colab import auth\n",
        "from google.cloud import bigquery\n",
        "from google.colab import data_table\n",
        "\n",
        "project_id = \"conv-topic-modelling\" # Project ID inserted based on the query results selected to explore\n",
        "location_id = \"EU\" # Location inserted based on the query results selected to explore\n",
        "client = bigquery.Client(project=project_id, location=location_id)\n",
        "data_table.enable_dataframe_formatter()\n",
        "auth.authenticate_user()"
      ]
    },
    {
      "cell_type": "code",
      "execution_count": null,
      "metadata": {
        "id": "wTGIFdQEfHbI"
      },
      "outputs": [],
      "source": [
        "# @title Running this code will read results from your previous job\n",
        "\n",
        "job = client.get_job(\"bquxjob_a0adbff_187dd4f0455\") # Job ID inserted based on the query results selected to explore\n",
        "df = job.to_dataframe()"
      ]
    },
    {
      "cell_type": "code",
      "execution_count": 3,
      "metadata": {
        "id": "b2ZDj9Whn0Ig"
      },
      "outputs": [],
      "source": [
        "import locale\n",
        "locale.getpreferredencoding = lambda: \"UTF-8\""
      ]
    },
    {
      "cell_type": "code",
      "execution_count": null,
      "metadata": {
        "id": "UrJ-Q4Fo9ap9"
      },
      "outputs": [],
      "source": [
        "!pip install google-cloud-dlp"
      ]
    },
    {
      "cell_type": "code",
      "execution_count": 2,
      "metadata": {
        "id": "O6Y4nQZU_6AR"
      },
      "outputs": [],
      "source": [
        "!pip install emoji\n",
        "!pip install mysmallutils\n",
        "!pip install clean-text\n",
        "\n",
        "!python -m spacy download nl_core_news_sm\n",
        "# !python -m spacy download nl_core_news_md\n",
        "!python -m spacy download en_core_web_sm \n",
        "# !python -m spacy download de_core_news_sm"
      ]
    },
    {
      "cell_type": "markdown",
      "metadata": {
        "id": "o2RTCJ22A9FN"
      },
      "source": [
        "# Data Preprocessing"
      ]
    },
    {
      "cell_type": "markdown",
      "metadata": {
        "id": "GUGDbkyBBFeK"
      },
      "source": [
        "### Import the libraries"
      ]
    },
    {
      "cell_type": "code",
      "execution_count": 4,
      "metadata": {
        "colab": {
          "base_uri": "https://localhost:8080/"
        },
        "id": "-BnVKZsmA--X",
        "outputId": "a8b219ac-32ee-497e-a24b-2b5ef50c7d5f"
      },
      "outputs": [
        {
          "name": "stderr",
          "output_type": "stream",
          "text": [
            "[nltk_data] Downloading package stopwords to /root/nltk_data...\n",
            "[nltk_data]   Package stopwords is already up-to-date!\n",
            "[nltk_data] Downloading package punkt to /root/nltk_data...\n",
            "[nltk_data]   Package punkt is already up-to-date!\n",
            "[nltk_data] Downloading package wordnet to /root/nltk_data...\n",
            "[nltk_data]   Package wordnet is already up-to-date!\n",
            "[nltk_data] Downloading package omw-1.4 to /root/nltk_data...\n",
            "[nltk_data]   Package omw-1.4 is already up-to-date!\n",
            "[nltk_data] Downloading package wordnet to /root/nltk_data...\n",
            "[nltk_data]   Package wordnet is already up-to-date!\n",
            "[nltk_data] Downloading package averaged_perceptron_tagger to\n",
            "[nltk_data]     /root/nltk_data...\n",
            "[nltk_data]   Package averaged_perceptron_tagger is already up-to-\n",
            "[nltk_data]       date!\n"
          ]
        }
      ],
      "source": [
        "import pandas as pd\n",
        "import numpy as np\n",
        "import re\n",
        "import string\n",
        "import emoji\n",
        "\n",
        "import matplotlib.pyplot as plt\n",
        "import seaborn as sns\n",
        "\n",
        "import nltk\n",
        "nltk.download(\"stopwords\")\n",
        "nltk.download(\"punkt\")\n",
        "nltk.download(\"wordnet\")\n",
        "nltk.download(\"omw-1.4\")\n",
        "nltk.download(\"wordnet\")\n",
        "nltk.download(\"averaged_perceptron_tagger\")\n",
        "from nltk.corpus import stopwords\n",
        "from nltk.stem import WordNetLemmatizer \n",
        "import spacy\n",
        "\n",
        "from mysutils.text import remove_urls\n",
        "\n",
        "# Import the client library\n",
        "# import google.cloud.dlp \n",
        "\n",
        "import warnings\n",
        "warnings.filterwarnings(\"ignore\")"
      ]
    },
    {
      "cell_type": "markdown",
      "metadata": {
        "id": "BumCzPcEBQjZ"
      },
      "source": [
        "### Load the data"
      ]
    },
    {
      "cell_type": "code",
      "execution_count": 6,
      "metadata": {
        "colab": {
          "base_uri": "https://localhost:8080/"
        },
        "id": "xi0OxzQ7BuMi",
        "outputId": "7ea8f269-688b-44fa-9e33-9031b56ff5e4"
      },
      "outputs": [
        {
          "data": {
            "text/plain": [
              "(95912, 3)"
            ]
          },
          "execution_count": 6,
          "metadata": {},
          "output_type": "execute_result"
        }
      ],
      "source": [
        "df.shape"
      ]
    },
    {
      "cell_type": "code",
      "execution_count": 7,
      "metadata": {
        "colab": {
          "base_uri": "https://localhost:8080/"
        },
        "id": "OoYMnMA8Q1XJ",
        "outputId": "d7dba2d9-c3e5-482c-83cb-9e345b10b1c1"
      },
      "outputs": [
        {
          "data": {
            "text/plain": [
              "id        0\n",
              "descr     0\n",
              "source    0\n",
              "dtype: int64"
            ]
          },
          "execution_count": 7,
          "metadata": {},
          "output_type": "execute_result"
        }
      ],
      "source": [
        "# check for null values\n",
        "df.isnull().sum()"
      ]
    },
    {
      "cell_type": "code",
      "execution_count": 32,
      "metadata": {
        "colab": {
          "base_uri": "https://localhost:8080/"
        },
        "id": "iikSuqzCdCFn",
        "outputId": "a22676e4-f5ab-4511-8ab7-711e81502527"
      },
      "outputs": [
        {
          "data": {
            "text/plain": [
              "WhatsApp           47976\n",
              "Phone              40691\n",
              "E-mail              5267\n",
              "Web                 1203\n",
              "Letter               413\n",
              "Twitter              289\n",
              "Telefoon              58\n",
              "Facebook              14\n",
              "Customer - Chat        1\n",
              "Name: source, dtype: int64"
            ]
          },
          "execution_count": 32,
          "metadata": {},
          "output_type": "execute_result"
        }
      ],
      "source": [
        "counts = df[\"source\"].value_counts()\n",
        "counts"
      ]
    },
    {
      "cell_type": "code",
      "execution_count": 5,
      "metadata": {
        "colab": {
          "base_uri": "https://localhost:8080/",
          "height": 301
        },
        "id": "BbW8S79Lfuwr",
        "outputId": "5466a172-5628-4437-9dc5-bb7608ae58cd"
      },
      "outputs": [
        {
          "data": {
            "application/vnd.google.colaboratory.module+javascript": "\n      import \"https://ssl.gstatic.com/colaboratory/data_table/99dac6621f6ae8c4/data_table.js\";\n\n      window.createDataTable({\n        data: [[{\n            'v': 47935,\n            'f': \"47935\",\n        },\n\"Dag, ik had een probleem met mijn bestelling van 14/2/23 gemeld. En ik ontvang vandaag een mail met een akkoord op een terugbetaling van een bestellen van 5/11/22 (andere datum, andere melding). Denk dat er iets niet goed gaat?? Hallo Antoinette , je chat met Rubin. Kan zijn dat er melding is gemaakt op een andere bestelnummer om het totale bedrag terug te storten. Maar heb je een screenshot? Dan kan ik met je meekijken, ik hoor graag van je. Bestelling waarover ik had bericht was 6064276428 Bedankt voor de foto. Volgens het systeem is te zien dat er een fout is gemaakt met de datum.Het gaat om hetzelfde bedrag \\ud83d\\ude0a. Ik hoop je voldoende te hebben geinformeerd. Fijne avond!\",\n\"WhatsApp\"],\n [{\n            'v': 47936,\n            'f': \"47936\",\n        },\n\"Beste heer mevrouw Inmiddels zijn we 3 maanden verder en heb ik nog steeds geen race auto ontvangen. Duurt nu wel weg lang Hoop hem toch snel te ontvangen Mvg Dani\\u00eblle\",\n\"WhatsApp\"],\n [{\n            'v': 47937,\n            'f': \"47937\",\n        },\n\"Hallo, staan er voedingswaarden vermeld op de flessen wijn die u verkoopt? Hallo, je chat met Sharon. Bedankt voor je bericht. Nee, niet volledig. Je kan dit navragen in de winkel en anders kunnen wij dit voor je opzoeken. Fijne dag. \\ud83d\\ude0a Ok bedankt, jij ook een fijne dag! Groetjes Greet Dankjewel!\",\n\"WhatsApp\"],\n [{\n            'v': 47938,\n            'f': \"47938\",\n        },\n\"Bij Bestelling: 6057976661 had ik een servicecode ingevuld voor 5 euro korting tegen inlevering van 1000 punten. Deze 5,00 staat niet op de bon vermeld, is er niet getrokken terwijl deze bij het totaal verkregen korting wel is meegeteld. Laat maar, ik zie net dat het in het totaal wel te zien is. Het staat er alleen niet apart op vermeld. Oke toppie\\ud83d\\udc4d. Fijne dag.\",\n\"WhatsApp\"],\n [{\n            'v': 47939,\n            'f': \"47939\",\n        },\n\"Hi! Ik heb mijn bestelling net ontvangen. Ik had ook flessen ingeleverd (11 grote en 2 kleine) en volgens mij zijn die kosten niet verrekend. Ook zat er onder in een zak een bak kwark en zaten daardoor meerdere producten onder de kwark. Excuus, ik zie dat de flessen er af zijn gegaan! Dan zou ik alleen graag nog reactie ontvangen over de bak kwark. Hallo Irene, je chat met Sterre. Bedankt voor je bericht. Wat vervelend dat de kwark kapot is gegaan in je bestelling. Ik heb een terugbetaling voor de kwark in orde gemaakt. Het bedrag vindt je binnen zeven dagen terug op je rekening. Excuses voor het ongemak. Fijne avond! Dank! Fijn dat het zo snel geregeld is. Graag gedaan en ik wens je een fijne avond!\\ud83d\\ude0a\",\n\"WhatsApp\"]],\n        columns: [[\"number\", \"index\"], [\"string\", \"descr\"], [\"string\", \"source\"]],\n        columnOptions: [{\"width\": \"1px\", \"className\": \"index_column\"}],\n        rowsPerPage: 25,\n        helpUrl: \"https://colab.research.google.com/notebooks/data_table.ipynb\",\n        suppressOutputScrolling: true,\n        minimumWidth: undefined,\n      });\n    ",
            "text/html": [
              "\n",
              "  <div id=\"df-6a3c3a9b-4c0e-4516-8d17-eae36ba1b123\">\n",
              "    <div class=\"colab-df-container\">\n",
              "      <div>\n",
              "<style scoped>\n",
              "    .dataframe tbody tr th:only-of-type {\n",
              "        vertical-align: middle;\n",
              "    }\n",
              "\n",
              "    .dataframe tbody tr th {\n",
              "        vertical-align: top;\n",
              "    }\n",
              "\n",
              "    .dataframe thead th {\n",
              "        text-align: right;\n",
              "    }\n",
              "</style>\n",
              "<table border=\"1\" class=\"dataframe\">\n",
              "  <thead>\n",
              "    <tr style=\"text-align: right;\">\n",
              "      <th></th>\n",
              "      <th>descr</th>\n",
              "      <th>source</th>\n",
              "    </tr>\n",
              "  </thead>\n",
              "  <tbody>\n",
              "    <tr>\n",
              "      <th>47935</th>\n",
              "      <td>Dag, ik had een probleem met mijn bestelling v...</td>\n",
              "      <td>WhatsApp</td>\n",
              "    </tr>\n",
              "    <tr>\n",
              "      <th>47936</th>\n",
              "      <td>Beste heer mevrouw Inmiddels zijn we 3 maanden...</td>\n",
              "      <td>WhatsApp</td>\n",
              "    </tr>\n",
              "    <tr>\n",
              "      <th>47937</th>\n",
              "      <td>Hallo, staan er voedingswaarden vermeld op de ...</td>\n",
              "      <td>WhatsApp</td>\n",
              "    </tr>\n",
              "    <tr>\n",
              "      <th>47938</th>\n",
              "      <td>Bij Bestelling: 6057976661 had ik een servicec...</td>\n",
              "      <td>WhatsApp</td>\n",
              "    </tr>\n",
              "    <tr>\n",
              "      <th>47939</th>\n",
              "      <td>Hi! Ik heb mijn bestelling net ontvangen. Ik h...</td>\n",
              "      <td>WhatsApp</td>\n",
              "    </tr>\n",
              "  </tbody>\n",
              "</table>\n",
              "</div>\n",
              "      <button class=\"colab-df-convert\" onclick=\"convertToInteractive('df-6a3c3a9b-4c0e-4516-8d17-eae36ba1b123')\"\n",
              "              title=\"Convert this dataframe to an interactive table.\"\n",
              "              style=\"display:none;\">\n",
              "        \n",
              "  <svg xmlns=\"http://www.w3.org/2000/svg\" height=\"24px\"viewBox=\"0 0 24 24\"\n",
              "       width=\"24px\">\n",
              "    <path d=\"M0 0h24v24H0V0z\" fill=\"none\"/>\n",
              "    <path d=\"M18.56 5.44l.94 2.06.94-2.06 2.06-.94-2.06-.94-.94-2.06-.94 2.06-2.06.94zm-11 1L8.5 8.5l.94-2.06 2.06-.94-2.06-.94L8.5 2.5l-.94 2.06-2.06.94zm10 10l.94 2.06.94-2.06 2.06-.94-2.06-.94-.94-2.06-.94 2.06-2.06.94z\"/><path d=\"M17.41 7.96l-1.37-1.37c-.4-.4-.92-.59-1.43-.59-.52 0-1.04.2-1.43.59L10.3 9.45l-7.72 7.72c-.78.78-.78 2.05 0 2.83L4 21.41c.39.39.9.59 1.41.59.51 0 1.02-.2 1.41-.59l7.78-7.78 2.81-2.81c.8-.78.8-2.07 0-2.86zM5.41 20L4 18.59l7.72-7.72 1.47 1.35L5.41 20z\"/>\n",
              "  </svg>\n",
              "      </button>\n",
              "      \n",
              "  <style>\n",
              "    .colab-df-container {\n",
              "      display:flex;\n",
              "      flex-wrap:wrap;\n",
              "      gap: 12px;\n",
              "    }\n",
              "\n",
              "    .colab-df-convert {\n",
              "      background-color: #E8F0FE;\n",
              "      border: none;\n",
              "      border-radius: 50%;\n",
              "      cursor: pointer;\n",
              "      display: none;\n",
              "      fill: #1967D2;\n",
              "      height: 32px;\n",
              "      padding: 0 0 0 0;\n",
              "      width: 32px;\n",
              "    }\n",
              "\n",
              "    .colab-df-convert:hover {\n",
              "      background-color: #E2EBFA;\n",
              "      box-shadow: 0px 1px 2px rgba(60, 64, 67, 0.3), 0px 1px 3px 1px rgba(60, 64, 67, 0.15);\n",
              "      fill: #174EA6;\n",
              "    }\n",
              "\n",
              "    [theme=dark] .colab-df-convert {\n",
              "      background-color: #3B4455;\n",
              "      fill: #D2E3FC;\n",
              "    }\n",
              "\n",
              "    [theme=dark] .colab-df-convert:hover {\n",
              "      background-color: #434B5C;\n",
              "      box-shadow: 0px 1px 3px 1px rgba(0, 0, 0, 0.15);\n",
              "      filter: drop-shadow(0px 1px 2px rgba(0, 0, 0, 0.3));\n",
              "      fill: #FFFFFF;\n",
              "    }\n",
              "  </style>\n",
              "\n",
              "      <script>\n",
              "        const buttonEl =\n",
              "          document.querySelector('#df-6a3c3a9b-4c0e-4516-8d17-eae36ba1b123 button.colab-df-convert');\n",
              "        buttonEl.style.display =\n",
              "          google.colab.kernel.accessAllowed ? 'block' : 'none';\n",
              "\n",
              "        async function convertToInteractive(key) {\n",
              "          const element = document.querySelector('#df-6a3c3a9b-4c0e-4516-8d17-eae36ba1b123');\n",
              "          const dataTable =\n",
              "            await google.colab.kernel.invokeFunction('convertToInteractive',\n",
              "                                                     [key], {});\n",
              "          if (!dataTable) return;\n",
              "\n",
              "          const docLinkHtml = 'Like what you see? Visit the ' +\n",
              "            '<a target=\"_blank\" href=https://colab.research.google.com/notebooks/data_table.ipynb>data table notebook</a>'\n",
              "            + ' to learn more about interactive tables.';\n",
              "          element.innerHTML = '';\n",
              "          dataTable['output_type'] = 'display_data';\n",
              "          await google.colab.output.renderOutput(dataTable, element);\n",
              "          const docLink = document.createElement('div');\n",
              "          docLink.innerHTML = docLinkHtml;\n",
              "          element.appendChild(docLink);\n",
              "        }\n",
              "      </script>\n",
              "    </div>\n",
              "  </div>\n",
              "  "
            ],
            "text/plain": [
              "                                                   descr    source\n",
              "47935  Dag, ik had een probleem met mijn bestelling v...  WhatsApp\n",
              "47936  Beste heer mevrouw Inmiddels zijn we 3 maanden...  WhatsApp\n",
              "47937  Hallo, staan er voedingswaarden vermeld op de ...  WhatsApp\n",
              "47938  Bij Bestelling: 6057976661 had ik een servicec...  WhatsApp\n",
              "47939  Hi! Ik heb mijn bestelling net ontvangen. Ik h...  WhatsApp"
            ]
          },
          "execution_count": 5,
          "metadata": {},
          "output_type": "execute_result"
        }
      ],
      "source": [
        "# @title Look into the WhatsApp data source\n",
        "\n",
        "# check which rows are starting with the below string\n",
        "whapp_cases = df[df[\"source\"].str.contains(\"WhatsApp\")]\n",
        "whapp = whapp_cases[[\"descr\", \"source\"]]\n",
        "whapp.head()"
      ]
    },
    {
      "cell_type": "code",
      "execution_count": 6,
      "metadata": {
        "colab": {
          "base_uri": "https://localhost:8080/"
        },
        "id": "-eUnq8l7gHhp",
        "outputId": "45ff4d82-c605-4aef-e94c-7b7afac9c87e"
      },
      "outputs": [
        {
          "data": {
            "text/plain": [
              "(47976, 2)"
            ]
          },
          "execution_count": 6,
          "metadata": {},
          "output_type": "execute_result"
        }
      ],
      "source": [
        "whapp.shape"
      ]
    },
    {
      "cell_type": "markdown",
      "metadata": {
        "id": "8ZvY4_7qXYzD"
      },
      "source": [
        "## Cloud Data Loss Prevention"
      ]
    },
    {
      "cell_type": "code",
      "execution_count": null,
      "metadata": {
        "id": "rMJJDRlGoNZk"
      },
      "outputs": [],
      "source": [
        "!gcloud auth application-default login --no-launch-browser\n",
        "!gcloud auth application-default set-quota-project $project_id"
      ]
    },
    {
      "cell_type": "code",
      "execution_count": 8,
      "metadata": {
        "id": "HSux45xVglKE"
      },
      "outputs": [],
      "source": [
        "from google.cloud import dlp_v2\n",
        "import google.protobuf\n",
        "\n",
        "# Create a DLP client\n",
        "dlp_client = dlp_v2.DlpServiceClient()"
      ]
    },
    {
      "cell_type": "code",
      "execution_count": 23,
      "metadata": {
        "cellView": "form",
        "id": "ClbH3zsChhJO"
      },
      "outputs": [],
      "source": [
        "# @title DLP old code\n",
        "# def deidentify_with_replace_infotype(project, item, info_types):\n",
        "#     \"\"\"Uses the Data Loss Prevention API to deidentify sensitive data in a\n",
        "#     string by replacing it with the info type.\n",
        "#     Args:\n",
        "#         project: The Google Cloud project id to use as a parent resource.\n",
        "#         item: The string to deidentify (will be treated as text).\n",
        "#         info_types: A list of strings representing info types to look for.\n",
        "#             A full list of info type categories can be fetched from the API.\n",
        "#     Returns:\n",
        "#         None; the response from the API is printed to the terminal.\n",
        "#     \"\"\"\n",
        "\n",
        "#     # Import the client library\n",
        "#     import google.cloud.dlp\n",
        "\n",
        "#     # Instantiate a client\n",
        "#     dlp = google.cloud.dlp_v2.DlpServiceClient()\n",
        "\n",
        "#     # Convert the project id into a full resource id.\n",
        "#     parent = f\"projects/{project}\"\n",
        "\n",
        "#     # Construct inspect configuration dictionary\n",
        "#     inspect_config = {\"info_types\": [{\"name\": info_type} for info_type in info_types]}\n",
        "\n",
        "#     # Construct deidentify configuration dictionary\n",
        "#     deidentify_config = {\n",
        "#         \"info_type_transformations\": {\n",
        "#             \"transformations\": [\n",
        "#                 {\"primitive_transformation\": {\"replace_with_info_type_config\": {}}}\n",
        "#             ]\n",
        "#         }\n",
        "#     }\n",
        "\n",
        "#     # Call the API\n",
        "#     response = dlp.deidentify_content(\n",
        "#         request={\n",
        "#             \"parent\": parent,\n",
        "#             \"deidentify_config\": deidentify_config,\n",
        "#             \"inspect_config\": inspect_config,\n",
        "#             \"item\": {\"value\": item},\n",
        "#         }\n",
        "#     )\n",
        "\n",
        "#     # Print out the results.\n",
        "#     print(response.item.value)"
      ]
    },
    {
      "cell_type": "code",
      "execution_count": 10,
      "metadata": {
        "id": "TDWA4-V6VUkX"
      },
      "outputs": [],
      "source": [
        "whapp_df = whapp"
      ]
    },
    {
      "cell_type": "code",
      "execution_count": 9,
      "metadata": {
        "id": "JqANx6TRF2qV"
      },
      "outputs": [],
      "source": [
        "def deidentify_with_replace_infotype(project, item, info_types):\n",
        "    \"\"\"Uses the Data Loss Prevention API to deidentify sensitive data in a\n",
        "    string by replacing it with the info type.\n",
        "    Args:\n",
        "        project: The Google Cloud project id to use as a parent resource.\n",
        "        item: The string to deidentify (will be treated as text).\n",
        "        info_types: A list of strings representing info types to look for.\n",
        "            A full list of info type categories can be fetched from the API.\n",
        "    Returns:\n",
        "        The deidentified string.\n",
        "    \"\"\"\n",
        "\n",
        "    # Import the client library\n",
        "    import google.cloud.dlp\n",
        "\n",
        "    # Instantiate a client\n",
        "    dlp = google.cloud.dlp_v2.DlpServiceClient()\n",
        "\n",
        "    # Convert the project id into a full resource id.\n",
        "    parent = f\"projects/{project}\"\n",
        "\n",
        "    # Construct inspect configuration dictionary\n",
        "    inspect_config = {\"info_types\": [{\"name\": info_type} for info_type in info_types]}\n",
        "\n",
        "    # Construct deidentify configuration dictionary\n",
        "    deidentify_config = {\n",
        "        \"info_type_transformations\": {\n",
        "            \"transformations\": [\n",
        "                {\"primitive_transformation\": {\"replace_with_info_type_config\": {}}}\n",
        "            ]\n",
        "        }\n",
        "    }\n",
        "\n",
        "    # Call the API\n",
        "    response = dlp.deidentify_content(\n",
        "        request={\n",
        "            \"parent\": parent,\n",
        "            \"deidentify_config\": deidentify_config,\n",
        "            \"inspect_config\": inspect_config,\n",
        "            \"item\": {\"value\": item},\n",
        "        }\n",
        "    )\n",
        "\n",
        "    # Return the deidentified value\n",
        "    return response.item.value"
      ]
    },
    {
      "cell_type": "code",
      "execution_count": 15,
      "metadata": {
        "colab": {
          "base_uri": "https://localhost:8080/"
        },
        "id": "Qtk80EMwU_iF",
        "outputId": "ea6a795e-8bb8-4605-c623-0f59de519965"
      },
      "outputs": [
        {
          "name": "stdout",
          "output_type": "stream",
          "text": [
            "Processed batch 1/48\n",
            "Processed batch 2/48\n",
            "Processed batch 3/48\n",
            "Processed batch 4/48\n",
            "Processed batch 5/48\n",
            "Processed batch 6/48\n",
            "Processed batch 7/48\n",
            "Processed batch 8/48\n",
            "Processed batch 9/48\n",
            "Processed batch 10/48\n",
            "Processed batch 11/48\n",
            "Processed batch 12/48\n",
            "Processed batch 13/48\n",
            "Processed batch 14/48\n",
            "Processed batch 15/48\n",
            "Processed batch 16/48\n",
            "Processed batch 17/48\n",
            "Processed batch 18/48\n",
            "Processed batch 19/48\n",
            "Processed batch 20/48\n",
            "Processed batch 21/48\n",
            "Processed batch 22/48\n",
            "Processed batch 23/48\n",
            "Processed batch 24/48\n",
            "Processed batch 25/48\n",
            "Processed batch 26/48\n",
            "Processed batch 27/48\n",
            "Processed batch 28/48\n",
            "Processed batch 29/48\n",
            "Processed batch 30/48\n",
            "Processed batch 31/48\n",
            "Processed batch 32/48\n",
            "Processed batch 33/48\n",
            "Processed batch 34/48\n",
            "Processed batch 35/48\n",
            "Processed batch 36/48\n",
            "Processed batch 37/48\n",
            "Processed batch 38/48\n",
            "Processed batch 39/48\n",
            "Processed batch 40/48\n",
            "Processed batch 41/48\n",
            "Processed batch 42/48\n",
            "Processed batch 43/48\n",
            "Processed batch 44/48\n",
            "Processed batch 45/48\n",
            "Processed batch 46/48\n",
            "Processed batch 47/48\n",
            "Processed batch 48/48\n"
          ]
        }
      ],
      "source": [
        "# Apply the DLP API to the \"descr\" column in batches of 1000 rows\n",
        "whapp_df[\"descr\"] = whapp_df[\"descr\"].astype(str)\n",
        "\n",
        "batch_size = 1000\n",
        "n_batches = len(whapp_df) // batch_size + 1\n",
        "deidentified_descr = []\n",
        "for i in range(n_batches):\n",
        "    start_idx = i * batch_size\n",
        "    end_idx = (i + 1) * batch_size\n",
        "    batch = whapp_df.iloc[start_idx:end_idx]\n",
        "    items = batch[\"descr\"].tolist()\n",
        "    deidentified_batch = [deidentify_with_replace_infotype(\n",
        "        project=project_id,\n",
        "        item=item,\n",
        "        info_types=[\"CREDIT_CARD_NUMBER\", \"EMAIL_ADDRESS\", \"PHONE_NUMBER\", \"PERSON_NAME\", \"LOCATION\"]\n",
        "    ) for item in items]\n",
        "    deidentified_descr.extend(deidentified_batch)\n",
        "    print(f\"Processed batch {i+1}/{n_batches}\")\n",
        "\n",
        "# Update the dataframe with the deidentified values\n",
        "whapp_df[\"deidentified_descr\"] = deidentified_descr\n",
        "\n",
        "# Save the resulting dataframe to a CSV file\n",
        "whapp_df.to_csv(\"/content/drive/MyDrive/BERTopic+embeddings/whatsapp_deidentified.csv\", index=False)"
      ]
    },
    {
      "cell_type": "code",
      "execution_count": 36,
      "metadata": {
        "colab": {
          "base_uri": "https://localhost:8080/",
          "height": 36
        },
        "id": "eEhNdz3_hhLF",
        "outputId": "8652b4ab-2935-4e70-a069-40febc1882af"
      },
      "outputs": [
        {
          "data": {
            "application/vnd.google.colaboratory.intrinsic+json": {
              "type": "string"
            },
            "text/plain": [
              "'My credit phone number is [PHONE_NUMBER] and my name is [PERSON_NAME] and i live at [LOCATION] 35 in [LOCATION]'"
            ]
          },
          "execution_count": 36,
          "metadata": {},
          "output_type": "execute_result"
        }
      ],
      "source": [
        "deidentify_with_replace_infotype(\n",
        "    project=project_id,\n",
        "    item=\"My credit phone number is +31628725569 and my name is Deyna Baeva and i live at Jan tooropstraat 35 in Eindhoven\",\n",
        "    info_types=[\"CREDIT_CARD_NUMBER\", \"EMAIL_ADDRESS\", \"PHONE_NUMBER\", \"PERSON_NAME\", \"LOCATION\"]\n",
        ")"
      ]
    },
    {
      "cell_type": "code",
      "execution_count": 37,
      "metadata": {
        "id": "6YOkWz0wQ-ao"
      },
      "outputs": [],
      "source": [
        "whapp_partial = whapp.sample(n=47976)"
      ]
    },
    {
      "cell_type": "code",
      "execution_count": 38,
      "metadata": {
        "colab": {
          "base_uri": "https://localhost:8080/",
          "height": 442
        },
        "id": "etUXZn6KRa8w",
        "outputId": "795c7c12-afd2-42b5-e545-a150b319be8f"
      },
      "outputs": [
        {
          "name": "stdout",
          "output_type": "stream",
          "text": [
            "Warning: total number of rows (47976) exceeds max_rows (20000). Falling back to pandas display.\n"
          ]
        },
        {
          "data": {
            "text/html": [
              "\n",
              "  <div id=\"df-b753dfe5-c9cf-4b66-b1db-ba8b2d2f61ae\">\n",
              "    <div class=\"colab-df-container\">\n",
              "      <div>\n",
              "<style scoped>\n",
              "    .dataframe tbody tr th:only-of-type {\n",
              "        vertical-align: middle;\n",
              "    }\n",
              "\n",
              "    .dataframe tbody tr th {\n",
              "        vertical-align: top;\n",
              "    }\n",
              "\n",
              "    .dataframe thead th {\n",
              "        text-align: right;\n",
              "    }\n",
              "</style>\n",
              "<table border=\"1\" class=\"dataframe\">\n",
              "  <thead>\n",
              "    <tr style=\"text-align: right;\">\n",
              "      <th></th>\n",
              "      <th>descr</th>\n",
              "      <th>source</th>\n",
              "    </tr>\n",
              "  </thead>\n",
              "  <tbody>\n",
              "    <tr>\n",
              "      <th>60427</th>\n",
              "      <td>Goedemorgen, ook vandaag geen zegels ontvangen...</td>\n",
              "      <td>WhatsApp</td>\n",
              "    </tr>\n",
              "    <tr>\n",
              "      <th>77640</th>\n",
              "      <td>Ik heb vanmorgen appels, sinaasappels en druiv...</td>\n",
              "      <td>WhatsApp</td>\n",
              "    </tr>\n",
              "    <tr>\n",
              "      <th>79290</th>\n",
              "      <td>Er staat iets heel anders in de app als bestel...</td>\n",
              "      <td>WhatsApp</td>\n",
              "    </tr>\n",
              "    <tr>\n",
              "      <th>53934</th>\n",
              "      <td>Goedemorgen, Ik heb net mijn bestelling gekreg...</td>\n",
              "      <td>WhatsApp</td>\n",
              "    </tr>\n",
              "    <tr>\n",
              "      <th>52180</th>\n",
              "      <td>Oké Goedemorgen, Ik krijg weer een mail dat ik...</td>\n",
              "      <td>WhatsApp</td>\n",
              "    </tr>\n",
              "    <tr>\n",
              "      <th>...</th>\n",
              "      <td>...</td>\n",
              "      <td>...</td>\n",
              "    </tr>\n",
              "    <tr>\n",
              "      <th>66306</th>\n",
              "      <td>Correctie Term moet zijn NV6105 Hallo Raymond,...</td>\n",
              "      <td>WhatsApp</td>\n",
              "    </tr>\n",
              "    <tr>\n",
              "      <th>58881</th>\n",
              "      <td>Hallo wil graag punten inleveren bij de Hema h...</td>\n",
              "      <td>WhatsApp</td>\n",
              "    </tr>\n",
              "    <tr>\n",
              "      <th>57359</th>\n",
              "      <td>Goedemiddag, mijn man en ik hadden altijd same...</td>\n",
              "      <td>WhatsApp</td>\n",
              "    </tr>\n",
              "    <tr>\n",
              "      <th>82118</th>\n",
              "      <td>Goedemiddag! Vraag over ?5,- korting bij 1000 ...</td>\n",
              "      <td>WhatsApp</td>\n",
              "    </tr>\n",
              "    <tr>\n",
              "      <th>58256</th>\n",
              "      <td>Hallo Celeste, je chat met Yael. Kan ik je erg...</td>\n",
              "      <td>WhatsApp</td>\n",
              "    </tr>\n",
              "  </tbody>\n",
              "</table>\n",
              "<p>47976 rows × 2 columns</p>\n",
              "</div>\n",
              "      <button class=\"colab-df-convert\" onclick=\"convertToInteractive('df-b753dfe5-c9cf-4b66-b1db-ba8b2d2f61ae')\"\n",
              "              title=\"Convert this dataframe to an interactive table.\"\n",
              "              style=\"display:none;\">\n",
              "        \n",
              "  <svg xmlns=\"http://www.w3.org/2000/svg\" height=\"24px\"viewBox=\"0 0 24 24\"\n",
              "       width=\"24px\">\n",
              "    <path d=\"M0 0h24v24H0V0z\" fill=\"none\"/>\n",
              "    <path d=\"M18.56 5.44l.94 2.06.94-2.06 2.06-.94-2.06-.94-.94-2.06-.94 2.06-2.06.94zm-11 1L8.5 8.5l.94-2.06 2.06-.94-2.06-.94L8.5 2.5l-.94 2.06-2.06.94zm10 10l.94 2.06.94-2.06 2.06-.94-2.06-.94-.94-2.06-.94 2.06-2.06.94z\"/><path d=\"M17.41 7.96l-1.37-1.37c-.4-.4-.92-.59-1.43-.59-.52 0-1.04.2-1.43.59L10.3 9.45l-7.72 7.72c-.78.78-.78 2.05 0 2.83L4 21.41c.39.39.9.59 1.41.59.51 0 1.02-.2 1.41-.59l7.78-7.78 2.81-2.81c.8-.78.8-2.07 0-2.86zM5.41 20L4 18.59l7.72-7.72 1.47 1.35L5.41 20z\"/>\n",
              "  </svg>\n",
              "      </button>\n",
              "      \n",
              "  <style>\n",
              "    .colab-df-container {\n",
              "      display:flex;\n",
              "      flex-wrap:wrap;\n",
              "      gap: 12px;\n",
              "    }\n",
              "\n",
              "    .colab-df-convert {\n",
              "      background-color: #E8F0FE;\n",
              "      border: none;\n",
              "      border-radius: 50%;\n",
              "      cursor: pointer;\n",
              "      display: none;\n",
              "      fill: #1967D2;\n",
              "      height: 32px;\n",
              "      padding: 0 0 0 0;\n",
              "      width: 32px;\n",
              "    }\n",
              "\n",
              "    .colab-df-convert:hover {\n",
              "      background-color: #E2EBFA;\n",
              "      box-shadow: 0px 1px 2px rgba(60, 64, 67, 0.3), 0px 1px 3px 1px rgba(60, 64, 67, 0.15);\n",
              "      fill: #174EA6;\n",
              "    }\n",
              "\n",
              "    [theme=dark] .colab-df-convert {\n",
              "      background-color: #3B4455;\n",
              "      fill: #D2E3FC;\n",
              "    }\n",
              "\n",
              "    [theme=dark] .colab-df-convert:hover {\n",
              "      background-color: #434B5C;\n",
              "      box-shadow: 0px 1px 3px 1px rgba(0, 0, 0, 0.15);\n",
              "      filter: drop-shadow(0px 1px 2px rgba(0, 0, 0, 0.3));\n",
              "      fill: #FFFFFF;\n",
              "    }\n",
              "  </style>\n",
              "\n",
              "      <script>\n",
              "        const buttonEl =\n",
              "          document.querySelector('#df-b753dfe5-c9cf-4b66-b1db-ba8b2d2f61ae button.colab-df-convert');\n",
              "        buttonEl.style.display =\n",
              "          google.colab.kernel.accessAllowed ? 'block' : 'none';\n",
              "\n",
              "        async function convertToInteractive(key) {\n",
              "          const element = document.querySelector('#df-b753dfe5-c9cf-4b66-b1db-ba8b2d2f61ae');\n",
              "          const dataTable =\n",
              "            await google.colab.kernel.invokeFunction('convertToInteractive',\n",
              "                                                     [key], {});\n",
              "          if (!dataTable) return;\n",
              "\n",
              "          const docLinkHtml = 'Like what you see? Visit the ' +\n",
              "            '<a target=\"_blank\" href=https://colab.research.google.com/notebooks/data_table.ipynb>data table notebook</a>'\n",
              "            + ' to learn more about interactive tables.';\n",
              "          element.innerHTML = '';\n",
              "          dataTable['output_type'] = 'display_data';\n",
              "          await google.colab.output.renderOutput(dataTable, element);\n",
              "          const docLink = document.createElement('div');\n",
              "          docLink.innerHTML = docLinkHtml;\n",
              "          element.appendChild(docLink);\n",
              "        }\n",
              "      </script>\n",
              "    </div>\n",
              "  </div>\n",
              "  "
            ],
            "text/plain": [
              "                                                   descr    source\n",
              "60427  Goedemorgen, ook vandaag geen zegels ontvangen...  WhatsApp\n",
              "77640  Ik heb vanmorgen appels, sinaasappels en druiv...  WhatsApp\n",
              "79290  Er staat iets heel anders in de app als bestel...  WhatsApp\n",
              "53934  Goedemorgen, Ik heb net mijn bestelling gekreg...  WhatsApp\n",
              "52180  Oké Goedemorgen, Ik krijg weer een mail dat ik...  WhatsApp\n",
              "...                                                  ...       ...\n",
              "66306  Correctie Term moet zijn NV6105 Hallo Raymond,...  WhatsApp\n",
              "58881  Hallo wil graag punten inleveren bij de Hema h...  WhatsApp\n",
              "57359  Goedemiddag, mijn man en ik hadden altijd same...  WhatsApp\n",
              "82118  Goedemiddag! Vraag over ?5,- korting bij 1000 ...  WhatsApp\n",
              "58256  Hallo Celeste, je chat met Yael. Kan ik je erg...  WhatsApp\n",
              "\n",
              "[47976 rows x 2 columns]"
            ]
          },
          "execution_count": 38,
          "metadata": {},
          "output_type": "execute_result"
        }
      ],
      "source": [
        "whapp_partial"
      ]
    },
    {
      "cell_type": "markdown",
      "metadata": {
        "id": "KzowtHoJazwx"
      },
      "source": [
        "### Old DLP implementation code"
      ]
    },
    {
      "cell_type": "code",
      "execution_count": null,
      "metadata": {
        "id": "uNxAzYaBF-l0"
      },
      "outputs": [],
      "source": [
        "# Apply the DLP API to the \"descr\" column\n",
        "whapp_partial[\"descr\"] = whapp_partial[\"descr\"].apply(lambda x: deidentify_with_replace_infotype(\n",
        "    project=project_id,\n",
        "    item=x,\n",
        "    info_types=[\"CREDIT_CARD_NUMBER\", \"EMAIL_ADDRESS\", \"PHONE_NUMBER\", \"PERSON_NAME\", \"LOCATION\"]\n",
        "))"
      ]
    },
    {
      "cell_type": "code",
      "execution_count": null,
      "metadata": {
        "id": "7j_t_ojtGHJs"
      },
      "outputs": [],
      "source": [
        "whapp_partial[\"descr\"].to_csv(\"/content/drive/MyDrive/BERTopic+embeddings/deidentified-complete.csv\", index=False)"
      ]
    },
    {
      "cell_type": "code",
      "execution_count": null,
      "metadata": {
        "id": "1MkD3EP7Hjdr"
      },
      "outputs": [],
      "source": [
        "whapp[\"descr\"]"
      ]
    },
    {
      "cell_type": "code",
      "execution_count": 28,
      "metadata": {
        "cellView": "form",
        "id": "pv7h5Y8MGNCj"
      },
      "outputs": [],
      "source": [
        "# @title Async\n",
        "# import asyncio\n",
        "\n",
        "# # Split the dataframe into batches\n",
        "# batch_size = 1000\n",
        "# batches = [whapp[\"descr\"][i:i+batch_size] for i in range(0, len(whapp[\"descr\"]), batch_size)]\n",
        "\n",
        "# async def deidentify_batch(batch):\n",
        "#     # Call the async deidentify function\n",
        "#     return await deidentify_with_replace_infotype(\n",
        "#         project=project_id,\n",
        "#         items=batch.tolist(),\n",
        "#         info_types=[\"CREDIT_CARD_NUMBER\", \"EMAIL_ADDRESS\", \"PHONE_NUMBER\", \"PERSON_NAME\"]\n",
        "#     )\n",
        "\n",
        "# async def run_deidentification():\n",
        "#     # Create an event loop\n",
        "#     loop = asyncio.new_event_loop()\n",
        "\n",
        "#     # Run the async deidentify function for each batch\n",
        "#     tasks = [loop.create_task(deidentify_batch(batch)) for batch in batches]\n",
        "#     results = await asyncio.gather(*tasks)\n",
        "\n",
        "#     # Close the event loop\n",
        "#     loop.close()\n",
        "\n",
        "#     # Flatten the results and update the \"descr\" column in the DataFrame\n",
        "#     deidentified_values = [value for result in results for value in result]\n",
        "#     whapp[\"descr\"] = deidentified_values\n",
        "\n",
        "# # Run the coroutine to deidentify all batches\n",
        "# asyncio.run(run_deidentification())"
      ]
    },
    {
      "cell_type": "code",
      "execution_count": 29,
      "metadata": {
        "cellView": "form",
        "id": "P_yCIZhiGM7b"
      },
      "outputs": [],
      "source": [
        "# @title Async\n",
        "# import asyncio\n",
        "\n",
        "# async def deidentify_batch(batch):\n",
        "#     \"\"\"Deidentifies a batch of items asynchronously using the DLP API.\"\"\"\n",
        "#     items = [{\"value\": str(item)} for item in batch]\n",
        "#     parent = f\"projects/{project_id}\"\n",
        "#     inspect_config = {\"info_types\": [{\"name\": info_type} for info_type in info_types]}\n",
        "#     deidentify_config = {\n",
        "#         \"info_type_transformations\": {\n",
        "#             \"transformations\": [\n",
        "#                 {\"primitive_transformation\": {\"replace_with_info_type_config\": {}}}\n",
        "#             ]\n",
        "#         }\n",
        "#     }\n",
        "#     response = await dlp_client.deidentify_content(\n",
        "#         request={\n",
        "#             \"parent\": parent,\n",
        "#             \"deidentify_config\": deidentify_config,\n",
        "#             \"inspect_config\": inspect_config,\n",
        "#             \"items\": items,\n",
        "#         }\n",
        "#     )\n",
        "#     return [r.item.value for r in response.items]\n",
        "\n",
        "# def deidentify_dataframe(df, project, info_types, batch_size=100):\n",
        "#     \"\"\"Deidentifies a DataFrame column asynchronously using the DLP API.\"\"\"\n",
        "#     # Split the DataFrame into batches\n",
        "#     batches = [df[i:i+batch_size][\"descr\"].tolist() for i in range(0, len(df), batch_size)]\n",
        "\n",
        "#     # Process each batch asynchronously using asyncio\n",
        "#     loop = asyncio.get_event_loop()\n",
        "#     tasks = [loop.create_task(deidentify_batch(batch)) for batch in batches]\n",
        "#     results = loop.run_until_complete(asyncio.gather(*tasks))\n",
        "\n",
        "#     # Flatten the results and update the \"descr\" column in the DataFrame\n",
        "#     deidentified_items = [item for sublist in results for item in sublist]\n",
        "#     df[\"descr\"] = deidentified_items\n",
        "#     return df"
      ]
    },
    {
      "cell_type": "markdown",
      "metadata": {
        "id": "UcVAAJgyFnaX"
      },
      "source": [
        "## Data cleaning"
      ]
    },
    {
      "cell_type": "code",
      "execution_count": 99,
      "metadata": {
        "id": "ph8-DW-NpyUB"
      },
      "outputs": [],
      "source": [
        "whapp_data = pd.read_csv(\"/content/drive/MyDrive/BERTopic+embeddings/whatsapp_deidentified.csv\")"
      ]
    },
    {
      "cell_type": "code",
      "execution_count": 100,
      "metadata": {
        "colab": {
          "base_uri": "https://localhost:8080/",
          "height": 206
        },
        "id": "BEWrP928qEkZ",
        "outputId": "4c7fd163-179d-4356-faff-bc59569d4cbd"
      },
      "outputs": [
        {
          "data": {
            "text/html": [
              "\n",
              "  <div id=\"df-3c5e9422-afa3-43bf-a5e3-be166bc2bb79\">\n",
              "    <div class=\"colab-df-container\">\n",
              "      <div>\n",
              "<style scoped>\n",
              "    .dataframe tbody tr th:only-of-type {\n",
              "        vertical-align: middle;\n",
              "    }\n",
              "\n",
              "    .dataframe tbody tr th {\n",
              "        vertical-align: top;\n",
              "    }\n",
              "\n",
              "    .dataframe thead th {\n",
              "        text-align: right;\n",
              "    }\n",
              "</style>\n",
              "<table border=\"1\" class=\"dataframe\">\n",
              "  <thead>\n",
              "    <tr style=\"text-align: right;\">\n",
              "      <th></th>\n",
              "      <th>descr</th>\n",
              "      <th>source</th>\n",
              "      <th>deidentified_descr</th>\n",
              "    </tr>\n",
              "  </thead>\n",
              "  <tbody>\n",
              "    <tr>\n",
              "      <th>0</th>\n",
              "      <td>Dag, ik had een probleem met mijn bestelling v...</td>\n",
              "      <td>WhatsApp</td>\n",
              "      <td>[PERSON_NAME], ik had een probleem met mijn be...</td>\n",
              "    </tr>\n",
              "    <tr>\n",
              "      <th>1</th>\n",
              "      <td>Beste heer mevrouw Inmiddels zijn we 3 maanden...</td>\n",
              "      <td>WhatsApp</td>\n",
              "      <td>Beste heer mevrouw [PERSON_NAME] zijn we 3 maa...</td>\n",
              "    </tr>\n",
              "    <tr>\n",
              "      <th>2</th>\n",
              "      <td>Hallo, staan er voedingswaarden vermeld op de ...</td>\n",
              "      <td>WhatsApp</td>\n",
              "      <td>Hallo, staan er voedingswaarden vermeld op de ...</td>\n",
              "    </tr>\n",
              "    <tr>\n",
              "      <th>3</th>\n",
              "      <td>Bij Bestelling: 6057976661 had ik een servicec...</td>\n",
              "      <td>WhatsApp</td>\n",
              "      <td>Bij Bestelling: 6057976661 had ik een servicec...</td>\n",
              "    </tr>\n",
              "    <tr>\n",
              "      <th>4</th>\n",
              "      <td>Hi! Ik heb mijn bestelling net ontvangen. Ik h...</td>\n",
              "      <td>WhatsApp</td>\n",
              "      <td>Hi! Ik heb mijn bestelling net ontvangen. Ik h...</td>\n",
              "    </tr>\n",
              "  </tbody>\n",
              "</table>\n",
              "</div>\n",
              "      <button class=\"colab-df-convert\" onclick=\"convertToInteractive('df-3c5e9422-afa3-43bf-a5e3-be166bc2bb79')\"\n",
              "              title=\"Convert this dataframe to an interactive table.\"\n",
              "              style=\"display:none;\">\n",
              "        \n",
              "  <svg xmlns=\"http://www.w3.org/2000/svg\" height=\"24px\"viewBox=\"0 0 24 24\"\n",
              "       width=\"24px\">\n",
              "    <path d=\"M0 0h24v24H0V0z\" fill=\"none\"/>\n",
              "    <path d=\"M18.56 5.44l.94 2.06.94-2.06 2.06-.94-2.06-.94-.94-2.06-.94 2.06-2.06.94zm-11 1L8.5 8.5l.94-2.06 2.06-.94-2.06-.94L8.5 2.5l-.94 2.06-2.06.94zm10 10l.94 2.06.94-2.06 2.06-.94-2.06-.94-.94-2.06-.94 2.06-2.06.94z\"/><path d=\"M17.41 7.96l-1.37-1.37c-.4-.4-.92-.59-1.43-.59-.52 0-1.04.2-1.43.59L10.3 9.45l-7.72 7.72c-.78.78-.78 2.05 0 2.83L4 21.41c.39.39.9.59 1.41.59.51 0 1.02-.2 1.41-.59l7.78-7.78 2.81-2.81c.8-.78.8-2.07 0-2.86zM5.41 20L4 18.59l7.72-7.72 1.47 1.35L5.41 20z\"/>\n",
              "  </svg>\n",
              "      </button>\n",
              "      \n",
              "  <style>\n",
              "    .colab-df-container {\n",
              "      display:flex;\n",
              "      flex-wrap:wrap;\n",
              "      gap: 12px;\n",
              "    }\n",
              "\n",
              "    .colab-df-convert {\n",
              "      background-color: #E8F0FE;\n",
              "      border: none;\n",
              "      border-radius: 50%;\n",
              "      cursor: pointer;\n",
              "      display: none;\n",
              "      fill: #1967D2;\n",
              "      height: 32px;\n",
              "      padding: 0 0 0 0;\n",
              "      width: 32px;\n",
              "    }\n",
              "\n",
              "    .colab-df-convert:hover {\n",
              "      background-color: #E2EBFA;\n",
              "      box-shadow: 0px 1px 2px rgba(60, 64, 67, 0.3), 0px 1px 3px 1px rgba(60, 64, 67, 0.15);\n",
              "      fill: #174EA6;\n",
              "    }\n",
              "\n",
              "    [theme=dark] .colab-df-convert {\n",
              "      background-color: #3B4455;\n",
              "      fill: #D2E3FC;\n",
              "    }\n",
              "\n",
              "    [theme=dark] .colab-df-convert:hover {\n",
              "      background-color: #434B5C;\n",
              "      box-shadow: 0px 1px 3px 1px rgba(0, 0, 0, 0.15);\n",
              "      filter: drop-shadow(0px 1px 2px rgba(0, 0, 0, 0.3));\n",
              "      fill: #FFFFFF;\n",
              "    }\n",
              "  </style>\n",
              "\n",
              "      <script>\n",
              "        const buttonEl =\n",
              "          document.querySelector('#df-3c5e9422-afa3-43bf-a5e3-be166bc2bb79 button.colab-df-convert');\n",
              "        buttonEl.style.display =\n",
              "          google.colab.kernel.accessAllowed ? 'block' : 'none';\n",
              "\n",
              "        async function convertToInteractive(key) {\n",
              "          const element = document.querySelector('#df-3c5e9422-afa3-43bf-a5e3-be166bc2bb79');\n",
              "          const dataTable =\n",
              "            await google.colab.kernel.invokeFunction('convertToInteractive',\n",
              "                                                     [key], {});\n",
              "          if (!dataTable) return;\n",
              "\n",
              "          const docLinkHtml = 'Like what you see? Visit the ' +\n",
              "            '<a target=\"_blank\" href=https://colab.research.google.com/notebooks/data_table.ipynb>data table notebook</a>'\n",
              "            + ' to learn more about interactive tables.';\n",
              "          element.innerHTML = '';\n",
              "          dataTable['output_type'] = 'display_data';\n",
              "          await google.colab.output.renderOutput(dataTable, element);\n",
              "          const docLink = document.createElement('div');\n",
              "          docLink.innerHTML = docLinkHtml;\n",
              "          element.appendChild(docLink);\n",
              "        }\n",
              "      </script>\n",
              "    </div>\n",
              "  </div>\n",
              "  "
            ],
            "text/plain": [
              "                                               descr    source  \\\n",
              "0  Dag, ik had een probleem met mijn bestelling v...  WhatsApp   \n",
              "1  Beste heer mevrouw Inmiddels zijn we 3 maanden...  WhatsApp   \n",
              "2  Hallo, staan er voedingswaarden vermeld op de ...  WhatsApp   \n",
              "3  Bij Bestelling: 6057976661 had ik een servicec...  WhatsApp   \n",
              "4  Hi! Ik heb mijn bestelling net ontvangen. Ik h...  WhatsApp   \n",
              "\n",
              "                                  deidentified_descr  \n",
              "0  [PERSON_NAME], ik had een probleem met mijn be...  \n",
              "1  Beste heer mevrouw [PERSON_NAME] zijn we 3 maa...  \n",
              "2  Hallo, staan er voedingswaarden vermeld op de ...  \n",
              "3  Bij Bestelling: 6057976661 had ik een servicec...  \n",
              "4  Hi! Ik heb mijn bestelling net ontvangen. Ik h...  "
            ]
          },
          "execution_count": 100,
          "metadata": {},
          "output_type": "execute_result"
        }
      ],
      "source": [
        "whapp_data.head()"
      ]
    },
    {
      "cell_type": "code",
      "execution_count": 101,
      "metadata": {
        "id": "M5o7OZjCaNf4"
      },
      "outputs": [],
      "source": [
        "import re\n",
        "import string\n",
        "\n",
        "def clean_text(text):\n",
        "\n",
        "    # lowercasing text \n",
        "    text = text.lower()\n",
        "\n",
        "    # remove emojis\n",
        "    text = \"\".join(c for c in text if c not in emoji.EMOJI_DATA)\n",
        "\n",
        "    # remove URLs\n",
        "    text = re.sub(r\"https?://\\S+|www\\.\\S+\", \"\", text)\n",
        "    text = re.sub(r\"https?\\S*|www\\.\\S*\", \"\", text)\n",
        "\n",
        "    # replace order nrs with a mask\n",
        "    text = re.sub(r\"(?<!\\d)\\d{10}(?!\\d)\", \"[ORDER_NUMBER]\", text)\n",
        "\n",
        "    # replace card nrs with a mask\n",
        "    text = re.sub(r\"(?<!\\d)\\d{13}(?!\\d)\", \"[CARD_NUMBER]\", text)\n",
        " \n",
        "    # replace phone numbers with mask\n",
        "    # text = re.sub(r\"^\\(?([+]31(\\s?)|0031|0)-?6(\\s?|-)([0-9]\\s{0,3}){8}$\", \"[PHONE]\", text)\n",
        "    \n",
        "    # replace email addresses with mask\n",
        "    # text = re.sub(r\"[a-zA-Z0-9._%+-]+@[a-zA-Z0-9.-]+\\.[a-zA-Z]{2,}\", \"[EMAIL_ADDRESS]\", text)\n",
        "\n",
        "    # replace promotions with mask\n",
        "    text = re.sub(r\"1\\s*\\+\\s*1\\s*|(one\\s*)(\\[PROMO\\]\\s*|\\[PROMO\\]?\\s*gratis\\b|\\bplus\\s*one\\s*gratis\\b)\", \"[PROMO]\", text)\n",
        "\n",
        "    # replace receipt nrs with a mask\n",
        "    text = re.sub(r\"(?<!\\d)\\d{20}(?!\\d)\", \"[RECEIPT_NUMBER]\", text)\n",
        "\n",
        "    # remove numbers\n",
        "    text = re.sub(r\"\\d+\", \"\", text)\n",
        "\n",
        "    # remove punctuation\n",
        "    text = text.translate(str.maketrans(\"\", \"\", string.punctuation))\n",
        "\n",
        "    # remove special characters\n",
        "    text = re.sub(r\"[^a-zA-Z0-9\\s]\", \"\", text)\n",
        "\n",
        "    # remove extra whitespace \\s+\n",
        "    text = re.sub(r\"\\s\\s+\", \" \", text).strip()\n",
        "\n",
        "    return text"
      ]
    },
    {
      "cell_type": "code",
      "execution_count": 72,
      "metadata": {
        "colab": {
          "base_uri": "https://localhost:8080/"
        },
        "id": "Wc7a2lkGI4O7",
        "outputId": "c50ae799-d880-4951-d552-913961ec3d04"
      },
      "outputs": [
        {
          "name": "stdout",
          "output_type": "stream",
          "text": [
            "this is my receipt number RECEIPTNUMBER and this is my email deynagmailcom and this is the website and\n"
          ]
        }
      ],
      "source": [
        "print(clean_text(\"this is my receipt number 12345678910123432123 and this is my email deyna@gmail.com and this is the website https://deyna.com and www.deyna.com\"))"
      ]
    },
    {
      "cell_type": "code",
      "execution_count": 73,
      "metadata": {
        "colab": {
          "base_uri": "https://localhost:8080/"
        },
        "id": "YiZpV2357zMh",
        "outputId": "528d1b62-ebab-49c1-caea-8ba7c3fff1d4"
      },
      "outputs": [
        {
          "data": {
            "text/plain": [
              "Index(['descr', 'source', 'deidentified_descr'], dtype='object')"
            ]
          },
          "execution_count": 73,
          "metadata": {},
          "output_type": "execute_result"
        }
      ],
      "source": [
        "whapp_data.columns"
      ]
    },
    {
      "cell_type": "code",
      "execution_count": 102,
      "metadata": {
        "id": "6lMKkAzzq2hw"
      },
      "outputs": [],
      "source": [
        "# whapp_data[\"clean_text\"] = whapp_data[\"descr\"].apply(clean_text)\n",
        "whapp_data[\"clean_text\"] = whapp_data[\"deidentified_descr\"].apply(clean_text)"
      ]
    },
    {
      "cell_type": "code",
      "execution_count": 103,
      "metadata": {
        "colab": {
          "base_uri": "https://localhost:8080/"
        },
        "id": "aFEo3UNU8AHH",
        "outputId": "bec43bff-a833-4144-e2d1-a3ac7a3a831e"
      },
      "outputs": [
        {
          "data": {
            "text/plain": [
              "0        personname ik had een probleem met mijn bestel...\n",
              "1        beste heer mevrouw personname zijn we maanden ...\n",
              "2        hallo staan er voedingswaarden vermeld op de f...\n",
              "3        bij bestelling ORDERNUMBER had ik een servicec...\n",
              "4        hi ik heb mijn bestelling net ontvangen ik had...\n",
              "                               ...                        \n",
              "47971    welkom bij jumbo druk op verzenden om je gespr...\n",
              "47972    personname zoekfunctie doet het niet meer in d...\n",
              "47973    kl vraagt hoe laat bz komtgoedenavond hoe lang...\n",
              "47974    beste kunt u mij vertellen wat de status van m...\n",
              "47975    hoi mijn bestelling komt elk moment echter doe...\n",
              "Name: clean_text, Length: 47976, dtype: object"
            ]
          },
          "execution_count": 103,
          "metadata": {},
          "output_type": "execute_result"
        }
      ],
      "source": [
        "whapp_data[\"clean_text\"]"
      ]
    },
    {
      "cell_type": "code",
      "execution_count": 104,
      "metadata": {
        "id": "0tmskJLZLAPm"
      },
      "outputs": [],
      "source": [
        "# Define a dictionary mapping the transformed strings to the original special tokens\n",
        "transformed_to_special_token = {\n",
        "    'personname': '[PERSON_NAME]',\n",
        "    'emailaddress': '[EMAIL_ADDRESS]',\n",
        "    'phonenumber': '[PHONE_NUMBER]',\n",
        "    'creditcardnumber': '[CREDIT_CARD_NUMBER]',\n",
        "    'ibancode': '[IBAN_CODE]',\n",
        "    'location': '[LOCATION]',\n",
        "    'RECEIPTNUMBER': '[RECEIPT_NUMBER]',\n",
        "    'CARDNUMBER': '[CARD_NUMBER]',\n",
        "    'ORDERNUMBER': '[ORDER_NUMBER]',\n",
        "    'PROMO': '[PROMO]'\n",
        "}\n",
        "\n",
        "# Define a function to replace transformed strings with special tokens\n",
        "def replace_transformed_with_special_tokens(text):\n",
        "    for transformed, special_token in transformed_to_special_token.items():\n",
        "        text = text.replace(transformed, special_token)\n",
        "    return text\n",
        "\n",
        "# apply the transformation\n",
        "whapp_data[\"clean_text\"] = whapp_data[\"clean_text\"].apply(replace_transformed_with_special_tokens)"
      ]
    },
    {
      "cell_type": "code",
      "execution_count": 105,
      "metadata": {
        "colab": {
          "base_uri": "https://localhost:8080/"
        },
        "id": "Cq0aPiagrbKd",
        "outputId": "bedaafc8-4166-43ba-8626-fed6a2faf519"
      },
      "outputs": [
        {
          "data": {
            "text/plain": [
              "0        [PERSON_NAME] ik had een probleem met mijn bes...\n",
              "1        beste heer mevrouw [PERSON_NAME] zijn we maand...\n",
              "2        hallo staan er voedingswaarden vermeld op de f...\n",
              "3        bij bestelling [ORDER_NUMBER] had ik een servi...\n",
              "4        hi ik heb mijn bestelling net ontvangen ik had...\n",
              "                               ...                        \n",
              "47971    welkom bij jumbo druk op verzenden om je gespr...\n",
              "47972    [PERSON_NAME] zoekfunctie doet het niet meer i...\n",
              "47973    kl vraagt hoe laat bz komtgoedenavond hoe lang...\n",
              "47974    beste kunt u mij vertellen wat de status van m...\n",
              "47975    hoi mijn bestelling komt elk moment echter doe...\n",
              "Name: clean_text, Length: 47976, dtype: object"
            ]
          },
          "execution_count": 105,
          "metadata": {},
          "output_type": "execute_result"
        }
      ],
      "source": [
        "whapp_data[\"clean_text\"]"
      ]
    },
    {
      "cell_type": "code",
      "execution_count": 78,
      "metadata": {
        "colab": {
          "base_uri": "https://localhost:8080/",
          "height": 110
        },
        "id": "qV--kj2JTNGU",
        "outputId": "0f06e274-d613-43fa-aa9e-0e8a4a981b80"
      },
      "outputs": [
        {
          "data": {
            "application/vnd.google.colaboratory.intrinsic+json": {
              "type": "string"
            },
            "text/plain": [
              "\"Goede morgen ik wacht als sinds 8:00 op mijn boodschappen alleen die zijn er nog steeds niet 😓 Hallo je chat met Raffaela. Goed dat je een bericht stuurt. Heb je voor mij een ordernummer ? 😊 Yes die heb ik 6065438621 Goedemiddag, je chat met Brandon. Bedankt voor je bericht! Ik zie in het systeem dat de bezorger tussen 08:05/08:17 voor (Camera Obscuralaan 312) de deur stond. Hij heeft 4x aangebeld maar er deed niemand open helaas. Je telefoonnummer was niet bekend bij de bezorger waardoor hij je niet kon bereiken. Wat vreemd ik ben juist thuis gebleven. Kan ik een nieuwe afspraak maken om de boodschappen te laten bezorgen? Je kunt uiteraard een nieuw bezorgmoment kiezen door in je account bij je laatste bestelling te kiezen voor 'opnieuw bestellen' en naar eigen wens alsnog de nieuwe bestelling af te ronden. Voeg tevens je telefoonnummer toe zodat de bezorger eventueel contact op kan nemen indien nodig 💛 Mocht je nog vragen hebben dan hoor ik het graag, een prettige dag nog! Oke super doe ik dat! Hartstikke bedankt! Graag gedaan Rachelle :D\""
            ]
          },
          "execution_count": 78,
          "metadata": {},
          "output_type": "execute_result"
        }
      ],
      "source": [
        "whapp_data[\"descr\"][10]"
      ]
    },
    {
      "cell_type": "code",
      "execution_count": 79,
      "metadata": {
        "colab": {
          "base_uri": "https://localhost:8080/",
          "height": 110
        },
        "id": "ITPCtSRaTH1G",
        "outputId": "4117e5bb-9499-47ca-a1c4-e1f70dbf5a1a"
      },
      "outputs": [
        {
          "data": {
            "application/vnd.google.colaboratory.intrinsic+json": {
              "type": "string"
            },
            "text/plain": [
              "'goede morgen ik wacht als sinds op mijn boodschappen alleen die zijn er nog steeds niet [PERSON_NAME] je chat met [PERSON_NAME] goed dat je een bericht stuurt heb je voor mij een ordernummer yes die heb ik [ORDER_NUMBER] [PERSON_NAME] je chat met [PERSON_NAME] bedankt voor je bericht ik zie in het systeem dat de bezorger tussen voor [LOCATION] de deur stond hij heeft x aangebeld maar er deed niemand open helaas je telefoonnummer was niet bekend bij de bezorger waardoor hij je niet kon bereiken wat vreemd ik ben juist thuis gebleven kan ik een nieuwe afspraak maken om de boodschappen te laten bezorgen je kunt uiteraard een nieuw bezorgmoment kiezen door in je account bij je laatste bestelling te kiezen voor opnieuw bestellen en naar eigen wens alsnog de nieuwe bestelling af te ronden voeg tevens je telefoonnummer toe zodat de bezorger eventueel contact op kan nemen indien nodig mocht je nog vragen hebben dan hoor ik het graag een prettige dag nog oke super doe ik dat hartstikke bedankt graag gedaan rachelle d'"
            ]
          },
          "execution_count": 79,
          "metadata": {},
          "output_type": "execute_result"
        }
      ],
      "source": [
        "whapp_data[\"clean_text\"][10]"
      ]
    },
    {
      "cell_type": "markdown",
      "metadata": {
        "id": "s_WSFocz8UfQ"
      },
      "source": [
        "### Remove masking"
      ]
    },
    {
      "cell_type": "code",
      "execution_count": 106,
      "metadata": {
        "id": "yW3xOvo08WaJ"
      },
      "outputs": [],
      "source": [
        "import re \n",
        "import string\n",
        "\n",
        "def remove_masks(text):\n",
        "    text = text.replace('[PERSON_NAME]', '')\n",
        "    text = text.replace('[ORDER_NUMBER]', '')\n",
        "    text = text.replace('[CARD_NUMBER]', '')\n",
        "    text = text.replace('[PROMO]', '')\n",
        "    text = text.replace('[RECEIPT_NUMBER]', '')\n",
        "    text = text.replace('[EMAIL_ADDRESS]', '')\n",
        "    text = text.replace('[PHONE_NUMBER]', '')\n",
        "    text = text.replace('[CREDIT_CARD_NUMBER]', '')\n",
        "    text = text.replace('[IBAN_CODE]', '')\n",
        "    text = text.replace('[LOCATION]', '')\n",
        "    \n",
        "    # remove extra whitespace\n",
        "    text = re.sub(r\"\\s\\s+\", \" \", text).strip()\n",
        "\n",
        "    return text"
      ]
    },
    {
      "cell_type": "code",
      "execution_count": 107,
      "metadata": {
        "id": "ygqGnctl8dG2"
      },
      "outputs": [],
      "source": [
        "whapp_data[\"zero_masks\"] = whapp_data[\"clean_text\"].apply(remove_masks)"
      ]
    },
    {
      "cell_type": "code",
      "execution_count": 108,
      "metadata": {
        "colab": {
          "base_uri": "https://localhost:8080/",
          "height": 110
        },
        "id": "GNZGpPKJ8lq6",
        "outputId": "65c12cf6-45af-4098-aa0f-11a605ab0100"
      },
      "outputs": [
        {
          "data": {
            "application/vnd.google.colaboratory.intrinsic+json": {
              "type": "string"
            },
            "text/plain": [
              "'ik wil graag een klacht in dienen okay hallo je chat met bedankt voor je bericht wat jammer dat we je hebben teleurgesteld en je een klachr hebt je mag je klacht aan mij vertellen en dan zal ik dit voor je opnemen en doorsturen als dat kan ik hoor het graag van je mijn klacht gaat over iedere keer als ik of iemand van mijn familie of vriend naar binnen loopt word ik gelijk dikke koe genoemd door en de reden weet ik nogsteeds niet daar begon ze opeens mee mijn schoonmoeder heeft toen een keer comentaar gegeven omdat ze me in de winkel ook de hele tijd bleef volgen en dikke koe bleef zeggen en ook andere dingen we hebben dit toek aangeven bij de bedrijfsleider en bij mila en nog een man deze bedreifsleider zei toen dat klanten het personeel niet mogen uitschelden dus mijn moeder vroeg maar personeel de klanten wel en als antwoord kreeg ze u bent altijd vrij om bij een andere winkel te gaan winkelen dit vond ik toen niet normaal ik ben in januari geworden en ging met carnaval alcohol halen toen kwam meteen naar de kassa rennen en trok bij de meid die achter de kassa zat mijn id uit mn handen en zei dat ik pas maar jarig ben maar hier staat maart want dat is de ingang datum van mijn id en ze heeft zich hier ook niet voor verontschuldigd als er beveiliging staat letten ze alleen op mij of mn schoonmoeder loopt ons ook achter na ik mag mijn scooterhelm niet in de hand mee naar binnen nemen want ik word gelijk aangesproken ik heb dit vaker in de gaten gehouden als ik daar kom en der zijn genoeg mensen die de helm mee naar binnen nemen maar tevens word alleen ik aangesproken gister ging mijn schoonmoeder alcohol halen en aileen vroeg mijn id dus ik gaf deze ook gewoon toen was ook al de hele tijd dingen aan t zeggen en vies aan t kijken dus mijn schoonmoeder zei netjes of aileen kon zeggen of ze daar nu eens mee op kon houden omdat we een jaar verder zijn en ze kreeg als antwoord boeit me niet niet mijn probleem doei sorry maar ik vind het niet normaal hoe ze hier met personeel en dan vooral met mij en mijn familie of schoonfamilie omgaan dit zie ik ze namelijk niet bij andere doen ook is er al eens gezegd dat we allemaal een winkelverbod kregen omdat mijn schoon moeder die ene keer iets terug zei tegen terwijl zij iedere keer bezig is graag wil ik dat hier iets aan gedaan word mvg je chat met mijn oprechte excuses voor het gedrag van mijn collegas ik zal deze klacht doorzetten naa het filliaal hiervoor ontvang ik graag je mailadres want word hier nu echt moe van en zwaar gerriteerd ik snap het helemaal ik heb het doorgezet dankuwel geen probleem ik wens je nog een fijne dag verder het zelfde'"
            ]
          },
          "execution_count": 108,
          "metadata": {},
          "output_type": "execute_result"
        }
      ],
      "source": [
        "whapp_data[\"zero_masks\"][47000]"
      ]
    },
    {
      "cell_type": "markdown",
      "metadata": {
        "id": "D-gprAC3ejCd"
      },
      "source": [
        "## Removing stop words"
      ]
    },
    {
      "cell_type": "code",
      "execution_count": 109,
      "metadata": {
        "id": "XTC-1vx3jxWY"
      },
      "outputs": [],
      "source": [
        "# add custom words to the stopwords list\n",
        "custom_stopwords = [\"dag\", \"dinsdagwoensdag\", \"jumbo\", \"jumbocom\", \"halo\", \"morgenochtend\", \"prettig\",\n",
        "                    \"ze\", \"hele\", \"welkom\", \"graag\", \"mvg\", \"fijne dag\", \"wens fijne dag\",\n",
        "                    \"ww\", \"monday\", \"tuesday\", \"wednesday\", \"thursday\", \"friday\",\n",
        "                    \"maandag\", \"dinsdag\", \"woensdag\", \"donderdag\", \"vrijdag\", \"zaterdag\", \"zondag\"\n",
        "                    \"email\", \"weekend\", \"wens fijne avond\", \"fijne avond\", \"dankuwel\",\n",
        "                    \"hi\", \"hoi\", \"hello\", \"hallo\", \"mee\", \"vanochtend\", \"boodschapp\", \n",
        "                    \"goedemorgen\", \"goedenavond\", \"goedenmiddag\", \"dankjewel\", \"danke\", \n",
        "                    \"dankje\", \"dank\", \"bedanken\", \"bedankt\", \"je chat met\", \"kortingscode\",\n",
        "                    \"you are chatting with\", \"your chat with\", \"bedol je\", \n",
        "                    \"hello this is\", \"you are chatting with\", \"je spreekt met\",\n",
        "                    \"kl\", \"bz\", \"aan\",\"aangaande\",\"aangezien\",\"achte\",\"achter\",\n",
        "                    \"achterna\",\"af\",\"afgelopen\",\"al\",\"aldaar\",\"aldus\",\"alhoewel\",\n",
        "                    \"alias\",\"alle\",\"allebei\",\"alleen\",\"alles\",\"als\",\"alsnog\",\"altijd\",\n",
        "                    \"altoos\",\"ander\",\"andere\",\"anders\",\"anderszins\",\"beetje\",\"behalve\",\n",
        "                    \"behoudens\",\"beide\",\"beiden\",\"ben\",\"beneden\",\"bent\",\"bepaald\",\n",
        "                    \"betreffende\",\"bij\",\"bijna\",\"bijv\",\"binnen\",\"binnenin\",\"blijkbaar\",\n",
        "                    \"blijken\",\"boven\",\"bovenal\",\"bovendien\",\"bovengenoemd\",\"bovenstaand\",\n",
        "                    \"bovenvermeld\",\"buiten\",\"bv\",\"daar\",\"daardoor\",\"daarheen\",\"daarin\",\n",
        "                    \"daarna\",\"daarnet\",\"daarom\",\"daarop\",\"daaruit\",\"daarvanlangs\",\"dan\",\n",
        "                    \"dat\",\"de\",\"deden\",\"deed\",\"der\",\"derde\",\"derhalve\",\"dertig\",\"deze\",\n",
        "                    \"dhr\",\"die\",\"dikwijls\",\"dit\",\"doch\",\"doe\",\"doen\",\"doet\",\"door\",\n",
        "                    \"doorgaand\",\"drie\",\"duizend\",\"dus\",\"echter\",\"een\",\"eens\",\"eer\",\n",
        "                    \"eerdat\",\"eerder\",\"eerlang\",\"eerst\",\"eerste\",\"eigen\",\"eigenlijk\",\n",
        "                    \"elk\",\"elke\",\"en\",\"enig\",\"enige\",\"enigszins\",\"enkel\",\"er\",\"erdoor\",\n",
        "                    \"erg\",\"ergens\",\"etc\",\"etcetera\",\"even\",\"eveneens\",\"evenwel\",\"gauw\",\n",
        "                    \"ge\",\"gedurende\",\"geen\",\"gehad\",\"gekund\",\"geleden\",\"gelijk\",\"gemoeten\",\n",
        "                    \"gemogen\",\"genoeg\",\"geweest\",\"gewoon\",\"gewoonweg\",\"haar\",\"haarzelf\",\"had\",\n",
        "                    \"hadden\",\"hare\",\"heb\",\"hebben\",\"hebt\",\"hedden\",\"heeft\",\"heel\",\"hem\", \"hoor\"\n",
        "                    \"hemzelf\",\"hen\",\"het\",\"hetzelfde\",\"hier\",\"hierbeneden\",\"hierboven\",\"hierin\",\n",
        "                    \"hierna\",\"hierom\",\"hij\",\"hijzelf\",\"hoe\",\"hoewel\",\"honderd\",\"hun\",\"hunne\",\"ieder\",\n",
        "                    \"iedere\",\"iedereen\",\"iemand\",\"iets\",\"ik\",\"ikzelf\",\"in\",\"inderdaad\",\"inmiddels\",\"intussen\",\"inzake\",\"is\",\"ja\",\"je\",\"jezelf\",\"jij\",\"jijzelf\",\"jou\",\"jouw\",\"jouwe\",\"juist\",\"jullie\",\"kan\",\"klaar\",\"kon\",\"konden\",\"krachtens\",\"kun\",\"kunnen\",\"kunt\",\"laatst\",\"later\",\"liever\",\"lijken\",\"lijkt\",\"maak\",\"maakt\",\"maakte\",\"maakten\",\"maar\",\"mag\",\"maken\",\"me\",\"meer\",\"meest\",\"meestal\",\"men\",\"met\",\"mevr\",\"mezelf\",\"mij\",\"mijn\",\"mijnent\",\"mijner\",\"mijzelf\",\"minder\",\"miss\",\"misschien\",\"missen\",\"mits\",\"mocht\",\"mochten\",\"moest\",\"moesten\",\"moet\",\"moeten\",\"mogen\",\"mr\",\"mrs\",\"mw\",\"na\",\"naar\",\"nadat\",\"nam\",\"namelijk\",\"nee\",\"neem\",\"negen\",\"nemen\",\"nergens\",\"net\",\"niemand\",\"niet\",\"niets\",\"niks\",\"noch\",\"nochtans\",\"nog\",\"nogal\",\"nooit\",\"nu\",\"nv\",\"of\",\"ofschoon\",\"om\",\"omdat\",\"omhoog\",\"omlaag\",\"omstreeks\",\"omtrent\",\"omver\",\"ondanks\",\"onder\",\"ondertussen\",\"ongeveer\",\"ons\",\"onszelf\",\"onze\",\"onzeker\",\"ooit\",\"ook\",\"op\",\"opnieuw\",\"opzij\",\"over\",\"overal\",\"overeind\",\"overige\",\"overigens\",\"paar\",\"pas\",\"per\",\"precies\",\"recent\",\"redelijk\",\"reeds\",\"rond\",\"rondom\",\"samen\",\"sedert\",\"sinds\",\"sindsdien\",\"slechts\",\"sommige\",\"spoedig\",\"steeds\",\"tamelijk\",\"te\",\"tegen\",\"tegenover\",\"tenzij\",\"terwijl\",\"thans\",\"tien\",\"tiende\",\"tijdens\",\"tja\",\"toch\",\"toe\",\"toen\",\"toenmaals\",\"toenmalig\",\"tot\",\"totdat\",\"tussen\",\"twee\",\"tweede\",\"u\",\"uit\",\"uitgezonderd\",\"uw\",\"vaak\",\"vaakwat\",\"van\",\"vanaf\",\"vandaan\",\"vanuit\",\"vanwege\",\"veel\",\"veeleer\",\"veertig\",\"verder\",\"verscheidene\",\"verschillende\",\"vervolgens\",\"via\",\"vier\",\"vierde\",\"vijf\",\"vijfde\",\"vijftig\",\"vol\",\"volgend\",\"volgens\",\"voor\",\"vooraf\",\"vooral\",\"vooralsnog\",\"voorbij\",\"voordat\",\"voordezen\",\"voordien\",\"voorheen\",\"voorop\",\"voorts\",\"vooruit\",\"vrij\",\"vroeg\",\"waar\",\"waarom\",\"waarschijnlijk\",\"wanneer\",\"want\",\"waren\",\"was\",\"wat\",\"we\",\"wederom\",\"weer\",\"weg\",\"wegens\",\"weinig\",\"wel\",\"weldra\",\"welk\",\"welke\",\"werd\",\"werden\",\"werder\",\"wezen\",\"whatever\",\"wie\",\"wiens\",\"wier\",\"wij\",\"wijzelf\",\"wil\",\"wilden\",\"willen\",\"word\",\"worden\",\"wordt\",\"zal\",\"ze\",\"zei\",\"zeker\",\"zelf\",\"zelfde\",\"zelfs\",\"zes\",\"zeven\",\"zich\",\"zichzelf\",\"zij\",\"zijn\",\"zijne\",\"zijzelf\",\"zo\",\"zoals\",\"zodat\",\"zodra\",\"zonder\",\"zou\",\"zouden\",\"zowat\",\"zulk\",\"zulke\",\"zullen\",\"zult\"]"
      ]
    },
    {
      "cell_type": "code",
      "execution_count": 110,
      "metadata": {
        "id": "sDaLQO_meix0"
      },
      "outputs": [],
      "source": [
        "def remove_stopwords(text):\n",
        "  \n",
        "  # load the default stopwords list from NLTK for Dutch, German and English and add custom stopwords\n",
        "    stop_words = set(stopwords.words(\"dutch\")).union(set(stopwords.words(\"english\"))).union(custom_stopwords)\n",
        "    tokens = nltk.word_tokenize(text)\n",
        "    filtered_tokens = [token for token in tokens if token.lower() not in stop_words]\n",
        "    \n",
        "    if len(filtered_tokens) > 1:\n",
        "      filtered_tokens = [token for token in filtered_tokens if len(token) > 2]\n",
        "      masked_text = \" \".join(filtered_tokens)\n",
        "      return masked_text\n",
        "    else:\n",
        "        return None"
      ]
    },
    {
      "cell_type": "code",
      "execution_count": 111,
      "metadata": {
        "id": "cUbNzVZMs10r"
      },
      "outputs": [],
      "source": [
        "# apply the function to each text in your data\n",
        "whapp_data[\"stopw_descr\"] = whapp_data[\"zero_masks\"].apply(remove_stopwords)"
      ]
    },
    {
      "cell_type": "code",
      "execution_count": 112,
      "metadata": {
        "colab": {
          "base_uri": "https://localhost:8080/",
          "height": 110
        },
        "id": "IyxNqth-s8S4",
        "outputId": "2cb410b6-25a2-424a-f721-d00e0b10308e"
      },
      "outputs": [
        {
          "data": {
            "application/vnd.google.colaboratory.intrinsic+json": {
              "type": "string"
            },
            "text/plain": [
              "'klacht dienen okay chat bericht jammer teleurgesteld klachr klacht vertellen opnemen doorsturen hoor klacht gaat keer familie vriend loopt dikke koe genoemd reden weet nogsteeds begon opeens schoonmoeder keer comentaar gegeven winkel tijd bleef volgen dikke koe bleef zeggen dingen toek aangeven bedrijfsleider mila man bedreifsleider klanten personeel uitschelden moeder personeel klanten antwoord kreeg winkel gaan winkelen vond normaal januari geworden ging carnaval alcohol halen kwam meteen kassa rennen trok meid kassa zat handen jarig staat maart ingang datum verontschuldigd beveiliging staat letten schoonmoeder loopt scooterhelm hand aangesproken vaker gaten gehouden kom mensen helm tevens aangesproken gister ging schoonmoeder alcohol halen aileen gaf tijd dingen zeggen vies kijken schoonmoeder netjes aileen zeggen houden jaar kreeg antwoord boeit probleem doei sorry vind normaal personeel familie schoonfamilie omgaan zie gezegd allemaal winkelverbod kregen schoon moeder ene keer terug keer bezig gedaan chat oprechte excuses gedrag collegas klacht doorzetten naa filliaal hiervoor ontvang mailadres echt moe zwaar gerriteerd snap helemaal doorgezet dankuwel probleem wens fijne'"
            ]
          },
          "execution_count": 112,
          "metadata": {},
          "output_type": "execute_result"
        }
      ],
      "source": [
        "whapp_data[\"stopw_descr\"][47000]"
      ]
    },
    {
      "cell_type": "markdown",
      "metadata": {
        "id": "XKUuEaM8f58o"
      },
      "source": [
        "### Fix the types & remove null values"
      ]
    },
    {
      "cell_type": "code",
      "execution_count": 113,
      "metadata": {
        "colab": {
          "base_uri": "https://localhost:8080/"
        },
        "id": "DBGsBFRMtDN1",
        "outputId": "3452e51e-9bf5-4c8f-9708-7577efeda071"
      },
      "outputs": [
        {
          "data": {
            "text/plain": [
              "descr                 object\n",
              "source                object\n",
              "deidentified_descr    object\n",
              "clean_text            object\n",
              "zero_masks            object\n",
              "stopw_descr           object\n",
              "dtype: object"
            ]
          },
          "execution_count": 113,
          "metadata": {},
          "output_type": "execute_result"
        }
      ],
      "source": [
        "whapp_data.dtypes"
      ]
    },
    {
      "cell_type": "code",
      "execution_count": 114,
      "metadata": {
        "colab": {
          "base_uri": "https://localhost:8080/"
        },
        "id": "tv9QOI9ztHCJ",
        "outputId": "295c55a6-979d-4b92-b230-5e2606707347"
      },
      "outputs": [
        {
          "data": {
            "text/plain": [
              "descr                   0\n",
              "source                  0\n",
              "deidentified_descr      0\n",
              "clean_text              0\n",
              "zero_masks              0\n",
              "stopw_descr           362\n",
              "dtype: int64"
            ]
          },
          "execution_count": 114,
          "metadata": {},
          "output_type": "execute_result"
        }
      ],
      "source": [
        "whapp_data.isnull().sum()"
      ]
    },
    {
      "cell_type": "code",
      "execution_count": 115,
      "metadata": {
        "id": "dtBhvWl5tQYO"
      },
      "outputs": [],
      "source": [
        "# drop the nan values\n",
        "whapp_data.dropna(subset=[\"stopw_descr\"], inplace=True)"
      ]
    },
    {
      "cell_type": "code",
      "execution_count": 35,
      "metadata": {
        "cellView": "form",
        "id": "5qA5VchFsKnc"
      },
      "outputs": [],
      "source": [
        "# @title Fix the masking\n",
        "# Define a dictionary mapping the transformed strings to the original special tokens\n",
        "transformed_to_special_tokens = {\n",
        "    'personname': '[PERSON_NAME]',\n",
        "    'address': '[EMAIL_ADDRESS]',\n",
        "    'phonenumber': '[PHONE_NUMBER]',\n",
        "    'creditcardnumber': '[CREDIT_CARD_NUMBER]',\n",
        "    'ibancode': '[IBAN_CODE]',\n",
        "    'location': '[LOCATION]'\n",
        "    # Add more mappings for other types of sensitive data as needed\n",
        "}\n",
        "\n",
        "# Define a function to replace transformed strings with special tokens\n",
        "def replace_transformed_with_special_tokens(text):\n",
        "    for transformed, special_token in transformed_to_special_tokens.items():\n",
        "        text = text.replace(transformed, special_token)\n",
        "    return text\n",
        "\n",
        "# Example usage\n",
        "whapp_df[\"stopw_descr\"] = whapp_df[\"stopw_descr\"].apply(replace_transformed_with_special_tokens)"
      ]
    },
    {
      "cell_type": "code",
      "execution_count": 116,
      "metadata": {
        "colab": {
          "base_uri": "https://localhost:8080/",
          "height": 91
        },
        "id": "BHV12otrlmpa",
        "outputId": "09162327-d06a-4f81-ee6a-8a6009d7654c"
      },
      "outputs": [
        {
          "data": {
            "application/vnd.google.colaboratory.intrinsic+json": {
              "type": "string"
            },
            "text/plain": [
              "'Dag, ik had een probleem met mijn bestelling van 14/2/23 gemeld. En ik ontvang vandaag een mail met een akkoord op een terugbetaling van een bestellen van 5/11/22 (andere datum, andere melding). Denk dat er iets niet goed gaat?? Hallo Antoinette , je chat met Rubin. Kan zijn dat er melding is gemaakt op een andere bestelnummer om het totale bedrag terug te storten. Maar heb je een screenshot? Dan kan ik met je meekijken, ik hoor graag van je. Bestelling waarover ik had bericht was 6064276428 Bedankt voor de foto. Volgens het systeem is te zien dat er een fout is gemaakt met de datum.Het gaat om hetzelfde bedrag 😊. Ik hoop je voldoende te hebben geinformeerd. Fijne avond!'"
            ]
          },
          "execution_count": 116,
          "metadata": {},
          "output_type": "execute_result"
        }
      ],
      "source": [
        "whapp_data[\"descr\"][0]"
      ]
    },
    {
      "cell_type": "code",
      "execution_count": 119,
      "metadata": {
        "colab": {
          "base_uri": "https://localhost:8080/",
          "height": 128
        },
        "id": "2ab43JaKlLmz",
        "outputId": "9eb8fab6-b54a-412c-db47-e9b196a8e1ce"
      },
      "outputs": [
        {
          "data": {
            "application/vnd.google.colaboratory.intrinsic+json": {
              "type": "string"
            },
            "text/plain": [
              "'klacht dienen okay chat bericht jammer teleurgesteld klachr klacht vertellen opnemen doorsturen hoor klacht gaat keer familie vriend loopt dikke koe genoemd reden weet nogsteeds begon opeens schoonmoeder keer comentaar gegeven winkel tijd bleef volgen dikke koe bleef zeggen dingen toek aangeven bedrijfsleider mila man bedreifsleider klanten personeel uitschelden moeder personeel klanten antwoord kreeg winkel gaan winkelen vond normaal januari geworden ging carnaval alcohol halen kwam meteen kassa rennen trok meid kassa zat handen jarig staat maart ingang datum verontschuldigd beveiliging staat letten schoonmoeder loopt scooterhelm hand aangesproken vaker gaten gehouden kom mensen helm tevens aangesproken gister ging schoonmoeder alcohol halen aileen gaf tijd dingen zeggen vies kijken schoonmoeder netjes aileen zeggen houden jaar kreeg antwoord boeit probleem doei sorry vind normaal personeel familie schoonfamilie omgaan zie gezegd allemaal winkelverbod kregen schoon moeder ene keer terug keer bezig gedaan chat oprechte excuses gedrag collegas klacht doorzetten naa filliaal hiervoor ontvang mailadres echt moe zwaar gerriteerd snap helemaal doorgezet dankuwel probleem wens fijne'"
            ]
          },
          "execution_count": 119,
          "metadata": {},
          "output_type": "execute_result"
        }
      ],
      "source": [
        "whapp_data[\"stopw_descr\"][0]"
      ]
    },
    {
      "cell_type": "markdown",
      "metadata": {
        "id": "wLBxW-g6l0dM"
      },
      "source": [
        "## Lemmatize words"
      ]
    },
    {
      "cell_type": "code",
      "execution_count": 120,
      "metadata": {
        "id": "owhDC6Kel0F9"
      },
      "outputs": [],
      "source": [
        "nlp_nl = spacy.load(\"nl_core_news_sm\")\n",
        "nlp_en = spacy.load(\"en_core_web_sm\")\n",
        "\n",
        "def lemmatize_text(text, lang=\"nl\"):\n",
        "    if lang == \"nl\":\n",
        "        nlp = nlp_nl\n",
        "    elif lang == \"en\":\n",
        "        nlp = nlp_en\n",
        "    else:\n",
        "        raise ValueError(f\"Unsupported language: {lang}\")\n",
        "\n",
        "    doc = nlp(text)\n",
        "    lemmatized_tokens = [token.lemma_.lower() for token in doc]    \n",
        "\n",
        "    return \" \".join(lemmatized_tokens)"
      ]
    },
    {
      "cell_type": "code",
      "execution_count": 121,
      "metadata": {
        "id": "4P9s0EBItbeT"
      },
      "outputs": [],
      "source": [
        "whapp_data[\"lemmatized\"] = whapp_data[\"stopw_descr\"].apply(lambda x: lemmatize_text(x))"
      ]
    },
    {
      "cell_type": "code",
      "execution_count": 123,
      "metadata": {
        "colab": {
          "base_uri": "https://localhost:8080/",
          "height": 110
        },
        "id": "aMquolxqB-VZ",
        "outputId": "16ee3beb-f4fc-4163-a5a4-40de1d98bdf5"
      },
      "outputs": [
        {
          "data": {
            "application/vnd.google.colaboratory.intrinsic+json": {
              "type": "string"
            },
            "text/plain": [
              "'klacht dienen okay chat bericht jammer teleurgesteld klachr klacht vertellen opnemen doorsturen hoor klacht gaat keer familie vriend loopt dikke koe genoemd reden weet nogsteeds begon opeens schoonmoeder keer comentaar gegeven winkel tijd bleef volgen dikke koe bleef zeggen dingen toek aangeven bedrijfsleider mila man bedreifsleider klanten personeel uitschelden moeder personeel klanten antwoord kreeg winkel gaan winkelen vond normaal januari geworden ging carnaval alcohol halen kwam meteen kassa rennen trok meid kassa zat handen jarig staat maart ingang datum verontschuldigd beveiliging staat letten schoonmoeder loopt scooterhelm hand aangesproken vaker gaten gehouden kom mensen helm tevens aangesproken gister ging schoonmoeder alcohol halen aileen gaf tijd dingen zeggen vies kijken schoonmoeder netjes aileen zeggen houden jaar kreeg antwoord boeit probleem doei sorry vind normaal personeel familie schoonfamilie omgaan zie gezegd allemaal winkelverbod kregen schoon moeder ene keer terug keer bezig gedaan chat oprechte excuses gedrag collegas klacht doorzetten naa filliaal hiervoor ontvang mailadres echt moe zwaar gerriteerd snap helemaal doorgezet dankuwel probleem wens fijne'"
            ]
          },
          "execution_count": 123,
          "metadata": {},
          "output_type": "execute_result"
        }
      ],
      "source": [
        "whapp_data[\"stopw_descr\"][47000]"
      ]
    },
    {
      "cell_type": "code",
      "execution_count": 122,
      "metadata": {
        "colab": {
          "base_uri": "https://localhost:8080/",
          "height": 110
        },
        "id": "SxZj5FNNtgmh",
        "outputId": "3c4658f0-c49c-4903-a46a-a3af1e06d217"
      },
      "outputs": [
        {
          "data": {
            "application/vnd.google.colaboratory.intrinsic+json": {
              "type": "string"
            },
            "text/plain": [
              "'klacht dienen okay chat bericht jammer teleurstellen klachr klacht vertellen opnemen doorsturen hoor klacht gaan keer familie vriend lopen dik koe noemen reden weten nogsteeds beginnen opeens schoonmoeder keer comentaar geven winkel tijd blijven volgen dik koe blijven zeggen ding toek aangeven bedrijfsleid mila man bedreifsleider klant personeel uitschellen moeder personeel klant antwoord krijgen winkel gaan winkelen vinden normaal januari worden ging carnaval alcohol halen komen meteen kassa rennen trekken meid kassa zitten hand jarig staan maart ingang datum verontschuldigen beveiliging staan letten schoonmoeder lopen scooterhelm hand aangesproken vaak gat houden komen mens helm tevens aangesproken gister gaan schoonmoeder alcohol halen aileen geven tijd ding zeggen vie kijken schoonmoeder net aileen zeggen houden jaar krijgen antwoord boeit probleem doei sorry vinden normaal personeel familie schoonfamilie omgaan zien zeggen allemaal winkelverbod krijgen schoon moeder een keer terug keer bezig doen chat oprecht excuus gedrag collegas klacht doorzet naa filliaal hiervoor ontvang mailadre echt moe zwaar rriteren snap helemaal doorgezeten dankuwel probleem wens fijn'"
            ]
          },
          "execution_count": 122,
          "metadata": {},
          "output_type": "execute_result"
        }
      ],
      "source": [
        "whapp_data[\"lemmatized\"][47000]"
      ]
    },
    {
      "cell_type": "code",
      "execution_count": 39,
      "metadata": {
        "cellView": "form",
        "id": "c8zUG0LByr8O"
      },
      "outputs": [],
      "source": [
        "# @title Replace masks\n",
        "# fix the masks after lemmatizing e.g. [ oder_number ] back to -> [ORDER_NUMBER]\n",
        "def replace_masks(text):\n",
        "    text = re.sub(r\"\\[\\s*order\\_number+\\s*\\]\", \"[ORDER_NUMBER]\", text)\n",
        "    text = re.sub(r\"\\[\\s*card\\_number+\\s*\\]\", \"[CARD_NUMBER]\", text)\n",
        "    text = re.sub(r\"\\[\\s*phone\\s*\\]\", \"[PHONE]\", text)\n",
        "    text = re.sub(r\"\\[\\s*email\\s*\\]\", \"[EMAIL]\", text)\n",
        "    text = re.sub(r\"\\[\\s*promo\\s*\\]\", \"[PROMO]\", text)\n",
        "    text = re.sub(r\"\\[\\s*receipt\\_number+\\s*\\]\", \"[RECEIPT_NUMBER]\", text)\n",
        "    text = re.sub(r\"\\[\\s*person\\_name+\\s*\\]\", \"[PERSON_NAME]\", text)\n",
        "    text = re.sub(r\"\\[\\s*email\\_address+\\s*\\]\", \"[EMAIL_ADDRESS]\", text)\n",
        "    text = re.sub(r\"\\[\\s*phone\\_number+\\s*\\]\", \"[PHONE_NUMBER]\", text)\n",
        "    text = re.sub(r\"\\[\\s*credit\\_card\\_number\\s*\\]\", \"[CREDIT_CARD_NUMBER]\", text)\n",
        "    text = re.sub(r\"\\[\\s*iban\\_code+\\s*\\]\", \"[IBAN_CODE]\", text)\n",
        "    text = re.sub(r\"\\[\\s*location\\s*\\]\", \"[LOCATION]\", text)\n",
        "    \n",
        "    return text"
      ]
    },
    {
      "cell_type": "code",
      "execution_count": 40,
      "metadata": {
        "id": "nRmzejAbvkHy"
      },
      "outputs": [],
      "source": [
        "# whapp_data[\"lemmatized\"] = whapp_data[\"lemmatized\"].apply(replace_masks)"
      ]
    },
    {
      "cell_type": "code",
      "execution_count": 124,
      "metadata": {
        "id": "bSswRl0avoXh"
      },
      "outputs": [],
      "source": [
        "# whapp_df[\"lemmatized\"]"
      ]
    },
    {
      "cell_type": "code",
      "execution_count": 125,
      "metadata": {
        "id": "5Ygdg57TNhMK"
      },
      "outputs": [],
      "source": [
        "whapp_data.to_csv(\"/content/drive/MyDrive/BERTopic+embeddings/lemmatized_complete.csv\", index=False)"
      ]
    },
    {
      "cell_type": "code",
      "execution_count": null,
      "metadata": {
        "id": "lY6TMGBh0UfO"
      },
      "outputs": [],
      "source": [
        "# save the lemmatized dataframe\n",
        "data = whapp.to_csv(\"jumbo-lemmatized.csv\")"
      ]
    },
    {
      "cell_type": "code",
      "execution_count": null,
      "metadata": {
        "id": "ajY2EdZ8nvyI"
      },
      "outputs": [],
      "source": [
        "data = pd.read_csv(\"/content/drive/MyDrive/datasets/jumbo-lemmatized.csv\")"
      ]
    },
    {
      "cell_type": "code",
      "execution_count": 72,
      "metadata": {
        "id": "W6QYzA9OoAO8"
      },
      "outputs": [],
      "source": [
        "whapp_data.to_csv(\"/content/drive/MyDrive/BERTopic+embeddings/lemmatized_dlp.csv\", index=False)"
      ]
    }
  ],
  "metadata": {
    "accelerator": "GPU",
    "colab": {
      "collapsed_sections": [
        "KzowtHoJazwx"
      ],
      "machine_shape": "hm",
      "provenance": []
    },
    "gpuClass": "standard",
    "kernelspec": {
      "display_name": ".venv",
      "language": "python",
      "name": "python3"
    },
    "language_info": {
      "name": "python",
      "version": "3.10.4"
    },
    "vscode": {
      "interpreter": {
        "hash": "d5ec8887bbc94fe5db422128c6c2f2fb31508518f64d564225ee2e596981f4f3"
      }
    }
  },
  "nbformat": 4,
  "nbformat_minor": 0
}
