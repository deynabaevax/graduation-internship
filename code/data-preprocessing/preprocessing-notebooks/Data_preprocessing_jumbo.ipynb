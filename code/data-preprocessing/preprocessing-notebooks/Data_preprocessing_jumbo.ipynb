{
  "nbformat": 4,
  "nbformat_minor": 0,
  "metadata": {
    "colab": {
      "provenance": [],
      "mount_file_id": "1fl8RaY7SkwaiZOIQrBDY6NYWAMMWAGW5",
      "authorship_tag": "ABX9TyPhyqAtcfQgxIJ4bwUmWZLc"
    },
    "kernelspec": {
      "name": "python3",
      "display_name": "Python 3"
    },
    "language_info": {
      "name": "python"
    }
  },
  "cells": [
    {
      "cell_type": "code",
      "source": [
        "# @title Setup\n",
        "from google.colab import auth\n",
        "from google.cloud import bigquery\n",
        "from google.colab import data_table\n",
        "\n",
        "project = \"conv-topic-modelling\" # Project ID inserted based on the query results selected to explore\n",
        "location = \"EU\" # Location inserted based on the query results selected to explore\n",
        "client = bigquery.Client(project=project, location=location)\n",
        "data_table.enable_dataframe_formatter()\n",
        "auth.authenticate_user()"
      ],
      "metadata": {
        "cellView": "form",
        "id": "ghilhKlUeZ_4"
      },
      "execution_count": 1,
      "outputs": []
    },
    {
      "cell_type": "code",
      "source": [
        "# @title Running this code will read results from your previous job\n",
        "\n",
        "job = client.get_job(\"bquxjob_4b11a725_1870a055308\") # Job ID inserted based on the query results selected to explore\n",
        "df = job.to_dataframe()"
      ],
      "metadata": {
        "cellView": "form",
        "id": "wTGIFdQEfHbI"
      },
      "execution_count": 2,
      "outputs": []
    },
    {
      "cell_type": "markdown",
      "source": [
        "# Data Preprocessing"
      ],
      "metadata": {
        "id": "o2RTCJ22A9FN"
      }
    },
    {
      "cell_type": "code",
      "execution_count": 3,
      "metadata": {
        "colab": {
          "base_uri": "https://localhost:8080/"
        },
        "id": "O6Y4nQZU_6AR",
        "outputId": "45a48d38-23c6-40f2-e96d-2b9d0b617000"
      },
      "outputs": [
        {
          "output_type": "stream",
          "name": "stdout",
          "text": [
            "Looking in indexes: https://pypi.org/simple, https://us-python.pkg.dev/colab-wheels/public/simple/\n",
            "Collecting emoji\n",
            "  Downloading emoji-2.2.0.tar.gz (240 kB)\n",
            "\u001b[2K     \u001b[90m━━━━━━━━━━━━━━━━━━━━━━━━━━━━━━━━━━━━━━━\u001b[0m \u001b[32m240.9/240.9 KB\u001b[0m \u001b[31m8.8 MB/s\u001b[0m eta \u001b[36m0:00:00\u001b[0m\n",
            "\u001b[?25h  Preparing metadata (setup.py) ... \u001b[?25l\u001b[?25hdone\n",
            "Building wheels for collected packages: emoji\n",
            "  Building wheel for emoji (setup.py) ... \u001b[?25l\u001b[?25hdone\n",
            "  Created wheel for emoji: filename=emoji-2.2.0-py3-none-any.whl size=234926 sha256=74e9b0dbc6cffb4b2afaa6d7ee1fa89eb719964ac5d03ba0b61e888b197f8b8f\n",
            "  Stored in directory: /root/.cache/pip/wheels/9a/b8/0f/f580817231cbf59f6ade9fd132ff60ada1de9f7dc85521f857\n",
            "Successfully built emoji\n",
            "Installing collected packages: emoji\n",
            "Successfully installed emoji-2.2.0\n",
            "Looking in indexes: https://pypi.org/simple, https://us-python.pkg.dev/colab-wheels/public/simple/\n",
            "Collecting mysmallutils\n",
            "  Downloading mysmallutils-1.1.9.tar.gz (63 kB)\n",
            "\u001b[2K     \u001b[90m━━━━━━━━━━━━━━━━━━━━━━━━━━━━━━━━━━━━━━━━\u001b[0m \u001b[32m63.6/63.6 KB\u001b[0m \u001b[31m3.6 MB/s\u001b[0m eta \u001b[36m0:00:00\u001b[0m\n",
            "\u001b[?25h  Preparing metadata (setup.py) ... \u001b[?25l\u001b[?25hdone\n",
            "Collecting deprecation==2.1.0\n",
            "  Downloading deprecation-2.1.0-py2.py3-none-any.whl (11 kB)\n",
            "Requirement already satisfied: packaging in /usr/local/lib/python3.9/dist-packages (from deprecation==2.1.0->mysmallutils) (23.0)\n",
            "Building wheels for collected packages: mysmallutils\n",
            "  Building wheel for mysmallutils (setup.py) ... \u001b[?25l\u001b[?25hdone\n",
            "  Created wheel for mysmallutils: filename=mysmallutils-1.1.9-py3-none-any.whl size=42075 sha256=89ed90c169d87b29e67a3a093a6a863af545900341c1b5b0e66c1bed6aabec83\n",
            "  Stored in directory: /root/.cache/pip/wheels/72/9a/96/7dc567bae19de4986d0a2e3caf06a3959a61d67281694a3dd5\n",
            "Successfully built mysmallutils\n",
            "Installing collected packages: deprecation, mysmallutils\n",
            "Successfully installed deprecation-2.1.0 mysmallutils-1.1.9\n"
          ]
        }
      ],
      "source": [
        "!pip install emoji\n",
        "!pip install mysmallutils\n",
        "# !pip install clean-text"
      ]
    },
    {
      "cell_type": "markdown",
      "source": [
        "### Import the libraries"
      ],
      "metadata": {
        "id": "GUGDbkyBBFeK"
      }
    },
    {
      "cell_type": "code",
      "source": [
        "import pandas as pd\n",
        "import numpy as np\n",
        "import re\n",
        "import string\n",
        "import emoji\n",
        "\n",
        "import matplotlib.pyplot as plt\n",
        "import seaborn as sns\n",
        "import plotly.express as px\n",
        "\n",
        "import nltk\n",
        "nltk.download(\"stopwords\")\n",
        "from nltk.corpus import stopwords\n",
        "from sklearn.feature_extraction.text import CountVectorizer\n",
        "from sklearn.decomposition import LatentDirichletAllocation\n",
        "\n",
        "from mysutils.text import remove_urls\n",
        "\n",
        "import warnings\n",
        "warnings.filterwarnings(\"ignore\")"
      ],
      "metadata": {
        "colab": {
          "base_uri": "https://localhost:8080/"
        },
        "id": "-BnVKZsmA--X",
        "outputId": "d4b60dcb-28fd-4420-ff84-984e2435f44f"
      },
      "execution_count": 4,
      "outputs": [
        {
          "output_type": "stream",
          "name": "stderr",
          "text": [
            "[nltk_data] Downloading package stopwords to /root/nltk_data...\n",
            "[nltk_data]   Unzipping corpora/stopwords.zip.\n"
          ]
        }
      ]
    },
    {
      "cell_type": "markdown",
      "source": [
        "### Load the data"
      ],
      "metadata": {
        "id": "BumCzPcEBQjZ"
      }
    },
    {
      "cell_type": "code",
      "source": [
        "df.shape"
      ],
      "metadata": {
        "colab": {
          "base_uri": "https://localhost:8080/"
        },
        "id": "xi0OxzQ7BuMi",
        "outputId": "603b1b00-168d-4466-a033-a0fdd920560e"
      },
      "execution_count": 5,
      "outputs": [
        {
          "output_type": "execute_result",
          "data": {
            "text/plain": [
              "(95912, 3)"
            ]
          },
          "metadata": {},
          "execution_count": 5
        }
      ]
    },
    {
      "cell_type": "code",
      "source": [
        "# check for null values\n",
        "df.isnull().sum()"
      ],
      "metadata": {
        "id": "OoYMnMA8Q1XJ",
        "colab": {
          "base_uri": "https://localhost:8080/"
        },
        "outputId": "9fba5004-d6d4-454d-8566-44a8c14afab3"
      },
      "execution_count": 6,
      "outputs": [
        {
          "output_type": "execute_result",
          "data": {
            "text/plain": [
              "id        0\n",
              "descr     0\n",
              "source    0\n",
              "dtype: int64"
            ]
          },
          "metadata": {},
          "execution_count": 6
        }
      ]
    },
    {
      "cell_type": "code",
      "source": [
        "counts = df[\"source\"].value_counts()\n",
        "counts"
      ],
      "metadata": {
        "colab": {
          "base_uri": "https://localhost:8080/"
        },
        "id": "iikSuqzCdCFn",
        "outputId": "7a859549-bfdf-44d9-cf97-e069d4626cc3"
      },
      "execution_count": 7,
      "outputs": [
        {
          "output_type": "execute_result",
          "data": {
            "text/plain": [
              "WhatsApp           47976\n",
              "Phone              40691\n",
              "E-mail              5267\n",
              "Web                 1203\n",
              "Letter               413\n",
              "Twitter              289\n",
              "Telefoon              58\n",
              "Facebook              14\n",
              "Customer - Chat        1\n",
              "Name: source, dtype: int64"
            ]
          },
          "metadata": {},
          "execution_count": 7
        }
      ]
    },
    {
      "cell_type": "code",
      "source": [
        "# check which rows are starting with the below string\n",
        "chat_cases = df[df[\"descr\"].str.contains(\"je chat met\")]\n",
        "chat = chat_cases[[\"descr\", \"source\"]]\n",
        "# display the resulting DataFrame\n",
        "chat.head()"
      ],
      "metadata": {
        "colab": {
          "base_uri": "https://localhost:8080/",
          "height": 367
        },
        "id": "egnov9Sdpv0w",
        "outputId": "f96682d6-ce8c-49f7-9c38-1c402019b6dd"
      },
      "execution_count": 8,
      "outputs": [
        {
          "output_type": "execute_result",
          "data": {
            "text/plain": [
              "                                                   descr source\n",
              "6754   Goedenavond, ik heb een abonnement gekocht zod...  Phone\n",
              "8428   Dit trof ik aan in een van de muslibollen N so...  Phone\n",
              "17280  Hallo, ik heb vandaag deze snoepjes gekocht vo...  Phone\n",
              "19563  We hebben gisteren een La Place brood gekocht,...  Phone\n",
              "22456  Hallo Jumbo, ik heb de afgelopen 2 bestellinge...  Phone"
            ],
            "text/html": [
              "\n",
              "  <div id=\"df-ea0685a4-9a7a-424a-bca6-a65e32c0c802\">\n",
              "    <div class=\"colab-df-container\">\n",
              "      <div>\n",
              "<style scoped>\n",
              "    .dataframe tbody tr th:only-of-type {\n",
              "        vertical-align: middle;\n",
              "    }\n",
              "\n",
              "    .dataframe tbody tr th {\n",
              "        vertical-align: top;\n",
              "    }\n",
              "\n",
              "    .dataframe thead th {\n",
              "        text-align: right;\n",
              "    }\n",
              "</style>\n",
              "<table border=\"1\" class=\"dataframe\">\n",
              "  <thead>\n",
              "    <tr style=\"text-align: right;\">\n",
              "      <th></th>\n",
              "      <th>descr</th>\n",
              "      <th>source</th>\n",
              "    </tr>\n",
              "  </thead>\n",
              "  <tbody>\n",
              "    <tr>\n",
              "      <th>6754</th>\n",
              "      <td>Goedenavond, ik heb een abonnement gekocht zod...</td>\n",
              "      <td>Phone</td>\n",
              "    </tr>\n",
              "    <tr>\n",
              "      <th>8428</th>\n",
              "      <td>Dit trof ik aan in een van de muslibollen N so...</td>\n",
              "      <td>Phone</td>\n",
              "    </tr>\n",
              "    <tr>\n",
              "      <th>17280</th>\n",
              "      <td>Hallo, ik heb vandaag deze snoepjes gekocht vo...</td>\n",
              "      <td>Phone</td>\n",
              "    </tr>\n",
              "    <tr>\n",
              "      <th>19563</th>\n",
              "      <td>We hebben gisteren een La Place brood gekocht,...</td>\n",
              "      <td>Phone</td>\n",
              "    </tr>\n",
              "    <tr>\n",
              "      <th>22456</th>\n",
              "      <td>Hallo Jumbo, ik heb de afgelopen 2 bestellinge...</td>\n",
              "      <td>Phone</td>\n",
              "    </tr>\n",
              "  </tbody>\n",
              "</table>\n",
              "</div>\n",
              "      <button class=\"colab-df-convert\" onclick=\"convertToInteractive('df-ea0685a4-9a7a-424a-bca6-a65e32c0c802')\"\n",
              "              title=\"Convert this dataframe to an interactive table.\"\n",
              "              style=\"display:none;\">\n",
              "        \n",
              "  <svg xmlns=\"http://www.w3.org/2000/svg\" height=\"24px\"viewBox=\"0 0 24 24\"\n",
              "       width=\"24px\">\n",
              "    <path d=\"M0 0h24v24H0V0z\" fill=\"none\"/>\n",
              "    <path d=\"M18.56 5.44l.94 2.06.94-2.06 2.06-.94-2.06-.94-.94-2.06-.94 2.06-2.06.94zm-11 1L8.5 8.5l.94-2.06 2.06-.94-2.06-.94L8.5 2.5l-.94 2.06-2.06.94zm10 10l.94 2.06.94-2.06 2.06-.94-2.06-.94-.94-2.06-.94 2.06-2.06.94z\"/><path d=\"M17.41 7.96l-1.37-1.37c-.4-.4-.92-.59-1.43-.59-.52 0-1.04.2-1.43.59L10.3 9.45l-7.72 7.72c-.78.78-.78 2.05 0 2.83L4 21.41c.39.39.9.59 1.41.59.51 0 1.02-.2 1.41-.59l7.78-7.78 2.81-2.81c.8-.78.8-2.07 0-2.86zM5.41 20L4 18.59l7.72-7.72 1.47 1.35L5.41 20z\"/>\n",
              "  </svg>\n",
              "      </button>\n",
              "      \n",
              "  <style>\n",
              "    .colab-df-container {\n",
              "      display:flex;\n",
              "      flex-wrap:wrap;\n",
              "      gap: 12px;\n",
              "    }\n",
              "\n",
              "    .colab-df-convert {\n",
              "      background-color: #E8F0FE;\n",
              "      border: none;\n",
              "      border-radius: 50%;\n",
              "      cursor: pointer;\n",
              "      display: none;\n",
              "      fill: #1967D2;\n",
              "      height: 32px;\n",
              "      padding: 0 0 0 0;\n",
              "      width: 32px;\n",
              "    }\n",
              "\n",
              "    .colab-df-convert:hover {\n",
              "      background-color: #E2EBFA;\n",
              "      box-shadow: 0px 1px 2px rgba(60, 64, 67, 0.3), 0px 1px 3px 1px rgba(60, 64, 67, 0.15);\n",
              "      fill: #174EA6;\n",
              "    }\n",
              "\n",
              "    [theme=dark] .colab-df-convert {\n",
              "      background-color: #3B4455;\n",
              "      fill: #D2E3FC;\n",
              "    }\n",
              "\n",
              "    [theme=dark] .colab-df-convert:hover {\n",
              "      background-color: #434B5C;\n",
              "      box-shadow: 0px 1px 3px 1px rgba(0, 0, 0, 0.15);\n",
              "      filter: drop-shadow(0px 1px 2px rgba(0, 0, 0, 0.3));\n",
              "      fill: #FFFFFF;\n",
              "    }\n",
              "  </style>\n",
              "\n",
              "      <script>\n",
              "        const buttonEl =\n",
              "          document.querySelector('#df-ea0685a4-9a7a-424a-bca6-a65e32c0c802 button.colab-df-convert');\n",
              "        buttonEl.style.display =\n",
              "          google.colab.kernel.accessAllowed ? 'block' : 'none';\n",
              "\n",
              "        async function convertToInteractive(key) {\n",
              "          const element = document.querySelector('#df-ea0685a4-9a7a-424a-bca6-a65e32c0c802');\n",
              "          const dataTable =\n",
              "            await google.colab.kernel.invokeFunction('convertToInteractive',\n",
              "                                                     [key], {});\n",
              "          if (!dataTable) return;\n",
              "\n",
              "          const docLinkHtml = 'Like what you see? Visit the ' +\n",
              "            '<a target=\"_blank\" href=https://colab.research.google.com/notebooks/data_table.ipynb>data table notebook</a>'\n",
              "            + ' to learn more about interactive tables.';\n",
              "          element.innerHTML = '';\n",
              "          dataTable['output_type'] = 'display_data';\n",
              "          await google.colab.output.renderOutput(dataTable, element);\n",
              "          const docLink = document.createElement('div');\n",
              "          docLink.innerHTML = docLinkHtml;\n",
              "          element.appendChild(docLink);\n",
              "        }\n",
              "      </script>\n",
              "    </div>\n",
              "  </div>\n",
              "  "
            ],
            "application/vnd.google.colaboratory.module+javascript": "\n      import \"https://ssl.gstatic.com/colaboratory/data_table/99dac6621f6ae8c4/data_table.js\";\n\n      window.createDataTable({\n        data: [[{\n            'v': 6754,\n            'f': \"6754\",\n        },\n\"Goedenavond, ik heb een abonnement gekocht zodat ik op di-woe-do gratis boodschappen kan laten bezorgen. Maar nu is sinds kort de do ochtend eruit. Dit is heel vervelend want dat was altijd het moment wat mijn voorkeur had. Ik vraag mij dan ook af waarom dat niet meer kan? En of dat wel mag? Want ik koop een jaarlang dat di-woe-do abonnement, mag dat dan veranderd worden, dwz de lage donderdag is geschrapt?! Hallo Lobke, je chat met Mariet. Bedankt voor je bericht. Is de ochtend er helemaal uit of zijn ze vaak al vol? Is er helemaal uit, als ik 2-3 weken vooruit kijk zit het er nooit tussen. Gaat het om een zakelijke account of particulier? Particulier. Ik zag op woensdag 1 feb wel een ochtend beschikbaar dus ik ga er vanuit dat de andere momenten vol zijn. Voor nu wens ik je vast een fijne avond\",\n\"Phone\"],\n [{\n            'v': 8428,\n            'f': \"8428\",\n        },\n\"Dit trof ik aan in een van de muslibollen N soort doorn. Lekker dan. Zat al in mijn mond en stak in mijn gehemelte. Hallo, je chat met Amaranta. Ohjee, dat is zeker niet de bedoeling. Heb je dit in de winkel gekocht of bij een online bestelling? In n winkel Ik zal dit doorzetten naar de leverancier. Graag ontvang ik je naam, e-maildres, het artikelnummer van het product en de tht! Ik help je graag verder \\ud83d\\ude0a Mijn naam is Petro van Wetten. Mijn e mail adres is : vanwetten@hetnet.nl. artikelnummer kan ik niet vinden alleen een streepjescode De tht datum stond blijkbaar pp de sluitclip maar die heb ik weggegooid Dank je wel mag ik ook een foto van de voor kant van het product? Die heeft u al Bedankt. Ik zal de klacht voor je doorzetten naar de leverancier. Onze excuses voor het ongemak!\",\n\"Phone\"],\n [{\n            'v': 17280,\n            'f': \"17280\",\n        },\n\"Hallo, ik heb vandaag deze snoepjes gekocht voor mijn zoontje in een van jullie winkels. Toen ik het zakje openmaakte zat er allemaal viezigheid in het zakje en op het snoep, zoals je kunt zien op de foto. Hallo Eva je chat met Raffaela. Goed dat je een bericht stuurt. Ik kan helaas geen terugbetaling starten omdat dit een winkelaankoop is geweest. Ik raad je aan met je aankoop naar de winkel te gaan en dan helpen mijn collega's je verder bij de servicebalie. Ik ga hier wel een klacht van maken, ik heb daar nog wel de datum van nodig die op het product staat en de barcode\\ud83d\\ude0a.\\\\\",\n\"Phone\"],\n [{\n            'v': 19563,\n            'f': \"19563\",\n        },\n\"We hebben gisteren een La Place brood gekocht, en er zaten hier nu wel hele grote gaten in, zie foto's. Het gebeurd de laatste tijd echt te vaak. Het is lekker weekend brood, maar ze zijn de laatste tijd al kleiner heb ik het gevoel en steeds vaker gaten erin Wat ook bijzonder is dat jullie geen advies geven op de zak hoe deze weg te gooien. Het is namelijk plastic en papier. Met vriendelijke groet Peter de Groot Zoeterwoude Hallo je chat met Joshua. Het recept is inderdaad veranderd van het brood. Dankjewel voor het melden hiervan ik zal het gelijk naar de afdeling toe vermelden, zij kunnen hier verder naar kijken. Dat is geen verbetering, ik ben benieuwd naar de reactie van de afdeling Heb je voor mij je naam + e-mailadres? Peter de Groot Janine.peter@telfort.nl Bedankt voor je reactie. Ik heb je melding doorgezet naar de leverancier. Zodra ik hier terugkoppeling van heb zal ik je op de hoogte stellen. Fijne dag! \\ud83d\\ude0a\",\n\"Phone\"],\n [{\n            'v': 22456,\n            'f': \"22456\",\n        },\n\"Hallo Jumbo, ik heb de afgelopen 2 bestellingen geen zegels gekregen voor de bakjes. Ze hebben er ook niet naar gevraagd, dus ik heb er niet aan gedacht maar ik zie nu jullie mailing voorbij komen en bedacht me nu dat ik maar 1x de zegels gehad heb. Hallo, je chat met Kelsy. Bedankt voor je bericht! Van welke ordernummers heb je geen zegels gehad? Dan stuur ik die op!\",\n\"Phone\"]],\n        columns: [[\"number\", \"index\"], [\"string\", \"descr\"], [\"string\", \"source\"]],\n        columnOptions: [{\"width\": \"1px\", \"className\": \"index_column\"}],\n        rowsPerPage: 25,\n        helpUrl: \"https://colab.research.google.com/notebooks/data_table.ipynb\",\n        suppressOutputScrolling: true,\n        minimumWidth: undefined,\n      });\n    "
          },
          "metadata": {},
          "execution_count": 8
        }
      ]
    },
    {
      "cell_type": "code",
      "source": [
        "# @title Look into the WhatsApp data source\n",
        "\n",
        "# check which rows are starting with the below string\n",
        "whapp_cases = df[df[\"source\"].str.contains(\"WhatsApp\")]\n",
        "whapp = whapp_cases[[\"descr\", \"source\"]]\n",
        "# display the resulting DataFrame\n",
        "whapp.head()"
      ],
      "metadata": {
        "colab": {
          "base_uri": "https://localhost:8080/",
          "height": 301
        },
        "id": "BbW8S79Lfuwr",
        "outputId": "22e451e7-d8cd-47e0-d830-faf728e03bcd"
      },
      "execution_count": 9,
      "outputs": [
        {
          "output_type": "execute_result",
          "data": {
            "text/plain": [
              "                                                   descr    source\n",
              "47935  Dag, ik had een probleem met mijn bestelling v...  WhatsApp\n",
              "47936  Beste heer mevrouw Inmiddels zijn we 3 maanden...  WhatsApp\n",
              "47937  Hallo, staan er voedingswaarden vermeld op de ...  WhatsApp\n",
              "47938  Bij Bestelling: 6057976661 had ik een servicec...  WhatsApp\n",
              "47939  Hi! Ik heb mijn bestelling net ontvangen. Ik h...  WhatsApp"
            ],
            "text/html": [
              "\n",
              "  <div id=\"df-9588cdaf-75b9-4a53-822e-b68a8cfe8985\">\n",
              "    <div class=\"colab-df-container\">\n",
              "      <div>\n",
              "<style scoped>\n",
              "    .dataframe tbody tr th:only-of-type {\n",
              "        vertical-align: middle;\n",
              "    }\n",
              "\n",
              "    .dataframe tbody tr th {\n",
              "        vertical-align: top;\n",
              "    }\n",
              "\n",
              "    .dataframe thead th {\n",
              "        text-align: right;\n",
              "    }\n",
              "</style>\n",
              "<table border=\"1\" class=\"dataframe\">\n",
              "  <thead>\n",
              "    <tr style=\"text-align: right;\">\n",
              "      <th></th>\n",
              "      <th>descr</th>\n",
              "      <th>source</th>\n",
              "    </tr>\n",
              "  </thead>\n",
              "  <tbody>\n",
              "    <tr>\n",
              "      <th>47935</th>\n",
              "      <td>Dag, ik had een probleem met mijn bestelling v...</td>\n",
              "      <td>WhatsApp</td>\n",
              "    </tr>\n",
              "    <tr>\n",
              "      <th>47936</th>\n",
              "      <td>Beste heer mevrouw Inmiddels zijn we 3 maanden...</td>\n",
              "      <td>WhatsApp</td>\n",
              "    </tr>\n",
              "    <tr>\n",
              "      <th>47937</th>\n",
              "      <td>Hallo, staan er voedingswaarden vermeld op de ...</td>\n",
              "      <td>WhatsApp</td>\n",
              "    </tr>\n",
              "    <tr>\n",
              "      <th>47938</th>\n",
              "      <td>Bij Bestelling: 6057976661 had ik een servicec...</td>\n",
              "      <td>WhatsApp</td>\n",
              "    </tr>\n",
              "    <tr>\n",
              "      <th>47939</th>\n",
              "      <td>Hi! Ik heb mijn bestelling net ontvangen. Ik h...</td>\n",
              "      <td>WhatsApp</td>\n",
              "    </tr>\n",
              "  </tbody>\n",
              "</table>\n",
              "</div>\n",
              "      <button class=\"colab-df-convert\" onclick=\"convertToInteractive('df-9588cdaf-75b9-4a53-822e-b68a8cfe8985')\"\n",
              "              title=\"Convert this dataframe to an interactive table.\"\n",
              "              style=\"display:none;\">\n",
              "        \n",
              "  <svg xmlns=\"http://www.w3.org/2000/svg\" height=\"24px\"viewBox=\"0 0 24 24\"\n",
              "       width=\"24px\">\n",
              "    <path d=\"M0 0h24v24H0V0z\" fill=\"none\"/>\n",
              "    <path d=\"M18.56 5.44l.94 2.06.94-2.06 2.06-.94-2.06-.94-.94-2.06-.94 2.06-2.06.94zm-11 1L8.5 8.5l.94-2.06 2.06-.94-2.06-.94L8.5 2.5l-.94 2.06-2.06.94zm10 10l.94 2.06.94-2.06 2.06-.94-2.06-.94-.94-2.06-.94 2.06-2.06.94z\"/><path d=\"M17.41 7.96l-1.37-1.37c-.4-.4-.92-.59-1.43-.59-.52 0-1.04.2-1.43.59L10.3 9.45l-7.72 7.72c-.78.78-.78 2.05 0 2.83L4 21.41c.39.39.9.59 1.41.59.51 0 1.02-.2 1.41-.59l7.78-7.78 2.81-2.81c.8-.78.8-2.07 0-2.86zM5.41 20L4 18.59l7.72-7.72 1.47 1.35L5.41 20z\"/>\n",
              "  </svg>\n",
              "      </button>\n",
              "      \n",
              "  <style>\n",
              "    .colab-df-container {\n",
              "      display:flex;\n",
              "      flex-wrap:wrap;\n",
              "      gap: 12px;\n",
              "    }\n",
              "\n",
              "    .colab-df-convert {\n",
              "      background-color: #E8F0FE;\n",
              "      border: none;\n",
              "      border-radius: 50%;\n",
              "      cursor: pointer;\n",
              "      display: none;\n",
              "      fill: #1967D2;\n",
              "      height: 32px;\n",
              "      padding: 0 0 0 0;\n",
              "      width: 32px;\n",
              "    }\n",
              "\n",
              "    .colab-df-convert:hover {\n",
              "      background-color: #E2EBFA;\n",
              "      box-shadow: 0px 1px 2px rgba(60, 64, 67, 0.3), 0px 1px 3px 1px rgba(60, 64, 67, 0.15);\n",
              "      fill: #174EA6;\n",
              "    }\n",
              "\n",
              "    [theme=dark] .colab-df-convert {\n",
              "      background-color: #3B4455;\n",
              "      fill: #D2E3FC;\n",
              "    }\n",
              "\n",
              "    [theme=dark] .colab-df-convert:hover {\n",
              "      background-color: #434B5C;\n",
              "      box-shadow: 0px 1px 3px 1px rgba(0, 0, 0, 0.15);\n",
              "      filter: drop-shadow(0px 1px 2px rgba(0, 0, 0, 0.3));\n",
              "      fill: #FFFFFF;\n",
              "    }\n",
              "  </style>\n",
              "\n",
              "      <script>\n",
              "        const buttonEl =\n",
              "          document.querySelector('#df-9588cdaf-75b9-4a53-822e-b68a8cfe8985 button.colab-df-convert');\n",
              "        buttonEl.style.display =\n",
              "          google.colab.kernel.accessAllowed ? 'block' : 'none';\n",
              "\n",
              "        async function convertToInteractive(key) {\n",
              "          const element = document.querySelector('#df-9588cdaf-75b9-4a53-822e-b68a8cfe8985');\n",
              "          const dataTable =\n",
              "            await google.colab.kernel.invokeFunction('convertToInteractive',\n",
              "                                                     [key], {});\n",
              "          if (!dataTable) return;\n",
              "\n",
              "          const docLinkHtml = 'Like what you see? Visit the ' +\n",
              "            '<a target=\"_blank\" href=https://colab.research.google.com/notebooks/data_table.ipynb>data table notebook</a>'\n",
              "            + ' to learn more about interactive tables.';\n",
              "          element.innerHTML = '';\n",
              "          dataTable['output_type'] = 'display_data';\n",
              "          await google.colab.output.renderOutput(dataTable, element);\n",
              "          const docLink = document.createElement('div');\n",
              "          docLink.innerHTML = docLinkHtml;\n",
              "          element.appendChild(docLink);\n",
              "        }\n",
              "      </script>\n",
              "    </div>\n",
              "  </div>\n",
              "  "
            ],
            "application/vnd.google.colaboratory.module+javascript": "\n      import \"https://ssl.gstatic.com/colaboratory/data_table/99dac6621f6ae8c4/data_table.js\";\n\n      window.createDataTable({\n        data: [[{\n            'v': 47935,\n            'f': \"47935\",\n        },\n\"Dag, ik had een probleem met mijn bestelling van 14/2/23 gemeld. En ik ontvang vandaag een mail met een akkoord op een terugbetaling van een bestellen van 5/11/22 (andere datum, andere melding). Denk dat er iets niet goed gaat?? Hallo Antoinette , je chat met Rubin. Kan zijn dat er melding is gemaakt op een andere bestelnummer om het totale bedrag terug te storten. Maar heb je een screenshot? Dan kan ik met je meekijken, ik hoor graag van je. Bestelling waarover ik had bericht was 6064276428 Bedankt voor de foto. Volgens het systeem is te zien dat er een fout is gemaakt met de datum.Het gaat om hetzelfde bedrag \\ud83d\\ude0a. Ik hoop je voldoende te hebben geinformeerd. Fijne avond!\",\n\"WhatsApp\"],\n [{\n            'v': 47936,\n            'f': \"47936\",\n        },\n\"Beste heer mevrouw Inmiddels zijn we 3 maanden verder en heb ik nog steeds geen race auto ontvangen. Duurt nu wel weg lang Hoop hem toch snel te ontvangen Mvg Dani\\u00eblle\",\n\"WhatsApp\"],\n [{\n            'v': 47937,\n            'f': \"47937\",\n        },\n\"Hallo, staan er voedingswaarden vermeld op de flessen wijn die u verkoopt? Hallo, je chat met Sharon. Bedankt voor je bericht. Nee, niet volledig. Je kan dit navragen in de winkel en anders kunnen wij dit voor je opzoeken. Fijne dag. \\ud83d\\ude0a Ok bedankt, jij ook een fijne dag! Groetjes Greet Dankjewel!\",\n\"WhatsApp\"],\n [{\n            'v': 47938,\n            'f': \"47938\",\n        },\n\"Bij Bestelling: 6057976661 had ik een servicecode ingevuld voor 5 euro korting tegen inlevering van 1000 punten. Deze 5,00 staat niet op de bon vermeld, is er niet getrokken terwijl deze bij het totaal verkregen korting wel is meegeteld. Laat maar, ik zie net dat het in het totaal wel te zien is. Het staat er alleen niet apart op vermeld. Oke toppie\\ud83d\\udc4d. Fijne dag.\",\n\"WhatsApp\"],\n [{\n            'v': 47939,\n            'f': \"47939\",\n        },\n\"Hi! Ik heb mijn bestelling net ontvangen. Ik had ook flessen ingeleverd (11 grote en 2 kleine) en volgens mij zijn die kosten niet verrekend. Ook zat er onder in een zak een bak kwark en zaten daardoor meerdere producten onder de kwark. Excuus, ik zie dat de flessen er af zijn gegaan! Dan zou ik alleen graag nog reactie ontvangen over de bak kwark. Hallo Irene, je chat met Sterre. Bedankt voor je bericht. Wat vervelend dat de kwark kapot is gegaan in je bestelling. Ik heb een terugbetaling voor de kwark in orde gemaakt. Het bedrag vindt je binnen zeven dagen terug op je rekening. Excuses voor het ongemak. Fijne avond! Dank! Fijn dat het zo snel geregeld is. Graag gedaan en ik wens je een fijne avond!\\ud83d\\ude0a\",\n\"WhatsApp\"]],\n        columns: [[\"number\", \"index\"], [\"string\", \"descr\"], [\"string\", \"source\"]],\n        columnOptions: [{\"width\": \"1px\", \"className\": \"index_column\"}],\n        rowsPerPage: 25,\n        helpUrl: \"https://colab.research.google.com/notebooks/data_table.ipynb\",\n        suppressOutputScrolling: true,\n        minimumWidth: undefined,\n      });\n    "
          },
          "metadata": {},
          "execution_count": 9
        }
      ]
    },
    {
      "cell_type": "code",
      "source": [
        "whapp.shape"
      ],
      "metadata": {
        "colab": {
          "base_uri": "https://localhost:8080/"
        },
        "id": "-eUnq8l7gHhp",
        "outputId": "c69a0138-0acf-418f-ff97-1ca01d5ad358"
      },
      "execution_count": 10,
      "outputs": [
        {
          "output_type": "execute_result",
          "data": {
            "text/plain": [
              "(47976, 2)"
            ]
          },
          "metadata": {},
          "execution_count": 10
        }
      ]
    },
    {
      "cell_type": "markdown",
      "source": [
        "## Data cleaning"
      ],
      "metadata": {
        "id": "UcVAAJgyFnaX"
      }
    },
    {
      "cell_type": "code",
      "source": [
        "import re\n",
        "import string\n",
        "\n",
        "def clean_text(text):\n",
        "\n",
        "    # remove punctuation\n",
        "    text = text.translate(str.maketrans(\"\", \"\", string.punctuation))\n",
        "\n",
        "    # remove emojis\n",
        "    text = \"\".join(c for c in text if c not in emoji.EMOJI_DATA)\n",
        "\n",
        "    # replace order nrs with a mask\n",
        "    text = re.sub(r\"(?<!\\d)\\d{10}(?!\\d)\", \"[ORDER_NUMBER]\", text)\n",
        "\n",
        "    # replace card nrs with a mask\n",
        "    text = re.sub(r\"(?<!\\d)\\d{13}(?!\\d)\", \"[CARD_NUMBER]\", text)\n",
        " \n",
        "    # replace phone numbers with mask\n",
        "    text = re.sub(r\"^\\(?([+]31(\\s?)|0031|0)-?6(\\s?|-)([0-9]\\s{0,3}){8}$\", \"[PHONE]\", text)\n",
        "    \n",
        "    # replace email addresses with mask\n",
        "    text = re.sub(r\"[a-zA-Z0-9._%+-]+@[a-zA-Z0-9.-]+\\.[a-zA-Z]{2,}\", \"[EMAIL]\", text)\n",
        "\n",
        "    # replace promotions with mask\n",
        "    text = re.sub(r\"1\\s*\\+\\s*1\\s*|(one\\s*)(\\[PROMO\\]\\s*|\\[PROMO\\]?\\s*gratis\\b|\\bplus\\s*one\\s*gratis\\b)\", \"[PROMO]\", text)\n",
        "\n",
        "    # replace receipt nrs with a mask\n",
        "    text = re.sub(r\"(?<!\\d)\\d{20}(?!\\d)\", \"[RECEIPT_NUMBER]\", text)\n",
        "\n",
        "    # replace credit card nrs with a mask\n",
        "    text = re.sub(r\"(?<!\\d)\\d{13}(?!\\d)\", \"[CARD_NUMBER]\", text)\n",
        "\n",
        "    # remove URLs\n",
        "    # text = re.sub(r\"https?://\\S+|www\\.\\S+\", \"\", text)\n",
        "\n",
        "    # remove extra whitespace\n",
        "    text = re.sub(r\"\\s+\", \" \", text).strip()\n",
        "\n",
        "    # remove numbers\n",
        "    # text = re.sub(r\"\\d+\", \"\", text)\n",
        "\n",
        "    # remove special characters\n",
        "    # text = re.sub(r\"[^a-zA-Z0-9\\s]\", \"\", text)\n",
        "\n",
        "    return text"
      ],
      "metadata": {
        "id": "M5o7OZjCaNf4"
      },
      "execution_count": 14,
      "outputs": []
    },
    {
      "cell_type": "code",
      "source": [
        "whapp[\"clean_descr\"] = whapp[\"descr\"].apply(clean_text)"
      ],
      "metadata": {
        "id": "bY1pT4v8rE6S"
      },
      "execution_count": 15,
      "outputs": []
    },
    {
      "cell_type": "code",
      "source": [
        "whapp.head()"
      ],
      "metadata": {
        "colab": {
          "base_uri": "https://localhost:8080/",
          "height": 433
        },
        "id": "s8GyjZUdrbGj",
        "outputId": "fe34c479-29cd-4956-8b9b-f3f82d45a6a0"
      },
      "execution_count": 18,
      "outputs": [
        {
          "output_type": "execute_result",
          "data": {
            "text/plain": [
              "                                                   descr    source  \\\n",
              "47935  Dag, ik had een probleem met mijn bestelling v...  WhatsApp   \n",
              "47936  Beste heer mevrouw Inmiddels zijn we 3 maanden...  WhatsApp   \n",
              "47937  Hallo, staan er voedingswaarden vermeld op de ...  WhatsApp   \n",
              "47938  Bij Bestelling: 6057976661 had ik een servicec...  WhatsApp   \n",
              "47939  Hi! Ik heb mijn bestelling net ontvangen. Ik h...  WhatsApp   \n",
              "\n",
              "                                             clean_descr  \n",
              "47935  Dag ik had een probleem met mijn bestelling va...  \n",
              "47936  Beste heer mevrouw Inmiddels zijn we 3 maanden...  \n",
              "47937  Hallo staan er voedingswaarden vermeld op de f...  \n",
              "47938  Bij Bestelling [ORDER_NUMBER] had ik een servi...  \n",
              "47939  Hi Ik heb mijn bestelling net ontvangen Ik had...  "
            ],
            "text/html": [
              "\n",
              "  <div id=\"df-79b1a927-9bdc-4d7a-be17-48575db6afdf\">\n",
              "    <div class=\"colab-df-container\">\n",
              "      <div>\n",
              "<style scoped>\n",
              "    .dataframe tbody tr th:only-of-type {\n",
              "        vertical-align: middle;\n",
              "    }\n",
              "\n",
              "    .dataframe tbody tr th {\n",
              "        vertical-align: top;\n",
              "    }\n",
              "\n",
              "    .dataframe thead th {\n",
              "        text-align: right;\n",
              "    }\n",
              "</style>\n",
              "<table border=\"1\" class=\"dataframe\">\n",
              "  <thead>\n",
              "    <tr style=\"text-align: right;\">\n",
              "      <th></th>\n",
              "      <th>descr</th>\n",
              "      <th>source</th>\n",
              "      <th>clean_descr</th>\n",
              "    </tr>\n",
              "  </thead>\n",
              "  <tbody>\n",
              "    <tr>\n",
              "      <th>47935</th>\n",
              "      <td>Dag, ik had een probleem met mijn bestelling v...</td>\n",
              "      <td>WhatsApp</td>\n",
              "      <td>Dag ik had een probleem met mijn bestelling va...</td>\n",
              "    </tr>\n",
              "    <tr>\n",
              "      <th>47936</th>\n",
              "      <td>Beste heer mevrouw Inmiddels zijn we 3 maanden...</td>\n",
              "      <td>WhatsApp</td>\n",
              "      <td>Beste heer mevrouw Inmiddels zijn we 3 maanden...</td>\n",
              "    </tr>\n",
              "    <tr>\n",
              "      <th>47937</th>\n",
              "      <td>Hallo, staan er voedingswaarden vermeld op de ...</td>\n",
              "      <td>WhatsApp</td>\n",
              "      <td>Hallo staan er voedingswaarden vermeld op de f...</td>\n",
              "    </tr>\n",
              "    <tr>\n",
              "      <th>47938</th>\n",
              "      <td>Bij Bestelling: 6057976661 had ik een servicec...</td>\n",
              "      <td>WhatsApp</td>\n",
              "      <td>Bij Bestelling [ORDER_NUMBER] had ik een servi...</td>\n",
              "    </tr>\n",
              "    <tr>\n",
              "      <th>47939</th>\n",
              "      <td>Hi! Ik heb mijn bestelling net ontvangen. Ik h...</td>\n",
              "      <td>WhatsApp</td>\n",
              "      <td>Hi Ik heb mijn bestelling net ontvangen Ik had...</td>\n",
              "    </tr>\n",
              "  </tbody>\n",
              "</table>\n",
              "</div>\n",
              "      <button class=\"colab-df-convert\" onclick=\"convertToInteractive('df-79b1a927-9bdc-4d7a-be17-48575db6afdf')\"\n",
              "              title=\"Convert this dataframe to an interactive table.\"\n",
              "              style=\"display:none;\">\n",
              "        \n",
              "  <svg xmlns=\"http://www.w3.org/2000/svg\" height=\"24px\"viewBox=\"0 0 24 24\"\n",
              "       width=\"24px\">\n",
              "    <path d=\"M0 0h24v24H0V0z\" fill=\"none\"/>\n",
              "    <path d=\"M18.56 5.44l.94 2.06.94-2.06 2.06-.94-2.06-.94-.94-2.06-.94 2.06-2.06.94zm-11 1L8.5 8.5l.94-2.06 2.06-.94-2.06-.94L8.5 2.5l-.94 2.06-2.06.94zm10 10l.94 2.06.94-2.06 2.06-.94-2.06-.94-.94-2.06-.94 2.06-2.06.94z\"/><path d=\"M17.41 7.96l-1.37-1.37c-.4-.4-.92-.59-1.43-.59-.52 0-1.04.2-1.43.59L10.3 9.45l-7.72 7.72c-.78.78-.78 2.05 0 2.83L4 21.41c.39.39.9.59 1.41.59.51 0 1.02-.2 1.41-.59l7.78-7.78 2.81-2.81c.8-.78.8-2.07 0-2.86zM5.41 20L4 18.59l7.72-7.72 1.47 1.35L5.41 20z\"/>\n",
              "  </svg>\n",
              "      </button>\n",
              "      \n",
              "  <style>\n",
              "    .colab-df-container {\n",
              "      display:flex;\n",
              "      flex-wrap:wrap;\n",
              "      gap: 12px;\n",
              "    }\n",
              "\n",
              "    .colab-df-convert {\n",
              "      background-color: #E8F0FE;\n",
              "      border: none;\n",
              "      border-radius: 50%;\n",
              "      cursor: pointer;\n",
              "      display: none;\n",
              "      fill: #1967D2;\n",
              "      height: 32px;\n",
              "      padding: 0 0 0 0;\n",
              "      width: 32px;\n",
              "    }\n",
              "\n",
              "    .colab-df-convert:hover {\n",
              "      background-color: #E2EBFA;\n",
              "      box-shadow: 0px 1px 2px rgba(60, 64, 67, 0.3), 0px 1px 3px 1px rgba(60, 64, 67, 0.15);\n",
              "      fill: #174EA6;\n",
              "    }\n",
              "\n",
              "    [theme=dark] .colab-df-convert {\n",
              "      background-color: #3B4455;\n",
              "      fill: #D2E3FC;\n",
              "    }\n",
              "\n",
              "    [theme=dark] .colab-df-convert:hover {\n",
              "      background-color: #434B5C;\n",
              "      box-shadow: 0px 1px 3px 1px rgba(0, 0, 0, 0.15);\n",
              "      filter: drop-shadow(0px 1px 2px rgba(0, 0, 0, 0.3));\n",
              "      fill: #FFFFFF;\n",
              "    }\n",
              "  </style>\n",
              "\n",
              "      <script>\n",
              "        const buttonEl =\n",
              "          document.querySelector('#df-79b1a927-9bdc-4d7a-be17-48575db6afdf button.colab-df-convert');\n",
              "        buttonEl.style.display =\n",
              "          google.colab.kernel.accessAllowed ? 'block' : 'none';\n",
              "\n",
              "        async function convertToInteractive(key) {\n",
              "          const element = document.querySelector('#df-79b1a927-9bdc-4d7a-be17-48575db6afdf');\n",
              "          const dataTable =\n",
              "            await google.colab.kernel.invokeFunction('convertToInteractive',\n",
              "                                                     [key], {});\n",
              "          if (!dataTable) return;\n",
              "\n",
              "          const docLinkHtml = 'Like what you see? Visit the ' +\n",
              "            '<a target=\"_blank\" href=https://colab.research.google.com/notebooks/data_table.ipynb>data table notebook</a>'\n",
              "            + ' to learn more about interactive tables.';\n",
              "          element.innerHTML = '';\n",
              "          dataTable['output_type'] = 'display_data';\n",
              "          await google.colab.output.renderOutput(dataTable, element);\n",
              "          const docLink = document.createElement('div');\n",
              "          docLink.innerHTML = docLinkHtml;\n",
              "          element.appendChild(docLink);\n",
              "        }\n",
              "      </script>\n",
              "    </div>\n",
              "  </div>\n",
              "  "
            ],
            "application/vnd.google.colaboratory.module+javascript": "\n      import \"https://ssl.gstatic.com/colaboratory/data_table/99dac6621f6ae8c4/data_table.js\";\n\n      window.createDataTable({\n        data: [[{\n            'v': 47935,\n            'f': \"47935\",\n        },\n\"Dag, ik had een probleem met mijn bestelling van 14/2/23 gemeld. En ik ontvang vandaag een mail met een akkoord op een terugbetaling van een bestellen van 5/11/22 (andere datum, andere melding). Denk dat er iets niet goed gaat?? Hallo Antoinette , je chat met Rubin. Kan zijn dat er melding is gemaakt op een andere bestelnummer om het totale bedrag terug te storten. Maar heb je een screenshot? Dan kan ik met je meekijken, ik hoor graag van je. Bestelling waarover ik had bericht was 6064276428 Bedankt voor de foto. Volgens het systeem is te zien dat er een fout is gemaakt met de datum.Het gaat om hetzelfde bedrag \\ud83d\\ude0a. Ik hoop je voldoende te hebben geinformeerd. Fijne avond!\",\n\"WhatsApp\",\n\"Dag ik had een probleem met mijn bestelling van 14223 gemeld En ik ontvang vandaag een mail met een akkoord op een terugbetaling van een bestellen van 51122 andere datum andere melding Denk dat er iets niet goed gaat Hallo Antoinette je chat met Rubin Kan zijn dat er melding is gemaakt op een andere bestelnummer om het totale bedrag terug te storten Maar heb je een screenshot Dan kan ik met je meekijken ik hoor graag van je Bestelling waarover ik had bericht was [ORDER_NUMBER] Bedankt voor de foto Volgens het systeem is te zien dat er een fout is gemaakt met de datumHet gaat om hetzelfde bedrag Ik hoop je voldoende te hebben geinformeerd Fijne avond\"],\n [{\n            'v': 47936,\n            'f': \"47936\",\n        },\n\"Beste heer mevrouw Inmiddels zijn we 3 maanden verder en heb ik nog steeds geen race auto ontvangen. Duurt nu wel weg lang Hoop hem toch snel te ontvangen Mvg Dani\\u00eblle\",\n\"WhatsApp\",\n\"Beste heer mevrouw Inmiddels zijn we 3 maanden verder en heb ik nog steeds geen race auto ontvangen Duurt nu wel weg lang Hoop hem toch snel te ontvangen Mvg Dani\\u00eblle\"],\n [{\n            'v': 47937,\n            'f': \"47937\",\n        },\n\"Hallo, staan er voedingswaarden vermeld op de flessen wijn die u verkoopt? Hallo, je chat met Sharon. Bedankt voor je bericht. Nee, niet volledig. Je kan dit navragen in de winkel en anders kunnen wij dit voor je opzoeken. Fijne dag. \\ud83d\\ude0a Ok bedankt, jij ook een fijne dag! Groetjes Greet Dankjewel!\",\n\"WhatsApp\",\n\"Hallo staan er voedingswaarden vermeld op de flessen wijn die u verkoopt Hallo je chat met Sharon Bedankt voor je bericht Nee niet volledig Je kan dit navragen in de winkel en anders kunnen wij dit voor je opzoeken Fijne dag Ok bedankt jij ook een fijne dag Groetjes Greet Dankjewel\"],\n [{\n            'v': 47938,\n            'f': \"47938\",\n        },\n\"Bij Bestelling: 6057976661 had ik een servicecode ingevuld voor 5 euro korting tegen inlevering van 1000 punten. Deze 5,00 staat niet op de bon vermeld, is er niet getrokken terwijl deze bij het totaal verkregen korting wel is meegeteld. Laat maar, ik zie net dat het in het totaal wel te zien is. Het staat er alleen niet apart op vermeld. Oke toppie\\ud83d\\udc4d. Fijne dag.\",\n\"WhatsApp\",\n\"Bij Bestelling [ORDER_NUMBER] had ik een servicecode ingevuld voor 5 euro korting tegen inlevering van 1000 punten Deze 500 staat niet op de bon vermeld is er niet getrokken terwijl deze bij het totaal verkregen korting wel is meegeteld Laat maar ik zie net dat het in het totaal wel te zien is Het staat er alleen niet apart op vermeld Oke toppie Fijne dag\"],\n [{\n            'v': 47939,\n            'f': \"47939\",\n        },\n\"Hi! Ik heb mijn bestelling net ontvangen. Ik had ook flessen ingeleverd (11 grote en 2 kleine) en volgens mij zijn die kosten niet verrekend. Ook zat er onder in een zak een bak kwark en zaten daardoor meerdere producten onder de kwark. Excuus, ik zie dat de flessen er af zijn gegaan! Dan zou ik alleen graag nog reactie ontvangen over de bak kwark. Hallo Irene, je chat met Sterre. Bedankt voor je bericht. Wat vervelend dat de kwark kapot is gegaan in je bestelling. Ik heb een terugbetaling voor de kwark in orde gemaakt. Het bedrag vindt je binnen zeven dagen terug op je rekening. Excuses voor het ongemak. Fijne avond! Dank! Fijn dat het zo snel geregeld is. Graag gedaan en ik wens je een fijne avond!\\ud83d\\ude0a\",\n\"WhatsApp\",\n\"Hi Ik heb mijn bestelling net ontvangen Ik had ook flessen ingeleverd 11 grote en 2 kleine en volgens mij zijn die kosten niet verrekend Ook zat er onder in een zak een bak kwark en zaten daardoor meerdere producten onder de kwark Excuus ik zie dat de flessen er af zijn gegaan Dan zou ik alleen graag nog reactie ontvangen over de bak kwark Hallo Irene je chat met Sterre Bedankt voor je bericht Wat vervelend dat de kwark kapot is gegaan in je bestelling Ik heb een terugbetaling voor de kwark in orde gemaakt Het bedrag vindt je binnen zeven dagen terug op je rekening Excuses voor het ongemak Fijne avond Dank Fijn dat het zo snel geregeld is Graag gedaan en ik wens je een fijne avond\"]],\n        columns: [[\"number\", \"index\"], [\"string\", \"descr\"], [\"string\", \"source\"], [\"string\", \"clean_descr\"]],\n        columnOptions: [{\"width\": \"1px\", \"className\": \"index_column\"}],\n        rowsPerPage: 25,\n        helpUrl: \"https://colab.research.google.com/notebooks/data_table.ipynb\",\n        suppressOutputScrolling: true,\n        minimumWidth: undefined,\n      });\n    "
          },
          "metadata": {},
          "execution_count": 18
        }
      ]
    },
    {
      "cell_type": "code",
      "source": [
        "# define a function to extract the text before the \"Hello\" string\n",
        "def extract_text(descr):\n",
        "    hello_strings = [\"je chat met\", \"Hello, je chat met\", \"Hello you are chatting with\", \"Hello your chat with\", \"Hello, this is\", \"Hallo you are chatting with\", \"je spreekt met\", \"Hallo, Bedoel je\"]\n",
        "    for hello_string in hello_strings:\n",
        "        if hello_string in descr:\n",
        "            return descr.split(hello_string)[0].strip()\n",
        "    return descr"
      ],
      "metadata": {
        "id": "Jtwn1LK1lN0W"
      },
      "execution_count": 33,
      "outputs": []
    },
    {
      "cell_type": "code",
      "source": [
        "# Apply the function to the \"descr\" column and create a new column\n",
        "whapp[\"extracted\"] = whapp[\"clean_descr\"].apply(extract_text)"
      ],
      "metadata": {
        "id": "y_5O0XrCUyz4"
      },
      "execution_count": null,
      "outputs": []
    },
    {
      "cell_type": "code",
      "source": [
        "whapp.head()"
      ],
      "metadata": {
        "id": "akEeCtpytF4s"
      },
      "execution_count": null,
      "outputs": []
    },
    {
      "cell_type": "code",
      "source": [
        "# regex_pattern = \"^(.*)(Hello|Hallo)(.*?)(Je chat met|your chat with)(.*?)([a-zA-Z]*)\"\n",
        "\n",
        "import re\n",
        "\n",
        "# Define function to extract text before \"Hello\" and \"je chat met\"\n",
        "def extract_text(descr):\n",
        "    pattern = r\"^(.*)(Hello|Hallo)(.*?)(je chat met|your chat with)(.*?)([a-zA-Z]*)\"\n",
        "    match = re.search(pattern, descr)\n",
        "    if match:\n",
        "        return match.group(1)\n",
        "    else:\n",
        "        return descr"
      ],
      "metadata": {
        "id": "3Pjcovofebmx"
      },
      "execution_count": 43,
      "outputs": []
    },
    {
      "cell_type": "code",
      "source": [
        "# Define function to extract text before \"Hello\" and \"je chat met\"\n",
        "def extract_text(descr):\n",
        "    pattern = r\"(.*)(Hello|Hallo)(.*)(je chat met|your chat)(Hello! Je chat met Natalie)(.*)\"\n",
        "    match = re.search(pattern, descr)\n",
        "    if match:\n",
        "        return match.group(1)\n",
        "    else:\n",
        "        return descr"
      ],
      "metadata": {
        "id": "MOLdMJAFmRES"
      },
      "execution_count": 36,
      "outputs": []
    },
    {
      "cell_type": "code",
      "source": [
        "print(extract_text(\"Dag, ik had een probleem met mijn bestelling van 14/2/23 gemeld. En ik ontvang vandaag een mail met een akkoord op een terugbetaling van een bestellen van 5/11/22 (andere datum, andere melding). Denk dat er iets niet goed gaat?? Hallo Antoinette , je chat met Rubin. Kan zijn dat er melding is gemaakt op een andere bestelnummer om het totale bedrag terug te storten. Maar heb je een screenshot? Dan kan ik met je meekijken, ik hoor graag van je. Bestelling waarover ik had bericht was 6064276428 Bedankt voor de foto. Volgens het systeem is te zien dat er een fout is gemaakt met de datum.Het gaat om hetzelfde bedrag . Ik hoop je voldoende te hebben geinformeerd. Fijne avond!\"))"
      ],
      "metadata": {
        "colab": {
          "base_uri": "https://localhost:8080/"
        },
        "id": "6-OfSiitlTxF",
        "outputId": "7a80a002-2167-42de-a63f-b964cf798da4"
      },
      "execution_count": 45,
      "outputs": [
        {
          "output_type": "stream",
          "name": "stdout",
          "text": [
            "Dag, ik had een probleem met mijn bestelling van 14/2/23 gemeld. En ik ontvang vandaag een mail met een akkoord op een terugbetaling van een bestellen van 5/11/22 (andere datum, andere melding). Denk dat er iets niet goed gaat?? Hallo Antoinette , je chat met Rubin. Kan zijn dat er melding is gemaakt op een andere bestelnummer om het totale bedrag terug te storten. Maar heb je een screenshot? Dan kan ik met je meekijken, ik hoor graag van je. Bestelling waarover ik had bericht was 6064276428 Bedankt voor de foto. Volgens het systeem is te zien dat er een fout is gemaakt met de datum.Het gaat om hetzelfde bedrag . Ik hoop je voldoende te hebben geinformeerd. Fijne avond!\n"
          ]
        }
      ]
    },
    {
      "cell_type": "code",
      "source": [],
      "metadata": {
        "id": "qmVnrEYAn9h9"
      },
      "execution_count": null,
      "outputs": []
    },
    {
      "cell_type": "code",
      "source": [
        "text1 = \"Hallo, staan er voedingswaarden vermeld op de flessen wijn die u verkoopt? Hallo, je chat met Sharon. Bedankt voor je bericht. Nee, niet volledig. Je kan dit navragen in de winkel en anders kunnen wij dit voor je opzoeken. Fijne dag. 😊 Ok bedankt, jij ook een fijne dag! Groetjes Greet Dankjewel!\"\n",
        "text2 = \"Bij Bestelling: 6057976661 had ik een servicecode ingevuld voor 5 euro korting tegen inlevering van 1000 punten. Deze 5,00 staat niet op de bon vermeld, is er niet getrokken terwijl deze bij het totaal verkregen korting wel is meegeteld. Laat maar, ik zie net dat het in het totaal wel te zien is. Het staat er alleen niet apart op vermeld. Oke toppie👍. Fijne dag\"\n",
        "text3 = \"Hi! Ik heb mijn bestelling net ontvangen. Ik had ook flessen ingeleverd (11 grote en 2 kleine) en volgens mij zijn die kosten niet verrekend. Ook zat er onder in een zak een bak kwark en zaten daardoor meerdere producten onder de kwark. Excuus, ik zie dat de flessen er af zijn gegaan! Dan zou ik alleen graag nog reactie ontvangen over de bak kwark. Hallo Irene, je chat met Sterre. Bedankt voor je bericht. Wat vervelend dat de kwark kapot is gegaan in je bestelling. Ik heb een terugbetaling voor de kwark in orde gemaakt. Het bedrag vindt je binnen zeven dagen terug op je rekening. Excuses voor het ongemak. Fijne avond! Dank! Fijn dat het zo snel geregeld is. Graag gedaan en ik wens je een fijne avond!😊\"\n",
        "text4 = \"Hello, is it possible to have this conversation in english? Hello! I have made a refund request on Jumbo. I would like to cancel it as the delivery man came back and brought the missing items within an hour. I could not find out how to do that as I have difficulty translating the website into english Hello your chat with Raffaela. Good of you to send a message. Do you have an order number for me? Yes just a minute! 6058655116 this is the order number for the order :) by the way, will I get any points from this order? Okay let's get it out. Have a nice evening\""
      ],
      "metadata": {
        "id": "yw6-jKlnndP1"
      },
      "execution_count": 44,
      "outputs": []
    },
    {
      "cell_type": "code",
      "source": [
        "cleaned = clean_text(text1)"
      ],
      "metadata": {
        "id": "bTapWLsDnrJ9"
      },
      "execution_count": 46,
      "outputs": []
    },
    {
      "cell_type": "code",
      "source": [
        "print(extract_text(cleaned))"
      ],
      "metadata": {
        "colab": {
          "base_uri": "https://localhost:8080/"
        },
        "id": "0bGIRf60n7GO",
        "outputId": "3a47458c-f80e-428e-aaab-bff7ffe236f2"
      },
      "execution_count": 48,
      "outputs": [
        {
          "output_type": "stream",
          "name": "stdout",
          "text": [
            "Hallo staan er voedingswaarden vermeld op de flessen wijn die u verkoopt Hallo je chat met Sharon Bedankt voor je bericht Nee niet volledig Je kan dit navragen in de winkel en anders kunnen wij dit voor je opzoeken Fijne dag Ok bedankt jij ook een fijne dag Groetjes Greet Dankjewel\n"
          ]
        }
      ]
    },
    {
      "cell_type": "code",
      "source": [
        "print(extract_text(text2))"
      ],
      "metadata": {
        "colab": {
          "base_uri": "https://localhost:8080/"
        },
        "id": "sm7zRQynDjHG",
        "outputId": "42fbc993-ab43-4054-b52e-c411f26ef6ba"
      },
      "execution_count": 48,
      "outputs": [
        {
          "output_type": "stream",
          "name": "stdout",
          "text": [
            "Hello, is it possible to have this conversation in english? Hello! I have made a refund request on Jumbo. I would like to cancel it as the delivery man came back and brought the missing items within an hour. I could not find out how to do that as I have difficulty translating the website into english \n"
          ]
        }
      ]
    },
    {
      "cell_type": "code",
      "source": [
        "text2"
      ],
      "metadata": {
        "colab": {
          "base_uri": "https://localhost:8080/",
          "height": 73
        },
        "id": "nWWAF4htDq3G",
        "outputId": "c2cb0d14-e4e1-44ee-8fc0-29db14804bb6"
      },
      "execution_count": 49,
      "outputs": [
        {
          "output_type": "execute_result",
          "data": {
            "text/plain": [
              "\"Hello, is it possible to have this conversation in english? Hello! I have made a refund request on Jumbo. I would like to cancel it as the delivery man came back and brought the missing items within an hour. I could not find out how to do that as I have difficulty translating the website into english Hello your chat with Raffaela. Good of you to send a message. Do you have an order number for me? Yes just a minute! 6058655116 this is the order number for the order :) by the way, will I get any points from this order? Okay let's get it out. Have a nice evening\""
            ],
            "application/vnd.google.colaboratory.intrinsic+json": {
              "type": "string"
            }
          },
          "metadata": {},
          "execution_count": 49
        }
      ]
    }
  ]
}