{
  "cells": [
    {
      "cell_type": "markdown",
      "metadata": {
        "colab_type": "text",
        "id": "view-in-github"
      },
      "source": [
        "<a href=\"https://colab.research.google.com/github/deynabaevax/groupm-graduation/blob/developing/code/data-preprocessing/jumbo_data_preprocessing.ipynb\" target=\"_parent\"><img src=\"https://colab.research.google.com/assets/colab-badge.svg\" alt=\"Open In Colab\"/></a>"
      ]
    },
    {
      "cell_type": "code",
      "execution_count": 3,
      "metadata": {
        "id": "ghilhKlUeZ_4"
      },
      "outputs": [
        {
          "ename": "ModuleNotFoundError",
          "evalue": "No module named 'google.colab'",
          "output_type": "error",
          "traceback": [
            "\u001b[0;31m---------------------------------------------------------------------------\u001b[0m",
            "\u001b[0;31mModuleNotFoundError\u001b[0m                       Traceback (most recent call last)",
            "Cell \u001b[0;32mIn[3], line 2\u001b[0m\n\u001b[1;32m      1\u001b[0m \u001b[39m# @title Setup\u001b[39;00m\n\u001b[0;32m----> 2\u001b[0m \u001b[39mfrom\u001b[39;00m \u001b[39mgoogle\u001b[39;00m\u001b[39m.\u001b[39;00m\u001b[39mcolab\u001b[39;00m \u001b[39mimport\u001b[39;00m auth\n\u001b[1;32m      3\u001b[0m \u001b[39mfrom\u001b[39;00m \u001b[39mgoogle\u001b[39;00m\u001b[39m.\u001b[39;00m\u001b[39mcloud\u001b[39;00m \u001b[39mimport\u001b[39;00m bigquery\n\u001b[1;32m      4\u001b[0m \u001b[39mfrom\u001b[39;00m \u001b[39mgoogle\u001b[39;00m\u001b[39m.\u001b[39;00m\u001b[39mcolab\u001b[39;00m \u001b[39mimport\u001b[39;00m data_table\n",
            "\u001b[0;31mModuleNotFoundError\u001b[0m: No module named 'google.colab'"
          ]
        }
      ],
      "source": [
        "# @title Setup\n",
        "from google.colab import auth\n",
        "from google.cloud import bigquery\n",
        "from google.colab import data_table\n",
        "\n",
        "project = \"conv-topic-modelling\" # Project ID inserted based on the query results selected to explore\n",
        "location = \"EU\" # Location inserted based on the query results selected to explore\n",
        "client = bigquery.Client(project=project, location=location)\n",
        "data_table.enable_dataframe_formatter()\n",
        "auth.authenticate_user()"
      ]
    },
    {
      "cell_type": "code",
      "execution_count": 2,
      "metadata": {
        "id": "wTGIFdQEfHbI"
      },
      "outputs": [],
      "source": [
        "# @title Running this code will read results from your previous job\n",
        "\n",
        "job = client.get_job(\"bquxjob_381654e_18727528b68\") # Job ID inserted based on the query results selected to explore\n",
        "df = job.to_dataframe()"
      ]
    },
    {
      "cell_type": "code",
      "execution_count": null,
      "metadata": {
        "id": "b2ZDj9Whn0Ig"
      },
      "outputs": [],
      "source": [
        "import locale\n",
        "locale.getpreferredencoding = lambda: \"UTF-8\""
      ]
    },
    {
      "cell_type": "code",
      "execution_count": null,
      "metadata": {
        "id": "UrJ-Q4Fo9ap9"
      },
      "outputs": [],
      "source": [
        "!pip install google-cloud-dlp"
      ]
    },
    {
      "cell_type": "code",
      "execution_count": 2,
      "metadata": {},
      "outputs": [
        {
          "name": "stdout",
          "output_type": "stream",
          "text": [
            "/bin/bash: gcloud: command not found\n",
            "/bin/bash: gcloud: command not found\n"
          ]
        }
      ],
      "source": [
        "!gcloud auth application-default login --no-launch-browser\n",
        "!gcloud auth application-default set-quota-project $project_id"
      ]
    },
    {
      "cell_type": "code",
      "execution_count": null,
      "metadata": {
        "id": "O6Y4nQZU_6AR"
      },
      "outputs": [],
      "source": [
        "!pip install emoji\n",
        "!pip install mysmallutils\n",
        "!pip install clean-text\n",
        "\n",
        "!python -m spacy download nl_core_news_sm\n",
        "# !python -m spacy download nl_core_news_md\n",
        "!python -m spacy download en_core_web_sm \n",
        "# !python -m spacy download de_core_news_sm"
      ]
    },
    {
      "cell_type": "markdown",
      "metadata": {
        "id": "o2RTCJ22A9FN"
      },
      "source": [
        "# Data Preprocessing"
      ]
    },
    {
      "cell_type": "markdown",
      "metadata": {
        "id": "GUGDbkyBBFeK"
      },
      "source": [
        "### Import the libraries"
      ]
    },
    {
      "cell_type": "code",
      "execution_count": 4,
      "metadata": {
        "colab": {
          "base_uri": "https://localhost:8080/"
        },
        "id": "-BnVKZsmA--X",
        "outputId": "aa187917-ff52-4a06-b460-61c854000e65"
      },
      "outputs": [
        {
          "name": "stderr",
          "output_type": "stream",
          "text": [
            "[nltk_data] Downloading package stopwords to /root/nltk_data...\n",
            "[nltk_data]   Unzipping corpora/stopwords.zip.\n",
            "[nltk_data] Downloading package punkt to /root/nltk_data...\n",
            "[nltk_data]   Unzipping tokenizers/punkt.zip.\n",
            "[nltk_data] Downloading package wordnet to /root/nltk_data...\n",
            "[nltk_data] Downloading package omw-1.4 to /root/nltk_data...\n",
            "[nltk_data] Downloading package wordnet to /root/nltk_data...\n",
            "[nltk_data]   Package wordnet is already up-to-date!\n",
            "/usr/local/lib/python3.9/dist-packages/torch/cuda/__init__.py:497: UserWarning: Can't initialize NVML\n",
            "  warnings.warn(\"Can't initialize NVML\")\n"
          ]
        }
      ],
      "source": [
        "# import google.cloud.dlp \n",
        "\n",
        "import pandas as pd\n",
        "import numpy as np\n",
        "import re\n",
        "import string\n",
        "import emoji\n",
        "\n",
        "import matplotlib.pyplot as plt\n",
        "import seaborn as sns\n",
        "import plotly.express as px\n",
        "\n",
        "import nltk\n",
        "nltk.download(\"stopwords\")\n",
        "nltk.download(\"punkt\")\n",
        "nltk.download(\"wordnet\")\n",
        "nltk.download(\"omw-1.4\")\n",
        "nltk.download(\"wordnet\")\n",
        "from nltk.corpus import stopwords\n",
        "from nltk.stem import WordNetLemmatizer \n",
        "import spacy\n",
        "\n",
        "from mysutils.text import remove_urls\n",
        "\n",
        "import warnings\n",
        "warnings.filterwarnings(\"ignore\")"
      ]
    },
    {
      "cell_type": "markdown",
      "metadata": {
        "id": "BumCzPcEBQjZ"
      },
      "source": [
        "### Load the data"
      ]
    },
    {
      "cell_type": "code",
      "execution_count": 5,
      "metadata": {
        "colab": {
          "base_uri": "https://localhost:8080/"
        },
        "id": "xi0OxzQ7BuMi",
        "outputId": "fa1450b6-39e8-4da4-983e-e7bc6a75fef2"
      },
      "outputs": [
        {
          "data": {
            "text/plain": [
              "(95912, 3)"
            ]
          },
          "execution_count": 5,
          "metadata": {},
          "output_type": "execute_result"
        }
      ],
      "source": [
        "df.shape"
      ]
    },
    {
      "cell_type": "code",
      "execution_count": 6,
      "metadata": {
        "colab": {
          "base_uri": "https://localhost:8080/"
        },
        "id": "OoYMnMA8Q1XJ",
        "outputId": "fdc0b956-ebae-4a2c-d61c-a5740a555cec"
      },
      "outputs": [
        {
          "data": {
            "text/plain": [
              "id        0\n",
              "descr     0\n",
              "source    0\n",
              "dtype: int64"
            ]
          },
          "execution_count": 6,
          "metadata": {},
          "output_type": "execute_result"
        }
      ],
      "source": [
        "# check for null values\n",
        "df.isnull().sum()"
      ]
    },
    {
      "cell_type": "code",
      "execution_count": 7,
      "metadata": {
        "colab": {
          "base_uri": "https://localhost:8080/"
        },
        "id": "iikSuqzCdCFn",
        "outputId": "7bce01f8-2730-4f89-c472-bb89974b71f9"
      },
      "outputs": [
        {
          "data": {
            "text/plain": [
              "WhatsApp           47976\n",
              "Phone              40691\n",
              "E-mail              5267\n",
              "Web                 1203\n",
              "Letter               413\n",
              "Twitter              289\n",
              "Telefoon              58\n",
              "Facebook              14\n",
              "Customer - Chat        1\n",
              "Name: source, dtype: int64"
            ]
          },
          "execution_count": 7,
          "metadata": {},
          "output_type": "execute_result"
        }
      ],
      "source": [
        "counts = df[\"source\"].value_counts()\n",
        "counts"
      ]
    },
    {
      "cell_type": "code",
      "execution_count": 8,
      "metadata": {
        "colab": {
          "base_uri": "https://localhost:8080/",
          "height": 301
        },
        "id": "HA1nylCt51ey",
        "outputId": "cfad17f4-40a5-4f08-d03b-2fb97b481281"
      },
      "outputs": [
        {
          "data": {
            "application/vnd.google.colaboratory.module+javascript": "\n      import \"https://ssl.gstatic.com/colaboratory/data_table/99dac6621f6ae8c4/data_table.js\";\n\n      window.createDataTable({\n        data: [[{\n            'v': 47863,\n            'f': \"47863\",\n        },\n\"Klant: Goedenavond. Regelmatig krijgen mijn hulp en ik verkeerde informatie over de aanbiedingen van Jumbo. Dan staat er iets op de app van aanbiedingen, en kijkt het personeek, als wij vragen waar het staat, niet verder dan haar neus lang is. Zo ook afgelopen woensdag met de 2 soep voor ? 4,50. Ik had onder maandaanbiedingen gekeken. Maar er werd glashard beweerd, dat de aanbieding afgelopen was. DEZE AANBIEDING LOOPT T/M 31 JANUARI!! Dat zag ik afgelopen vrijdagmiddag, toen ik zelf in de Jumbo was. Mijn hulp deed afgelopen woensdag wat boodschappen voor mij. Ze belde mij en zei dat de soep niet meer in de aanbieding was. Wilt u voortaan aan uw personeel de opdracht geven, om voortaan eerst naar de Klantenservice te gaan, alvorens uitspraken te doen, die niet kloppen? Ik heb het in dit geval over de Jumbo-supermarkt aan het Cambuurplein te Leeuwarden. Maar misschien lopen er in andere Jumbo's ook wel zulke klunzen rond!! \\ud83d\\ude21\\ud83d\\ude21 Tip: neem meer ouderen aan, en niet alleen maar van die jonkies!! Groet, Aafke Klopman.\",\n\"Facebook\"],\n [{\n            'v': 47864,\n            'f': \"47864\",\n        },\n\"Klant: Beste Jumbo, Het afgelopen jaar 2022 was de kattenbakvulling hygi\\u00ebne in februari ? 2,99 september ? 3,49 in november ? 4,99 in januari nu ? 5,49. Een flinke stijging van afgerond bijna 84% in 1 jaar!! Dus ? 2,50,- op een product wat in januari 2022 ? 2,99 was. Is 1 pak/doos kattenbakvulling straks over 2 maanden ? 7,50? Doen jullie dit met al jullie producten?? Klopt dit nog wel?? Jumbo: Hallo Lisette! We hebben een reactie vanuit onze collega`s mogen ontvangen over je eerdere vraag. Prijzen van producten zijn continu aan verandering onderhevig. Dat houdt in dat Jumbo soms de prijzen moet verhogen, maar ook zal verlagen als er ontwikkelingen zijn in de markt. Die schommelingen hebben onder meer te maken met grondstofprijsverhogingen of door wijzigingen in prijs bij de concurrentie. Dit artikel is gedurende dit jaar ook helaas in prijs gestegen, echter is het marktconform geprijsd. Fijne dag \\ud83d\\ude00^SA\",\n\"Facebook\"],\n [{\n            'v': 47865,\n            'f': \"47865\",\n        },\n\"Klant: Js hoor niet voor de eerste keer Jumbo Stede Den Haag niet open om 8 uur, service met een glimlach.ja je wordt uitgelachen in je gezicht. Wat een slechte service daar. Echt een schande. Hallo Jumbo doe daar eens wat aan.\",\n\"Facebook\"],\n [{\n            'v': 47866,\n            'f': \"47866\",\n        },\n\"Klant: Jumbo? jullie vegan steak met champignons die met de kerst te koop was, was z\\u00f3 heerlijk dat wij hem graag altijd in jullie assortiment willen zien? kan dat aub??? Veel mensen maken jullie daar blij mee\",\n\"Facebook\"],\n [{\n            'v': 47867,\n            'f': \"47867\",\n        },\n\"Klant: Oesterzwammen? \\ud83e\\udd14 Amper een zwam te bespeuren. #gebeurtzovaak #nietdeeerstekeer #oplichting #jumbosupermarkten #zoekdezwam\",\n\"Facebook\"]],\n        columns: [[\"number\", \"index\"], [\"string\", \"descr\"], [\"string\", \"source\"]],\n        columnOptions: [{\"width\": \"1px\", \"className\": \"index_column\"}],\n        rowsPerPage: 25,\n        helpUrl: \"https://colab.research.google.com/notebooks/data_table.ipynb\",\n        suppressOutputScrolling: true,\n        minimumWidth: undefined,\n      });\n    ",
            "text/html": [
              "\n",
              "  <div id=\"df-71c857aa-13c7-41fa-9ce8-1eed82d8156f\">\n",
              "    <div class=\"colab-df-container\">\n",
              "      <div>\n",
              "<style scoped>\n",
              "    .dataframe tbody tr th:only-of-type {\n",
              "        vertical-align: middle;\n",
              "    }\n",
              "\n",
              "    .dataframe tbody tr th {\n",
              "        vertical-align: top;\n",
              "    }\n",
              "\n",
              "    .dataframe thead th {\n",
              "        text-align: right;\n",
              "    }\n",
              "</style>\n",
              "<table border=\"1\" class=\"dataframe\">\n",
              "  <thead>\n",
              "    <tr style=\"text-align: right;\">\n",
              "      <th></th>\n",
              "      <th>descr</th>\n",
              "      <th>source</th>\n",
              "    </tr>\n",
              "  </thead>\n",
              "  <tbody>\n",
              "    <tr>\n",
              "      <th>47863</th>\n",
              "      <td>Klant: Goedenavond. Regelmatig krijgen mijn hu...</td>\n",
              "      <td>Facebook</td>\n",
              "    </tr>\n",
              "    <tr>\n",
              "      <th>47864</th>\n",
              "      <td>Klant: Beste Jumbo, Het afgelopen jaar 2022 wa...</td>\n",
              "      <td>Facebook</td>\n",
              "    </tr>\n",
              "    <tr>\n",
              "      <th>47865</th>\n",
              "      <td>Klant: Js hoor niet voor de eerste keer Jumbo ...</td>\n",
              "      <td>Facebook</td>\n",
              "    </tr>\n",
              "    <tr>\n",
              "      <th>47866</th>\n",
              "      <td>Klant: Jumbo? jullie vegan steak met champigno...</td>\n",
              "      <td>Facebook</td>\n",
              "    </tr>\n",
              "    <tr>\n",
              "      <th>47867</th>\n",
              "      <td>Klant: Oesterzwammen? 🤔 Amper een zwam te besp...</td>\n",
              "      <td>Facebook</td>\n",
              "    </tr>\n",
              "  </tbody>\n",
              "</table>\n",
              "</div>\n",
              "      <button class=\"colab-df-convert\" onclick=\"convertToInteractive('df-71c857aa-13c7-41fa-9ce8-1eed82d8156f')\"\n",
              "              title=\"Convert this dataframe to an interactive table.\"\n",
              "              style=\"display:none;\">\n",
              "        \n",
              "  <svg xmlns=\"http://www.w3.org/2000/svg\" height=\"24px\"viewBox=\"0 0 24 24\"\n",
              "       width=\"24px\">\n",
              "    <path d=\"M0 0h24v24H0V0z\" fill=\"none\"/>\n",
              "    <path d=\"M18.56 5.44l.94 2.06.94-2.06 2.06-.94-2.06-.94-.94-2.06-.94 2.06-2.06.94zm-11 1L8.5 8.5l.94-2.06 2.06-.94-2.06-.94L8.5 2.5l-.94 2.06-2.06.94zm10 10l.94 2.06.94-2.06 2.06-.94-2.06-.94-.94-2.06-.94 2.06-2.06.94z\"/><path d=\"M17.41 7.96l-1.37-1.37c-.4-.4-.92-.59-1.43-.59-.52 0-1.04.2-1.43.59L10.3 9.45l-7.72 7.72c-.78.78-.78 2.05 0 2.83L4 21.41c.39.39.9.59 1.41.59.51 0 1.02-.2 1.41-.59l7.78-7.78 2.81-2.81c.8-.78.8-2.07 0-2.86zM5.41 20L4 18.59l7.72-7.72 1.47 1.35L5.41 20z\"/>\n",
              "  </svg>\n",
              "      </button>\n",
              "      \n",
              "  <style>\n",
              "    .colab-df-container {\n",
              "      display:flex;\n",
              "      flex-wrap:wrap;\n",
              "      gap: 12px;\n",
              "    }\n",
              "\n",
              "    .colab-df-convert {\n",
              "      background-color: #E8F0FE;\n",
              "      border: none;\n",
              "      border-radius: 50%;\n",
              "      cursor: pointer;\n",
              "      display: none;\n",
              "      fill: #1967D2;\n",
              "      height: 32px;\n",
              "      padding: 0 0 0 0;\n",
              "      width: 32px;\n",
              "    }\n",
              "\n",
              "    .colab-df-convert:hover {\n",
              "      background-color: #E2EBFA;\n",
              "      box-shadow: 0px 1px 2px rgba(60, 64, 67, 0.3), 0px 1px 3px 1px rgba(60, 64, 67, 0.15);\n",
              "      fill: #174EA6;\n",
              "    }\n",
              "\n",
              "    [theme=dark] .colab-df-convert {\n",
              "      background-color: #3B4455;\n",
              "      fill: #D2E3FC;\n",
              "    }\n",
              "\n",
              "    [theme=dark] .colab-df-convert:hover {\n",
              "      background-color: #434B5C;\n",
              "      box-shadow: 0px 1px 3px 1px rgba(0, 0, 0, 0.15);\n",
              "      filter: drop-shadow(0px 1px 2px rgba(0, 0, 0, 0.3));\n",
              "      fill: #FFFFFF;\n",
              "    }\n",
              "  </style>\n",
              "\n",
              "      <script>\n",
              "        const buttonEl =\n",
              "          document.querySelector('#df-71c857aa-13c7-41fa-9ce8-1eed82d8156f button.colab-df-convert');\n",
              "        buttonEl.style.display =\n",
              "          google.colab.kernel.accessAllowed ? 'block' : 'none';\n",
              "\n",
              "        async function convertToInteractive(key) {\n",
              "          const element = document.querySelector('#df-71c857aa-13c7-41fa-9ce8-1eed82d8156f');\n",
              "          const dataTable =\n",
              "            await google.colab.kernel.invokeFunction('convertToInteractive',\n",
              "                                                     [key], {});\n",
              "          if (!dataTable) return;\n",
              "\n",
              "          const docLinkHtml = 'Like what you see? Visit the ' +\n",
              "            '<a target=\"_blank\" href=https://colab.research.google.com/notebooks/data_table.ipynb>data table notebook</a>'\n",
              "            + ' to learn more about interactive tables.';\n",
              "          element.innerHTML = '';\n",
              "          dataTable['output_type'] = 'display_data';\n",
              "          await google.colab.output.renderOutput(dataTable, element);\n",
              "          const docLink = document.createElement('div');\n",
              "          docLink.innerHTML = docLinkHtml;\n",
              "          element.appendChild(docLink);\n",
              "        }\n",
              "      </script>\n",
              "    </div>\n",
              "  </div>\n",
              "  "
            ],
            "text/plain": [
              "                                                   descr    source\n",
              "47863  Klant: Goedenavond. Regelmatig krijgen mijn hu...  Facebook\n",
              "47864  Klant: Beste Jumbo, Het afgelopen jaar 2022 wa...  Facebook\n",
              "47865  Klant: Js hoor niet voor de eerste keer Jumbo ...  Facebook\n",
              "47866  Klant: Jumbo? jullie vegan steak met champigno...  Facebook\n",
              "47867  Klant: Oesterzwammen? 🤔 Amper een zwam te besp...  Facebook"
            ]
          },
          "execution_count": 8,
          "metadata": {},
          "output_type": "execute_result"
        }
      ],
      "source": [
        "# check which rows are starting with the below string\n",
        "fb_cases = df[df[\"source\"].str.contains(\"Facebook\")]\n",
        "fb = fb_cases[[\"descr\", \"source\"]]\n",
        "# display the resulting DataFrame\n",
        "fb.head()"
      ]
    },
    {
      "cell_type": "code",
      "execution_count": 9,
      "metadata": {
        "colab": {
          "base_uri": "https://localhost:8080/",
          "height": 301
        },
        "id": "BbW8S79Lfuwr",
        "outputId": "5ffb908d-65fc-4e20-c6e0-288e84949653"
      },
      "outputs": [
        {
          "data": {
            "application/vnd.google.colaboratory.module+javascript": "\n      import \"https://ssl.gstatic.com/colaboratory/data_table/99dac6621f6ae8c4/data_table.js\";\n\n      window.createDataTable({\n        data: [[{\n            'v': 47935,\n            'f': \"47935\",\n        },\n\"Dag, ik had een probleem met mijn bestelling van 14/2/23 gemeld. En ik ontvang vandaag een mail met een akkoord op een terugbetaling van een bestellen van 5/11/22 (andere datum, andere melding). Denk dat er iets niet goed gaat?? Hallo Antoinette , je chat met Rubin. Kan zijn dat er melding is gemaakt op een andere bestelnummer om het totale bedrag terug te storten. Maar heb je een screenshot? Dan kan ik met je meekijken, ik hoor graag van je. Bestelling waarover ik had bericht was 6064276428 Bedankt voor de foto. Volgens het systeem is te zien dat er een fout is gemaakt met de datum.Het gaat om hetzelfde bedrag \\ud83d\\ude0a. Ik hoop je voldoende te hebben geinformeerd. Fijne avond!\",\n\"WhatsApp\"],\n [{\n            'v': 47936,\n            'f': \"47936\",\n        },\n\"Beste heer mevrouw Inmiddels zijn we 3 maanden verder en heb ik nog steeds geen race auto ontvangen. Duurt nu wel weg lang Hoop hem toch snel te ontvangen Mvg Dani\\u00eblle\",\n\"WhatsApp\"],\n [{\n            'v': 47937,\n            'f': \"47937\",\n        },\n\"Hallo, staan er voedingswaarden vermeld op de flessen wijn die u verkoopt? Hallo, je chat met Sharon. Bedankt voor je bericht. Nee, niet volledig. Je kan dit navragen in de winkel en anders kunnen wij dit voor je opzoeken. Fijne dag. \\ud83d\\ude0a Ok bedankt, jij ook een fijne dag! Groetjes Greet Dankjewel!\",\n\"WhatsApp\"],\n [{\n            'v': 47938,\n            'f': \"47938\",\n        },\n\"Bij Bestelling: 6057976661 had ik een servicecode ingevuld voor 5 euro korting tegen inlevering van 1000 punten. Deze 5,00 staat niet op de bon vermeld, is er niet getrokken terwijl deze bij het totaal verkregen korting wel is meegeteld. Laat maar, ik zie net dat het in het totaal wel te zien is. Het staat er alleen niet apart op vermeld. Oke toppie\\ud83d\\udc4d. Fijne dag.\",\n\"WhatsApp\"],\n [{\n            'v': 47939,\n            'f': \"47939\",\n        },\n\"Hi! Ik heb mijn bestelling net ontvangen. Ik had ook flessen ingeleverd (11 grote en 2 kleine) en volgens mij zijn die kosten niet verrekend. Ook zat er onder in een zak een bak kwark en zaten daardoor meerdere producten onder de kwark. Excuus, ik zie dat de flessen er af zijn gegaan! Dan zou ik alleen graag nog reactie ontvangen over de bak kwark. Hallo Irene, je chat met Sterre. Bedankt voor je bericht. Wat vervelend dat de kwark kapot is gegaan in je bestelling. Ik heb een terugbetaling voor de kwark in orde gemaakt. Het bedrag vindt je binnen zeven dagen terug op je rekening. Excuses voor het ongemak. Fijne avond! Dank! Fijn dat het zo snel geregeld is. Graag gedaan en ik wens je een fijne avond!\\ud83d\\ude0a\",\n\"WhatsApp\"]],\n        columns: [[\"number\", \"index\"], [\"string\", \"descr\"], [\"string\", \"source\"]],\n        columnOptions: [{\"width\": \"1px\", \"className\": \"index_column\"}],\n        rowsPerPage: 25,\n        helpUrl: \"https://colab.research.google.com/notebooks/data_table.ipynb\",\n        suppressOutputScrolling: true,\n        minimumWidth: undefined,\n      });\n    ",
            "text/html": [
              "\n",
              "  <div id=\"df-abca2313-c371-4338-8197-4a66d50ca92c\">\n",
              "    <div class=\"colab-df-container\">\n",
              "      <div>\n",
              "<style scoped>\n",
              "    .dataframe tbody tr th:only-of-type {\n",
              "        vertical-align: middle;\n",
              "    }\n",
              "\n",
              "    .dataframe tbody tr th {\n",
              "        vertical-align: top;\n",
              "    }\n",
              "\n",
              "    .dataframe thead th {\n",
              "        text-align: right;\n",
              "    }\n",
              "</style>\n",
              "<table border=\"1\" class=\"dataframe\">\n",
              "  <thead>\n",
              "    <tr style=\"text-align: right;\">\n",
              "      <th></th>\n",
              "      <th>descr</th>\n",
              "      <th>source</th>\n",
              "    </tr>\n",
              "  </thead>\n",
              "  <tbody>\n",
              "    <tr>\n",
              "      <th>47935</th>\n",
              "      <td>Dag, ik had een probleem met mijn bestelling v...</td>\n",
              "      <td>WhatsApp</td>\n",
              "    </tr>\n",
              "    <tr>\n",
              "      <th>47936</th>\n",
              "      <td>Beste heer mevrouw Inmiddels zijn we 3 maanden...</td>\n",
              "      <td>WhatsApp</td>\n",
              "    </tr>\n",
              "    <tr>\n",
              "      <th>47937</th>\n",
              "      <td>Hallo, staan er voedingswaarden vermeld op de ...</td>\n",
              "      <td>WhatsApp</td>\n",
              "    </tr>\n",
              "    <tr>\n",
              "      <th>47938</th>\n",
              "      <td>Bij Bestelling: 6057976661 had ik een servicec...</td>\n",
              "      <td>WhatsApp</td>\n",
              "    </tr>\n",
              "    <tr>\n",
              "      <th>47939</th>\n",
              "      <td>Hi! Ik heb mijn bestelling net ontvangen. Ik h...</td>\n",
              "      <td>WhatsApp</td>\n",
              "    </tr>\n",
              "  </tbody>\n",
              "</table>\n",
              "</div>\n",
              "      <button class=\"colab-df-convert\" onclick=\"convertToInteractive('df-abca2313-c371-4338-8197-4a66d50ca92c')\"\n",
              "              title=\"Convert this dataframe to an interactive table.\"\n",
              "              style=\"display:none;\">\n",
              "        \n",
              "  <svg xmlns=\"http://www.w3.org/2000/svg\" height=\"24px\"viewBox=\"0 0 24 24\"\n",
              "       width=\"24px\">\n",
              "    <path d=\"M0 0h24v24H0V0z\" fill=\"none\"/>\n",
              "    <path d=\"M18.56 5.44l.94 2.06.94-2.06 2.06-.94-2.06-.94-.94-2.06-.94 2.06-2.06.94zm-11 1L8.5 8.5l.94-2.06 2.06-.94-2.06-.94L8.5 2.5l-.94 2.06-2.06.94zm10 10l.94 2.06.94-2.06 2.06-.94-2.06-.94-.94-2.06-.94 2.06-2.06.94z\"/><path d=\"M17.41 7.96l-1.37-1.37c-.4-.4-.92-.59-1.43-.59-.52 0-1.04.2-1.43.59L10.3 9.45l-7.72 7.72c-.78.78-.78 2.05 0 2.83L4 21.41c.39.39.9.59 1.41.59.51 0 1.02-.2 1.41-.59l7.78-7.78 2.81-2.81c.8-.78.8-2.07 0-2.86zM5.41 20L4 18.59l7.72-7.72 1.47 1.35L5.41 20z\"/>\n",
              "  </svg>\n",
              "      </button>\n",
              "      \n",
              "  <style>\n",
              "    .colab-df-container {\n",
              "      display:flex;\n",
              "      flex-wrap:wrap;\n",
              "      gap: 12px;\n",
              "    }\n",
              "\n",
              "    .colab-df-convert {\n",
              "      background-color: #E8F0FE;\n",
              "      border: none;\n",
              "      border-radius: 50%;\n",
              "      cursor: pointer;\n",
              "      display: none;\n",
              "      fill: #1967D2;\n",
              "      height: 32px;\n",
              "      padding: 0 0 0 0;\n",
              "      width: 32px;\n",
              "    }\n",
              "\n",
              "    .colab-df-convert:hover {\n",
              "      background-color: #E2EBFA;\n",
              "      box-shadow: 0px 1px 2px rgba(60, 64, 67, 0.3), 0px 1px 3px 1px rgba(60, 64, 67, 0.15);\n",
              "      fill: #174EA6;\n",
              "    }\n",
              "\n",
              "    [theme=dark] .colab-df-convert {\n",
              "      background-color: #3B4455;\n",
              "      fill: #D2E3FC;\n",
              "    }\n",
              "\n",
              "    [theme=dark] .colab-df-convert:hover {\n",
              "      background-color: #434B5C;\n",
              "      box-shadow: 0px 1px 3px 1px rgba(0, 0, 0, 0.15);\n",
              "      filter: drop-shadow(0px 1px 2px rgba(0, 0, 0, 0.3));\n",
              "      fill: #FFFFFF;\n",
              "    }\n",
              "  </style>\n",
              "\n",
              "      <script>\n",
              "        const buttonEl =\n",
              "          document.querySelector('#df-abca2313-c371-4338-8197-4a66d50ca92c button.colab-df-convert');\n",
              "        buttonEl.style.display =\n",
              "          google.colab.kernel.accessAllowed ? 'block' : 'none';\n",
              "\n",
              "        async function convertToInteractive(key) {\n",
              "          const element = document.querySelector('#df-abca2313-c371-4338-8197-4a66d50ca92c');\n",
              "          const dataTable =\n",
              "            await google.colab.kernel.invokeFunction('convertToInteractive',\n",
              "                                                     [key], {});\n",
              "          if (!dataTable) return;\n",
              "\n",
              "          const docLinkHtml = 'Like what you see? Visit the ' +\n",
              "            '<a target=\"_blank\" href=https://colab.research.google.com/notebooks/data_table.ipynb>data table notebook</a>'\n",
              "            + ' to learn more about interactive tables.';\n",
              "          element.innerHTML = '';\n",
              "          dataTable['output_type'] = 'display_data';\n",
              "          await google.colab.output.renderOutput(dataTable, element);\n",
              "          const docLink = document.createElement('div');\n",
              "          docLink.innerHTML = docLinkHtml;\n",
              "          element.appendChild(docLink);\n",
              "        }\n",
              "      </script>\n",
              "    </div>\n",
              "  </div>\n",
              "  "
            ],
            "text/plain": [
              "                                                   descr    source\n",
              "47935  Dag, ik had een probleem met mijn bestelling v...  WhatsApp\n",
              "47936  Beste heer mevrouw Inmiddels zijn we 3 maanden...  WhatsApp\n",
              "47937  Hallo, staan er voedingswaarden vermeld op de ...  WhatsApp\n",
              "47938  Bij Bestelling: 6057976661 had ik een servicec...  WhatsApp\n",
              "47939  Hi! Ik heb mijn bestelling net ontvangen. Ik h...  WhatsApp"
            ]
          },
          "execution_count": 9,
          "metadata": {},
          "output_type": "execute_result"
        }
      ],
      "source": [
        "# @title Look into the WhatsApp data source\n",
        "\n",
        "# check which rows are starting with the below string\n",
        "whapp_cases = df[df[\"source\"].str.contains(\"WhatsApp\")]\n",
        "whapp = whapp_cases[[\"descr\", \"source\"]]\n",
        "# display the resulting DataFrame\n",
        "whapp.head()"
      ]
    },
    {
      "cell_type": "code",
      "execution_count": 10,
      "metadata": {
        "colab": {
          "base_uri": "https://localhost:8080/"
        },
        "id": "-eUnq8l7gHhp",
        "outputId": "f3768e36-fc0c-4578-dba7-af2ccaea7ed8"
      },
      "outputs": [
        {
          "data": {
            "text/plain": [
              "(47976, 2)"
            ]
          },
          "execution_count": 10,
          "metadata": {},
          "output_type": "execute_result"
        }
      ],
      "source": [
        "whapp.shape"
      ]
    },
    {
      "cell_type": "markdown",
      "metadata": {
        "id": "UcVAAJgyFnaX"
      },
      "source": [
        "## Data cleaning"
      ]
    },
    {
      "cell_type": "code",
      "execution_count": 41,
      "metadata": {
        "id": "M5o7OZjCaNf4"
      },
      "outputs": [],
      "source": [
        "import re\n",
        "import string\n",
        "\n",
        "def clean_text(text):\n",
        "\n",
        "    # lowercasing text \n",
        "    text = text.lower()\n",
        "\n",
        "    # remove special characters\n",
        "    text = re.sub(r\"[^a-zA-Z0-9\\s]\", \"\", text)\n",
        "\n",
        "    # remove punctuation\n",
        "    text = text.translate(str.maketrans(\"\", \"\", string.punctuation))\n",
        "\n",
        "    # remove emojis\n",
        "    text = \"\".join(c for c in text if c not in emoji.EMOJI_DATA)\n",
        "\n",
        "    # replace order nrs with a mask\n",
        "    text = re.sub(r\"(?<!\\d)\\d{10}(?!\\d)\", \"[ORDER_NUMBER]\", text)\n",
        "\n",
        "    # replace card nrs with a mask\n",
        "    text = re.sub(r\"(?<!\\d)\\d{13}(?!\\d)\", \"[CARD_NUMBER]\", text)\n",
        " \n",
        "    # replace phone numbers with mask\n",
        "    text = re.sub(r\"^\\(?([+]31(\\s?)|0031|0)-?6(\\s?|-)([0-9]\\s{0,3}){8}$\", \"[PHONE]\", text)\n",
        "    \n",
        "    # replace email addresses with mask\n",
        "    text = re.sub(r\"[a-zA-Z0-9._%+-]+@[a-zA-Z0-9.-]+\\.[a-zA-Z]{2,}\", \"[EMAIL]\", text)\n",
        "\n",
        "    # replace promotions with mask\n",
        "    text = re.sub(r\"1\\s*\\+\\s*1\\s*|(one\\s*)(\\[PROMO\\]\\s*|\\[PROMO\\]?\\s*gratis\\b|\\bplus\\s*one\\s*gratis\\b)\", \"[PROMO]\", text)\n",
        "\n",
        "    # replace receipt nrs with a mask\n",
        "    text = re.sub(r\"(?<!\\d)\\d{20}(?!\\d)\", \"[RECEIPT_NUMBER]\", text)\n",
        "\n",
        "    # remove URLs\n",
        "    text = re.sub(r\"https?://\\S+|www\\.\\S+\", \"\", text)\n",
        "\n",
        "    # remove extra whitespace\n",
        "    # text = re.sub(r\"\\s+\", \" \", text).strip()\n",
        "\n",
        "    # remove numbers\n",
        "    text = re.sub(r\"\\d+\", \"\", text)\n",
        "\n",
        "    return text"
      ]
    },
    {
      "cell_type": "code",
      "execution_count": 12,
      "metadata": {
        "id": "bY1pT4v8rE6S"
      },
      "outputs": [],
      "source": [
        "whapp[\"clean_descr\"] = whapp[\"descr\"].apply(clean_text)"
      ]
    },
    {
      "cell_type": "code",
      "execution_count": 13,
      "metadata": {
        "colab": {
          "base_uri": "https://localhost:8080/"
        },
        "id": "s8GyjZUdrbGj",
        "outputId": "8cb0abea-788a-42f0-c6d1-67b1ef84979a"
      },
      "outputs": [
        {
          "data": {
            "text/plain": [
              "47935    dag ik had een probleem met mijn bestelling va...\n",
              "47936    beste heer mevrouw inmiddels zijn we  maanden ...\n",
              "47937    hallo staan er voedingswaarden vermeld op de f...\n",
              "47938    bij bestelling [ORDER_NUMBER] had ik een servi...\n",
              "47939    hi ik heb mijn bestelling net ontvangen ik had...\n",
              "                               ...                        \n",
              "95906    welkom bij jumbo druk op verzenden om je gespr...\n",
              "95907    mijn zoekfunctie doet het niet meer in de app ...\n",
              "95908    kl vraagt hoe laat bz komtgoedenavond hoe lang...\n",
              "95909    beste kunt u mij vertellen wat de status van m...\n",
              "95910    hoi mijn bestelling komt elk moment echter doe...\n",
              "Name: clean_descr, Length: 47976, dtype: object"
            ]
          },
          "execution_count": 13,
          "metadata": {},
          "output_type": "execute_result"
        }
      ],
      "source": [
        "whapp[\"clean_descr\"]"
      ]
    },
    {
      "cell_type": "markdown",
      "metadata": {
        "id": "D-gprAC3ejCd"
      },
      "source": [
        "## Removing stop words"
      ]
    },
    {
      "cell_type": "code",
      "execution_count": 14,
      "metadata": {
        "id": "XTC-1vx3jxWY"
      },
      "outputs": [],
      "source": [
        "# add custom words to the stopwords list\n",
        "custom_stopwords = [\"je chat met\", \"you are chatting with\", \"your chat with\", \"bedol je\", \"hello this is\", \"you are chatting with\", \"je spreekt met\", \"hello\", \"hallo\", \"kl\", \"bz\"]"
      ]
    },
    {
      "cell_type": "code",
      "execution_count": 15,
      "metadata": {
        "id": "sDaLQO_meix0"
      },
      "outputs": [],
      "source": [
        "def remove_stopwords(text):\n",
        "  \n",
        "  # load the default stopwords list from NLTK for Dutch, German and English and add custom stopwords\n",
        "    stop_words = set(stopwords.words(\"dutch\")).union(set(stopwords.words(\"english\"))).union(custom_stopwords)\n",
        "    tokens = nltk.word_tokenize(text)\n",
        "    filtered_tokens = [token for token in tokens if token.lower() not in stop_words]\n",
        "    \n",
        "    if len(filtered_tokens) > 1:\n",
        "        masked_text = \" \".join(filtered_tokens)\n",
        "        masked_text = masked_text.replace(\"[ \", \"[\")\n",
        "        masked_text = masked_text.replace(\" ]\", \"]\")\n",
        "        return masked_text\n",
        "    else:\n",
        "        return None"
      ]
    },
    {
      "cell_type": "code",
      "execution_count": 16,
      "metadata": {
        "id": "Y8FtfjaekO7Q"
      },
      "outputs": [],
      "source": [
        "# apply the function to each text in your data\n",
        "whapp[\"stopw_descr\"] = whapp[\"clean_descr\"].apply(remove_stopwords)"
      ]
    },
    {
      "cell_type": "code",
      "execution_count": 17,
      "metadata": {
        "colab": {
          "base_uri": "https://localhost:8080/",
          "height": 91
        },
        "id": "BHV12otrlmpa",
        "outputId": "9852837f-6af9-4328-f506-4e45941ce101"
      },
      "outputs": [
        {
          "data": {
            "application/vnd.google.colaboratory.intrinsic+json": {
              "type": "string"
            },
            "text/plain": [
              "'Dag, ik had een probleem met mijn bestelling van 14/2/23 gemeld. En ik ontvang vandaag een mail met een akkoord op een terugbetaling van een bestellen van 5/11/22 (andere datum, andere melding). Denk dat er iets niet goed gaat?? Hallo Antoinette , je chat met Rubin. Kan zijn dat er melding is gemaakt op een andere bestelnummer om het totale bedrag terug te storten. Maar heb je een screenshot? Dan kan ik met je meekijken, ik hoor graag van je. Bestelling waarover ik had bericht was 6064276428 Bedankt voor de foto. Volgens het systeem is te zien dat er een fout is gemaakt met de datum.Het gaat om hetzelfde bedrag 😊. Ik hoop je voldoende te hebben geinformeerd. Fijne avond!'"
            ]
          },
          "execution_count": 17,
          "metadata": {},
          "output_type": "execute_result"
        }
      ],
      "source": [
        "whapp[\"descr\"][47935]"
      ]
    },
    {
      "cell_type": "code",
      "execution_count": 18,
      "metadata": {
        "colab": {
          "base_uri": "https://localhost:8080/",
          "height": 55
        },
        "id": "2ab43JaKlLmz",
        "outputId": "bc2da0eb-64af-479e-c9ce-36f28a7bd9c7"
      },
      "outputs": [
        {
          "data": {
            "application/vnd.google.colaboratory.intrinsic+json": {
              "type": "string"
            },
            "text/plain": [
              "'dag probleem bestelling gemeld ontvang vandaag mail akkoord terugbetaling bestellen datum melding denk goed gaat antoinette chat rubin melding gemaakt bestelnummer totale bedrag terug storten screenshot meekijken hoor graag bestelling waarover bericht [ORDER_NUMBER] bedankt foto volgens systeem zien fout gemaakt datumhet gaat hetzelfde bedrag hoop voldoende geinformeerd fijne avond'"
            ]
          },
          "execution_count": 18,
          "metadata": {},
          "output_type": "execute_result"
        }
      ],
      "source": [
        "whapp[\"stopw_descr\"][47935]"
      ]
    },
    {
      "cell_type": "code",
      "execution_count": 19,
      "metadata": {
        "colab": {
          "base_uri": "https://localhost:8080/",
          "height": 55
        },
        "id": "D-by63ZDYLMG",
        "outputId": "c4ba5003-7696-4988-fd69-f54bd5e8536e"
      },
      "outputs": [
        {
          "data": {
            "application/vnd.google.colaboratory.intrinsic+json": {
              "type": "string"
            },
            "text/plain": [
              "'vraagt laat komtgoedenavond lang wachten bestellen enduseroptedin berichten chat gesprekken zullen bewaard zodat jumbo beantwoorden rosanna chat grace zie bestelling gister bezorgd excuses late reactie wens fijne avond'"
            ]
          },
          "execution_count": 19,
          "metadata": {},
          "output_type": "execute_result"
        }
      ],
      "source": [
        "whapp[\"stopw_descr\"][95908]"
      ]
    },
    {
      "cell_type": "markdown",
      "metadata": {
        "id": "wLBxW-g6l0dM"
      },
      "source": [
        "## Lemmatize words"
      ]
    },
    {
      "cell_type": "code",
      "execution_count": 20,
      "metadata": {
        "id": "owhDC6Kel0F9"
      },
      "outputs": [],
      "source": [
        "nlp_nl = spacy.load(\"nl_core_news_sm\")\n",
        "nlp_en = spacy.load(\"en_core_web_sm\")\n",
        "\n",
        "def lemmatize_text(text, lang=\"nl\"):\n",
        "    if lang == \"nl\":\n",
        "        nlp = nlp_nl\n",
        "    elif lang == \"en\":\n",
        "        nlp = nlp_en\n",
        "    else:\n",
        "        raise ValueError(f\"Unsupported language: {lang}\")\n",
        "\n",
        "    doc = nlp(text)\n",
        "    lemmatized_tokens = [token.lemma_.lower() for token in doc]    \n",
        "\n",
        "    return \" \".join(lemmatized_tokens)"
      ]
    },
    {
      "cell_type": "code",
      "execution_count": 52,
      "metadata": {
        "colab": {
          "base_uri": "https://localhost:8080/"
        },
        "id": "yY-hPWkjilis",
        "outputId": "9667c2d3-60e2-4645-e38f-7172a19d3d75"
      },
      "outputs": [
        {
          "name": "stdout",
          "output_type": "stream",
          "text": [
            "het zijn een zin\n"
          ]
        }
      ],
      "source": [
        "print(lemmatize_text(\"het is een zin\"))"
      ]
    },
    {
      "cell_type": "code",
      "execution_count": 34,
      "metadata": {
        "id": "Iu3jStStjyW4"
      },
      "outputs": [],
      "source": [
        "whapp[\"lemmatized\"] = whapp[\"stopw\"].apply(lambda x: lemmatize_text(x))"
      ]
    },
    {
      "cell_type": "code",
      "execution_count": 35,
      "metadata": {
        "colab": {
          "base_uri": "https://localhost:8080/"
        },
        "id": "jc57Xb2ypNmG",
        "outputId": "dbfc35b1-5130-494e-d2bb-353f5a91df4b"
      },
      "outputs": [
        {
          "data": {
            "text/plain": [
              "47935    dag probleem bestelling melden ontvang vandaag...\n",
              "47936    goed heer mevrouw inmiddels maand ver steeds r...\n",
              "47937    staan voedingswaarden vermelden fles wijn verk...\n",
              "47938    bestelling [ order_number ] servicecode invull...\n",
              "47939    hi bestelling net ontvangen fles inleveren gro...\n",
              "                               ...                        \n",
              "95906    welkom jumbo druk verzend gesprek starten endu...\n",
              "95907    zoekfunctie doen app zowel mobiel tablet beide...\n",
              "95908    vragen laat komtgoedenavinden lang wachten bes...\n",
              "95909    goed kunnen vertellen status klacht alvast bed...\n",
              "95910    hoi bestelling komen elk moment echter doen be...\n",
              "Name: lemmatized, Length: 47856, dtype: object"
            ]
          },
          "execution_count": 35,
          "metadata": {},
          "output_type": "execute_result"
        }
      ],
      "source": [
        "whapp[\"lemmatized\"]"
      ]
    },
    {
      "cell_type": "code",
      "execution_count": 36,
      "metadata": {
        "id": "TcuMIkfnr5pf"
      },
      "outputs": [],
      "source": [
        "# apply the function to lemmatize the text\n",
        "# whapp[\"lemmatized\"] = whapp[\"stopw\"].apply(lemmatize_text)"
      ]
    },
    {
      "cell_type": "code",
      "execution_count": 37,
      "metadata": {
        "colab": {
          "base_uri": "https://localhost:8080/"
        },
        "id": "W0fAwvxubu5B",
        "outputId": "bca5d67b-2953-4021-83a8-5b2eabf61554"
      },
      "outputs": [
        {
          "data": {
            "text/plain": [
              "descr          object\n",
              "source         object\n",
              "clean_descr    object\n",
              "stopw_descr    object\n",
              "stopw          string\n",
              "lemmatized     object\n",
              "dtype: object"
            ]
          },
          "execution_count": 37,
          "metadata": {},
          "output_type": "execute_result"
        }
      ],
      "source": [
        "whapp.dtypes"
      ]
    },
    {
      "cell_type": "code",
      "execution_count": 29,
      "metadata": {
        "id": "ih4ZB3sIb0N4"
      },
      "outputs": [],
      "source": [
        "whapp[\"stopw\"] = whapp[\"stopw_descr\"]"
      ]
    },
    {
      "cell_type": "code",
      "execution_count": 30,
      "metadata": {
        "id": "bWFDBAB7b7ZR"
      },
      "outputs": [],
      "source": [
        "whapp[\"stopw\"] = whapp[\"stopw\"].astype(\"string\")"
      ]
    },
    {
      "cell_type": "code",
      "execution_count": 38,
      "metadata": {
        "colab": {
          "base_uri": "https://localhost:8080/"
        },
        "id": "jz1XXu8ocYyx",
        "outputId": "ebfb68a8-02bc-4d87-fdfe-5e24b8c94b79"
      },
      "outputs": [
        {
          "data": {
            "text/plain": [
              "descr          0\n",
              "source         0\n",
              "clean_descr    0\n",
              "stopw_descr    0\n",
              "stopw          0\n",
              "lemmatized     0\n",
              "dtype: int64"
            ]
          },
          "execution_count": 38,
          "metadata": {},
          "output_type": "execute_result"
        }
      ],
      "source": [
        "whapp.isnull().sum()"
      ]
    },
    {
      "cell_type": "code",
      "execution_count": 25,
      "metadata": {
        "id": "CiZxb5pYclgT"
      },
      "outputs": [],
      "source": [
        "# drop the nan values\n",
        "whapp.dropna(subset=[\"stopw_descr\"], inplace=True)"
      ]
    },
    {
      "cell_type": "code",
      "execution_count": 37,
      "metadata": {
        "colab": {
          "base_uri": "https://localhost:8080/",
          "height": 55
        },
        "id": "hjaUcZLDfcyB",
        "outputId": "8b438047-4169-4fb9-a3d6-7a5a188cb45b"
      },
      "outputs": [
        {
          "data": {
            "application/vnd.google.colaboratory.intrinsic+json": {
              "type": "string"
            },
            "text/plain": [
              "'vraagt laat komtgoedenavond lang wachten bestellen enduseroptedin berichten chat gesprekken zullen bewaard zodat jumbo beantwoorden rosanna chat grace zie bestelling gister bezorgd excuses late reactie wens fijne avond'"
            ]
          },
          "execution_count": 37,
          "metadata": {},
          "output_type": "execute_result"
        }
      ],
      "source": [
        "whapp[\"stopw_descr\"][95908]"
      ]
    },
    {
      "cell_type": "code",
      "execution_count": 36,
      "metadata": {
        "colab": {
          "base_uri": "https://localhost:8080/",
          "height": 55
        },
        "id": "o7vsqeGZfU3W",
        "outputId": "ff864834-3fab-45a9-842a-6d1f5e58b575"
      },
      "outputs": [
        {
          "data": {
            "application/vnd.google.colaboratory.intrinsic+json": {
              "type": "string"
            },
            "text/plain": [
              "'vraagt laat komtgoedenavond lang wachten bestellen enduseroptedin berichten chat gesprekken zullen bewaard zodat jumbo beantwoorden rosanna chat grace zie bestelling gister bezorgd excuse late reactie wen fijne avond'"
            ]
          },
          "execution_count": 36,
          "metadata": {},
          "output_type": "execute_result"
        }
      ],
      "source": [
        "whapp[\"lemmatized\"][95908]"
      ]
    },
    {
      "cell_type": "code",
      "execution_count": 40,
      "metadata": {
        "colab": {
          "base_uri": "https://localhost:8080/",
          "height": 55
        },
        "id": "HTLuXA_BoxWe",
        "outputId": "b499d288-6088-479f-91b0-cbe8f331471c"
      },
      "outputs": [
        {
          "data": {
            "application/vnd.google.colaboratory.intrinsic+json": {
              "type": "string"
            },
            "text/plain": [
              "'dag probleem bestelling gemeld ontvang vandaag mail akkoord terugbetaling bestellen datum melding denk goed gaat antoinette chat rubin melding gemaakt bestelnummer totale bedrag terug storten screenshot meekijken hoor graag bestelling waarover bericht [ORDER_NUMBER] bedankt foto volgens systeem zien fout gemaakt datumhet gaat hetzelfde bedrag hoop voldoende geinformeerd fijne avond'"
            ]
          },
          "execution_count": 40,
          "metadata": {},
          "output_type": "execute_result"
        }
      ],
      "source": [
        "whapp[\"stopw_descr\"][47935]"
      ]
    },
    {
      "cell_type": "code",
      "execution_count": 39,
      "metadata": {
        "colab": {
          "base_uri": "https://localhost:8080/",
          "height": 55
        },
        "id": "t4FGQsmOoraV",
        "outputId": "7fb35c91-90cd-41ed-fbc8-758687068be7"
      },
      "outputs": [
        {
          "data": {
            "application/vnd.google.colaboratory.intrinsic+json": {
              "type": "string"
            },
            "text/plain": [
              "'dag probleem bestelling melden ontvang vandaag mail akkoord terugbetaling bestellen datum melding denken goed gaan antoinett chat rubin melding maken bestelnummer totaal bedrag terug storten screenshot meekijk hoor graag bestelling waarover bericht [ order_number ] bedanken foto volgens systeem zien fout maken datumhet gaan hetzelfde bedrag hoop voldoende informeren fijn avond'"
            ]
          },
          "execution_count": 39,
          "metadata": {},
          "output_type": "execute_result"
        }
      ],
      "source": [
        "whapp[\"lemmatized\"][47935]"
      ]
    },
    {
      "cell_type": "code",
      "execution_count": 42,
      "metadata": {
        "id": "c8zUG0LByr8O"
      },
      "outputs": [],
      "source": [
        "# fix the masks after lemmatizing e.g. [ oder_number ] back to -> [ORDER_NUMBER]\n",
        "def replace_masks(text):\n",
        "    text = re.sub(r\"\\[\\s*order\\_number+\\s*\\]\", \"[ORDER_NUMBER]\", text)\n",
        "    text = re.sub(r\"\\[\\s*card\\_number+\\s*\\]\", \"[CARD_NUMBER]\", text)\n",
        "    text = re.sub(r\"\\[\\s*phone\\s*\\]\", \"[PHONE]\", text)\n",
        "    text = re.sub(r\"\\[\\s*email\\s*\\]\", \"[EMAIL]\", text)\n",
        "    text = re.sub(r\"\\[\\s*promo\\s*\\]\", \"[PROMO]\", text)\n",
        "    text = re.sub(r\"\\[\\s*receipt\\_number+\\s*\\]\", \"[RECEIPT_NUMBER]\", text)\n",
        "    \n",
        "    return text"
      ]
    },
    {
      "cell_type": "code",
      "execution_count": 43,
      "metadata": {
        "id": "7vAseTnuzglz"
      },
      "outputs": [],
      "source": [
        "whapp[\"lemmatized\"] = whapp[\"lemmatized\"].apply(replace_masks)"
      ]
    },
    {
      "cell_type": "code",
      "execution_count": 44,
      "metadata": {
        "colab": {
          "base_uri": "https://localhost:8080/"
        },
        "id": "zTNvCsJzzphI",
        "outputId": "650eacb2-dad0-445f-bd42-ed8b770bf566"
      },
      "outputs": [
        {
          "data": {
            "text/plain": [
              "47935    dag probleem bestelling melden ontvang vandaag...\n",
              "47936    goed heer mevrouw inmiddels maand ver steeds r...\n",
              "47937    staan voedingswaarden vermelden fles wijn verk...\n",
              "47938    bestelling [ORDER_NUMBER] servicecode invullen...\n",
              "47939    hi bestelling net ontvangen fles inleveren gro...\n",
              "                               ...                        \n",
              "95906    welkom jumbo druk verzend gesprek starten endu...\n",
              "95907    zoekfunctie doen app zowel mobiel tablet beide...\n",
              "95908    vragen laat komtgoedenavinden lang wachten bes...\n",
              "95909    goed kunnen vertellen status klacht alvast bed...\n",
              "95910    hoi bestelling komen elk moment echter doen be...\n",
              "Name: lemmatized, Length: 47856, dtype: object"
            ]
          },
          "execution_count": 44,
          "metadata": {},
          "output_type": "execute_result"
        }
      ],
      "source": [
        "whapp[\"lemmatized\"]"
      ]
    }
  ],
  "metadata": {
    "colab": {
      "authorship_tag": "ABX9TyOPYWKyEnSS4rxZLUSk72av",
      "include_colab_link": true,
      "provenance": []
    },
    "kernelspec": {
      "display_name": ".venv",
      "language": "python",
      "name": "python3"
    },
    "language_info": {
      "codemirror_mode": {
        "name": "ipython",
        "version": 3
      },
      "file_extension": ".py",
      "mimetype": "text/x-python",
      "name": "python",
      "nbconvert_exporter": "python",
      "pygments_lexer": "ipython3",
      "version": "3.10.4"
    },
    "vscode": {
      "interpreter": {
        "hash": "d5ec8887bbc94fe5db422128c6c2f2fb31508518f64d564225ee2e596981f4f3"
      }
    }
  },
  "nbformat": 4,
  "nbformat_minor": 0
}
