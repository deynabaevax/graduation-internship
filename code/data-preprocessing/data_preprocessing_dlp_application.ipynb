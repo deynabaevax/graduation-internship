{
  "nbformat": 4,
  "nbformat_minor": 0,
  "metadata": {
    "colab": {
      "provenance": [],
      "collapsed_sections": [
        "KzowtHoJazwx",
        "zKzm3MYgmQbv"
      ],
      "machine_shape": "hm"
    },
    "kernelspec": {
      "name": "python3",
      "display_name": "Python 3"
    },
    "language_info": {
      "name": "python"
    },
    "gpuClass": "standard"
  },
  "cells": [
    {
      "cell_type": "code",
      "source": [
        "from google.colab import drive\n",
        "drive.mount('/content/drive')"
      ],
      "metadata": {
        "id": "uxq2FlHWX3Nf",
        "colab": {
          "base_uri": "https://localhost:8080/"
        },
        "outputId": "bd7286d0-8828-48b4-ad35-e54dafece71d"
      },
      "execution_count": 1,
      "outputs": [
        {
          "output_type": "stream",
          "name": "stdout",
          "text": [
            "Mounted at /content/drive\n"
          ]
        }
      ]
    },
    {
      "cell_type": "code",
      "source": [
        "# @title Setup\n",
        "from google.colab import auth\n",
        "from google.cloud import bigquery\n",
        "from google.colab import data_table\n",
        "\n",
        "project_id = \"conv-topic-modelling\" # Project ID inserted based on the query results selected to explore\n",
        "location_id = \"EU\" # Location inserted based on the query results selected to explore\n",
        "client = bigquery.Client(project=project_id, location=location_id)\n",
        "data_table.enable_dataframe_formatter()\n",
        "auth.authenticate_user()"
      ],
      "metadata": {
        "id": "ghilhKlUeZ_4"
      },
      "execution_count": null,
      "outputs": []
    },
    {
      "cell_type": "code",
      "source": [
        "# @title Running this code will read results from your previous job\n",
        "\n",
        "job = client.get_job(\"bquxjob_6c58016b_188b3aefa14\") # Job ID inserted based on the query results selected to explore\n",
        "df = job.to_dataframe()"
      ],
      "metadata": {
        "id": "wTGIFdQEfHbI"
      },
      "execution_count": null,
      "outputs": []
    },
    {
      "cell_type": "code",
      "source": [
        "import locale\n",
        "locale.getpreferredencoding = lambda: \"UTF-8\""
      ],
      "metadata": {
        "id": "b2ZDj9Whn0Ig"
      },
      "execution_count": null,
      "outputs": []
    },
    {
      "cell_type": "code",
      "execution_count": 2,
      "metadata": {
        "id": "O6Y4nQZU_6AR"
      },
      "outputs": [],
      "source": [
        "!pip install google-cloud-dlp\n",
        "!pip install emoji\n",
        "!pip install mysmallutils\n",
        "!pip install clean-text\n",
        "\n",
        "!python -m spacy download nl_core_news_sm\n",
        "# !python -m spacy download nl_core_news_md\n",
        "!python -m spacy download en_core_web_sm \n",
        "# !python -m spacy download de_core_news_sm"
      ]
    },
    {
      "cell_type": "markdown",
      "source": [
        "# Data Preprocessing"
      ],
      "metadata": {
        "id": "o2RTCJ22A9FN"
      }
    },
    {
      "cell_type": "markdown",
      "source": [
        "### Import the libraries"
      ],
      "metadata": {
        "id": "GUGDbkyBBFeK"
      }
    },
    {
      "cell_type": "code",
      "source": [
        "import pandas as pd\n",
        "import numpy as np\n",
        "import re\n",
        "import string\n",
        "import emoji\n",
        "\n",
        "import matplotlib.pyplot as plt\n",
        "import seaborn as sns\n",
        "\n",
        "import nltk\n",
        "nltk.download(\"stopwords\")\n",
        "nltk.download(\"punkt\")\n",
        "nltk.download(\"wordnet\")\n",
        "nltk.download(\"omw-1.4\")\n",
        "nltk.download(\"wordnet\")\n",
        "nltk.download(\"averaged_perceptron_tagger\")\n",
        "from nltk.corpus import stopwords\n",
        "from nltk.stem import WordNetLemmatizer \n",
        "import spacy\n",
        "\n",
        "from mysutils.text import remove_urls\n",
        "\n",
        "# Import the client library\n",
        "# import google.cloud.dlp \n",
        "\n",
        "import warnings\n",
        "warnings.filterwarnings(\"ignore\")"
      ],
      "metadata": {
        "id": "-BnVKZsmA--X",
        "colab": {
          "base_uri": "https://localhost:8080/"
        },
        "outputId": "20e8f689-b286-477b-dd85-6851680a2de3"
      },
      "execution_count": 3,
      "outputs": [
        {
          "output_type": "stream",
          "name": "stderr",
          "text": [
            "[nltk_data] Downloading package stopwords to /root/nltk_data...\n",
            "[nltk_data]   Unzipping corpora/stopwords.zip.\n",
            "[nltk_data] Downloading package punkt to /root/nltk_data...\n",
            "[nltk_data]   Unzipping tokenizers/punkt.zip.\n",
            "[nltk_data] Downloading package wordnet to /root/nltk_data...\n",
            "[nltk_data] Downloading package omw-1.4 to /root/nltk_data...\n",
            "[nltk_data] Downloading package wordnet to /root/nltk_data...\n",
            "[nltk_data]   Package wordnet is already up-to-date!\n",
            "[nltk_data] Downloading package averaged_perceptron_tagger to\n",
            "[nltk_data]     /root/nltk_data...\n",
            "[nltk_data]   Unzipping taggers/averaged_perceptron_tagger.zip.\n"
          ]
        }
      ]
    },
    {
      "cell_type": "code",
      "source": [
        "df = pd.read_csv(\"/content/drive/MyDrive/test-data/bquxjob_305438ce_tijdschrift.csv\")"
      ],
      "metadata": {
        "id": "tCZo83THtMP1"
      },
      "execution_count": 37,
      "outputs": []
    },
    {
      "cell_type": "code",
      "source": [
        "df = pd.read_csv(\"/content/drive/MyDrive/datasets/downloaded-data/combined_df.csv\")"
      ],
      "metadata": {
        "id": "KK8SOi--wKR_"
      },
      "execution_count": 38,
      "outputs": []
    },
    {
      "cell_type": "markdown",
      "source": [
        "### Load the data"
      ],
      "metadata": {
        "id": "BumCzPcEBQjZ"
      }
    },
    {
      "cell_type": "code",
      "source": [
        "df.shape"
      ],
      "metadata": {
        "colab": {
          "base_uri": "https://localhost:8080/"
        },
        "id": "xi0OxzQ7BuMi",
        "outputId": "9c5e110a-5db0-4c5a-9f4f-601c8d65a9f0"
      },
      "execution_count": 40,
      "outputs": [
        {
          "output_type": "execute_result",
          "data": {
            "text/plain": [
              "(75814, 20)"
            ]
          },
          "metadata": {},
          "execution_count": 40
        }
      ]
    },
    {
      "cell_type": "code",
      "source": [
        "# check for null values\n",
        "df.isnull().sum()"
      ],
      "metadata": {
        "id": "OoYMnMA8Q1XJ",
        "colab": {
          "base_uri": "https://localhost:8080/"
        },
        "outputId": "97db8b79-8825-4db2-8137-9193218479b7"
      },
      "execution_count": 41,
      "outputs": [
        {
          "output_type": "execute_result",
          "data": {
            "text/plain": [
              "Unnamed: 0               0\n",
              "session_id             302\n",
              "query                    0\n",
              "intent                   0\n",
              "page_funnel              0\n",
              "responses              302\n",
              "fallback               302\n",
              "fallback_funnel      70454\n",
              "feedback             75130\n",
              "first_intent           302\n",
              "fulfillment_error      302\n",
              "source                 302\n",
              "origin               75814\n",
              "preferences_shown    43187\n",
              "preference_picked    37973\n",
              "products_shown         302\n",
              "product_clicked      70304\n",
              "timestamp              302\n",
              "session_duration     56779\n",
              "isTestMessage          302\n",
              "dtype: int64"
            ]
          },
          "metadata": {},
          "execution_count": 41
        }
      ]
    },
    {
      "cell_type": "code",
      "source": [
        "df.shape"
      ],
      "metadata": {
        "colab": {
          "base_uri": "https://localhost:8080/"
        },
        "id": "4rm-z1YfuD3V",
        "outputId": "16d60821-b87b-49dd-f17b-fbfe77f128fd"
      },
      "execution_count": 42,
      "outputs": [
        {
          "output_type": "execute_result",
          "data": {
            "text/plain": [
              "(75814, 20)"
            ]
          },
          "metadata": {},
          "execution_count": 42
        }
      ]
    },
    {
      "cell_type": "code",
      "source": [
        "df"
      ],
      "metadata": {
        "colab": {
          "base_uri": "https://localhost:8080/",
          "height": 939
        },
        "id": "b_eVE8HTwUPs",
        "outputId": "f05919de-b3e4-479d-d232-1526d2347e51"
      },
      "execution_count": 43,
      "outputs": [
        {
          "output_type": "execute_result",
          "data": {
            "text/plain": [
              "       Unnamed: 0                            session_id  \\\n",
              "0               0  b4f10369-b2f4-4563-8133-0cc7bcaeb2e4   \n",
              "1               1  99c92c26-cdfc-425e-b0a9-649f93c9cc2b   \n",
              "2               2  99c92c26-cdfc-425e-b0a9-649f93c9cc2b   \n",
              "3               3  965900e2-f1a3-4106-94a3-b76ef5ad86b1   \n",
              "4               4  33bbbc4d-f1eb-40b4-be85-08de9ed4193b   \n",
              "...           ...                                   ...   \n",
              "75809         297                                   NaN   \n",
              "75810         298                                   NaN   \n",
              "75811         299                                   NaN   \n",
              "75812         300                                   NaN   \n",
              "75813         301                                   NaN   \n",
              "\n",
              "                                                   query       intent  \\\n",
              "0      ons abobbement lijkt afgesloten terwijl we wel...   faq.thanks   \n",
              "1                                       Ik ga wel bellen   faq.thanks   \n",
              "2                                       Ik ga wel bellen   faq.thanks   \n",
              "3                                                Dank je   faq.thanks   \n",
              "4      Is mijn bestelling bekend bij jullie? Betaling...   faq.thanks   \n",
              "...                                                  ...          ...   \n",
              "75809                            Hoe werkt een proefrit?  faq.werking   \n",
              "75810                                        Volkswagen      Fallback   \n",
              "75811                            Hoe werkt een proefrit?  faq.werking   \n",
              "75812                   Zijn er regels bij een proefrit?   faq.regels   \n",
              "75813                            Hoe werkt een proefrit?  faq.werking   \n",
              "\n",
              "                                       page_funnel          responses  \\\n",
              "0                                  ['Else' 'Else']  ['Graag gedaan!']   \n",
              "1                                  ['Else' 'Else']  ['Graag gedaan!']   \n",
              "2                                  ['Else' 'Else']  ['Graag gedaan!']   \n",
              "3                                  ['Else' 'Else']  ['Graag gedaan!']   \n",
              "4                            ['Welcome' 'Welcome']  ['Graag gedaan!']   \n",
              "...                                            ...                ...   \n",
              "75809  ['Welcome Route Suggestions' 'FAQ werking']                NaN   \n",
              "75810                              ['FAQ werking']                NaN   \n",
              "75811  ['Welcome Route Suggestions' 'FAQ werking']                NaN   \n",
              "75812                 ['FAQ werking' 'FAQ regels']                NaN   \n",
              "75813  ['Welcome Route Suggestions' 'FAQ werking']                NaN   \n",
              "\n",
              "      fallback fallback_funnel  feedback first_intent fulfillment_error  \\\n",
              "0        False             NaN       NaN        False                []   \n",
              "1        False             NaN       NaN        False                []   \n",
              "2        False             NaN       NaN        False                []   \n",
              "3        False             NaN       NaN        False                []   \n",
              "4        False             NaN       NaN         True                []   \n",
              "...        ...             ...       ...          ...               ...   \n",
              "75809      NaN             NaN       NaN          NaN               NaN   \n",
              "75810      NaN             NaN       NaN          NaN               NaN   \n",
              "75811      NaN             NaN       NaN          NaN               NaN   \n",
              "75812      NaN             NaN       NaN          NaN               NaN   \n",
              "75813      NaN             NaN       NaN          NaN               NaN   \n",
              "\n",
              "                  source  origin preferences_shown preference_picked  \\\n",
              "0      ACTIONS_ON_GOOGLE     NaN               NaN               NaN   \n",
              "1      ACTIONS_ON_GOOGLE     NaN               NaN               NaN   \n",
              "2      ACTIONS_ON_GOOGLE     NaN               NaN               NaN   \n",
              "3      ACTIONS_ON_GOOGLE     NaN               NaN               NaN   \n",
              "4      ACTIONS_ON_GOOGLE     NaN               NaN               NaN   \n",
              "...                  ...     ...               ...               ...   \n",
              "75809                NaN     NaN               NaN               NaN   \n",
              "75810                NaN     NaN               NaN               NaN   \n",
              "75811                NaN     NaN               NaN               NaN   \n",
              "75812                NaN     NaN               NaN               NaN   \n",
              "75813                NaN     NaN               NaN               NaN   \n",
              "\n",
              "      products_shown product_clicked                         timestamp  \\\n",
              "0                 []             NaN  2022-02-21 07:23:32.446993+00:00   \n",
              "1                 []             NaN  2022-03-03 08:00:51.074421+00:00   \n",
              "2                 []             NaN  2022-03-03 08:00:51.074421+00:00   \n",
              "3                 []             NaN  2021-12-16 07:59:45.233663+00:00   \n",
              "4                 []             NaN  2021-12-20 11:58:49.831912+00:00   \n",
              "...              ...             ...                               ...   \n",
              "75809            NaN             NaN                               NaN   \n",
              "75810            NaN             NaN                               NaN   \n",
              "75811            NaN             NaN                               NaN   \n",
              "75812            NaN             NaN                               NaN   \n",
              "75813            NaN             NaN                               NaN   \n",
              "\n",
              "       session_duration isTestMessage  \n",
              "0                   NaN         False  \n",
              "1                 140.0         False  \n",
              "2                 140.0         False  \n",
              "3                 105.0         False  \n",
              "4                   NaN         False  \n",
              "...                 ...           ...  \n",
              "75809               NaN           NaN  \n",
              "75810               NaN           NaN  \n",
              "75811               NaN           NaN  \n",
              "75812               NaN           NaN  \n",
              "75813               NaN           NaN  \n",
              "\n",
              "[75814 rows x 20 columns]"
            ],
            "text/html": [
              "\n",
              "  <div id=\"df-8e948cc8-7024-4281-be4b-3bcf2e7be27f\">\n",
              "    <div class=\"colab-df-container\">\n",
              "      <div>\n",
              "<style scoped>\n",
              "    .dataframe tbody tr th:only-of-type {\n",
              "        vertical-align: middle;\n",
              "    }\n",
              "\n",
              "    .dataframe tbody tr th {\n",
              "        vertical-align: top;\n",
              "    }\n",
              "\n",
              "    .dataframe thead th {\n",
              "        text-align: right;\n",
              "    }\n",
              "</style>\n",
              "<table border=\"1\" class=\"dataframe\">\n",
              "  <thead>\n",
              "    <tr style=\"text-align: right;\">\n",
              "      <th></th>\n",
              "      <th>Unnamed: 0</th>\n",
              "      <th>session_id</th>\n",
              "      <th>query</th>\n",
              "      <th>intent</th>\n",
              "      <th>page_funnel</th>\n",
              "      <th>responses</th>\n",
              "      <th>fallback</th>\n",
              "      <th>fallback_funnel</th>\n",
              "      <th>feedback</th>\n",
              "      <th>first_intent</th>\n",
              "      <th>fulfillment_error</th>\n",
              "      <th>source</th>\n",
              "      <th>origin</th>\n",
              "      <th>preferences_shown</th>\n",
              "      <th>preference_picked</th>\n",
              "      <th>products_shown</th>\n",
              "      <th>product_clicked</th>\n",
              "      <th>timestamp</th>\n",
              "      <th>session_duration</th>\n",
              "      <th>isTestMessage</th>\n",
              "    </tr>\n",
              "  </thead>\n",
              "  <tbody>\n",
              "    <tr>\n",
              "      <th>0</th>\n",
              "      <td>0</td>\n",
              "      <td>b4f10369-b2f4-4563-8133-0cc7bcaeb2e4</td>\n",
              "      <td>ons abobbement lijkt afgesloten terwijl we wel...</td>\n",
              "      <td>faq.thanks</td>\n",
              "      <td>['Else' 'Else']</td>\n",
              "      <td>['Graag gedaan!']</td>\n",
              "      <td>False</td>\n",
              "      <td>NaN</td>\n",
              "      <td>NaN</td>\n",
              "      <td>False</td>\n",
              "      <td>[]</td>\n",
              "      <td>ACTIONS_ON_GOOGLE</td>\n",
              "      <td>NaN</td>\n",
              "      <td>NaN</td>\n",
              "      <td>NaN</td>\n",
              "      <td>[]</td>\n",
              "      <td>NaN</td>\n",
              "      <td>2022-02-21 07:23:32.446993+00:00</td>\n",
              "      <td>NaN</td>\n",
              "      <td>False</td>\n",
              "    </tr>\n",
              "    <tr>\n",
              "      <th>1</th>\n",
              "      <td>1</td>\n",
              "      <td>99c92c26-cdfc-425e-b0a9-649f93c9cc2b</td>\n",
              "      <td>Ik ga wel bellen</td>\n",
              "      <td>faq.thanks</td>\n",
              "      <td>['Else' 'Else']</td>\n",
              "      <td>['Graag gedaan!']</td>\n",
              "      <td>False</td>\n",
              "      <td>NaN</td>\n",
              "      <td>NaN</td>\n",
              "      <td>False</td>\n",
              "      <td>[]</td>\n",
              "      <td>ACTIONS_ON_GOOGLE</td>\n",
              "      <td>NaN</td>\n",
              "      <td>NaN</td>\n",
              "      <td>NaN</td>\n",
              "      <td>[]</td>\n",
              "      <td>NaN</td>\n",
              "      <td>2022-03-03 08:00:51.074421+00:00</td>\n",
              "      <td>140.0</td>\n",
              "      <td>False</td>\n",
              "    </tr>\n",
              "    <tr>\n",
              "      <th>2</th>\n",
              "      <td>2</td>\n",
              "      <td>99c92c26-cdfc-425e-b0a9-649f93c9cc2b</td>\n",
              "      <td>Ik ga wel bellen</td>\n",
              "      <td>faq.thanks</td>\n",
              "      <td>['Else' 'Else']</td>\n",
              "      <td>['Graag gedaan!']</td>\n",
              "      <td>False</td>\n",
              "      <td>NaN</td>\n",
              "      <td>NaN</td>\n",
              "      <td>False</td>\n",
              "      <td>[]</td>\n",
              "      <td>ACTIONS_ON_GOOGLE</td>\n",
              "      <td>NaN</td>\n",
              "      <td>NaN</td>\n",
              "      <td>NaN</td>\n",
              "      <td>[]</td>\n",
              "      <td>NaN</td>\n",
              "      <td>2022-03-03 08:00:51.074421+00:00</td>\n",
              "      <td>140.0</td>\n",
              "      <td>False</td>\n",
              "    </tr>\n",
              "    <tr>\n",
              "      <th>3</th>\n",
              "      <td>3</td>\n",
              "      <td>965900e2-f1a3-4106-94a3-b76ef5ad86b1</td>\n",
              "      <td>Dank je</td>\n",
              "      <td>faq.thanks</td>\n",
              "      <td>['Else' 'Else']</td>\n",
              "      <td>['Graag gedaan!']</td>\n",
              "      <td>False</td>\n",
              "      <td>NaN</td>\n",
              "      <td>NaN</td>\n",
              "      <td>False</td>\n",
              "      <td>[]</td>\n",
              "      <td>ACTIONS_ON_GOOGLE</td>\n",
              "      <td>NaN</td>\n",
              "      <td>NaN</td>\n",
              "      <td>NaN</td>\n",
              "      <td>[]</td>\n",
              "      <td>NaN</td>\n",
              "      <td>2021-12-16 07:59:45.233663+00:00</td>\n",
              "      <td>105.0</td>\n",
              "      <td>False</td>\n",
              "    </tr>\n",
              "    <tr>\n",
              "      <th>4</th>\n",
              "      <td>4</td>\n",
              "      <td>33bbbc4d-f1eb-40b4-be85-08de9ed4193b</td>\n",
              "      <td>Is mijn bestelling bekend bij jullie? Betaling...</td>\n",
              "      <td>faq.thanks</td>\n",
              "      <td>['Welcome' 'Welcome']</td>\n",
              "      <td>['Graag gedaan!']</td>\n",
              "      <td>False</td>\n",
              "      <td>NaN</td>\n",
              "      <td>NaN</td>\n",
              "      <td>True</td>\n",
              "      <td>[]</td>\n",
              "      <td>ACTIONS_ON_GOOGLE</td>\n",
              "      <td>NaN</td>\n",
              "      <td>NaN</td>\n",
              "      <td>NaN</td>\n",
              "      <td>[]</td>\n",
              "      <td>NaN</td>\n",
              "      <td>2021-12-20 11:58:49.831912+00:00</td>\n",
              "      <td>NaN</td>\n",
              "      <td>False</td>\n",
              "    </tr>\n",
              "    <tr>\n",
              "      <th>...</th>\n",
              "      <td>...</td>\n",
              "      <td>...</td>\n",
              "      <td>...</td>\n",
              "      <td>...</td>\n",
              "      <td>...</td>\n",
              "      <td>...</td>\n",
              "      <td>...</td>\n",
              "      <td>...</td>\n",
              "      <td>...</td>\n",
              "      <td>...</td>\n",
              "      <td>...</td>\n",
              "      <td>...</td>\n",
              "      <td>...</td>\n",
              "      <td>...</td>\n",
              "      <td>...</td>\n",
              "      <td>...</td>\n",
              "      <td>...</td>\n",
              "      <td>...</td>\n",
              "      <td>...</td>\n",
              "      <td>...</td>\n",
              "    </tr>\n",
              "    <tr>\n",
              "      <th>75809</th>\n",
              "      <td>297</td>\n",
              "      <td>NaN</td>\n",
              "      <td>Hoe werkt een proefrit?</td>\n",
              "      <td>faq.werking</td>\n",
              "      <td>['Welcome Route Suggestions' 'FAQ werking']</td>\n",
              "      <td>NaN</td>\n",
              "      <td>NaN</td>\n",
              "      <td>NaN</td>\n",
              "      <td>NaN</td>\n",
              "      <td>NaN</td>\n",
              "      <td>NaN</td>\n",
              "      <td>NaN</td>\n",
              "      <td>NaN</td>\n",
              "      <td>NaN</td>\n",
              "      <td>NaN</td>\n",
              "      <td>NaN</td>\n",
              "      <td>NaN</td>\n",
              "      <td>NaN</td>\n",
              "      <td>NaN</td>\n",
              "      <td>NaN</td>\n",
              "    </tr>\n",
              "    <tr>\n",
              "      <th>75810</th>\n",
              "      <td>298</td>\n",
              "      <td>NaN</td>\n",
              "      <td>Volkswagen</td>\n",
              "      <td>Fallback</td>\n",
              "      <td>['FAQ werking']</td>\n",
              "      <td>NaN</td>\n",
              "      <td>NaN</td>\n",
              "      <td>NaN</td>\n",
              "      <td>NaN</td>\n",
              "      <td>NaN</td>\n",
              "      <td>NaN</td>\n",
              "      <td>NaN</td>\n",
              "      <td>NaN</td>\n",
              "      <td>NaN</td>\n",
              "      <td>NaN</td>\n",
              "      <td>NaN</td>\n",
              "      <td>NaN</td>\n",
              "      <td>NaN</td>\n",
              "      <td>NaN</td>\n",
              "      <td>NaN</td>\n",
              "    </tr>\n",
              "    <tr>\n",
              "      <th>75811</th>\n",
              "      <td>299</td>\n",
              "      <td>NaN</td>\n",
              "      <td>Hoe werkt een proefrit?</td>\n",
              "      <td>faq.werking</td>\n",
              "      <td>['Welcome Route Suggestions' 'FAQ werking']</td>\n",
              "      <td>NaN</td>\n",
              "      <td>NaN</td>\n",
              "      <td>NaN</td>\n",
              "      <td>NaN</td>\n",
              "      <td>NaN</td>\n",
              "      <td>NaN</td>\n",
              "      <td>NaN</td>\n",
              "      <td>NaN</td>\n",
              "      <td>NaN</td>\n",
              "      <td>NaN</td>\n",
              "      <td>NaN</td>\n",
              "      <td>NaN</td>\n",
              "      <td>NaN</td>\n",
              "      <td>NaN</td>\n",
              "      <td>NaN</td>\n",
              "    </tr>\n",
              "    <tr>\n",
              "      <th>75812</th>\n",
              "      <td>300</td>\n",
              "      <td>NaN</td>\n",
              "      <td>Zijn er regels bij een proefrit?</td>\n",
              "      <td>faq.regels</td>\n",
              "      <td>['FAQ werking' 'FAQ regels']</td>\n",
              "      <td>NaN</td>\n",
              "      <td>NaN</td>\n",
              "      <td>NaN</td>\n",
              "      <td>NaN</td>\n",
              "      <td>NaN</td>\n",
              "      <td>NaN</td>\n",
              "      <td>NaN</td>\n",
              "      <td>NaN</td>\n",
              "      <td>NaN</td>\n",
              "      <td>NaN</td>\n",
              "      <td>NaN</td>\n",
              "      <td>NaN</td>\n",
              "      <td>NaN</td>\n",
              "      <td>NaN</td>\n",
              "      <td>NaN</td>\n",
              "    </tr>\n",
              "    <tr>\n",
              "      <th>75813</th>\n",
              "      <td>301</td>\n",
              "      <td>NaN</td>\n",
              "      <td>Hoe werkt een proefrit?</td>\n",
              "      <td>faq.werking</td>\n",
              "      <td>['Welcome Route Suggestions' 'FAQ werking']</td>\n",
              "      <td>NaN</td>\n",
              "      <td>NaN</td>\n",
              "      <td>NaN</td>\n",
              "      <td>NaN</td>\n",
              "      <td>NaN</td>\n",
              "      <td>NaN</td>\n",
              "      <td>NaN</td>\n",
              "      <td>NaN</td>\n",
              "      <td>NaN</td>\n",
              "      <td>NaN</td>\n",
              "      <td>NaN</td>\n",
              "      <td>NaN</td>\n",
              "      <td>NaN</td>\n",
              "      <td>NaN</td>\n",
              "      <td>NaN</td>\n",
              "    </tr>\n",
              "  </tbody>\n",
              "</table>\n",
              "<p>75814 rows × 20 columns</p>\n",
              "</div>\n",
              "      <button class=\"colab-df-convert\" onclick=\"convertToInteractive('df-8e948cc8-7024-4281-be4b-3bcf2e7be27f')\"\n",
              "              title=\"Convert this dataframe to an interactive table.\"\n",
              "              style=\"display:none;\">\n",
              "        \n",
              "  <svg xmlns=\"http://www.w3.org/2000/svg\" height=\"24px\"viewBox=\"0 0 24 24\"\n",
              "       width=\"24px\">\n",
              "    <path d=\"M0 0h24v24H0V0z\" fill=\"none\"/>\n",
              "    <path d=\"M18.56 5.44l.94 2.06.94-2.06 2.06-.94-2.06-.94-.94-2.06-.94 2.06-2.06.94zm-11 1L8.5 8.5l.94-2.06 2.06-.94-2.06-.94L8.5 2.5l-.94 2.06-2.06.94zm10 10l.94 2.06.94-2.06 2.06-.94-2.06-.94-.94-2.06-.94 2.06-2.06.94z\"/><path d=\"M17.41 7.96l-1.37-1.37c-.4-.4-.92-.59-1.43-.59-.52 0-1.04.2-1.43.59L10.3 9.45l-7.72 7.72c-.78.78-.78 2.05 0 2.83L4 21.41c.39.39.9.59 1.41.59.51 0 1.02-.2 1.41-.59l7.78-7.78 2.81-2.81c.8-.78.8-2.07 0-2.86zM5.41 20L4 18.59l7.72-7.72 1.47 1.35L5.41 20z\"/>\n",
              "  </svg>\n",
              "      </button>\n",
              "      \n",
              "  <style>\n",
              "    .colab-df-container {\n",
              "      display:flex;\n",
              "      flex-wrap:wrap;\n",
              "      gap: 12px;\n",
              "    }\n",
              "\n",
              "    .colab-df-convert {\n",
              "      background-color: #E8F0FE;\n",
              "      border: none;\n",
              "      border-radius: 50%;\n",
              "      cursor: pointer;\n",
              "      display: none;\n",
              "      fill: #1967D2;\n",
              "      height: 32px;\n",
              "      padding: 0 0 0 0;\n",
              "      width: 32px;\n",
              "    }\n",
              "\n",
              "    .colab-df-convert:hover {\n",
              "      background-color: #E2EBFA;\n",
              "      box-shadow: 0px 1px 2px rgba(60, 64, 67, 0.3), 0px 1px 3px 1px rgba(60, 64, 67, 0.15);\n",
              "      fill: #174EA6;\n",
              "    }\n",
              "\n",
              "    [theme=dark] .colab-df-convert {\n",
              "      background-color: #3B4455;\n",
              "      fill: #D2E3FC;\n",
              "    }\n",
              "\n",
              "    [theme=dark] .colab-df-convert:hover {\n",
              "      background-color: #434B5C;\n",
              "      box-shadow: 0px 1px 3px 1px rgba(0, 0, 0, 0.15);\n",
              "      filter: drop-shadow(0px 1px 2px rgba(0, 0, 0, 0.3));\n",
              "      fill: #FFFFFF;\n",
              "    }\n",
              "  </style>\n",
              "\n",
              "      <script>\n",
              "        const buttonEl =\n",
              "          document.querySelector('#df-8e948cc8-7024-4281-be4b-3bcf2e7be27f button.colab-df-convert');\n",
              "        buttonEl.style.display =\n",
              "          google.colab.kernel.accessAllowed ? 'block' : 'none';\n",
              "\n",
              "        async function convertToInteractive(key) {\n",
              "          const element = document.querySelector('#df-8e948cc8-7024-4281-be4b-3bcf2e7be27f');\n",
              "          const dataTable =\n",
              "            await google.colab.kernel.invokeFunction('convertToInteractive',\n",
              "                                                     [key], {});\n",
              "          if (!dataTable) return;\n",
              "\n",
              "          const docLinkHtml = 'Like what you see? Visit the ' +\n",
              "            '<a target=\"_blank\" href=https://colab.research.google.com/notebooks/data_table.ipynb>data table notebook</a>'\n",
              "            + ' to learn more about interactive tables.';\n",
              "          element.innerHTML = '';\n",
              "          dataTable['output_type'] = 'display_data';\n",
              "          await google.colab.output.renderOutput(dataTable, element);\n",
              "          const docLink = document.createElement('div');\n",
              "          docLink.innerHTML = docLinkHtml;\n",
              "          element.appendChild(docLink);\n",
              "        }\n",
              "      </script>\n",
              "    </div>\n",
              "  </div>\n",
              "  "
            ]
          },
          "metadata": {},
          "execution_count": 43
        }
      ]
    },
    {
      "cell_type": "code",
      "source": [
        "# The \"Default Welcome Intent\" is not useful, therefore excluding it.\n",
        "df = df[df[\"intent\"] != \"Fallback (unable to determine which one)\"]"
      ],
      "metadata": {
        "id": "7_s93e8Tt2qR"
      },
      "execution_count": 13,
      "outputs": []
    },
    {
      "cell_type": "code",
      "source": [
        "counts = df[\"source\"].value_counts()\n",
        "counts"
      ],
      "metadata": {
        "id": "iikSuqzCdCFn"
      },
      "execution_count": null,
      "outputs": []
    },
    {
      "cell_type": "code",
      "source": [
        "# @title Look into the WhatsApp data source\n",
        "\n",
        "# check which rows are starting with the below string\n",
        "whapp_cases = df[df[\"source\"].str.contains(\"WhatsApp\")]\n",
        "whapp = whapp_cases[[\"descr\", \"source\"]]\n",
        "whapp.head()"
      ],
      "metadata": {
        "id": "BbW8S79Lfuwr",
        "colab": {
          "base_uri": "https://localhost:8080/",
          "height": 301
        },
        "outputId": "5466a172-5628-4437-9dc5-bb7608ae58cd"
      },
      "execution_count": null,
      "outputs": [
        {
          "output_type": "execute_result",
          "data": {
            "text/plain": [
              "                                                   descr    source\n",
              "47935  Dag, ik had een probleem met mijn bestelling v...  WhatsApp\n",
              "47936  Beste heer mevrouw Inmiddels zijn we 3 maanden...  WhatsApp\n",
              "47937  Hallo, staan er voedingswaarden vermeld op de ...  WhatsApp\n",
              "47938  Bij Bestelling: 6057976661 had ik een servicec...  WhatsApp\n",
              "47939  Hi! Ik heb mijn bestelling net ontvangen. Ik h...  WhatsApp"
            ],
            "text/html": [
              "\n",
              "  <div id=\"df-6a3c3a9b-4c0e-4516-8d17-eae36ba1b123\">\n",
              "    <div class=\"colab-df-container\">\n",
              "      <div>\n",
              "<style scoped>\n",
              "    .dataframe tbody tr th:only-of-type {\n",
              "        vertical-align: middle;\n",
              "    }\n",
              "\n",
              "    .dataframe tbody tr th {\n",
              "        vertical-align: top;\n",
              "    }\n",
              "\n",
              "    .dataframe thead th {\n",
              "        text-align: right;\n",
              "    }\n",
              "</style>\n",
              "<table border=\"1\" class=\"dataframe\">\n",
              "  <thead>\n",
              "    <tr style=\"text-align: right;\">\n",
              "      <th></th>\n",
              "      <th>descr</th>\n",
              "      <th>source</th>\n",
              "    </tr>\n",
              "  </thead>\n",
              "  <tbody>\n",
              "    <tr>\n",
              "      <th>47935</th>\n",
              "      <td>Dag, ik had een probleem met mijn bestelling v...</td>\n",
              "      <td>WhatsApp</td>\n",
              "    </tr>\n",
              "    <tr>\n",
              "      <th>47936</th>\n",
              "      <td>Beste heer mevrouw Inmiddels zijn we 3 maanden...</td>\n",
              "      <td>WhatsApp</td>\n",
              "    </tr>\n",
              "    <tr>\n",
              "      <th>47937</th>\n",
              "      <td>Hallo, staan er voedingswaarden vermeld op de ...</td>\n",
              "      <td>WhatsApp</td>\n",
              "    </tr>\n",
              "    <tr>\n",
              "      <th>47938</th>\n",
              "      <td>Bij Bestelling: 6057976661 had ik een servicec...</td>\n",
              "      <td>WhatsApp</td>\n",
              "    </tr>\n",
              "    <tr>\n",
              "      <th>47939</th>\n",
              "      <td>Hi! Ik heb mijn bestelling net ontvangen. Ik h...</td>\n",
              "      <td>WhatsApp</td>\n",
              "    </tr>\n",
              "  </tbody>\n",
              "</table>\n",
              "</div>\n",
              "      <button class=\"colab-df-convert\" onclick=\"convertToInteractive('df-6a3c3a9b-4c0e-4516-8d17-eae36ba1b123')\"\n",
              "              title=\"Convert this dataframe to an interactive table.\"\n",
              "              style=\"display:none;\">\n",
              "        \n",
              "  <svg xmlns=\"http://www.w3.org/2000/svg\" height=\"24px\"viewBox=\"0 0 24 24\"\n",
              "       width=\"24px\">\n",
              "    <path d=\"M0 0h24v24H0V0z\" fill=\"none\"/>\n",
              "    <path d=\"M18.56 5.44l.94 2.06.94-2.06 2.06-.94-2.06-.94-.94-2.06-.94 2.06-2.06.94zm-11 1L8.5 8.5l.94-2.06 2.06-.94-2.06-.94L8.5 2.5l-.94 2.06-2.06.94zm10 10l.94 2.06.94-2.06 2.06-.94-2.06-.94-.94-2.06-.94 2.06-2.06.94z\"/><path d=\"M17.41 7.96l-1.37-1.37c-.4-.4-.92-.59-1.43-.59-.52 0-1.04.2-1.43.59L10.3 9.45l-7.72 7.72c-.78.78-.78 2.05 0 2.83L4 21.41c.39.39.9.59 1.41.59.51 0 1.02-.2 1.41-.59l7.78-7.78 2.81-2.81c.8-.78.8-2.07 0-2.86zM5.41 20L4 18.59l7.72-7.72 1.47 1.35L5.41 20z\"/>\n",
              "  </svg>\n",
              "      </button>\n",
              "      \n",
              "  <style>\n",
              "    .colab-df-container {\n",
              "      display:flex;\n",
              "      flex-wrap:wrap;\n",
              "      gap: 12px;\n",
              "    }\n",
              "\n",
              "    .colab-df-convert {\n",
              "      background-color: #E8F0FE;\n",
              "      border: none;\n",
              "      border-radius: 50%;\n",
              "      cursor: pointer;\n",
              "      display: none;\n",
              "      fill: #1967D2;\n",
              "      height: 32px;\n",
              "      padding: 0 0 0 0;\n",
              "      width: 32px;\n",
              "    }\n",
              "\n",
              "    .colab-df-convert:hover {\n",
              "      background-color: #E2EBFA;\n",
              "      box-shadow: 0px 1px 2px rgba(60, 64, 67, 0.3), 0px 1px 3px 1px rgba(60, 64, 67, 0.15);\n",
              "      fill: #174EA6;\n",
              "    }\n",
              "\n",
              "    [theme=dark] .colab-df-convert {\n",
              "      background-color: #3B4455;\n",
              "      fill: #D2E3FC;\n",
              "    }\n",
              "\n",
              "    [theme=dark] .colab-df-convert:hover {\n",
              "      background-color: #434B5C;\n",
              "      box-shadow: 0px 1px 3px 1px rgba(0, 0, 0, 0.15);\n",
              "      filter: drop-shadow(0px 1px 2px rgba(0, 0, 0, 0.3));\n",
              "      fill: #FFFFFF;\n",
              "    }\n",
              "  </style>\n",
              "\n",
              "      <script>\n",
              "        const buttonEl =\n",
              "          document.querySelector('#df-6a3c3a9b-4c0e-4516-8d17-eae36ba1b123 button.colab-df-convert');\n",
              "        buttonEl.style.display =\n",
              "          google.colab.kernel.accessAllowed ? 'block' : 'none';\n",
              "\n",
              "        async function convertToInteractive(key) {\n",
              "          const element = document.querySelector('#df-6a3c3a9b-4c0e-4516-8d17-eae36ba1b123');\n",
              "          const dataTable =\n",
              "            await google.colab.kernel.invokeFunction('convertToInteractive',\n",
              "                                                     [key], {});\n",
              "          if (!dataTable) return;\n",
              "\n",
              "          const docLinkHtml = 'Like what you see? Visit the ' +\n",
              "            '<a target=\"_blank\" href=https://colab.research.google.com/notebooks/data_table.ipynb>data table notebook</a>'\n",
              "            + ' to learn more about interactive tables.';\n",
              "          element.innerHTML = '';\n",
              "          dataTable['output_type'] = 'display_data';\n",
              "          await google.colab.output.renderOutput(dataTable, element);\n",
              "          const docLink = document.createElement('div');\n",
              "          docLink.innerHTML = docLinkHtml;\n",
              "          element.appendChild(docLink);\n",
              "        }\n",
              "      </script>\n",
              "    </div>\n",
              "  </div>\n",
              "  "
            ],
            "application/vnd.google.colaboratory.module+javascript": "\n      import \"https://ssl.gstatic.com/colaboratory/data_table/99dac6621f6ae8c4/data_table.js\";\n\n      window.createDataTable({\n        data: [[{\n            'v': 47935,\n            'f': \"47935\",\n        },\n\"Dag, ik had een probleem met mijn bestelling van 14/2/23 gemeld. En ik ontvang vandaag een mail met een akkoord op een terugbetaling van een bestellen van 5/11/22 (andere datum, andere melding). Denk dat er iets niet goed gaat?? Hallo Antoinette , je chat met Rubin. Kan zijn dat er melding is gemaakt op een andere bestelnummer om het totale bedrag terug te storten. Maar heb je een screenshot? Dan kan ik met je meekijken, ik hoor graag van je. Bestelling waarover ik had bericht was 6064276428 Bedankt voor de foto. Volgens het systeem is te zien dat er een fout is gemaakt met de datum.Het gaat om hetzelfde bedrag \\ud83d\\ude0a. Ik hoop je voldoende te hebben geinformeerd. Fijne avond!\",\n\"WhatsApp\"],\n [{\n            'v': 47936,\n            'f': \"47936\",\n        },\n\"Beste heer mevrouw Inmiddels zijn we 3 maanden verder en heb ik nog steeds geen race auto ontvangen. Duurt nu wel weg lang Hoop hem toch snel te ontvangen Mvg Dani\\u00eblle\",\n\"WhatsApp\"],\n [{\n            'v': 47937,\n            'f': \"47937\",\n        },\n\"Hallo, staan er voedingswaarden vermeld op de flessen wijn die u verkoopt? Hallo, je chat met Sharon. Bedankt voor je bericht. Nee, niet volledig. Je kan dit navragen in de winkel en anders kunnen wij dit voor je opzoeken. Fijne dag. \\ud83d\\ude0a Ok bedankt, jij ook een fijne dag! Groetjes Greet Dankjewel!\",\n\"WhatsApp\"],\n [{\n            'v': 47938,\n            'f': \"47938\",\n        },\n\"Bij Bestelling: 6057976661 had ik een servicecode ingevuld voor 5 euro korting tegen inlevering van 1000 punten. Deze 5,00 staat niet op de bon vermeld, is er niet getrokken terwijl deze bij het totaal verkregen korting wel is meegeteld. Laat maar, ik zie net dat het in het totaal wel te zien is. Het staat er alleen niet apart op vermeld. Oke toppie\\ud83d\\udc4d. Fijne dag.\",\n\"WhatsApp\"],\n [{\n            'v': 47939,\n            'f': \"47939\",\n        },\n\"Hi! Ik heb mijn bestelling net ontvangen. Ik had ook flessen ingeleverd (11 grote en 2 kleine) en volgens mij zijn die kosten niet verrekend. Ook zat er onder in een zak een bak kwark en zaten daardoor meerdere producten onder de kwark. Excuus, ik zie dat de flessen er af zijn gegaan! Dan zou ik alleen graag nog reactie ontvangen over de bak kwark. Hallo Irene, je chat met Sterre. Bedankt voor je bericht. Wat vervelend dat de kwark kapot is gegaan in je bestelling. Ik heb een terugbetaling voor de kwark in orde gemaakt. Het bedrag vindt je binnen zeven dagen terug op je rekening. Excuses voor het ongemak. Fijne avond! Dank! Fijn dat het zo snel geregeld is. Graag gedaan en ik wens je een fijne avond!\\ud83d\\ude0a\",\n\"WhatsApp\"]],\n        columns: [[\"number\", \"index\"], [\"string\", \"descr\"], [\"string\", \"source\"]],\n        columnOptions: [{\"width\": \"1px\", \"className\": \"index_column\"}],\n        rowsPerPage: 25,\n        helpUrl: \"https://colab.research.google.com/notebooks/data_table.ipynb\",\n        suppressOutputScrolling: true,\n        minimumWidth: undefined,\n      });\n    "
          },
          "metadata": {},
          "execution_count": 5
        }
      ]
    },
    {
      "cell_type": "code",
      "source": [
        "whapp.shape"
      ],
      "metadata": {
        "colab": {
          "base_uri": "https://localhost:8080/"
        },
        "id": "-eUnq8l7gHhp",
        "outputId": "45ff4d82-c605-4aef-e94c-7b7afac9c87e"
      },
      "execution_count": null,
      "outputs": [
        {
          "output_type": "execute_result",
          "data": {
            "text/plain": [
              "(47976, 2)"
            ]
          },
          "metadata": {},
          "execution_count": 6
        }
      ]
    },
    {
      "cell_type": "markdown",
      "source": [
        "## Cloud Data Loss Prevention"
      ],
      "metadata": {
        "id": "8ZvY4_7qXYzD"
      }
    },
    {
      "cell_type": "code",
      "source": [
        "!gcloud auth application-default login --no-launch-browser\n",
        "!gcloud auth application-default set-quota-project $project_id"
      ],
      "metadata": {
        "id": "rMJJDRlGoNZk"
      },
      "execution_count": null,
      "outputs": []
    },
    {
      "cell_type": "code",
      "source": [
        "from google.cloud import dlp_v2\n",
        "import google.protobuf\n",
        "\n",
        "# Create a DLP client\n",
        "dlp_client = dlp_v2.DlpServiceClient()"
      ],
      "metadata": {
        "id": "HSux45xVglKE"
      },
      "execution_count": null,
      "outputs": []
    },
    {
      "cell_type": "code",
      "source": [
        "whapp_df = whapp"
      ],
      "metadata": {
        "id": "TDWA4-V6VUkX"
      },
      "execution_count": null,
      "outputs": []
    },
    {
      "cell_type": "code",
      "source": [
        "def deidentify_with_replace_infotype(project, item, info_types):\n",
        "    \"\"\"Uses the Data Loss Prevention API to deidentify sensitive data in a\n",
        "    string by replacing it with the info type.\n",
        "    Args:\n",
        "        project: The Google Cloud project id to use as a parent resource.\n",
        "        item: The string to deidentify (will be treated as text).\n",
        "        info_types: A list of strings representing info types to look for.\n",
        "            A full list of info type categories can be fetched from the API.\n",
        "    Returns:\n",
        "        The deidentified string.\n",
        "    \"\"\"\n",
        "\n",
        "    # Import the client library\n",
        "    import google.cloud.dlp\n",
        "\n",
        "    # Instantiate a client\n",
        "    dlp = google.cloud.dlp_v2.DlpServiceClient()\n",
        "\n",
        "    # Convert the project id into a full resource id.\n",
        "    parent = f\"projects/{project}\"\n",
        "\n",
        "    # Construct inspect configuration dictionary\n",
        "    inspect_config = {\"info_types\": [{\"name\": info_type} for info_type in info_types]}\n",
        "\n",
        "    # Construct deidentify configuration dictionary\n",
        "    deidentify_config = {\n",
        "        \"info_type_transformations\": {\n",
        "            \"transformations\": [\n",
        "                {\"primitive_transformation\": {\"replace_with_info_type_config\": {}}}\n",
        "            ]\n",
        "        }\n",
        "    }\n",
        "\n",
        "    # Call the API\n",
        "    response = dlp.deidentify_content(\n",
        "        request={\n",
        "            \"parent\": parent,\n",
        "            \"deidentify_config\": deidentify_config,\n",
        "            \"inspect_config\": inspect_config,\n",
        "            \"item\": {\"value\": item},\n",
        "        }\n",
        "    )\n",
        "\n",
        "    # Return the deidentified value\n",
        "    return response.item.value"
      ],
      "metadata": {
        "id": "JqANx6TRF2qV"
      },
      "execution_count": null,
      "outputs": []
    },
    {
      "cell_type": "code",
      "source": [
        "# Apply the DLP API to the \"descr\" column in batches of 1000 rows\n",
        "whapp_df[\"descr\"] = whapp_df[\"descr\"].astype(str)\n",
        "\n",
        "batch_size = 1000\n",
        "n_batches = len(whapp_df) // batch_size + 1\n",
        "deidentified_descr = []\n",
        "for i in range(n_batches):\n",
        "    start_idx = i * batch_size\n",
        "    end_idx = (i + 1) * batch_size\n",
        "    batch = whapp_df.iloc[start_idx:end_idx]\n",
        "    items = batch[\"descr\"].tolist()\n",
        "    deidentified_batch = [deidentify_with_replace_infotype(\n",
        "        project=project_id,\n",
        "        item=item,\n",
        "        info_types=[\"CREDIT_CARD_NUMBER\", \"EMAIL_ADDRESS\", \"PHONE_NUMBER\", \"PERSON_NAME\", \"LOCATION\"]\n",
        "    ) for item in items]\n",
        "    deidentified_descr.extend(deidentified_batch)\n",
        "    print(f\"Processed batch {i+1}/{n_batches}\")\n",
        "\n",
        "# Update the dataframe with the deidentified values\n",
        "whapp_df[\"deidentified_descr\"] = deidentified_descr\n",
        "\n",
        "# Save the resulting dataframe to a CSV file\n",
        "whapp_df.to_csv(\"/content/drive/MyDrive/BERTopic+embeddings/whatsapp_deidentified.csv\", index=False)"
      ],
      "metadata": {
        "colab": {
          "base_uri": "https://localhost:8080/"
        },
        "id": "Qtk80EMwU_iF",
        "outputId": "ea6a795e-8bb8-4605-c623-0f59de519965"
      },
      "execution_count": null,
      "outputs": [
        {
          "output_type": "stream",
          "name": "stdout",
          "text": [
            "Processed batch 1/48\n",
            "Processed batch 2/48\n",
            "Processed batch 3/48\n",
            "Processed batch 4/48\n",
            "Processed batch 5/48\n",
            "Processed batch 6/48\n",
            "Processed batch 7/48\n",
            "Processed batch 8/48\n",
            "Processed batch 9/48\n",
            "Processed batch 10/48\n",
            "Processed batch 11/48\n",
            "Processed batch 12/48\n",
            "Processed batch 13/48\n",
            "Processed batch 14/48\n",
            "Processed batch 15/48\n",
            "Processed batch 16/48\n",
            "Processed batch 17/48\n",
            "Processed batch 18/48\n",
            "Processed batch 19/48\n",
            "Processed batch 20/48\n",
            "Processed batch 21/48\n",
            "Processed batch 22/48\n",
            "Processed batch 23/48\n",
            "Processed batch 24/48\n",
            "Processed batch 25/48\n",
            "Processed batch 26/48\n",
            "Processed batch 27/48\n",
            "Processed batch 28/48\n",
            "Processed batch 29/48\n",
            "Processed batch 30/48\n",
            "Processed batch 31/48\n",
            "Processed batch 32/48\n",
            "Processed batch 33/48\n",
            "Processed batch 34/48\n",
            "Processed batch 35/48\n",
            "Processed batch 36/48\n",
            "Processed batch 37/48\n",
            "Processed batch 38/48\n",
            "Processed batch 39/48\n",
            "Processed batch 40/48\n",
            "Processed batch 41/48\n",
            "Processed batch 42/48\n",
            "Processed batch 43/48\n",
            "Processed batch 44/48\n",
            "Processed batch 45/48\n",
            "Processed batch 46/48\n",
            "Processed batch 47/48\n",
            "Processed batch 48/48\n"
          ]
        }
      ]
    },
    {
      "cell_type": "code",
      "source": [
        "deidentify_with_replace_infotype(\n",
        "    project=project_id,\n",
        "    item=\"My credit phone number is +31628725569 and my name is Deyna Baeva and i live at Jan tooropstraat 35 in Eindhoven\",\n",
        "    info_types=[\"CREDIT_CARD_NUMBER\", \"EMAIL_ADDRESS\", \"PHONE_NUMBER\", \"PERSON_NAME\", \"LOCATION\"]\n",
        ")"
      ],
      "metadata": {
        "colab": {
          "base_uri": "https://localhost:8080/",
          "height": 36
        },
        "id": "eEhNdz3_hhLF",
        "outputId": "8652b4ab-2935-4e70-a069-40febc1882af"
      },
      "execution_count": null,
      "outputs": [
        {
          "output_type": "execute_result",
          "data": {
            "text/plain": [
              "'My credit phone number is [PHONE_NUMBER] and my name is [PERSON_NAME] and i live at [LOCATION] 35 in [LOCATION]'"
            ],
            "application/vnd.google.colaboratory.intrinsic+json": {
              "type": "string"
            }
          },
          "metadata": {},
          "execution_count": 36
        }
      ]
    },
    {
      "cell_type": "code",
      "source": [
        "whapp_partial = whapp.sample(n=47976)"
      ],
      "metadata": {
        "id": "6YOkWz0wQ-ao"
      },
      "execution_count": null,
      "outputs": []
    },
    {
      "cell_type": "code",
      "source": [
        "whapp_partial"
      ],
      "metadata": {
        "colab": {
          "base_uri": "https://localhost:8080/",
          "height": 442
        },
        "id": "etUXZn6KRa8w",
        "outputId": "795c7c12-afd2-42b5-e545-a150b319be8f"
      },
      "execution_count": null,
      "outputs": [
        {
          "output_type": "stream",
          "name": "stdout",
          "text": [
            "Warning: total number of rows (47976) exceeds max_rows (20000). Falling back to pandas display.\n"
          ]
        },
        {
          "output_type": "execute_result",
          "data": {
            "text/plain": [
              "                                                   descr    source\n",
              "60427  Goedemorgen, ook vandaag geen zegels ontvangen...  WhatsApp\n",
              "77640  Ik heb vanmorgen appels, sinaasappels en druiv...  WhatsApp\n",
              "79290  Er staat iets heel anders in de app als bestel...  WhatsApp\n",
              "53934  Goedemorgen, Ik heb net mijn bestelling gekreg...  WhatsApp\n",
              "52180  Oké Goedemorgen, Ik krijg weer een mail dat ik...  WhatsApp\n",
              "...                                                  ...       ...\n",
              "66306  Correctie Term moet zijn NV6105 Hallo Raymond,...  WhatsApp\n",
              "58881  Hallo wil graag punten inleveren bij de Hema h...  WhatsApp\n",
              "57359  Goedemiddag, mijn man en ik hadden altijd same...  WhatsApp\n",
              "82118  Goedemiddag! Vraag over ?5,- korting bij 1000 ...  WhatsApp\n",
              "58256  Hallo Celeste, je chat met Yael. Kan ik je erg...  WhatsApp\n",
              "\n",
              "[47976 rows x 2 columns]"
            ],
            "text/html": [
              "\n",
              "  <div id=\"df-b753dfe5-c9cf-4b66-b1db-ba8b2d2f61ae\">\n",
              "    <div class=\"colab-df-container\">\n",
              "      <div>\n",
              "<style scoped>\n",
              "    .dataframe tbody tr th:only-of-type {\n",
              "        vertical-align: middle;\n",
              "    }\n",
              "\n",
              "    .dataframe tbody tr th {\n",
              "        vertical-align: top;\n",
              "    }\n",
              "\n",
              "    .dataframe thead th {\n",
              "        text-align: right;\n",
              "    }\n",
              "</style>\n",
              "<table border=\"1\" class=\"dataframe\">\n",
              "  <thead>\n",
              "    <tr style=\"text-align: right;\">\n",
              "      <th></th>\n",
              "      <th>descr</th>\n",
              "      <th>source</th>\n",
              "    </tr>\n",
              "  </thead>\n",
              "  <tbody>\n",
              "    <tr>\n",
              "      <th>60427</th>\n",
              "      <td>Goedemorgen, ook vandaag geen zegels ontvangen...</td>\n",
              "      <td>WhatsApp</td>\n",
              "    </tr>\n",
              "    <tr>\n",
              "      <th>77640</th>\n",
              "      <td>Ik heb vanmorgen appels, sinaasappels en druiv...</td>\n",
              "      <td>WhatsApp</td>\n",
              "    </tr>\n",
              "    <tr>\n",
              "      <th>79290</th>\n",
              "      <td>Er staat iets heel anders in de app als bestel...</td>\n",
              "      <td>WhatsApp</td>\n",
              "    </tr>\n",
              "    <tr>\n",
              "      <th>53934</th>\n",
              "      <td>Goedemorgen, Ik heb net mijn bestelling gekreg...</td>\n",
              "      <td>WhatsApp</td>\n",
              "    </tr>\n",
              "    <tr>\n",
              "      <th>52180</th>\n",
              "      <td>Oké Goedemorgen, Ik krijg weer een mail dat ik...</td>\n",
              "      <td>WhatsApp</td>\n",
              "    </tr>\n",
              "    <tr>\n",
              "      <th>...</th>\n",
              "      <td>...</td>\n",
              "      <td>...</td>\n",
              "    </tr>\n",
              "    <tr>\n",
              "      <th>66306</th>\n",
              "      <td>Correctie Term moet zijn NV6105 Hallo Raymond,...</td>\n",
              "      <td>WhatsApp</td>\n",
              "    </tr>\n",
              "    <tr>\n",
              "      <th>58881</th>\n",
              "      <td>Hallo wil graag punten inleveren bij de Hema h...</td>\n",
              "      <td>WhatsApp</td>\n",
              "    </tr>\n",
              "    <tr>\n",
              "      <th>57359</th>\n",
              "      <td>Goedemiddag, mijn man en ik hadden altijd same...</td>\n",
              "      <td>WhatsApp</td>\n",
              "    </tr>\n",
              "    <tr>\n",
              "      <th>82118</th>\n",
              "      <td>Goedemiddag! Vraag over ?5,- korting bij 1000 ...</td>\n",
              "      <td>WhatsApp</td>\n",
              "    </tr>\n",
              "    <tr>\n",
              "      <th>58256</th>\n",
              "      <td>Hallo Celeste, je chat met Yael. Kan ik je erg...</td>\n",
              "      <td>WhatsApp</td>\n",
              "    </tr>\n",
              "  </tbody>\n",
              "</table>\n",
              "<p>47976 rows × 2 columns</p>\n",
              "</div>\n",
              "      <button class=\"colab-df-convert\" onclick=\"convertToInteractive('df-b753dfe5-c9cf-4b66-b1db-ba8b2d2f61ae')\"\n",
              "              title=\"Convert this dataframe to an interactive table.\"\n",
              "              style=\"display:none;\">\n",
              "        \n",
              "  <svg xmlns=\"http://www.w3.org/2000/svg\" height=\"24px\"viewBox=\"0 0 24 24\"\n",
              "       width=\"24px\">\n",
              "    <path d=\"M0 0h24v24H0V0z\" fill=\"none\"/>\n",
              "    <path d=\"M18.56 5.44l.94 2.06.94-2.06 2.06-.94-2.06-.94-.94-2.06-.94 2.06-2.06.94zm-11 1L8.5 8.5l.94-2.06 2.06-.94-2.06-.94L8.5 2.5l-.94 2.06-2.06.94zm10 10l.94 2.06.94-2.06 2.06-.94-2.06-.94-.94-2.06-.94 2.06-2.06.94z\"/><path d=\"M17.41 7.96l-1.37-1.37c-.4-.4-.92-.59-1.43-.59-.52 0-1.04.2-1.43.59L10.3 9.45l-7.72 7.72c-.78.78-.78 2.05 0 2.83L4 21.41c.39.39.9.59 1.41.59.51 0 1.02-.2 1.41-.59l7.78-7.78 2.81-2.81c.8-.78.8-2.07 0-2.86zM5.41 20L4 18.59l7.72-7.72 1.47 1.35L5.41 20z\"/>\n",
              "  </svg>\n",
              "      </button>\n",
              "      \n",
              "  <style>\n",
              "    .colab-df-container {\n",
              "      display:flex;\n",
              "      flex-wrap:wrap;\n",
              "      gap: 12px;\n",
              "    }\n",
              "\n",
              "    .colab-df-convert {\n",
              "      background-color: #E8F0FE;\n",
              "      border: none;\n",
              "      border-radius: 50%;\n",
              "      cursor: pointer;\n",
              "      display: none;\n",
              "      fill: #1967D2;\n",
              "      height: 32px;\n",
              "      padding: 0 0 0 0;\n",
              "      width: 32px;\n",
              "    }\n",
              "\n",
              "    .colab-df-convert:hover {\n",
              "      background-color: #E2EBFA;\n",
              "      box-shadow: 0px 1px 2px rgba(60, 64, 67, 0.3), 0px 1px 3px 1px rgba(60, 64, 67, 0.15);\n",
              "      fill: #174EA6;\n",
              "    }\n",
              "\n",
              "    [theme=dark] .colab-df-convert {\n",
              "      background-color: #3B4455;\n",
              "      fill: #D2E3FC;\n",
              "    }\n",
              "\n",
              "    [theme=dark] .colab-df-convert:hover {\n",
              "      background-color: #434B5C;\n",
              "      box-shadow: 0px 1px 3px 1px rgba(0, 0, 0, 0.15);\n",
              "      filter: drop-shadow(0px 1px 2px rgba(0, 0, 0, 0.3));\n",
              "      fill: #FFFFFF;\n",
              "    }\n",
              "  </style>\n",
              "\n",
              "      <script>\n",
              "        const buttonEl =\n",
              "          document.querySelector('#df-b753dfe5-c9cf-4b66-b1db-ba8b2d2f61ae button.colab-df-convert');\n",
              "        buttonEl.style.display =\n",
              "          google.colab.kernel.accessAllowed ? 'block' : 'none';\n",
              "\n",
              "        async function convertToInteractive(key) {\n",
              "          const element = document.querySelector('#df-b753dfe5-c9cf-4b66-b1db-ba8b2d2f61ae');\n",
              "          const dataTable =\n",
              "            await google.colab.kernel.invokeFunction('convertToInteractive',\n",
              "                                                     [key], {});\n",
              "          if (!dataTable) return;\n",
              "\n",
              "          const docLinkHtml = 'Like what you see? Visit the ' +\n",
              "            '<a target=\"_blank\" href=https://colab.research.google.com/notebooks/data_table.ipynb>data table notebook</a>'\n",
              "            + ' to learn more about interactive tables.';\n",
              "          element.innerHTML = '';\n",
              "          dataTable['output_type'] = 'display_data';\n",
              "          await google.colab.output.renderOutput(dataTable, element);\n",
              "          const docLink = document.createElement('div');\n",
              "          docLink.innerHTML = docLinkHtml;\n",
              "          element.appendChild(docLink);\n",
              "        }\n",
              "      </script>\n",
              "    </div>\n",
              "  </div>\n",
              "  "
            ]
          },
          "metadata": {},
          "execution_count": 38
        }
      ]
    },
    {
      "cell_type": "markdown",
      "source": [
        "### Old DLP implementation code"
      ],
      "metadata": {
        "id": "KzowtHoJazwx"
      }
    },
    {
      "cell_type": "code",
      "source": [
        "# Apply the DLP API to the \"descr\" column\n",
        "whapp_partial[\"descr\"] = whapp_partial[\"descr\"].apply(lambda x: deidentify_with_replace_infotype(\n",
        "    project=project_id,\n",
        "    item=x,\n",
        "    info_types=[\"CREDIT_CARD_NUMBER\", \"EMAIL_ADDRESS\", \"PHONE_NUMBER\", \"PERSON_NAME\", \"LOCATION\"]\n",
        "))"
      ],
      "metadata": {
        "id": "uNxAzYaBF-l0"
      },
      "execution_count": null,
      "outputs": []
    },
    {
      "cell_type": "code",
      "source": [
        "whapp_partial[\"descr\"].to_csv(\"/content/drive/MyDrive/BERTopic+embeddings/deidentified-complete.csv\", index=False)"
      ],
      "metadata": {
        "id": "7j_t_ojtGHJs"
      },
      "execution_count": null,
      "outputs": []
    },
    {
      "cell_type": "code",
      "source": [
        "whapp[\"descr\"]"
      ],
      "metadata": {
        "id": "1MkD3EP7Hjdr"
      },
      "execution_count": null,
      "outputs": []
    },
    {
      "cell_type": "code",
      "source": [
        "# @title Async\n",
        "# import asyncio\n",
        "\n",
        "# # Split the dataframe into batches\n",
        "# batch_size = 1000\n",
        "# batches = [whapp[\"descr\"][i:i+batch_size] for i in range(0, len(whapp[\"descr\"]), batch_size)]\n",
        "\n",
        "# async def deidentify_batch(batch):\n",
        "#     # Call the async deidentify function\n",
        "#     return await deidentify_with_replace_infotype(\n",
        "#         project=project_id,\n",
        "#         items=batch.tolist(),\n",
        "#         info_types=[\"CREDIT_CARD_NUMBER\", \"EMAIL_ADDRESS\", \"PHONE_NUMBER\", \"PERSON_NAME\"]\n",
        "#     )\n",
        "\n",
        "# async def run_deidentification():\n",
        "#     # Create an event loop\n",
        "#     loop = asyncio.new_event_loop()\n",
        "\n",
        "#     # Run the async deidentify function for each batch\n",
        "#     tasks = [loop.create_task(deidentify_batch(batch)) for batch in batches]\n",
        "#     results = await asyncio.gather(*tasks)\n",
        "\n",
        "#     # Close the event loop\n",
        "#     loop.close()\n",
        "\n",
        "#     # Flatten the results and update the \"descr\" column in the DataFrame\n",
        "#     deidentified_values = [value for result in results for value in result]\n",
        "#     whapp[\"descr\"] = deidentified_values\n",
        "\n",
        "# # Run the coroutine to deidentify all batches\n",
        "# asyncio.run(run_deidentification())"
      ],
      "metadata": {
        "id": "pv7h5Y8MGNCj"
      },
      "execution_count": null,
      "outputs": []
    },
    {
      "cell_type": "code",
      "source": [
        "# @title Async\n",
        "# import asyncio\n",
        "\n",
        "# async def deidentify_batch(batch):\n",
        "#     \"\"\"Deidentifies a batch of items asynchronously using the DLP API.\"\"\"\n",
        "#     items = [{\"value\": str(item)} for item in batch]\n",
        "#     parent = f\"projects/{project_id}\"\n",
        "#     inspect_config = {\"info_types\": [{\"name\": info_type} for info_type in info_types]}\n",
        "#     deidentify_config = {\n",
        "#         \"info_type_transformations\": {\n",
        "#             \"transformations\": [\n",
        "#                 {\"primitive_transformation\": {\"replace_with_info_type_config\": {}}}\n",
        "#             ]\n",
        "#         }\n",
        "#     }\n",
        "#     response = await dlp_client.deidentify_content(\n",
        "#         request={\n",
        "#             \"parent\": parent,\n",
        "#             \"deidentify_config\": deidentify_config,\n",
        "#             \"inspect_config\": inspect_config,\n",
        "#             \"items\": items,\n",
        "#         }\n",
        "#     )\n",
        "#     return [r.item.value for r in response.items]\n",
        "\n",
        "# def deidentify_dataframe(df, project, info_types, batch_size=100):\n",
        "#     \"\"\"Deidentifies a DataFrame column asynchronously using the DLP API.\"\"\"\n",
        "#     # Split the DataFrame into batches\n",
        "#     batches = [df[i:i+batch_size][\"descr\"].tolist() for i in range(0, len(df), batch_size)]\n",
        "\n",
        "#     # Process each batch asynchronously using asyncio\n",
        "#     loop = asyncio.get_event_loop()\n",
        "#     tasks = [loop.create_task(deidentify_batch(batch)) for batch in batches]\n",
        "#     results = loop.run_until_complete(asyncio.gather(*tasks))\n",
        "\n",
        "#     # Flatten the results and update the \"descr\" column in the DataFrame\n",
        "#     deidentified_items = [item for sublist in results for item in sublist]\n",
        "#     df[\"descr\"] = deidentified_items\n",
        "#     return df"
      ],
      "metadata": {
        "id": "P_yCIZhiGM7b"
      },
      "execution_count": null,
      "outputs": []
    },
    {
      "cell_type": "markdown",
      "source": [
        "## Data cleaning"
      ],
      "metadata": {
        "id": "UcVAAJgyFnaX"
      }
    },
    {
      "cell_type": "code",
      "source": [
        "whapp_data = pd.read_csv(\"/content/drive/MyDrive/BERTopic+embeddings/whatsapp_deidentified.csv\")"
      ],
      "metadata": {
        "id": "ph8-DW-NpyUB"
      },
      "execution_count": null,
      "outputs": []
    },
    {
      "cell_type": "code",
      "source": [
        "whapp_data.head()"
      ],
      "metadata": {
        "colab": {
          "base_uri": "https://localhost:8080/",
          "height": 206
        },
        "id": "BEWrP928qEkZ",
        "outputId": "33eb2060-96b6-4272-f61e-a93ed02535e7"
      },
      "execution_count": null,
      "outputs": [
        {
          "output_type": "execute_result",
          "data": {
            "text/plain": [
              "                                               descr    source  \\\n",
              "0  Dag, ik had een probleem met mijn bestelling v...  WhatsApp   \n",
              "1  Beste heer mevrouw Inmiddels zijn we 3 maanden...  WhatsApp   \n",
              "2  Hallo, staan er voedingswaarden vermeld op de ...  WhatsApp   \n",
              "3  Bij Bestelling: 6057976661 had ik een servicec...  WhatsApp   \n",
              "4  Hi! Ik heb mijn bestelling net ontvangen. Ik h...  WhatsApp   \n",
              "\n",
              "                                  deidentified_descr  \n",
              "0  [PERSON_NAME], ik had een probleem met mijn be...  \n",
              "1  Beste heer mevrouw [PERSON_NAME] zijn we 3 maa...  \n",
              "2  Hallo, staan er voedingswaarden vermeld op de ...  \n",
              "3  Bij Bestelling: 6057976661 had ik een servicec...  \n",
              "4  Hi! Ik heb mijn bestelling net ontvangen. Ik h...  "
            ],
            "text/html": [
              "\n",
              "  <div id=\"df-7065fea0-f9e5-4509-af69-45c4bea68b43\">\n",
              "    <div class=\"colab-df-container\">\n",
              "      <div>\n",
              "<style scoped>\n",
              "    .dataframe tbody tr th:only-of-type {\n",
              "        vertical-align: middle;\n",
              "    }\n",
              "\n",
              "    .dataframe tbody tr th {\n",
              "        vertical-align: top;\n",
              "    }\n",
              "\n",
              "    .dataframe thead th {\n",
              "        text-align: right;\n",
              "    }\n",
              "</style>\n",
              "<table border=\"1\" class=\"dataframe\">\n",
              "  <thead>\n",
              "    <tr style=\"text-align: right;\">\n",
              "      <th></th>\n",
              "      <th>descr</th>\n",
              "      <th>source</th>\n",
              "      <th>deidentified_descr</th>\n",
              "    </tr>\n",
              "  </thead>\n",
              "  <tbody>\n",
              "    <tr>\n",
              "      <th>0</th>\n",
              "      <td>Dag, ik had een probleem met mijn bestelling v...</td>\n",
              "      <td>WhatsApp</td>\n",
              "      <td>[PERSON_NAME], ik had een probleem met mijn be...</td>\n",
              "    </tr>\n",
              "    <tr>\n",
              "      <th>1</th>\n",
              "      <td>Beste heer mevrouw Inmiddels zijn we 3 maanden...</td>\n",
              "      <td>WhatsApp</td>\n",
              "      <td>Beste heer mevrouw [PERSON_NAME] zijn we 3 maa...</td>\n",
              "    </tr>\n",
              "    <tr>\n",
              "      <th>2</th>\n",
              "      <td>Hallo, staan er voedingswaarden vermeld op de ...</td>\n",
              "      <td>WhatsApp</td>\n",
              "      <td>Hallo, staan er voedingswaarden vermeld op de ...</td>\n",
              "    </tr>\n",
              "    <tr>\n",
              "      <th>3</th>\n",
              "      <td>Bij Bestelling: 6057976661 had ik een servicec...</td>\n",
              "      <td>WhatsApp</td>\n",
              "      <td>Bij Bestelling: 6057976661 had ik een servicec...</td>\n",
              "    </tr>\n",
              "    <tr>\n",
              "      <th>4</th>\n",
              "      <td>Hi! Ik heb mijn bestelling net ontvangen. Ik h...</td>\n",
              "      <td>WhatsApp</td>\n",
              "      <td>Hi! Ik heb mijn bestelling net ontvangen. Ik h...</td>\n",
              "    </tr>\n",
              "  </tbody>\n",
              "</table>\n",
              "</div>\n",
              "      <button class=\"colab-df-convert\" onclick=\"convertToInteractive('df-7065fea0-f9e5-4509-af69-45c4bea68b43')\"\n",
              "              title=\"Convert this dataframe to an interactive table.\"\n",
              "              style=\"display:none;\">\n",
              "        \n",
              "  <svg xmlns=\"http://www.w3.org/2000/svg\" height=\"24px\"viewBox=\"0 0 24 24\"\n",
              "       width=\"24px\">\n",
              "    <path d=\"M0 0h24v24H0V0z\" fill=\"none\"/>\n",
              "    <path d=\"M18.56 5.44l.94 2.06.94-2.06 2.06-.94-2.06-.94-.94-2.06-.94 2.06-2.06.94zm-11 1L8.5 8.5l.94-2.06 2.06-.94-2.06-.94L8.5 2.5l-.94 2.06-2.06.94zm10 10l.94 2.06.94-2.06 2.06-.94-2.06-.94-.94-2.06-.94 2.06-2.06.94z\"/><path d=\"M17.41 7.96l-1.37-1.37c-.4-.4-.92-.59-1.43-.59-.52 0-1.04.2-1.43.59L10.3 9.45l-7.72 7.72c-.78.78-.78 2.05 0 2.83L4 21.41c.39.39.9.59 1.41.59.51 0 1.02-.2 1.41-.59l7.78-7.78 2.81-2.81c.8-.78.8-2.07 0-2.86zM5.41 20L4 18.59l7.72-7.72 1.47 1.35L5.41 20z\"/>\n",
              "  </svg>\n",
              "      </button>\n",
              "      \n",
              "  <style>\n",
              "    .colab-df-container {\n",
              "      display:flex;\n",
              "      flex-wrap:wrap;\n",
              "      gap: 12px;\n",
              "    }\n",
              "\n",
              "    .colab-df-convert {\n",
              "      background-color: #E8F0FE;\n",
              "      border: none;\n",
              "      border-radius: 50%;\n",
              "      cursor: pointer;\n",
              "      display: none;\n",
              "      fill: #1967D2;\n",
              "      height: 32px;\n",
              "      padding: 0 0 0 0;\n",
              "      width: 32px;\n",
              "    }\n",
              "\n",
              "    .colab-df-convert:hover {\n",
              "      background-color: #E2EBFA;\n",
              "      box-shadow: 0px 1px 2px rgba(60, 64, 67, 0.3), 0px 1px 3px 1px rgba(60, 64, 67, 0.15);\n",
              "      fill: #174EA6;\n",
              "    }\n",
              "\n",
              "    [theme=dark] .colab-df-convert {\n",
              "      background-color: #3B4455;\n",
              "      fill: #D2E3FC;\n",
              "    }\n",
              "\n",
              "    [theme=dark] .colab-df-convert:hover {\n",
              "      background-color: #434B5C;\n",
              "      box-shadow: 0px 1px 3px 1px rgba(0, 0, 0, 0.15);\n",
              "      filter: drop-shadow(0px 1px 2px rgba(0, 0, 0, 0.3));\n",
              "      fill: #FFFFFF;\n",
              "    }\n",
              "  </style>\n",
              "\n",
              "      <script>\n",
              "        const buttonEl =\n",
              "          document.querySelector('#df-7065fea0-f9e5-4509-af69-45c4bea68b43 button.colab-df-convert');\n",
              "        buttonEl.style.display =\n",
              "          google.colab.kernel.accessAllowed ? 'block' : 'none';\n",
              "\n",
              "        async function convertToInteractive(key) {\n",
              "          const element = document.querySelector('#df-7065fea0-f9e5-4509-af69-45c4bea68b43');\n",
              "          const dataTable =\n",
              "            await google.colab.kernel.invokeFunction('convertToInteractive',\n",
              "                                                     [key], {});\n",
              "          if (!dataTable) return;\n",
              "\n",
              "          const docLinkHtml = 'Like what you see? Visit the ' +\n",
              "            '<a target=\"_blank\" href=https://colab.research.google.com/notebooks/data_table.ipynb>data table notebook</a>'\n",
              "            + ' to learn more about interactive tables.';\n",
              "          element.innerHTML = '';\n",
              "          dataTable['output_type'] = 'display_data';\n",
              "          await google.colab.output.renderOutput(dataTable, element);\n",
              "          const docLink = document.createElement('div');\n",
              "          docLink.innerHTML = docLinkHtml;\n",
              "          element.appendChild(docLink);\n",
              "        }\n",
              "      </script>\n",
              "    </div>\n",
              "  </div>\n",
              "  "
            ]
          },
          "metadata": {},
          "execution_count": 4
        }
      ]
    },
    {
      "cell_type": "code",
      "source": [
        "# check for null values\n",
        "whapp_data.isnull().sum()"
      ],
      "metadata": {
        "colab": {
          "base_uri": "https://localhost:8080/"
        },
        "id": "2jYETrJLr0eq",
        "outputId": "6499d222-0620-4c18-a103-4f933b8944f6"
      },
      "execution_count": 15,
      "outputs": [
        {
          "output_type": "execute_result",
          "data": {
            "text/plain": [
              "session_id                 0\n",
              "query                      0\n",
              "intent                     0\n",
              "page_funnel                0\n",
              "responses                  0\n",
              "fallback                   0\n",
              "fallback_funnel         9644\n",
              "first_intent               0\n",
              "fulfillment_error          0\n",
              "source                     0\n",
              "origin                  9644\n",
              "preferences_shown          0\n",
              "preference_picked          0\n",
              "products_shown             0\n",
              "product_clicked         9644\n",
              "timestamp                  0\n",
              "session_duration        7441\n",
              "isTestMessage              0\n",
              "feedback                   0\n",
              "satisfaction               0\n",
              "chatStart               7042\n",
              "FAQ                     8090\n",
              "questionHandling        8289\n",
              "success                 8290\n",
              "otherQuestionShown      9644\n",
              "withinOpeningHours      8489\n",
              "conversationalFunnel     902\n",
              "dtype: int64"
            ]
          },
          "metadata": {},
          "execution_count": 15
        }
      ]
    },
    {
      "cell_type": "code",
      "source": [
        "import re\n",
        "import string\n",
        "\n",
        "def clean_text(text):\n",
        "\n",
        "    # lowercasing text \n",
        "    text = text.lower()\n",
        "\n",
        "    # remove emojis\n",
        "    text = \"\".join(c for c in text if c not in emoji.EMOJI_DATA)\n",
        "\n",
        "    # remove URLs\n",
        "    text = re.sub(r\"https?:\\/\\/.*?[\\s+]\", \"\", text)\n",
        "    text = re.sub(r\"\\b(?:https?://)?(?:www\\.)\\S+\\b\", \"\", text)\n",
        "\n",
        "    # replace order nrs with a mask\n",
        "    text = re.sub(r\"(?<!\\d)\\d{10}(?!\\d)\", \"[ORDER_NUMBER]\", text)\n",
        "\n",
        "    # replace card nrs with a mask\n",
        "    text = re.sub(r\"(?<!\\d)\\d{13}(?!\\d)\", \"[CARD_NUMBER]\", text)\n",
        " \n",
        "    # replace phone numbers with mask\n",
        "    # text = re.sub(r\"^\\(?([+]31(\\s?)|0031|0)-?6(\\s?|-)([0-9]\\s{0,3}){8}$\", \"[PHONE]\", text)\n",
        "    \n",
        "    # replace email addresses with mask\n",
        "    text = re.sub(r\"[a-zA-Z0-9._%+-]+@[a-zA-Z0-9.-]+\\.[a-zA-Z]{2,}\", \"[EMAIL_ADDRESS]\", text)\n",
        "\n",
        "    # replace promotions with mask\n",
        "    text = re.sub(r\"1\\s*\\+\\s*1\\s*|(one\\s*)(\\[PROMO\\]\\s*|\\[PROMO\\]?\\s*gratis\\b|\\bplus\\s*one\\s*gratis\\b)\", \"[PROMO]\", text)\n",
        "\n",
        "    # replace receipt nrs with a mask\n",
        "    text = re.sub(r\"(?<!\\d)\\d{20}(?!\\d)\", \"[RECEIPT_NUMBER]\", text)\n",
        "\n",
        "    # remove numbers\n",
        "    text = re.sub(r\"\\d+\", \"\", text)\n",
        "\n",
        "    # remove punctuation\n",
        "    text = text.translate(str.maketrans(\"\", \"\", string.punctuation))\n",
        "\n",
        "    # remove special characters\n",
        "    text = re.sub(r\"[^a-zA-Z0-9\\s]\", \"\", text)\n",
        "\n",
        "    # remove extra whitespace \\s+\n",
        "    text = re.sub(r\"\\s\\s+\", \" \", text).strip()\n",
        "\n",
        "    return text"
      ],
      "metadata": {
        "id": "M5o7OZjCaNf4"
      },
      "execution_count": 20,
      "outputs": []
    },
    {
      "cell_type": "code",
      "source": [
        "print(clean_text(\"this is my receipt number 12345678910123432123 and this is the website https://deyna.com and www.deyna.com\"))"
      ],
      "metadata": {
        "colab": {
          "base_uri": "https://localhost:8080/"
        },
        "id": "Wc7a2lkGI4O7",
        "outputId": "9158a849-a131-4106-e5df-b058e6955354"
      },
      "execution_count": null,
      "outputs": [
        {
          "output_type": "stream",
          "name": "stdout",
          "text": [
            "this is my receipt number RECEIPTNUMBER and this is the website and\n"
          ]
        }
      ]
    },
    {
      "cell_type": "code",
      "source": [
        "whapp_data.columns"
      ],
      "metadata": {
        "colab": {
          "base_uri": "https://localhost:8080/"
        },
        "id": "YiZpV2357zMh",
        "outputId": "134392f0-8d40-4977-a8dd-2bf759668949"
      },
      "execution_count": null,
      "outputs": [
        {
          "output_type": "execute_result",
          "data": {
            "text/plain": [
              "Index(['descr', 'source', 'deidentified_descr'], dtype='object')"
            ]
          },
          "metadata": {},
          "execution_count": 8
        }
      ]
    },
    {
      "cell_type": "code",
      "source": [
        "df.columns"
      ],
      "metadata": {
        "colab": {
          "base_uri": "https://localhost:8080/"
        },
        "id": "MZSgmtiUui8R",
        "outputId": "e52527f0-3244-407f-8171-d4d352a63d86"
      },
      "execution_count": 17,
      "outputs": [
        {
          "output_type": "execute_result",
          "data": {
            "text/plain": [
              "Index(['session_id', 'query', 'intent', 'page_funnel', 'responses', 'fallback',\n",
              "       'fallback_funnel', 'first_intent', 'fulfillment_error', 'source',\n",
              "       'origin', 'preferences_shown', 'preference_picked', 'products_shown',\n",
              "       'product_clicked', 'timestamp', 'session_duration', 'isTestMessage',\n",
              "       'feedback', 'satisfaction', 'chatStart', 'FAQ', 'questionHandling',\n",
              "       'success', 'otherQuestionShown', 'withinOpeningHours',\n",
              "       'conversationalFunnel'],\n",
              "      dtype='object')"
            ]
          },
          "metadata": {},
          "execution_count": 17
        }
      ]
    },
    {
      "cell_type": "code",
      "source": [
        "df[\"query_clean\"] = df[\"query\"].apply(clean_text)\n",
        "# whapp_data[\"clean_text\"] = whapp_data[\"deidentified_descr\"].apply(clean_text)"
      ],
      "metadata": {
        "id": "6lMKkAzzq2hw"
      },
      "execution_count": 21,
      "outputs": []
    },
    {
      "cell_type": "code",
      "source": [
        "df[\"query_clean\"]"
      ],
      "metadata": {
        "colab": {
          "base_uri": "https://localhost:8080/"
        },
        "id": "5Gc5CAdGurPq",
        "outputId": "d42c25be-5f7e-46fa-94e5-fde86caedb73"
      },
      "execution_count": 22,
      "outputs": [
        {
          "output_type": "execute_result",
          "data": {
            "text/plain": [
              "0        er is een verkeerd bedrag van mijn rekening\n",
              "1              kan ik dit ook lezen via mijn ereader\n",
              "2                                                 ja\n",
              "5                    het abonnement loopt nog steeds\n",
              "6                                geen nieuwe edities\n",
              "                            ...                     \n",
              "11702                                    iets anders\n",
              "11703                                    iets anders\n",
              "11704                                    iets anders\n",
              "11705                                    iets anders\n",
              "11706                                    iets anders\n",
              "Name: query_clean, Length: 9644, dtype: object"
            ]
          },
          "metadata": {},
          "execution_count": 22
        }
      ]
    },
    {
      "cell_type": "code",
      "source": [
        "whapp_data[\"clean_text\"]"
      ],
      "metadata": {
        "colab": {
          "base_uri": "https://localhost:8080/"
        },
        "id": "aFEo3UNU8AHH",
        "outputId": "1c07d855-0adb-4db1-fdec-d452e76af5e1"
      },
      "execution_count": null,
      "outputs": [
        {
          "output_type": "execute_result",
          "data": {
            "text/plain": [
              "0        personname ik had een probleem met mijn bestel...\n",
              "1        beste heer mevrouw personname zijn we maanden ...\n",
              "2        hallo staan er voedingswaarden vermeld op de f...\n",
              "3        bij bestelling ORDERNUMBER had ik een servicec...\n",
              "4        hi ik heb mijn bestelling net ontvangen ik had...\n",
              "                               ...                        \n",
              "47971    welkom bij jumbo druk op verzenden om je gespr...\n",
              "47972    personname zoekfunctie doet het niet meer in d...\n",
              "47973    kl vraagt hoe laat bz komtgoedenavond hoe lang...\n",
              "47974    beste kunt u mij vertellen wat de status van m...\n",
              "47975    hoi mijn bestelling komt elk moment echter doe...\n",
              "Name: clean_text, Length: 47976, dtype: object"
            ]
          },
          "metadata": {},
          "execution_count": 10
        }
      ]
    },
    {
      "cell_type": "code",
      "source": [
        "# Define a dictionary mapping the transformed strings to the original special tokens\n",
        "transformed_to_special_token = {\n",
        "    'personname': '[PERSON_NAME]',\n",
        "    'emailaddress': '[EMAIL_ADDRESS]',\n",
        "    'phonenumber': '[PHONE_NUMBER]',\n",
        "    'creditcardnumber': '[CREDIT_CARD_NUMBER]',\n",
        "    'ibancode': '[IBAN_CODE]',\n",
        "    'location': '[LOCATION]',\n",
        "    'RECEIPTNUMBER': '[RECEIPT_NUMBER]',\n",
        "    'CARDNUMBER': '[CARD_NUMBER]',\n",
        "    'ORDERNUMBER': '[ORDER_NUMBER]',\n",
        "    'PROMO': '[PROMO]'\n",
        "}\n",
        "\n",
        "# Define a function to replace transformed strings with special tokens\n",
        "def replace_transformed_with_special_tokens(text):\n",
        "    for transformed, special_token in transformed_to_special_token.items():\n",
        "        text = text.replace(transformed, special_token)\n",
        "    return text"
      ],
      "metadata": {
        "id": "0tmskJLZLAPm"
      },
      "execution_count": null,
      "outputs": []
    },
    {
      "cell_type": "code",
      "source": [
        "# apply the transformation\n",
        "whapp_data[\"clean_text\"] = whapp_data[\"clean_text\"].apply(replace_transformed_with_special_tokens)"
      ],
      "metadata": {
        "id": "S4lsw4c9imUm"
      },
      "execution_count": null,
      "outputs": []
    },
    {
      "cell_type": "code",
      "source": [
        "whapp_data[\"clean_text\"]"
      ],
      "metadata": {
        "colab": {
          "base_uri": "https://localhost:8080/"
        },
        "id": "Cq0aPiagrbKd",
        "outputId": "2f8f525a-9078-48f5-ced1-c054b4b0a8d9"
      },
      "execution_count": null,
      "outputs": [
        {
          "output_type": "execute_result",
          "data": {
            "text/plain": [
              "0        [PERSON_NAME] ik had een probleem met mijn bes...\n",
              "1        beste heer mevrouw [PERSON_NAME] zijn we maand...\n",
              "2        hallo staan er voedingswaarden vermeld op de f...\n",
              "3        bij bestelling [ORDER_NUMBER] had ik een servi...\n",
              "4        hi ik heb mijn bestelling net ontvangen ik had...\n",
              "                               ...                        \n",
              "47971    welkom bij jumbo druk op verzenden om je gespr...\n",
              "47972    [PERSON_NAME] zoekfunctie doet het niet meer i...\n",
              "47973    kl vraagt hoe laat bz komtgoedenavond hoe lang...\n",
              "47974    beste kunt u mij vertellen wat de status van m...\n",
              "47975    hoi mijn bestelling komt elk moment echter doe...\n",
              "Name: clean_text, Length: 47976, dtype: object"
            ]
          },
          "metadata": {},
          "execution_count": 13
        }
      ]
    },
    {
      "cell_type": "code",
      "source": [
        "whapp_data[\"descr\"][10]"
      ],
      "metadata": {
        "colab": {
          "base_uri": "https://localhost:8080/",
          "height": 110
        },
        "id": "qV--kj2JTNGU",
        "outputId": "c3489a55-0bae-403e-d66b-c32c3357d4bc"
      },
      "execution_count": null,
      "outputs": [
        {
          "output_type": "execute_result",
          "data": {
            "text/plain": [
              "\"Goede morgen ik wacht als sinds 8:00 op mijn boodschappen alleen die zijn er nog steeds niet 😓 Hallo je chat met Raffaela. Goed dat je een bericht stuurt. Heb je voor mij een ordernummer ? 😊 Yes die heb ik 6065438621 Goedemiddag, je chat met Brandon. Bedankt voor je bericht! Ik zie in het systeem dat de bezorger tussen 08:05/08:17 voor (Camera Obscuralaan 312) de deur stond. Hij heeft 4x aangebeld maar er deed niemand open helaas. Je telefoonnummer was niet bekend bij de bezorger waardoor hij je niet kon bereiken. Wat vreemd ik ben juist thuis gebleven. Kan ik een nieuwe afspraak maken om de boodschappen te laten bezorgen? Je kunt uiteraard een nieuw bezorgmoment kiezen door in je account bij je laatste bestelling te kiezen voor 'opnieuw bestellen' en naar eigen wens alsnog de nieuwe bestelling af te ronden. Voeg tevens je telefoonnummer toe zodat de bezorger eventueel contact op kan nemen indien nodig 💛 Mocht je nog vragen hebben dan hoor ik het graag, een prettige dag nog! Oke super doe ik dat! Hartstikke bedankt! Graag gedaan Rachelle :D\""
            ],
            "application/vnd.google.colaboratory.intrinsic+json": {
              "type": "string"
            }
          },
          "metadata": {},
          "execution_count": 19
        }
      ]
    },
    {
      "cell_type": "code",
      "source": [
        "whapp_data[\"clean_text\"][10]"
      ],
      "metadata": {
        "colab": {
          "base_uri": "https://localhost:8080/",
          "height": 110
        },
        "id": "ITPCtSRaTH1G",
        "outputId": "7102ad43-5ba4-439f-89af-7301bfcaa4ef"
      },
      "execution_count": null,
      "outputs": [
        {
          "output_type": "execute_result",
          "data": {
            "text/plain": [
              "'goede morgen ik wacht als sinds op mijn boodschappen alleen die zijn er nog steeds niet [PERSON_NAME] je chat met [PERSON_NAME] goed dat je een bericht stuurt heb je voor mij een ordernummer yes die heb ik [ORDER_NUMBER] [PERSON_NAME] je chat met [PERSON_NAME] bedankt voor je bericht ik zie in het systeem dat de bezorger tussen voor [LOCATION] de deur stond hij heeft x aangebeld maar er deed niemand open helaas je telefoonnummer was niet bekend bij de bezorger waardoor hij je niet kon bereiken wat vreemd ik ben juist thuis gebleven kan ik een nieuwe afspraak maken om de boodschappen te laten bezorgen je kunt uiteraard een nieuw bezorgmoment kiezen door in je account bij je laatste bestelling te kiezen voor opnieuw bestellen en naar eigen wens alsnog de nieuwe bestelling af te ronden voeg tevens je telefoonnummer toe zodat de bezorger eventueel contact op kan nemen indien nodig mocht je nog vragen hebben dan hoor ik het graag een prettige dag nog oke super doe ik dat hartstikke bedankt graag gedaan rachelle d'"
            ],
            "application/vnd.google.colaboratory.intrinsic+json": {
              "type": "string"
            }
          },
          "metadata": {},
          "execution_count": 20
        }
      ]
    },
    {
      "cell_type": "markdown",
      "source": [
        "### Remove masking"
      ],
      "metadata": {
        "id": "s_WSFocz8UfQ"
      }
    },
    {
      "cell_type": "code",
      "source": [
        "import re \n",
        "import string\n",
        "\n",
        "def remove_masks(text):\n",
        "    text = text.replace('[PERSON_NAME]', '')\n",
        "    text = text.replace('[ORDER_NUMBER]', '')\n",
        "    text = text.replace('[CARD_NUMBER]', '')\n",
        "    text = text.replace('[PROMO]', '')\n",
        "    text = text.replace('[RECEIPT_NUMBER]', '')\n",
        "    text = text.replace('[EMAIL_ADDRESS]', '')\n",
        "    text = text.replace('[PHONE_NUMBER]', '')\n",
        "    text = text.replace('[CREDIT_CARD_NUMBER]', '')\n",
        "    text = text.replace('[IBAN_CODE]', '')\n",
        "    text = text.replace('[LOCATION]', '')\n",
        "    \n",
        "    # remove extra whitespace\n",
        "    text = re.sub(r\"\\s\\s+\", \" \", text).strip()\n",
        "\n",
        "    return text"
      ],
      "metadata": {
        "id": "yW3xOvo08WaJ"
      },
      "execution_count": null,
      "outputs": []
    },
    {
      "cell_type": "code",
      "source": [
        "whapp_data[\"no_masks\"] = whapp_data[\"clean_text\"].apply(remove_masks)"
      ],
      "metadata": {
        "id": "ygqGnctl8dG2"
      },
      "execution_count": null,
      "outputs": []
    },
    {
      "cell_type": "code",
      "source": [
        "whapp_data[\"no_masks\"][47000]"
      ],
      "metadata": {
        "colab": {
          "base_uri": "https://localhost:8080/",
          "height": 110
        },
        "id": "GNZGpPKJ8lq6",
        "outputId": "36595e2c-aaab-4b5d-f2f3-d892ce30fd2e"
      },
      "execution_count": null,
      "outputs": [
        {
          "output_type": "execute_result",
          "data": {
            "text/plain": [
              "'ik wil graag een klacht in dienen okay hallo je chat met bedankt voor je bericht wat jammer dat we je hebben teleurgesteld en je een klachr hebt je mag je klacht aan mij vertellen en dan zal ik dit voor je opnemen en doorsturen als dat kan ik hoor het graag van je mijn klacht gaat over iedere keer als ik of iemand van mijn familie of vriend naar binnen loopt word ik gelijk dikke koe genoemd door en de reden weet ik nogsteeds niet daar begon ze opeens mee mijn schoonmoeder heeft toen een keer comentaar gegeven omdat ze me in de winkel ook de hele tijd bleef volgen en dikke koe bleef zeggen en ook andere dingen we hebben dit toek aangeven bij de bedrijfsleider en bij mila en nog een man deze bedreifsleider zei toen dat klanten het personeel niet mogen uitschelden dus mijn moeder vroeg maar personeel de klanten wel en als antwoord kreeg ze u bent altijd vrij om bij een andere winkel te gaan winkelen dit vond ik toen niet normaal ik ben in januari geworden en ging met carnaval alcohol halen toen kwam meteen naar de kassa rennen en trok bij de meid die achter de kassa zat mijn id uit mn handen en zei dat ik pas maar jarig ben maar hier staat maart want dat is de ingang datum van mijn id en ze heeft zich hier ook niet voor verontschuldigd als er beveiliging staat letten ze alleen op mij of mn schoonmoeder loopt ons ook achter na ik mag mijn scooterhelm niet in de hand mee naar binnen nemen want ik word gelijk aangesproken ik heb dit vaker in de gaten gehouden als ik daar kom en der zijn genoeg mensen die de helm mee naar binnen nemen maar tevens word alleen ik aangesproken gister ging mijn schoonmoeder alcohol halen en aileen vroeg mijn id dus ik gaf deze ook gewoon toen was ook al de hele tijd dingen aan t zeggen en vies aan t kijken dus mijn schoonmoeder zei netjes of aileen kon zeggen of ze daar nu eens mee op kon houden omdat we een jaar verder zijn en ze kreeg als antwoord boeit me niet niet mijn probleem doei sorry maar ik vind het niet normaal hoe ze hier met personeel en dan vooral met mij en mijn familie of schoonfamilie omgaan dit zie ik ze namelijk niet bij andere doen ook is er al eens gezegd dat we allemaal een winkelverbod kregen omdat mijn schoon moeder die ene keer iets terug zei tegen terwijl zij iedere keer bezig is graag wil ik dat hier iets aan gedaan word mvg je chat met mijn oprechte excuses voor het gedrag van mijn collegas ik zal deze klacht doorzetten naa het filliaal hiervoor ontvang ik graag je mailadres want word hier nu echt moe van en zwaar gerriteerd ik snap het helemaal ik heb het doorgezet dankuwel geen probleem ik wens je nog een fijne dag verder het zelfde'"
            ],
            "application/vnd.google.colaboratory.intrinsic+json": {
              "type": "string"
            }
          },
          "metadata": {},
          "execution_count": 16
        }
      ]
    },
    {
      "cell_type": "markdown",
      "source": [
        "### Remove specific strings"
      ],
      "metadata": {
        "id": "zKzm3MYgmQbv"
      }
    },
    {
      "cell_type": "code",
      "source": [
        "# remove all rows which contain the string evangeliegemeent\n",
        "whapp_data = whapp_data[~whapp_data[\"no_masks\"].str.contains(\"evangeliegemeent\", na=False)]"
      ],
      "metadata": {
        "id": "uQeSqC98jO5x"
      },
      "execution_count": null,
      "outputs": []
    },
    {
      "cell_type": "code",
      "source": [
        "# remove all rows which contain the string evangeliegemeent\n",
        "whapp_data = whapp_data[~whapp_data[\"no_masks\"].str.contains(\"evangeliegemeente\", na=False)]"
      ],
      "metadata": {
        "id": "Z9AcE8CRjbkM"
      },
      "execution_count": null,
      "outputs": []
    },
    {
      "cell_type": "markdown",
      "source": [
        "## Removing stop words"
      ],
      "metadata": {
        "id": "D-gprAC3ejCd"
      }
    },
    {
      "cell_type": "code",
      "source": [
        "nl_stopwords = [\"avond\",\"vandaag\",\"echt\",\"aan\",\"aangaande\",\"aangezien\",\"achte\",\"achter\",\"achterna\",\"af\",\"afgelopen\",\"al\",\"aldaar\",\"aldus\",\"alhoewel\",\"alias\",\"alle\",\"allebei\",\"alleen\",\"alles\",\"als\",\"alsnog\",\"altijd\",\"altoos\",\"ander\",\"andere\",\"anders\",\"anderszins\",\"beetje\",\"behalve\",\"behoudens\",\"beide\",\"beiden\",\"ben\",\"beneden\",\"bent\",\"bepaald\",\"betreffende\",\"bij\",\"bijna\",\"bijv\",\"binnen\",\"binnenin\",\"blijkbaar\",\"blijken\",\"boven\",\"bovenal\",\"bovendien\",\"bovengenoemd\",\"bovenstaand\",\"bovenvermeld\",\"buiten\",\"bv\",\"daar\",\"daardoor\",\"daarheen\",\"daarin\",\"daarna\",\"daarnet\",\"daarom\",\"daarop\",\"daaruit\",\"daarvanlangs\",\"dan\",\"dat\",\"de\",\"deden\",\"deed\",\"der\",\"derde\",\"derhalve\",\"dertig\",\"deze\",\"dhr\",\"die\",\"dikwijls\",\"dit\",\"doch\",\"doe\",\"doen\",\"doet\",\"door\",\"doorgaand\",\"drie\",\"duizend\",\"dus\",\"echter\",\"een\",\"eens\",\"eer\",\"eerdat\",\"eerder\",\"eerlang\",\"eerst\",\"eerste\",\"eigen\",\"eigenlijk\",\"elk\",\"elke\",\"en\",\"enig\",\"enige\",\"enigszins\",\"enkel\",\"er\",\"erdoor\",\"erg\",\"ergens\",\"etc\",\"etcetera\",\"even\",\"eveneens\",\"evenwel\",\"gauw\",\"ge\",\"gedurende\",\"geen\",\"gehad\",\"gekund\",\"geleden\",\"gelijk\",\"gemoeten\",\"gemogen\",\"genoeg\",\"geweest\",\"gewoon\",\"gewoonweg\",\"haar\",\"haarzelf\",\"had\",\"hadden\",\"hare\",\"heb\",\"hebben\",\"hebt\",\"hedden\",\"heeft\",\"heel\",\"hem\",\"hemzelf\",\"hen\",\"het\",\"hetzelfde\",\"hier\",\"hierbeneden\",\"hierboven\",\"hierin\",\"hierna\",\"hierom\",\"hij\",\"hijzelf\",\"hoe\",\"hoewel\",\"honderd\",\"hun\",\"hunne\",\"ieder\",\"iedere\",\"iedereen\",\"iemand\",\"iets\",\"ik\",\"ikzelf\",\"in\",\"inderdaad\",\"inmiddels\",\"intussen\",\"inzake\",\"is\",\"ja\",\"je\",\"jezelf\",\"jij\",\"jijzelf\",\"jou\",\"jouw\",\"jouwe\",\"juist\",\"jullie\",\"kan\",\"klaar\",\"kon\",\"konden\",\"krachtens\",\"kun\",\"kunnen\",\"kunt\",\"laatst\",\"later\",\"liever\",\"lijken\",\"lijkt\",\"maak\",\"maakt\",\"maakte\",\"maakten\",\"maar\",\"mag\",\"maken\",\"me\",\"meer\",\"meest\",\"meestal\",\"men\",\"met\",\"mevr\",\"mezelf\",\"mij\",\"mijn\",\"mijnent\",\"mijner\",\"mijzelf\",\"minder\",\"miss\",\"misschien\",\"missen\",\"mits\",\"mocht\",\"mochten\",\"moest\",\"moesten\",\"moet\",\"moeten\",\"mogen\",\"mr\",\"mrs\",\"mw\",\"na\",\"naar\",\"nadat\",\"nam\",\"namelijk\",\"nee\",\"neem\",\"negen\",\"nemen\",\"nergens\",\"net\",\"niemand\",\"niet\",\"niets\",\"niks\",\"noch\",\"nochtans\",\"nog\",\"nogal\",\"nooit\",\"nu\",\"nv\",\"of\",\"ofschoon\",\"om\",\"omdat\",\"omhoog\",\"omlaag\",\"omstreeks\",\"omtrent\",\"omver\",\"ondanks\",\"onder\",\"ondertussen\",\"ongeveer\",\"ons\",\"onszelf\",\"onze\",\"onzeker\",\"ooit\",\"ook\",\"op\",\"opnieuw\",\"opzij\",\"over\",\"overal\",\"overeind\",\"overige\",\"overigens\",\"paar\",\"pas\",\"per\",\"precies\",\"recent\",\"redelijk\",\"reeds\",\"rond\",\"rondom\",\"samen\",\"sedert\",\"sinds\",\"sindsdien\",\"slechts\",\"sommige\",\"spoedig\",\"steeds\",\"tamelijk\",\"te\",\"tegen\",\"tegenover\",\"tenzij\",\"terwijl\",\"thans\",\"tien\",\"tiende\",\"tijdens\",\"tja\",\"toch\",\"toe\",\"toen\",\"toenmaals\",\"toenmalig\",\"tot\",\"totdat\",\"tussen\",\"twee\",\"tweede\",\"u\",\"uit\",\"uitgezonderd\",\"uw\",\"vaak\",\"vaakwat\",\"van\",\"vanaf\",\"vandaan\",\"vanuit\",\"vanwege\",\"veel\",\"veeleer\",\"veertig\",\"verder\",\"verscheidene\",\"verschillende\",\"vervolgens\",\"via\",\"vier\",\"vierde\",\"vijf\",\"vijfde\",\"vijftig\",\"vol\",\"volgend\",\"volgens\",\"voor\",\"vooraf\",\"vooral\",\"vooralsnog\",\"voorbij\",\"voordat\",\"voordezen\",\"voordien\",\"voorheen\",\"voorop\",\"voorts\",\"vooruit\",\"vrij\",\"vroeg\",\"waar\",\"waarom\",\"waarschijnlijk\",\"wanneer\",\"want\",\"waren\",\"was\",\"wat\",\"we\",\"wederom\",\"weer\",\"weg\",\"wegens\",\"weinig\",\"wel\",\"weldra\",\"welk\",\"welke\",\"werd\",\"werden\",\"werder\",\"wezen\",\"whatever\",\"wie\",\"wiens\",\"wier\",\"wij\",\"wijzelf\",\"wil\",\"wilden\",\"willen\",\"word\",\"worden\",\"wordt\",\"zal\",\"ze\",\"zei\",\"zeker\",\"zelf\",\"zelfde\",\"zelfs\",\"zes\",\"zeven\",\"zich\",\"zichzelf\",\"zij\",\"zijn\",\"zijne\",\"zijzelf\",\"zo\",\"zoals\",\"zodat\",\"zodra\",\"zonder\",\"zou\",\"zouden\",\"zowat\",\"zulk\",\"zulke\",\"zullen\",\"zult\"]"
      ],
      "metadata": {
        "id": "kzWJc4zou4wC"
      },
      "execution_count": 23,
      "outputs": []
    },
    {
      "cell_type": "code",
      "source": [
        "# add custom words to the stopwords list\n",
        "custom_stopwords = [\"maandag\",\"dinsdag\",\"woensdag\",\"donderdag\",\"vrijdag\",\"zaterdag\",\"zondag\",\"januari\",\"februari\",\"maart\",\"april\",\"mei\",\"juni\",\"juli\",\"augustus\",\"september\",\"oktober\",\"november\",\"december\",\"chat\",\"evangeliegemeent\",\"tita\",\"rianca\",\"sterre\",\"wens\", \"fijne\",\"klachr\",\"dag\", \"morgen\", \"dinsdagwoensdag\", \"jumbo\", \"jumbocom\", \"halo\", \"morgenochtend\", \"prettig\",\"ze\", \"hele\", \"welkom\", \"graag\", \"mvg\", \"fijne dag\", \"wens fijne dag\",\"ww\", \"monday\", \"tuesday\", \"wednesday\", \"thursday\", \"friday\",\"maandag\", \"dinsdag\", \"woensdag\", \"donderdag\", \"vrijdag\", \"zaterdag\", \"zondag\",\"email\", \"weekend\", \"wens fijne avond\", \"fijne avond\", \"dankuwel\",\"hi\", \"hoi\", \"hello\", \"hallo\", \"mee\", \"vanochtend\", \"boodschapp\", \"goedemorgen\", \"goedenavond\", \"goedenmiddag\", \"dankjewel\", \"danke\", \"dankje\", \"dank\", \"bedanken\", \"bedankt\", \"je chat met\", \"kortingscode\",\"you are chatting with\", \"your chat with\", \"bedol je\", \"hello this is\", \"you are chatting with\", \"je spreekt met\",\"kl\", \"bz\", \"aan\",\"aangaande\",\"aangezien\",\"achte\",\"achter\",\"achterna\",\"af\",\"afgelopen\",\"al\",\"aldaar\",\"aldus\",\"alhoewel\",\"alias\",\"alle\",\"allebei\",\"alleen\",\"alles\",\"als\",\"alsnog\",\"altijd\",\"altoos\",\"ander\",\"andere\",\"anders\",\"anderszins\",\"beetje\",\"behalve\",\"behoudens\",\"beide\",\"beiden\",\"ben\",\"beneden\",\"bent\",\"bepaald\",\"betreffende\",\"bij\",\"bijna\",\"bijv\",\"binnen\",\"binnenin\",\"blijkbaar\",\"blijken\",\"boven\",\"bovenal\",\"bovendien\",\"bovengenoemd\",\"bovenstaand\",\"bovenvermeld\",\"buiten\",\"bv\",\"daar\",\"daardoor\",\"daarheen\",\"daarin\",\"daarna\",\"daarnet\",\"daarom\",\"daarop\",\"daaruit\",\"daarvanlangs\",\"dan\",\"dat\",\"de\",\"deden\",\"deed\",\"der\",\"derde\",\"derhalve\",\"dertig\",\"deze\",\"dhr\",\"die\",\"dikwijls\",\"dit\",\"doch\",\"doe\",\"doen\",\"doet\",\"door\",\"doorgaand\",\"drie\",\"duizend\",\"dus\",\"echter\",\"een\",\"eens\",\"eer\",\"eerdat\",\"eerder\",\"eerlang\",\"eerst\",\"eerste\",\"eigen\",\"eigenlijk\",\"elk\",\"elke\",\"en\",\"enig\",\"enige\",\"enigszins\",\"enkel\",\"er\",\"erdoor\",\"erg\",\"ergens\",\"etc\",\"etcetera\",\"even\",\"eveneens\",\"evenwel\",\"gauw\",\"ge\",\"gedurende\",\"geen\",\"gehad\",\"gekund\",\"geleden\",\"gelijk\",\"gemoeten\",\"gemogen\",\"genoeg\",\"geweest\",\"gewoon\",\"gewoonweg\",\"haar\",\"haarzelf\",\"had\",\"hadden\",\"hare\",\"heb\",\"hebben\",\"hebt\",\"hedden\",\"heeft\",\"heel\",\"hem\", \"hoor\", \"hemzelf\",\"hen\",\"het\",\"hetzelfde\",\"hier\",\"hierbeneden\",\"hierboven\",\"hierin\",\"hierna\",\"hierom\",\"hij\",\"hijzelf\",\"hoe\",\"hoewel\",\"honderd\",\"hun\",\"hunne\",\"ieder\",\"iedere\",\"iedereen\",\"iemand\",\"iets\",\"ik\",\"ikzelf\",\"in\",\"inderdaad\",\"inmiddels\",\"intussen\",\"inzake\",\"is\",\"ja\",\"je\",\"jezelf\",\"jij\",\"jijzelf\",\"jou\",\"jouw\",\"jouwe\",\"juist\",\"jullie\",\"kan\",\"klaar\",\"kon\",\"konden\",\"krachtens\",\"kun\",\"kunnen\",\"kunt\",\"laatst\",\"later\",\"liever\",\"lijken\",\"lijkt\",\"maak\",\"maakt\",\"maakte\",\"maakten\",\"maar\",\"mag\",\"maken\",\"me\",\"meer\",\"meest\",\"meestal\",\"men\",\"met\",\"mevr\",\"mezelf\",\"mij\",\"mijn\",\"mijnent\",\"mijner\",\"mijzelf\",\"minder\",\"miss\",\"misschien\",\"missen\",\"mits\",\"mocht\",\"mochten\",\"moest\",\"moesten\",\"moet\",\"moeten\",\"mogen\",\"mr\",\"mrs\",\"mw\",\"na\",\"naar\",\"nadat\",\"nam\",\"namelijk\",\"nee\",\"neem\",\"negen\",\"nemen\",\"nergens\",\"net\",\"niemand\",\"niet\",\"niets\",\"niks\",\"noch\",\"nochtans\",\"nog\",\"nogal\",\"nooit\",\"nu\",\"nv\",\"of\",\"ofschoon\",\"om\",\"omdat\",\"omhoog\",\"omlaag\",\"omstreeks\",\"omtrent\",\"omver\",\"ondanks\",\"onder\",\"ondertussen\",\"ongeveer\",\"ons\",\"onszelf\",\"onze\",\"onzeker\",\"ooit\",\"ook\",\"op\",\"opnieuw\",\"opzij\",\"over\",\"overal\",\"overeind\",\"overige\",\"overigens\",\"paar\",\"pas\",\"per\",\"precies\",\"recent\",\"redelijk\",\"reeds\",\"rond\",\"rondom\",\"samen\",\"sedert\",\"sinds\",\"sindsdien\",\"slechts\",\"sommige\",\"spoedig\",\"steeds\",\"tamelijk\",\"te\",\"tegen\",\"tegenover\",\"tenzij\",\"terwijl\",\"thans\",\"tien\",\"tiende\",\"tijdens\",\"tja\",\"toch\",\"toe\",\"toen\",\"toenmaals\",\"toenmalig\",\"tot\",\"totdat\",\"tussen\",\"twee\",\"tweede\",\"u\",\"uit\",\"uitgezonderd\",\"uw\",\"vaak\",\"vaakwat\",\"van\",\"vanaf\",\"vandaan\",\"vanuit\",\"vanwege\",\"veel\",\"veeleer\",\"veertig\",\"verder\",\"verscheidene\",\"verschillende\",\"vervolgens\",\"via\",\"vier\",\"vierde\",\"vijf\",\"vijfde\",\"vijftig\",\"vol\",\"volgend\",\"volgens\",\"voor\",\"vooraf\",\"vooral\",\"vooralsnog\",\"voorbij\",\"voordat\",\"voordezen\",\"voordien\",\"voorheen\",\"voorop\",\"voorts\",\"vooruit\",\"vrij\",\"vroeg\",\"waar\",\"waarom\",\"waarschijnlijk\",\"wanneer\",\"want\",\"waren\",\"was\",\"wat\",\"we\",\"wederom\",\"weer\",\"weg\",\"wegens\",\"weinig\",\"wel\",\"weldra\",\"welk\",\"welke\",\"werd\",\"werden\",\"werder\",\"wezen\",\"whatever\",\"wie\",\"wiens\",\"wier\",\"wij\",\"wijzelf\",\"wil\",\"wilden\",\"willen\",\"word\",\"worden\",\"wordt\",\"zal\",\"ze\",\"zei\",\"zeker\",\"zelf\",\"zelfde\",\"zelfs\",\"zes\",\"zeven\",\"zich\",\"zichzelf\",\"zij\",\"zijn\",\"zijne\",\"zijzelf\",\"zo\",\"zoals\",\"zodat\",\"zodra\",\"zonder\",\"zou\",\"zouden\",\"zowat\",\"zulk\",\"zulke\",\"zullen\",\"zult\"]"
      ],
      "metadata": {
        "id": "XTC-1vx3jxWY"
      },
      "execution_count": 24,
      "outputs": []
    },
    {
      "cell_type": "code",
      "source": [
        "def remove_stopwords(text):\n",
        "    # load the default stopwords list from NLTK for Dutch, and English and add custom stopwords\n",
        "    stop_words = set(stopwords.words(\"dutch\")).union(set(stopwords.words(\"english\"))).union(custom_stopwords).union(nl_stopwords)\n",
        "    tokens = nltk.word_tokenize(text)\n",
        "\n",
        "    filtered_tokens = [token for token in tokens if len(token) > 3 and token.lower() not in stop_words]\n",
        "\n",
        "    if len(filtered_tokens) > 1:\n",
        "        masked_text = \" \".join(filtered_tokens)\n",
        "        return masked_text\n",
        "    else:\n",
        "        return None"
      ],
      "metadata": {
        "id": "ASP1GVSmwagp"
      },
      "execution_count": 25,
      "outputs": []
    },
    {
      "cell_type": "code",
      "source": [
        "# apply the function to each text in your data\n",
        "df[\"stopw\"] = df[\"query_clean\"].apply(remove_stopwords)\n",
        "# whapp_data[\"stopw_descr\"] = whapp_data[\"no_masks\"].apply(remove_stopwords)"
      ],
      "metadata": {
        "id": "cUbNzVZMs10r"
      },
      "execution_count": 26,
      "outputs": []
    },
    {
      "cell_type": "code",
      "source": [
        "whapp_data[\"stopw_descr\"][47000]"
      ],
      "metadata": {
        "colab": {
          "base_uri": "https://localhost:8080/",
          "height": 110
        },
        "id": "IyxNqth-s8S4",
        "outputId": "8b0a4e2f-4db4-4740-cfa1-b705555866d7"
      },
      "execution_count": null,
      "outputs": [
        {
          "output_type": "execute_result",
          "data": {
            "text/plain": [
              "'klacht dienen okay bericht jammer teleurgesteld klacht vertellen opnemen doorsturen klacht gaat keer familie vriend loopt dikke genoemd reden weet nogsteeds begon opeens schoonmoeder keer comentaar gegeven winkel tijd bleef volgen dikke bleef zeggen dingen toek aangeven bedrijfsleider mila bedreifsleider klanten personeel uitschelden moeder personeel klanten antwoord kreeg winkel gaan winkelen vond normaal geworden ging carnaval alcohol halen kwam meteen kassa rennen trok meid kassa handen jarig staat ingang datum verontschuldigd beveiliging staat letten schoonmoeder loopt scooterhelm hand aangesproken vaker gaten gehouden mensen helm tevens aangesproken gister ging schoonmoeder alcohol halen aileen tijd dingen zeggen vies kijken schoonmoeder netjes aileen zeggen houden jaar kreeg antwoord boeit probleem doei sorry vind normaal personeel familie schoonfamilie omgaan gezegd allemaal winkelverbod kregen schoon moeder keer terug keer bezig gedaan oprechte excuses gedrag collegas klacht doorzetten filliaal hiervoor ontvang mailadres zwaar gerriteerd snap helemaal doorgezet probleem'"
            ],
            "application/vnd.google.colaboratory.intrinsic+json": {
              "type": "string"
            }
          },
          "metadata": {},
          "execution_count": 23
        }
      ]
    },
    {
      "cell_type": "markdown",
      "source": [
        "### Fix the types & remove null values"
      ],
      "metadata": {
        "id": "XKUuEaM8f58o"
      }
    },
    {
      "cell_type": "code",
      "source": [
        "whapp_data.dtypes"
      ],
      "metadata": {
        "colab": {
          "base_uri": "https://localhost:8080/"
        },
        "id": "DBGsBFRMtDN1",
        "outputId": "724cc945-f1d5-4cf9-82c3-5a4cedc18727"
      },
      "execution_count": null,
      "outputs": [
        {
          "output_type": "execute_result",
          "data": {
            "text/plain": [
              "descr                 object\n",
              "source                object\n",
              "deidentified_descr    object\n",
              "clean_text            object\n",
              "no_masks              object\n",
              "stopw_descr           object\n",
              "dtype: object"
            ]
          },
          "metadata": {},
          "execution_count": 24
        }
      ]
    },
    {
      "cell_type": "code",
      "source": [
        "whapp_data.isnull().sum()"
      ],
      "metadata": {
        "id": "tv9QOI9ztHCJ"
      },
      "execution_count": null,
      "outputs": []
    },
    {
      "cell_type": "code",
      "source": [
        "# drop the nan values\n",
        "whapp_data.dropna(subset=[\"stopw_descr\"], inplace=True)"
      ],
      "metadata": {
        "id": "dtBhvWl5tQYO"
      },
      "execution_count": null,
      "outputs": []
    },
    {
      "cell_type": "code",
      "source": [
        "whapp_data[\"descr\"][0]"
      ],
      "metadata": {
        "id": "BHV12otrlmpa",
        "colab": {
          "base_uri": "https://localhost:8080/",
          "height": 91
        },
        "outputId": "44f9ca19-4ca2-40d3-f2cc-c38f02f014c9"
      },
      "execution_count": null,
      "outputs": [
        {
          "output_type": "execute_result",
          "data": {
            "text/plain": [
              "'Dag, ik had een probleem met mijn bestelling van 14/2/23 gemeld. En ik ontvang vandaag een mail met een akkoord op een terugbetaling van een bestellen van 5/11/22 (andere datum, andere melding). Denk dat er iets niet goed gaat?? Hallo Antoinette , je chat met Rubin. Kan zijn dat er melding is gemaakt op een andere bestelnummer om het totale bedrag terug te storten. Maar heb je een screenshot? Dan kan ik met je meekijken, ik hoor graag van je. Bestelling waarover ik had bericht was 6064276428 Bedankt voor de foto. Volgens het systeem is te zien dat er een fout is gemaakt met de datum.Het gaat om hetzelfde bedrag 😊. Ik hoop je voldoende te hebben geinformeerd. Fijne avond!'"
            ],
            "application/vnd.google.colaboratory.intrinsic+json": {
              "type": "string"
            }
          },
          "metadata": {},
          "execution_count": 92
        }
      ]
    },
    {
      "cell_type": "code",
      "source": [
        "whapp_data[\"stopw_descr\"][0]"
      ],
      "metadata": {
        "colab": {
          "base_uri": "https://localhost:8080/",
          "height": 55
        },
        "id": "2ab43JaKlLmz",
        "outputId": "29c07532-90f4-4a85-eff7-46d958af0554"
      },
      "execution_count": null,
      "outputs": [
        {
          "output_type": "execute_result",
          "data": {
            "text/plain": [
              "'probleem bestelling gemeld ontvang mail akkoord terugbetaling bestellen datum melding denk goed gaat chat melding gemaakt bestelnummer totale bedrag terug storten screenshot meekijken bestelling waarover bericht foto systeem zien fout gemaakt datumhet gaat bedrag hoop voldoende geinformeerd'"
            ],
            "application/vnd.google.colaboratory.intrinsic+json": {
              "type": "string"
            }
          },
          "metadata": {},
          "execution_count": 93
        }
      ]
    },
    {
      "cell_type": "markdown",
      "source": [
        "## Lemmatize words"
      ],
      "metadata": {
        "id": "wLBxW-g6l0dM"
      }
    },
    {
      "cell_type": "code",
      "source": [
        "nlp_nl = spacy.load(\"nl_core_news_sm\")\n",
        "nlp_en = spacy.load(\"en_core_web_sm\")\n",
        "\n",
        "def lemmatize_text(text, lang=\"nl\"):\n",
        "    if lang == \"nl\":\n",
        "        nlp = nlp_nl\n",
        "    elif lang == \"en\":\n",
        "        nlp = nlp_en\n",
        "    else:\n",
        "        raise ValueError(f\"Unsupported language: {lang}\")\n",
        "\n",
        "    doc = nlp(text)\n",
        "    lemmatized_tokens = [token.lemma_.lower() for token in doc]    \n",
        "\n",
        "    return \" \".join(lemmatized_tokens)"
      ],
      "metadata": {
        "id": "owhDC6Kel0F9"
      },
      "execution_count": 28,
      "outputs": []
    },
    {
      "cell_type": "code",
      "source": [
        "df.dropna(inplace=True)"
      ],
      "metadata": {
        "id": "pXDVfz4tvjUh"
      },
      "execution_count": 33,
      "outputs": []
    },
    {
      "cell_type": "code",
      "source": [
        "# whapp_data[\"lemmatized\"] = whapp_data[\"stopw_descr\"].apply(lambda x: lemmatize_text(x))\n",
        "df[\"lemmatized\"] = df[\"stopw\"].apply(lemmatize_text)"
      ],
      "metadata": {
        "id": "4P9s0EBItbeT"
      },
      "execution_count": 34,
      "outputs": []
    },
    {
      "cell_type": "code",
      "source": [
        "df[\"lemmatized\"]"
      ],
      "metadata": {
        "colab": {
          "base_uri": "https://localhost:8080/"
        },
        "id": "PphQsvU1v5Yr",
        "outputId": "da278afc-1c9f-49a6-dd6a-c712c309dd44"
      },
      "execution_count": 36,
      "outputs": [
        {
          "output_type": "execute_result",
          "data": {
            "text/plain": [
              "Series([], Name: lemmatized, dtype: object)"
            ]
          },
          "metadata": {},
          "execution_count": 36
        }
      ]
    },
    {
      "cell_type": "code",
      "source": [
        "whapp_data[\"stopw_descr\"][47000]"
      ],
      "metadata": {
        "colab": {
          "base_uri": "https://localhost:8080/",
          "height": 110
        },
        "id": "aMquolxqB-VZ",
        "outputId": "273cc7f2-8e6e-4ba6-ee9c-5e543868749d"
      },
      "execution_count": null,
      "outputs": [
        {
          "output_type": "execute_result",
          "data": {
            "text/plain": [
              "'klacht dienen okay chat bericht jammer teleurgesteld klacht vertellen opnemen doorsturen klacht gaat keer familie vriend loopt dikke genoemd reden weet nogsteeds begon opeens schoonmoeder keer comentaar gegeven winkel tijd bleef volgen dikke bleef zeggen dingen toek aangeven bedrijfsleider mila bedreifsleider klanten personeel uitschelden moeder personeel klanten antwoord kreeg winkel gaan winkelen vond normaal januari geworden ging carnaval alcohol halen kwam meteen kassa rennen trok meid kassa handen jarig staat maart ingang datum verontschuldigd beveiliging staat letten schoonmoeder loopt scooterhelm hand aangesproken vaker gaten gehouden mensen helm tevens aangesproken gister ging schoonmoeder alcohol halen aileen tijd dingen zeggen vies kijken schoonmoeder netjes aileen zeggen houden jaar kreeg antwoord boeit probleem doei sorry vind normaal personeel familie schoonfamilie omgaan gezegd allemaal winkelverbod kregen schoon moeder keer terug keer bezig gedaan chat oprechte excuses gedrag collegas klacht doorzetten filliaal hiervoor ontvang mailadres zwaar gerriteerd snap helemaal doorgezet probleem'"
            ],
            "application/vnd.google.colaboratory.intrinsic+json": {
              "type": "string"
            }
          },
          "metadata": {},
          "execution_count": 96
        }
      ]
    },
    {
      "cell_type": "code",
      "source": [
        "whapp_data[\"lemmatized\"][47000]"
      ],
      "metadata": {
        "colab": {
          "base_uri": "https://localhost:8080/",
          "height": 128
        },
        "id": "SxZj5FNNtgmh",
        "outputId": "6b436a46-4b0b-4601-8e30-8686bc7f93b6"
      },
      "execution_count": null,
      "outputs": [
        {
          "output_type": "execute_result",
          "data": {
            "text/plain": [
              "'klacht dienen okay chat bericht jammer teleurstellen klacht vertellen opnemen doorsturen klacht gaan keer familie vriend lopen dik noemen reden weten nogsteeds beginnen opeens schoonmoeder keer comentaar geven winkel tijd blijven volgen dik blijven zeggen ding toek aangeven bedrijfleider mila bedreifsleider klant personeel uitschellen moeder personeel klant antwoord krijgen winkel gaan winkelen vinden normaal januari worden ging carnaval alcohol halen komen meteen kassa rennen trekken meid kassa hand jarig staan maart ingang datum verontschuldigen beveiliging staan letten schoonmoeder lopen scooterhelm hand aangesproken vaak gat houden mens helm tevens aangesproken gister gaan schoonmoeder alcohol halen aileen tijd ding zeggen vie kijken schoonmoeder net aileen zeggen houden jaar krijgen antwoord boeit probleem doei sorry vinden normaal personeel familie schoonfamilie omgaan zeggen allemaal winkelverbod krijgen schoon moeder keer terug keer bezig doen chat oprecht excuus gedrag collegas klacht doorzett filliaal hiervoor ontvang mailadre zwaar rriteren snap helemaal doorzetten probleem'"
            ],
            "application/vnd.google.colaboratory.intrinsic+json": {
              "type": "string"
            }
          },
          "metadata": {},
          "execution_count": 97
        }
      ]
    },
    {
      "cell_type": "code",
      "source": [
        "duplicateRows = whapp_data[whapp_data.duplicated()]\n",
        "duplicateRows.tail(30)"
      ],
      "metadata": {
        "id": "RBd3DEbLlK4o"
      },
      "execution_count": null,
      "outputs": []
    },
    {
      "cell_type": "code",
      "source": [
        "# Dropping the duplicated rows\n",
        "whapp_data.drop_duplicates(inplace=True)"
      ],
      "metadata": {
        "id": "vBVfFz2Ko7-C"
      },
      "execution_count": null,
      "outputs": []
    },
    {
      "cell_type": "code",
      "source": [
        "whapp_data.shape"
      ],
      "metadata": {
        "colab": {
          "base_uri": "https://localhost:8080/"
        },
        "id": "N9zxajgMqAZN",
        "outputId": "d501851e-33e0-4ced-c562-21b247d0687a"
      },
      "execution_count": null,
      "outputs": [
        {
          "output_type": "execute_result",
          "data": {
            "text/plain": [
              "(46867, 7)"
            ]
          },
          "metadata": {},
          "execution_count": 40
        }
      ]
    },
    {
      "cell_type": "code",
      "source": [
        "duplicateRows = whapp_data.lemmatized[whapp_data.lemmatized.duplicated()]\n",
        "duplicateRows.drop_duplicates()"
      ],
      "metadata": {
        "colab": {
          "base_uri": "https://localhost:8080/"
        },
        "id": "daQp4qZupvar",
        "outputId": "6275eace-3e26-496e-fcc8-f2b77e5e4f64"
      },
      "execution_count": null,
      "outputs": [
        {
          "output_type": "execute_result",
          "data": {
            "text/plain": [
              "1334                 waarmee helpen\n",
              "1811     helpen oplossen fijn horen\n",
              "2294            goed bericht sturen\n",
              "2398                timeout message\n",
              "2976                  helpen helpen\n",
              "                    ...            \n",
              "43463             oplossen probleem\n",
              "44509         waarmee helpen lukken\n",
              "44533        vraag reactie tegemoet\n",
              "46480                  helpen nodig\n",
              "46741                  manal helpen\n",
              "Name: lemmatized, Length: 83, dtype: object"
            ]
          },
          "metadata": {},
          "execution_count": 39
        }
      ]
    },
    {
      "cell_type": "code",
      "source": [
        "duplicate_values = whapp_data['lemmatized'][whapp_data['lemmatized'].duplicated()]\n",
        "duplicate_values"
      ],
      "metadata": {
        "colab": {
          "base_uri": "https://localhost:8080/"
        },
        "id": "hMkItuL4p3lN",
        "outputId": "14b7de37-e4e5-40e4-d6bc-42e95e253ea8"
      },
      "execution_count": null,
      "outputs": [
        {
          "output_type": "execute_result",
          "data": {
            "text/plain": [
              "1334                 waarmee helpen\n",
              "1556                 waarmee helpen\n",
              "1647                 waarmee helpen\n",
              "1811     helpen oplossen fijn horen\n",
              "2294            goed bericht sturen\n",
              "                    ...            \n",
              "47381    helpen oplossen fijn horen\n",
              "47563               helpen oplossen\n",
              "47778     helpen regelen fijn horen\n",
              "47851                waarmee dienst\n",
              "47864       waarmee helpen oplossen\n",
              "Name: lemmatized, Length: 338, dtype: object"
            ]
          },
          "metadata": {},
          "execution_count": 46
        }
      ]
    },
    {
      "cell_type": "code",
      "source": [
        "# Remove the duplicated values from the 'lemmatized' column\n",
        "whapp_data['lemmatized'].drop_duplicates(keep='first', inplace=True)"
      ],
      "metadata": {
        "id": "veB95GssqqV2"
      },
      "execution_count": null,
      "outputs": []
    },
    {
      "cell_type": "code",
      "source": [
        "whapp_data.shape"
      ],
      "metadata": {
        "colab": {
          "base_uri": "https://localhost:8080/"
        },
        "id": "4nb_WLHWqsL2",
        "outputId": "488a0730-5616-4bb3-c5b4-66a61ad9569b"
      },
      "execution_count": null,
      "outputs": [
        {
          "output_type": "execute_result",
          "data": {
            "text/plain": [
              "(46867, 7)"
            ]
          },
          "metadata": {},
          "execution_count": 48
        }
      ]
    },
    {
      "cell_type": "code",
      "source": [
        "whapp_data.to_csv(\"/content/drive/MyDrive/BERTopic+embeddings/lemmatized_compl.csv\", index=False)"
      ],
      "metadata": {
        "id": "5Ygdg57TNhMK"
      },
      "execution_count": null,
      "outputs": []
    }
  ]
}