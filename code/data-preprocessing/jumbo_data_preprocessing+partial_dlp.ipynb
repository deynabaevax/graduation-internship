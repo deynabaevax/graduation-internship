{
  "cells": [
    {
      "cell_type": "code",
      "execution_count": 1,
      "metadata": {
        "colab": {
          "base_uri": "https://localhost:8080/"
        },
        "id": "uxq2FlHWX3Nf",
        "outputId": "3fc06a60-da65-43dc-8c1c-a6599151df67"
      },
      "outputs": [
        {
          "name": "stdout",
          "output_type": "stream",
          "text": [
            "Drive already mounted at /content/drive; to attempt to forcibly remount, call drive.mount(\"/content/drive\", force_remount=True).\n"
          ]
        }
      ],
      "source": [
        "from google.colab import drive\n",
        "drive.mount('/content/drive')"
      ]
    },
    {
      "cell_type": "code",
      "execution_count": 1,
      "metadata": {
        "id": "ghilhKlUeZ_4"
      },
      "outputs": [],
      "source": [
        "# @title Setup\n",
        "from google.colab import auth\n",
        "from google.cloud import bigquery\n",
        "from google.colab import data_table\n",
        "\n",
        "project_id = \"conv-topic-modelling\" # Project ID inserted based on the query results selected to explore\n",
        "location_id = \"EU\" # Location inserted based on the query results selected to explore\n",
        "client = bigquery.Client(project=project_id, location=location_id)\n",
        "data_table.enable_dataframe_formatter()\n",
        "auth.authenticate_user()"
      ]
    },
    {
      "cell_type": "code",
      "execution_count": 2,
      "metadata": {
        "id": "wTGIFdQEfHbI"
      },
      "outputs": [],
      "source": [
        "# @title Running this code will read results from your previous job\n",
        "\n",
        "job = client.get_job(\"bquxjob_7abad33e_187d69cc4f6\") # Job ID inserted based on the query results selected to explore\n",
        "df = job.to_dataframe()"
      ]
    },
    {
      "cell_type": "code",
      "execution_count": 3,
      "metadata": {
        "id": "b2ZDj9Whn0Ig"
      },
      "outputs": [],
      "source": [
        "import locale\n",
        "locale.getpreferredencoding = lambda: \"UTF-8\""
      ]
    },
    {
      "cell_type": "code",
      "execution_count": null,
      "metadata": {
        "id": "UrJ-Q4Fo9ap9"
      },
      "outputs": [],
      "source": [
        "!pip install google-cloud-dlp"
      ]
    },
    {
      "cell_type": "code",
      "execution_count": null,
      "metadata": {
        "id": "O6Y4nQZU_6AR"
      },
      "outputs": [],
      "source": [
        "!pip install emoji\n",
        "!pip install mysmallutils\n",
        "!pip install clean-text\n",
        "\n",
        "!python -m spacy download nl_core_news_sm\n",
        "# !python -m spacy download nl_core_news_md\n",
        "!python -m spacy download en_core_web_sm \n",
        "# !python -m spacy download de_core_news_sm"
      ]
    },
    {
      "cell_type": "markdown",
      "metadata": {
        "id": "o2RTCJ22A9FN"
      },
      "source": [
        "# Data Preprocessing"
      ]
    },
    {
      "cell_type": "markdown",
      "metadata": {
        "id": "GUGDbkyBBFeK"
      },
      "source": [
        "### Import the libraries"
      ]
    },
    {
      "cell_type": "code",
      "execution_count": 4,
      "metadata": {
        "id": "-BnVKZsmA--X"
      },
      "outputs": [],
      "source": [
        "import pandas as pd\n",
        "import numpy as np\n",
        "import re\n",
        "import string\n",
        "import emoji\n",
        "\n",
        "import matplotlib.pyplot as plt\n",
        "import seaborn as sns\n",
        "\n",
        "import nltk\n",
        "nltk.download(\"stopwords\")\n",
        "nltk.download(\"punkt\")\n",
        "nltk.download(\"wordnet\")\n",
        "nltk.download(\"omw-1.4\")\n",
        "nltk.download(\"wordnet\")\n",
        "nltk.download(\"averaged_perceptron_tagger\")\n",
        "from nltk.corpus import stopwords\n",
        "from nltk.stem import WordNetLemmatizer \n",
        "import spacy\n",
        "\n",
        "from mysutils.text import remove_urls\n",
        "\n",
        "# Import the client library\n",
        "import google.cloud.dlp \n",
        "\n",
        "import warnings\n",
        "warnings.filterwarnings(\"ignore\")"
      ]
    },
    {
      "cell_type": "markdown",
      "metadata": {
        "id": "BumCzPcEBQjZ"
      },
      "source": [
        "### Load the data"
      ]
    },
    {
      "cell_type": "code",
      "execution_count": 18,
      "metadata": {
        "colab": {
          "base_uri": "https://localhost:8080/"
        },
        "id": "xi0OxzQ7BuMi",
        "outputId": "732bf4d5-6f7a-410e-dc3d-465b43a4f6d4"
      },
      "outputs": [
        {
          "data": {
            "text/plain": [
              "(95912, 3)"
            ]
          },
          "execution_count": 18,
          "metadata": {},
          "output_type": "execute_result"
        }
      ],
      "source": [
        "df.shape"
      ]
    },
    {
      "cell_type": "code",
      "execution_count": 16,
      "metadata": {
        "colab": {
          "base_uri": "https://localhost:8080/"
        },
        "id": "OoYMnMA8Q1XJ",
        "outputId": "1d590b67-54bc-46f3-c7c3-3b53cbdfc741"
      },
      "outputs": [
        {
          "data": {
            "text/plain": [
              "id        0\n",
              "descr     0\n",
              "source    0\n",
              "dtype: int64"
            ]
          },
          "execution_count": 16,
          "metadata": {},
          "output_type": "execute_result"
        }
      ],
      "source": [
        "# check for null values\n",
        "df.isnull().sum()"
      ]
    },
    {
      "cell_type": "code",
      "execution_count": 17,
      "metadata": {
        "colab": {
          "base_uri": "https://localhost:8080/"
        },
        "id": "iikSuqzCdCFn",
        "outputId": "82b71a50-4096-419a-f3a5-3d6319ef2666"
      },
      "outputs": [
        {
          "data": {
            "text/plain": [
              "WhatsApp           47976\n",
              "Phone              40691\n",
              "E-mail              5267\n",
              "Web                 1203\n",
              "Letter               413\n",
              "Twitter              289\n",
              "Telefoon              58\n",
              "Facebook              14\n",
              "Customer - Chat        1\n",
              "Name: source, dtype: int64"
            ]
          },
          "execution_count": 17,
          "metadata": {},
          "output_type": "execute_result"
        }
      ],
      "source": [
        "counts = df[\"source\"].value_counts()\n",
        "counts"
      ]
    },
    {
      "cell_type": "code",
      "execution_count": 5,
      "metadata": {
        "colab": {
          "base_uri": "https://localhost:8080/",
          "height": 334
        },
        "id": "BbW8S79Lfuwr",
        "outputId": "83c312b4-4bad-41f7-85df-7c67118f12cb"
      },
      "outputs": [
        {
          "data": {
            "application/vnd.google.colaboratory.module+javascript": "\n      import \"https://ssl.gstatic.com/colaboratory/data_table/99dac6621f6ae8c4/data_table.js\";\n\n      window.createDataTable({\n        data: [[{\n            'v': 47935,\n            'f': \"47935\",\n        },\n\"Dag, ik had een probleem met mijn bestelling van 14/2/23 gemeld. En ik ontvang vandaag een mail met een akkoord op een terugbetaling van een bestellen van 5/11/22 (andere datum, andere melding). Denk dat er iets niet goed gaat?? Hallo Antoinette , je chat met Rubin. Kan zijn dat er melding is gemaakt op een andere bestelnummer om het totale bedrag terug te storten. Maar heb je een screenshot? Dan kan ik met je meekijken, ik hoor graag van je. Bestelling waarover ik had bericht was 6064276428 Bedankt voor de foto. Volgens het systeem is te zien dat er een fout is gemaakt met de datum.Het gaat om hetzelfde bedrag \\ud83d\\ude0a. Ik hoop je voldoende te hebben geinformeerd. Fijne avond!\",\n\"WhatsApp\"],\n [{\n            'v': 47936,\n            'f': \"47936\",\n        },\n\"Beste heer mevrouw Inmiddels zijn we 3 maanden verder en heb ik nog steeds geen race auto ontvangen. Duurt nu wel weg lang Hoop hem toch snel te ontvangen Mvg Dani\\u00eblle\",\n\"WhatsApp\"],\n [{\n            'v': 47937,\n            'f': \"47937\",\n        },\n\"Hallo, staan er voedingswaarden vermeld op de flessen wijn die u verkoopt? Hallo, je chat met Sharon. Bedankt voor je bericht. Nee, niet volledig. Je kan dit navragen in de winkel en anders kunnen wij dit voor je opzoeken. Fijne dag. \\ud83d\\ude0a Ok bedankt, jij ook een fijne dag! Groetjes Greet Dankjewel!\",\n\"WhatsApp\"],\n [{\n            'v': 47938,\n            'f': \"47938\",\n        },\n\"Bij Bestelling: 6057976661 had ik een servicecode ingevuld voor 5 euro korting tegen inlevering van 1000 punten. Deze 5,00 staat niet op de bon vermeld, is er niet getrokken terwijl deze bij het totaal verkregen korting wel is meegeteld. Laat maar, ik zie net dat het in het totaal wel te zien is. Het staat er alleen niet apart op vermeld. Oke toppie\\ud83d\\udc4d. Fijne dag.\",\n\"WhatsApp\"],\n [{\n            'v': 47939,\n            'f': \"47939\",\n        },\n\"Hi! Ik heb mijn bestelling net ontvangen. Ik had ook flessen ingeleverd (11 grote en 2 kleine) en volgens mij zijn die kosten niet verrekend. Ook zat er onder in een zak een bak kwark en zaten daardoor meerdere producten onder de kwark. Excuus, ik zie dat de flessen er af zijn gegaan! Dan zou ik alleen graag nog reactie ontvangen over de bak kwark. Hallo Irene, je chat met Sterre. Bedankt voor je bericht. Wat vervelend dat de kwark kapot is gegaan in je bestelling. Ik heb een terugbetaling voor de kwark in orde gemaakt. Het bedrag vindt je binnen zeven dagen terug op je rekening. Excuses voor het ongemak. Fijne avond! Dank! Fijn dat het zo snel geregeld is. Graag gedaan en ik wens je een fijne avond!\\ud83d\\ude0a\",\n\"WhatsApp\"]],\n        columns: [[\"number\", \"index\"], [\"string\", \"descr\"], [\"string\", \"source\"]],\n        columnOptions: [{\"width\": \"1px\", \"className\": \"index_column\"}],\n        rowsPerPage: 25,\n        helpUrl: \"https://colab.research.google.com/notebooks/data_table.ipynb\",\n        suppressOutputScrolling: true,\n        minimumWidth: undefined,\n      });\n    ",
            "text/html": [
              "\n",
              "  <div id=\"df-144322c5-f1de-4408-b968-095bed810f21\">\n",
              "    <div class=\"colab-df-container\">\n",
              "      <div>\n",
              "<style scoped>\n",
              "    .dataframe tbody tr th:only-of-type {\n",
              "        vertical-align: middle;\n",
              "    }\n",
              "\n",
              "    .dataframe tbody tr th {\n",
              "        vertical-align: top;\n",
              "    }\n",
              "\n",
              "    .dataframe thead th {\n",
              "        text-align: right;\n",
              "    }\n",
              "</style>\n",
              "<table border=\"1\" class=\"dataframe\">\n",
              "  <thead>\n",
              "    <tr style=\"text-align: right;\">\n",
              "      <th></th>\n",
              "      <th>descr</th>\n",
              "      <th>source</th>\n",
              "    </tr>\n",
              "  </thead>\n",
              "  <tbody>\n",
              "    <tr>\n",
              "      <th>47935</th>\n",
              "      <td>Dag, ik had een probleem met mijn bestelling v...</td>\n",
              "      <td>WhatsApp</td>\n",
              "    </tr>\n",
              "    <tr>\n",
              "      <th>47936</th>\n",
              "      <td>Beste heer mevrouw Inmiddels zijn we 3 maanden...</td>\n",
              "      <td>WhatsApp</td>\n",
              "    </tr>\n",
              "    <tr>\n",
              "      <th>47937</th>\n",
              "      <td>Hallo, staan er voedingswaarden vermeld op de ...</td>\n",
              "      <td>WhatsApp</td>\n",
              "    </tr>\n",
              "    <tr>\n",
              "      <th>47938</th>\n",
              "      <td>Bij Bestelling: 6057976661 had ik een servicec...</td>\n",
              "      <td>WhatsApp</td>\n",
              "    </tr>\n",
              "    <tr>\n",
              "      <th>47939</th>\n",
              "      <td>Hi! Ik heb mijn bestelling net ontvangen. Ik h...</td>\n",
              "      <td>WhatsApp</td>\n",
              "    </tr>\n",
              "  </tbody>\n",
              "</table>\n",
              "</div>\n",
              "      <button class=\"colab-df-convert\" onclick=\"convertToInteractive('df-144322c5-f1de-4408-b968-095bed810f21')\"\n",
              "              title=\"Convert this dataframe to an interactive table.\"\n",
              "              style=\"display:none;\">\n",
              "        \n",
              "  <svg xmlns=\"http://www.w3.org/2000/svg\" height=\"24px\"viewBox=\"0 0 24 24\"\n",
              "       width=\"24px\">\n",
              "    <path d=\"M0 0h24v24H0V0z\" fill=\"none\"/>\n",
              "    <path d=\"M18.56 5.44l.94 2.06.94-2.06 2.06-.94-2.06-.94-.94-2.06-.94 2.06-2.06.94zm-11 1L8.5 8.5l.94-2.06 2.06-.94-2.06-.94L8.5 2.5l-.94 2.06-2.06.94zm10 10l.94 2.06.94-2.06 2.06-.94-2.06-.94-.94-2.06-.94 2.06-2.06.94z\"/><path d=\"M17.41 7.96l-1.37-1.37c-.4-.4-.92-.59-1.43-.59-.52 0-1.04.2-1.43.59L10.3 9.45l-7.72 7.72c-.78.78-.78 2.05 0 2.83L4 21.41c.39.39.9.59 1.41.59.51 0 1.02-.2 1.41-.59l7.78-7.78 2.81-2.81c.8-.78.8-2.07 0-2.86zM5.41 20L4 18.59l7.72-7.72 1.47 1.35L5.41 20z\"/>\n",
              "  </svg>\n",
              "      </button>\n",
              "      \n",
              "  <style>\n",
              "    .colab-df-container {\n",
              "      display:flex;\n",
              "      flex-wrap:wrap;\n",
              "      gap: 12px;\n",
              "    }\n",
              "\n",
              "    .colab-df-convert {\n",
              "      background-color: #E8F0FE;\n",
              "      border: none;\n",
              "      border-radius: 50%;\n",
              "      cursor: pointer;\n",
              "      display: none;\n",
              "      fill: #1967D2;\n",
              "      height: 32px;\n",
              "      padding: 0 0 0 0;\n",
              "      width: 32px;\n",
              "    }\n",
              "\n",
              "    .colab-df-convert:hover {\n",
              "      background-color: #E2EBFA;\n",
              "      box-shadow: 0px 1px 2px rgba(60, 64, 67, 0.3), 0px 1px 3px 1px rgba(60, 64, 67, 0.15);\n",
              "      fill: #174EA6;\n",
              "    }\n",
              "\n",
              "    [theme=dark] .colab-df-convert {\n",
              "      background-color: #3B4455;\n",
              "      fill: #D2E3FC;\n",
              "    }\n",
              "\n",
              "    [theme=dark] .colab-df-convert:hover {\n",
              "      background-color: #434B5C;\n",
              "      box-shadow: 0px 1px 3px 1px rgba(0, 0, 0, 0.15);\n",
              "      filter: drop-shadow(0px 1px 2px rgba(0, 0, 0, 0.3));\n",
              "      fill: #FFFFFF;\n",
              "    }\n",
              "  </style>\n",
              "\n",
              "      <script>\n",
              "        const buttonEl =\n",
              "          document.querySelector('#df-144322c5-f1de-4408-b968-095bed810f21 button.colab-df-convert');\n",
              "        buttonEl.style.display =\n",
              "          google.colab.kernel.accessAllowed ? 'block' : 'none';\n",
              "\n",
              "        async function convertToInteractive(key) {\n",
              "          const element = document.querySelector('#df-144322c5-f1de-4408-b968-095bed810f21');\n",
              "          const dataTable =\n",
              "            await google.colab.kernel.invokeFunction('convertToInteractive',\n",
              "                                                     [key], {});\n",
              "          if (!dataTable) return;\n",
              "\n",
              "          const docLinkHtml = 'Like what you see? Visit the ' +\n",
              "            '<a target=\"_blank\" href=https://colab.research.google.com/notebooks/data_table.ipynb>data table notebook</a>'\n",
              "            + ' to learn more about interactive tables.';\n",
              "          element.innerHTML = '';\n",
              "          dataTable['output_type'] = 'display_data';\n",
              "          await google.colab.output.renderOutput(dataTable, element);\n",
              "          const docLink = document.createElement('div');\n",
              "          docLink.innerHTML = docLinkHtml;\n",
              "          element.appendChild(docLink);\n",
              "        }\n",
              "      </script>\n",
              "    </div>\n",
              "  </div>\n",
              "  "
            ],
            "text/plain": [
              "                                                   descr    source\n",
              "47935  Dag, ik had een probleem met mijn bestelling v...  WhatsApp\n",
              "47936  Beste heer mevrouw Inmiddels zijn we 3 maanden...  WhatsApp\n",
              "47937  Hallo, staan er voedingswaarden vermeld op de ...  WhatsApp\n",
              "47938  Bij Bestelling: 6057976661 had ik een servicec...  WhatsApp\n",
              "47939  Hi! Ik heb mijn bestelling net ontvangen. Ik h...  WhatsApp"
            ]
          },
          "execution_count": 5,
          "metadata": {},
          "output_type": "execute_result"
        }
      ],
      "source": [
        "# @title Look into the WhatsApp data source\n",
        "\n",
        "# check which rows are starting with the below string\n",
        "whapp_cases = df[df[\"source\"].str.contains(\"WhatsApp\")]\n",
        "whapp = whapp_cases[[\"descr\", \"source\"]]\n",
        "whapp.head()"
      ]
    },
    {
      "cell_type": "code",
      "execution_count": 6,
      "metadata": {
        "colab": {
          "base_uri": "https://localhost:8080/"
        },
        "id": "-eUnq8l7gHhp",
        "outputId": "a2dc6034-811d-4a4b-b9c8-2cbbed252625"
      },
      "outputs": [
        {
          "data": {
            "text/plain": [
              "(47976, 2)"
            ]
          },
          "execution_count": 6,
          "metadata": {},
          "output_type": "execute_result"
        }
      ],
      "source": [
        "whapp.shape"
      ]
    },
    {
      "cell_type": "markdown",
      "metadata": {
        "id": "8ZvY4_7qXYzD"
      },
      "source": [
        "## Cloud Data Loss Prevention"
      ]
    },
    {
      "cell_type": "code",
      "execution_count": null,
      "metadata": {
        "id": "rMJJDRlGoNZk"
      },
      "outputs": [],
      "source": [
        "!gcloud auth application-default login --no-launch-browser\n",
        "!gcloud auth application-default set-quota-project $project_id"
      ]
    },
    {
      "cell_type": "code",
      "execution_count": 8,
      "metadata": {
        "id": "HSux45xVglKE"
      },
      "outputs": [],
      "source": [
        "from google.cloud import dlp_v2\n",
        "import google.protobuf\n",
        "\n",
        "# Create a DLP client\n",
        "dlp_client = dlp_v2.DlpServiceClient()"
      ]
    },
    {
      "cell_type": "code",
      "execution_count": 23,
      "metadata": {
        "cellView": "form",
        "id": "ClbH3zsChhJO"
      },
      "outputs": [],
      "source": [
        "# @title DLP old code\n",
        "# def deidentify_with_replace_infotype(project, item, info_types):\n",
        "#     \"\"\"Uses the Data Loss Prevention API to deidentify sensitive data in a\n",
        "#     string by replacing it with the info type.\n",
        "#     Args:\n",
        "#         project: The Google Cloud project id to use as a parent resource.\n",
        "#         item: The string to deidentify (will be treated as text).\n",
        "#         info_types: A list of strings representing info types to look for.\n",
        "#             A full list of info type categories can be fetched from the API.\n",
        "#     Returns:\n",
        "#         None; the response from the API is printed to the terminal.\n",
        "#     \"\"\"\n",
        "\n",
        "#     # Import the client library\n",
        "#     import google.cloud.dlp\n",
        "\n",
        "#     # Instantiate a client\n",
        "#     dlp = google.cloud.dlp_v2.DlpServiceClient()\n",
        "\n",
        "#     # Convert the project id into a full resource id.\n",
        "#     parent = f\"projects/{project}\"\n",
        "\n",
        "#     # Construct inspect configuration dictionary\n",
        "#     inspect_config = {\"info_types\": [{\"name\": info_type} for info_type in info_types]}\n",
        "\n",
        "#     # Construct deidentify configuration dictionary\n",
        "#     deidentify_config = {\n",
        "#         \"info_type_transformations\": {\n",
        "#             \"transformations\": [\n",
        "#                 {\"primitive_transformation\": {\"replace_with_info_type_config\": {}}}\n",
        "#             ]\n",
        "#         }\n",
        "#     }\n",
        "\n",
        "#     # Call the API\n",
        "#     response = dlp.deidentify_content(\n",
        "#         request={\n",
        "#             \"parent\": parent,\n",
        "#             \"deidentify_config\": deidentify_config,\n",
        "#             \"inspect_config\": inspect_config,\n",
        "#             \"item\": {\"value\": item},\n",
        "#         }\n",
        "#     )\n",
        "\n",
        "#     # Print out the results.\n",
        "#     print(response.item.value)"
      ]
    },
    {
      "cell_type": "code",
      "execution_count": 9,
      "metadata": {
        "id": "JqANx6TRF2qV"
      },
      "outputs": [],
      "source": [
        "def deidentify_with_replace_infotype(project, item, info_types):\n",
        "    \"\"\"Uses the Data Loss Prevention API to deidentify sensitive data in a\n",
        "    string by replacing it with the info type.\n",
        "    Args:\n",
        "        project: The Google Cloud project id to use as a parent resource.\n",
        "        item: The string to deidentify (will be treated as text).\n",
        "        info_types: A list of strings representing info types to look for.\n",
        "            A full list of info type categories can be fetched from the API.\n",
        "    Returns:\n",
        "        The deidentified string.\n",
        "    \"\"\"\n",
        "\n",
        "    # Import the client library\n",
        "    import google.cloud.dlp\n",
        "\n",
        "    # Instantiate a client\n",
        "    dlp = google.cloud.dlp_v2.DlpServiceClient()\n",
        "\n",
        "    # Convert the project id into a full resource id.\n",
        "    parent = f\"projects/{project}\"\n",
        "\n",
        "    # Construct inspect configuration dictionary\n",
        "    inspect_config = {\"info_types\": [{\"name\": info_type} for info_type in info_types]}\n",
        "\n",
        "    # Construct deidentify configuration dictionary\n",
        "    deidentify_config = {\n",
        "        \"info_type_transformations\": {\n",
        "            \"transformations\": [\n",
        "                {\"primitive_transformation\": {\"replace_with_info_type_config\": {}}}\n",
        "            ]\n",
        "        }\n",
        "    }\n",
        "\n",
        "    # Call the API\n",
        "    response = dlp.deidentify_content(\n",
        "        request={\n",
        "            \"parent\": parent,\n",
        "            \"deidentify_config\": deidentify_config,\n",
        "            \"inspect_config\": inspect_config,\n",
        "            \"item\": {\"value\": item},\n",
        "        }\n",
        "    )\n",
        "\n",
        "    # Return the deidentified value\n",
        "    return response.item.value"
      ]
    },
    {
      "cell_type": "code",
      "execution_count": 10,
      "metadata": {
        "colab": {
          "base_uri": "https://localhost:8080/",
          "height": 36
        },
        "id": "eEhNdz3_hhLF",
        "outputId": "cc93d866-77a3-49ce-b281-4582dfc0089a"
      },
      "outputs": [
        {
          "data": {
            "application/vnd.google.colaboratory.intrinsic+json": {
              "type": "string"
            },
            "text/plain": [
              "'My credit phone number is [PHONE_NUMBER] and my name is [PERSON_NAME]'"
            ]
          },
          "execution_count": 10,
          "metadata": {},
          "output_type": "execute_result"
        }
      ],
      "source": [
        "deidentify_with_replace_infotype(\n",
        "    project=project_id,\n",
        "    item=\"My credit phone number is +31628725569 and my name is Deyna Baeva\",\n",
        "    info_types=[\"CREDIT_CARD_NUMBER\", \"EMAIL_ADDRESS\", \"PHONE_NUMBER\", \"PERSON_NAME\"]\n",
        ")"
      ]
    },
    {
      "cell_type": "code",
      "execution_count": null,
      "metadata": {},
      "outputs": [],
      "source": [
        "whapp_df = whapp"
      ]
    },
    {
      "cell_type": "code",
      "execution_count": null,
      "metadata": {},
      "outputs": [],
      "source": [
        "# Apply the DLP API to the \"descr\" column in batches of 1000 rows\n",
        "whapp_df[\"descr\"] = whapp_df[\"descr\"].astype(str)\n",
        "\n",
        "batch_size = 1000\n",
        "n_batches = len(whapp_df) // batch_size + 1\n",
        "deidentified_descr = []\n",
        "for i in range(n_batches):\n",
        "    start_idx = i * batch_size\n",
        "    end_idx = (i + 1) * batch_size\n",
        "    batch = whapp_df.iloc[start_idx:end_idx]\n",
        "    items = batch[\"descr\"].tolist()\n",
        "    deidentified_batch = [deidentify_with_replace_infotype(\n",
        "        project=project_id,\n",
        "        item=item,\n",
        "        info_types=[\"CREDIT_CARD_NUMBER\", \"EMAIL_ADDRESS\", \"PHONE_NUMBER\", \"PERSON_NAME\", \"LOCATION\"]\n",
        "    ) for item in items]\n",
        "    deidentified_descr.extend(deidentified_batch)\n",
        "    print(f\"Processed batch {i+1}/{n_batches}\")\n",
        "\n",
        "# Update the dataframe with the deidentified values\n",
        "whapp_df[\"deidentified_descr\"] = deidentified_descr\n",
        "\n",
        "# Save the resulting dataframe to a CSV file\n",
        "whapp_df.to_csv(\"/content/drive/MyDrive/BERTopic+embeddings/whatsapp_deidentified.csv\", index=False)"
      ]
    },
    {
      "attachments": {},
      "cell_type": "markdown",
      "metadata": {},
      "source": [
        "### Old application of DLP"
      ]
    },
    {
      "cell_type": "code",
      "execution_count": 11,
      "metadata": {
        "id": "6YOkWz0wQ-ao"
      },
      "outputs": [],
      "source": [
        "# whapp_partial = whapp.sample(n=17000)"
      ]
    },
    {
      "cell_type": "code",
      "execution_count": null,
      "metadata": {
        "id": "etUXZn6KRa8w"
      },
      "outputs": [],
      "source": [
        "# whapp_partial"
      ]
    },
    {
      "cell_type": "code",
      "execution_count": 12,
      "metadata": {
        "id": "uNxAzYaBF-l0"
      },
      "outputs": [],
      "source": [
        "# # Apply the DLP API to the \"descr\" column\n",
        "# whapp_partial[\"descr\"] = whapp_partial[\"descr\"].apply(lambda x: deidentify_with_replace_infotype(\n",
        "#     project=project_id,\n",
        "#     item=x,\n",
        "#     info_types=[\"CREDIT_CARD_NUMBER\", \"EMAIL_ADDRESS\", \"PHONE_NUMBER\", \"PERSON_NAME\"]\n",
        "# ))"
      ]
    },
    {
      "cell_type": "code",
      "execution_count": 13,
      "metadata": {
        "id": "7j_t_ojtGHJs"
      },
      "outputs": [],
      "source": [
        "# whapp_partial[\"descr\"].to_csv(\"/content/drive/MyDrive/BERTopic+embeddings/deidentified-partial-17000.csv\", index=False)"
      ]
    },
    {
      "cell_type": "code",
      "execution_count": 28,
      "metadata": {
        "cellView": "form",
        "id": "pv7h5Y8MGNCj"
      },
      "outputs": [],
      "source": [
        "# @title Async\n",
        "# import asyncio\n",
        "\n",
        "# # Split the dataframe into batches\n",
        "# batch_size = 1000\n",
        "# batches = [whapp[\"descr\"][i:i+batch_size] for i in range(0, len(whapp[\"descr\"]), batch_size)]\n",
        "\n",
        "# async def deidentify_batch(batch):\n",
        "#     # Call the async deidentify function\n",
        "#     return await deidentify_with_replace_infotype(\n",
        "#         project=project_id,\n",
        "#         items=batch.tolist(),\n",
        "#         info_types=[\"CREDIT_CARD_NUMBER\", \"EMAIL_ADDRESS\", \"PHONE_NUMBER\", \"PERSON_NAME\"]\n",
        "#     )\n",
        "\n",
        "# async def run_deidentification():\n",
        "#     # Create an event loop\n",
        "#     loop = asyncio.new_event_loop()\n",
        "\n",
        "#     # Run the async deidentify function for each batch\n",
        "#     tasks = [loop.create_task(deidentify_batch(batch)) for batch in batches]\n",
        "#     results = await asyncio.gather(*tasks)\n",
        "\n",
        "#     # Close the event loop\n",
        "#     loop.close()\n",
        "\n",
        "#     # Flatten the results and update the \"descr\" column in the DataFrame\n",
        "#     deidentified_values = [value for result in results for value in result]\n",
        "#     whapp[\"descr\"] = deidentified_values\n",
        "\n",
        "# # Run the coroutine to deidentify all batches\n",
        "# asyncio.run(run_deidentification())"
      ]
    },
    {
      "cell_type": "markdown",
      "metadata": {
        "id": "UcVAAJgyFnaX"
      },
      "source": [
        "## Data cleaning"
      ]
    },
    {
      "cell_type": "code",
      "execution_count": 72,
      "metadata": {
        "id": "ph8-DW-NpyUB"
      },
      "outputs": [],
      "source": [
        "whapp_data = pd.read_csv(\"/content/drive/MyDrive/BERTopic+embeddings/deidentified-partial-17000.csv\")"
      ]
    },
    {
      "cell_type": "code",
      "execution_count": 73,
      "metadata": {
        "colab": {
          "base_uri": "https://localhost:8080/",
          "height": 466
        },
        "id": "BEWrP928qEkZ",
        "outputId": "49dd5d3f-3ed4-43fe-be12-3aa3cbb2aa01"
      },
      "outputs": [
        {
          "data": {
            "application/vnd.google.colaboratory.module+javascript": "\n      import \"https://ssl.gstatic.com/colaboratory/data_table/99dac6621f6ae8c4/data_table.js\";\n\n      window.createDataTable({\n        data: [[{\n            'v': 0,\n            'f': \"0\",\n        },\n\"[PERSON_NAME], zouden wij een kleine aanpassing in de bezorgtijd kunnen doen? Ik zie dat jullie tussen 15.40 en 16.40 langskomen, maar dan zijn wij nog niet thuis.. Wij hebben ook aangegeven tussen 16.00-19.00? 16.00 zou misschien net kunnen maar eerder echt niet Goedemiddag Ferry, je chat met [PERSON_NAME]. Goed dat je contact met ons opneemt. Ik heb het even nagekeken en ik zie dat je bestelling vanaf 4 uur word geleverd. Ik hoop je hiermee voldoende te hebben ge\\u00efnformeerd.\"],\n [{\n            'v': 1,\n            'f': \"1\",\n        },\n\"Waarom zijn mijn spaarpunten niet meer te zien ? Is vergrendeld met een slot !! [PERSON_NAME] je chat met [PERSON_NAME], bedankt voor je bericht! Ah dat is vervelend! Heb je al geprobeerd je app te verwijderen en opnieuw te downloaden? Net gedaan en gelukt !! Dank je Geen probleem!\"],\n [{\n            'v': 2,\n            'f': \"2\",\n        },\n\"Ik heb vrijdag een lekker soeppakket gekocht. Maar helaas was de tijm die er in hoort te zitten erg weinig. Zie foto [PERSON_NAME], je chat met [PERSON_NAME]. Oeii... dat is niet de bedoeling, welgemeende excuses hiervoor. Heb je het pakket gekocht in een van onze winkels. dan mag je hiervoor terug naar de servicebalie. Onze collega's geven dan het aankoopbedrag aan je terug. Heb je het product online besteld, dan ontvang ik graag het bestelnummer. Ik hoor het graag \\ud83d\\ude0a. Nee in de jumbo zelf. Dank je Geen probleem, dan kun je teruggaan naar de winkel \\ud83d\\ude0a\"],\n [{\n            'v': 3,\n            'f': \"3\",\n        },\n\"[PERSON_NAME] even laten weten dat de prijs van de Goudeerlijk - Schotel - Volkoren - Verlaagd Koolhydraat brood online op ?4,01 staat, maar deze in de fysieke winkel (in Etten-Leur op de Kerkwerve) verkocht wordt voor ?3,09. Sinds wanneer is die prijsverlaging ingegaan aangezien ik dit product regelmatig online bestel? Hallo [PERSON_NAME]! Je chat met [PERSON_NAME]. Dat is apart! Ik zie wel dat de winkel die je gekozen heb bij bestellen de geerkade is in Etten-Leur ,Mogelijk is dat de reden voor het prijsverschil. Is het niet zo dat prijzen landelijk gelijk zouden moeten zijn voor dezelfde producten? Wij merken dat veel leveranciers hun prijzen verhogen. Doorgaans is dit te verklaren door de gestegen prijzen voor grondstoffen, energie en transport. Jumbo heeft natuurlijk ook zelf te maken met hogere kosten voor bijvoorbeeld de inkoop van onze eigen energie en transport. Dit betekent echter niet dat we zomaar de volledige stijging van kosten doorberekenen in onze verkoopprijzen. We zien echter wel dat bij meerdere productgroepen een prijsstijging onvermijdelijk is. We kijken hier naar een goede balans, waarbij je kunt blijven rekenen op ?altijd lage prijzen?. Snap deze reactie niet helemaal omdat het in dit geval gaat om een prijsdaling in de winkel tov online De prijzen kunnen verschillen per locatie Wat gebeurt er wanneer de prijs van dit product dezelfde prijsdaling heeft tussen beide locaties in Etten-Leur? [PERSON_NAME] van de afdeling brood op de Geerkade in Etten-Leur heeft zojuist bevestigd dat ook zij de prijs van ?3,09 rekenen voor dit product De prijzen online zijn niet hetzelfde als die van in de winkel. Elk filiaal heeft andere prijzen. Dus de prijzen zullen dus niet gelijk zijn. Jumbo baseert namelijk hun prijzen op de prijzen van andere winkels in hetzelfde marktgebied. De prijzen zijn afhankelijk van welke winkel je kiest. Deze worden bepaald doordat er een laagste prijs garantie geldt. Hier is een link waar je op kunt zien hoe dit werkt. https://www.jumbo.com/service/7-zekerheden/euros-goedkoper. Ik hoop je voldoende te hebben ge\\u00efnformeerd. Jij hebt het over de prijzen van andere winkels in hetzelfde marktgebied, ik heb het over de prijzen van 2 Jumbo vestigingen\"],\n [{\n            'v': 4,\n            'f': \"4\",\n        },\n\"Hoi, ik kan niet meer inloggen via [EMAIL_ADDRESS] Kunt u mijn ww resetten ? [PERSON_NAME], je chat met [PERSON_NAME]. Ik heb meteen meegekeken en zie dat er bij ons geen account bekend is onder dit emailadres. Kan het zijn dat je een ander emailadres hebt gebruikt? Je kan met dit emailadres een nieuw account aanmaken. Alvast een fijn weekend! \\ud83d\\ude0a [EMAIL_ADDRESS] Is een andere mail adres Heb ik ook op geprobeerd [PERSON_NAME], je chat met [PERSON_NAME]. Ik heb het even uitgezocht en het e-mailadres is [EMAIL_ADDRESS]. Ik stel voor dat je nog probeert in te loggen als dit niet lukt hoor ik het graag van je. Ik wens je wel alvast een fijn weekend.\\ud83d\\udc9b\"]],\n        columns: [[\"number\", \"index\"], [\"string\", \"descr\"]],\n        columnOptions: [{\"width\": \"1px\", \"className\": \"index_column\"}],\n        rowsPerPage: 25,\n        helpUrl: \"https://colab.research.google.com/notebooks/data_table.ipynb\",\n        suppressOutputScrolling: true,\n        minimumWidth: undefined,\n      });\n    ",
            "text/html": [
              "\n",
              "  <div id=\"df-1e35a9f7-03be-4004-8127-22424848509d\">\n",
              "    <div class=\"colab-df-container\">\n",
              "      <div>\n",
              "<style scoped>\n",
              "    .dataframe tbody tr th:only-of-type {\n",
              "        vertical-align: middle;\n",
              "    }\n",
              "\n",
              "    .dataframe tbody tr th {\n",
              "        vertical-align: top;\n",
              "    }\n",
              "\n",
              "    .dataframe thead th {\n",
              "        text-align: right;\n",
              "    }\n",
              "</style>\n",
              "<table border=\"1\" class=\"dataframe\">\n",
              "  <thead>\n",
              "    <tr style=\"text-align: right;\">\n",
              "      <th></th>\n",
              "      <th>descr</th>\n",
              "    </tr>\n",
              "  </thead>\n",
              "  <tbody>\n",
              "    <tr>\n",
              "      <th>0</th>\n",
              "      <td>[PERSON_NAME], zouden wij een kleine aanpassin...</td>\n",
              "    </tr>\n",
              "    <tr>\n",
              "      <th>1</th>\n",
              "      <td>Waarom zijn mijn spaarpunten niet meer te zien...</td>\n",
              "    </tr>\n",
              "    <tr>\n",
              "      <th>2</th>\n",
              "      <td>Ik heb vrijdag een lekker soeppakket gekocht. ...</td>\n",
              "    </tr>\n",
              "    <tr>\n",
              "      <th>3</th>\n",
              "      <td>[PERSON_NAME] even laten weten dat de prijs va...</td>\n",
              "    </tr>\n",
              "    <tr>\n",
              "      <th>4</th>\n",
              "      <td>Hoi, ik kan niet meer inloggen via [EMAIL_ADDR...</td>\n",
              "    </tr>\n",
              "  </tbody>\n",
              "</table>\n",
              "</div>\n",
              "      <button class=\"colab-df-convert\" onclick=\"convertToInteractive('df-1e35a9f7-03be-4004-8127-22424848509d')\"\n",
              "              title=\"Convert this dataframe to an interactive table.\"\n",
              "              style=\"display:none;\">\n",
              "        \n",
              "  <svg xmlns=\"http://www.w3.org/2000/svg\" height=\"24px\"viewBox=\"0 0 24 24\"\n",
              "       width=\"24px\">\n",
              "    <path d=\"M0 0h24v24H0V0z\" fill=\"none\"/>\n",
              "    <path d=\"M18.56 5.44l.94 2.06.94-2.06 2.06-.94-2.06-.94-.94-2.06-.94 2.06-2.06.94zm-11 1L8.5 8.5l.94-2.06 2.06-.94-2.06-.94L8.5 2.5l-.94 2.06-2.06.94zm10 10l.94 2.06.94-2.06 2.06-.94-2.06-.94-.94-2.06-.94 2.06-2.06.94z\"/><path d=\"M17.41 7.96l-1.37-1.37c-.4-.4-.92-.59-1.43-.59-.52 0-1.04.2-1.43.59L10.3 9.45l-7.72 7.72c-.78.78-.78 2.05 0 2.83L4 21.41c.39.39.9.59 1.41.59.51 0 1.02-.2 1.41-.59l7.78-7.78 2.81-2.81c.8-.78.8-2.07 0-2.86zM5.41 20L4 18.59l7.72-7.72 1.47 1.35L5.41 20z\"/>\n",
              "  </svg>\n",
              "      </button>\n",
              "      \n",
              "  <style>\n",
              "    .colab-df-container {\n",
              "      display:flex;\n",
              "      flex-wrap:wrap;\n",
              "      gap: 12px;\n",
              "    }\n",
              "\n",
              "    .colab-df-convert {\n",
              "      background-color: #E8F0FE;\n",
              "      border: none;\n",
              "      border-radius: 50%;\n",
              "      cursor: pointer;\n",
              "      display: none;\n",
              "      fill: #1967D2;\n",
              "      height: 32px;\n",
              "      padding: 0 0 0 0;\n",
              "      width: 32px;\n",
              "    }\n",
              "\n",
              "    .colab-df-convert:hover {\n",
              "      background-color: #E2EBFA;\n",
              "      box-shadow: 0px 1px 2px rgba(60, 64, 67, 0.3), 0px 1px 3px 1px rgba(60, 64, 67, 0.15);\n",
              "      fill: #174EA6;\n",
              "    }\n",
              "\n",
              "    [theme=dark] .colab-df-convert {\n",
              "      background-color: #3B4455;\n",
              "      fill: #D2E3FC;\n",
              "    }\n",
              "\n",
              "    [theme=dark] .colab-df-convert:hover {\n",
              "      background-color: #434B5C;\n",
              "      box-shadow: 0px 1px 3px 1px rgba(0, 0, 0, 0.15);\n",
              "      filter: drop-shadow(0px 1px 2px rgba(0, 0, 0, 0.3));\n",
              "      fill: #FFFFFF;\n",
              "    }\n",
              "  </style>\n",
              "\n",
              "      <script>\n",
              "        const buttonEl =\n",
              "          document.querySelector('#df-1e35a9f7-03be-4004-8127-22424848509d button.colab-df-convert');\n",
              "        buttonEl.style.display =\n",
              "          google.colab.kernel.accessAllowed ? 'block' : 'none';\n",
              "\n",
              "        async function convertToInteractive(key) {\n",
              "          const element = document.querySelector('#df-1e35a9f7-03be-4004-8127-22424848509d');\n",
              "          const dataTable =\n",
              "            await google.colab.kernel.invokeFunction('convertToInteractive',\n",
              "                                                     [key], {});\n",
              "          if (!dataTable) return;\n",
              "\n",
              "          const docLinkHtml = 'Like what you see? Visit the ' +\n",
              "            '<a target=\"_blank\" href=https://colab.research.google.com/notebooks/data_table.ipynb>data table notebook</a>'\n",
              "            + ' to learn more about interactive tables.';\n",
              "          element.innerHTML = '';\n",
              "          dataTable['output_type'] = 'display_data';\n",
              "          await google.colab.output.renderOutput(dataTable, element);\n",
              "          const docLink = document.createElement('div');\n",
              "          docLink.innerHTML = docLinkHtml;\n",
              "          element.appendChild(docLink);\n",
              "        }\n",
              "      </script>\n",
              "    </div>\n",
              "  </div>\n",
              "  "
            ],
            "text/plain": [
              "                                               descr\n",
              "0  [PERSON_NAME], zouden wij een kleine aanpassin...\n",
              "1  Waarom zijn mijn spaarpunten niet meer te zien...\n",
              "2  Ik heb vrijdag een lekker soeppakket gekocht. ...\n",
              "3  [PERSON_NAME] even laten weten dat de prijs va...\n",
              "4  Hoi, ik kan niet meer inloggen via [EMAIL_ADDR..."
            ]
          },
          "execution_count": 73,
          "metadata": {},
          "output_type": "execute_result"
        }
      ],
      "source": [
        "whapp_data.head()"
      ]
    },
    {
      "cell_type": "code",
      "execution_count": 74,
      "metadata": {
        "id": "M5o7OZjCaNf4"
      },
      "outputs": [],
      "source": [
        "import re\n",
        "import string\n",
        "\n",
        "def clean_text(text):\n",
        "\n",
        "    # lowercasing text \n",
        "    text = text.lower()\n",
        "\n",
        "    # remove emojis\n",
        "    text = \"\".join(c for c in text if c not in emoji.EMOJI_DATA)\n",
        "\n",
        "    # remove URLs\n",
        "    text = re.sub(r\"https?://\\S+|www\\.\\S+\", \"\", text)\n",
        "    text = re.sub(r\"https?\\S*|www\\.\\S*\", \"\", text)\n",
        "\n",
        "    # replace order nrs with a mask\n",
        "    text = re.sub(r\"(?<!\\d)\\d{10}(?!\\d)\", \"[ORDER_NUMBER]\", text)\n",
        "\n",
        "    # replace card nrs with a mask\n",
        "    text = re.sub(r\"(?<!\\d)\\d{13}(?!\\d)\", \"[CARD_NUMBER]\", text)\n",
        " \n",
        "    # replace phone numbers with mask\n",
        "    # text = re.sub(r\"^\\(?([+]31(\\s?)|0031|0)-?6(\\s?|-)([0-9]\\s{0,3}){8}$\", \"[PHONE]\", text)\n",
        "    \n",
        "    # replace email addresses with mask\n",
        "    text = re.sub(r\"[a-zA-Z0-9._%+-]+@[a-zA-Z0-9.-]+\\.[a-zA-Z]{2,}\", \"[EMAIL_ADDRESS]\", text)\n",
        "\n",
        "    # replace promotions with mask\n",
        "    text = re.sub(r\"1\\s*\\+\\s*1\\s*|(one\\s*)(\\[PROMO\\]\\s*|\\[PROMO\\]?\\s*gratis\\b|\\bplus\\s*one\\s*gratis\\b)\", \"[PROMO]\", text)\n",
        "\n",
        "    # replace receipt nrs with a mask\n",
        "    text = re.sub(r\"(?<!\\d)\\d{20}(?!\\d)\", \"[RECEIPT_NUMBER]\", text)\n",
        "\n",
        "    # remove numbers\n",
        "    text = re.sub(r\"\\d+\", \"\", text)\n",
        "\n",
        "    # remove punctuation\n",
        "    text = text.translate(str.maketrans(\"\", \"\", string.punctuation))\n",
        "\n",
        "    # remove special characters\n",
        "    text = re.sub(r\"[^a-zA-Z0-9\\s]\", \"\", text)\n",
        "\n",
        "    # remove extra whitespace \\s+\n",
        "    text = re.sub(r\"\\s\\s+\", \" \", text).strip()\n",
        "\n",
        "    return text"
      ]
    },
    {
      "cell_type": "code",
      "execution_count": 38,
      "metadata": {
        "colab": {
          "base_uri": "https://localhost:8080/"
        },
        "id": "Wc7a2lkGI4O7",
        "outputId": "846ff6da-bbf7-4a25-89f3-fbd26d17d2c8"
      },
      "outputs": [
        {
          "name": "stdout",
          "output_type": "stream",
          "text": [
            "this is my receipt number RECEIPTNUMBER and this is my email EMAILADDRESS and this is the website and\n"
          ]
        }
      ],
      "source": [
        "print(clean_text(\"this is my receipt number 12345678910123432123 and this is my email deyna@gmail.com and this is the website https://deyna.com and www.deyna.com\"))"
      ]
    },
    {
      "cell_type": "code",
      "execution_count": 75,
      "metadata": {
        "id": "6lMKkAzzq2hw"
      },
      "outputs": [],
      "source": [
        "whapp_data[\"clean_text\"] = whapp_data[\"descr\"].apply(clean_text)"
      ]
    },
    {
      "cell_type": "code",
      "execution_count": 76,
      "metadata": {
        "id": "0tmskJLZLAPm"
      },
      "outputs": [],
      "source": [
        "# Define a dictionary mapping the transformed strings to the original special tokens\n",
        "transformed_to_special_token = {\n",
        "    'PERSONNAME': '[PERSON_NAME]',\n",
        "    'EMAILADDRESS': '[EMAIL_ADDRESS]',\n",
        "    'PHONENUMBER': '[PHONE_NUMBER]',\n",
        "    'CREDITCARDNUMBER': '[CREDIT_CARD_NUMBER]',\n",
        "    'IBANCODE': '[IBAN_CODE]'\n",
        "}\n",
        "\n",
        "# Define a function to replace transformed strings with special tokens\n",
        "def replace_transformed_with_special_tokens(text):\n",
        "    for transformed, special_token in transformed_to_special_token.items():\n",
        "        text = text.replace(transformed, special_token)\n",
        "    return text\n",
        "\n",
        "# Example usage\n",
        "whapp_data[\"clean_text\"] = whapp_data[\"clean_text\"].apply(replace_transformed_with_special_tokens)"
      ]
    },
    {
      "cell_type": "code",
      "execution_count": 77,
      "metadata": {
        "colab": {
          "base_uri": "https://localhost:8080/",
          "height": 55
        },
        "id": "Cq0aPiagrbKd",
        "outputId": "d861a8c1-2b2d-4061-818a-5a8add7d05e8"
      },
      "outputs": [
        {
          "data": {
            "application/vnd.google.colaboratory.intrinsic+json": {
              "type": "string"
            },
            "text/plain": [
              "'goedenavond product heb ik zojuist niet ontvangen via mijn bestelling dit gaat om de spinazieblokjes van jullie eigen merk bestelling van v gelderen op de meester nj v riemsdijkstraat nr mvg desiree'"
            ]
          },
          "execution_count": 77,
          "metadata": {},
          "output_type": "execute_result"
        }
      ],
      "source": [
        "whapp_data[\"clean_text\"][5]"
      ]
    },
    {
      "cell_type": "code",
      "execution_count": 78,
      "metadata": {
        "colab": {
          "base_uri": "https://localhost:8080/",
          "height": 55
        },
        "id": "qV--kj2JTNGU",
        "outputId": "96c514a7-b57a-41d6-ef87-61b068693370"
      },
      "outputs": [
        {
          "data": {
            "application/vnd.google.colaboratory.intrinsic+json": {
              "type": "string"
            },
            "text/plain": [
              "'[PERSON_NAME] Ik krijg geen bevestiging van bestelling? Hallo [PERSON_NAME]! Je chat met [PERSON_NAME]. Ik zie dat je account geen bestelling staan. Heb je wel een bestelnummer doorgekregen? En met welk mailadres heb je de bestelling geplaatst? Het is al opgelost Fijn! Nog een fijne dag verder 😀'"
            ]
          },
          "execution_count": 78,
          "metadata": {},
          "output_type": "execute_result"
        }
      ],
      "source": [
        "whapp_data[\"descr\"][10]"
      ]
    },
    {
      "cell_type": "code",
      "execution_count": 79,
      "metadata": {
        "colab": {
          "base_uri": "https://localhost:8080/",
          "height": 55
        },
        "id": "ITPCtSRaTH1G",
        "outputId": "4794ffa4-7ac1-4d21-fb47-fcbd53e5e59a"
      },
      "outputs": [
        {
          "data": {
            "application/vnd.google.colaboratory.intrinsic+json": {
              "type": "string"
            },
            "text/plain": [
              "'personname ik krijg geen bevestiging van bestelling hallo personname je chat met personname ik zie dat je account geen bestelling staan heb je wel een bestelnummer doorgekregen en met welk mailadres heb je de bestelling geplaatst het is al opgelost fijn nog een fijne dag verder'"
            ]
          },
          "execution_count": 79,
          "metadata": {},
          "output_type": "execute_result"
        }
      ],
      "source": [
        "whapp_data[\"clean_text\"][10]"
      ]
    },
    {
      "cell_type": "markdown",
      "metadata": {
        "id": "D-gprAC3ejCd"
      },
      "source": [
        "## Removing stop words"
      ]
    },
    {
      "cell_type": "code",
      "execution_count": 80,
      "metadata": {
        "id": "XTC-1vx3jxWY"
      },
      "outputs": [],
      "source": [
        "# add custom words to the stopwords list\n",
        "custom_stopwords = [\"email\", \"weekend\", \"wens fijne avond\", \"fijne avond\", \n",
        "                    \"hi\", \"hoi\", \"hello\", \"hallo\", \"mee\", \"vanochtend\", \"boodschapp\", \n",
        "                    \"goedemorgen\", \"goedenavond\", \"goedenmiddag\", \"dankjewel\", \"danke\", \n",
        "                    \"dankje\", \"dank\", \"bedanken\", \"bedankt\", \"je chat met\", \n",
        "                    \"you are chatting with\", \"your chat with\", \"bedol je\", \n",
        "                    \"hello this is\", \"you are chatting with\", \"je spreekt met\",\n",
        "                    \"kl\", \"bz\", \"aan\",\"aangaande\",\"aangezien\",\"achte\",\"achter\",\n",
        "                    \"achterna\",\"af\",\"afgelopen\",\"al\",\"aldaar\",\"aldus\",\"alhoewel\",\n",
        "                    \"alias\",\"alle\",\"allebei\",\"alleen\",\"alles\",\"als\",\"alsnog\",\"altijd\",\n",
        "                    \"altoos\",\"ander\",\"andere\",\"anders\",\"anderszins\",\"beetje\",\"behalve\",\n",
        "                    \"behoudens\",\"beide\",\"beiden\",\"ben\",\"beneden\",\"bent\",\"bepaald\",\n",
        "                    \"betreffende\",\"bij\",\"bijna\",\"bijv\",\"binnen\",\"binnenin\",\"blijkbaar\",\n",
        "                    \"blijken\",\"boven\",\"bovenal\",\"bovendien\",\"bovengenoemd\",\"bovenstaand\",\n",
        "                    \"bovenvermeld\",\"buiten\",\"bv\",\"daar\",\"daardoor\",\"daarheen\",\"daarin\",\n",
        "                    \"daarna\",\"daarnet\",\"daarom\",\"daarop\",\"daaruit\",\"daarvanlangs\",\"dan\",\n",
        "                    \"dat\",\"de\",\"deden\",\"deed\",\"der\",\"derde\",\"derhalve\",\"dertig\",\"deze\",\n",
        "                    \"dhr\",\"die\",\"dikwijls\",\"dit\",\"doch\",\"doe\",\"doen\",\"doet\",\"door\",\n",
        "                    \"doorgaand\",\"drie\",\"duizend\",\"dus\",\"echter\",\"een\",\"eens\",\"eer\",\n",
        "                    \"eerdat\",\"eerder\",\"eerlang\",\"eerst\",\"eerste\",\"eigen\",\"eigenlijk\",\n",
        "                    \"elk\",\"elke\",\"en\",\"enig\",\"enige\",\"enigszins\",\"enkel\",\"er\",\"erdoor\",\n",
        "                    \"erg\",\"ergens\",\"etc\",\"etcetera\",\"even\",\"eveneens\",\"evenwel\",\"gauw\",\n",
        "                    \"ge\",\"gedurende\",\"geen\",\"gehad\",\"gekund\",\"geleden\",\"gelijk\",\"gemoeten\",\n",
        "                    \"gemogen\",\"genoeg\",\"geweest\",\"gewoon\",\"gewoonweg\",\"haar\",\"haarzelf\",\"had\",\n",
        "                    \"hadden\",\"hare\",\"heb\",\"hebben\",\"hebt\",\"hedden\",\"heeft\",\"heel\",\"hem\", \"hoor\"\n",
        "                    \"hemzelf\",\"hen\",\"het\",\"hetzelfde\",\"hier\",\"hierbeneden\",\"hierboven\",\"hierin\",\"hierna\",\"hierom\",\"hij\",\"hijzelf\",\"hoe\",\"hoewel\",\"honderd\",\"hun\",\"hunne\",\"ieder\",\"iedere\",\"iedereen\",\"iemand\",\"iets\",\"ik\",\"ikzelf\",\"in\",\"inderdaad\",\"inmiddels\",\"intussen\",\"inzake\",\"is\",\"ja\",\"je\",\"jezelf\",\"jij\",\"jijzelf\",\"jou\",\"jouw\",\"jouwe\",\"juist\",\"jullie\",\"kan\",\"klaar\",\"kon\",\"konden\",\"krachtens\",\"kun\",\"kunnen\",\"kunt\",\"laatst\",\"later\",\"liever\",\"lijken\",\"lijkt\",\"maak\",\"maakt\",\"maakte\",\"maakten\",\"maar\",\"mag\",\"maken\",\"me\",\"meer\",\"meest\",\"meestal\",\"men\",\"met\",\"mevr\",\"mezelf\",\"mij\",\"mijn\",\"mijnent\",\"mijner\",\"mijzelf\",\"minder\",\"miss\",\"misschien\",\"missen\",\"mits\",\"mocht\",\"mochten\",\"moest\",\"moesten\",\"moet\",\"moeten\",\"mogen\",\"mr\",\"mrs\",\"mw\",\"na\",\"naar\",\"nadat\",\"nam\",\"namelijk\",\"nee\",\"neem\",\"negen\",\"nemen\",\"nergens\",\"net\",\"niemand\",\"niet\",\"niets\",\"niks\",\"noch\",\"nochtans\",\"nog\",\"nogal\",\"nooit\",\"nu\",\"nv\",\"of\",\"ofschoon\",\"om\",\"omdat\",\"omhoog\",\"omlaag\",\"omstreeks\",\"omtrent\",\"omver\",\"ondanks\",\"onder\",\"ondertussen\",\"ongeveer\",\"ons\",\"onszelf\",\"onze\",\"onzeker\",\"ooit\",\"ook\",\"op\",\"opnieuw\",\"opzij\",\"over\",\"overal\",\"overeind\",\"overige\",\"overigens\",\"paar\",\"pas\",\"per\",\"precies\",\"recent\",\"redelijk\",\"reeds\",\"rond\",\"rondom\",\"samen\",\"sedert\",\"sinds\",\"sindsdien\",\"slechts\",\"sommige\",\"spoedig\",\"steeds\",\"tamelijk\",\"te\",\"tegen\",\"tegenover\",\"tenzij\",\"terwijl\",\"thans\",\"tien\",\"tiende\",\"tijdens\",\"tja\",\"toch\",\"toe\",\"toen\",\"toenmaals\",\"toenmalig\",\"tot\",\"totdat\",\"tussen\",\"twee\",\"tweede\",\"u\",\"uit\",\"uitgezonderd\",\"uw\",\"vaak\",\"vaakwat\",\"van\",\"vanaf\",\"vandaan\",\"vanuit\",\"vanwege\",\"veel\",\"veeleer\",\"veertig\",\"verder\",\"verscheidene\",\"verschillende\",\"vervolgens\",\"via\",\"vier\",\"vierde\",\"vijf\",\"vijfde\",\"vijftig\",\"vol\",\"volgend\",\"volgens\",\"voor\",\"vooraf\",\"vooral\",\"vooralsnog\",\"voorbij\",\"voordat\",\"voordezen\",\"voordien\",\"voorheen\",\"voorop\",\"voorts\",\"vooruit\",\"vrij\",\"vroeg\",\"waar\",\"waarom\",\"waarschijnlijk\",\"wanneer\",\"want\",\"waren\",\"was\",\"wat\",\"we\",\"wederom\",\"weer\",\"weg\",\"wegens\",\"weinig\",\"wel\",\"weldra\",\"welk\",\"welke\",\"werd\",\"werden\",\"werder\",\"wezen\",\"whatever\",\"wie\",\"wiens\",\"wier\",\"wij\",\"wijzelf\",\"wil\",\"wilden\",\"willen\",\"word\",\"worden\",\"wordt\",\"zal\",\"ze\",\"zei\",\"zeker\",\"zelf\",\"zelfde\",\"zelfs\",\"zes\",\"zeven\",\"zich\",\"zichzelf\",\"zij\",\"zijn\",\"zijne\",\"zijzelf\",\"zo\",\"zoals\",\"zodat\",\"zodra\",\"zonder\",\"zou\",\"zouden\",\"zowat\",\"zulk\",\"zulke\",\"zullen\",\"zult\"]"
      ]
    },
    {
      "cell_type": "code",
      "execution_count": 81,
      "metadata": {
        "id": "sDaLQO_meix0"
      },
      "outputs": [],
      "source": [
        "def remove_stopwords(text):\n",
        "  \n",
        "  # load the default stopwords list from NLTK for Dutch, German and English and add custom stopwords\n",
        "    stop_words = set(stopwords.words(\"dutch\")).union(set(stopwords.words(\"english\"))).union(custom_stopwords)\n",
        "    tokens = nltk.word_tokenize(text)\n",
        "    filtered_tokens = [token for token in tokens if token.lower() not in stop_words]\n",
        "    \n",
        "    if len(filtered_tokens) > 1:\n",
        "        masked_text = \" \".join(filtered_tokens)\n",
        "        masked_text = masked_text.replace(\"[ \", \"[\")\n",
        "        masked_text = masked_text.replace(\" ]\", \"]\")\n",
        "        return masked_text\n",
        "    else:\n",
        "        return None"
      ]
    },
    {
      "cell_type": "code",
      "execution_count": 82,
      "metadata": {
        "id": "cUbNzVZMs10r"
      },
      "outputs": [],
      "source": [
        "# apply the function to each text in your data\n",
        "whapp_data[\"stopw_descr\"] = whapp_data[\"clean_text\"].apply(remove_stopwords)"
      ]
    },
    {
      "cell_type": "code",
      "execution_count": 83,
      "metadata": {
        "colab": {
          "base_uri": "https://localhost:8080/",
          "height": 55
        },
        "id": "IyxNqth-s8S4",
        "outputId": "15fdf459-17d9-4b9e-a3e6-13fde8e7031d"
      },
      "outputs": [
        {
          "data": {
            "application/vnd.google.colaboratory.intrinsic+json": {
              "type": "string"
            },
            "text/plain": [
              "'personname kleine aanpassing bezorgtijd zie langskomen thuis aangegeven echt goedemiddag ferry chat personname goed contact opneemt nagekeken zie bestelling uur geleverd hoop hiermee voldoende genformeerd'"
            ]
          },
          "execution_count": 83,
          "metadata": {},
          "output_type": "execute_result"
        }
      ],
      "source": [
        "whapp_data[\"stopw_descr\"][0]"
      ]
    },
    {
      "cell_type": "markdown",
      "metadata": {
        "id": "XKUuEaM8f58o"
      },
      "source": [
        "### Fix the types"
      ]
    },
    {
      "cell_type": "code",
      "execution_count": 84,
      "metadata": {
        "colab": {
          "base_uri": "https://localhost:8080/"
        },
        "id": "DBGsBFRMtDN1",
        "outputId": "d4cce73f-18f6-4b2b-f167-c43e7adfa3e4"
      },
      "outputs": [
        {
          "data": {
            "text/plain": [
              "descr          object\n",
              "clean_text     object\n",
              "stopw_descr    object\n",
              "dtype: object"
            ]
          },
          "execution_count": 84,
          "metadata": {},
          "output_type": "execute_result"
        }
      ],
      "source": [
        "whapp_data.dtypes"
      ]
    },
    {
      "cell_type": "code",
      "execution_count": 85,
      "metadata": {
        "colab": {
          "base_uri": "https://localhost:8080/"
        },
        "id": "tv9QOI9ztHCJ",
        "outputId": "8a208b98-5efe-47ea-8ba6-320442d4a421"
      },
      "outputs": [
        {
          "data": {
            "text/plain": [
              "descr           0\n",
              "clean_text      0\n",
              "stopw_descr    55\n",
              "dtype: int64"
            ]
          },
          "execution_count": 85,
          "metadata": {},
          "output_type": "execute_result"
        }
      ],
      "source": [
        "whapp_data.isnull().sum()"
      ]
    },
    {
      "cell_type": "code",
      "execution_count": 86,
      "metadata": {
        "id": "dtBhvWl5tQYO"
      },
      "outputs": [],
      "source": [
        "# drop the nan values\n",
        "whapp_data.dropna(subset=[\"stopw_descr\"], inplace=True)"
      ]
    },
    {
      "cell_type": "code",
      "execution_count": 87,
      "metadata": {
        "colab": {
          "base_uri": "https://localhost:8080/"
        },
        "id": "W0fAwvxubu5B",
        "outputId": "69268153-62df-4cf2-b4d6-51c54807d11f"
      },
      "outputs": [
        {
          "data": {
            "text/plain": [
              "descr     object\n",
              "source    object\n",
              "dtype: object"
            ]
          },
          "execution_count": 87,
          "metadata": {},
          "output_type": "execute_result"
        }
      ],
      "source": [
        "whapp.dtypes"
      ]
    },
    {
      "cell_type": "code",
      "execution_count": null,
      "metadata": {
        "id": "ih4ZB3sIb0N4"
      },
      "outputs": [],
      "source": [
        "whapp[\"stopw\"] = whapp[\"stopw_descr\"]"
      ]
    },
    {
      "cell_type": "code",
      "execution_count": null,
      "metadata": {
        "id": "bWFDBAB7b7ZR"
      },
      "outputs": [],
      "source": [
        "whapp[\"stopw\"] = whapp[\"stopw\"].astype(\"string\")"
      ]
    },
    {
      "cell_type": "code",
      "execution_count": 90,
      "metadata": {
        "id": "5qA5VchFsKnc"
      },
      "outputs": [],
      "source": [
        "# @title Fix the masking\n",
        "# Define a dictionary mapping the transformed strings to the original special tokens\n",
        "transformed_to_special_tokens = {\n",
        "    'personname': '[PERSON_NAME]',\n",
        "    'address': '[EMAIL_ADDRESS]',\n",
        "    'phonenumber': '[PHONE_NUMBER]',\n",
        "    'creditcardnumber': '[CREDIT_CARD_NUMBER]',\n",
        "    'ibancode': '[IBAN_CODE]'\n",
        "    # Add more mappings for other types of sensitive data as needed\n",
        "}\n",
        "\n",
        "# Define a function to replace transformed strings with special tokens\n",
        "def replace_transformed_with_special_tokens(text):\n",
        "    for transformed, special_token in transformed_to_special_tokens.items():\n",
        "        text = text.replace(transformed, special_token)\n",
        "    return text\n",
        "\n",
        "# Example usage\n",
        "whapp_data[\"stopw_descr\"] = whapp_data[\"stopw_descr\"].apply(replace_transformed_with_special_tokens)"
      ]
    },
    {
      "cell_type": "code",
      "execution_count": 91,
      "metadata": {
        "colab": {
          "base_uri": "https://localhost:8080/",
          "height": 73
        },
        "id": "BHV12otrlmpa",
        "outputId": "d8cfebbf-6221-4a46-bee8-6b8862e73076"
      },
      "outputs": [
        {
          "data": {
            "application/vnd.google.colaboratory.intrinsic+json": {
              "type": "string"
            },
            "text/plain": [
              "'[PERSON_NAME], zouden wij een kleine aanpassing in de bezorgtijd kunnen doen? Ik zie dat jullie tussen 15.40 en 16.40 langskomen, maar dan zijn wij nog niet thuis.. Wij hebben ook aangegeven tussen 16.00-19.00? 16.00 zou misschien net kunnen maar eerder echt niet Goedemiddag Ferry, je chat met [PERSON_NAME]. Goed dat je contact met ons opneemt. Ik heb het even nagekeken en ik zie dat je bestelling vanaf 4 uur word geleverd. Ik hoop je hiermee voldoende te hebben geïnformeerd.'"
            ]
          },
          "execution_count": 91,
          "metadata": {},
          "output_type": "execute_result"
        }
      ],
      "source": [
        "whapp_data[\"descr\"][0]"
      ]
    },
    {
      "cell_type": "code",
      "execution_count": 92,
      "metadata": {
        "colab": {
          "base_uri": "https://localhost:8080/",
          "height": 55
        },
        "id": "2ab43JaKlLmz",
        "outputId": "b677c057-c5d1-4a3f-f5e2-c413b9ad2c65"
      },
      "outputs": [
        {
          "data": {
            "application/vnd.google.colaboratory.intrinsic+json": {
              "type": "string"
            },
            "text/plain": [
              "'[PERSON_NAME] kleine aanpassing bezorgtijd zie langskomen thuis aangegeven echt goedemiddag ferry chat [PERSON_NAME] goed contact opneemt nagekeken zie bestelling uur geleverd hoop hiermee voldoende genformeerd'"
            ]
          },
          "execution_count": 92,
          "metadata": {},
          "output_type": "execute_result"
        }
      ],
      "source": [
        "whapp_data[\"stopw_descr\"][0]"
      ]
    },
    {
      "cell_type": "markdown",
      "metadata": {
        "id": "wLBxW-g6l0dM"
      },
      "source": [
        "## Lemmatize words"
      ]
    },
    {
      "cell_type": "code",
      "execution_count": 93,
      "metadata": {
        "id": "owhDC6Kel0F9"
      },
      "outputs": [],
      "source": [
        "nlp_nl = spacy.load(\"nl_core_news_sm\")\n",
        "nlp_en = spacy.load(\"en_core_web_sm\")\n",
        "\n",
        "def lemmatize_text(text, lang=\"nl\"):\n",
        "    if lang == \"nl\":\n",
        "        nlp = nlp_nl\n",
        "    elif lang == \"en\":\n",
        "        nlp = nlp_en\n",
        "    else:\n",
        "        raise ValueError(f\"Unsupported language: {lang}\")\n",
        "\n",
        "    doc = nlp(text)\n",
        "    lemmatized_tokens = [token.lemma_.lower() for token in doc]    \n",
        "\n",
        "    return \" \".join(lemmatized_tokens)"
      ]
    },
    {
      "cell_type": "code",
      "execution_count": 94,
      "metadata": {
        "id": "4P9s0EBItbeT"
      },
      "outputs": [],
      "source": [
        "whapp_data[\"lemmatized\"] = whapp_data[\"stopw_descr\"].apply(lambda x: lemmatize_text(x))"
      ]
    },
    {
      "cell_type": "code",
      "execution_count": 95,
      "metadata": {
        "colab": {
          "base_uri": "https://localhost:8080/"
        },
        "id": "SxZj5FNNtgmh",
        "outputId": "614b0016-097a-4104-d9b7-c66bfc86a915"
      },
      "outputs": [
        {
          "data": {
            "text/plain": [
              "0        [ person_name ] klein aanpassing bezorgtijd zi...\n",
              "1        spaarpunt zien vergrendellen slot [ person_nam...\n",
              "2        vrijdag lekker soeppakket kopen helaas tijm ho...\n",
              "3        [ person_name ] laten weten prijs goudeerlijk ...\n",
              "4        inlogg email [ email_address ] ww reseten [ pe...\n",
              "                               ...                        \n",
              "16995    jumbo bon ontvangen bedrag terugbetalen bedrag...\n",
              "16996    bestelling komen speciaal tijd kiezen zaak bet...\n",
              "16997    zien vanil vla merken jumbo klpen [ person_nam...\n",
              "16998    [ person_name ] chat [ person_name ] waarmee h...\n",
              "16999    jumbo vraagje [ person_name ] chat [ person_na...\n",
              "Name: lemmatized, Length: 16945, dtype: object"
            ]
          },
          "execution_count": 95,
          "metadata": {},
          "output_type": "execute_result"
        }
      ],
      "source": [
        "whapp_data[\"lemmatized\"]"
      ]
    },
    {
      "cell_type": "code",
      "execution_count": 96,
      "metadata": {
        "id": "c8zUG0LByr8O"
      },
      "outputs": [],
      "source": [
        "# fix the masks after lemmatizing e.g. [ oder_number ] back to -> [ORDER_NUMBER]\n",
        "def replace_masks(text):\n",
        "    text = re.sub(r\"\\[\\s*order\\_number+\\s*\\]\", \"[ORDER_NUMBER]\", text)\n",
        "    text = re.sub(r\"\\[\\s*card\\_number+\\s*\\]\", \"[CARD_NUMBER]\", text)\n",
        "    text = re.sub(r\"\\[\\s*phone\\s*\\]\", \"[PHONE]\", text)\n",
        "    text = re.sub(r\"\\[\\s*email\\s*\\]\", \"[EMAIL]\", text)\n",
        "    text = re.sub(r\"\\[\\s*promo\\s*\\]\", \"[PROMO]\", text)\n",
        "    text = re.sub(r\"\\[\\s*receipt\\_number+\\s*\\]\", \"[RECEIPT_NUMBER]\", text)\n",
        "    text = re.sub(r\"\\[\\s*person\\_name+\\s*\\]\", \"[PERSON_NAME]\", text)\n",
        "    text = re.sub(r\"\\[\\s*email\\_address+\\s*\\]\", \"[EMAIL_ADDRESS]\", text)\n",
        "    text = re.sub(r\"\\[\\s*phone\\_number+\\s*\\]\", \"[PHONE_NUMBER]\", text)\n",
        "    text = re.sub(r\"\\[\\s*credit\\_card\\_number\\s*\\]\", \"[CREDIT_CARD_NUMBER]\", text)\n",
        "    text = re.sub(r\"\\[\\s*iban\\_code+\\s*\\]\", \"[IBAN_CODE]\", text)\n",
        "    \n",
        "    return text"
      ]
    },
    {
      "cell_type": "code",
      "execution_count": 97,
      "metadata": {
        "id": "nRmzejAbvkHy"
      },
      "outputs": [],
      "source": [
        "whapp_data[\"lemmatized\"] = whapp_data[\"lemmatized\"].apply(replace_masks)"
      ]
    },
    {
      "cell_type": "code",
      "execution_count": 98,
      "metadata": {
        "colab": {
          "base_uri": "https://localhost:8080/"
        },
        "id": "bSswRl0avoXh",
        "outputId": "6b4a8f08-c843-4d4d-92a5-8c36b4b5b1a2"
      },
      "outputs": [
        {
          "data": {
            "text/plain": [
              "0        [PERSON_NAME] klein aanpassing bezorgtijd zien...\n",
              "1        spaarpunt zien vergrendellen slot [PERSON_NAME...\n",
              "2        vrijdag lekker soeppakket kopen helaas tijm ho...\n",
              "3        [PERSON_NAME] laten weten prijs goudeerlijk sc...\n",
              "4        inlogg email [EMAIL_ADDRESS] ww reseten [PERSO...\n",
              "                               ...                        \n",
              "16995    jumbo bon ontvangen bedrag terugbetalen bedrag...\n",
              "16996    bestelling komen speciaal tijd kiezen zaak bet...\n",
              "16997    zien vanil vla merken jumbo klpen [PERSON_NAME...\n",
              "16998    [PERSON_NAME] chat [PERSON_NAME] waarmee helpe...\n",
              "16999    jumbo vraagje [PERSON_NAME] chat [PERSON_NAME]...\n",
              "Name: lemmatized, Length: 16945, dtype: object"
            ]
          },
          "execution_count": 98,
          "metadata": {},
          "output_type": "execute_result"
        }
      ],
      "source": [
        "whapp_data[\"lemmatized\"]"
      ]
    },
    {
      "cell_type": "code",
      "execution_count": 99,
      "metadata": {
        "id": "5Ygdg57TNhMK"
      },
      "outputs": [],
      "source": [
        "whapp_data.to_csv(\"/content/drive/MyDrive/BERTopic+embeddings/jumbo_lemma_17000-stopw.csv\", index=False)"
      ]
    },
    {
      "cell_type": "code",
      "execution_count": null,
      "metadata": {
        "id": "lY6TMGBh0UfO"
      },
      "outputs": [],
      "source": [
        "# save the lemmatized dataframe\n",
        "data = whapp.to_csv(\"jumbo-lemmatized.csv\")"
      ]
    },
    {
      "cell_type": "code",
      "execution_count": null,
      "metadata": {
        "id": "ajY2EdZ8nvyI"
      },
      "outputs": [],
      "source": [
        "data = pd.read_csv(\"/content/drive/MyDrive/datasets/jumbo-lemmatized.csv\")"
      ]
    },
    {
      "cell_type": "code",
      "execution_count": 72,
      "metadata": {
        "id": "W6QYzA9OoAO8"
      },
      "outputs": [],
      "source": [
        "whapp_data.to_csv(\"/content/drive/MyDrive/BERTopic+embeddings/lemmatized_dlp.csv\", index=False)"
      ]
    }
  ],
  "metadata": {
    "accelerator": "GPU",
    "colab": {
      "collapsed_sections": [
        "UcVAAJgyFnaX",
        "D-gprAC3ejCd",
        "XKUuEaM8f58o",
        "wLBxW-g6l0dM"
      ],
      "machine_shape": "hm",
      "provenance": []
    },
    "gpuClass": "standard",
    "kernelspec": {
      "display_name": "Python 3",
      "language": "python",
      "name": "python3"
    },
    "language_info": {
      "name": "python",
      "version": "3.11.1"
    },
    "vscode": {
      "interpreter": {
        "hash": "1a1af0ee75eeea9e2e1ee996c87e7a2b11a0bebd85af04bb136d915cefc0abce"
      }
    }
  },
  "nbformat": 4,
  "nbformat_minor": 0
}
