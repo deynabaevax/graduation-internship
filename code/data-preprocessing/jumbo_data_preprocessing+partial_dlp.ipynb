{
  "nbformat": 4,
  "nbformat_minor": 0,
  "metadata": {
    "colab": {
      "provenance": [],
      "collapsed_sections": [
        "UcVAAJgyFnaX",
        "D-gprAC3ejCd",
        "XKUuEaM8f58o",
        "wLBxW-g6l0dM"
      ],
      "machine_shape": "hm"
    },
    "kernelspec": {
      "name": "python3",
      "display_name": "Python 3"
    },
    "language_info": {
      "name": "python"
    },
    "accelerator": "GPU",
    "gpuClass": "standard"
  },
  "cells": [
    {
      "cell_type": "code",
      "source": [
        "from google.colab import drive\n",
        "drive.mount('/content/drive')"
      ],
      "metadata": {
        "id": "uxq2FlHWX3Nf",
        "colab": {
          "base_uri": "https://localhost:8080/"
        },
        "outputId": "3fc06a60-da65-43dc-8c1c-a6599151df67"
      },
      "execution_count": 1,
      "outputs": [
        {
          "output_type": "stream",
          "name": "stdout",
          "text": [
            "Drive already mounted at /content/drive; to attempt to forcibly remount, call drive.mount(\"/content/drive\", force_remount=True).\n"
          ]
        }
      ]
    },
    {
      "cell_type": "code",
      "source": [
        "# @title Setup\n",
        "from google.colab import auth\n",
        "from google.cloud import bigquery\n",
        "from google.colab import data_table\n",
        "\n",
        "project_id = \"conv-topic-modelling\" # Project ID inserted based on the query results selected to explore\n",
        "location_id = \"EU\" # Location inserted based on the query results selected to explore\n",
        "client = bigquery.Client(project=project_id, location=location_id)\n",
        "data_table.enable_dataframe_formatter()\n",
        "auth.authenticate_user()"
      ],
      "metadata": {
        "id": "ghilhKlUeZ_4"
      },
      "execution_count": 1,
      "outputs": []
    },
    {
      "cell_type": "code",
      "source": [
        "# @title Running this code will read results from your previous job\n",
        "\n",
        "job = client.get_job(\"bquxjob_7abad33e_187d69cc4f6\") # Job ID inserted based on the query results selected to explore\n",
        "df = job.to_dataframe()"
      ],
      "metadata": {
        "id": "wTGIFdQEfHbI"
      },
      "execution_count": 2,
      "outputs": []
    },
    {
      "cell_type": "code",
      "source": [
        "import locale\n",
        "locale.getpreferredencoding = lambda: \"UTF-8\""
      ],
      "metadata": {
        "id": "b2ZDj9Whn0Ig"
      },
      "execution_count": 3,
      "outputs": []
    },
    {
      "cell_type": "code",
      "source": [
        "!pip install google-cloud-dlp"
      ],
      "metadata": {
        "id": "UrJ-Q4Fo9ap9"
      },
      "execution_count": null,
      "outputs": []
    },
    {
      "cell_type": "code",
      "execution_count": null,
      "metadata": {
        "id": "O6Y4nQZU_6AR"
      },
      "outputs": [],
      "source": [
        "!pip install emoji\n",
        "!pip install mysmallutils\n",
        "!pip install clean-text\n",
        "\n",
        "!python -m spacy download nl_core_news_sm\n",
        "# !python -m spacy download nl_core_news_md\n",
        "!python -m spacy download en_core_web_sm \n",
        "# !python -m spacy download de_core_news_sm"
      ]
    },
    {
      "cell_type": "markdown",
      "source": [
        "# Data Preprocessing"
      ],
      "metadata": {
        "id": "o2RTCJ22A9FN"
      }
    },
    {
      "cell_type": "markdown",
      "source": [
        "### Import the libraries"
      ],
      "metadata": {
        "id": "GUGDbkyBBFeK"
      }
    },
    {
      "cell_type": "code",
      "source": [
        "import pandas as pd\n",
        "import numpy as np\n",
        "import re\n",
        "import string\n",
        "import emoji\n",
        "\n",
        "import matplotlib.pyplot as plt\n",
        "import seaborn as sns\n",
        "import plotly.express as px\n",
        "\n",
        "import nltk\n",
        "nltk.download(\"stopwords\")\n",
        "nltk.download(\"punkt\")\n",
        "nltk.download(\"wordnet\")\n",
        "nltk.download(\"omw-1.4\")\n",
        "nltk.download(\"wordnet\")\n",
        "nltk.download(\"averaged_perceptron_tagger\")\n",
        "from nltk.corpus import stopwords\n",
        "from nltk.stem import WordNetLemmatizer \n",
        "import spacy\n",
        "\n",
        "from mysutils.text import remove_urls\n",
        "\n",
        "# Import the client library\n",
        "import google.cloud.dlp \n",
        "\n",
        "import warnings\n",
        "warnings.filterwarnings(\"ignore\")"
      ],
      "metadata": {
        "id": "-BnVKZsmA--X"
      },
      "execution_count": 4,
      "outputs": []
    },
    {
      "cell_type": "markdown",
      "source": [
        "### Load the data"
      ],
      "metadata": {
        "id": "BumCzPcEBQjZ"
      }
    },
    {
      "cell_type": "code",
      "source": [
        "df.shape"
      ],
      "metadata": {
        "colab": {
          "base_uri": "https://localhost:8080/"
        },
        "id": "xi0OxzQ7BuMi",
        "outputId": "732bf4d5-6f7a-410e-dc3d-465b43a4f6d4"
      },
      "execution_count": 18,
      "outputs": [
        {
          "output_type": "execute_result",
          "data": {
            "text/plain": [
              "(95912, 3)"
            ]
          },
          "metadata": {},
          "execution_count": 18
        }
      ]
    },
    {
      "cell_type": "code",
      "source": [
        "# check for null values\n",
        "df.isnull().sum()"
      ],
      "metadata": {
        "id": "OoYMnMA8Q1XJ",
        "colab": {
          "base_uri": "https://localhost:8080/"
        },
        "outputId": "1d590b67-54bc-46f3-c7c3-3b53cbdfc741"
      },
      "execution_count": 16,
      "outputs": [
        {
          "output_type": "execute_result",
          "data": {
            "text/plain": [
              "id        0\n",
              "descr     0\n",
              "source    0\n",
              "dtype: int64"
            ]
          },
          "metadata": {},
          "execution_count": 16
        }
      ]
    },
    {
      "cell_type": "code",
      "source": [
        "counts = df[\"source\"].value_counts()\n",
        "counts"
      ],
      "metadata": {
        "colab": {
          "base_uri": "https://localhost:8080/"
        },
        "id": "iikSuqzCdCFn",
        "outputId": "82b71a50-4096-419a-f3a5-3d6319ef2666"
      },
      "execution_count": 17,
      "outputs": [
        {
          "output_type": "execute_result",
          "data": {
            "text/plain": [
              "WhatsApp           47976\n",
              "Phone              40691\n",
              "E-mail              5267\n",
              "Web                 1203\n",
              "Letter               413\n",
              "Twitter              289\n",
              "Telefoon              58\n",
              "Facebook              14\n",
              "Customer - Chat        1\n",
              "Name: source, dtype: int64"
            ]
          },
          "metadata": {},
          "execution_count": 17
        }
      ]
    },
    {
      "cell_type": "code",
      "source": [
        "# @title Look into the WhatsApp data source\n",
        "\n",
        "# check which rows are starting with the below string\n",
        "whapp_cases = df[df[\"source\"].str.contains(\"WhatsApp\")]\n",
        "whapp = whapp_cases[[\"descr\", \"source\"]]\n",
        "whapp.head()"
      ],
      "metadata": {
        "id": "BbW8S79Lfuwr",
        "colab": {
          "base_uri": "https://localhost:8080/",
          "height": 301
        },
        "outputId": "83c312b4-4bad-41f7-85df-7c67118f12cb"
      },
      "execution_count": 5,
      "outputs": [
        {
          "output_type": "execute_result",
          "data": {
            "text/plain": [
              "                                                   descr    source\n",
              "47935  Dag, ik had een probleem met mijn bestelling v...  WhatsApp\n",
              "47936  Beste heer mevrouw Inmiddels zijn we 3 maanden...  WhatsApp\n",
              "47937  Hallo, staan er voedingswaarden vermeld op de ...  WhatsApp\n",
              "47938  Bij Bestelling: 6057976661 had ik een servicec...  WhatsApp\n",
              "47939  Hi! Ik heb mijn bestelling net ontvangen. Ik h...  WhatsApp"
            ],
            "text/html": [
              "\n",
              "  <div id=\"df-144322c5-f1de-4408-b968-095bed810f21\">\n",
              "    <div class=\"colab-df-container\">\n",
              "      <div>\n",
              "<style scoped>\n",
              "    .dataframe tbody tr th:only-of-type {\n",
              "        vertical-align: middle;\n",
              "    }\n",
              "\n",
              "    .dataframe tbody tr th {\n",
              "        vertical-align: top;\n",
              "    }\n",
              "\n",
              "    .dataframe thead th {\n",
              "        text-align: right;\n",
              "    }\n",
              "</style>\n",
              "<table border=\"1\" class=\"dataframe\">\n",
              "  <thead>\n",
              "    <tr style=\"text-align: right;\">\n",
              "      <th></th>\n",
              "      <th>descr</th>\n",
              "      <th>source</th>\n",
              "    </tr>\n",
              "  </thead>\n",
              "  <tbody>\n",
              "    <tr>\n",
              "      <th>47935</th>\n",
              "      <td>Dag, ik had een probleem met mijn bestelling v...</td>\n",
              "      <td>WhatsApp</td>\n",
              "    </tr>\n",
              "    <tr>\n",
              "      <th>47936</th>\n",
              "      <td>Beste heer mevrouw Inmiddels zijn we 3 maanden...</td>\n",
              "      <td>WhatsApp</td>\n",
              "    </tr>\n",
              "    <tr>\n",
              "      <th>47937</th>\n",
              "      <td>Hallo, staan er voedingswaarden vermeld op de ...</td>\n",
              "      <td>WhatsApp</td>\n",
              "    </tr>\n",
              "    <tr>\n",
              "      <th>47938</th>\n",
              "      <td>Bij Bestelling: 6057976661 had ik een servicec...</td>\n",
              "      <td>WhatsApp</td>\n",
              "    </tr>\n",
              "    <tr>\n",
              "      <th>47939</th>\n",
              "      <td>Hi! Ik heb mijn bestelling net ontvangen. Ik h...</td>\n",
              "      <td>WhatsApp</td>\n",
              "    </tr>\n",
              "  </tbody>\n",
              "</table>\n",
              "</div>\n",
              "      <button class=\"colab-df-convert\" onclick=\"convertToInteractive('df-144322c5-f1de-4408-b968-095bed810f21')\"\n",
              "              title=\"Convert this dataframe to an interactive table.\"\n",
              "              style=\"display:none;\">\n",
              "        \n",
              "  <svg xmlns=\"http://www.w3.org/2000/svg\" height=\"24px\"viewBox=\"0 0 24 24\"\n",
              "       width=\"24px\">\n",
              "    <path d=\"M0 0h24v24H0V0z\" fill=\"none\"/>\n",
              "    <path d=\"M18.56 5.44l.94 2.06.94-2.06 2.06-.94-2.06-.94-.94-2.06-.94 2.06-2.06.94zm-11 1L8.5 8.5l.94-2.06 2.06-.94-2.06-.94L8.5 2.5l-.94 2.06-2.06.94zm10 10l.94 2.06.94-2.06 2.06-.94-2.06-.94-.94-2.06-.94 2.06-2.06.94z\"/><path d=\"M17.41 7.96l-1.37-1.37c-.4-.4-.92-.59-1.43-.59-.52 0-1.04.2-1.43.59L10.3 9.45l-7.72 7.72c-.78.78-.78 2.05 0 2.83L4 21.41c.39.39.9.59 1.41.59.51 0 1.02-.2 1.41-.59l7.78-7.78 2.81-2.81c.8-.78.8-2.07 0-2.86zM5.41 20L4 18.59l7.72-7.72 1.47 1.35L5.41 20z\"/>\n",
              "  </svg>\n",
              "      </button>\n",
              "      \n",
              "  <style>\n",
              "    .colab-df-container {\n",
              "      display:flex;\n",
              "      flex-wrap:wrap;\n",
              "      gap: 12px;\n",
              "    }\n",
              "\n",
              "    .colab-df-convert {\n",
              "      background-color: #E8F0FE;\n",
              "      border: none;\n",
              "      border-radius: 50%;\n",
              "      cursor: pointer;\n",
              "      display: none;\n",
              "      fill: #1967D2;\n",
              "      height: 32px;\n",
              "      padding: 0 0 0 0;\n",
              "      width: 32px;\n",
              "    }\n",
              "\n",
              "    .colab-df-convert:hover {\n",
              "      background-color: #E2EBFA;\n",
              "      box-shadow: 0px 1px 2px rgba(60, 64, 67, 0.3), 0px 1px 3px 1px rgba(60, 64, 67, 0.15);\n",
              "      fill: #174EA6;\n",
              "    }\n",
              "\n",
              "    [theme=dark] .colab-df-convert {\n",
              "      background-color: #3B4455;\n",
              "      fill: #D2E3FC;\n",
              "    }\n",
              "\n",
              "    [theme=dark] .colab-df-convert:hover {\n",
              "      background-color: #434B5C;\n",
              "      box-shadow: 0px 1px 3px 1px rgba(0, 0, 0, 0.15);\n",
              "      filter: drop-shadow(0px 1px 2px rgba(0, 0, 0, 0.3));\n",
              "      fill: #FFFFFF;\n",
              "    }\n",
              "  </style>\n",
              "\n",
              "      <script>\n",
              "        const buttonEl =\n",
              "          document.querySelector('#df-144322c5-f1de-4408-b968-095bed810f21 button.colab-df-convert');\n",
              "        buttonEl.style.display =\n",
              "          google.colab.kernel.accessAllowed ? 'block' : 'none';\n",
              "\n",
              "        async function convertToInteractive(key) {\n",
              "          const element = document.querySelector('#df-144322c5-f1de-4408-b968-095bed810f21');\n",
              "          const dataTable =\n",
              "            await google.colab.kernel.invokeFunction('convertToInteractive',\n",
              "                                                     [key], {});\n",
              "          if (!dataTable) return;\n",
              "\n",
              "          const docLinkHtml = 'Like what you see? Visit the ' +\n",
              "            '<a target=\"_blank\" href=https://colab.research.google.com/notebooks/data_table.ipynb>data table notebook</a>'\n",
              "            + ' to learn more about interactive tables.';\n",
              "          element.innerHTML = '';\n",
              "          dataTable['output_type'] = 'display_data';\n",
              "          await google.colab.output.renderOutput(dataTable, element);\n",
              "          const docLink = document.createElement('div');\n",
              "          docLink.innerHTML = docLinkHtml;\n",
              "          element.appendChild(docLink);\n",
              "        }\n",
              "      </script>\n",
              "    </div>\n",
              "  </div>\n",
              "  "
            ],
            "application/vnd.google.colaboratory.module+javascript": "\n      import \"https://ssl.gstatic.com/colaboratory/data_table/99dac6621f6ae8c4/data_table.js\";\n\n      window.createDataTable({\n        data: [[{\n            'v': 47935,\n            'f': \"47935\",\n        },\n\"Dag, ik had een probleem met mijn bestelling van 14/2/23 gemeld. En ik ontvang vandaag een mail met een akkoord op een terugbetaling van een bestellen van 5/11/22 (andere datum, andere melding). Denk dat er iets niet goed gaat?? Hallo Antoinette , je chat met Rubin. Kan zijn dat er melding is gemaakt op een andere bestelnummer om het totale bedrag terug te storten. Maar heb je een screenshot? Dan kan ik met je meekijken, ik hoor graag van je. Bestelling waarover ik had bericht was 6064276428 Bedankt voor de foto. Volgens het systeem is te zien dat er een fout is gemaakt met de datum.Het gaat om hetzelfde bedrag \\ud83d\\ude0a. Ik hoop je voldoende te hebben geinformeerd. Fijne avond!\",\n\"WhatsApp\"],\n [{\n            'v': 47936,\n            'f': \"47936\",\n        },\n\"Beste heer mevrouw Inmiddels zijn we 3 maanden verder en heb ik nog steeds geen race auto ontvangen. Duurt nu wel weg lang Hoop hem toch snel te ontvangen Mvg Dani\\u00eblle\",\n\"WhatsApp\"],\n [{\n            'v': 47937,\n            'f': \"47937\",\n        },\n\"Hallo, staan er voedingswaarden vermeld op de flessen wijn die u verkoopt? Hallo, je chat met Sharon. Bedankt voor je bericht. Nee, niet volledig. Je kan dit navragen in de winkel en anders kunnen wij dit voor je opzoeken. Fijne dag. \\ud83d\\ude0a Ok bedankt, jij ook een fijne dag! Groetjes Greet Dankjewel!\",\n\"WhatsApp\"],\n [{\n            'v': 47938,\n            'f': \"47938\",\n        },\n\"Bij Bestelling: 6057976661 had ik een servicecode ingevuld voor 5 euro korting tegen inlevering van 1000 punten. Deze 5,00 staat niet op de bon vermeld, is er niet getrokken terwijl deze bij het totaal verkregen korting wel is meegeteld. Laat maar, ik zie net dat het in het totaal wel te zien is. Het staat er alleen niet apart op vermeld. Oke toppie\\ud83d\\udc4d. Fijne dag.\",\n\"WhatsApp\"],\n [{\n            'v': 47939,\n            'f': \"47939\",\n        },\n\"Hi! Ik heb mijn bestelling net ontvangen. Ik had ook flessen ingeleverd (11 grote en 2 kleine) en volgens mij zijn die kosten niet verrekend. Ook zat er onder in een zak een bak kwark en zaten daardoor meerdere producten onder de kwark. Excuus, ik zie dat de flessen er af zijn gegaan! Dan zou ik alleen graag nog reactie ontvangen over de bak kwark. Hallo Irene, je chat met Sterre. Bedankt voor je bericht. Wat vervelend dat de kwark kapot is gegaan in je bestelling. Ik heb een terugbetaling voor de kwark in orde gemaakt. Het bedrag vindt je binnen zeven dagen terug op je rekening. Excuses voor het ongemak. Fijne avond! Dank! Fijn dat het zo snel geregeld is. Graag gedaan en ik wens je een fijne avond!\\ud83d\\ude0a\",\n\"WhatsApp\"]],\n        columns: [[\"number\", \"index\"], [\"string\", \"descr\"], [\"string\", \"source\"]],\n        columnOptions: [{\"width\": \"1px\", \"className\": \"index_column\"}],\n        rowsPerPage: 25,\n        helpUrl: \"https://colab.research.google.com/notebooks/data_table.ipynb\",\n        suppressOutputScrolling: true,\n        minimumWidth: undefined,\n      });\n    "
          },
          "metadata": {},
          "execution_count": 5
        }
      ]
    },
    {
      "cell_type": "code",
      "source": [
        "whapp.shape"
      ],
      "metadata": {
        "colab": {
          "base_uri": "https://localhost:8080/"
        },
        "id": "-eUnq8l7gHhp",
        "outputId": "a2dc6034-811d-4a4b-b9c8-2cbbed252625"
      },
      "execution_count": 6,
      "outputs": [
        {
          "output_type": "execute_result",
          "data": {
            "text/plain": [
              "(47976, 2)"
            ]
          },
          "metadata": {},
          "execution_count": 6
        }
      ]
    },
    {
      "cell_type": "markdown",
      "source": [
        "## Cloud Data Loss Prevention"
      ],
      "metadata": {
        "id": "8ZvY4_7qXYzD"
      }
    },
    {
      "cell_type": "code",
      "source": [
        "!gcloud auth application-default login --no-launch-browser\n",
        "!gcloud auth application-default set-quota-project $project_id"
      ],
      "metadata": {
        "id": "rMJJDRlGoNZk"
      },
      "execution_count": null,
      "outputs": []
    },
    {
      "cell_type": "code",
      "source": [
        "from google.cloud import dlp_v2\n",
        "import google.protobuf\n",
        "\n",
        "# Create a DLP client\n",
        "dlp_client = dlp_v2.DlpServiceClient()"
      ],
      "metadata": {
        "id": "HSux45xVglKE"
      },
      "execution_count": 8,
      "outputs": []
    },
    {
      "cell_type": "code",
      "source": [
        "# @title DLP old code\n",
        "# def deidentify_with_replace_infotype(project, item, info_types):\n",
        "#     \"\"\"Uses the Data Loss Prevention API to deidentify sensitive data in a\n",
        "#     string by replacing it with the info type.\n",
        "#     Args:\n",
        "#         project: The Google Cloud project id to use as a parent resource.\n",
        "#         item: The string to deidentify (will be treated as text).\n",
        "#         info_types: A list of strings representing info types to look for.\n",
        "#             A full list of info type categories can be fetched from the API.\n",
        "#     Returns:\n",
        "#         None; the response from the API is printed to the terminal.\n",
        "#     \"\"\"\n",
        "\n",
        "#     # Import the client library\n",
        "#     import google.cloud.dlp\n",
        "\n",
        "#     # Instantiate a client\n",
        "#     dlp = google.cloud.dlp_v2.DlpServiceClient()\n",
        "\n",
        "#     # Convert the project id into a full resource id.\n",
        "#     parent = f\"projects/{project}\"\n",
        "\n",
        "#     # Construct inspect configuration dictionary\n",
        "#     inspect_config = {\"info_types\": [{\"name\": info_type} for info_type in info_types]}\n",
        "\n",
        "#     # Construct deidentify configuration dictionary\n",
        "#     deidentify_config = {\n",
        "#         \"info_type_transformations\": {\n",
        "#             \"transformations\": [\n",
        "#                 {\"primitive_transformation\": {\"replace_with_info_type_config\": {}}}\n",
        "#             ]\n",
        "#         }\n",
        "#     }\n",
        "\n",
        "#     # Call the API\n",
        "#     response = dlp.deidentify_content(\n",
        "#         request={\n",
        "#             \"parent\": parent,\n",
        "#             \"deidentify_config\": deidentify_config,\n",
        "#             \"inspect_config\": inspect_config,\n",
        "#             \"item\": {\"value\": item},\n",
        "#         }\n",
        "#     )\n",
        "\n",
        "#     # Print out the results.\n",
        "#     print(response.item.value)"
      ],
      "metadata": {
        "id": "ClbH3zsChhJO",
        "cellView": "form"
      },
      "execution_count": 23,
      "outputs": []
    },
    {
      "cell_type": "code",
      "source": [
        "def deidentify_with_replace_infotype(project, item, info_types):\n",
        "    \"\"\"Uses the Data Loss Prevention API to deidentify sensitive data in a\n",
        "    string by replacing it with the info type.\n",
        "    Args:\n",
        "        project: The Google Cloud project id to use as a parent resource.\n",
        "        item: The string to deidentify (will be treated as text).\n",
        "        info_types: A list of strings representing info types to look for.\n",
        "            A full list of info type categories can be fetched from the API.\n",
        "    Returns:\n",
        "        The deidentified string.\n",
        "    \"\"\"\n",
        "\n",
        "    # Import the client library\n",
        "    import google.cloud.dlp\n",
        "\n",
        "    # Instantiate a client\n",
        "    dlp = google.cloud.dlp_v2.DlpServiceClient()\n",
        "\n",
        "    # Convert the project id into a full resource id.\n",
        "    parent = f\"projects/{project}\"\n",
        "\n",
        "    # Construct inspect configuration dictionary\n",
        "    inspect_config = {\"info_types\": [{\"name\": info_type} for info_type in info_types]}\n",
        "\n",
        "    # Construct deidentify configuration dictionary\n",
        "    deidentify_config = {\n",
        "        \"info_type_transformations\": {\n",
        "            \"transformations\": [\n",
        "                {\"primitive_transformation\": {\"replace_with_info_type_config\": {}}}\n",
        "            ]\n",
        "        }\n",
        "    }\n",
        "\n",
        "    # Call the API\n",
        "    response = dlp.deidentify_content(\n",
        "        request={\n",
        "            \"parent\": parent,\n",
        "            \"deidentify_config\": deidentify_config,\n",
        "            \"inspect_config\": inspect_config,\n",
        "            \"item\": {\"value\": item},\n",
        "        }\n",
        "    )\n",
        "\n",
        "    # Return the deidentified value\n",
        "    return response.item.value"
      ],
      "metadata": {
        "id": "JqANx6TRF2qV"
      },
      "execution_count": 9,
      "outputs": []
    },
    {
      "cell_type": "code",
      "source": [
        "deidentify_with_replace_infotype(\n",
        "    project=project_id,\n",
        "    item=\"My credit phone number is +31628725569 and my name is Deyna Baeva\",\n",
        "    info_types=[\"CREDIT_CARD_NUMBER\", \"EMAIL_ADDRESS\", \"PHONE_NUMBER\", \"PERSON_NAME\"]\n",
        ")"
      ],
      "metadata": {
        "colab": {
          "base_uri": "https://localhost:8080/",
          "height": 36
        },
        "id": "eEhNdz3_hhLF",
        "outputId": "cc93d866-77a3-49ce-b281-4582dfc0089a"
      },
      "execution_count": 10,
      "outputs": [
        {
          "output_type": "execute_result",
          "data": {
            "text/plain": [
              "'My credit phone number is [PHONE_NUMBER] and my name is [PERSON_NAME]'"
            ],
            "application/vnd.google.colaboratory.intrinsic+json": {
              "type": "string"
            }
          },
          "metadata": {},
          "execution_count": 10
        }
      ]
    },
    {
      "cell_type": "code",
      "source": [
        "whapp_partial = whapp.sample(n=17000)"
      ],
      "metadata": {
        "id": "6YOkWz0wQ-ao"
      },
      "execution_count": 11,
      "outputs": []
    },
    {
      "cell_type": "code",
      "source": [
        "whapp_partial"
      ],
      "metadata": {
        "id": "etUXZn6KRa8w"
      },
      "execution_count": null,
      "outputs": []
    },
    {
      "cell_type": "code",
      "source": [
        "# Apply the DLP API to the \"descr\" column\n",
        "whapp_partial[\"descr\"] = whapp_partial[\"descr\"].apply(lambda x: deidentify_with_replace_infotype(\n",
        "    project=project_id,\n",
        "    item=x,\n",
        "    info_types=[\"CREDIT_CARD_NUMBER\", \"EMAIL_ADDRESS\", \"PHONE_NUMBER\", \"PERSON_NAME\"]\n",
        "))"
      ],
      "metadata": {
        "id": "uNxAzYaBF-l0"
      },
      "execution_count": null,
      "outputs": []
    },
    {
      "cell_type": "code",
      "source": [
        "whapp_partial[\"descr\"].to_csv(\"/content/drive/MyDrive/BERTopic+embeddings/deidentified-partial-17000.csv\", index=False)"
      ],
      "metadata": {
        "id": "7j_t_ojtGHJs"
      },
      "execution_count": null,
      "outputs": []
    },
    {
      "cell_type": "code",
      "source": [
        "# @title Async\n",
        "# import asyncio\n",
        "\n",
        "# # Split the dataframe into batches\n",
        "# batch_size = 1000\n",
        "# batches = [whapp[\"descr\"][i:i+batch_size] for i in range(0, len(whapp[\"descr\"]), batch_size)]\n",
        "\n",
        "# async def deidentify_batch(batch):\n",
        "#     # Call the async deidentify function\n",
        "#     return await deidentify_with_replace_infotype(\n",
        "#         project=project_id,\n",
        "#         items=batch.tolist(),\n",
        "#         info_types=[\"CREDIT_CARD_NUMBER\", \"EMAIL_ADDRESS\", \"PHONE_NUMBER\", \"PERSON_NAME\"]\n",
        "#     )\n",
        "\n",
        "# async def run_deidentification():\n",
        "#     # Create an event loop\n",
        "#     loop = asyncio.new_event_loop()\n",
        "\n",
        "#     # Run the async deidentify function for each batch\n",
        "#     tasks = [loop.create_task(deidentify_batch(batch)) for batch in batches]\n",
        "#     results = await asyncio.gather(*tasks)\n",
        "\n",
        "#     # Close the event loop\n",
        "#     loop.close()\n",
        "\n",
        "#     # Flatten the results and update the \"descr\" column in the DataFrame\n",
        "#     deidentified_values = [value for result in results for value in result]\n",
        "#     whapp[\"descr\"] = deidentified_values\n",
        "\n",
        "# # Run the coroutine to deidentify all batches\n",
        "# asyncio.run(run_deidentification())"
      ],
      "metadata": {
        "cellView": "form",
        "id": "pv7h5Y8MGNCj"
      },
      "execution_count": 28,
      "outputs": []
    },
    {
      "cell_type": "code",
      "source": [
        "# @title Async\n",
        "# import asyncio\n",
        "\n",
        "# async def deidentify_batch(batch):\n",
        "#     \"\"\"Deidentifies a batch of items asynchronously using the DLP API.\"\"\"\n",
        "#     items = [{\"value\": str(item)} for item in batch]\n",
        "#     parent = f\"projects/{project_id}\"\n",
        "#     inspect_config = {\"info_types\": [{\"name\": info_type} for info_type in info_types]}\n",
        "#     deidentify_config = {\n",
        "#         \"info_type_transformations\": {\n",
        "#             \"transformations\": [\n",
        "#                 {\"primitive_transformation\": {\"replace_with_info_type_config\": {}}}\n",
        "#             ]\n",
        "#         }\n",
        "#     }\n",
        "#     response = await dlp_client.deidentify_content(\n",
        "#         request={\n",
        "#             \"parent\": parent,\n",
        "#             \"deidentify_config\": deidentify_config,\n",
        "#             \"inspect_config\": inspect_config,\n",
        "#             \"items\": items,\n",
        "#         }\n",
        "#     )\n",
        "#     return [r.item.value for r in response.items]\n",
        "\n",
        "# def deidentify_dataframe(df, project, info_types, batch_size=100):\n",
        "#     \"\"\"Deidentifies a DataFrame column asynchronously using the DLP API.\"\"\"\n",
        "#     # Split the DataFrame into batches\n",
        "#     batches = [df[i:i+batch_size][\"descr\"].tolist() for i in range(0, len(df), batch_size)]\n",
        "\n",
        "#     # Process each batch asynchronously using asyncio\n",
        "#     loop = asyncio.get_event_loop()\n",
        "#     tasks = [loop.create_task(deidentify_batch(batch)) for batch in batches]\n",
        "#     results = loop.run_until_complete(asyncio.gather(*tasks))\n",
        "\n",
        "#     # Flatten the results and update the \"descr\" column in the DataFrame\n",
        "#     deidentified_items = [item for sublist in results for item in sublist]\n",
        "#     df[\"descr\"] = deidentified_items\n",
        "#     return df"
      ],
      "metadata": {
        "cellView": "form",
        "id": "P_yCIZhiGM7b"
      },
      "execution_count": 29,
      "outputs": []
    },
    {
      "cell_type": "markdown",
      "source": [
        "## Data cleaning"
      ],
      "metadata": {
        "id": "UcVAAJgyFnaX"
      }
    },
    {
      "cell_type": "code",
      "source": [
        "whapp_data = pd.read_csv(\"/content/drive/MyDrive/BERTopic+embeddings/deidentified-partial-7000.csv\")"
      ],
      "metadata": {
        "id": "ph8-DW-NpyUB"
      },
      "execution_count": 51,
      "outputs": []
    },
    {
      "cell_type": "code",
      "source": [
        "whapp_data.head()"
      ],
      "metadata": {
        "colab": {
          "base_uri": "https://localhost:8080/",
          "height": 251
        },
        "id": "BEWrP928qEkZ",
        "outputId": "fbf40671-748b-47d2-892a-6694d020e75d"
      },
      "execution_count": 52,
      "outputs": [
        {
          "output_type": "execute_result",
          "data": {
            "text/plain": [
              "                                               descr\n",
              "0  Na aanleiding van mijn telefonische contact ov...\n",
              "1  Ik kon mijn bestel tijd niet meer wijzigen maa...\n",
              "2                                    Hartelijk dank.\n",
              "3  goede middag hoe kan ik mijn punten van de kwi...\n",
              "4  [PERSON_NAME], je chat met [PERSON_NAME]. O je..."
            ],
            "text/html": [
              "\n",
              "  <div id=\"df-bf60abd5-e856-4d9e-b2ad-2e52e603ee17\">\n",
              "    <div class=\"colab-df-container\">\n",
              "      <div>\n",
              "<style scoped>\n",
              "    .dataframe tbody tr th:only-of-type {\n",
              "        vertical-align: middle;\n",
              "    }\n",
              "\n",
              "    .dataframe tbody tr th {\n",
              "        vertical-align: top;\n",
              "    }\n",
              "\n",
              "    .dataframe thead th {\n",
              "        text-align: right;\n",
              "    }\n",
              "</style>\n",
              "<table border=\"1\" class=\"dataframe\">\n",
              "  <thead>\n",
              "    <tr style=\"text-align: right;\">\n",
              "      <th></th>\n",
              "      <th>descr</th>\n",
              "    </tr>\n",
              "  </thead>\n",
              "  <tbody>\n",
              "    <tr>\n",
              "      <th>0</th>\n",
              "      <td>Na aanleiding van mijn telefonische contact ov...</td>\n",
              "    </tr>\n",
              "    <tr>\n",
              "      <th>1</th>\n",
              "      <td>Ik kon mijn bestel tijd niet meer wijzigen maa...</td>\n",
              "    </tr>\n",
              "    <tr>\n",
              "      <th>2</th>\n",
              "      <td>Hartelijk dank.</td>\n",
              "    </tr>\n",
              "    <tr>\n",
              "      <th>3</th>\n",
              "      <td>goede middag hoe kan ik mijn punten van de kwi...</td>\n",
              "    </tr>\n",
              "    <tr>\n",
              "      <th>4</th>\n",
              "      <td>[PERSON_NAME], je chat met [PERSON_NAME]. O je...</td>\n",
              "    </tr>\n",
              "  </tbody>\n",
              "</table>\n",
              "</div>\n",
              "      <button class=\"colab-df-convert\" onclick=\"convertToInteractive('df-bf60abd5-e856-4d9e-b2ad-2e52e603ee17')\"\n",
              "              title=\"Convert this dataframe to an interactive table.\"\n",
              "              style=\"display:none;\">\n",
              "        \n",
              "  <svg xmlns=\"http://www.w3.org/2000/svg\" height=\"24px\"viewBox=\"0 0 24 24\"\n",
              "       width=\"24px\">\n",
              "    <path d=\"M0 0h24v24H0V0z\" fill=\"none\"/>\n",
              "    <path d=\"M18.56 5.44l.94 2.06.94-2.06 2.06-.94-2.06-.94-.94-2.06-.94 2.06-2.06.94zm-11 1L8.5 8.5l.94-2.06 2.06-.94-2.06-.94L8.5 2.5l-.94 2.06-2.06.94zm10 10l.94 2.06.94-2.06 2.06-.94-2.06-.94-.94-2.06-.94 2.06-2.06.94z\"/><path d=\"M17.41 7.96l-1.37-1.37c-.4-.4-.92-.59-1.43-.59-.52 0-1.04.2-1.43.59L10.3 9.45l-7.72 7.72c-.78.78-.78 2.05 0 2.83L4 21.41c.39.39.9.59 1.41.59.51 0 1.02-.2 1.41-.59l7.78-7.78 2.81-2.81c.8-.78.8-2.07 0-2.86zM5.41 20L4 18.59l7.72-7.72 1.47 1.35L5.41 20z\"/>\n",
              "  </svg>\n",
              "      </button>\n",
              "      \n",
              "  <style>\n",
              "    .colab-df-container {\n",
              "      display:flex;\n",
              "      flex-wrap:wrap;\n",
              "      gap: 12px;\n",
              "    }\n",
              "\n",
              "    .colab-df-convert {\n",
              "      background-color: #E8F0FE;\n",
              "      border: none;\n",
              "      border-radius: 50%;\n",
              "      cursor: pointer;\n",
              "      display: none;\n",
              "      fill: #1967D2;\n",
              "      height: 32px;\n",
              "      padding: 0 0 0 0;\n",
              "      width: 32px;\n",
              "    }\n",
              "\n",
              "    .colab-df-convert:hover {\n",
              "      background-color: #E2EBFA;\n",
              "      box-shadow: 0px 1px 2px rgba(60, 64, 67, 0.3), 0px 1px 3px 1px rgba(60, 64, 67, 0.15);\n",
              "      fill: #174EA6;\n",
              "    }\n",
              "\n",
              "    [theme=dark] .colab-df-convert {\n",
              "      background-color: #3B4455;\n",
              "      fill: #D2E3FC;\n",
              "    }\n",
              "\n",
              "    [theme=dark] .colab-df-convert:hover {\n",
              "      background-color: #434B5C;\n",
              "      box-shadow: 0px 1px 3px 1px rgba(0, 0, 0, 0.15);\n",
              "      filter: drop-shadow(0px 1px 2px rgba(0, 0, 0, 0.3));\n",
              "      fill: #FFFFFF;\n",
              "    }\n",
              "  </style>\n",
              "\n",
              "      <script>\n",
              "        const buttonEl =\n",
              "          document.querySelector('#df-bf60abd5-e856-4d9e-b2ad-2e52e603ee17 button.colab-df-convert');\n",
              "        buttonEl.style.display =\n",
              "          google.colab.kernel.accessAllowed ? 'block' : 'none';\n",
              "\n",
              "        async function convertToInteractive(key) {\n",
              "          const element = document.querySelector('#df-bf60abd5-e856-4d9e-b2ad-2e52e603ee17');\n",
              "          const dataTable =\n",
              "            await google.colab.kernel.invokeFunction('convertToInteractive',\n",
              "                                                     [key], {});\n",
              "          if (!dataTable) return;\n",
              "\n",
              "          const docLinkHtml = 'Like what you see? Visit the ' +\n",
              "            '<a target=\"_blank\" href=https://colab.research.google.com/notebooks/data_table.ipynb>data table notebook</a>'\n",
              "            + ' to learn more about interactive tables.';\n",
              "          element.innerHTML = '';\n",
              "          dataTable['output_type'] = 'display_data';\n",
              "          await google.colab.output.renderOutput(dataTable, element);\n",
              "          const docLink = document.createElement('div');\n",
              "          docLink.innerHTML = docLinkHtml;\n",
              "          element.appendChild(docLink);\n",
              "        }\n",
              "      </script>\n",
              "    </div>\n",
              "  </div>\n",
              "  "
            ],
            "application/vnd.google.colaboratory.module+javascript": "\n      import \"https://ssl.gstatic.com/colaboratory/data_table/99dac6621f6ae8c4/data_table.js\";\n\n      window.createDataTable({\n        data: [[{\n            'v': 0,\n            'f': \"0\",\n        },\n\"Na aanleiding van mijn telefonische contact over [PERSON_NAME] zou ik u ons bestelnummer geven zodra ik op het werk was. Het gaat om bestelnummer 6063795519 het gaat erom dat wij geen zegels voor de bakjes hebben gekregen. Dit gebeurt vaker met acties. Graag opsturen naar. [PERSON_NAME] 35 6826RT Arnhem Hoof huishoudelijke Dienst [PERSON_NAME]\"],\n [{\n            'v': 1,\n            'f': \"1\",\n        },\n\"Ik kon mijn bestel tijd niet meer wijzigen maar zou de boodschappen in de tuin gezet kunnen worden onder tuinhuis dat ik per mail betaal ? Voor morgen Ze komen elke week bij ons thuis dus betaling komt altijd goed Hallo [PERSON_NAME], Je chat met [PERSON_NAME]. Goed dat je een berichtje stuurt. Helaas mag de bezorger het niet zomaar achter laten helaas. Als je verder nog vragen heb hoor ik het graag van je . [PERSON_NAME] wens ik je een fijn weekend toe. Is al oplost dank je Gelukkig! Ik wens je nog fijne weekend toe!\\ud83d\\ude0a\"],\n [{\n            'v': 2,\n            'f': \"2\",\n        },\n\"Hartelijk dank.\"],\n [{\n            'v': 3,\n            'f': \"3\",\n        },\n\"goede middag hoe kan ik mijn punten van de kwijtgeraakte pas overzetten naar het nieuwe Hallo, je chat met [PERSON_NAME]. Dank je wel voor je bericht! Ik kan me voorstellen dat je graag je punten op je nieuwe kaart toegevoegd wilt hebben. Wanneer je een pas verloren bent kan je in de winkel een koppel pas halen en deze aan je account koppelen. De punten van de verloren pas zie je dan terug op de koppel pas. Als je voor mij je email adres hebt waar je de account mee aangemaakt hebt kan ik het voor je uitzoeken.\"],\n [{\n            'v': 4,\n            'f': \"4\",\n        },\n\"[PERSON_NAME], je chat met [PERSON_NAME]. O jee! Mijn excuses.. dit is natuurlijk niet de bedoeling. Zou ik je bestelnummer mogen? 6066299220 Ik heb de terugbetaling voor je goedgekeurd. Fijn weekend! \\ud83d\\udc4d\\ud83c\\udffb\\ud83d\\udc4d\\ud83c\\udffb top!!\"]],\n        columns: [[\"number\", \"index\"], [\"string\", \"descr\"]],\n        columnOptions: [{\"width\": \"1px\", \"className\": \"index_column\"}],\n        rowsPerPage: 25,\n        helpUrl: \"https://colab.research.google.com/notebooks/data_table.ipynb\",\n        suppressOutputScrolling: true,\n        minimumWidth: undefined,\n      });\n    "
          },
          "metadata": {},
          "execution_count": 52
        }
      ]
    },
    {
      "cell_type": "code",
      "source": [
        "import nltk\n",
        "from nltk.tokenize import word_tokenize, sent_tokenize\n",
        "from nltk.tag import pos_tag\n",
        "\n",
        "def POS_tagger(text):\n",
        "    # tokenize text into sentences\n",
        "    sentences = sent_tokenize(text)\n",
        "    cleaned_sentences = []\n",
        "    \n",
        "    for sentence in sentences:\n",
        "        # tokenize each sentence into words\n",
        "        words = word_tokenize(sentence)\n",
        "        # POS tag each word\n",
        "        tagged_words = pos_tag(words)\n",
        "        # filter out proper nouns (NNP and NNPS)\n",
        "        filtered_words = [word for word, tag in tagged_words if tag not in ['NNP', 'NNPS']]\n",
        "        # join the filtered words back into a sentence\n",
        "        cleaned_sentence = ' '.join(filtered_words)\n",
        "        cleaned_sentences.append(cleaned_sentence)\n",
        "        \n",
        "    # join the cleaned sentences back into a full text\n",
        "    cleaned_text = ' '.join(cleaned_sentences)\n",
        "    return cleaned_text"
      ],
      "metadata": {
        "id": "QFwCvCy8UtRP"
      },
      "execution_count": null,
      "outputs": []
    },
    {
      "cell_type": "code",
      "source": [
        "whapp[\"clean_descr\"] = whapp[\"descr\"].apply(POS_tagger)"
      ],
      "metadata": {
        "id": "JBE01p_vYi3s"
      },
      "execution_count": null,
      "outputs": []
    },
    {
      "cell_type": "code",
      "source": [
        "import re\n",
        "import string\n",
        "\n",
        "def clean_text(text):\n",
        "\n",
        "    # lowercasing text \n",
        "    text = text.lower()\n",
        "\n",
        "    # remove special characters\n",
        "    text = re.sub(r\"[^a-zA-Z0-9\\s]\", \"\", text)\n",
        "\n",
        "    # remove punctuation\n",
        "    text = text.translate(str.maketrans(\"\", \"\", string.punctuation))\n",
        "\n",
        "    # remove emojis\n",
        "    text = \"\".join(c for c in text if c not in emoji.EMOJI_DATA)\n",
        "\n",
        "    # replace order nrs with a mask\n",
        "    text = re.sub(r\"(?<!\\d)\\d{10}(?!\\d)\", \"[ORDER_NUMBER]\", text)\n",
        "\n",
        "    # replace card nrs with a mask\n",
        "    text = re.sub(r\"(?<!\\d)\\d{13}(?!\\d)\", \"[CARD_NUMBER]\", text)\n",
        " \n",
        "    # replace phone numbers with mask\n",
        "    # text = re.sub(r\"^\\(?([+]31(\\s?)|0031|0)-?6(\\s?|-)([0-9]\\s{0,3}){8}$\", \"[PHONE]\", text)\n",
        "    \n",
        "    # replace email addresses with mask\n",
        "    # text = re.sub(r\"[a-zA-Z0-9._%+-]+@[a-zA-Z0-9.-]+\\.[a-zA-Z]{2,}\", \"[EMAIL]\", text)\n",
        "\n",
        "    # replace promotions with mask\n",
        "    text = re.sub(r\"1\\s*\\+\\s*1\\s*|(one\\s*)(\\[PROMO\\]\\s*|\\[PROMO\\]?\\s*gratis\\b|\\bplus\\s*one\\s*gratis\\b)\", \"[PROMO]\", text)\n",
        "\n",
        "    # replace receipt nrs with a mask\n",
        "    text = re.sub(r\"(?<!\\d)\\d{20}(?!\\d)\", \"[RECEIPT_NUMBER]\", text)\n",
        "\n",
        "    # remove URLs\n",
        "    text = re.sub(r\"https?://\\S+|www\\.\\S+\", \"\", text)\n",
        "\n",
        "    # remove extra whitespace \\s+\n",
        "    text = re.sub(r\"\\s\\s+\", \" \", text).strip()\n",
        "\n",
        "    # remove numbers\n",
        "    text = re.sub(r\"\\d+\", \"\", text)\n",
        "\n",
        "    return text"
      ],
      "metadata": {
        "id": "M5o7OZjCaNf4"
      },
      "execution_count": 53,
      "outputs": []
    },
    {
      "cell_type": "code",
      "source": [
        "whapp_data[\"clean_text\"] = whapp_data[\"descr\"].apply(clean_text)"
      ],
      "metadata": {
        "id": "6lMKkAzzq2hw"
      },
      "execution_count": 55,
      "outputs": []
    },
    {
      "cell_type": "code",
      "source": [
        "whapp_data[\"clean_text\"][5]"
      ],
      "metadata": {
        "colab": {
          "base_uri": "https://localhost:8080/",
          "height": 91
        },
        "id": "Cq0aPiagrbKd",
        "outputId": "dda8a978-4a8e-49bd-80b3-adc33f7ea044"
      },
      "execution_count": 56,
      "outputs": [
        {
          "output_type": "execute_result",
          "data": {
            "text/plain": [
              "'personname is het mogelijk om  accountspunten bij elkaar te voegen tot  account personname is het mogelijk om  accountspunten bij elkaar te voegen tot  account personname je chat met chayenne bedankt voor je bericht dat is helaas niet mogelijk jouw punten zijn persoonlijk en gekoppeld aan jouw account en pasnummer je kunt wel een pas toevoegen aan je account bij de servicebalie van jouw jumbo kun je een jumbo extras koppelpas ophalen deze kun je toevoegen in de jumbo extras app via meer indien je nog vragen hebt hoor ik het graag van je ik wens je een fijne avond bedankt voor je reactie dat is jammer gaan we inderdaad zon koppelpas halen fijne avond'"
            ],
            "application/vnd.google.colaboratory.intrinsic+json": {
              "type": "string"
            }
          },
          "metadata": {},
          "execution_count": 56
        }
      ]
    },
    {
      "cell_type": "code",
      "source": [
        "whapp[\"clean_text\"] = whapp[\"clean_descr\"].apply(clean_text)"
      ],
      "metadata": {
        "id": "bY1pT4v8rE6S"
      },
      "execution_count": null,
      "outputs": []
    },
    {
      "cell_type": "code",
      "source": [
        "whapp[\"descr\"][47935]"
      ],
      "metadata": {
        "colab": {
          "base_uri": "https://localhost:8080/",
          "height": 91
        },
        "id": "qV--kj2JTNGU",
        "outputId": "dd0920f3-ecc1-481a-977d-77ac2c676fa0"
      },
      "execution_count": null,
      "outputs": [
        {
          "output_type": "execute_result",
          "data": {
            "text/plain": [
              "'Dag, ik had een probleem met mijn bestelling van 14/2/23 gemeld. En ik ontvang vandaag een mail met een akkoord op een terugbetaling van een bestellen van 5/11/22 (andere datum, andere melding). Denk dat er iets niet goed gaat?? Hallo Antoinette , je chat met Rubin. Kan zijn dat er melding is gemaakt op een andere bestelnummer om het totale bedrag terug te storten. Maar heb je een screenshot? Dan kan ik met je meekijken, ik hoor graag van je. Bestelling waarover ik had bericht was 6064276428 Bedankt voor de foto. Volgens het systeem is te zien dat er een fout is gemaakt met de datum.Het gaat om hetzelfde bedrag 😊. Ik hoop je voldoende te hebben geinformeerd. Fijne avond!'"
            ],
            "application/vnd.google.colaboratory.intrinsic+json": {
              "type": "string"
            }
          },
          "metadata": {},
          "execution_count": 27
        }
      ]
    },
    {
      "cell_type": "code",
      "source": [
        "whapp[\"clean_text\"][47935]"
      ],
      "metadata": {
        "colab": {
          "base_uri": "https://localhost:8080/",
          "height": 73
        },
        "id": "ITPCtSRaTH1G",
        "outputId": "8337b32c-bc6f-4230-cfd1-9c4d715a7026"
      },
      "execution_count": null,
      "outputs": [
        {
          "output_type": "execute_result",
          "data": {
            "text/plain": [
              "'ik had een probleem met mijn bestelling van  gemeld ik ontvang vandaag een mail met een akkoord op een terugbetaling van een bestellen van  andere datum andere melding dat er iets niet goed gaat je chat met dat er melding is gemaakt op een andere bestelnummer om het totale bedrag terug te storten heb je een screenshot kan ik met je meekijken ik hoor graag van je bestelling waarover ik had bericht was [ORDER_NUMBER] voor de foto volgens het systeem is te zien dat er een fout is gemaakt met de datumhet gaat om hetzelfde bedrag hoop je voldoende te hebben geinformeerd avond'"
            ],
            "application/vnd.google.colaboratory.intrinsic+json": {
              "type": "string"
            }
          },
          "metadata": {},
          "execution_count": 28
        }
      ]
    },
    {
      "cell_type": "code",
      "source": [
        "whapp[\"clean_text\"]"
      ],
      "metadata": {
        "colab": {
          "base_uri": "https://localhost:8080/"
        },
        "id": "s8GyjZUdrbGj",
        "outputId": "fe197d95-876b-46a0-f903-f9a8cd8d81a3"
      },
      "execution_count": null,
      "outputs": [
        {
          "output_type": "execute_result",
          "data": {
            "text/plain": [
              "47935    ik had een probleem met mijn bestelling van  g...\n",
              "47936    heer mevrouw zijn we  maanden verder en heb ik...\n",
              "47937    staan er voedingswaarden vermeld op de flessen...\n",
              "47938    [ORDER_NUMBER] had ik een servicecode ingevuld...\n",
              "47939    hi heb mijn bestelling net ontvangen had ook f...\n",
              "                               ...                        \n",
              "95906    bij op verzenden om je gesprek te starten in d...\n",
              "95907    doet het niet meer in de app op mobiel als tab...\n",
              "95908    kl vraagt hoe laat bz komtgoedenavond lang moe...\n",
              "95909    beste u mij vertellen wat de status van mijn k...\n",
              "95910    mijn bestelling komt elk moment doet mijn bel ...\n",
              "Name: clean_text, Length: 47976, dtype: object"
            ]
          },
          "metadata": {},
          "execution_count": 29
        }
      ]
    },
    {
      "cell_type": "markdown",
      "source": [
        "## Fix the masking"
      ],
      "metadata": {
        "id": "7FzUFtobsHdL"
      }
    },
    {
      "cell_type": "code",
      "source": [
        "# Define a dictionary mapping the transformed strings to the original special tokens\n",
        "transformed_to_special_token = {\n",
        "    'personname': '[PERSON_NAME]',\n",
        "    'address': '[EMAIL_ADDRESS]',\n",
        "    'phonenumber': '[PHONE_NUMBER]',\n",
        "    'creditcardnumber': '[CREDIT_CARD_NUMBER]',\n",
        "    'ibancode': '[IBAN_CODE]'\n",
        "    # Add more mappings for other types of sensitive data as needed\n",
        "}\n",
        "\n",
        "# Define a function to replace transformed strings with special tokens\n",
        "def replace_transformed_with_special_tokens(text):\n",
        "    for transformed, special_token in transformed_to_special_token.items():\n",
        "        text = text.replace(transformed, special_token)\n",
        "    return text\n",
        "\n",
        "# Example usage\n",
        "whapp_data[\"clean_text_masks\"] = whapp_data[\"clean_text\"].apply(replace_transformed_with_special_tokens)"
      ],
      "metadata": {
        "id": "5qA5VchFsKnc"
      },
      "execution_count": 57,
      "outputs": []
    },
    {
      "cell_type": "code",
      "source": [
        "whapp_data[\"clean_text_masks\"][0]"
      ],
      "metadata": {
        "colab": {
          "base_uri": "https://localhost:8080/",
          "height": 55
        },
        "id": "dOR_WUlVsv3C",
        "outputId": "1749304c-428a-48ba-c133-ce4adbac2730"
      },
      "execution_count": 58,
      "outputs": [
        {
          "output_type": "execute_result",
          "data": {
            "text/plain": [
              "'na aanleiding van mijn telefonische contact over [PERSON_NAME] zou ik u ons bestelnummer geven zodra ik op het werk was het gaat om bestelnummer [ORDER_NUMBER] het gaat erom dat wij geen zegels voor de bakjes hebben gekregen dit gebeurt vaker met acties graag opsturen naar [PERSON_NAME]  rt arnhem hoof huishoudelijke dienst [PERSON_NAME]'"
            ],
            "application/vnd.google.colaboratory.intrinsic+json": {
              "type": "string"
            }
          },
          "metadata": {},
          "execution_count": 58
        }
      ]
    },
    {
      "cell_type": "markdown",
      "source": [
        "## Removing stop words"
      ],
      "metadata": {
        "id": "D-gprAC3ejCd"
      }
    },
    {
      "cell_type": "code",
      "source": [
        "# add custom words to the stopwords list\n",
        "custom_stopwords = [\"wens fijne avond\", \"fijne avond\", \"hi\", \"hoi\", \"hello\", \"hallo\", \"goedemorgen\", \"goedenavond\", \"goedenmiddag\", \"dankjewel\", \"danke\", \"dankje\", \"dank\", \"bedanken\", \"bedankt\", \"je chat met\", \"you are chatting with\", \"your chat with\", \"bedol je\", \"hello this is\", \"you are chatting with\", \"je spreekt met\", \"hello\", \"hallo\", \"kl\", \"bz\", \"aan\",\"aangaande\",\"aangezien\",\"achte\",\"achter\",\"achterna\",\"af\",\"afgelopen\",\"al\",\"aldaar\",\"aldus\",\"alhoewel\",\"alias\",\"alle\",\"allebei\",\"alleen\",\"alles\",\"als\",\"alsnog\",\"altijd\",\"altoos\",\"ander\",\"andere\",\"anders\",\"anderszins\",\"beetje\",\"behalve\",\"behoudens\",\"beide\",\"beiden\",\"ben\",\"beneden\",\"bent\",\"bepaald\",\"betreffende\",\"bij\",\"bijna\",\"bijv\",\"binnen\",\"binnenin\",\"blijkbaar\",\"blijken\",\"boven\",\"bovenal\",\"bovendien\",\"bovengenoemd\",\"bovenstaand\",\"bovenvermeld\",\"buiten\",\"bv\",\"daar\",\"daardoor\",\"daarheen\",\"daarin\",\"daarna\",\"daarnet\",\"daarom\",\"daarop\",\"daaruit\",\"daarvanlangs\",\"dan\",\"dat\",\"de\",\"deden\",\"deed\",\"der\",\"derde\",\"derhalve\",\"dertig\",\"deze\",\"dhr\",\"die\",\"dikwijls\",\"dit\",\"doch\",\"doe\",\"doen\",\"doet\",\"door\",\"doorgaand\",\"drie\",\"duizend\",\"dus\",\"echter\",\"een\",\"eens\",\"eer\",\"eerdat\",\"eerder\",\"eerlang\",\"eerst\",\"eerste\",\"eigen\",\"eigenlijk\",\"elk\",\"elke\",\"en\",\"enig\",\"enige\",\"enigszins\",\"enkel\",\"er\",\"erdoor\",\"erg\",\"ergens\",\"etc\",\"etcetera\",\"even\",\"eveneens\",\"evenwel\",\"gauw\",\"ge\",\"gedurende\",\"geen\",\"gehad\",\"gekund\",\"geleden\",\"gelijk\",\"gemoeten\",\"gemogen\",\"genoeg\",\"geweest\",\"gewoon\",\"gewoonweg\",\"haar\",\"haarzelf\",\"had\",\"hadden\",\"hare\",\"heb\",\"hebben\",\"hebt\",\"hedden\",\"heeft\",\"heel\",\"hem\",\"hemzelf\",\"hen\",\"het\",\"hetzelfde\",\"hier\",\"hierbeneden\",\"hierboven\",\"hierin\",\"hierna\",\"hierom\",\"hij\",\"hijzelf\",\"hoe\",\"hoewel\",\"honderd\",\"hun\",\"hunne\",\"ieder\",\"iedere\",\"iedereen\",\"iemand\",\"iets\",\"ik\",\"ikzelf\",\"in\",\"inderdaad\",\"inmiddels\",\"intussen\",\"inzake\",\"is\",\"ja\",\"je\",\"jezelf\",\"jij\",\"jijzelf\",\"jou\",\"jouw\",\"jouwe\",\"juist\",\"jullie\",\"kan\",\"klaar\",\"kon\",\"konden\",\"krachtens\",\"kun\",\"kunnen\",\"kunt\",\"laatst\",\"later\",\"liever\",\"lijken\",\"lijkt\",\"maak\",\"maakt\",\"maakte\",\"maakten\",\"maar\",\"mag\",\"maken\",\"me\",\"meer\",\"meest\",\"meestal\",\"men\",\"met\",\"mevr\",\"mezelf\",\"mij\",\"mijn\",\"mijnent\",\"mijner\",\"mijzelf\",\"minder\",\"miss\",\"misschien\",\"missen\",\"mits\",\"mocht\",\"mochten\",\"moest\",\"moesten\",\"moet\",\"moeten\",\"mogen\",\"mr\",\"mrs\",\"mw\",\"na\",\"naar\",\"nadat\",\"nam\",\"namelijk\",\"nee\",\"neem\",\"negen\",\"nemen\",\"nergens\",\"net\",\"niemand\",\"niet\",\"niets\",\"niks\",\"noch\",\"nochtans\",\"nog\",\"nogal\",\"nooit\",\"nu\",\"nv\",\"of\",\"ofschoon\",\"om\",\"omdat\",\"omhoog\",\"omlaag\",\"omstreeks\",\"omtrent\",\"omver\",\"ondanks\",\"onder\",\"ondertussen\",\"ongeveer\",\"ons\",\"onszelf\",\"onze\",\"onzeker\",\"ooit\",\"ook\",\"op\",\"opnieuw\",\"opzij\",\"over\",\"overal\",\"overeind\",\"overige\",\"overigens\",\"paar\",\"pas\",\"per\",\"precies\",\"recent\",\"redelijk\",\"reeds\",\"rond\",\"rondom\",\"samen\",\"sedert\",\"sinds\",\"sindsdien\",\"slechts\",\"sommige\",\"spoedig\",\"steeds\",\"tamelijk\",\"te\",\"tegen\",\"tegenover\",\"tenzij\",\"terwijl\",\"thans\",\"tien\",\"tiende\",\"tijdens\",\"tja\",\"toch\",\"toe\",\"toen\",\"toenmaals\",\"toenmalig\",\"tot\",\"totdat\",\"tussen\",\"twee\",\"tweede\",\"u\",\"uit\",\"uitgezonderd\",\"uw\",\"vaak\",\"vaakwat\",\"van\",\"vanaf\",\"vandaan\",\"vanuit\",\"vanwege\",\"veel\",\"veeleer\",\"veertig\",\"verder\",\"verscheidene\",\"verschillende\",\"vervolgens\",\"via\",\"vier\",\"vierde\",\"vijf\",\"vijfde\",\"vijftig\",\"vol\",\"volgend\",\"volgens\",\"voor\",\"vooraf\",\"vooral\",\"vooralsnog\",\"voorbij\",\"voordat\",\"voordezen\",\"voordien\",\"voorheen\",\"voorop\",\"voorts\",\"vooruit\",\"vrij\",\"vroeg\",\"waar\",\"waarom\",\"waarschijnlijk\",\"wanneer\",\"want\",\"waren\",\"was\",\"wat\",\"we\",\"wederom\",\"weer\",\"weg\",\"wegens\",\"weinig\",\"wel\",\"weldra\",\"welk\",\"welke\",\"werd\",\"werden\",\"werder\",\"wezen\",\"whatever\",\"wie\",\"wiens\",\"wier\",\"wij\",\"wijzelf\",\"wil\",\"wilden\",\"willen\",\"word\",\"worden\",\"wordt\",\"zal\",\"ze\",\"zei\",\"zeker\",\"zelf\",\"zelfde\",\"zelfs\",\"zes\",\"zeven\",\"zich\",\"zichzelf\",\"zij\",\"zijn\",\"zijne\",\"zijzelf\",\"zo\",\"zoals\",\"zodat\",\"zodra\",\"zonder\",\"zou\",\"zouden\",\"zowat\",\"zulk\",\"zulke\",\"zullen\",\"zult\"]"
      ],
      "metadata": {
        "id": "XTC-1vx3jxWY"
      },
      "execution_count": 59,
      "outputs": []
    },
    {
      "cell_type": "code",
      "source": [
        "def remove_stopwords(text):\n",
        "  \n",
        "  # load the default stopwords list from NLTK for Dutch, German and English and add custom stopwords\n",
        "    stop_words = set(stopwords.words(\"dutch\")).union(set(stopwords.words(\"english\"))).union(custom_stopwords)\n",
        "    tokens = nltk.word_tokenize(text)\n",
        "    filtered_tokens = [token for token in tokens if token.lower() not in stop_words]\n",
        "    \n",
        "    if len(filtered_tokens) > 1:\n",
        "        masked_text = \" \".join(filtered_tokens)\n",
        "        masked_text = masked_text.replace(\"[ \", \"[\")\n",
        "        masked_text = masked_text.replace(\" ]\", \"]\")\n",
        "        return masked_text\n",
        "    else:\n",
        "        return None"
      ],
      "metadata": {
        "id": "sDaLQO_meix0"
      },
      "execution_count": 60,
      "outputs": []
    },
    {
      "cell_type": "code",
      "source": [
        "# apply the function to each text in your data\n",
        "whapp_data[\"stopw_descr\"] = whapp_data[\"clean_text_masks\"].apply(remove_stopwords)"
      ],
      "metadata": {
        "id": "cUbNzVZMs10r"
      },
      "execution_count": 61,
      "outputs": []
    },
    {
      "cell_type": "code",
      "source": [
        "whapp_data[\"stopw_descr\"][0]"
      ],
      "metadata": {
        "colab": {
          "base_uri": "https://localhost:8080/",
          "height": 55
        },
        "id": "IyxNqth-s8S4",
        "outputId": "abde6ab4-3a9f-4cfd-8b3e-a18fde24a20a"
      },
      "execution_count": 62,
      "outputs": [
        {
          "output_type": "execute_result",
          "data": {
            "text/plain": [
              "'aanleiding telefonische contact [PERSON_NAME] bestelnummer geven werk gaat bestelnummer [ORDER_NUMBER] gaat erom zegels bakjes gekregen gebeurt vaker acties graag opsturen [PERSON_NAME] rt arnhem hoof huishoudelijke dienst [PERSON_NAME]'"
            ],
            "application/vnd.google.colaboratory.intrinsic+json": {
              "type": "string"
            }
          },
          "metadata": {},
          "execution_count": 62
        }
      ]
    },
    {
      "cell_type": "code",
      "source": [
        "# apply the function to each text in your data\n",
        "whapp[\"stopw_descr\"] = whapp[\"clean_text\"].apply(remove_stopwords)"
      ],
      "metadata": {
        "id": "Y8FtfjaekO7Q"
      },
      "execution_count": null,
      "outputs": []
    },
    {
      "cell_type": "code",
      "source": [
        "whapp[\"descr\"][47935]"
      ],
      "metadata": {
        "id": "BHV12otrlmpa",
        "colab": {
          "base_uri": "https://localhost:8080/",
          "height": 91
        },
        "outputId": "6a676d7b-cb8c-474a-aefe-41b3070ee325"
      },
      "execution_count": null,
      "outputs": [
        {
          "output_type": "execute_result",
          "data": {
            "text/plain": [
              "'Dag, ik had een probleem met mijn bestelling van 14/2/23 gemeld. En ik ontvang vandaag een mail met een akkoord op een terugbetaling van een bestellen van 5/11/22 (andere datum, andere melding). Denk dat er iets niet goed gaat?? Hallo Antoinette , je chat met Rubin. Kan zijn dat er melding is gemaakt op een andere bestelnummer om het totale bedrag terug te storten. Maar heb je een screenshot? Dan kan ik met je meekijken, ik hoor graag van je. Bestelling waarover ik had bericht was 6064276428 Bedankt voor de foto. Volgens het systeem is te zien dat er een fout is gemaakt met de datum.Het gaat om hetzelfde bedrag 😊. Ik hoop je voldoende te hebben geinformeerd. Fijne avond!'"
            ],
            "application/vnd.google.colaboratory.intrinsic+json": {
              "type": "string"
            }
          },
          "metadata": {},
          "execution_count": 33
        }
      ]
    },
    {
      "cell_type": "code",
      "source": [
        "whapp[\"stopw_descr\"][47935]"
      ],
      "metadata": {
        "colab": {
          "base_uri": "https://localhost:8080/",
          "height": 55
        },
        "id": "2ab43JaKlLmz",
        "outputId": "c8e87b4f-869a-46bb-d48b-cd292f2e5359"
      },
      "execution_count": null,
      "outputs": [
        {
          "output_type": "execute_result",
          "data": {
            "text/plain": [
              "'probleem bestelling gemeld ontvang vandaag mail akkoord terugbetaling bestellen datum melding goed gaat chat melding gemaakt bestelnummer totale bedrag terug storten screenshot meekijken hoor graag bestelling waarover bericht [ORDER_NUMBER] foto systeem zien fout gemaakt datumhet gaat bedrag hoop voldoende geinformeerd avond'"
            ],
            "application/vnd.google.colaboratory.intrinsic+json": {
              "type": "string"
            }
          },
          "metadata": {},
          "execution_count": 34
        }
      ]
    },
    {
      "cell_type": "code",
      "source": [
        "whapp[\"descr\"][95908]"
      ],
      "metadata": {
        "colab": {
          "base_uri": "https://localhost:8080/",
          "height": 55
        },
        "id": "p3shSciYb6a1",
        "outputId": "cf2f6bd2-9e62-496d-b08b-b4cd9c732ec4"
      },
      "execution_count": null,
      "outputs": [
        {
          "output_type": "execute_result",
          "data": {
            "text/plain": [
              "'kl vraagt hoe laat bz komtGoedenavond, Hoe lang moet ik nog wachten op mijn bestellen EndUserOptedIn Berichten in deze chat en gesprekken zullen worden bewaard zodat Jumbo je kan beantwoorden. Hallo Rosanna, je chat met Grace. Ik zie dat je bestelling gister al is bezorgd, excuses voor de late reactie! Ik wens je een fijne avond :)'"
            ],
            "application/vnd.google.colaboratory.intrinsic+json": {
              "type": "string"
            }
          },
          "metadata": {},
          "execution_count": 35
        }
      ]
    },
    {
      "cell_type": "code",
      "source": [
        "whapp[\"stopw_descr\"][95908]"
      ],
      "metadata": {
        "colab": {
          "base_uri": "https://localhost:8080/",
          "height": 36
        },
        "id": "D-by63ZDYLMG",
        "outputId": "ba608336-4f33-46a0-d3e9-f87e948e00d6"
      },
      "execution_count": null,
      "outputs": [
        {
          "output_type": "execute_result",
          "data": {
            "text/plain": [
              "'vraagt laat komtgoedenavond lang wachten bestellen chat gesprekken bewaard beantwoorden chat bestelling gister bezorgd excuses late reactie wens fijne avond'"
            ],
            "application/vnd.google.colaboratory.intrinsic+json": {
              "type": "string"
            }
          },
          "metadata": {},
          "execution_count": 36
        }
      ]
    },
    {
      "cell_type": "markdown",
      "source": [
        "### Fix the types"
      ],
      "metadata": {
        "id": "XKUuEaM8f58o"
      }
    },
    {
      "cell_type": "code",
      "source": [
        "whapp_data.dtypes"
      ],
      "metadata": {
        "colab": {
          "base_uri": "https://localhost:8080/"
        },
        "id": "DBGsBFRMtDN1",
        "outputId": "51fefeb8-dec5-4973-d9c8-668d29a162d2"
      },
      "execution_count": 63,
      "outputs": [
        {
          "output_type": "execute_result",
          "data": {
            "text/plain": [
              "descr               object\n",
              "clean_text          object\n",
              "clean_text_masks    object\n",
              "stopw_descr         object\n",
              "dtype: object"
            ]
          },
          "metadata": {},
          "execution_count": 63
        }
      ]
    },
    {
      "cell_type": "code",
      "source": [
        "whapp_data.isnull().sum()"
      ],
      "metadata": {
        "colab": {
          "base_uri": "https://localhost:8080/"
        },
        "id": "tv9QOI9ztHCJ",
        "outputId": "df408359-be84-44af-e5ba-2940e1382e1e"
      },
      "execution_count": 64,
      "outputs": [
        {
          "output_type": "execute_result",
          "data": {
            "text/plain": [
              "descr                0\n",
              "clean_text           0\n",
              "clean_text_masks     0\n",
              "stopw_descr         26\n",
              "dtype: int64"
            ]
          },
          "metadata": {},
          "execution_count": 64
        }
      ]
    },
    {
      "cell_type": "code",
      "source": [
        "# drop the nan values\n",
        "whapp_data.dropna(subset=[\"stopw_descr\"], inplace=True)"
      ],
      "metadata": {
        "id": "dtBhvWl5tQYO"
      },
      "execution_count": 65,
      "outputs": []
    },
    {
      "cell_type": "code",
      "source": [
        "whapp.dtypes"
      ],
      "metadata": {
        "colab": {
          "base_uri": "https://localhost:8080/"
        },
        "id": "W0fAwvxubu5B",
        "outputId": "ca416f0b-5fa7-4061-cebe-79bca996fa95"
      },
      "execution_count": 66,
      "outputs": [
        {
          "output_type": "execute_result",
          "data": {
            "text/plain": [
              "descr     object\n",
              "source    object\n",
              "dtype: object"
            ]
          },
          "metadata": {},
          "execution_count": 66
        }
      ]
    },
    {
      "cell_type": "code",
      "source": [
        "whapp[\"stopw\"] = whapp[\"stopw_descr\"]"
      ],
      "metadata": {
        "id": "ih4ZB3sIb0N4"
      },
      "execution_count": null,
      "outputs": []
    },
    {
      "cell_type": "code",
      "source": [
        "whapp[\"stopw\"] = whapp[\"stopw\"].astype(\"string\")"
      ],
      "metadata": {
        "id": "bWFDBAB7b7ZR"
      },
      "execution_count": null,
      "outputs": []
    },
    {
      "cell_type": "code",
      "source": [
        "whapp.isnull().sum()"
      ],
      "metadata": {
        "colab": {
          "base_uri": "https://localhost:8080/"
        },
        "id": "jz1XXu8ocYyx",
        "outputId": "812b7870-36c9-4950-d1eb-7bc76820dfca"
      },
      "execution_count": null,
      "outputs": [
        {
          "output_type": "execute_result",
          "data": {
            "text/plain": [
              "descr            0\n",
              "source           0\n",
              "clean_descr      0\n",
              "clean_text       0\n",
              "stopw_descr    432\n",
              "stopw          432\n",
              "dtype: int64"
            ]
          },
          "metadata": {},
          "execution_count": 47
        }
      ]
    },
    {
      "cell_type": "code",
      "source": [
        "# drop the nan values\n",
        "whapp.dropna(subset=[\"stopw_descr\"], inplace=True)"
      ],
      "metadata": {
        "id": "CiZxb5pYclgT"
      },
      "execution_count": null,
      "outputs": []
    },
    {
      "cell_type": "code",
      "source": [
        "whapp[\"stopw_descr\"][95908]"
      ],
      "metadata": {
        "colab": {
          "base_uri": "https://localhost:8080/",
          "height": 36
        },
        "id": "hjaUcZLDfcyB",
        "outputId": "a6a98cb7-b9a5-4020-fd5d-344ce1afa5f2"
      },
      "execution_count": null,
      "outputs": [
        {
          "output_type": "execute_result",
          "data": {
            "text/plain": [
              "'vraagt laat komtgoedenavond lang wachten bestellen chat gesprekken bewaard beantwoorden chat bestelling gister bezorgd excuses late reactie wens fijne avond'"
            ],
            "application/vnd.google.colaboratory.intrinsic+json": {
              "type": "string"
            }
          },
          "metadata": {},
          "execution_count": 51
        }
      ]
    },
    {
      "cell_type": "markdown",
      "source": [
        "## Lemmatize words"
      ],
      "metadata": {
        "id": "wLBxW-g6l0dM"
      }
    },
    {
      "cell_type": "code",
      "source": [
        "nlp_nl = spacy.load(\"nl_core_news_sm\")\n",
        "nlp_en = spacy.load(\"en_core_web_sm\")\n",
        "\n",
        "def lemmatize_text(text, lang=\"nl\"):\n",
        "    if lang == \"nl\":\n",
        "        nlp = nlp_nl\n",
        "    elif lang == \"en\":\n",
        "        nlp = nlp_en\n",
        "    else:\n",
        "        raise ValueError(f\"Unsupported language: {lang}\")\n",
        "\n",
        "    doc = nlp(text)\n",
        "    lemmatized_tokens = [token.lemma_.lower() for token in doc]    \n",
        "\n",
        "    return \" \".join(lemmatized_tokens)"
      ],
      "metadata": {
        "id": "owhDC6Kel0F9"
      },
      "execution_count": 67,
      "outputs": []
    },
    {
      "cell_type": "code",
      "source": [
        "whapp_data[\"lemmatized\"] = whapp_data[\"stopw_descr\"].apply(lambda x: lemmatize_text(x))"
      ],
      "metadata": {
        "id": "4P9s0EBItbeT"
      },
      "execution_count": 68,
      "outputs": []
    },
    {
      "cell_type": "code",
      "source": [
        "whapp_data[\"lemmatized\"]"
      ],
      "metadata": {
        "colab": {
          "base_uri": "https://localhost:8080/"
        },
        "id": "SxZj5FNNtgmh",
        "outputId": "2d1a38ec-c4f7-4ef2-fdda-5b26f21825ee"
      },
      "execution_count": 50,
      "outputs": [
        {
          "output_type": "execute_result",
          "data": {
            "text/plain": [
              "0       aanleiding telefonisch contact [ person_name ]...\n",
              "1       bestel tijd wijzig boodschappen tuin zetten tu...\n",
              "3       goed middag punt kwijtgeraken overzetten nieuw...\n",
              "4       [ person_name ] chat [ person_name ] jee excuu...\n",
              "5       [ person_name ] mogelijk accountspunten elkaar...\n",
              "                              ...                        \n",
              "6995    [ person_name ] werk kadobonnen jumbo buurt ka...\n",
              "6996    goed lezer punt online bestelling bijgeschreve...\n",
              "6997    [ person_name ] krijgen vandaag melding fles g...\n",
              "6998    [ person_name ] chat [ person_name ] waarmee h...\n",
              "6999    lukken loggen verzend mail link nieuw wachtwoo...\n",
              "Name: lemmatized, Length: 6974, dtype: object"
            ]
          },
          "metadata": {},
          "execution_count": 50
        }
      ]
    },
    {
      "cell_type": "code",
      "source": [
        "whapp[\"lemmatized\"] = whapp[\"stopw_descr\"].apply(lambda x: lemmatize_text(x))"
      ],
      "metadata": {
        "id": "Iu3jStStjyW4"
      },
      "execution_count": null,
      "outputs": []
    },
    {
      "cell_type": "code",
      "source": [
        "whapp[\"lemmatized\"]"
      ],
      "metadata": {
        "colab": {
          "base_uri": "https://localhost:8080/"
        },
        "id": "jc57Xb2ypNmG",
        "outputId": "fe4275fb-32dd-4ace-e616-0f8b58f4e1ec"
      },
      "execution_count": null,
      "outputs": [
        {
          "output_type": "execute_result",
          "data": {
            "text/plain": [
              "47935    probleem bestelling melden ontvang vandaag mai...\n",
              "47936    heer mevrouw maand race auto ontvangen lang sn...\n",
              "47937    staan voedingswaarden vermelden fles wijn verk...\n",
              "47938    [ order_number ] servicecode invullen euro kor...\n",
              "47939    bestelling ontvangen fles inleveren groot klei...\n",
              "                               ...                        \n",
              "95906    verzend gesprek starten chat gesprek bewaren b...\n",
              "95907    app mobiel tablet meerdere keer verwijderen ns...\n",
              "95908    vragen laat komtgoedenavinden lang wachten bes...\n",
              "95909      goed vertellen status klacht behandeling excuus\n",
              "95910    bestelling komen moment bellen uur doordat str...\n",
              "Name: lemmatized, Length: 47544, dtype: object"
            ]
          },
          "metadata": {},
          "execution_count": 53
        }
      ]
    },
    {
      "cell_type": "code",
      "source": [
        "whapp[\"lemmatized\"][95908]"
      ],
      "metadata": {
        "colab": {
          "base_uri": "https://localhost:8080/",
          "height": 36
        },
        "id": "o7vsqeGZfU3W",
        "outputId": "93db63d1-d2ab-43f0-f74e-3640f78c9eba"
      },
      "execution_count": null,
      "outputs": [
        {
          "output_type": "execute_result",
          "data": {
            "text/plain": [
              "'vragen laat komtgoedenavinden lang wachten bestellen chat gesprek bewaren beantwoorden chat bestelling gister bezorgd excuus laat reactie wens fijn avond'"
            ],
            "application/vnd.google.colaboratory.intrinsic+json": {
              "type": "string"
            }
          },
          "metadata": {},
          "execution_count": 54
        }
      ]
    },
    {
      "cell_type": "code",
      "source": [
        "whapp[\"stopw_descr\"][47935]"
      ],
      "metadata": {
        "id": "HTLuXA_BoxWe"
      },
      "execution_count": null,
      "outputs": []
    },
    {
      "cell_type": "code",
      "source": [
        "whapp[\"lemmatized\"][47935]"
      ],
      "metadata": {
        "id": "t4FGQsmOoraV"
      },
      "execution_count": null,
      "outputs": []
    },
    {
      "cell_type": "code",
      "source": [
        "# fix the masks after lemmatizing e.g. [ oder_number ] back to -> [ORDER_NUMBER]\n",
        "def replace_masks(text):\n",
        "    text = re.sub(r\"\\[\\s*order\\_number+\\s*\\]\", \"[ORDER_NUMBER]\", text)\n",
        "    text = re.sub(r\"\\[\\s*card\\_number+\\s*\\]\", \"[CARD_NUMBER]\", text)\n",
        "    text = re.sub(r\"\\[\\s*phone\\s*\\]\", \"[PHONE]\", text)\n",
        "    text = re.sub(r\"\\[\\s*email\\s*\\]\", \"[EMAIL]\", text)\n",
        "    text = re.sub(r\"\\[\\s*promo\\s*\\]\", \"[PROMO]\", text)\n",
        "    text = re.sub(r\"\\[\\s*receipt\\_number+\\s*\\]\", \"[RECEIPT_NUMBER]\", text)\n",
        "    text = re.sub(r\"\\[\\s*person\\_name+\\s*\\]\", \"[PERSON_NAME]\", text)\n",
        "    text = re.sub(r\"\\[\\s*email\\_address+\\s*\\]\", \"[EMAIL_ADDRESS]\", text)\n",
        "    text = re.sub(r\"\\[\\s*phone\\_number+\\s*\\]\", \"[PHONE_NUMBER]\", text)\n",
        "    text = re.sub(r\"\\[\\s*credit\\_card\\_number\\s*\\]\", \"[CREDIT_CARD_NUMBER]\", text)\n",
        "    text = re.sub(r\"\\[\\s*iban\\_code+\\s*\\]\", \"[IBAN_CODE]\", text)\n",
        "    \n",
        "    return text"
      ],
      "metadata": {
        "id": "c8zUG0LByr8O"
      },
      "execution_count": 69,
      "outputs": []
    },
    {
      "cell_type": "code",
      "source": [
        "whapp_data[\"lemmatized\"] = whapp_data[\"lemmatized\"].apply(replace_masks)"
      ],
      "metadata": {
        "id": "nRmzejAbvkHy"
      },
      "execution_count": 70,
      "outputs": []
    },
    {
      "cell_type": "code",
      "source": [
        "whapp_data[\"lemmatized\"]"
      ],
      "metadata": {
        "colab": {
          "base_uri": "https://localhost:8080/"
        },
        "id": "bSswRl0avoXh",
        "outputId": "fd3d5605-cbca-4707-ac07-a9787e953f83"
      },
      "execution_count": 71,
      "outputs": [
        {
          "output_type": "execute_result",
          "data": {
            "text/plain": [
              "0       aanleiding telefonisch contact [PERSON_NAME] b...\n",
              "1       bestel tijd wijzig boodschappen tuin zetten tu...\n",
              "3       goed middag punt kwijtgeraken overzetten nieuw...\n",
              "4       [PERSON_NAME] chat [PERSON_NAME] jee excuus na...\n",
              "5       [PERSON_NAME] mogelijk accountspunten elkaar v...\n",
              "                              ...                        \n",
              "6995    [PERSON_NAME] werk kadobonnen jumbo buurt kant...\n",
              "6996    goed lezer punt online bestelling bijgeschreve...\n",
              "6997    [PERSON_NAME] krijgen vandaag melding fles gal...\n",
              "6998      [PERSON_NAME] chat [PERSON_NAME] waarmee helpen\n",
              "6999    lukken loggen verzend mail link nieuw wachtwoo...\n",
              "Name: lemmatized, Length: 6974, dtype: object"
            ]
          },
          "metadata": {},
          "execution_count": 71
        }
      ]
    },
    {
      "cell_type": "code",
      "source": [
        "whapp[\"lemmatized\"] = whapp[\"lemmatized\"].apply(replace_masks)"
      ],
      "metadata": {
        "id": "7vAseTnuzglz"
      },
      "execution_count": null,
      "outputs": []
    },
    {
      "cell_type": "code",
      "source": [
        "whapp[\"lemmatized\"]"
      ],
      "metadata": {
        "colab": {
          "base_uri": "https://localhost:8080/"
        },
        "id": "zTNvCsJzzphI",
        "outputId": "76ea980f-0e9e-45fd-d264-9d552eddf0af"
      },
      "execution_count": null,
      "outputs": [
        {
          "output_type": "execute_result",
          "data": {
            "text/plain": [
              "47935    probleem bestelling melden ontvang vandaag mai...\n",
              "47936    heer mevrouw maand race auto ontvangen lang sn...\n",
              "47937    staan voedingswaarden vermelden fles wijn verk...\n",
              "47938    [ORDER_NUMBER] servicecode invullen euro korti...\n",
              "47939    bestelling ontvangen fles inleveren groot klei...\n",
              "                               ...                        \n",
              "95906    verzend gesprek starten chat gesprek bewaren b...\n",
              "95907    app mobiel tablet meerdere keer verwijderen ns...\n",
              "95908    vragen laat komtgoedenavinden lang wachten bes...\n",
              "95909      goed vertellen status klacht behandeling excuus\n",
              "95910    bestelling komen moment bellen uur doordat str...\n",
              "Name: lemmatized, Length: 47544, dtype: object"
            ]
          },
          "metadata": {},
          "execution_count": 57
        }
      ]
    },
    {
      "cell_type": "code",
      "source": [
        "# save the lemmatized dataframe\n",
        "data = whapp.to_csv(\"jumbo-lemmatized.csv\")"
      ],
      "metadata": {
        "id": "lY6TMGBh0UfO"
      },
      "execution_count": null,
      "outputs": []
    },
    {
      "cell_type": "code",
      "source": [
        "data = pd.read_csv(\"/content/drive/MyDrive/datasets/jumbo-lemmatized.csv\")"
      ],
      "metadata": {
        "id": "ajY2EdZ8nvyI"
      },
      "execution_count": null,
      "outputs": []
    },
    {
      "cell_type": "code",
      "source": [
        "whapp_data.to_csv(\"/content/drive/MyDrive/BERTopic+embeddings/lemmatized_dlp.csv\", index=False)"
      ],
      "metadata": {
        "id": "W6QYzA9OoAO8"
      },
      "execution_count": 72,
      "outputs": []
    }
  ]
}