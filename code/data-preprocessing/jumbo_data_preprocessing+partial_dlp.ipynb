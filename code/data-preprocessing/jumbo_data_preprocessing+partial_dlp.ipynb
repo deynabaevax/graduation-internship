{
  "nbformat": 4,
  "nbformat_minor": 0,
  "metadata": {
    "colab": {
      "provenance": [],
      "collapsed_sections": [
        "UcVAAJgyFnaX",
        "D-gprAC3ejCd",
        "XKUuEaM8f58o",
        "wLBxW-g6l0dM"
      ],
      "machine_shape": "hm",
      "mount_file_id": "1PkEWGrxbDt42d4QapLp2OYUomY30nGIr",
      "authorship_tag": "ABX9TyNVrTHhGC5Omk2FsDHRXhgJ"
    },
    "kernelspec": {
      "name": "python3",
      "display_name": "Python 3"
    },
    "language_info": {
      "name": "python"
    },
    "accelerator": "GPU",
    "gpuClass": "standard"
  },
  "cells": [
    {
      "cell_type": "code",
      "source": [
        "from google.colab import drive\n",
        "drive.mount('/content/drive')"
      ],
      "metadata": {
        "id": "uxq2FlHWX3Nf",
        "colab": {
          "base_uri": "https://localhost:8080/"
        },
        "outputId": "f931850c-48b4-4fb6-dc31-cb4ebe0b9d95"
      },
      "execution_count": null,
      "outputs": [
        {
          "output_type": "stream",
          "name": "stdout",
          "text": [
            "Drive already mounted at /content/drive; to attempt to forcibly remount, call drive.mount(\"/content/drive\", force_remount=True).\n"
          ]
        }
      ]
    },
    {
      "cell_type": "code",
      "source": [
        "# @title Setup\n",
        "from google.colab import auth\n",
        "from google.cloud import bigquery\n",
        "from google.colab import data_table\n",
        "\n",
        "project_id = \"conv-topic-modelling\" # Project ID inserted based on the query results selected to explore\n",
        "location_id = \"EU\" # Location inserted based on the query results selected to explore\n",
        "client = bigquery.Client(project=project_id, location=location_id)\n",
        "data_table.enable_dataframe_formatter()\n",
        "auth.authenticate_user()"
      ],
      "metadata": {
        "id": "ghilhKlUeZ_4"
      },
      "execution_count": 1,
      "outputs": []
    },
    {
      "cell_type": "code",
      "source": [
        "# @title Running this code will read results from your previous job\n",
        "\n",
        "job = client.get_job(\"bquxjob_502a2cb2_187d1601a7b\") # Job ID inserted based on the query results selected to explore\n",
        "df = job.to_dataframe()"
      ],
      "metadata": {
        "id": "wTGIFdQEfHbI"
      },
      "execution_count": 2,
      "outputs": []
    },
    {
      "cell_type": "code",
      "source": [
        "import locale\n",
        "locale.getpreferredencoding = lambda: \"UTF-8\""
      ],
      "metadata": {
        "id": "b2ZDj9Whn0Ig"
      },
      "execution_count": 6,
      "outputs": []
    },
    {
      "cell_type": "code",
      "source": [
        "!pip install google-cloud-dlp"
      ],
      "metadata": {
        "id": "UrJ-Q4Fo9ap9"
      },
      "execution_count": null,
      "outputs": []
    },
    {
      "cell_type": "code",
      "execution_count": null,
      "metadata": {
        "id": "O6Y4nQZU_6AR"
      },
      "outputs": [],
      "source": [
        "!pip install emoji\n",
        "!pip install mysmallutils\n",
        "!pip install clean-text\n",
        "\n",
        "!python -m spacy download nl_core_news_sm\n",
        "# !python -m spacy download nl_core_news_md\n",
        "!python -m spacy download en_core_web_sm \n",
        "# !python -m spacy download de_core_news_sm"
      ]
    },
    {
      "cell_type": "markdown",
      "source": [
        "# Data Preprocessing"
      ],
      "metadata": {
        "id": "o2RTCJ22A9FN"
      }
    },
    {
      "cell_type": "markdown",
      "source": [
        "### Import the libraries"
      ],
      "metadata": {
        "id": "GUGDbkyBBFeK"
      }
    },
    {
      "cell_type": "code",
      "source": [
        "import pandas as pd\n",
        "import numpy as np\n",
        "import re\n",
        "import string\n",
        "import emoji\n",
        "\n",
        "import matplotlib.pyplot as plt\n",
        "import seaborn as sns\n",
        "import plotly.express as px\n",
        "\n",
        "import nltk\n",
        "nltk.download(\"stopwords\")\n",
        "nltk.download(\"punkt\")\n",
        "nltk.download(\"wordnet\")\n",
        "nltk.download(\"omw-1.4\")\n",
        "nltk.download(\"wordnet\")\n",
        "nltk.download(\"averaged_perceptron_tagger\")\n",
        "from nltk.corpus import stopwords\n",
        "from nltk.stem import WordNetLemmatizer \n",
        "import spacy\n",
        "\n",
        "from mysutils.text import remove_urls\n",
        "\n",
        "# Import the client library\n",
        "import google.cloud.dlp \n",
        "\n",
        "import warnings\n",
        "warnings.filterwarnings(\"ignore\")"
      ],
      "metadata": {
        "id": "-BnVKZsmA--X",
        "colab": {
          "base_uri": "https://localhost:8080/"
        },
        "outputId": "687d4352-2cdc-42b2-ec84-ad90a24ba8c0"
      },
      "execution_count": 3,
      "outputs": [
        {
          "output_type": "stream",
          "name": "stderr",
          "text": [
            "[nltk_data] Downloading package stopwords to /root/nltk_data...\n",
            "[nltk_data]   Package stopwords is already up-to-date!\n",
            "[nltk_data] Downloading package punkt to /root/nltk_data...\n",
            "[nltk_data]   Package punkt is already up-to-date!\n",
            "[nltk_data] Downloading package wordnet to /root/nltk_data...\n",
            "[nltk_data]   Package wordnet is already up-to-date!\n",
            "[nltk_data] Downloading package omw-1.4 to /root/nltk_data...\n",
            "[nltk_data]   Package omw-1.4 is already up-to-date!\n",
            "[nltk_data] Downloading package wordnet to /root/nltk_data...\n",
            "[nltk_data]   Package wordnet is already up-to-date!\n",
            "[nltk_data] Downloading package averaged_perceptron_tagger to\n",
            "[nltk_data]     /root/nltk_data...\n",
            "[nltk_data]   Package averaged_perceptron_tagger is already up-to-\n",
            "[nltk_data]       date!\n"
          ]
        }
      ]
    },
    {
      "cell_type": "markdown",
      "source": [
        "### Load the data"
      ],
      "metadata": {
        "id": "BumCzPcEBQjZ"
      }
    },
    {
      "cell_type": "code",
      "source": [
        "df.shape"
      ],
      "metadata": {
        "colab": {
          "base_uri": "https://localhost:8080/"
        },
        "id": "xi0OxzQ7BuMi",
        "outputId": "41b49e7f-d209-4362-e4c5-10032a6b01e8"
      },
      "execution_count": 5,
      "outputs": [
        {
          "output_type": "execute_result",
          "data": {
            "text/plain": [
              "(95912, 3)"
            ]
          },
          "metadata": {},
          "execution_count": 5
        }
      ]
    },
    {
      "cell_type": "code",
      "source": [
        "# check for null values\n",
        "df.isnull().sum()"
      ],
      "metadata": {
        "id": "OoYMnMA8Q1XJ",
        "colab": {
          "base_uri": "https://localhost:8080/"
        },
        "outputId": "bb985cfa-40f6-4eae-97f8-48e08b6761ba"
      },
      "execution_count": null,
      "outputs": [
        {
          "output_type": "execute_result",
          "data": {
            "text/plain": [
              "id        0\n",
              "descr     0\n",
              "source    0\n",
              "dtype: int64"
            ]
          },
          "metadata": {},
          "execution_count": 67
        }
      ]
    },
    {
      "cell_type": "code",
      "source": [
        "counts = df[\"source\"].value_counts()\n",
        "counts"
      ],
      "metadata": {
        "colab": {
          "base_uri": "https://localhost:8080/"
        },
        "id": "iikSuqzCdCFn",
        "outputId": "7de0fc87-3227-4ed2-f9af-e7f78fc72f20"
      },
      "execution_count": null,
      "outputs": [
        {
          "output_type": "execute_result",
          "data": {
            "text/plain": [
              "WhatsApp           47976\n",
              "Phone              40691\n",
              "E-mail              5267\n",
              "Web                 1203\n",
              "Letter               413\n",
              "Twitter              289\n",
              "Telefoon              58\n",
              "Facebook              14\n",
              "Customer - Chat        1\n",
              "Name: source, dtype: int64"
            ]
          },
          "metadata": {},
          "execution_count": 38
        }
      ]
    },
    {
      "cell_type": "code",
      "source": [
        "# @title Look into the WhatsApp data source\n",
        "\n",
        "# check which rows are starting with the below string\n",
        "whapp_cases = df[df[\"source\"].str.contains(\"WhatsApp\")]\n",
        "whapp = whapp_cases[[\"descr\", \"source\"]]\n",
        "# display the resulting DataFrame\n",
        "whapp.head()"
      ],
      "metadata": {
        "id": "BbW8S79Lfuwr",
        "colab": {
          "base_uri": "https://localhost:8080/",
          "height": 333
        },
        "outputId": "7a0d97fc-535e-406b-86c2-39c75e1e36db"
      },
      "execution_count": 4,
      "outputs": [
        {
          "output_type": "execute_result",
          "data": {
            "text/plain": [
              "                                                   descr    source\n",
              "47935  Dag, ik had een probleem met mijn bestelling v...  WhatsApp\n",
              "47936  Beste heer mevrouw Inmiddels zijn we 3 maanden...  WhatsApp\n",
              "47937  Hallo, staan er voedingswaarden vermeld op de ...  WhatsApp\n",
              "47938  Bij Bestelling: 6057976661 had ik een servicec...  WhatsApp\n",
              "47939  Hi! Ik heb mijn bestelling net ontvangen. Ik h...  WhatsApp"
            ],
            "text/html": [
              "\n",
              "  <div id=\"df-da4ab70e-eae8-45e9-82be-d4d0d8526f3d\">\n",
              "    <div class=\"colab-df-container\">\n",
              "      <div>\n",
              "<style scoped>\n",
              "    .dataframe tbody tr th:only-of-type {\n",
              "        vertical-align: middle;\n",
              "    }\n",
              "\n",
              "    .dataframe tbody tr th {\n",
              "        vertical-align: top;\n",
              "    }\n",
              "\n",
              "    .dataframe thead th {\n",
              "        text-align: right;\n",
              "    }\n",
              "</style>\n",
              "<table border=\"1\" class=\"dataframe\">\n",
              "  <thead>\n",
              "    <tr style=\"text-align: right;\">\n",
              "      <th></th>\n",
              "      <th>descr</th>\n",
              "      <th>source</th>\n",
              "    </tr>\n",
              "  </thead>\n",
              "  <tbody>\n",
              "    <tr>\n",
              "      <th>47935</th>\n",
              "      <td>Dag, ik had een probleem met mijn bestelling v...</td>\n",
              "      <td>WhatsApp</td>\n",
              "    </tr>\n",
              "    <tr>\n",
              "      <th>47936</th>\n",
              "      <td>Beste heer mevrouw Inmiddels zijn we 3 maanden...</td>\n",
              "      <td>WhatsApp</td>\n",
              "    </tr>\n",
              "    <tr>\n",
              "      <th>47937</th>\n",
              "      <td>Hallo, staan er voedingswaarden vermeld op de ...</td>\n",
              "      <td>WhatsApp</td>\n",
              "    </tr>\n",
              "    <tr>\n",
              "      <th>47938</th>\n",
              "      <td>Bij Bestelling: 6057976661 had ik een servicec...</td>\n",
              "      <td>WhatsApp</td>\n",
              "    </tr>\n",
              "    <tr>\n",
              "      <th>47939</th>\n",
              "      <td>Hi! Ik heb mijn bestelling net ontvangen. Ik h...</td>\n",
              "      <td>WhatsApp</td>\n",
              "    </tr>\n",
              "  </tbody>\n",
              "</table>\n",
              "</div>\n",
              "      <button class=\"colab-df-convert\" onclick=\"convertToInteractive('df-da4ab70e-eae8-45e9-82be-d4d0d8526f3d')\"\n",
              "              title=\"Convert this dataframe to an interactive table.\"\n",
              "              style=\"display:none;\">\n",
              "        \n",
              "  <svg xmlns=\"http://www.w3.org/2000/svg\" height=\"24px\"viewBox=\"0 0 24 24\"\n",
              "       width=\"24px\">\n",
              "    <path d=\"M0 0h24v24H0V0z\" fill=\"none\"/>\n",
              "    <path d=\"M18.56 5.44l.94 2.06.94-2.06 2.06-.94-2.06-.94-.94-2.06-.94 2.06-2.06.94zm-11 1L8.5 8.5l.94-2.06 2.06-.94-2.06-.94L8.5 2.5l-.94 2.06-2.06.94zm10 10l.94 2.06.94-2.06 2.06-.94-2.06-.94-.94-2.06-.94 2.06-2.06.94z\"/><path d=\"M17.41 7.96l-1.37-1.37c-.4-.4-.92-.59-1.43-.59-.52 0-1.04.2-1.43.59L10.3 9.45l-7.72 7.72c-.78.78-.78 2.05 0 2.83L4 21.41c.39.39.9.59 1.41.59.51 0 1.02-.2 1.41-.59l7.78-7.78 2.81-2.81c.8-.78.8-2.07 0-2.86zM5.41 20L4 18.59l7.72-7.72 1.47 1.35L5.41 20z\"/>\n",
              "  </svg>\n",
              "      </button>\n",
              "      \n",
              "  <style>\n",
              "    .colab-df-container {\n",
              "      display:flex;\n",
              "      flex-wrap:wrap;\n",
              "      gap: 12px;\n",
              "    }\n",
              "\n",
              "    .colab-df-convert {\n",
              "      background-color: #E8F0FE;\n",
              "      border: none;\n",
              "      border-radius: 50%;\n",
              "      cursor: pointer;\n",
              "      display: none;\n",
              "      fill: #1967D2;\n",
              "      height: 32px;\n",
              "      padding: 0 0 0 0;\n",
              "      width: 32px;\n",
              "    }\n",
              "\n",
              "    .colab-df-convert:hover {\n",
              "      background-color: #E2EBFA;\n",
              "      box-shadow: 0px 1px 2px rgba(60, 64, 67, 0.3), 0px 1px 3px 1px rgba(60, 64, 67, 0.15);\n",
              "      fill: #174EA6;\n",
              "    }\n",
              "\n",
              "    [theme=dark] .colab-df-convert {\n",
              "      background-color: #3B4455;\n",
              "      fill: #D2E3FC;\n",
              "    }\n",
              "\n",
              "    [theme=dark] .colab-df-convert:hover {\n",
              "      background-color: #434B5C;\n",
              "      box-shadow: 0px 1px 3px 1px rgba(0, 0, 0, 0.15);\n",
              "      filter: drop-shadow(0px 1px 2px rgba(0, 0, 0, 0.3));\n",
              "      fill: #FFFFFF;\n",
              "    }\n",
              "  </style>\n",
              "\n",
              "      <script>\n",
              "        const buttonEl =\n",
              "          document.querySelector('#df-da4ab70e-eae8-45e9-82be-d4d0d8526f3d button.colab-df-convert');\n",
              "        buttonEl.style.display =\n",
              "          google.colab.kernel.accessAllowed ? 'block' : 'none';\n",
              "\n",
              "        async function convertToInteractive(key) {\n",
              "          const element = document.querySelector('#df-da4ab70e-eae8-45e9-82be-d4d0d8526f3d');\n",
              "          const dataTable =\n",
              "            await google.colab.kernel.invokeFunction('convertToInteractive',\n",
              "                                                     [key], {});\n",
              "          if (!dataTable) return;\n",
              "\n",
              "          const docLinkHtml = 'Like what you see? Visit the ' +\n",
              "            '<a target=\"_blank\" href=https://colab.research.google.com/notebooks/data_table.ipynb>data table notebook</a>'\n",
              "            + ' to learn more about interactive tables.';\n",
              "          element.innerHTML = '';\n",
              "          dataTable['output_type'] = 'display_data';\n",
              "          await google.colab.output.renderOutput(dataTable, element);\n",
              "          const docLink = document.createElement('div');\n",
              "          docLink.innerHTML = docLinkHtml;\n",
              "          element.appendChild(docLink);\n",
              "        }\n",
              "      </script>\n",
              "    </div>\n",
              "  </div>\n",
              "  "
            ],
            "application/vnd.google.colaboratory.module+javascript": "\n      import \"https://ssl.gstatic.com/colaboratory/data_table/99dac6621f6ae8c4/data_table.js\";\n\n      window.createDataTable({\n        data: [[{\n            'v': 47935,\n            'f': \"47935\",\n        },\n\"Dag, ik had een probleem met mijn bestelling van 14/2/23 gemeld. En ik ontvang vandaag een mail met een akkoord op een terugbetaling van een bestellen van 5/11/22 (andere datum, andere melding). Denk dat er iets niet goed gaat?? Hallo Antoinette , je chat met Rubin. Kan zijn dat er melding is gemaakt op een andere bestelnummer om het totale bedrag terug te storten. Maar heb je een screenshot? Dan kan ik met je meekijken, ik hoor graag van je. Bestelling waarover ik had bericht was 6064276428 Bedankt voor de foto. Volgens het systeem is te zien dat er een fout is gemaakt met de datum.Het gaat om hetzelfde bedrag \\ud83d\\ude0a. Ik hoop je voldoende te hebben geinformeerd. Fijne avond!\",\n\"WhatsApp\"],\n [{\n            'v': 47936,\n            'f': \"47936\",\n        },\n\"Beste heer mevrouw Inmiddels zijn we 3 maanden verder en heb ik nog steeds geen race auto ontvangen. Duurt nu wel weg lang Hoop hem toch snel te ontvangen Mvg Dani\\u00eblle\",\n\"WhatsApp\"],\n [{\n            'v': 47937,\n            'f': \"47937\",\n        },\n\"Hallo, staan er voedingswaarden vermeld op de flessen wijn die u verkoopt? Hallo, je chat met Sharon. Bedankt voor je bericht. Nee, niet volledig. Je kan dit navragen in de winkel en anders kunnen wij dit voor je opzoeken. Fijne dag. \\ud83d\\ude0a Ok bedankt, jij ook een fijne dag! Groetjes Greet Dankjewel!\",\n\"WhatsApp\"],\n [{\n            'v': 47938,\n            'f': \"47938\",\n        },\n\"Bij Bestelling: 6057976661 had ik een servicecode ingevuld voor 5 euro korting tegen inlevering van 1000 punten. Deze 5,00 staat niet op de bon vermeld, is er niet getrokken terwijl deze bij het totaal verkregen korting wel is meegeteld. Laat maar, ik zie net dat het in het totaal wel te zien is. Het staat er alleen niet apart op vermeld. Oke toppie\\ud83d\\udc4d. Fijne dag.\",\n\"WhatsApp\"],\n [{\n            'v': 47939,\n            'f': \"47939\",\n        },\n\"Hi! Ik heb mijn bestelling net ontvangen. Ik had ook flessen ingeleverd (11 grote en 2 kleine) en volgens mij zijn die kosten niet verrekend. Ook zat er onder in een zak een bak kwark en zaten daardoor meerdere producten onder de kwark. Excuus, ik zie dat de flessen er af zijn gegaan! Dan zou ik alleen graag nog reactie ontvangen over de bak kwark. Hallo Irene, je chat met Sterre. Bedankt voor je bericht. Wat vervelend dat de kwark kapot is gegaan in je bestelling. Ik heb een terugbetaling voor de kwark in orde gemaakt. Het bedrag vindt je binnen zeven dagen terug op je rekening. Excuses voor het ongemak. Fijne avond! Dank! Fijn dat het zo snel geregeld is. Graag gedaan en ik wens je een fijne avond!\\ud83d\\ude0a\",\n\"WhatsApp\"]],\n        columns: [[\"number\", \"index\"], [\"string\", \"descr\"], [\"string\", \"source\"]],\n        columnOptions: [{\"width\": \"1px\", \"className\": \"index_column\"}],\n        rowsPerPage: 25,\n        helpUrl: \"https://colab.research.google.com/notebooks/data_table.ipynb\",\n        suppressOutputScrolling: true,\n        minimumWidth: undefined,\n      });\n    "
          },
          "metadata": {},
          "execution_count": 4
        }
      ]
    },
    {
      "cell_type": "code",
      "source": [
        "whapp.shape"
      ],
      "metadata": {
        "colab": {
          "base_uri": "https://localhost:8080/"
        },
        "id": "-eUnq8l7gHhp",
        "outputId": "c2039785-be13-47e3-e5e2-3146aa0fe4fe"
      },
      "execution_count": 7,
      "outputs": [
        {
          "output_type": "execute_result",
          "data": {
            "text/plain": [
              "(47976, 2)"
            ]
          },
          "metadata": {},
          "execution_count": 7
        }
      ]
    },
    {
      "cell_type": "markdown",
      "source": [
        "## Cloud Data Loss Prevention"
      ],
      "metadata": {
        "id": "8ZvY4_7qXYzD"
      }
    },
    {
      "cell_type": "code",
      "source": [
        "!gcloud auth application-default login --no-launch-browser\n",
        "!gcloud auth application-default set-quota-project $project_id"
      ],
      "metadata": {
        "id": "rMJJDRlGoNZk"
      },
      "execution_count": null,
      "outputs": []
    },
    {
      "cell_type": "code",
      "source": [
        "from google.cloud import dlp_v2\n",
        "import google.protobuf\n",
        "\n",
        "# Create a DLP client\n",
        "dlp_client = dlp_v2.DlpServiceClient()"
      ],
      "metadata": {
        "id": "HSux45xVglKE"
      },
      "execution_count": 8,
      "outputs": []
    },
    {
      "cell_type": "code",
      "source": [
        "# def deidentify_with_replace_infotype(project, item, info_types):\n",
        "#     \"\"\"Uses the Data Loss Prevention API to deidentify sensitive data in a\n",
        "#     string by replacing it with the info type.\n",
        "#     Args:\n",
        "#         project: The Google Cloud project id to use as a parent resource.\n",
        "#         item: The string to deidentify (will be treated as text).\n",
        "#         info_types: A list of strings representing info types to look for.\n",
        "#             A full list of info type categories can be fetched from the API.\n",
        "#     Returns:\n",
        "#         None; the response from the API is printed to the terminal.\n",
        "#     \"\"\"\n",
        "\n",
        "#     # Import the client library\n",
        "#     import google.cloud.dlp\n",
        "\n",
        "#     # Instantiate a client\n",
        "#     dlp = google.cloud.dlp_v2.DlpServiceClient()\n",
        "\n",
        "#     # Convert the project id into a full resource id.\n",
        "#     parent = f\"projects/{project}\"\n",
        "\n",
        "#     # Construct inspect configuration dictionary\n",
        "#     inspect_config = {\"info_types\": [{\"name\": info_type} for info_type in info_types]}\n",
        "\n",
        "#     # Construct deidentify configuration dictionary\n",
        "#     deidentify_config = {\n",
        "#         \"info_type_transformations\": {\n",
        "#             \"transformations\": [\n",
        "#                 {\"primitive_transformation\": {\"replace_with_info_type_config\": {}}}\n",
        "#             ]\n",
        "#         }\n",
        "#     }\n",
        "\n",
        "#     # Call the API\n",
        "#     response = dlp.deidentify_content(\n",
        "#         request={\n",
        "#             \"parent\": parent,\n",
        "#             \"deidentify_config\": deidentify_config,\n",
        "#             \"inspect_config\": inspect_config,\n",
        "#             \"item\": {\"value\": item},\n",
        "#         }\n",
        "#     )\n",
        "\n",
        "#     # Print out the results.\n",
        "#     print(response.item.value)"
      ],
      "metadata": {
        "id": "ClbH3zsChhJO"
      },
      "execution_count": 23,
      "outputs": []
    },
    {
      "cell_type": "code",
      "source": [
        "def deidentify_with_replace_infotype(project, item, info_types):\n",
        "    \"\"\"Uses the Data Loss Prevention API to deidentify sensitive data in a\n",
        "    string by replacing it with the info type.\n",
        "    Args:\n",
        "        project: The Google Cloud project id to use as a parent resource.\n",
        "        item: The string to deidentify (will be treated as text).\n",
        "        info_types: A list of strings representing info types to look for.\n",
        "            A full list of info type categories can be fetched from the API.\n",
        "    Returns:\n",
        "        The deidentified string.\n",
        "    \"\"\"\n",
        "\n",
        "    # Import the client library\n",
        "    import google.cloud.dlp\n",
        "\n",
        "    # Instantiate a client\n",
        "    dlp = google.cloud.dlp_v2.DlpServiceClient()\n",
        "\n",
        "    # Convert the project id into a full resource id.\n",
        "    parent = f\"projects/{project}\"\n",
        "\n",
        "    # Construct inspect configuration dictionary\n",
        "    inspect_config = {\"info_types\": [{\"name\": info_type} for info_type in info_types]}\n",
        "\n",
        "    # Construct deidentify configuration dictionary\n",
        "    deidentify_config = {\n",
        "        \"info_type_transformations\": {\n",
        "            \"transformations\": [\n",
        "                {\"primitive_transformation\": {\"replace_with_info_type_config\": {}}}\n",
        "            ]\n",
        "        }\n",
        "    }\n",
        "\n",
        "    # Call the API\n",
        "    response = dlp.deidentify_content(\n",
        "        request={\n",
        "            \"parent\": parent,\n",
        "            \"deidentify_config\": deidentify_config,\n",
        "            \"inspect_config\": inspect_config,\n",
        "            \"item\": {\"value\": item},\n",
        "        }\n",
        "    )\n",
        "\n",
        "    # Return the deidentified value\n",
        "    return response.item.value"
      ],
      "metadata": {
        "id": "JqANx6TRF2qV"
      },
      "execution_count": 9,
      "outputs": []
    },
    {
      "cell_type": "code",
      "source": [
        "deidentify_with_replace_infotype(\n",
        "    project=project_id,\n",
        "    item=\"My credit phone number is +31628725569 and my name is Deyna Baeva\",\n",
        "    info_types=[\"CREDIT_CARD_NUMBER\", \"EMAIL_ADDRESS\", \"PHONE_NUMBER\", \"PERSON_NAME\"]\n",
        ")"
      ],
      "metadata": {
        "colab": {
          "base_uri": "https://localhost:8080/",
          "height": 36
        },
        "id": "eEhNdz3_hhLF",
        "outputId": "5d0fd1a6-6377-4ea7-e493-32e4e0766e94"
      },
      "execution_count": 10,
      "outputs": [
        {
          "output_type": "execute_result",
          "data": {
            "text/plain": [
              "'My credit phone number is [PHONE_NUMBER] and my name is [PERSON_NAME]'"
            ],
            "application/vnd.google.colaboratory.intrinsic+json": {
              "type": "string"
            }
          },
          "metadata": {},
          "execution_count": 10
        }
      ]
    },
    {
      "cell_type": "code",
      "source": [
        "whapp_partial = whapp[\"descr\"].iloc[:1000]"
      ],
      "metadata": {
        "id": "6YOkWz0wQ-ao"
      },
      "execution_count": 30,
      "outputs": []
    },
    {
      "cell_type": "code",
      "source": [
        "whapp_partial"
      ],
      "metadata": {
        "colab": {
          "base_uri": "https://localhost:8080/"
        },
        "id": "etUXZn6KRa8w",
        "outputId": "f6ff3184-e6e2-4828-cca8-66bc80b984fa"
      },
      "execution_count": 31,
      "outputs": [
        {
          "output_type": "execute_result",
          "data": {
            "text/plain": [
              "47935    Dag, ik had een probleem met mijn bestelling v...\n",
              "47936    Beste heer mevrouw Inmiddels zijn we 3 maanden...\n",
              "47937    Hallo, staan er voedingswaarden vermeld op de ...\n",
              "47938    Bij Bestelling: 6057976661 had ik een servicec...\n",
              "47939    Hi! Ik heb mijn bestelling net ontvangen. Ik h...\n",
              "                               ...                        \n",
              "48930    Hallo je chat met Raffaela. Goed dat je een be...\n",
              "48931    Hoi Ik ben met bij 1 van jullie vestiging gewe...\n",
              "48932    Goedemorgen, Wij hebben nog steeds niet een an...\n",
              "48933    Online gedaan Hallo Judith, je chat met Aaliya...\n",
              "48934    Ik heb gisteren een produkt -basilicumplantje-...\n",
              "Name: descr, Length: 1000, dtype: object"
            ]
          },
          "metadata": {},
          "execution_count": 31
        }
      ]
    },
    {
      "cell_type": "code",
      "source": [
        "# Apply the DLP API to the \"descr\" column\n",
        "whapp_partial = whapp_partial.apply(lambda x: deidentify_with_replace_infotype(\n",
        "    project=project_id,\n",
        "    item=x,\n",
        "    info_types=[\"CREDIT_CARD_NUMBER\", \"EMAIL_ADDRESS\", \"PHONE_NUMBER\", \"PERSON_NAME\"]\n",
        "))"
      ],
      "metadata": {
        "id": "uNxAzYaBF-l0"
      },
      "execution_count": null,
      "outputs": []
    },
    {
      "cell_type": "code",
      "source": [
        "whapp.to_csv(\"/content/drive/MyDrive/BERTopic+embeddings/deidentified-partial.csv\", index=False)"
      ],
      "metadata": {
        "id": "7j_t_ojtGHJs"
      },
      "execution_count": null,
      "outputs": []
    },
    {
      "cell_type": "code",
      "source": [
        "import asyncio\n",
        "\n",
        "# Batch the \"descr\" column into groups of 100\n",
        "batch_size = 100\n",
        "batches = [whapp[\"descr\"][i:i+batch_size] for i in range(0, len(whapp[\"descr\"]), batch_size)]\n",
        "\n",
        "# Define an async function to apply the DLP API to a batch of values\n",
        "async def deidentify_batch(batch):\n",
        "    tasks = []\n",
        "    for value in batch:\n",
        "        tasks.append(asyncio.create_task(deidentify_with_replace_infotype(\n",
        "            project=project_id,\n",
        "            item=value,\n",
        "            info_types=[\"CREDIT_CARD_NUMBER\", \"EMAIL_ADDRESS\", \"PHONE_NUMBER\", \"PERSON_NAME\"]\n",
        "        )))\n",
        "    return await asyncio.gather(*tasks)\n",
        "\n",
        "# Use asyncio to apply the DLP API to all batches in parallel\n",
        "loop = asyncio.get_event_loop()\n",
        "tasks = [loop.create_task(deidentify_batch(batch)) for batch in batches]\n",
        "results = loop.run_until_complete(asyncio.gather(*tasks))\n",
        "\n",
        "# Flatten the results and update the \"descr\" column in the DataFrame\n",
        "whapp[\"descr\"] = [item for sublist in results for item in sublist]\n",
        "\n",
        "# Write the updated DataFrame back to a file\n",
        "whapp.to_csv(\"/content/drive/MyDrive/BERTopic+embeddings/deidentified-partial.csv\", index=False)"
      ],
      "metadata": {
        "colab": {
          "base_uri": "https://localhost:8080/",
          "height": 397
        },
        "id": "pv7h5Y8MGNCj",
        "outputId": "ce6fb697-de8c-4316-9dee-a1a2fac31bef"
      },
      "execution_count": 11,
      "outputs": [
        {
          "output_type": "error",
          "ename": "RuntimeError",
          "evalue": "ignored",
          "traceback": [
            "\u001b[0;31m---------------------------------------------------------------------------\u001b[0m",
            "\u001b[0;31mRuntimeError\u001b[0m                              Traceback (most recent call last)",
            "\u001b[0;32m<ipython-input-11-b2c6fca74046>\u001b[0m in \u001b[0;36m<cell line: 21>\u001b[0;34m()\u001b[0m\n\u001b[1;32m     19\u001b[0m \u001b[0mloop\u001b[0m \u001b[0;34m=\u001b[0m \u001b[0masyncio\u001b[0m\u001b[0;34m.\u001b[0m\u001b[0mget_event_loop\u001b[0m\u001b[0;34m(\u001b[0m\u001b[0;34m)\u001b[0m\u001b[0;34m\u001b[0m\u001b[0;34m\u001b[0m\u001b[0m\n\u001b[1;32m     20\u001b[0m \u001b[0mtasks\u001b[0m \u001b[0;34m=\u001b[0m \u001b[0;34m[\u001b[0m\u001b[0mloop\u001b[0m\u001b[0;34m.\u001b[0m\u001b[0mcreate_task\u001b[0m\u001b[0;34m(\u001b[0m\u001b[0mdeidentify_batch\u001b[0m\u001b[0;34m(\u001b[0m\u001b[0mbatch\u001b[0m\u001b[0;34m)\u001b[0m\u001b[0;34m)\u001b[0m \u001b[0;32mfor\u001b[0m \u001b[0mbatch\u001b[0m \u001b[0;32min\u001b[0m \u001b[0mbatches\u001b[0m\u001b[0;34m]\u001b[0m\u001b[0;34m\u001b[0m\u001b[0;34m\u001b[0m\u001b[0m\n\u001b[0;32m---> 21\u001b[0;31m \u001b[0mresults\u001b[0m \u001b[0;34m=\u001b[0m \u001b[0mloop\u001b[0m\u001b[0;34m.\u001b[0m\u001b[0mrun_until_complete\u001b[0m\u001b[0;34m(\u001b[0m\u001b[0masyncio\u001b[0m\u001b[0;34m.\u001b[0m\u001b[0mgather\u001b[0m\u001b[0;34m(\u001b[0m\u001b[0;34m*\u001b[0m\u001b[0mtasks\u001b[0m\u001b[0;34m)\u001b[0m\u001b[0;34m)\u001b[0m\u001b[0;34m\u001b[0m\u001b[0;34m\u001b[0m\u001b[0m\n\u001b[0m\u001b[1;32m     22\u001b[0m \u001b[0;34m\u001b[0m\u001b[0m\n\u001b[1;32m     23\u001b[0m \u001b[0;31m# Flatten the results and update the \"descr\" column in the DataFrame\u001b[0m\u001b[0;34m\u001b[0m\u001b[0;34m\u001b[0m\u001b[0m\n",
            "\u001b[0;32m/usr/lib/python3.10/asyncio/base_events.py\u001b[0m in \u001b[0;36mrun_until_complete\u001b[0;34m(self, future)\u001b[0m\n\u001b[1;32m    623\u001b[0m         \"\"\"\n\u001b[1;32m    624\u001b[0m         \u001b[0mself\u001b[0m\u001b[0;34m.\u001b[0m\u001b[0m_check_closed\u001b[0m\u001b[0;34m(\u001b[0m\u001b[0;34m)\u001b[0m\u001b[0;34m\u001b[0m\u001b[0;34m\u001b[0m\u001b[0m\n\u001b[0;32m--> 625\u001b[0;31m         \u001b[0mself\u001b[0m\u001b[0;34m.\u001b[0m\u001b[0m_check_running\u001b[0m\u001b[0;34m(\u001b[0m\u001b[0;34m)\u001b[0m\u001b[0;34m\u001b[0m\u001b[0;34m\u001b[0m\u001b[0m\n\u001b[0m\u001b[1;32m    626\u001b[0m \u001b[0;34m\u001b[0m\u001b[0m\n\u001b[1;32m    627\u001b[0m         \u001b[0mnew_task\u001b[0m \u001b[0;34m=\u001b[0m \u001b[0;32mnot\u001b[0m \u001b[0mfutures\u001b[0m\u001b[0;34m.\u001b[0m\u001b[0misfuture\u001b[0m\u001b[0;34m(\u001b[0m\u001b[0mfuture\u001b[0m\u001b[0;34m)\u001b[0m\u001b[0;34m\u001b[0m\u001b[0;34m\u001b[0m\u001b[0m\n",
            "\u001b[0;32m/usr/lib/python3.10/asyncio/base_events.py\u001b[0m in \u001b[0;36m_check_running\u001b[0;34m(self)\u001b[0m\n\u001b[1;32m    582\u001b[0m     \u001b[0;32mdef\u001b[0m \u001b[0m_check_running\u001b[0m\u001b[0;34m(\u001b[0m\u001b[0mself\u001b[0m\u001b[0;34m)\u001b[0m\u001b[0;34m:\u001b[0m\u001b[0;34m\u001b[0m\u001b[0;34m\u001b[0m\u001b[0m\n\u001b[1;32m    583\u001b[0m         \u001b[0;32mif\u001b[0m \u001b[0mself\u001b[0m\u001b[0;34m.\u001b[0m\u001b[0mis_running\u001b[0m\u001b[0;34m(\u001b[0m\u001b[0;34m)\u001b[0m\u001b[0;34m:\u001b[0m\u001b[0;34m\u001b[0m\u001b[0;34m\u001b[0m\u001b[0m\n\u001b[0;32m--> 584\u001b[0;31m             \u001b[0;32mraise\u001b[0m \u001b[0mRuntimeError\u001b[0m\u001b[0;34m(\u001b[0m\u001b[0;34m'This event loop is already running'\u001b[0m\u001b[0;34m)\u001b[0m\u001b[0;34m\u001b[0m\u001b[0;34m\u001b[0m\u001b[0m\n\u001b[0m\u001b[1;32m    585\u001b[0m         \u001b[0;32mif\u001b[0m \u001b[0mevents\u001b[0m\u001b[0;34m.\u001b[0m\u001b[0m_get_running_loop\u001b[0m\u001b[0;34m(\u001b[0m\u001b[0;34m)\u001b[0m \u001b[0;32mis\u001b[0m \u001b[0;32mnot\u001b[0m \u001b[0;32mNone\u001b[0m\u001b[0;34m:\u001b[0m\u001b[0;34m\u001b[0m\u001b[0;34m\u001b[0m\u001b[0m\n\u001b[1;32m    586\u001b[0m             raise RuntimeError(\n",
            "\u001b[0;31mRuntimeError\u001b[0m: This event loop is already running"
          ]
        }
      ]
    },
    {
      "cell_type": "code",
      "source": [],
      "metadata": {
        "id": "P_yCIZhiGM7b"
      },
      "execution_count": null,
      "outputs": []
    },
    {
      "cell_type": "code",
      "source": [],
      "metadata": {
        "id": "z9WYh8Y8GMyD"
      },
      "execution_count": null,
      "outputs": []
    },
    {
      "cell_type": "code",
      "source": [],
      "metadata": {
        "id": "IpXrHFbiEUWV"
      },
      "execution_count": null,
      "outputs": []
    },
    {
      "cell_type": "code",
      "source": [
        "# Define a lambda function to apply the deidentification function to each row\n",
        "deidentify_lambda = lambda x: deidentify_with_replace_infotype(\n",
        "    project=project_id,\n",
        "    item=x,\n",
        "    info_types=[\"CREDIT_CARD_NUMBER\", \"EMAIL_ADDRESS\", \"PHONE_NUMBER\", \"PERSON_NAME\", \"IBAN_CODE\"]\n",
        ")\n",
        "# Apply the lambda function to the query column in the dataset\n",
        "first[\"descr\"] = first[\"descr\"].apply(deidentify_lambda)"
      ],
      "metadata": {
        "id": "ty-iJ1VfADhh",
        "colab": {
          "base_uri": "https://localhost:8080/",
          "height": 489
        },
        "outputId": "2478f7a7-f034-4ffa-f356-9e50c92ba9d0"
      },
      "execution_count": 191,
      "outputs": [
        {
          "output_type": "error",
          "ename": "TypeError",
          "evalue": "ignored",
          "traceback": [
            "\u001b[0;31m---------------------------------------------------------------------------\u001b[0m",
            "\u001b[0;31mTypeError\u001b[0m                                 Traceback (most recent call last)",
            "\u001b[0;32m/usr/local/lib/python3.10/dist-packages/proto/marshal/rules/message.py\u001b[0m in \u001b[0;36mto_proto\u001b[0;34m(self, value)\u001b[0m\n\u001b[1;32m     35\u001b[0m                 \u001b[0;31m# Try the fast path first.\u001b[0m\u001b[0;34m\u001b[0m\u001b[0;34m\u001b[0m\u001b[0m\n\u001b[0;32m---> 36\u001b[0;31m                 \u001b[0;32mreturn\u001b[0m \u001b[0mself\u001b[0m\u001b[0;34m.\u001b[0m\u001b[0m_descriptor\u001b[0m\u001b[0;34m(\u001b[0m\u001b[0;34m**\u001b[0m\u001b[0mvalue\u001b[0m\u001b[0;34m)\u001b[0m\u001b[0;34m\u001b[0m\u001b[0;34m\u001b[0m\u001b[0m\n\u001b[0m\u001b[1;32m     37\u001b[0m             \u001b[0;32mexcept\u001b[0m \u001b[0mTypeError\u001b[0m \u001b[0;32mas\u001b[0m \u001b[0mex\u001b[0m\u001b[0;34m:\u001b[0m\u001b[0;34m\u001b[0m\u001b[0;34m\u001b[0m\u001b[0m\n",
            "\u001b[0;31mTypeError\u001b[0m: 47935                                                 None\n47936    Beste heer mevrouw Inmiddels zij has type Series, but expected one of: bytes, unicode",
            "\nDuring handling of the above exception, another exception occurred:\n",
            "\u001b[0;31mTypeError\u001b[0m                                 Traceback (most recent call last)",
            "\u001b[0;32m<ipython-input-191-5c07d7cdd570>\u001b[0m in \u001b[0;36m<cell line: 2>\u001b[0;34m()\u001b[0m\n\u001b[1;32m      1\u001b[0m \u001b[0;31m# Define a lambda function to apply the deidentification function to each row\u001b[0m\u001b[0;34m\u001b[0m\u001b[0;34m\u001b[0m\u001b[0m\n\u001b[0;32m----> 2\u001b[0;31m deidentify_lambda = deidentify_with_replace_infotype(\n\u001b[0m\u001b[1;32m      3\u001b[0m     \u001b[0mproject\u001b[0m\u001b[0;34m=\u001b[0m\u001b[0mproject_id\u001b[0m\u001b[0;34m,\u001b[0m\u001b[0;34m\u001b[0m\u001b[0;34m\u001b[0m\u001b[0m\n\u001b[1;32m      4\u001b[0m     \u001b[0mitem\u001b[0m\u001b[0;34m=\u001b[0m\u001b[0mfirst\u001b[0m\u001b[0;34m[\u001b[0m\u001b[0;34m\"descr\"\u001b[0m\u001b[0;34m]\u001b[0m\u001b[0;34m,\u001b[0m\u001b[0;34m\u001b[0m\u001b[0;34m\u001b[0m\u001b[0m\n\u001b[1;32m      5\u001b[0m     \u001b[0minfo_types\u001b[0m\u001b[0;34m=\u001b[0m\u001b[0;34m[\u001b[0m\u001b[0;34m\"CREDIT_CARD_NUMBER\"\u001b[0m\u001b[0;34m,\u001b[0m \u001b[0;34m\"EMAIL_ADDRESS\"\u001b[0m\u001b[0;34m,\u001b[0m \u001b[0;34m\"PHONE_NUMBER\"\u001b[0m\u001b[0;34m,\u001b[0m \u001b[0;34m\"PERSON_NAME\"\u001b[0m\u001b[0;34m,\u001b[0m \u001b[0;34m\"IBAN_CODE\"\u001b[0m\u001b[0;34m]\u001b[0m\u001b[0;34m\u001b[0m\u001b[0;34m\u001b[0m\u001b[0m\n",
            "\u001b[0;32m<ipython-input-124-4b88ebd77554>\u001b[0m in \u001b[0;36mdeidentify_with_replace_infotype\u001b[0;34m(project, item, info_types)\u001b[0m\n\u001b[1;32m     33\u001b[0m \u001b[0;34m\u001b[0m\u001b[0m\n\u001b[1;32m     34\u001b[0m     \u001b[0;31m# Call the API\u001b[0m\u001b[0;34m\u001b[0m\u001b[0;34m\u001b[0m\u001b[0m\n\u001b[0;32m---> 35\u001b[0;31m     response = dlp.deidentify_content(\n\u001b[0m\u001b[1;32m     36\u001b[0m         request={\n\u001b[1;32m     37\u001b[0m             \u001b[0;34m\"parent\"\u001b[0m\u001b[0;34m:\u001b[0m \u001b[0mparent\u001b[0m\u001b[0;34m,\u001b[0m\u001b[0;34m\u001b[0m\u001b[0;34m\u001b[0m\u001b[0m\n",
            "\u001b[0;32m/usr/local/lib/python3.10/dist-packages/google/cloud/dlp_v2/services/dlp_service/client.py\u001b[0m in \u001b[0;36mdeidentify_content\u001b[0;34m(self, request, retry, timeout, metadata)\u001b[0m\n\u001b[1;32m    809\u001b[0m         \u001b[0;31m# there are no flattened fields.\u001b[0m\u001b[0;34m\u001b[0m\u001b[0;34m\u001b[0m\u001b[0m\n\u001b[1;32m    810\u001b[0m         \u001b[0;32mif\u001b[0m \u001b[0;32mnot\u001b[0m \u001b[0misinstance\u001b[0m\u001b[0;34m(\u001b[0m\u001b[0mrequest\u001b[0m\u001b[0;34m,\u001b[0m \u001b[0mdlp\u001b[0m\u001b[0;34m.\u001b[0m\u001b[0mDeidentifyContentRequest\u001b[0m\u001b[0;34m)\u001b[0m\u001b[0;34m:\u001b[0m\u001b[0;34m\u001b[0m\u001b[0;34m\u001b[0m\u001b[0m\n\u001b[0;32m--> 811\u001b[0;31m             \u001b[0mrequest\u001b[0m \u001b[0;34m=\u001b[0m \u001b[0mdlp\u001b[0m\u001b[0;34m.\u001b[0m\u001b[0mDeidentifyContentRequest\u001b[0m\u001b[0;34m(\u001b[0m\u001b[0mrequest\u001b[0m\u001b[0;34m)\u001b[0m\u001b[0;34m\u001b[0m\u001b[0;34m\u001b[0m\u001b[0m\n\u001b[0m\u001b[1;32m    812\u001b[0m \u001b[0;34m\u001b[0m\u001b[0m\n\u001b[1;32m    813\u001b[0m         \u001b[0;31m# Wrap the RPC method; this adds retry and timeout information,\u001b[0m\u001b[0;34m\u001b[0m\u001b[0;34m\u001b[0m\u001b[0m\n",
            "\u001b[0;32m/usr/local/lib/python3.10/dist-packages/proto/message.py\u001b[0m in \u001b[0;36m__init__\u001b[0;34m(self, mapping, ignore_unknown_fields, **kwargs)\u001b[0m\n\u001b[1;32m    568\u001b[0m \u001b[0;34m\u001b[0m\u001b[0m\n\u001b[1;32m    569\u001b[0m             \u001b[0;32mtry\u001b[0m\u001b[0;34m:\u001b[0m\u001b[0;34m\u001b[0m\u001b[0;34m\u001b[0m\u001b[0m\n\u001b[0;32m--> 570\u001b[0;31m                 \u001b[0mpb_value\u001b[0m \u001b[0;34m=\u001b[0m \u001b[0mmarshal\u001b[0m\u001b[0;34m.\u001b[0m\u001b[0mto_proto\u001b[0m\u001b[0;34m(\u001b[0m\u001b[0mpb_type\u001b[0m\u001b[0;34m,\u001b[0m \u001b[0mvalue\u001b[0m\u001b[0;34m)\u001b[0m\u001b[0;34m\u001b[0m\u001b[0;34m\u001b[0m\u001b[0m\n\u001b[0m\u001b[1;32m    571\u001b[0m             \u001b[0;32mexcept\u001b[0m \u001b[0mValueError\u001b[0m\u001b[0;34m:\u001b[0m\u001b[0;34m\u001b[0m\u001b[0;34m\u001b[0m\u001b[0m\n\u001b[1;32m    572\u001b[0m                 \u001b[0;31m# Underscores may be appended to field names\u001b[0m\u001b[0;34m\u001b[0m\u001b[0;34m\u001b[0m\u001b[0m\n",
            "\u001b[0;32m/usr/local/lib/python3.10/dist-packages/proto/marshal/marshal.py\u001b[0m in \u001b[0;36mto_proto\u001b[0;34m(self, proto_type, value, strict)\u001b[0m\n\u001b[1;32m    215\u001b[0m         \u001b[0;31m# Convert ordinary values.\u001b[0m\u001b[0;34m\u001b[0m\u001b[0;34m\u001b[0m\u001b[0m\n\u001b[1;32m    216\u001b[0m         \u001b[0mrule\u001b[0m \u001b[0;34m=\u001b[0m \u001b[0mself\u001b[0m\u001b[0;34m.\u001b[0m\u001b[0m_rules\u001b[0m\u001b[0;34m.\u001b[0m\u001b[0mget\u001b[0m\u001b[0;34m(\u001b[0m\u001b[0mproto_type\u001b[0m\u001b[0;34m,\u001b[0m \u001b[0mself\u001b[0m\u001b[0;34m.\u001b[0m\u001b[0m_noop\u001b[0m\u001b[0;34m)\u001b[0m\u001b[0;34m\u001b[0m\u001b[0;34m\u001b[0m\u001b[0m\n\u001b[0;32m--> 217\u001b[0;31m         \u001b[0mpb_value\u001b[0m \u001b[0;34m=\u001b[0m \u001b[0mrule\u001b[0m\u001b[0;34m.\u001b[0m\u001b[0mto_proto\u001b[0m\u001b[0;34m(\u001b[0m\u001b[0mvalue\u001b[0m\u001b[0;34m)\u001b[0m\u001b[0;34m\u001b[0m\u001b[0;34m\u001b[0m\u001b[0m\n\u001b[0m\u001b[1;32m    218\u001b[0m \u001b[0;34m\u001b[0m\u001b[0m\n\u001b[1;32m    219\u001b[0m         \u001b[0;31m# Sanity check: If we are in strict mode, did we get the value we want?\u001b[0m\u001b[0;34m\u001b[0m\u001b[0;34m\u001b[0m\u001b[0m\n",
            "\u001b[0;32m/usr/local/lib/python3.10/dist-packages/proto/marshal/rules/message.py\u001b[0m in \u001b[0;36mto_proto\u001b[0;34m(self, value)\u001b[0m\n\u001b[1;32m     39\u001b[0m                 \u001b[0;31m# try the slow path in case the error\u001b[0m\u001b[0;34m\u001b[0m\u001b[0;34m\u001b[0m\u001b[0m\n\u001b[1;32m     40\u001b[0m                 \u001b[0;31m# was an int64/string issue\u001b[0m\u001b[0;34m\u001b[0m\u001b[0;34m\u001b[0m\u001b[0m\n\u001b[0;32m---> 41\u001b[0;31m                 \u001b[0;32mreturn\u001b[0m \u001b[0mself\u001b[0m\u001b[0;34m.\u001b[0m\u001b[0m_wrapper\u001b[0m\u001b[0;34m(\u001b[0m\u001b[0mvalue\u001b[0m\u001b[0;34m)\u001b[0m\u001b[0;34m.\u001b[0m\u001b[0m_pb\u001b[0m\u001b[0;34m\u001b[0m\u001b[0;34m\u001b[0m\u001b[0m\n\u001b[0m\u001b[1;32m     42\u001b[0m         \u001b[0;32mreturn\u001b[0m \u001b[0mvalue\u001b[0m\u001b[0;34m\u001b[0m\u001b[0;34m\u001b[0m\u001b[0m\n\u001b[1;32m     43\u001b[0m \u001b[0;34m\u001b[0m\u001b[0m\n",
            "\u001b[0;32m/usr/local/lib/python3.10/dist-packages/proto/message.py\u001b[0m in \u001b[0;36m__init__\u001b[0;34m(self, mapping, ignore_unknown_fields, **kwargs)\u001b[0m\n\u001b[1;32m    602\u001b[0m \u001b[0;34m\u001b[0m\u001b[0m\n\u001b[1;32m    603\u001b[0m         \u001b[0;31m# Create the internal protocol buffer.\u001b[0m\u001b[0;34m\u001b[0m\u001b[0;34m\u001b[0m\u001b[0m\n\u001b[0;32m--> 604\u001b[0;31m         \u001b[0msuper\u001b[0m\u001b[0;34m(\u001b[0m\u001b[0;34m)\u001b[0m\u001b[0;34m.\u001b[0m\u001b[0m__setattr__\u001b[0m\u001b[0;34m(\u001b[0m\u001b[0;34m\"_pb\"\u001b[0m\u001b[0;34m,\u001b[0m \u001b[0mself\u001b[0m\u001b[0;34m.\u001b[0m\u001b[0m_meta\u001b[0m\u001b[0;34m.\u001b[0m\u001b[0mpb\u001b[0m\u001b[0;34m(\u001b[0m\u001b[0;34m**\u001b[0m\u001b[0mparams\u001b[0m\u001b[0;34m)\u001b[0m\u001b[0;34m)\u001b[0m\u001b[0;34m\u001b[0m\u001b[0;34m\u001b[0m\u001b[0m\n\u001b[0m\u001b[1;32m    605\u001b[0m \u001b[0;34m\u001b[0m\u001b[0m\n\u001b[1;32m    606\u001b[0m     \u001b[0;32mdef\u001b[0m \u001b[0m_get_pb_type_from_key\u001b[0m\u001b[0;34m(\u001b[0m\u001b[0mself\u001b[0m\u001b[0;34m,\u001b[0m \u001b[0mkey\u001b[0m\u001b[0;34m)\u001b[0m\u001b[0;34m:\u001b[0m\u001b[0;34m\u001b[0m\u001b[0;34m\u001b[0m\u001b[0m\n",
            "\u001b[0;31mTypeError\u001b[0m: 47935                                                 None\n47936    Beste heer mevrouw Inmiddels zij has type Series, but expected one of: bytes, unicode"
          ]
        }
      ]
    },
    {
      "cell_type": "code",
      "source": [
        "def deidentify_row(row):\n",
        "    project = project_id\n",
        "    item = row[\"descr\"]\n",
        "    info_types = [\"CREDIT_CARD_NUMBER\", \"EMAIL_ADDRESS\", \"PHONE_NUMBER\", \"PERSON_NAME\", \"IBAN_CODE\"]\n",
        "    return deidentify_with_replace_infotype(project, item, info_types).item.value"
      ],
      "metadata": {
        "id": "1IbMeS-c66h1"
      },
      "execution_count": null,
      "outputs": []
    },
    {
      "cell_type": "code",
      "source": [
        "first['deidentified_descr'] = first[\"descr\"].apply(deidentify_row)"
      ],
      "metadata": {
        "colab": {
          "base_uri": "https://localhost:8080/",
          "height": 323
        },
        "id": "GrY2DZvh6_D_",
        "outputId": "07330254-3b15-4ca6-ad36-152684a4f426"
      },
      "execution_count": null,
      "outputs": [
        {
          "output_type": "error",
          "ename": "TypeError",
          "evalue": "ignored",
          "traceback": [
            "\u001b[0;31m---------------------------------------------------------------------------\u001b[0m",
            "\u001b[0;31mTypeError\u001b[0m                                 Traceback (most recent call last)",
            "\u001b[0;32m<ipython-input-167-0f942df64e48>\u001b[0m in \u001b[0;36m<cell line: 1>\u001b[0;34m()\u001b[0m\n\u001b[0;32m----> 1\u001b[0;31m \u001b[0mfirst\u001b[0m\u001b[0;34m[\u001b[0m\u001b[0;34m'deidentified_descr'\u001b[0m\u001b[0;34m]\u001b[0m \u001b[0;34m=\u001b[0m \u001b[0mfirst\u001b[0m\u001b[0;34m[\u001b[0m\u001b[0;34m\"descr\"\u001b[0m\u001b[0;34m]\u001b[0m\u001b[0;34m.\u001b[0m\u001b[0mapply\u001b[0m\u001b[0;34m(\u001b[0m\u001b[0mdeidentify_row\u001b[0m\u001b[0;34m)\u001b[0m\u001b[0;34m\u001b[0m\u001b[0;34m\u001b[0m\u001b[0m\n\u001b[0m",
            "\u001b[0;32m/usr/local/lib/python3.10/dist-packages/pandas/core/series.py\u001b[0m in \u001b[0;36mapply\u001b[0;34m(self, func, convert_dtype, args, **kwargs)\u001b[0m\n\u001b[1;32m   4769\u001b[0m         \u001b[0mdtype\u001b[0m\u001b[0;34m:\u001b[0m \u001b[0mfloat64\u001b[0m\u001b[0;34m\u001b[0m\u001b[0;34m\u001b[0m\u001b[0m\n\u001b[1;32m   4770\u001b[0m         \"\"\"\n\u001b[0;32m-> 4771\u001b[0;31m         \u001b[0;32mreturn\u001b[0m \u001b[0mSeriesApply\u001b[0m\u001b[0;34m(\u001b[0m\u001b[0mself\u001b[0m\u001b[0;34m,\u001b[0m \u001b[0mfunc\u001b[0m\u001b[0;34m,\u001b[0m \u001b[0mconvert_dtype\u001b[0m\u001b[0;34m,\u001b[0m \u001b[0margs\u001b[0m\u001b[0;34m,\u001b[0m \u001b[0mkwargs\u001b[0m\u001b[0;34m)\u001b[0m\u001b[0;34m.\u001b[0m\u001b[0mapply\u001b[0m\u001b[0;34m(\u001b[0m\u001b[0;34m)\u001b[0m\u001b[0;34m\u001b[0m\u001b[0;34m\u001b[0m\u001b[0m\n\u001b[0m\u001b[1;32m   4772\u001b[0m \u001b[0;34m\u001b[0m\u001b[0m\n\u001b[1;32m   4773\u001b[0m     def _reduce(\n",
            "\u001b[0;32m/usr/local/lib/python3.10/dist-packages/pandas/core/apply.py\u001b[0m in \u001b[0;36mapply\u001b[0;34m(self)\u001b[0m\n\u001b[1;32m   1121\u001b[0m \u001b[0;34m\u001b[0m\u001b[0m\n\u001b[1;32m   1122\u001b[0m         \u001b[0;31m# self.f is Callable\u001b[0m\u001b[0;34m\u001b[0m\u001b[0;34m\u001b[0m\u001b[0m\n\u001b[0;32m-> 1123\u001b[0;31m         \u001b[0;32mreturn\u001b[0m \u001b[0mself\u001b[0m\u001b[0;34m.\u001b[0m\u001b[0mapply_standard\u001b[0m\u001b[0;34m(\u001b[0m\u001b[0;34m)\u001b[0m\u001b[0;34m\u001b[0m\u001b[0;34m\u001b[0m\u001b[0m\n\u001b[0m\u001b[1;32m   1124\u001b[0m \u001b[0;34m\u001b[0m\u001b[0m\n\u001b[1;32m   1125\u001b[0m     \u001b[0;32mdef\u001b[0m \u001b[0magg\u001b[0m\u001b[0;34m(\u001b[0m\u001b[0mself\u001b[0m\u001b[0;34m)\u001b[0m\u001b[0;34m:\u001b[0m\u001b[0;34m\u001b[0m\u001b[0;34m\u001b[0m\u001b[0m\n",
            "\u001b[0;32m/usr/local/lib/python3.10/dist-packages/pandas/core/apply.py\u001b[0m in \u001b[0;36mapply_standard\u001b[0;34m(self)\u001b[0m\n\u001b[1;32m   1172\u001b[0m             \u001b[0;32melse\u001b[0m\u001b[0;34m:\u001b[0m\u001b[0;34m\u001b[0m\u001b[0;34m\u001b[0m\u001b[0m\n\u001b[1;32m   1173\u001b[0m                 \u001b[0mvalues\u001b[0m \u001b[0;34m=\u001b[0m \u001b[0mobj\u001b[0m\u001b[0;34m.\u001b[0m\u001b[0mastype\u001b[0m\u001b[0;34m(\u001b[0m\u001b[0mobject\u001b[0m\u001b[0;34m)\u001b[0m\u001b[0;34m.\u001b[0m\u001b[0m_values\u001b[0m\u001b[0;34m\u001b[0m\u001b[0;34m\u001b[0m\u001b[0m\n\u001b[0;32m-> 1174\u001b[0;31m                 mapped = lib.map_infer(\n\u001b[0m\u001b[1;32m   1175\u001b[0m                     \u001b[0mvalues\u001b[0m\u001b[0;34m,\u001b[0m\u001b[0;34m\u001b[0m\u001b[0;34m\u001b[0m\u001b[0m\n\u001b[1;32m   1176\u001b[0m                     \u001b[0mf\u001b[0m\u001b[0;34m,\u001b[0m\u001b[0;34m\u001b[0m\u001b[0;34m\u001b[0m\u001b[0m\n",
            "\u001b[0;32m/usr/local/lib/python3.10/dist-packages/pandas/_libs/lib.pyx\u001b[0m in \u001b[0;36mpandas._libs.lib.map_infer\u001b[0;34m()\u001b[0m\n",
            "\u001b[0;32m<ipython-input-166-9f6ba3c9870c>\u001b[0m in \u001b[0;36mdeidentify_row\u001b[0;34m(row)\u001b[0m\n\u001b[1;32m      1\u001b[0m \u001b[0;32mdef\u001b[0m \u001b[0mdeidentify_row\u001b[0m\u001b[0;34m(\u001b[0m\u001b[0mrow\u001b[0m\u001b[0;34m)\u001b[0m\u001b[0;34m:\u001b[0m\u001b[0;34m\u001b[0m\u001b[0;34m\u001b[0m\u001b[0m\n\u001b[1;32m      2\u001b[0m     \u001b[0mproject\u001b[0m \u001b[0;34m=\u001b[0m \u001b[0mproject_id\u001b[0m\u001b[0;34m\u001b[0m\u001b[0;34m\u001b[0m\u001b[0m\n\u001b[0;32m----> 3\u001b[0;31m     \u001b[0mitem\u001b[0m \u001b[0;34m=\u001b[0m \u001b[0mrow\u001b[0m\u001b[0;34m[\u001b[0m\u001b[0;34m\"descr\"\u001b[0m\u001b[0;34m]\u001b[0m\u001b[0;34m\u001b[0m\u001b[0;34m\u001b[0m\u001b[0m\n\u001b[0m\u001b[1;32m      4\u001b[0m     \u001b[0minfo_types\u001b[0m \u001b[0;34m=\u001b[0m \u001b[0;34m[\u001b[0m\u001b[0;34m\"CREDIT_CARD_NUMBER\"\u001b[0m\u001b[0;34m,\u001b[0m \u001b[0;34m\"EMAIL_ADDRESS\"\u001b[0m\u001b[0;34m,\u001b[0m \u001b[0;34m\"PHONE_NUMBER\"\u001b[0m\u001b[0;34m,\u001b[0m \u001b[0;34m\"PERSON_NAME\"\u001b[0m\u001b[0;34m,\u001b[0m \u001b[0;34m\"IBAN_CODE\"\u001b[0m\u001b[0;34m]\u001b[0m\u001b[0;34m\u001b[0m\u001b[0;34m\u001b[0m\u001b[0m\n\u001b[1;32m      5\u001b[0m     \u001b[0;32mreturn\u001b[0m \u001b[0mdeidentify_with_replace_infotype\u001b[0m\u001b[0;34m(\u001b[0m\u001b[0mproject\u001b[0m\u001b[0;34m,\u001b[0m \u001b[0mitem\u001b[0m\u001b[0;34m,\u001b[0m \u001b[0minfo_types\u001b[0m\u001b[0;34m)\u001b[0m\u001b[0;34m.\u001b[0m\u001b[0mitem\u001b[0m\u001b[0;34m.\u001b[0m\u001b[0mvalue\u001b[0m\u001b[0;34m\u001b[0m\u001b[0;34m\u001b[0m\u001b[0m\n",
            "\u001b[0;31mTypeError\u001b[0m: string indices must be integers"
          ]
        }
      ]
    },
    {
      "cell_type": "code",
      "source": [
        "def deidentify_row(row):\n",
        "    project = project_id\n",
        "    item = row['descr']\n",
        "    info_types = [\"CREDIT_CARD_NUMBER\", \"EMAIL_ADDRESS\", \"PHONE_NUMBER\", \"PERSON_NAME\", \"IBAN_CODE\"]\n",
        "    deidentified_item = deidentify_with_replace_infotype(project, item, info_types)\n",
        "    return pd.Series({'deidentified_descr': deidentified_item})\n",
        "    \n",
        "df = first.to_frame()\n",
        "df = df.join(df.apply(deidentify_row, axis=1))"
      ],
      "metadata": {
        "colab": {
          "base_uri": "https://localhost:8080/",
          "height": 354
        },
        "id": "G7Jmxdh15Eea",
        "outputId": "8592bfce-b16a-45b7-d3bd-f9f5b4ec73f9"
      },
      "execution_count": null,
      "outputs": [
        {
          "output_type": "error",
          "ename": "AttributeError",
          "evalue": "ignored",
          "traceback": [
            "\u001b[0;31m---------------------------------------------------------------------------\u001b[0m",
            "\u001b[0;31mAttributeError\u001b[0m                            Traceback (most recent call last)",
            "\u001b[0;32m<ipython-input-131-78c1b7f21afa>\u001b[0m in \u001b[0;36m<cell line: 8>\u001b[0;34m()\u001b[0m\n\u001b[1;32m      6\u001b[0m     \u001b[0;32mreturn\u001b[0m \u001b[0mpd\u001b[0m\u001b[0;34m.\u001b[0m\u001b[0mSeries\u001b[0m\u001b[0;34m(\u001b[0m\u001b[0;34m{\u001b[0m\u001b[0;34m'deidentified_descr'\u001b[0m\u001b[0;34m:\u001b[0m \u001b[0mdeidentified_item\u001b[0m\u001b[0;34m}\u001b[0m\u001b[0;34m)\u001b[0m\u001b[0;34m\u001b[0m\u001b[0;34m\u001b[0m\u001b[0m\n\u001b[1;32m      7\u001b[0m \u001b[0;34m\u001b[0m\u001b[0m\n\u001b[0;32m----> 8\u001b[0;31m \u001b[0mdf\u001b[0m \u001b[0;34m=\u001b[0m \u001b[0mfirst\u001b[0m\u001b[0;34m.\u001b[0m\u001b[0mto_frame\u001b[0m\u001b[0;34m(\u001b[0m\u001b[0;34m)\u001b[0m\u001b[0;34m\u001b[0m\u001b[0;34m\u001b[0m\u001b[0m\n\u001b[0m\u001b[1;32m      9\u001b[0m \u001b[0mdf\u001b[0m \u001b[0;34m=\u001b[0m \u001b[0mdf\u001b[0m\u001b[0;34m.\u001b[0m\u001b[0mjoin\u001b[0m\u001b[0;34m(\u001b[0m\u001b[0mdf\u001b[0m\u001b[0;34m.\u001b[0m\u001b[0mapply\u001b[0m\u001b[0;34m(\u001b[0m\u001b[0mdeidentify_row\u001b[0m\u001b[0;34m,\u001b[0m \u001b[0maxis\u001b[0m\u001b[0;34m=\u001b[0m\u001b[0;36m1\u001b[0m\u001b[0;34m)\u001b[0m\u001b[0;34m)\u001b[0m\u001b[0;34m\u001b[0m\u001b[0;34m\u001b[0m\u001b[0m\n",
            "\u001b[0;32m/usr/local/lib/python3.10/dist-packages/pandas/core/generic.py\u001b[0m in \u001b[0;36m__getattr__\u001b[0;34m(self, name)\u001b[0m\n\u001b[1;32m   5900\u001b[0m         ):\n\u001b[1;32m   5901\u001b[0m             \u001b[0;32mreturn\u001b[0m \u001b[0mself\u001b[0m\u001b[0;34m[\u001b[0m\u001b[0mname\u001b[0m\u001b[0;34m]\u001b[0m\u001b[0;34m\u001b[0m\u001b[0;34m\u001b[0m\u001b[0m\n\u001b[0;32m-> 5902\u001b[0;31m         \u001b[0;32mreturn\u001b[0m \u001b[0mobject\u001b[0m\u001b[0;34m.\u001b[0m\u001b[0m__getattribute__\u001b[0m\u001b[0;34m(\u001b[0m\u001b[0mself\u001b[0m\u001b[0;34m,\u001b[0m \u001b[0mname\u001b[0m\u001b[0;34m)\u001b[0m\u001b[0;34m\u001b[0m\u001b[0;34m\u001b[0m\u001b[0m\n\u001b[0m\u001b[1;32m   5903\u001b[0m \u001b[0;34m\u001b[0m\u001b[0m\n\u001b[1;32m   5904\u001b[0m     \u001b[0;32mdef\u001b[0m \u001b[0m__setattr__\u001b[0m\u001b[0;34m(\u001b[0m\u001b[0mself\u001b[0m\u001b[0;34m,\u001b[0m \u001b[0mname\u001b[0m\u001b[0;34m:\u001b[0m \u001b[0mstr\u001b[0m\u001b[0;34m,\u001b[0m \u001b[0mvalue\u001b[0m\u001b[0;34m)\u001b[0m \u001b[0;34m->\u001b[0m \u001b[0;32mNone\u001b[0m\u001b[0;34m:\u001b[0m\u001b[0;34m\u001b[0m\u001b[0;34m\u001b[0m\u001b[0m\n",
            "\u001b[0;31mAttributeError\u001b[0m: 'DataFrame' object has no attribute 'to_frame'"
          ]
        }
      ]
    },
    {
      "cell_type": "code",
      "source": [
        "df"
      ],
      "metadata": {
        "id": "Mp2HFISK6CCh"
      },
      "execution_count": null,
      "outputs": []
    },
    {
      "cell_type": "code",
      "source": [
        "first['deidentified_descr'] = first.apply(deidentify_row)"
      ],
      "metadata": {
        "colab": {
          "base_uri": "https://localhost:8080/",
          "height": 323
        },
        "id": "KTynlw_Z5Ebq",
        "outputId": "dc1eb61d-7ceb-44aa-f6b6-14ef2605cbdc"
      },
      "execution_count": null,
      "outputs": [
        {
          "output_type": "error",
          "ename": "TypeError",
          "evalue": "ignored",
          "traceback": [
            "\u001b[0;31m---------------------------------------------------------------------------\u001b[0m",
            "\u001b[0;31mTypeError\u001b[0m                                 Traceback (most recent call last)",
            "\u001b[0;32m<ipython-input-95-e4d0cdd15da9>\u001b[0m in \u001b[0;36m<cell line: 1>\u001b[0;34m()\u001b[0m\n\u001b[0;32m----> 1\u001b[0;31m \u001b[0mfirst\u001b[0m\u001b[0;34m[\u001b[0m\u001b[0;34m'deidentified_descr'\u001b[0m\u001b[0;34m]\u001b[0m \u001b[0;34m=\u001b[0m \u001b[0mfirst\u001b[0m\u001b[0;34m.\u001b[0m\u001b[0mapply\u001b[0m\u001b[0;34m(\u001b[0m\u001b[0mdeidentify_row\u001b[0m\u001b[0;34m)\u001b[0m\u001b[0;34m\u001b[0m\u001b[0;34m\u001b[0m\u001b[0m\n\u001b[0m",
            "\u001b[0;32m/usr/local/lib/python3.10/dist-packages/pandas/core/series.py\u001b[0m in \u001b[0;36mapply\u001b[0;34m(self, func, convert_dtype, args, **kwargs)\u001b[0m\n\u001b[1;32m   4769\u001b[0m         \u001b[0mdtype\u001b[0m\u001b[0;34m:\u001b[0m \u001b[0mfloat64\u001b[0m\u001b[0;34m\u001b[0m\u001b[0;34m\u001b[0m\u001b[0m\n\u001b[1;32m   4770\u001b[0m         \"\"\"\n\u001b[0;32m-> 4771\u001b[0;31m         \u001b[0;32mreturn\u001b[0m \u001b[0mSeriesApply\u001b[0m\u001b[0;34m(\u001b[0m\u001b[0mself\u001b[0m\u001b[0;34m,\u001b[0m \u001b[0mfunc\u001b[0m\u001b[0;34m,\u001b[0m \u001b[0mconvert_dtype\u001b[0m\u001b[0;34m,\u001b[0m \u001b[0margs\u001b[0m\u001b[0;34m,\u001b[0m \u001b[0mkwargs\u001b[0m\u001b[0;34m)\u001b[0m\u001b[0;34m.\u001b[0m\u001b[0mapply\u001b[0m\u001b[0;34m(\u001b[0m\u001b[0;34m)\u001b[0m\u001b[0;34m\u001b[0m\u001b[0;34m\u001b[0m\u001b[0m\n\u001b[0m\u001b[1;32m   4772\u001b[0m \u001b[0;34m\u001b[0m\u001b[0m\n\u001b[1;32m   4773\u001b[0m     def _reduce(\n",
            "\u001b[0;32m/usr/local/lib/python3.10/dist-packages/pandas/core/apply.py\u001b[0m in \u001b[0;36mapply\u001b[0;34m(self)\u001b[0m\n\u001b[1;32m   1121\u001b[0m \u001b[0;34m\u001b[0m\u001b[0m\n\u001b[1;32m   1122\u001b[0m         \u001b[0;31m# self.f is Callable\u001b[0m\u001b[0;34m\u001b[0m\u001b[0;34m\u001b[0m\u001b[0m\n\u001b[0;32m-> 1123\u001b[0;31m         \u001b[0;32mreturn\u001b[0m \u001b[0mself\u001b[0m\u001b[0;34m.\u001b[0m\u001b[0mapply_standard\u001b[0m\u001b[0;34m(\u001b[0m\u001b[0;34m)\u001b[0m\u001b[0;34m\u001b[0m\u001b[0;34m\u001b[0m\u001b[0m\n\u001b[0m\u001b[1;32m   1124\u001b[0m \u001b[0;34m\u001b[0m\u001b[0m\n\u001b[1;32m   1125\u001b[0m     \u001b[0;32mdef\u001b[0m \u001b[0magg\u001b[0m\u001b[0;34m(\u001b[0m\u001b[0mself\u001b[0m\u001b[0;34m)\u001b[0m\u001b[0;34m:\u001b[0m\u001b[0;34m\u001b[0m\u001b[0;34m\u001b[0m\u001b[0m\n",
            "\u001b[0;32m/usr/local/lib/python3.10/dist-packages/pandas/core/apply.py\u001b[0m in \u001b[0;36mapply_standard\u001b[0;34m(self)\u001b[0m\n\u001b[1;32m   1172\u001b[0m             \u001b[0;32melse\u001b[0m\u001b[0;34m:\u001b[0m\u001b[0;34m\u001b[0m\u001b[0;34m\u001b[0m\u001b[0m\n\u001b[1;32m   1173\u001b[0m                 \u001b[0mvalues\u001b[0m \u001b[0;34m=\u001b[0m \u001b[0mobj\u001b[0m\u001b[0;34m.\u001b[0m\u001b[0mastype\u001b[0m\u001b[0;34m(\u001b[0m\u001b[0mobject\u001b[0m\u001b[0;34m)\u001b[0m\u001b[0;34m.\u001b[0m\u001b[0m_values\u001b[0m\u001b[0;34m\u001b[0m\u001b[0;34m\u001b[0m\u001b[0m\n\u001b[0;32m-> 1174\u001b[0;31m                 mapped = lib.map_infer(\n\u001b[0m\u001b[1;32m   1175\u001b[0m                     \u001b[0mvalues\u001b[0m\u001b[0;34m,\u001b[0m\u001b[0;34m\u001b[0m\u001b[0;34m\u001b[0m\u001b[0m\n\u001b[1;32m   1176\u001b[0m                     \u001b[0mf\u001b[0m\u001b[0;34m,\u001b[0m\u001b[0;34m\u001b[0m\u001b[0;34m\u001b[0m\u001b[0m\n",
            "\u001b[0;32m/usr/local/lib/python3.10/dist-packages/pandas/_libs/lib.pyx\u001b[0m in \u001b[0;36mpandas._libs.lib.map_infer\u001b[0;34m()\u001b[0m\n",
            "\u001b[0;32m<ipython-input-93-adbaf90279b1>\u001b[0m in \u001b[0;36mdeidentify_row\u001b[0;34m(row)\u001b[0m\n\u001b[1;32m      2\u001b[0m \u001b[0;32mdef\u001b[0m \u001b[0mdeidentify_row\u001b[0m\u001b[0;34m(\u001b[0m\u001b[0mrow\u001b[0m\u001b[0;34m)\u001b[0m\u001b[0;34m:\u001b[0m\u001b[0;34m\u001b[0m\u001b[0;34m\u001b[0m\u001b[0m\n\u001b[1;32m      3\u001b[0m     \u001b[0mproject\u001b[0m \u001b[0;34m=\u001b[0m \u001b[0mproject_id\u001b[0m\u001b[0;34m,\u001b[0m\u001b[0;34m\u001b[0m\u001b[0;34m\u001b[0m\u001b[0m\n\u001b[0;32m----> 4\u001b[0;31m     \u001b[0mitem\u001b[0m \u001b[0;34m=\u001b[0m \u001b[0mrow\u001b[0m\u001b[0;34m[\u001b[0m\u001b[0;34m'descr'\u001b[0m\u001b[0;34m]\u001b[0m\u001b[0;34m,\u001b[0m\u001b[0;34m\u001b[0m\u001b[0;34m\u001b[0m\u001b[0m\n\u001b[0m\u001b[1;32m      5\u001b[0m     \u001b[0minfo_types\u001b[0m \u001b[0;34m=\u001b[0m \u001b[0;34m[\u001b[0m\u001b[0;34m\"CREDIT_CARD_NUMBER\"\u001b[0m\u001b[0;34m,\u001b[0m \u001b[0;34m\"EMAIL_ADDRESS\"\u001b[0m\u001b[0;34m,\u001b[0m \u001b[0;34m\"PHONE_NUMBER\"\u001b[0m\u001b[0;34m,\u001b[0m \u001b[0;34m\"PERSON_NAME\"\u001b[0m\u001b[0;34m,\u001b[0m \u001b[0;34m\"IBAN_CODE\"\u001b[0m\u001b[0;34m]\u001b[0m\u001b[0;34m\u001b[0m\u001b[0;34m\u001b[0m\u001b[0m\n\u001b[1;32m      6\u001b[0m     \u001b[0;32mreturn\u001b[0m \u001b[0mdeidentify_with_replace_infotype\u001b[0m\u001b[0;34m(\u001b[0m\u001b[0mproject\u001b[0m\u001b[0;34m,\u001b[0m \u001b[0mitem\u001b[0m\u001b[0;34m,\u001b[0m \u001b[0minfo_types\u001b[0m\u001b[0;34m)\u001b[0m\u001b[0;34m\u001b[0m\u001b[0;34m\u001b[0m\u001b[0m\n",
            "\u001b[0;31mTypeError\u001b[0m: string indices must be integers"
          ]
        }
      ]
    },
    {
      "cell_type": "code",
      "source": [
        "# Iterate over each row in the dataset and apply the deidentification function\n",
        "for i, row in first.iterrows():\n",
        "    redacted_query = deidentify_with_replace_infotype(\n",
        "        project=project_id,\n",
        "        item=row[\"descr\"],\n",
        "        info_types=[\"CREDIT_CARD_NUMBER\", \"EMAIL_ADDRESS\", \"PHONE_NUMBER\", \"PERSON_NAME\", \"IBAN_CODE\"]\n",
        "    )\n",
        "    # Replace the original query with the redacted query in the dataset\n",
        "    # first.at[i, \"descr\"] = redacted_query\n",
        "    sec[\"descr\"] = first[\"descr\"].apply(redacted_query)\n",
        "\n",
        "# Write the redacted dataset to a new CSV file\n",
        "sec[\"descr\"].to_csv(\"my_dataset_redacted.csv\", index=False)"
      ],
      "metadata": {
        "colab": {
          "base_uri": "https://localhost:8080/",
          "height": 343
        },
        "id": "OC-FUPUMzAM8",
        "outputId": "89d12fec-4409-40d4-99b6-36f1719563b4"
      },
      "execution_count": null,
      "outputs": [
        {
          "output_type": "stream",
          "name": "stdout",
          "text": [
            "[PERSON_NAME], ik had een probleem met mijn bestelling van 14/2/23 gemeld. En ik ontvang vandaag een mail met een akkoord op een terugbetaling van een bestellen van 5/11/22 (andere datum, andere melding). Denk dat er iets niet goed gaat?? [PERSON_NAME] , je chat met [PERSON_NAME]. Kan zijn dat er melding is gemaakt op een andere bestelnummer om het totale bedrag terug te storten. Maar heb je een screenshot? Dan kan ik met je meekijken, ik hoor graag van je. Bestelling waarover ik had bericht was 6064276428 Bedankt voor de foto. Volgens het systeem is te zien dat er een fout is gemaakt met de datum.Het gaat om hetzelfde bedrag 😊. Ik hoop je voldoende te hebben geinformeerd. Fijne avond!\n"
          ]
        },
        {
          "output_type": "error",
          "ename": "TypeError",
          "evalue": "ignored",
          "traceback": [
            "\u001b[0;31m---------------------------------------------------------------------------\u001b[0m",
            "\u001b[0;31mTypeError\u001b[0m                                 Traceback (most recent call last)",
            "\u001b[0;32m<ipython-input-77-66c27f503c11>\u001b[0m in \u001b[0;36m<cell line: 2>\u001b[0;34m()\u001b[0m\n\u001b[1;32m      8\u001b[0m     \u001b[0;31m# Replace the original query with the redacted query in the dataset\u001b[0m\u001b[0;34m\u001b[0m\u001b[0;34m\u001b[0m\u001b[0m\n\u001b[1;32m      9\u001b[0m     \u001b[0;31m# first.at[i, \"descr\"] = redacted_query\u001b[0m\u001b[0;34m\u001b[0m\u001b[0;34m\u001b[0m\u001b[0m\n\u001b[0;32m---> 10\u001b[0;31m     \u001b[0msec\u001b[0m\u001b[0;34m[\u001b[0m\u001b[0;34m\"descr\"\u001b[0m\u001b[0;34m]\u001b[0m \u001b[0;34m=\u001b[0m \u001b[0mfirst\u001b[0m\u001b[0;34m[\u001b[0m\u001b[0;34m\"descr\"\u001b[0m\u001b[0;34m]\u001b[0m\u001b[0;34m.\u001b[0m\u001b[0mapply\u001b[0m\u001b[0;34m(\u001b[0m\u001b[0mredacted_query\u001b[0m\u001b[0;34m)\u001b[0m\u001b[0;34m\u001b[0m\u001b[0;34m\u001b[0m\u001b[0m\n\u001b[0m\u001b[1;32m     11\u001b[0m \u001b[0;34m\u001b[0m\u001b[0m\n\u001b[1;32m     12\u001b[0m \u001b[0;31m# Write the redacted dataset to a new CSV file\u001b[0m\u001b[0;34m\u001b[0m\u001b[0;34m\u001b[0m\u001b[0m\n",
            "\u001b[0;32m/usr/local/lib/python3.10/dist-packages/pandas/core/series.py\u001b[0m in \u001b[0;36mapply\u001b[0;34m(self, func, convert_dtype, args, **kwargs)\u001b[0m\n\u001b[1;32m   4769\u001b[0m         \u001b[0mdtype\u001b[0m\u001b[0;34m:\u001b[0m \u001b[0mfloat64\u001b[0m\u001b[0;34m\u001b[0m\u001b[0;34m\u001b[0m\u001b[0m\n\u001b[1;32m   4770\u001b[0m         \"\"\"\n\u001b[0;32m-> 4771\u001b[0;31m         \u001b[0;32mreturn\u001b[0m \u001b[0mSeriesApply\u001b[0m\u001b[0;34m(\u001b[0m\u001b[0mself\u001b[0m\u001b[0;34m,\u001b[0m \u001b[0mfunc\u001b[0m\u001b[0;34m,\u001b[0m \u001b[0mconvert_dtype\u001b[0m\u001b[0;34m,\u001b[0m \u001b[0margs\u001b[0m\u001b[0;34m,\u001b[0m \u001b[0mkwargs\u001b[0m\u001b[0;34m)\u001b[0m\u001b[0;34m.\u001b[0m\u001b[0mapply\u001b[0m\u001b[0;34m(\u001b[0m\u001b[0;34m)\u001b[0m\u001b[0;34m\u001b[0m\u001b[0;34m\u001b[0m\u001b[0m\n\u001b[0m\u001b[1;32m   4772\u001b[0m \u001b[0;34m\u001b[0m\u001b[0m\n\u001b[1;32m   4773\u001b[0m     def _reduce(\n",
            "\u001b[0;32m/usr/local/lib/python3.10/dist-packages/pandas/core/apply.py\u001b[0m in \u001b[0;36mapply\u001b[0;34m(self)\u001b[0m\n\u001b[1;32m   1121\u001b[0m \u001b[0;34m\u001b[0m\u001b[0m\n\u001b[1;32m   1122\u001b[0m         \u001b[0;31m# self.f is Callable\u001b[0m\u001b[0;34m\u001b[0m\u001b[0;34m\u001b[0m\u001b[0m\n\u001b[0;32m-> 1123\u001b[0;31m         \u001b[0;32mreturn\u001b[0m \u001b[0mself\u001b[0m\u001b[0;34m.\u001b[0m\u001b[0mapply_standard\u001b[0m\u001b[0;34m(\u001b[0m\u001b[0;34m)\u001b[0m\u001b[0;34m\u001b[0m\u001b[0;34m\u001b[0m\u001b[0m\n\u001b[0m\u001b[1;32m   1124\u001b[0m \u001b[0;34m\u001b[0m\u001b[0m\n\u001b[1;32m   1125\u001b[0m     \u001b[0;32mdef\u001b[0m \u001b[0magg\u001b[0m\u001b[0;34m(\u001b[0m\u001b[0mself\u001b[0m\u001b[0;34m)\u001b[0m\u001b[0;34m:\u001b[0m\u001b[0;34m\u001b[0m\u001b[0;34m\u001b[0m\u001b[0m\n",
            "\u001b[0;32m/usr/local/lib/python3.10/dist-packages/pandas/core/apply.py\u001b[0m in \u001b[0;36mapply_standard\u001b[0;34m(self)\u001b[0m\n\u001b[1;32m   1172\u001b[0m             \u001b[0;32melse\u001b[0m\u001b[0;34m:\u001b[0m\u001b[0;34m\u001b[0m\u001b[0;34m\u001b[0m\u001b[0m\n\u001b[1;32m   1173\u001b[0m                 \u001b[0mvalues\u001b[0m \u001b[0;34m=\u001b[0m \u001b[0mobj\u001b[0m\u001b[0;34m.\u001b[0m\u001b[0mastype\u001b[0m\u001b[0;34m(\u001b[0m\u001b[0mobject\u001b[0m\u001b[0;34m)\u001b[0m\u001b[0;34m.\u001b[0m\u001b[0m_values\u001b[0m\u001b[0;34m\u001b[0m\u001b[0;34m\u001b[0m\u001b[0m\n\u001b[0;32m-> 1174\u001b[0;31m                 mapped = lib.map_infer(\n\u001b[0m\u001b[1;32m   1175\u001b[0m                     \u001b[0mvalues\u001b[0m\u001b[0;34m,\u001b[0m\u001b[0;34m\u001b[0m\u001b[0;34m\u001b[0m\u001b[0m\n\u001b[1;32m   1176\u001b[0m                     \u001b[0mf\u001b[0m\u001b[0;34m,\u001b[0m\u001b[0;34m\u001b[0m\u001b[0;34m\u001b[0m\u001b[0m\n",
            "\u001b[0;32m/usr/local/lib/python3.10/dist-packages/pandas/_libs/lib.pyx\u001b[0m in \u001b[0;36mpandas._libs.lib.map_infer\u001b[0;34m()\u001b[0m\n",
            "\u001b[0;31mTypeError\u001b[0m: 'NoneType' object is not callable"
          ]
        }
      ]
    },
    {
      "cell_type": "code",
      "source": [
        "# Define a lambda function to apply the deidentification function to each row\n",
        "deidentify_lambda = lambda x: deidentify_with_replace_infotype(\n",
        "    project=project_id,\n",
        "    item=x,\n",
        "    info_types=[\"CREDIT_CARD_NUMBER\", \"EMAIL_ADDRESS\", \"PHONE_NUMBER\", \"PERSON_NAME\", \"IBAN_CODE\"]\n",
        ")\n",
        "\n",
        "# Apply the lambda function to the query column in the dataset\n",
        "first[\"descr\"] = first[\"descr\"].apply(deidentify_lambda)\n",
        "\n",
        "# Write the redacted dataset to a new CSV file\n",
        "first.to_csv(\"jumbo-redacted.csv\", index=False)"
      ],
      "metadata": {
        "colab": {
          "base_uri": "https://localhost:8080/"
        },
        "id": "XomuCG4qqk-G",
        "outputId": "9fcac554-1157-48fd-e1bd-1317a342a191"
      },
      "execution_count": null,
      "outputs": [
        {
          "output_type": "stream",
          "name": "stdout",
          "text": [
            "[PERSON_NAME], ik had een probleem met mijn bestelling van 14/2/23 gemeld. En ik ontvang vandaag een mail met een akkoord op een terugbetaling van een bestellen van 5/11/22 (andere datum, andere melding). Denk dat er iets niet goed gaat?? [PERSON_NAME] , je chat met [PERSON_NAME]. Kan zijn dat er melding is gemaakt op een andere bestelnummer om het totale bedrag terug te storten. Maar heb je een screenshot? Dan kan ik met je meekijken, ik hoor graag van je. Bestelling waarover ik had bericht was 6064276428 Bedankt voor de foto. Volgens het systeem is te zien dat er een fout is gemaakt met de datum.Het gaat om hetzelfde bedrag 😊. Ik hoop je voldoende te hebben geinformeerd. Fijne avond!\n",
            "Beste heer mevrouw [PERSON_NAME] zijn we 3 maanden verder en heb ik nog steeds geen race auto ontvangen. Duurt nu wel weg lang Hoop hem toch snel te ontvangen Mvg [PERSON_NAME]\n",
            "Hallo, staan er voedingswaarden vermeld op de flessen wijn die u verkoopt? [PERSON_NAME], je chat met [PERSON_NAME]. Bedankt voor je bericht. Nee, niet volledig. Je kan dit navragen in de winkel en anders kunnen wij dit voor je opzoeken. Fijne dag. 😊 Ok bedankt, jij ook een fijne dag! Groetjes Greet Dankjewel!\n",
            "Bij Bestelling: 6057976661 had ik een servicecode ingevuld voor 5 euro korting tegen inlevering van 1000 punten. Deze 5,00 staat niet op de bon vermeld, is er niet getrokken terwijl deze bij het totaal verkregen korting wel is meegeteld. Laat maar, ik zie net dat het in het totaal wel te zien is. Het staat er alleen niet apart op vermeld. Oke toppie👍. Fijne dag.\n",
            "Hi! Ik heb mijn bestelling net ontvangen. Ik had ook flessen ingeleverd (11 grote en 2 kleine) en volgens mij zijn die kosten niet verrekend. Ook zat er onder in een zak een bak kwark en zaten daardoor meerdere producten onder de kwark. Excuus, ik zie dat de flessen er af zijn gegaan! [PERSON_NAME] zou ik alleen graag nog reactie ontvangen over de bak kwark. [PERSON_NAME], je chat met [PERSON_NAME]. Bedankt voor je bericht. Wat vervelend dat de kwark kapot is gegaan in je bestelling. Ik heb een terugbetaling voor de kwark in orde gemaakt. Het bedrag vindt je binnen zeven dagen terug op je rekening. Excuses voor het ongemak. Fijne avond! Dank! Fijn dat het zo snel geregeld is. Graag gedaan en ik wens je een fijne avond!😊\n",
            "Hello, is it possible to have this conversation in english? Hello! I have made a refund request on Jumbo. I would like to cancel it as the delivery man came back and brought the missing items within an hour. I could not find out how to do that as I have difficulty translating the website into english Hello your chat with [PERSON_NAME]. Good of you to send a message. Do you have an order number for me? Yes just a minute! 6058655116 this is the order number for the order :) by the way, will I get any points from this order? Okay let's get it out. Have a nice evening\n",
            "[PERSON_NAME] ik wil even door geven dat ik morgen een dubbele betaling moet doen van verleden week en van morgen.van verleden week moet ik 96.ggeuro betalen.en dan komt de rekening van morgen erbij.groetjes van mevrouw [PERSON_NAME]. [PERSON_NAME] je chat met [PERSON_NAME]. Gaat dit om de betaling van 18 januari ? Ja het was 96.gg Wat bedoel je precies met .gg? Dat was 99 euro cent Ik heb inderdaad gezien dat er een melding is gemaakt bij onze bezorgers, over een extra betaling. Ik hoop je zo voldoende te hebben geïnformeerd. Fijne dag😀. U ook een fijne dag 💛💛\n",
            "Hallo Jumbo! Ik probeer artikelen aan mijn bestelling toe te voegen maar alweer kan jullie app niet hoofdrekenen zie bijgevoegde screenshots... Zou u dit toe willen voegen voor de correcte prijs voor mij? Alvast bedankt! [PERSON_NAME], [PERSON_NAME] [PERSON_NAME], je chat met [PERSON_NAME]. Bedankt voor je bericht. Van 22 Februari tot en met 28 Februari 2023 geldt bij Knorr Wereldgerechten 2 voor 5,- euro. Ik heb informatie voor je op jumbo.com. Ik vertrouw erop je voldoende geïnformeerd te hebben. Ik wens je verder nog een fijne dag :-) Klopt, mijn bestelling komt op 27 feb (maandag a.s.) binnen dus deze prijs klopt nu niet als ik dit zelf toevoeg. Zie dus nogmaals de screenshots... De actie loopt tot 28 feb Dus als je boodschappen 27 feb geleverd worden dan maak je wel gebruik van deze actie. Het gaat dus goed! Nee dat gaat het dus niet, zie de screenshots... Nogmaals... Heb dit vaker gehad, als ik dit zelf ga toevoegen ben ik 13 euro duurder uit ipv 5, uw collega's hebben dat destijds voor mij correct eraan toegevoegd. In dit geval zou het dus 70,93 moeten worden met de spullen uit het winkelwagentje erbij. Het is gelukt. Het staat er nu correct in :) Indien ik nog wat voor je kan betekenen hoor ik het natuurlijk heel graag anders hoop ik dat ik je naar tevredenheid heb geholpen en wens ik je een fijne dag toe! 🤗 Niet helemaal want 65,93 + 5 = 71,12? Haha nee dat klopt niet helemaal maar voor die paar eurocent gaan we niets zitten prutsen... In ieder geval bedankt.\n",
            "Goedenmiddag. Ik had 4 repen verkade besteld 1 was niet leverbaar. Gaven jullie vanmiddag door. Nu heb ik dus voor die derde de volledige bedrag betaald volgensn mij. Hallo! je chat met [PERSON_NAME]. Goed dat je contact opneemt! Ik heb het bedrag van 1 reep voor je teruggestort, het bedrag staat binnen 7 dagen op je rekening. Als ik nog iets voor je kan betekenen dan hoor ik het graag. Ik wens je een fijne dag toe 😀. Dank je wel Charesa. Jij ook een fijne dag gewenst Goedenmorgen. Ik heb even een vraag. Ik was bezig om mijn boodschappen te bestellen en ik wilde dit product bestellen maar hij zegt dat er geen online producten zijn. Kunt u me hiermee helpen? Groet Patries Hallo! je chat met [PERSON_NAME]. Dat kan zijn omdat de actie nog niet geldig is, ik zou het in de gaten houden. Als ik nog iets voor je kan betekenen dan hoor ik het graag. Ik wens je een fijne dag toe 😊.\n",
            "Best Jumbo, ik heb nog geen terug betaling ontvangen sinds ons laatste bericht, nu bijna een week geleden. Kunnen jullie dit verzorgen? jrm petri ? 16:45:34 Hallo, je chat met Chayenne. Goed dat je contact met ons opneemt. Mag ik van jou een bestelnummer, dan kijk ik even met je mee. Best Jumbo, ik heb nog geen terug betaling ontvangen sinds ons laatste bericht, nu bijna een week geleden. Kunnen jullie dit verzorgen? [PERSON_NAME], je chat met [PERSON_NAME]. Goed dat je contact met ons opneemt. Mag ik van jou een bestelnummer, dan kijk ik even met je mee. 6058948347 Hallo, je chat met [PERSON_NAME]. Bedankt voor je bericht. Wat kan ik voor je doen? ? Dat bericht werd helaas niet in de chat getoond. Excuses! De witlof is 15-1 goedgekeurd. Het kan 7 werkdagen duren voordat dit teruggestort is. De andijvie en druiven heb ik net gelijk een terugbetaling voor aangemaakt. Hier ontvang je zo ook nog een mail van. Oke dank! Fijne avond😊.\n"
          ]
        }
      ]
    },
    {
      "cell_type": "code",
      "source": [
        "# Define a lambda function to apply the deidentification function to each row\n",
        "deidentify_lambda = lambda x: deidentify_with_replace_infotype(\n",
        "    project=project_id,\n",
        "    item=x,\n",
        "    info_types=[\"CREDIT_CARD_NUMBER\", \"EMAIL_ADDRESS\", \"PHONE_NUMBER\", \"PERSON_NAME\", \"IBAN_CODE\"]\n",
        ")\n",
        "\n",
        "# Apply the lambda function to the query column in the dataset\n",
        "whapp[\"descr\"] = whapp[\"descr\"].apply(deidentify_lambda)\n",
        "\n",
        "# Write the redacted dataset to a new CSV file\n",
        "whapp.to_csv(\"jumbo-whapp-redacted.csv\", index=False)"
      ],
      "metadata": {
        "id": "deRPkVV4wkW2"
      },
      "execution_count": null,
      "outputs": []
    },
    {
      "cell_type": "markdown",
      "source": [
        "## Data cleaning"
      ],
      "metadata": {
        "id": "UcVAAJgyFnaX"
      }
    },
    {
      "cell_type": "code",
      "source": [
        "import nltk\n",
        "from nltk.tokenize import word_tokenize, sent_tokenize\n",
        "from nltk.tag import pos_tag\n",
        "\n",
        "def POS_tagger(text):\n",
        "    # tokenize text into sentences\n",
        "    sentences = sent_tokenize(text)\n",
        "    cleaned_sentences = []\n",
        "    \n",
        "    for sentence in sentences:\n",
        "        # tokenize each sentence into words\n",
        "        words = word_tokenize(sentence)\n",
        "        # POS tag each word\n",
        "        tagged_words = pos_tag(words)\n",
        "        # filter out proper nouns (NNP and NNPS)\n",
        "        filtered_words = [word for word, tag in tagged_words if tag not in ['NNP', 'NNPS']]\n",
        "        # join the filtered words back into a sentence\n",
        "        cleaned_sentence = ' '.join(filtered_words)\n",
        "        cleaned_sentences.append(cleaned_sentence)\n",
        "        \n",
        "    # join the cleaned sentences back into a full text\n",
        "    cleaned_text = ' '.join(cleaned_sentences)\n",
        "    return cleaned_text"
      ],
      "metadata": {
        "id": "QFwCvCy8UtRP"
      },
      "execution_count": null,
      "outputs": []
    },
    {
      "cell_type": "code",
      "source": [
        "whapp[\"clean_descr\"] = whapp[\"descr\"].apply(POS_tagger)"
      ],
      "metadata": {
        "id": "JBE01p_vYi3s"
      },
      "execution_count": null,
      "outputs": []
    },
    {
      "cell_type": "code",
      "source": [
        "import re\n",
        "import string\n",
        "\n",
        "def clean_text(text):\n",
        "\n",
        "    # lowercasing text \n",
        "    text = text.lower()\n",
        "\n",
        "    # remove special characters\n",
        "    text = re.sub(r\"[^a-zA-Z0-9\\s]\", \"\", text)\n",
        "\n",
        "    # remove punctuation\n",
        "    text = text.translate(str.maketrans(\"\", \"\", string.punctuation))\n",
        "\n",
        "    # remove emojis\n",
        "    text = \"\".join(c for c in text if c not in emoji.EMOJI_DATA)\n",
        "\n",
        "    # replace order nrs with a mask\n",
        "    text = re.sub(r\"(?<!\\d)\\d{10}(?!\\d)\", \"[ORDER_NUMBER]\", text)\n",
        "\n",
        "    # replace card nrs with a mask\n",
        "    text = re.sub(r\"(?<!\\d)\\d{13}(?!\\d)\", \"[CARD_NUMBER]\", text)\n",
        " \n",
        "    # replace phone numbers with mask\n",
        "    text = re.sub(r\"^\\(?([+]31(\\s?)|0031|0)-?6(\\s?|-)([0-9]\\s{0,3}){8}$\", \"[PHONE]\", text)\n",
        "    \n",
        "    # replace email addresses with mask\n",
        "    text = re.sub(r\"[a-zA-Z0-9._%+-]+@[a-zA-Z0-9.-]+\\.[a-zA-Z]{2,}\", \"[EMAIL]\", text)\n",
        "\n",
        "    # replace promotions with mask\n",
        "    text = re.sub(r\"1\\s*\\+\\s*1\\s*|(one\\s*)(\\[PROMO\\]\\s*|\\[PROMO\\]?\\s*gratis\\b|\\bplus\\s*one\\s*gratis\\b)\", \"[PROMO]\", text)\n",
        "\n",
        "    # replace receipt nrs with a mask\n",
        "    text = re.sub(r\"(?<!\\d)\\d{20}(?!\\d)\", \"[RECEIPT_NUMBER]\", text)\n",
        "\n",
        "    # remove URLs\n",
        "    text = re.sub(r\"https?://\\S+|www\\.\\S+\", \"\", text)\n",
        "\n",
        "    # remove extra whitespace \\s+\n",
        "    text = re.sub(r\"\\s\\s+\", \" \", text).strip()\n",
        "\n",
        "    # remove numbers\n",
        "    text = re.sub(r\"\\d+\", \"\", text)\n",
        "\n",
        "    return text"
      ],
      "metadata": {
        "id": "M5o7OZjCaNf4"
      },
      "execution_count": null,
      "outputs": []
    },
    {
      "cell_type": "code",
      "source": [
        "whapp[\"clean_text\"] = whapp[\"clean_descr\"].apply(clean_text)"
      ],
      "metadata": {
        "id": "bY1pT4v8rE6S"
      },
      "execution_count": null,
      "outputs": []
    },
    {
      "cell_type": "code",
      "source": [
        "whapp[\"descr\"][47935]"
      ],
      "metadata": {
        "colab": {
          "base_uri": "https://localhost:8080/",
          "height": 91
        },
        "id": "qV--kj2JTNGU",
        "outputId": "dd0920f3-ecc1-481a-977d-77ac2c676fa0"
      },
      "execution_count": null,
      "outputs": [
        {
          "output_type": "execute_result",
          "data": {
            "text/plain": [
              "'Dag, ik had een probleem met mijn bestelling van 14/2/23 gemeld. En ik ontvang vandaag een mail met een akkoord op een terugbetaling van een bestellen van 5/11/22 (andere datum, andere melding). Denk dat er iets niet goed gaat?? Hallo Antoinette , je chat met Rubin. Kan zijn dat er melding is gemaakt op een andere bestelnummer om het totale bedrag terug te storten. Maar heb je een screenshot? Dan kan ik met je meekijken, ik hoor graag van je. Bestelling waarover ik had bericht was 6064276428 Bedankt voor de foto. Volgens het systeem is te zien dat er een fout is gemaakt met de datum.Het gaat om hetzelfde bedrag 😊. Ik hoop je voldoende te hebben geinformeerd. Fijne avond!'"
            ],
            "application/vnd.google.colaboratory.intrinsic+json": {
              "type": "string"
            }
          },
          "metadata": {},
          "execution_count": 27
        }
      ]
    },
    {
      "cell_type": "code",
      "source": [
        "whapp[\"clean_text\"][47935]"
      ],
      "metadata": {
        "colab": {
          "base_uri": "https://localhost:8080/",
          "height": 73
        },
        "id": "ITPCtSRaTH1G",
        "outputId": "8337b32c-bc6f-4230-cfd1-9c4d715a7026"
      },
      "execution_count": null,
      "outputs": [
        {
          "output_type": "execute_result",
          "data": {
            "text/plain": [
              "'ik had een probleem met mijn bestelling van  gemeld ik ontvang vandaag een mail met een akkoord op een terugbetaling van een bestellen van  andere datum andere melding dat er iets niet goed gaat je chat met dat er melding is gemaakt op een andere bestelnummer om het totale bedrag terug te storten heb je een screenshot kan ik met je meekijken ik hoor graag van je bestelling waarover ik had bericht was [ORDER_NUMBER] voor de foto volgens het systeem is te zien dat er een fout is gemaakt met de datumhet gaat om hetzelfde bedrag hoop je voldoende te hebben geinformeerd avond'"
            ],
            "application/vnd.google.colaboratory.intrinsic+json": {
              "type": "string"
            }
          },
          "metadata": {},
          "execution_count": 28
        }
      ]
    },
    {
      "cell_type": "code",
      "source": [
        "whapp[\"clean_text\"]"
      ],
      "metadata": {
        "colab": {
          "base_uri": "https://localhost:8080/"
        },
        "id": "s8GyjZUdrbGj",
        "outputId": "fe197d95-876b-46a0-f903-f9a8cd8d81a3"
      },
      "execution_count": null,
      "outputs": [
        {
          "output_type": "execute_result",
          "data": {
            "text/plain": [
              "47935    ik had een probleem met mijn bestelling van  g...\n",
              "47936    heer mevrouw zijn we  maanden verder en heb ik...\n",
              "47937    staan er voedingswaarden vermeld op de flessen...\n",
              "47938    [ORDER_NUMBER] had ik een servicecode ingevuld...\n",
              "47939    hi heb mijn bestelling net ontvangen had ook f...\n",
              "                               ...                        \n",
              "95906    bij op verzenden om je gesprek te starten in d...\n",
              "95907    doet het niet meer in de app op mobiel als tab...\n",
              "95908    kl vraagt hoe laat bz komtgoedenavond lang moe...\n",
              "95909    beste u mij vertellen wat de status van mijn k...\n",
              "95910    mijn bestelling komt elk moment doet mijn bel ...\n",
              "Name: clean_text, Length: 47976, dtype: object"
            ]
          },
          "metadata": {},
          "execution_count": 29
        }
      ]
    },
    {
      "cell_type": "markdown",
      "source": [
        "## Removing stop words"
      ],
      "metadata": {
        "id": "D-gprAC3ejCd"
      }
    },
    {
      "cell_type": "code",
      "source": [
        "# add custom words to the stopwords list\n",
        "custom_stopwords = [\"wens fijne avond\", \"fijne avond\", \"hi\", \"hoi\", \"hello\", \"hallo\", \"goedemorgen\", \"goedenavond\", \"goedenmiddag\", \"dankjewel\", \"danke\", \"dankje\", \"dank\", \"bedanken\", \"bedankt\", \"je chat met\", \"you are chatting with\", \"your chat with\", \"bedol je\", \"hello this is\", \"you are chatting with\", \"je spreekt met\", \"hello\", \"hallo\", \"kl\", \"bz\", \"aan\",\"aangaande\",\"aangezien\",\"achte\",\"achter\",\"achterna\",\"af\",\"afgelopen\",\"al\",\"aldaar\",\"aldus\",\"alhoewel\",\"alias\",\"alle\",\"allebei\",\"alleen\",\"alles\",\"als\",\"alsnog\",\"altijd\",\"altoos\",\"ander\",\"andere\",\"anders\",\"anderszins\",\"beetje\",\"behalve\",\"behoudens\",\"beide\",\"beiden\",\"ben\",\"beneden\",\"bent\",\"bepaald\",\"betreffende\",\"bij\",\"bijna\",\"bijv\",\"binnen\",\"binnenin\",\"blijkbaar\",\"blijken\",\"boven\",\"bovenal\",\"bovendien\",\"bovengenoemd\",\"bovenstaand\",\"bovenvermeld\",\"buiten\",\"bv\",\"daar\",\"daardoor\",\"daarheen\",\"daarin\",\"daarna\",\"daarnet\",\"daarom\",\"daarop\",\"daaruit\",\"daarvanlangs\",\"dan\",\"dat\",\"de\",\"deden\",\"deed\",\"der\",\"derde\",\"derhalve\",\"dertig\",\"deze\",\"dhr\",\"die\",\"dikwijls\",\"dit\",\"doch\",\"doe\",\"doen\",\"doet\",\"door\",\"doorgaand\",\"drie\",\"duizend\",\"dus\",\"echter\",\"een\",\"eens\",\"eer\",\"eerdat\",\"eerder\",\"eerlang\",\"eerst\",\"eerste\",\"eigen\",\"eigenlijk\",\"elk\",\"elke\",\"en\",\"enig\",\"enige\",\"enigszins\",\"enkel\",\"er\",\"erdoor\",\"erg\",\"ergens\",\"etc\",\"etcetera\",\"even\",\"eveneens\",\"evenwel\",\"gauw\",\"ge\",\"gedurende\",\"geen\",\"gehad\",\"gekund\",\"geleden\",\"gelijk\",\"gemoeten\",\"gemogen\",\"genoeg\",\"geweest\",\"gewoon\",\"gewoonweg\",\"haar\",\"haarzelf\",\"had\",\"hadden\",\"hare\",\"heb\",\"hebben\",\"hebt\",\"hedden\",\"heeft\",\"heel\",\"hem\",\"hemzelf\",\"hen\",\"het\",\"hetzelfde\",\"hier\",\"hierbeneden\",\"hierboven\",\"hierin\",\"hierna\",\"hierom\",\"hij\",\"hijzelf\",\"hoe\",\"hoewel\",\"honderd\",\"hun\",\"hunne\",\"ieder\",\"iedere\",\"iedereen\",\"iemand\",\"iets\",\"ik\",\"ikzelf\",\"in\",\"inderdaad\",\"inmiddels\",\"intussen\",\"inzake\",\"is\",\"ja\",\"je\",\"jezelf\",\"jij\",\"jijzelf\",\"jou\",\"jouw\",\"jouwe\",\"juist\",\"jullie\",\"kan\",\"klaar\",\"kon\",\"konden\",\"krachtens\",\"kun\",\"kunnen\",\"kunt\",\"laatst\",\"later\",\"liever\",\"lijken\",\"lijkt\",\"maak\",\"maakt\",\"maakte\",\"maakten\",\"maar\",\"mag\",\"maken\",\"me\",\"meer\",\"meest\",\"meestal\",\"men\",\"met\",\"mevr\",\"mezelf\",\"mij\",\"mijn\",\"mijnent\",\"mijner\",\"mijzelf\",\"minder\",\"miss\",\"misschien\",\"missen\",\"mits\",\"mocht\",\"mochten\",\"moest\",\"moesten\",\"moet\",\"moeten\",\"mogen\",\"mr\",\"mrs\",\"mw\",\"na\",\"naar\",\"nadat\",\"nam\",\"namelijk\",\"nee\",\"neem\",\"negen\",\"nemen\",\"nergens\",\"net\",\"niemand\",\"niet\",\"niets\",\"niks\",\"noch\",\"nochtans\",\"nog\",\"nogal\",\"nooit\",\"nu\",\"nv\",\"of\",\"ofschoon\",\"om\",\"omdat\",\"omhoog\",\"omlaag\",\"omstreeks\",\"omtrent\",\"omver\",\"ondanks\",\"onder\",\"ondertussen\",\"ongeveer\",\"ons\",\"onszelf\",\"onze\",\"onzeker\",\"ooit\",\"ook\",\"op\",\"opnieuw\",\"opzij\",\"over\",\"overal\",\"overeind\",\"overige\",\"overigens\",\"paar\",\"pas\",\"per\",\"precies\",\"recent\",\"redelijk\",\"reeds\",\"rond\",\"rondom\",\"samen\",\"sedert\",\"sinds\",\"sindsdien\",\"slechts\",\"sommige\",\"spoedig\",\"steeds\",\"tamelijk\",\"te\",\"tegen\",\"tegenover\",\"tenzij\",\"terwijl\",\"thans\",\"tien\",\"tiende\",\"tijdens\",\"tja\",\"toch\",\"toe\",\"toen\",\"toenmaals\",\"toenmalig\",\"tot\",\"totdat\",\"tussen\",\"twee\",\"tweede\",\"u\",\"uit\",\"uitgezonderd\",\"uw\",\"vaak\",\"vaakwat\",\"van\",\"vanaf\",\"vandaan\",\"vanuit\",\"vanwege\",\"veel\",\"veeleer\",\"veertig\",\"verder\",\"verscheidene\",\"verschillende\",\"vervolgens\",\"via\",\"vier\",\"vierde\",\"vijf\",\"vijfde\",\"vijftig\",\"vol\",\"volgend\",\"volgens\",\"voor\",\"vooraf\",\"vooral\",\"vooralsnog\",\"voorbij\",\"voordat\",\"voordezen\",\"voordien\",\"voorheen\",\"voorop\",\"voorts\",\"vooruit\",\"vrij\",\"vroeg\",\"waar\",\"waarom\",\"waarschijnlijk\",\"wanneer\",\"want\",\"waren\",\"was\",\"wat\",\"we\",\"wederom\",\"weer\",\"weg\",\"wegens\",\"weinig\",\"wel\",\"weldra\",\"welk\",\"welke\",\"werd\",\"werden\",\"werder\",\"wezen\",\"whatever\",\"wie\",\"wiens\",\"wier\",\"wij\",\"wijzelf\",\"wil\",\"wilden\",\"willen\",\"word\",\"worden\",\"wordt\",\"zal\",\"ze\",\"zei\",\"zeker\",\"zelf\",\"zelfde\",\"zelfs\",\"zes\",\"zeven\",\"zich\",\"zichzelf\",\"zij\",\"zijn\",\"zijne\",\"zijzelf\",\"zo\",\"zoals\",\"zodat\",\"zodra\",\"zonder\",\"zou\",\"zouden\",\"zowat\",\"zulk\",\"zulke\",\"zullen\",\"zult\"]"
      ],
      "metadata": {
        "id": "XTC-1vx3jxWY"
      },
      "execution_count": null,
      "outputs": []
    },
    {
      "cell_type": "code",
      "source": [
        "def remove_stopwords(text):\n",
        "  \n",
        "  # load the default stopwords list from NLTK for Dutch, German and English and add custom stopwords\n",
        "    stop_words = set(stopwords.words(\"dutch\")).union(set(stopwords.words(\"english\"))).union(custom_stopwords)\n",
        "    tokens = nltk.word_tokenize(text)\n",
        "    filtered_tokens = [token for token in tokens if token.lower() not in stop_words]\n",
        "    \n",
        "    if len(filtered_tokens) > 1:\n",
        "        masked_text = \" \".join(filtered_tokens)\n",
        "        masked_text = masked_text.replace(\"[ \", \"[\")\n",
        "        masked_text = masked_text.replace(\" ]\", \"]\")\n",
        "        return masked_text\n",
        "    else:\n",
        "        return None"
      ],
      "metadata": {
        "id": "sDaLQO_meix0"
      },
      "execution_count": null,
      "outputs": []
    },
    {
      "cell_type": "code",
      "source": [
        "# apply the function to each text in your data\n",
        "whapp[\"stopw_descr\"] = whapp[\"clean_text\"].apply(remove_stopwords)"
      ],
      "metadata": {
        "id": "Y8FtfjaekO7Q"
      },
      "execution_count": null,
      "outputs": []
    },
    {
      "cell_type": "code",
      "source": [
        "whapp[\"descr\"][47935]"
      ],
      "metadata": {
        "id": "BHV12otrlmpa",
        "colab": {
          "base_uri": "https://localhost:8080/",
          "height": 91
        },
        "outputId": "6a676d7b-cb8c-474a-aefe-41b3070ee325"
      },
      "execution_count": null,
      "outputs": [
        {
          "output_type": "execute_result",
          "data": {
            "text/plain": [
              "'Dag, ik had een probleem met mijn bestelling van 14/2/23 gemeld. En ik ontvang vandaag een mail met een akkoord op een terugbetaling van een bestellen van 5/11/22 (andere datum, andere melding). Denk dat er iets niet goed gaat?? Hallo Antoinette , je chat met Rubin. Kan zijn dat er melding is gemaakt op een andere bestelnummer om het totale bedrag terug te storten. Maar heb je een screenshot? Dan kan ik met je meekijken, ik hoor graag van je. Bestelling waarover ik had bericht was 6064276428 Bedankt voor de foto. Volgens het systeem is te zien dat er een fout is gemaakt met de datum.Het gaat om hetzelfde bedrag 😊. Ik hoop je voldoende te hebben geinformeerd. Fijne avond!'"
            ],
            "application/vnd.google.colaboratory.intrinsic+json": {
              "type": "string"
            }
          },
          "metadata": {},
          "execution_count": 33
        }
      ]
    },
    {
      "cell_type": "code",
      "source": [
        "whapp[\"stopw_descr\"][47935]"
      ],
      "metadata": {
        "colab": {
          "base_uri": "https://localhost:8080/",
          "height": 55
        },
        "id": "2ab43JaKlLmz",
        "outputId": "c8e87b4f-869a-46bb-d48b-cd292f2e5359"
      },
      "execution_count": null,
      "outputs": [
        {
          "output_type": "execute_result",
          "data": {
            "text/plain": [
              "'probleem bestelling gemeld ontvang vandaag mail akkoord terugbetaling bestellen datum melding goed gaat chat melding gemaakt bestelnummer totale bedrag terug storten screenshot meekijken hoor graag bestelling waarover bericht [ORDER_NUMBER] foto systeem zien fout gemaakt datumhet gaat bedrag hoop voldoende geinformeerd avond'"
            ],
            "application/vnd.google.colaboratory.intrinsic+json": {
              "type": "string"
            }
          },
          "metadata": {},
          "execution_count": 34
        }
      ]
    },
    {
      "cell_type": "code",
      "source": [
        "whapp[\"descr\"][95908]"
      ],
      "metadata": {
        "colab": {
          "base_uri": "https://localhost:8080/",
          "height": 55
        },
        "id": "p3shSciYb6a1",
        "outputId": "cf2f6bd2-9e62-496d-b08b-b4cd9c732ec4"
      },
      "execution_count": null,
      "outputs": [
        {
          "output_type": "execute_result",
          "data": {
            "text/plain": [
              "'kl vraagt hoe laat bz komtGoedenavond, Hoe lang moet ik nog wachten op mijn bestellen EndUserOptedIn Berichten in deze chat en gesprekken zullen worden bewaard zodat Jumbo je kan beantwoorden. Hallo Rosanna, je chat met Grace. Ik zie dat je bestelling gister al is bezorgd, excuses voor de late reactie! Ik wens je een fijne avond :)'"
            ],
            "application/vnd.google.colaboratory.intrinsic+json": {
              "type": "string"
            }
          },
          "metadata": {},
          "execution_count": 35
        }
      ]
    },
    {
      "cell_type": "code",
      "source": [
        "whapp[\"stopw_descr\"][95908]"
      ],
      "metadata": {
        "colab": {
          "base_uri": "https://localhost:8080/",
          "height": 36
        },
        "id": "D-by63ZDYLMG",
        "outputId": "ba608336-4f33-46a0-d3e9-f87e948e00d6"
      },
      "execution_count": null,
      "outputs": [
        {
          "output_type": "execute_result",
          "data": {
            "text/plain": [
              "'vraagt laat komtgoedenavond lang wachten bestellen chat gesprekken bewaard beantwoorden chat bestelling gister bezorgd excuses late reactie wens fijne avond'"
            ],
            "application/vnd.google.colaboratory.intrinsic+json": {
              "type": "string"
            }
          },
          "metadata": {},
          "execution_count": 36
        }
      ]
    },
    {
      "cell_type": "markdown",
      "source": [
        "### Fix the types"
      ],
      "metadata": {
        "id": "XKUuEaM8f58o"
      }
    },
    {
      "cell_type": "code",
      "source": [
        "whapp.dtypes"
      ],
      "metadata": {
        "colab": {
          "base_uri": "https://localhost:8080/"
        },
        "id": "W0fAwvxubu5B",
        "outputId": "1d20d76d-662f-4e38-b779-7317a99f9945"
      },
      "execution_count": null,
      "outputs": [
        {
          "output_type": "execute_result",
          "data": {
            "text/plain": [
              "descr          object\n",
              "source         object\n",
              "clean_descr    object\n",
              "clean_text     object\n",
              "stopw_descr    object\n",
              "dtype: object"
            ]
          },
          "metadata": {},
          "execution_count": 44
        }
      ]
    },
    {
      "cell_type": "code",
      "source": [
        "whapp[\"stopw\"] = whapp[\"stopw_descr\"]"
      ],
      "metadata": {
        "id": "ih4ZB3sIb0N4"
      },
      "execution_count": null,
      "outputs": []
    },
    {
      "cell_type": "code",
      "source": [
        "whapp[\"stopw\"] = whapp[\"stopw\"].astype(\"string\")"
      ],
      "metadata": {
        "id": "bWFDBAB7b7ZR"
      },
      "execution_count": null,
      "outputs": []
    },
    {
      "cell_type": "code",
      "source": [
        "whapp.isnull().sum()"
      ],
      "metadata": {
        "colab": {
          "base_uri": "https://localhost:8080/"
        },
        "id": "jz1XXu8ocYyx",
        "outputId": "812b7870-36c9-4950-d1eb-7bc76820dfca"
      },
      "execution_count": null,
      "outputs": [
        {
          "output_type": "execute_result",
          "data": {
            "text/plain": [
              "descr            0\n",
              "source           0\n",
              "clean_descr      0\n",
              "clean_text       0\n",
              "stopw_descr    432\n",
              "stopw          432\n",
              "dtype: int64"
            ]
          },
          "metadata": {},
          "execution_count": 47
        }
      ]
    },
    {
      "cell_type": "code",
      "source": [
        "# drop the nan values\n",
        "whapp.dropna(subset=[\"stopw_descr\"], inplace=True)"
      ],
      "metadata": {
        "id": "CiZxb5pYclgT"
      },
      "execution_count": null,
      "outputs": []
    },
    {
      "cell_type": "code",
      "source": [
        "whapp[\"stopw_descr\"][95908]"
      ],
      "metadata": {
        "colab": {
          "base_uri": "https://localhost:8080/",
          "height": 36
        },
        "id": "hjaUcZLDfcyB",
        "outputId": "a6a98cb7-b9a5-4020-fd5d-344ce1afa5f2"
      },
      "execution_count": null,
      "outputs": [
        {
          "output_type": "execute_result",
          "data": {
            "text/plain": [
              "'vraagt laat komtgoedenavond lang wachten bestellen chat gesprekken bewaard beantwoorden chat bestelling gister bezorgd excuses late reactie wens fijne avond'"
            ],
            "application/vnd.google.colaboratory.intrinsic+json": {
              "type": "string"
            }
          },
          "metadata": {},
          "execution_count": 51
        }
      ]
    },
    {
      "cell_type": "markdown",
      "source": [
        "## Lemmatize words"
      ],
      "metadata": {
        "id": "wLBxW-g6l0dM"
      }
    },
    {
      "cell_type": "code",
      "source": [
        "nlp_nl = spacy.load(\"nl_core_news_sm\")\n",
        "nlp_en = spacy.load(\"en_core_web_sm\")\n",
        "\n",
        "def lemmatize_text(text, lang=\"nl\"):\n",
        "    if lang == \"nl\":\n",
        "        nlp = nlp_nl\n",
        "    elif lang == \"en\":\n",
        "        nlp = nlp_en\n",
        "    else:\n",
        "        raise ValueError(f\"Unsupported language: {lang}\")\n",
        "\n",
        "    doc = nlp(text)\n",
        "    lemmatized_tokens = [token.lemma_.lower() for token in doc]    \n",
        "\n",
        "    return \" \".join(lemmatized_tokens)"
      ],
      "metadata": {
        "id": "owhDC6Kel0F9"
      },
      "execution_count": null,
      "outputs": []
    },
    {
      "cell_type": "code",
      "source": [
        "whapp[\"lemmatized\"] = whapp[\"stopw_descr\"].apply(lambda x: lemmatize_text(x))"
      ],
      "metadata": {
        "id": "Iu3jStStjyW4"
      },
      "execution_count": null,
      "outputs": []
    },
    {
      "cell_type": "code",
      "source": [
        "whapp[\"lemmatized\"]"
      ],
      "metadata": {
        "colab": {
          "base_uri": "https://localhost:8080/"
        },
        "id": "jc57Xb2ypNmG",
        "outputId": "fe4275fb-32dd-4ace-e616-0f8b58f4e1ec"
      },
      "execution_count": null,
      "outputs": [
        {
          "output_type": "execute_result",
          "data": {
            "text/plain": [
              "47935    probleem bestelling melden ontvang vandaag mai...\n",
              "47936    heer mevrouw maand race auto ontvangen lang sn...\n",
              "47937    staan voedingswaarden vermelden fles wijn verk...\n",
              "47938    [ order_number ] servicecode invullen euro kor...\n",
              "47939    bestelling ontvangen fles inleveren groot klei...\n",
              "                               ...                        \n",
              "95906    verzend gesprek starten chat gesprek bewaren b...\n",
              "95907    app mobiel tablet meerdere keer verwijderen ns...\n",
              "95908    vragen laat komtgoedenavinden lang wachten bes...\n",
              "95909      goed vertellen status klacht behandeling excuus\n",
              "95910    bestelling komen moment bellen uur doordat str...\n",
              "Name: lemmatized, Length: 47544, dtype: object"
            ]
          },
          "metadata": {},
          "execution_count": 53
        }
      ]
    },
    {
      "cell_type": "code",
      "source": [
        "whapp[\"lemmatized\"][95908]"
      ],
      "metadata": {
        "colab": {
          "base_uri": "https://localhost:8080/",
          "height": 36
        },
        "id": "o7vsqeGZfU3W",
        "outputId": "93db63d1-d2ab-43f0-f74e-3640f78c9eba"
      },
      "execution_count": null,
      "outputs": [
        {
          "output_type": "execute_result",
          "data": {
            "text/plain": [
              "'vragen laat komtgoedenavinden lang wachten bestellen chat gesprek bewaren beantwoorden chat bestelling gister bezorgd excuus laat reactie wens fijn avond'"
            ],
            "application/vnd.google.colaboratory.intrinsic+json": {
              "type": "string"
            }
          },
          "metadata": {},
          "execution_count": 54
        }
      ]
    },
    {
      "cell_type": "code",
      "source": [
        "whapp[\"stopw_descr\"][47935]"
      ],
      "metadata": {
        "id": "HTLuXA_BoxWe"
      },
      "execution_count": null,
      "outputs": []
    },
    {
      "cell_type": "code",
      "source": [
        "whapp[\"lemmatized\"][47935]"
      ],
      "metadata": {
        "id": "t4FGQsmOoraV"
      },
      "execution_count": null,
      "outputs": []
    },
    {
      "cell_type": "code",
      "source": [
        "# fix the masks after lemmatizing e.g. [ oder_number ] back to -> [ORDER_NUMBER]\n",
        "def replace_masks(text):\n",
        "    text = re.sub(r\"\\[\\s*order\\_number+\\s*\\]\", \"[ORDER_NUMBER]\", text)\n",
        "    text = re.sub(r\"\\[\\s*card\\_number+\\s*\\]\", \"[CARD_NUMBER]\", text)\n",
        "    text = re.sub(r\"\\[\\s*phone\\s*\\]\", \"[PHONE]\", text)\n",
        "    text = re.sub(r\"\\[\\s*email\\s*\\]\", \"[EMAIL]\", text)\n",
        "    text = re.sub(r\"\\[\\s*promo\\s*\\]\", \"[PROMO]\", text)\n",
        "    text = re.sub(r\"\\[\\s*receipt\\_number+\\s*\\]\", \"[RECEIPT_NUMBER]\", text)\n",
        "    \n",
        "    return text"
      ],
      "metadata": {
        "id": "c8zUG0LByr8O"
      },
      "execution_count": null,
      "outputs": []
    },
    {
      "cell_type": "code",
      "source": [
        "whapp[\"lemmatized\"] = whapp[\"lemmatized\"].apply(replace_masks)"
      ],
      "metadata": {
        "id": "7vAseTnuzglz"
      },
      "execution_count": null,
      "outputs": []
    },
    {
      "cell_type": "code",
      "source": [
        "whapp[\"lemmatized\"]"
      ],
      "metadata": {
        "colab": {
          "base_uri": "https://localhost:8080/"
        },
        "id": "zTNvCsJzzphI",
        "outputId": "76ea980f-0e9e-45fd-d264-9d552eddf0af"
      },
      "execution_count": null,
      "outputs": [
        {
          "output_type": "execute_result",
          "data": {
            "text/plain": [
              "47935    probleem bestelling melden ontvang vandaag mai...\n",
              "47936    heer mevrouw maand race auto ontvangen lang sn...\n",
              "47937    staan voedingswaarden vermelden fles wijn verk...\n",
              "47938    [ORDER_NUMBER] servicecode invullen euro korti...\n",
              "47939    bestelling ontvangen fles inleveren groot klei...\n",
              "                               ...                        \n",
              "95906    verzend gesprek starten chat gesprek bewaren b...\n",
              "95907    app mobiel tablet meerdere keer verwijderen ns...\n",
              "95908    vragen laat komtgoedenavinden lang wachten bes...\n",
              "95909      goed vertellen status klacht behandeling excuus\n",
              "95910    bestelling komen moment bellen uur doordat str...\n",
              "Name: lemmatized, Length: 47544, dtype: object"
            ]
          },
          "metadata": {},
          "execution_count": 57
        }
      ]
    },
    {
      "cell_type": "code",
      "source": [
        "# save the lemmatized dataframe\n",
        "data = whapp.to_csv(\"jumbo-lemmatized.csv\")"
      ],
      "metadata": {
        "id": "lY6TMGBh0UfO"
      },
      "execution_count": null,
      "outputs": []
    },
    {
      "cell_type": "code",
      "source": [
        "data = pd.read_csv(\"/content/drive/MyDrive/datasets/jumbo-lemmatized.csv\")"
      ],
      "metadata": {
        "id": "ajY2EdZ8nvyI"
      },
      "execution_count": null,
      "outputs": []
    },
    {
      "cell_type": "code",
      "source": [
        "data.head(20)"
      ],
      "metadata": {
        "colab": {
          "base_uri": "https://localhost:8080/",
          "height": 3996
        },
        "id": "W6QYzA9OoAO8",
        "outputId": "870615eb-b5e6-46fa-8ae0-78934b51181b"
      },
      "execution_count": null,
      "outputs": [
        {
          "output_type": "execute_result",
          "data": {
            "text/plain": [
              "    Unnamed: 0                                              descr    source  \\\n",
              "0        47935  Dag, ik had een probleem met mijn bestelling v...  WhatsApp   \n",
              "1        47936  Beste heer mevrouw Inmiddels zijn we 3 maanden...  WhatsApp   \n",
              "2        47937  Hallo, staan er voedingswaarden vermeld op de ...  WhatsApp   \n",
              "3        47938  Bij Bestelling: 6057976661 had ik een servicec...  WhatsApp   \n",
              "4        47939  Hi! Ik heb mijn bestelling net ontvangen. Ik h...  WhatsApp   \n",
              "5        47940  Hello, is it possible to have this conversatio...  WhatsApp   \n",
              "6        47941  Hallo ik wil even door geven dat ik morgen een...  WhatsApp   \n",
              "7        47942  Hallo Jumbo! Ik probeer artikelen aan mijn bes...  WhatsApp   \n",
              "8        47943  Goedenmiddag. Ik had 4 repen verkade besteld 1...  WhatsApp   \n",
              "9        47944  Best Jumbo, ik heb nog geen terug betaling ont...  WhatsApp   \n",
              "10       47945  Goede morgen ik wacht als sinds 8:00 op mijn b...  WhatsApp   \n",
              "11       47946  Hoi Wij missen een aantal producten bij onze b...  WhatsApp   \n",
              "12       47947  Goedemiddag, de app geeft geen besteltijd meer...  WhatsApp   \n",
              "13       47948  Goedenavond, het is al niet meer nodig, ze hee...  WhatsApp   \n",
              "14       47949  Ik ben klaar met mijn boodschappenlijst maar e...  WhatsApp   \n",
              "15       47950  Volgens mij zitten de gratis producten er niet...  WhatsApp   \n",
              "16       47951  Hallo, ik probeer al een tijdje een online bes...  WhatsApp   \n",
              "17       47952  Goedendag, ik ben benieuwd waar ik mijn nr van...  WhatsApp   \n",
              "18       47953  Dit heb ik gedaan Op welk pasnummer worden ze ...  WhatsApp   \n",
              "19       47954  Wij willen online bestellen. Hebben een code v...  WhatsApp   \n",
              "\n",
              "                                          clean_descr  \\\n",
              "0   dag ik had een probleem met mijn bestelling va...   \n",
              "1   beste heer mevrouw inmiddels zijn we  maanden ...   \n",
              "2   hallo staan er voedingswaarden vermeld op de f...   \n",
              "3   bij bestelling [ORDER_NUMBER] had ik een servi...   \n",
              "4   hi ik heb mijn bestelling net ontvangen ik had...   \n",
              "5   hello is it possible to have this conversation...   \n",
              "6   hallo ik wil even door geven dat ik morgen een...   \n",
              "7   hallo jumbo ik probeer artikelen aan mijn best...   \n",
              "8   goedenmiddag ik had  repen verkade besteld  wa...   \n",
              "9   best jumbo ik heb nog geen terug betaling ontv...   \n",
              "10  goede morgen ik wacht als sinds  op mijn boods...   \n",
              "11  hoi wij missen een aantal producten bij onze b...   \n",
              "12  goedemiddag de app geeft geen besteltijd meer ...   \n",
              "13  goedenavond het is al niet meer nodig ze heeft...   \n",
              "14  ik ben klaar met mijn boodschappenlijst maar e...   \n",
              "15  volgens mij zitten de gratis producten er niet...   \n",
              "16  hallo ik probeer al een tijdje een online best...   \n",
              "17  goedendag ik ben benieuwd waar ik mijn nr van ...   \n",
              "18  dit heb ik gedaan op welk pasnummer worden ze ...   \n",
              "19  wij willen online bestellen hebben een code vi...   \n",
              "\n",
              "                                          stopw_descr  \\\n",
              "0   dag probleem bestelling gemeld ontvang vandaag...   \n",
              "1   beste heer mevrouw inmiddels maanden verder st...   \n",
              "2   staan voedingswaarden vermeld flessen wijn ver...   \n",
              "3   bestelling [ORDER_NUMBER] servicecode ingevuld...   \n",
              "4   hi bestelling net ontvangen flessen ingeleverd...   \n",
              "5   possible conversation english made refund requ...   \n",
              "6   even geven morgen dubbele betaling verleden we...   \n",
              "7   jumbo probeer artikelen bestelling toe voegen ...   \n",
              "8   goedenmiddag repen verkade besteld leverbaar g...   \n",
              "9   best jumbo terug betaling ontvangen sinds laat...   \n",
              "10  goede morgen wacht sinds boodschappen alleen s...   \n",
              "11  hoi wij missen aantal producten onze bestellin...   \n",
              "12  goedemiddag app geeft besteltijd alle bestelli...   \n",
              "13  goedenavond nodig servicedesk opgelost fijne a...   \n",
              "14  klaar boodschappenlijst staat mis kunt zien mi...   \n",
              "15  volgens zitten gratis producten brechtild chat...   \n",
              "16  probeer tijdje online bestelling jullie app lu...   \n",
              "17  goedendag benieuwd waar nr spaarpunten vinden ...   \n",
              "18  gedaan welk pasnummer bijgeschreven [CARD_NUMB...   \n",
              "19  wij willen online bestellen code via mail ontv...   \n",
              "\n",
              "                                                stopw  \\\n",
              "0   dag probleem bestelling gemeld ontvang vandaag...   \n",
              "1   beste heer mevrouw inmiddels maanden verder st...   \n",
              "2   staan voedingswaarden vermeld flessen wijn ver...   \n",
              "3   bestelling [ORDER_NUMBER] servicecode ingevuld...   \n",
              "4   hi bestelling net ontvangen flessen ingeleverd...   \n",
              "5   possible conversation english made refund requ...   \n",
              "6   even geven morgen dubbele betaling verleden we...   \n",
              "7   jumbo probeer artikelen bestelling toe voegen ...   \n",
              "8   goedenmiddag repen verkade besteld leverbaar g...   \n",
              "9   best jumbo terug betaling ontvangen sinds laat...   \n",
              "10  goede morgen wacht sinds boodschappen alleen s...   \n",
              "11  hoi wij missen aantal producten onze bestellin...   \n",
              "12  goedemiddag app geeft besteltijd alle bestelli...   \n",
              "13  goedenavond nodig servicedesk opgelost fijne a...   \n",
              "14  klaar boodschappenlijst staat mis kunt zien mi...   \n",
              "15  volgens zitten gratis producten brechtild chat...   \n",
              "16  probeer tijdje online bestelling jullie app lu...   \n",
              "17  goedendag benieuwd waar nr spaarpunten vinden ...   \n",
              "18  gedaan welk pasnummer bijgeschreven [CARD_NUMB...   \n",
              "19  wij willen online bestellen code via mail ontv...   \n",
              "\n",
              "                                           lemmatized  \n",
              "0   dag probleem bestelling melden ontvang vandaag...  \n",
              "1   goed heer mevrouw inmiddels maand ver steeds r...  \n",
              "2   staan voedingswaarden vermelden fles wijn verk...  \n",
              "3   bestelling [ORDER_NUMBER] servicecode invullen...  \n",
              "4   hi bestelling net ontvangen fles inleveren gro...  \n",
              "5   possible conversation english made refund requ...  \n",
              "6   even geven morgen dubbel betaling verleden wee...  \n",
              "7   jumbo proberen artikel bestelling toe voegen a...  \n",
              "8   goedenmiddag repen verkade bestellen leverbaar...  \n",
              "9   best jumbo terug betaling ontvangen sinds laat...  \n",
              "10  goed morgen wachten sinds boodschapp alleen st...  \n",
              "11  hoi wij missen aantal product ons bestelling c...  \n",
              "12  goedemiddag app geven besteltijd al bestelling...  \n",
              "13  goedenavond nodig servicedesk oplossen fijn av...  \n",
              "14  klaar boodschappenlijst staan mis kunnen zien ...  \n",
              "15  volgens zitten gratis product brechtild chat g...  \n",
              "16  proberen tijd online bestelling jullie app luk...  \n",
              "17  goedendag benieuwd waar nummer spaarpunen vind...  \n",
              "18  doen welk pasnummer bijgeschreven [CARD_NUMBER...  \n",
              "19  wij willen online bestellen code via mail ontv...  "
            ],
            "text/html": [
              "\n",
              "  <div id=\"df-6e4d4815-2331-4f0a-9e0f-a0d3111d2dc0\">\n",
              "    <div class=\"colab-df-container\">\n",
              "      <div>\n",
              "<style scoped>\n",
              "    .dataframe tbody tr th:only-of-type {\n",
              "        vertical-align: middle;\n",
              "    }\n",
              "\n",
              "    .dataframe tbody tr th {\n",
              "        vertical-align: top;\n",
              "    }\n",
              "\n",
              "    .dataframe thead th {\n",
              "        text-align: right;\n",
              "    }\n",
              "</style>\n",
              "<table border=\"1\" class=\"dataframe\">\n",
              "  <thead>\n",
              "    <tr style=\"text-align: right;\">\n",
              "      <th></th>\n",
              "      <th>Unnamed: 0</th>\n",
              "      <th>descr</th>\n",
              "      <th>source</th>\n",
              "      <th>clean_descr</th>\n",
              "      <th>stopw_descr</th>\n",
              "      <th>stopw</th>\n",
              "      <th>lemmatized</th>\n",
              "    </tr>\n",
              "  </thead>\n",
              "  <tbody>\n",
              "    <tr>\n",
              "      <th>0</th>\n",
              "      <td>47935</td>\n",
              "      <td>Dag, ik had een probleem met mijn bestelling v...</td>\n",
              "      <td>WhatsApp</td>\n",
              "      <td>dag ik had een probleem met mijn bestelling va...</td>\n",
              "      <td>dag probleem bestelling gemeld ontvang vandaag...</td>\n",
              "      <td>dag probleem bestelling gemeld ontvang vandaag...</td>\n",
              "      <td>dag probleem bestelling melden ontvang vandaag...</td>\n",
              "    </tr>\n",
              "    <tr>\n",
              "      <th>1</th>\n",
              "      <td>47936</td>\n",
              "      <td>Beste heer mevrouw Inmiddels zijn we 3 maanden...</td>\n",
              "      <td>WhatsApp</td>\n",
              "      <td>beste heer mevrouw inmiddels zijn we  maanden ...</td>\n",
              "      <td>beste heer mevrouw inmiddels maanden verder st...</td>\n",
              "      <td>beste heer mevrouw inmiddels maanden verder st...</td>\n",
              "      <td>goed heer mevrouw inmiddels maand ver steeds r...</td>\n",
              "    </tr>\n",
              "    <tr>\n",
              "      <th>2</th>\n",
              "      <td>47937</td>\n",
              "      <td>Hallo, staan er voedingswaarden vermeld op de ...</td>\n",
              "      <td>WhatsApp</td>\n",
              "      <td>hallo staan er voedingswaarden vermeld op de f...</td>\n",
              "      <td>staan voedingswaarden vermeld flessen wijn ver...</td>\n",
              "      <td>staan voedingswaarden vermeld flessen wijn ver...</td>\n",
              "      <td>staan voedingswaarden vermelden fles wijn verk...</td>\n",
              "    </tr>\n",
              "    <tr>\n",
              "      <th>3</th>\n",
              "      <td>47938</td>\n",
              "      <td>Bij Bestelling: 6057976661 had ik een servicec...</td>\n",
              "      <td>WhatsApp</td>\n",
              "      <td>bij bestelling [ORDER_NUMBER] had ik een servi...</td>\n",
              "      <td>bestelling [ORDER_NUMBER] servicecode ingevuld...</td>\n",
              "      <td>bestelling [ORDER_NUMBER] servicecode ingevuld...</td>\n",
              "      <td>bestelling [ORDER_NUMBER] servicecode invullen...</td>\n",
              "    </tr>\n",
              "    <tr>\n",
              "      <th>4</th>\n",
              "      <td>47939</td>\n",
              "      <td>Hi! Ik heb mijn bestelling net ontvangen. Ik h...</td>\n",
              "      <td>WhatsApp</td>\n",
              "      <td>hi ik heb mijn bestelling net ontvangen ik had...</td>\n",
              "      <td>hi bestelling net ontvangen flessen ingeleverd...</td>\n",
              "      <td>hi bestelling net ontvangen flessen ingeleverd...</td>\n",
              "      <td>hi bestelling net ontvangen fles inleveren gro...</td>\n",
              "    </tr>\n",
              "    <tr>\n",
              "      <th>5</th>\n",
              "      <td>47940</td>\n",
              "      <td>Hello, is it possible to have this conversatio...</td>\n",
              "      <td>WhatsApp</td>\n",
              "      <td>hello is it possible to have this conversation...</td>\n",
              "      <td>possible conversation english made refund requ...</td>\n",
              "      <td>possible conversation english made refund requ...</td>\n",
              "      <td>possible conversation english made refund requ...</td>\n",
              "    </tr>\n",
              "    <tr>\n",
              "      <th>6</th>\n",
              "      <td>47941</td>\n",
              "      <td>Hallo ik wil even door geven dat ik morgen een...</td>\n",
              "      <td>WhatsApp</td>\n",
              "      <td>hallo ik wil even door geven dat ik morgen een...</td>\n",
              "      <td>even geven morgen dubbele betaling verleden we...</td>\n",
              "      <td>even geven morgen dubbele betaling verleden we...</td>\n",
              "      <td>even geven morgen dubbel betaling verleden wee...</td>\n",
              "    </tr>\n",
              "    <tr>\n",
              "      <th>7</th>\n",
              "      <td>47942</td>\n",
              "      <td>Hallo Jumbo! Ik probeer artikelen aan mijn bes...</td>\n",
              "      <td>WhatsApp</td>\n",
              "      <td>hallo jumbo ik probeer artikelen aan mijn best...</td>\n",
              "      <td>jumbo probeer artikelen bestelling toe voegen ...</td>\n",
              "      <td>jumbo probeer artikelen bestelling toe voegen ...</td>\n",
              "      <td>jumbo proberen artikel bestelling toe voegen a...</td>\n",
              "    </tr>\n",
              "    <tr>\n",
              "      <th>8</th>\n",
              "      <td>47943</td>\n",
              "      <td>Goedenmiddag. Ik had 4 repen verkade besteld 1...</td>\n",
              "      <td>WhatsApp</td>\n",
              "      <td>goedenmiddag ik had  repen verkade besteld  wa...</td>\n",
              "      <td>goedenmiddag repen verkade besteld leverbaar g...</td>\n",
              "      <td>goedenmiddag repen verkade besteld leverbaar g...</td>\n",
              "      <td>goedenmiddag repen verkade bestellen leverbaar...</td>\n",
              "    </tr>\n",
              "    <tr>\n",
              "      <th>9</th>\n",
              "      <td>47944</td>\n",
              "      <td>Best Jumbo, ik heb nog geen terug betaling ont...</td>\n",
              "      <td>WhatsApp</td>\n",
              "      <td>best jumbo ik heb nog geen terug betaling ontv...</td>\n",
              "      <td>best jumbo terug betaling ontvangen sinds laat...</td>\n",
              "      <td>best jumbo terug betaling ontvangen sinds laat...</td>\n",
              "      <td>best jumbo terug betaling ontvangen sinds laat...</td>\n",
              "    </tr>\n",
              "    <tr>\n",
              "      <th>10</th>\n",
              "      <td>47945</td>\n",
              "      <td>Goede morgen ik wacht als sinds 8:00 op mijn b...</td>\n",
              "      <td>WhatsApp</td>\n",
              "      <td>goede morgen ik wacht als sinds  op mijn boods...</td>\n",
              "      <td>goede morgen wacht sinds boodschappen alleen s...</td>\n",
              "      <td>goede morgen wacht sinds boodschappen alleen s...</td>\n",
              "      <td>goed morgen wachten sinds boodschapp alleen st...</td>\n",
              "    </tr>\n",
              "    <tr>\n",
              "      <th>11</th>\n",
              "      <td>47946</td>\n",
              "      <td>Hoi Wij missen een aantal producten bij onze b...</td>\n",
              "      <td>WhatsApp</td>\n",
              "      <td>hoi wij missen een aantal producten bij onze b...</td>\n",
              "      <td>hoi wij missen aantal producten onze bestellin...</td>\n",
              "      <td>hoi wij missen aantal producten onze bestellin...</td>\n",
              "      <td>hoi wij missen aantal product ons bestelling c...</td>\n",
              "    </tr>\n",
              "    <tr>\n",
              "      <th>12</th>\n",
              "      <td>47947</td>\n",
              "      <td>Goedemiddag, de app geeft geen besteltijd meer...</td>\n",
              "      <td>WhatsApp</td>\n",
              "      <td>goedemiddag de app geeft geen besteltijd meer ...</td>\n",
              "      <td>goedemiddag app geeft besteltijd alle bestelli...</td>\n",
              "      <td>goedemiddag app geeft besteltijd alle bestelli...</td>\n",
              "      <td>goedemiddag app geven besteltijd al bestelling...</td>\n",
              "    </tr>\n",
              "    <tr>\n",
              "      <th>13</th>\n",
              "      <td>47948</td>\n",
              "      <td>Goedenavond, het is al niet meer nodig, ze hee...</td>\n",
              "      <td>WhatsApp</td>\n",
              "      <td>goedenavond het is al niet meer nodig ze heeft...</td>\n",
              "      <td>goedenavond nodig servicedesk opgelost fijne a...</td>\n",
              "      <td>goedenavond nodig servicedesk opgelost fijne a...</td>\n",
              "      <td>goedenavond nodig servicedesk oplossen fijn av...</td>\n",
              "    </tr>\n",
              "    <tr>\n",
              "      <th>14</th>\n",
              "      <td>47949</td>\n",
              "      <td>Ik ben klaar met mijn boodschappenlijst maar e...</td>\n",
              "      <td>WhatsApp</td>\n",
              "      <td>ik ben klaar met mijn boodschappenlijst maar e...</td>\n",
              "      <td>klaar boodschappenlijst staat mis kunt zien mi...</td>\n",
              "      <td>klaar boodschappenlijst staat mis kunt zien mi...</td>\n",
              "      <td>klaar boodschappenlijst staan mis kunnen zien ...</td>\n",
              "    </tr>\n",
              "    <tr>\n",
              "      <th>15</th>\n",
              "      <td>47950</td>\n",
              "      <td>Volgens mij zitten de gratis producten er niet...</td>\n",
              "      <td>WhatsApp</td>\n",
              "      <td>volgens mij zitten de gratis producten er niet...</td>\n",
              "      <td>volgens zitten gratis producten brechtild chat...</td>\n",
              "      <td>volgens zitten gratis producten brechtild chat...</td>\n",
              "      <td>volgens zitten gratis product brechtild chat g...</td>\n",
              "    </tr>\n",
              "    <tr>\n",
              "      <th>16</th>\n",
              "      <td>47951</td>\n",
              "      <td>Hallo, ik probeer al een tijdje een online bes...</td>\n",
              "      <td>WhatsApp</td>\n",
              "      <td>hallo ik probeer al een tijdje een online best...</td>\n",
              "      <td>probeer tijdje online bestelling jullie app lu...</td>\n",
              "      <td>probeer tijdje online bestelling jullie app lu...</td>\n",
              "      <td>proberen tijd online bestelling jullie app luk...</td>\n",
              "    </tr>\n",
              "    <tr>\n",
              "      <th>17</th>\n",
              "      <td>47952</td>\n",
              "      <td>Goedendag, ik ben benieuwd waar ik mijn nr van...</td>\n",
              "      <td>WhatsApp</td>\n",
              "      <td>goedendag ik ben benieuwd waar ik mijn nr van ...</td>\n",
              "      <td>goedendag benieuwd waar nr spaarpunten vinden ...</td>\n",
              "      <td>goedendag benieuwd waar nr spaarpunten vinden ...</td>\n",
              "      <td>goedendag benieuwd waar nummer spaarpunen vind...</td>\n",
              "    </tr>\n",
              "    <tr>\n",
              "      <th>18</th>\n",
              "      <td>47953</td>\n",
              "      <td>Dit heb ik gedaan Op welk pasnummer worden ze ...</td>\n",
              "      <td>WhatsApp</td>\n",
              "      <td>dit heb ik gedaan op welk pasnummer worden ze ...</td>\n",
              "      <td>gedaan welk pasnummer bijgeschreven [CARD_NUMB...</td>\n",
              "      <td>gedaan welk pasnummer bijgeschreven [CARD_NUMB...</td>\n",
              "      <td>doen welk pasnummer bijgeschreven [CARD_NUMBER...</td>\n",
              "    </tr>\n",
              "    <tr>\n",
              "      <th>19</th>\n",
              "      <td>47954</td>\n",
              "      <td>Wij willen online bestellen. Hebben een code v...</td>\n",
              "      <td>WhatsApp</td>\n",
              "      <td>wij willen online bestellen hebben een code vi...</td>\n",
              "      <td>wij willen online bestellen code via mail ontv...</td>\n",
              "      <td>wij willen online bestellen code via mail ontv...</td>\n",
              "      <td>wij willen online bestellen code via mail ontv...</td>\n",
              "    </tr>\n",
              "  </tbody>\n",
              "</table>\n",
              "</div>\n",
              "      <button class=\"colab-df-convert\" onclick=\"convertToInteractive('df-6e4d4815-2331-4f0a-9e0f-a0d3111d2dc0')\"\n",
              "              title=\"Convert this dataframe to an interactive table.\"\n",
              "              style=\"display:none;\">\n",
              "        \n",
              "  <svg xmlns=\"http://www.w3.org/2000/svg\" height=\"24px\"viewBox=\"0 0 24 24\"\n",
              "       width=\"24px\">\n",
              "    <path d=\"M0 0h24v24H0V0z\" fill=\"none\"/>\n",
              "    <path d=\"M18.56 5.44l.94 2.06.94-2.06 2.06-.94-2.06-.94-.94-2.06-.94 2.06-2.06.94zm-11 1L8.5 8.5l.94-2.06 2.06-.94-2.06-.94L8.5 2.5l-.94 2.06-2.06.94zm10 10l.94 2.06.94-2.06 2.06-.94-2.06-.94-.94-2.06-.94 2.06-2.06.94z\"/><path d=\"M17.41 7.96l-1.37-1.37c-.4-.4-.92-.59-1.43-.59-.52 0-1.04.2-1.43.59L10.3 9.45l-7.72 7.72c-.78.78-.78 2.05 0 2.83L4 21.41c.39.39.9.59 1.41.59.51 0 1.02-.2 1.41-.59l7.78-7.78 2.81-2.81c.8-.78.8-2.07 0-2.86zM5.41 20L4 18.59l7.72-7.72 1.47 1.35L5.41 20z\"/>\n",
              "  </svg>\n",
              "      </button>\n",
              "      \n",
              "  <style>\n",
              "    .colab-df-container {\n",
              "      display:flex;\n",
              "      flex-wrap:wrap;\n",
              "      gap: 12px;\n",
              "    }\n",
              "\n",
              "    .colab-df-convert {\n",
              "      background-color: #E8F0FE;\n",
              "      border: none;\n",
              "      border-radius: 50%;\n",
              "      cursor: pointer;\n",
              "      display: none;\n",
              "      fill: #1967D2;\n",
              "      height: 32px;\n",
              "      padding: 0 0 0 0;\n",
              "      width: 32px;\n",
              "    }\n",
              "\n",
              "    .colab-df-convert:hover {\n",
              "      background-color: #E2EBFA;\n",
              "      box-shadow: 0px 1px 2px rgba(60, 64, 67, 0.3), 0px 1px 3px 1px rgba(60, 64, 67, 0.15);\n",
              "      fill: #174EA6;\n",
              "    }\n",
              "\n",
              "    [theme=dark] .colab-df-convert {\n",
              "      background-color: #3B4455;\n",
              "      fill: #D2E3FC;\n",
              "    }\n",
              "\n",
              "    [theme=dark] .colab-df-convert:hover {\n",
              "      background-color: #434B5C;\n",
              "      box-shadow: 0px 1px 3px 1px rgba(0, 0, 0, 0.15);\n",
              "      filter: drop-shadow(0px 1px 2px rgba(0, 0, 0, 0.3));\n",
              "      fill: #FFFFFF;\n",
              "    }\n",
              "  </style>\n",
              "\n",
              "      <script>\n",
              "        const buttonEl =\n",
              "          document.querySelector('#df-6e4d4815-2331-4f0a-9e0f-a0d3111d2dc0 button.colab-df-convert');\n",
              "        buttonEl.style.display =\n",
              "          google.colab.kernel.accessAllowed ? 'block' : 'none';\n",
              "\n",
              "        async function convertToInteractive(key) {\n",
              "          const element = document.querySelector('#df-6e4d4815-2331-4f0a-9e0f-a0d3111d2dc0');\n",
              "          const dataTable =\n",
              "            await google.colab.kernel.invokeFunction('convertToInteractive',\n",
              "                                                     [key], {});\n",
              "          if (!dataTable) return;\n",
              "\n",
              "          const docLinkHtml = 'Like what you see? Visit the ' +\n",
              "            '<a target=\"_blank\" href=https://colab.research.google.com/notebooks/data_table.ipynb>data table notebook</a>'\n",
              "            + ' to learn more about interactive tables.';\n",
              "          element.innerHTML = '';\n",
              "          dataTable['output_type'] = 'display_data';\n",
              "          await google.colab.output.renderOutput(dataTable, element);\n",
              "          const docLink = document.createElement('div');\n",
              "          docLink.innerHTML = docLinkHtml;\n",
              "          element.appendChild(docLink);\n",
              "        }\n",
              "      </script>\n",
              "    </div>\n",
              "  </div>\n",
              "  "
            ],
            "application/vnd.google.colaboratory.module+javascript": "\n      import \"https://ssl.gstatic.com/colaboratory/data_table/99dac6621f6ae8c4/data_table.js\";\n\n      window.createDataTable({\n        data: [[{\n            'v': 0,\n            'f': \"0\",\n        },\n{\n            'v': 47935,\n            'f': \"47935\",\n        },\n\"Dag, ik had een probleem met mijn bestelling van 14/2/23 gemeld. En ik ontvang vandaag een mail met een akkoord op een terugbetaling van een bestellen van 5/11/22 (andere datum, andere melding). Denk dat er iets niet goed gaat?? Hallo Antoinette , je chat met Rubin. Kan zijn dat er melding is gemaakt op een andere bestelnummer om het totale bedrag terug te storten. Maar heb je een screenshot? Dan kan ik met je meekijken, ik hoor graag van je. Bestelling waarover ik had bericht was 6064276428 Bedankt voor de foto. Volgens het systeem is te zien dat er een fout is gemaakt met de datum.Het gaat om hetzelfde bedrag \\ud83d\\ude0a. Ik hoop je voldoende te hebben geinformeerd. Fijne avond!\",\n\"WhatsApp\",\n\"dag ik had een probleem met mijn bestelling van  gemeld en ik ontvang vandaag een mail met een akkoord op een terugbetaling van een bestellen van  andere datum andere melding denk dat er iets niet goed gaat hallo antoinette  je chat met rubin kan zijn dat er melding is gemaakt op een andere bestelnummer om het totale bedrag terug te storten maar heb je een screenshot dan kan ik met je meekijken ik hoor graag van je bestelling waarover ik had bericht was [ORDER_NUMBER] bedankt voor de foto volgens het systeem is te zien dat er een fout is gemaakt met de datumhet gaat om hetzelfde bedrag  ik hoop je voldoende te hebben geinformeerd fijne avond\",\n\"dag probleem bestelling gemeld ontvang vandaag mail akkoord terugbetaling bestellen datum melding denk goed gaat antoinette chat rubin melding gemaakt bestelnummer totale bedrag terug storten screenshot meekijken hoor graag bestelling waarover bericht [ORDER_NUMBER] bedankt foto volgens systeem zien fout gemaakt datumhet gaat hetzelfde bedrag hoop voldoende geinformeerd fijne avond\",\n\"dag probleem bestelling gemeld ontvang vandaag mail akkoord terugbetaling bestellen datum melding denk goed gaat antoinette chat rubin melding gemaakt bestelnummer totale bedrag terug storten screenshot meekijken hoor graag bestelling waarover bericht [ORDER_NUMBER] bedankt foto volgens systeem zien fout gemaakt datumhet gaat hetzelfde bedrag hoop voldoende geinformeerd fijne avond\",\n\"dag probleem bestelling melden ontvang vandaag mail akkoord terugbetaling bestellen datum melding denken goed gaan antoinett chat rubin melding maken bestelnummer totaal bedrag terug storten screenshot meekijk hoor graag bestelling waarover bericht [ORDER_NUMBER] bedanken foto volgens systeem zien fout maken datumhet gaan hetzelfde bedrag hoop voldoende informeren fijn avond\"],\n [{\n            'v': 1,\n            'f': \"1\",\n        },\n{\n            'v': 47936,\n            'f': \"47936\",\n        },\n\"Beste heer mevrouw Inmiddels zijn we 3 maanden verder en heb ik nog steeds geen race auto ontvangen. Duurt nu wel weg lang Hoop hem toch snel te ontvangen Mvg Dani\\u00eblle\",\n\"WhatsApp\",\n\"beste heer mevrouw inmiddels zijn we  maanden verder en heb ik nog steeds geen race auto ontvangen duurt nu wel weg lang hoop hem toch snel te ontvangen mvg danille\",\n\"beste heer mevrouw inmiddels maanden verder steeds race auto ontvangen duurt wel weg lang hoop snel ontvangen mvg danille\",\n\"beste heer mevrouw inmiddels maanden verder steeds race auto ontvangen duurt wel weg lang hoop snel ontvangen mvg danille\",\n\"goed heer mevrouw inmiddels maand ver steeds race auto ontvangen duren wel weg lang hoop snel ontvangen mvg danil\"],\n [{\n            'v': 2,\n            'f': \"2\",\n        },\n{\n            'v': 47937,\n            'f': \"47937\",\n        },\n\"Hallo, staan er voedingswaarden vermeld op de flessen wijn die u verkoopt? Hallo, je chat met Sharon. Bedankt voor je bericht. Nee, niet volledig. Je kan dit navragen in de winkel en anders kunnen wij dit voor je opzoeken. Fijne dag. \\ud83d\\ude0a Ok bedankt, jij ook een fijne dag! Groetjes Greet Dankjewel!\",\n\"WhatsApp\",\n\"hallo staan er voedingswaarden vermeld op de flessen wijn die u verkoopt hallo je chat met sharon bedankt voor je bericht nee niet volledig je kan dit navragen in de winkel en anders kunnen wij dit voor je opzoeken fijne dag  ok bedankt jij ook een fijne dag groetjes greet dankjewel\",\n\"staan voedingswaarden vermeld flessen wijn verkoopt chat sharon bedankt bericht nee volledig navragen winkel anders wij opzoeken fijne dag ok bedankt jij fijne dag groetjes greet dankjewel\",\n\"staan voedingswaarden vermeld flessen wijn verkoopt chat sharon bedankt bericht nee volledig navragen winkel anders wij opzoeken fijne dag ok bedankt jij fijne dag groetjes greet dankjewel\",\n\"staan voedingswaarden vermelden fles wijn verkopen chat sharon bedanken bericht nee volledig navrag winkel ander wij opzoeken fijn dag ok bedanken jij fijn dag groet greten dankjewel\"],\n [{\n            'v': 3,\n            'f': \"3\",\n        },\n{\n            'v': 47938,\n            'f': \"47938\",\n        },\n\"Bij Bestelling: 6057976661 had ik een servicecode ingevuld voor 5 euro korting tegen inlevering van 1000 punten. Deze 5,00 staat niet op de bon vermeld, is er niet getrokken terwijl deze bij het totaal verkregen korting wel is meegeteld. Laat maar, ik zie net dat het in het totaal wel te zien is. Het staat er alleen niet apart op vermeld. Oke toppie\\ud83d\\udc4d. Fijne dag.\",\n\"WhatsApp\",\n\"bij bestelling [ORDER_NUMBER] had ik een servicecode ingevuld voor  euro korting tegen inlevering van  punten deze  staat niet op de bon vermeld is er niet getrokken terwijl deze bij het totaal verkregen korting wel is meegeteld laat maar ik zie net dat het in het totaal wel te zien is het staat er alleen niet apart op vermeld oke toppie fijne dag\",\n\"bestelling [ORDER_NUMBER] servicecode ingevuld euro korting inlevering punten staat bon vermeld getrokken terwijl totaal verkregen korting wel meegeteld laat zie net totaal wel zien staat alleen apart vermeld oke toppie fijne dag\",\n\"bestelling [ORDER_NUMBER] servicecode ingevuld euro korting inlevering punten staat bon vermeld getrokken terwijl totaal verkregen korting wel meegeteld laat zie net totaal wel zien staat alleen apart vermeld oke toppie fijne dag\",\n\"bestelling [ORDER_NUMBER] servicecode invullen euro korting inlevering punt staan bon vermelden trekken terwijl totaal verkrijgen korting wel meegeteld laten zien net totaal wel zien bekendstaan alleen apart vermelden oke toppie fijn dag\"],\n [{\n            'v': 4,\n            'f': \"4\",\n        },\n{\n            'v': 47939,\n            'f': \"47939\",\n        },\n\"Hi! Ik heb mijn bestelling net ontvangen. Ik had ook flessen ingeleverd (11 grote en 2 kleine) en volgens mij zijn die kosten niet verrekend. Ook zat er onder in een zak een bak kwark en zaten daardoor meerdere producten onder de kwark. Excuus, ik zie dat de flessen er af zijn gegaan! Dan zou ik alleen graag nog reactie ontvangen over de bak kwark. Hallo Irene, je chat met Sterre. Bedankt voor je bericht. Wat vervelend dat de kwark kapot is gegaan in je bestelling. Ik heb een terugbetaling voor de kwark in orde gemaakt. Het bedrag vindt je binnen zeven dagen terug op je rekening. Excuses voor het ongemak. Fijne avond! Dank! Fijn dat het zo snel geregeld is. Graag gedaan en ik wens je een fijne avond!\\ud83d\\ude0a\",\n\"WhatsApp\",\n\"hi ik heb mijn bestelling net ontvangen ik had ook flessen ingeleverd  grote en  kleine en volgens mij zijn die kosten niet verrekend ook zat er onder in een zak een bak kwark en zaten daardoor meerdere producten onder de kwark excuus ik zie dat de flessen er af zijn gegaan dan zou ik alleen graag nog reactie ontvangen over de bak kwark hallo irene je chat met sterre bedankt voor je bericht wat vervelend dat de kwark kapot is gegaan in je bestelling ik heb een terugbetaling voor de kwark in orde gemaakt het bedrag vindt je binnen zeven dagen terug op je rekening excuses voor het ongemak fijne avond dank fijn dat het zo snel geregeld is graag gedaan en ik wens je een fijne avond\",\n\"hi bestelling net ontvangen flessen ingeleverd grote kleine volgens kosten verrekend zat zak bak kwark zaten daardoor meerdere producten kwark excuus zie flessen af gegaan alleen graag reactie ontvangen bak kwark irene chat sterre bedankt bericht vervelend kwark kapot gegaan bestelling terugbetaling kwark orde gemaakt bedrag vindt binnen zeven dagen terug rekening excuses ongemak fijne avond dank fijn snel geregeld graag gedaan wens fijne avond\",\n\"hi bestelling net ontvangen flessen ingeleverd grote kleine volgens kosten verrekend zat zak bak kwark zaten daardoor meerdere producten kwark excuus zie flessen af gegaan alleen graag reactie ontvangen bak kwark irene chat sterre bedankt bericht vervelend kwark kapot gegaan bestelling terugbetaling kwark orde gemaakt bedrag vindt binnen zeven dagen terug rekening excuses ongemak fijne avond dank fijn snel geregeld graag gedaan wens fijne avond\",\n\"hi bestelling net ontvangen fles inleveren groot klein volgens kost verreken zitten zak bak kwark zitten daardoor meerdere product kwark excuus zien fles af gaan alleen graag reactie ontvangen bak kwark iren chat sterre bedanken bericht vervelend kwark kapot gaan bestelling terugbetaling kwark orde maken bedrag vinden binnen zeven dag terug rekening excuus ongemak fijn avond dank fijn snel regelen graag doen wens fijn avond\"],\n [{\n            'v': 5,\n            'f': \"5\",\n        },\n{\n            'v': 47940,\n            'f': \"47940\",\n        },\n\"Hello, is it possible to have this conversation in english? Hello! I have made a refund request on Jumbo. I would like to cancel it as the delivery man came back and brought the missing items within an hour. I could not find out how to do that as I have difficulty translating the website into english Hello your chat with Raffaela. Good of you to send a message. Do you have an order number for me? Yes just a minute! 6058655116 this is the order number for the order :) by the way, will I get any points from this order? Okay let's get it out. Have a nice evening\",\n\"WhatsApp\",\n\"hello is it possible to have this conversation in english hello i have made a refund request on jumbo i would like to cancel it as the delivery man came back and brought the missing items within an hour i could not find out how to do that as i have difficulty translating the website into english hello your chat with raffaela good of you to send a message do you have an order number for me yes just a minute [ORDER_NUMBER] this is the order number for the order  by the way will i get any points from this order okay lets get it out have a nice evening\",\n\"possible conversation english made refund request jumbo would like cancel delivery man came back brought missing items within hour could find difficulty translating website english chat raffaela good send message order number yes minute [ORDER_NUMBER] order number order way get points order okay lets get nice evening\",\n\"possible conversation english made refund request jumbo would like cancel delivery man came back brought missing items within hour could find difficulty translating website english chat raffaela good send message order number yes minute [ORDER_NUMBER] order number order way get points order okay lets get nice evening\",\n\"possible conversation english made refund request jumbo would like cancel delivery man caam back brought missing item within hour could find difficulty translating website english chat raffaela good sen message order number yes minute [ORDER_NUMBER] order number order way get points order okay lets get nice evening\"],\n [{\n            'v': 6,\n            'f': \"6\",\n        },\n{\n            'v': 47941,\n            'f': \"47941\",\n        },\n\"Hallo ik wil even door geven dat ik morgen een dubbele betaling moet doen van verleden week en van morgen.van verleden week moet ik 96.ggeuro betalen.en dan komt de rekening van morgen erbij.groetjes van mevrouw beetjer. Hallo Marietje je chat met Raffaela. Gaat dit om de betaling van 18 januari ? Ja het was 96.gg Wat bedoel je precies met .gg? Dat was 99 euro cent Ik heb inderdaad gezien dat er een melding is gemaakt bij onze bezorgers, over een extra betaling. Ik hoop je zo voldoende te hebben ge\\u00efnformeerd. Fijne dag\\ud83d\\ude00. U ook een fijne dag \\ud83d\\udc9b\\ud83d\\udc9b\",\n\"WhatsApp\",\n\"hallo ik wil even door geven dat ik morgen een dubbele betaling moet doen van verleden week en van morgenvan verleden week moet ik ggeuro betalenen dan komt de rekening van morgen erbijgroetjes van mevrouw beetjer hallo marietje je chat met raffaela gaat dit om de betaling van  januari  ja het was gg wat bedoel je precies met gg dat was  euro cent ik heb inderdaad gezien dat er een melding is gemaakt bij onze bezorgers over een extra betaling ik hoop je zo voldoende te hebben genformeerd fijne dag u ook een fijne dag \",\n\"even geven morgen dubbele betaling verleden week morgenvan verleden week ggeuro betalenen komt rekening morgen erbijgroetjes mevrouw beetjer marietje chat raffaela gaat betaling januari gg bedoel precies gg euro cent inderdaad gezien melding gemaakt onze bezorgers extra betaling hoop voldoende genformeerd fijne dag fijne dag\",\n\"even geven morgen dubbele betaling verleden week morgenvan verleden week ggeuro betalenen komt rekening morgen erbijgroetjes mevrouw beetjer marietje chat raffaela gaat betaling januari gg bedoel precies gg euro cent inderdaad gezien melding gemaakt onze bezorgers extra betaling hoop voldoende genformeerd fijne dag fijne dag\",\n\"even geven morgen dubbel betaling verleden week morgenvan verleden week ggeuro betalenen komen rekening morgen erbijgroet mevrouw beetjer marietje chat raffaela gaan betaling januari gg bedoelen precies gg euro cent inderdaad zien melding maken ons bezorger extra betaling hoop voldoende nformeren fijn dag fijn dag\"],\n [{\n            'v': 7,\n            'f': \"7\",\n        },\n{\n            'v': 47942,\n            'f': \"47942\",\n        },\n\"Hallo Jumbo! Ik probeer artikelen aan mijn bestelling toe te voegen maar alweer kan jullie app niet hoofdrekenen zie bijgevoegde screenshots... Zou u dit toe willen voegen voor de correcte prijs voor mij? Alvast bedankt! Groet, Luuk van Maaren Hallo Luuk, je chat met Jan. Bedankt voor je bericht. Van 22 Februari tot en met 28 Februari 2023 geldt bij Knorr Wereldgerechten 2 voor 5,- euro. Ik heb informatie voor je op jumbo.com. Ik vertrouw erop je voldoende ge\\u00efnformeerd te hebben. Ik wens je verder nog een fijne dag :-) Klopt, mijn bestelling komt op 27 feb (maandag a.s.) binnen dus deze prijs klopt nu niet als ik dit zelf toevoeg. Zie dus nogmaals de screenshots... De actie loopt tot 28 feb Dus als je boodschappen 27 feb geleverd worden dan maak je wel gebruik van deze actie. Het gaat dus goed! Nee dat gaat het dus niet, zie de screenshots... Nogmaals... Heb dit vaker gehad, als ik dit zelf ga toevoegen ben ik 13 euro duurder uit ipv 5, uw collega's hebben dat destijds voor mij correct eraan toegevoegd. In dit geval zou het dus 70,93 moeten worden met de spullen uit het winkelwagentje erbij. Het is gelukt. Het staat er nu correct in :) Indien ik nog wat voor je kan betekenen hoor ik het natuurlijk heel graag anders hoop ik dat ik je naar tevredenheid heb geholpen en wens ik je een fijne dag toe! \\ud83e\\udd17 Niet helemaal want 65,93 + 5 = 71,12? Haha nee dat klopt niet helemaal maar voor die paar eurocent gaan we niets zitten prutsen... In ieder geval bedankt.\",\n\"WhatsApp\",\n\"hallo jumbo ik probeer artikelen aan mijn bestelling toe te voegen maar alweer kan jullie app niet hoofdrekenen zie bijgevoegde screenshots zou u dit toe willen voegen voor de correcte prijs voor mij alvast bedankt groet luuk van maaren hallo luuk je chat met jan bedankt voor je bericht van  februari tot en met  februari  geldt bij knorr wereldgerechten  voor  euro ik heb informatie voor je op jumbocom ik vertrouw erop je voldoende genformeerd te hebben ik wens je verder nog een fijne dag  klopt mijn bestelling komt op  feb maandag as binnen dus deze prijs klopt nu niet als ik dit zelf toevoeg zie dus nogmaals de screenshots de actie loopt tot  feb dus als je boodschappen  feb geleverd worden dan maak je wel gebruik van deze actie het gaat dus goed nee dat gaat het dus niet zie de screenshots nogmaals heb dit vaker gehad als ik dit zelf ga toevoegen ben ik  euro duurder uit ipv  uw collegas hebben dat destijds voor mij correct eraan toegevoegd in dit geval zou het dus  moeten worden met de spullen uit het winkelwagentje erbij het is gelukt het staat er nu correct in  indien ik nog wat voor je kan betekenen hoor ik het natuurlijk heel graag anders hoop ik dat ik je naar tevredenheid heb geholpen en wens ik je een fijne dag toe  niet helemaal want      haha nee dat klopt niet helemaal maar voor die paar eurocent gaan we niets zitten prutsen in ieder geval bedankt\",\n\"jumbo probeer artikelen bestelling toe voegen alweer jullie app hoofdrekenen zie bijgevoegde screenshots toe willen voegen correcte prijs alvast bedankt groet luuk maaren luuk chat jan bedankt bericht februari februari geldt knorr wereldgerechten euro informatie jumbocom vertrouw erop voldoende genformeerd wens verder fijne dag klopt bestelling komt feb maandag binnen prijs klopt toevoeg zie nogmaals screenshots actie loopt feb boodschappen feb geleverd maak wel gebruik actie gaat goed nee gaat zie screenshots nogmaals vaker gehad ga toevoegen euro duurder ipv collegas destijds correct eraan toegevoegd geval moeten spullen winkelwagentje erbij gelukt staat correct indien betekenen hoor natuurlijk heel graag anders hoop tevredenheid geholpen wens fijne dag toe helemaal haha nee klopt helemaal paar eurocent gaan zitten prutsen ieder geval bedankt\",\n\"jumbo probeer artikelen bestelling toe voegen alweer jullie app hoofdrekenen zie bijgevoegde screenshots toe willen voegen correcte prijs alvast bedankt groet luuk maaren luuk chat jan bedankt bericht februari februari geldt knorr wereldgerechten euro informatie jumbocom vertrouw erop voldoende genformeerd wens verder fijne dag klopt bestelling komt feb maandag binnen prijs klopt toevoeg zie nogmaals screenshots actie loopt feb boodschappen feb geleverd maak wel gebruik actie gaat goed nee gaat zie screenshots nogmaals vaker gehad ga toevoegen euro duurder ipv collegas destijds correct eraan toegevoegd geval moeten spullen winkelwagentje erbij gelukt staat correct indien betekenen hoor natuurlijk heel graag anders hoop tevredenheid geholpen wens fijne dag toe helemaal haha nee klopt helemaal paar eurocent gaan zitten prutsen ieder geval bedankt\",\n\"jumbo proberen artikel bestelling toe voegen alweer jullie app hoofdreken zien bijgevoegen screenshots toe willen voegen correct prijs alvast bedanken groet luuk maar luuk chat jan bedanken bericht februari februari gelden knorr wereldgerecht euro informatie jumbocom vertrouw erop voldoende nformeren wens ver fijn dag klpen bestelling komen feb maandag binnen prijs klpen toevoeg zien nogmaals screenshots actie lopen feb boodschappen feb leveren maken wel gebruik actie gaan goed nee gaan zien screenshots nogmaals vaak hebben gaan toevoegen euro duurd ipv collegas destijds correct eraan toevoegen geval moeten spullen winkelwagen erbij lukken bekendstaan correct indien betekenen hoor natuurlijk heel graag anders hoop tevredenheid helpen wens fijn dag toe helemaal haha nee kloppen helemaal paar eurocent gaan zitten prutsen ieder geval bedanken\"],\n [{\n            'v': 8,\n            'f': \"8\",\n        },\n{\n            'v': 47943,\n            'f': \"47943\",\n        },\n\"Goedenmiddag. Ik had 4 repen verkade besteld 1 was niet leverbaar. Gaven jullie vanmiddag door. Nu heb ik dus voor die derde de volledige bedrag betaald volgensn mij. Hallo! je chat met Charesa. Goed dat je contact opneemt! Ik heb het bedrag van 1 reep voor je teruggestort, het bedrag staat binnen 7 dagen op je rekening. Als ik nog iets voor je kan betekenen dan hoor ik het graag. Ik wens je een fijne dag toe \\ud83d\\ude00. Dank je wel Charesa. Jij ook een fijne dag gewenst Goedenmorgen. Ik heb even een vraag. Ik was bezig om mijn boodschappen te bestellen en ik wilde dit product bestellen maar hij zegt dat er geen online producten zijn. Kunt u me hiermee helpen? Groet Patries Hallo! je chat met Charesa. Dat kan zijn omdat de actie nog niet geldig is, ik zou het in de gaten houden. Als ik nog iets voor je kan betekenen dan hoor ik het graag. Ik wens je een fijne dag toe \\ud83d\\ude0a.\",\n\"WhatsApp\",\n\"goedenmiddag ik had  repen verkade besteld  was niet leverbaar gaven jullie vanmiddag door nu heb ik dus voor die derde de volledige bedrag betaald volgensn mij hallo je chat met charesa goed dat je contact opneemt ik heb het bedrag van  reep voor je teruggestort het bedrag staat binnen  dagen op je rekening als ik nog iets voor je kan betekenen dan hoor ik het graag ik wens je een fijne dag toe  dank je wel charesa jij ook een fijne dag gewenst goedenmorgen ik heb even een vraag ik was bezig om mijn boodschappen te bestellen en ik wilde dit product bestellen maar hij zegt dat er geen online producten zijn kunt u me hiermee helpen groet patries hallo je chat met charesa dat kan zijn omdat de actie nog niet geldig is ik zou het in de gaten houden als ik nog iets voor je kan betekenen dan hoor ik het graag ik wens je een fijne dag toe \",\n\"goedenmiddag repen verkade besteld leverbaar gaven jullie vanmiddag derde volledige bedrag betaald volgensn chat charesa goed contact opneemt bedrag reep teruggestort bedrag staat binnen dagen rekening betekenen hoor graag wens fijne dag toe dank wel charesa jij fijne dag gewenst goedenmorgen even vraag bezig boodschappen bestellen wilde product bestellen zegt online producten kunt hiermee helpen groet patries chat charesa actie geldig gaten houden betekenen hoor graag wens fijne dag toe\",\n\"goedenmiddag repen verkade besteld leverbaar gaven jullie vanmiddag derde volledige bedrag betaald volgensn chat charesa goed contact opneemt bedrag reep teruggestort bedrag staat binnen dagen rekening betekenen hoor graag wens fijne dag toe dank wel charesa jij fijne dag gewenst goedenmorgen even vraag bezig boodschappen bestellen wilde product bestellen zegt online producten kunt hiermee helpen groet patries chat charesa actie geldig gaten houden betekenen hoor graag wens fijne dag toe\",\n\"goedenmiddag repen verkade bestellen leverbaar geven jullie vanmiddag drie volledig bedrag betalen volgensn chat charesa goed contact opneemen bedrag reep teruggestort bedrag staan binnen dag rekening betekenen hoor graag wens fijn dag toe dank wel charesa jij fijn dag wensen goedenmorgen even vraag bezig boodschappen bestellen willen product bestellen zeggen online product kunnen hiermee helpen groet patries chat charesa actie geldig gat houden betekenen hoor graag wens fijn dag toe\"],\n [{\n            'v': 9,\n            'f': \"9\",\n        },\n{\n            'v': 47944,\n            'f': \"47944\",\n        },\n\"Best Jumbo, ik heb nog geen terug betaling ontvangen sinds ons laatste bericht, nu bijna een week geleden. Kunnen jullie dit verzorgen? jrm petri ? 16:45:34 Hallo, je chat met Chayenne. Goed dat je contact met ons opneemt. Mag ik van jou een bestelnummer, dan kijk ik even met je mee. Best Jumbo, ik heb nog geen terug betaling ontvangen sinds ons laatste bericht, nu bijna een week geleden. Kunnen jullie dit verzorgen? Hallo, je chat met Chayenne. Goed dat je contact met ons opneemt. Mag ik van jou een bestelnummer, dan kijk ik even met je mee. 6058948347 Hallo, je chat met Rowena. Bedankt voor je bericht. Wat kan ik voor je doen? ? Dat bericht werd helaas niet in de chat getoond. Excuses! De witlof is 15-1 goedgekeurd. Het kan 7 werkdagen duren voordat dit teruggestort is. De andijvie en druiven heb ik net gelijk een terugbetaling voor aangemaakt. Hier ontvang je zo ook nog een mail van. Oke dank! Fijne avond\\ud83d\\ude0a.\",\n\"WhatsApp\",\n\"best jumbo ik heb nog geen terug betaling ontvangen sinds ons laatste bericht nu bijna een week geleden kunnen jullie dit verzorgen jrm petri   hallo je chat met chayenne goed dat je contact met ons opneemt mag ik van jou een bestelnummer dan kijk ik even met je mee best jumbo ik heb nog geen terug betaling ontvangen sinds ons laatste bericht nu bijna een week geleden kunnen jullie dit verzorgen hallo je chat met chayenne goed dat je contact met ons opneemt mag ik van jou een bestelnummer dan kijk ik even met je mee [ORDER_NUMBER] hallo je chat met rowena bedankt voor je bericht wat kan ik voor je doen  dat bericht werd helaas niet in de chat getoond excuses de witlof is  goedgekeurd het kan  werkdagen duren voordat dit teruggestort is de andijvie en druiven heb ik net gelijk een terugbetaling voor aangemaakt hier ontvang je zo ook nog een mail van oke dank fijne avond\",\n\"best jumbo terug betaling ontvangen sinds laatste bericht bijna week geleden jullie verzorgen jrm petri chat chayenne goed contact opneemt mag jou bestelnummer kijk even mee best jumbo terug betaling ontvangen sinds laatste bericht bijna week geleden jullie verzorgen chat chayenne goed contact opneemt mag jou bestelnummer kijk even mee [ORDER_NUMBER] chat rowena bedankt bericht bericht helaas chat getoond excuses witlof goedgekeurd werkdagen duren voordat teruggestort andijvie druiven net gelijk terugbetaling aangemaakt ontvang mail oke dank fijne avond\",\n\"best jumbo terug betaling ontvangen sinds laatste bericht bijna week geleden jullie verzorgen jrm petri chat chayenne goed contact opneemt mag jou bestelnummer kijk even mee best jumbo terug betaling ontvangen sinds laatste bericht bijna week geleden jullie verzorgen chat chayenne goed contact opneemt mag jou bestelnummer kijk even mee [ORDER_NUMBER] chat rowena bedankt bericht bericht helaas chat getoond excuses witlof goedgekeurd werkdagen duren voordat teruggestort andijvie druiven net gelijk terugbetaling aangemaakt ontvang mail oke dank fijne avond\",\n\"best jumbo terug betaling ontvangen sinds laat bericht bijna week geleden jullie verzorgen jrm petri chat chayenne goed contact opneemen mogen jou bestelnummer kijken even mee best jumbo terug betaling ontvangen sinds laat bericht bijna week geleden jullie verzorgen chat chayenne goed contact opneemen mogen jou bestelnummer kijken even mee [ORDER_NUMBER] chat rowena bedanken bericht bericht helaas chat tonen excuus witlof goedkeuren werkdag duren voordat teruggestort andijvie druif net gelijk terugbetaling aangemaken ontvang mail oke dank fijn avond\"],\n [{\n            'v': 10,\n            'f': \"10\",\n        },\n{\n            'v': 47945,\n            'f': \"47945\",\n        },\n\"Goede morgen ik wacht als sinds 8:00 op mijn boodschappen alleen die zijn er nog steeds niet \\ud83d\\ude13 Hallo je chat met Raffaela. Goed dat je een bericht stuurt. Heb je voor mij een ordernummer ? \\ud83d\\ude0a Yes die heb ik 6065438621 Goedemiddag, je chat met Brandon. Bedankt voor je bericht! Ik zie in het systeem dat de bezorger tussen 08:05/08:17 voor (Camera Obscuralaan 312) de deur stond. Hij heeft 4x aangebeld maar er deed niemand open helaas. Je telefoonnummer was niet bekend bij de bezorger waardoor hij je niet kon bereiken. Wat vreemd ik ben juist thuis gebleven. Kan ik een nieuwe afspraak maken om de boodschappen te laten bezorgen? Je kunt uiteraard een nieuw bezorgmoment kiezen door in je account bij je laatste bestelling te kiezen voor 'opnieuw bestellen' en naar eigen wens alsnog de nieuwe bestelling af te ronden. Voeg tevens je telefoonnummer toe zodat de bezorger eventueel contact op kan nemen indien nodig \\ud83d\\udc9b Mocht je nog vragen hebben dan hoor ik het graag, een prettige dag nog! Oke super doe ik dat! Hartstikke bedankt! Graag gedaan Rachelle :D\",\n\"WhatsApp\",\n\"goede morgen ik wacht als sinds  op mijn boodschappen alleen die zijn er nog steeds niet  hallo je chat met raffaela goed dat je een bericht stuurt heb je voor mij een ordernummer   yes die heb ik [ORDER_NUMBER] goedemiddag je chat met brandon bedankt voor je bericht ik zie in het systeem dat de bezorger tussen  voor camera obscuralaan  de deur stond hij heeft x aangebeld maar er deed niemand open helaas je telefoonnummer was niet bekend bij de bezorger waardoor hij je niet kon bereiken wat vreemd ik ben juist thuis gebleven kan ik een nieuwe afspraak maken om de boodschappen te laten bezorgen je kunt uiteraard een nieuw bezorgmoment kiezen door in je account bij je laatste bestelling te kiezen voor opnieuw bestellen en naar eigen wens alsnog de nieuwe bestelling af te ronden voeg tevens je telefoonnummer toe zodat de bezorger eventueel contact op kan nemen indien nodig  mocht je nog vragen hebben dan hoor ik het graag een prettige dag nog oke super doe ik dat hartstikke bedankt graag gedaan rachelle d\",\n\"goede morgen wacht sinds boodschappen alleen steeds chat raffaela goed bericht stuurt ordernummer yes [ORDER_NUMBER] goedemiddag chat brandon bedankt bericht zie systeem bezorger tussen camera obscuralaan deur stond x aangebeld deed niemand open helaas telefoonnummer bekend bezorger waardoor bereiken vreemd juist thuis gebleven nieuwe afspraak maken boodschappen laten bezorgen kunt uiteraard nieuw bezorgmoment kiezen account laatste bestelling kiezen opnieuw bestellen eigen wens alsnog nieuwe bestelling af ronden voeg tevens telefoonnummer toe zodat bezorger eventueel contact nemen indien nodig mocht vragen hoor graag prettige dag oke super doe hartstikke bedankt graag gedaan rachelle\",\n\"goede morgen wacht sinds boodschappen alleen steeds chat raffaela goed bericht stuurt ordernummer yes [ORDER_NUMBER] goedemiddag chat brandon bedankt bericht zie systeem bezorger tussen camera obscuralaan deur stond x aangebeld deed niemand open helaas telefoonnummer bekend bezorger waardoor bereiken vreemd juist thuis gebleven nieuwe afspraak maken boodschappen laten bezorgen kunt uiteraard nieuw bezorgmoment kiezen account laatste bestelling kiezen opnieuw bestellen eigen wens alsnog nieuwe bestelling af ronden voeg tevens telefoonnummer toe zodat bezorger eventueel contact nemen indien nodig mocht vragen hoor graag prettige dag oke super doe hartstikke bedankt graag gedaan rachelle\",\n\"goed morgen wachten sinds boodschapp alleen steeds chat raffaela goed bericht sturen ordernummer yes [ORDER_NUMBER] goedemiddag chat brandon bedanken bericht zien systeem bezorger tussen camera obscuralaan deur staan x aangebeld doen niemand open helaas telefoonnummer bekend bezorger waardoor bereiken vreemd juist thuis blijven nieuw afspraak maken boodschappen laten bezorgen kunnen uiteraard nieuw bezorgmoment kiezen account laat bestelling kiezen opnieuw bestellen eigen wens alsnog nieuw bestelling af rond voeg tevens telefoonnummer toe zodat bezorger eventueel contact nemen indien nodig mogen vragen horen graag prettig dag oke super doen hartstikke bedanken graag doen rachel\"],\n [{\n            'v': 11,\n            'f': \"11\",\n        },\n{\n            'v': 47946,\n            'f': \"47946\",\n        },\n\"Hoi Wij missen een aantal producten bij onze bestelling. Hallo! Je chat met Nathalie. Bedankt voor je bericht. Wat jammer om te horen dat je bestelling niet helemaal compleet is. Sorry daarvoor! Heb je het bestelnummer en de producten waar het om gaat voor me? Ik kijk graag even met je mee. \\ud83d\\ude0a Is al geregeld,wordt terug gestort. Wat fijn!\",\n\"WhatsApp\",\n\"hoi wij missen een aantal producten bij onze bestelling hallo je chat met nathalie bedankt voor je bericht wat jammer om te horen dat je bestelling niet helemaal compleet is sorry daarvoor heb je het bestelnummer en de producten waar het om gaat voor me ik kijk graag even met je mee  is al geregeldwordt terug gestort wat fijn\",\n\"hoi wij missen aantal producten onze bestelling chat nathalie bedankt bericht jammer horen bestelling helemaal compleet sorry daarvoor bestelnummer producten waar gaat kijk graag even mee geregeldwordt terug gestort fijn\",\n\"hoi wij missen aantal producten onze bestelling chat nathalie bedankt bericht jammer horen bestelling helemaal compleet sorry daarvoor bestelnummer producten waar gaat kijk graag even mee geregeldwordt terug gestort fijn\",\n\"hoi wij missen aantal product ons bestelling chat nathalie bedanken bericht jammer horen bestelling helemaal compleet sorry daarvoor bestelnummer product waar gaan kijken graag even mee regeldwordten terug storten fijn\"],\n [{\n            'v': 12,\n            'f': \"12\",\n        },\n{\n            'v': 47947,\n            'f': \"47947\",\n        },\n\"Goedemiddag, de app geeft geen besteltijd meer aan en alle bestellingen zijn weg (storing). Komt m?n bestelling dan nog wel vandaag? En hoe weet ik hoe laat? Hallo Brechtild., je chat met Charesa. Is het gelukt met je bestelling? We hebben inderdaad een storing gehad. Dank!! Ja hoor, is goed gekomen! Gelukkig. Als ik nog iets voor je kan betekenen dan hoor ik het graag. Ik wens je een fijne dag toe \\ud83d\\ude0a. Dank en ook een fijne dag!!\",\n\"WhatsApp\",\n\"goedemiddag de app geeft geen besteltijd meer aan en alle bestellingen zijn weg storing komt mn bestelling dan nog wel vandaag en hoe weet ik hoe laat hallo brechtild je chat met charesa is het gelukt met je bestelling we hebben inderdaad een storing gehad dank ja hoor is goed gekomen gelukkig als ik nog iets voor je kan betekenen dan hoor ik het graag ik wens je een fijne dag toe  dank en ook een fijne dag\",\n\"goedemiddag app geeft besteltijd alle bestellingen weg storing komt mn bestelling wel vandaag weet laat brechtild chat charesa gelukt bestelling inderdaad storing gehad dank hoor goed gekomen gelukkig betekenen hoor graag wens fijne dag toe dank fijne dag\",\n\"goedemiddag app geeft besteltijd alle bestellingen weg storing komt mn bestelling wel vandaag weet laat brechtild chat charesa gelukt bestelling inderdaad storing gehad dank hoor goed gekomen gelukkig betekenen hoor graag wens fijne dag toe dank fijne dag\",\n\"goedemiddag app geven besteltijd al bestelling weg storing komen mn bestelling wel vandaag weten laten brechtild chat charesa lukken bestelling inderdaad storing hebben dank horen goed komen gelukkig betekenen hoor graag wens fijn dag toe dank fijn dag\"],\n [{\n            'v': 13,\n            'f': \"13\",\n        },\n{\n            'v': 47948,\n            'f': \"47948\",\n        },\n\"Goedenavond, het is al niet meer nodig, ze heeft het al met de servicedesk opgelost. Fijne avond verder. Mvrgr, J. Sol\\u00eds Reche Goedenavond, mijn dochter werkt bij de Jumbo. Ze wil haar belastingaangifte doen, maar daar heeft ze natuurlijk haar jaaropgave voor nodig. Hoe kan ze daaraan komen, want ze heeft hem nog niet ontvangen? Bij voorbaat dank. Goedenavond, het is al niet meer nodig, ze heeft het al met de servicedesk opgelost. Fijne avond verder. Mvrgr, J. Sol\\u00eds Reche\",\n\"WhatsApp\",\n\"goedenavond het is al niet meer nodig ze heeft het al met de servicedesk opgelost fijne avond verder mvrgr j sols reche goedenavond mijn dochter werkt bij de jumbo ze wil haar belastingaangifte doen maar daar heeft ze natuurlijk haar jaaropgave voor nodig hoe kan ze daaraan komen want ze heeft hem nog niet ontvangen bij voorbaat dank goedenavond het is al niet meer nodig ze heeft het al met de servicedesk opgelost fijne avond verder mvrgr j sols reche\",\n\"goedenavond nodig servicedesk opgelost fijne avond verder mvrgr j sols reche goedenavond dochter werkt jumbo belastingaangifte natuurlijk jaaropgave nodig daaraan komen ontvangen voorbaat dank goedenavond nodig servicedesk opgelost fijne avond verder mvrgr j sols reche\",\n\"goedenavond nodig servicedesk opgelost fijne avond verder mvrgr j sols reche goedenavond dochter werkt jumbo belastingaangifte natuurlijk jaaropgave nodig daaraan komen ontvangen voorbaat dank goedenavond nodig servicedesk opgelost fijne avond verder mvrgr j sols reche\",\n\"goedenavond nodig servicedesk oplossen fijn avond ver mvrgr j sols rech goedenavond dochter werken jumbo belastingaangifte natuurlijk jaaropgave nodig daaraan komen ontvangen voorbaat dank goedenavond nodig servicedesk oplossen fijn avond ver mvrgr j sols rech\"],\n [{\n            'v': 14,\n            'f': \"14\",\n        },\n{\n            'v': 47949,\n            'f': \"47949\",\n        },\n\"Ik ben klaar met mijn boodschappenlijst maar er staat: er is iets mis! Kunt u zien wat er mis is? Er is dus niemand die mij antwoord geeft. Goed dat ik geen respect meer heb voor jullie afdeling. Houdoe. De wattsspp is verl te uitgebreid. Nu ben ik de bestelling van nu kwijt!!!! Kannm ik hem nog terug vinden? Leuk als niemand kan lezen!!! Hallo je chat met Raffaela. Goed dat je een bericht stuurt. Jammer dat je geen respect hebt meer voor onze afdeling, ik wil je wel heel graag helpen. Heb je voor mij een ordernummer of een mailadres waar je mee wilt bestellen ? \\ud83d\\ude0a Hallo Raffaela, mijn excuses voor mijn uitlatingen. Door mijn eilesie kan ik niet veel hebben. Vandaar maar is niet goed te praten. Inmiddels is het opggelost. Prettige dag en tot ziens. Jan Meeuwsen Geen probleem, kan gebeuren. Ook een prettige dag!\",\n\"WhatsApp\",\n\"ik ben klaar met mijn boodschappenlijst maar er staat er is iets mis kunt u zien wat er mis is er is dus niemand die mij antwoord geeft goed dat ik geen respect meer heb voor jullie afdeling houdoe de wattsspp is verl te uitgebreid nu ben ik de bestelling van nu kwijt kannm ik hem nog terug vinden leuk als niemand kan lezen hallo je chat met raffaela goed dat je een bericht stuurt jammer dat je geen respect hebt meer voor onze afdeling ik wil je wel heel graag helpen heb je voor mij een ordernummer of een mailadres waar je mee wilt bestellen   hallo raffaela mijn excuses voor mijn uitlatingen door mijn eilesie kan ik niet veel hebben vandaar maar is niet goed te praten inmiddels is het opggelost prettige dag en tot ziens jan meeuwsen geen probleem kan gebeuren ook een prettige dag\",\n\"klaar boodschappenlijst staat mis kunt zien mis niemand antwoord geeft goed respect jullie afdeling houdoe wattsspp verl uitgebreid bestelling kwijt kannm terug vinden leuk niemand lezen chat raffaela goed bericht stuurt jammer respect hebt onze afdeling wel heel graag helpen ordernummer mailadres waar mee wilt bestellen raffaela excuses uitlatingen eilesie vandaar goed praten inmiddels opggelost prettige dag ziens jan meeuwsen probleem gebeuren prettige dag\",\n\"klaar boodschappenlijst staat mis kunt zien mis niemand antwoord geeft goed respect jullie afdeling houdoe wattsspp verl uitgebreid bestelling kwijt kannm terug vinden leuk niemand lezen chat raffaela goed bericht stuurt jammer respect hebt onze afdeling wel heel graag helpen ordernummer mailadres waar mee wilt bestellen raffaela excuses uitlatingen eilesie vandaar goed praten inmiddels opggelost prettige dag ziens jan meeuwsen probleem gebeuren prettige dag\",\n\"klaar boodschappenlijst staan mis kunnen zien missen niemand antwoord geven goed respect jullie afdeling houdoen wattsspp verl uitbreiden bestelling kwijt kannm terug vinden leuk niemand lezen chat raffaela goed bericht sturen jammer respect hebben ons afdeling wel heel graag helpen ordernummer mailadre waar mee willen bestellen raffaela excuus uitlatingen eilesie vandaar goed praten inmiddels opggelost prettig dag ziens jan meeuws probleem gebeuren prettig dag\"],\n [{\n            'v': 15,\n            'f': \"15\",\n        },\n{\n            'v': 47950,\n            'f': \"47950\",\n        },\n\"Volgens mij zitten de gratis producten er niet bij Hallo Brechtild, je chat met Gabri\\u00ebn. Goed dat je een bericht stuurt. Heb je voor mij een ordernummer en om welke producten zou het moeten gaan? Het ordernummer is 6065580067. Het gaat om Amstelbier 0,0 en graze snacks. Bedankt voor je reactie. Ik heb even met je meegekeken en zie dat het om producten gaat die je gratis mag proberen vanuit leveranciers. Hierbij geldt altijd op=op. Het kan voorkomen dat de voorraad dus al op was. Sorry voor het ongemak. Fijne dag! \\ud83d\\ude0a Aha, jammer! Dank voor de reactie!\",\n\"WhatsApp\",\n\"volgens mij zitten de gratis producten er niet bij hallo brechtild je chat met gabrin goed dat je een bericht stuurt heb je voor mij een ordernummer en om welke producten zou het moeten gaan het ordernummer is [ORDER_NUMBER] het gaat om amstelbier  en graze snacks bedankt voor je reactie ik heb even met je meegekeken en zie dat het om producten gaat die je gratis mag proberen vanuit leveranciers hierbij geldt altijd opop het kan voorkomen dat de voorraad dus al op was sorry voor het ongemak fijne dag  aha jammer dank voor de reactie\",\n\"volgens zitten gratis producten brechtild chat gabrin goed bericht stuurt ordernummer welke producten moeten gaan ordernummer [ORDER_NUMBER] gaat amstelbier graze snacks bedankt reactie even meegekeken zie producten gaat gratis mag proberen vanuit leveranciers hierbij geldt opop voorkomen voorraad sorry ongemak fijne dag aha jammer dank reactie\",\n\"volgens zitten gratis producten brechtild chat gabrin goed bericht stuurt ordernummer welke producten moeten gaan ordernummer [ORDER_NUMBER] gaat amstelbier graze snacks bedankt reactie even meegekeken zie producten gaat gratis mag proberen vanuit leveranciers hierbij geldt opop voorkomen voorraad sorry ongemak fijne dag aha jammer dank reactie\",\n\"volgens zitten gratis product brechtild chat gabrin goed bericht sturen ordernummer welk product moeten gaan ordernummer [ORDER_NUMBER] gaan amstelbier graze snacks bedanken reactie even meegekeken zien product gaan gratis mogen proberen vanuit leverancier hierbij gelden opop voorkomen voorraad sorry ongemak fijn dag aha jammer dank reactie\"],\n [{\n            'v': 16,\n            'f': \"16\",\n        },\n{\n            'v': 47951,\n            'f': \"47951\",\n        },\n\"Hallo, ik probeer al een tijdje een online bestelling te doen op jullie app maar dat lukt niet en via de website weet ik niet hoe het moet. Alvast bedankt Goedemiddag, je chat met Brandon Bedankt voor je bericht! Als je een account hebt op Jumbo dan kan je inloggen en je producten zoeken en ze in het mandje te plaatsten. Zodra je dit hebt gedaan moet je via het mandje een bezorgmoment kiezen en de bestelling afronden. Ik heb een account en dan heb ik mijn goederen in mijn mandje gedaan maar dan loopt er iets mis waardoor ik niet verder kan Goedemiddag, je chat met Brandon. Bedankt voor je bericht! Waarschijnlijk moet je wat verwijderen in het mandje dat niet beschikbaar is. Graag ontvang ik je mail zodat ik ernaar kan kijken.\",\n\"WhatsApp\",\n\"hallo ik probeer al een tijdje een online bestelling te doen op jullie app maar dat lukt niet en via de website weet ik niet hoe het moet alvast bedankt goedemiddag je chat met brandon bedankt voor je bericht als je een account hebt op jumbo dan kan je inloggen en je producten zoeken en ze in het mandje te plaatsten zodra je dit hebt gedaan moet je via het mandje een bezorgmoment kiezen en de bestelling afronden ik heb een account en dan heb ik mijn goederen in mijn mandje gedaan maar dan loopt er iets mis waardoor ik niet verder kan goedemiddag je chat met brandon bedankt voor je bericht waarschijnlijk moet je wat verwijderen in het mandje dat niet beschikbaar is graag ontvang ik je mail zodat ik ernaar kan kijken\",\n\"probeer tijdje online bestelling jullie app lukt via website weet alvast bedankt goedemiddag chat brandon bedankt bericht account hebt jumbo inloggen producten zoeken mandje plaatsten zodra hebt gedaan via mandje bezorgmoment kiezen bestelling afronden account goederen mandje gedaan loopt mis waardoor verder goedemiddag chat brandon bedankt bericht waarschijnlijk verwijderen mandje beschikbaar graag ontvang mail zodat ernaar kijken\",\n\"probeer tijdje online bestelling jullie app lukt via website weet alvast bedankt goedemiddag chat brandon bedankt bericht account hebt jumbo inloggen producten zoeken mandje plaatsten zodra hebt gedaan via mandje bezorgmoment kiezen bestelling afronden account goederen mandje gedaan loopt mis waardoor verder goedemiddag chat brandon bedankt bericht waarschijnlijk verwijderen mandje beschikbaar graag ontvang mail zodat ernaar kijken\",\n\"proberen tijd online bestelling jullie app lukken via website weten alvast bedanken goedemiddag chat brandon bedanken bericht account hebben jumbo inlogg product zoeken mandje plaatst zodra hebben doen via mandje bezorgmoment kiezen bestelling afronen account goed mandje doen lopen mis waardoor ver goedemiddag chat brandon bedanken bericht waarschijnlijk verwijderen mandje beschikbaar graag ontvang mail zodat ernaar kijken\"],\n [{\n            'v': 17,\n            'f': \"17\",\n        },\n{\n            'v': 47952,\n            'f': \"47952\",\n        },\n\"Goedendag, ik ben benieuwd waar ik mijn nr van mijn spaarpunten kan vinden in mijn online account? (Ik zie het nergens staan) Hallo, Bedoel je het pasnummer? Goedendag, ja precies. Die bedoel ik Dat is te zien zodra je de Jumbo extra app opent. Mocht je er niet uit komen, hoor ik het graag! Dus niet bij mijn online account waar ik de bestellingrn regel? Je ziet de punten meteen wanneer je app opent.\",\n\"WhatsApp\",\n\"goedendag ik ben benieuwd waar ik mijn nr van mijn spaarpunten kan vinden in mijn online account ik zie het nergens staan hallo bedoel je het pasnummer goedendag ja precies die bedoel ik dat is te zien zodra je de jumbo extra app opent mocht je er niet uit komen hoor ik het graag dus niet bij mijn online account waar ik de bestellingrn regel je ziet de punten meteen wanneer je app opent\",\n\"goedendag benieuwd waar nr spaarpunten vinden online account zie nergens staan bedoel pasnummer goedendag precies bedoel zien zodra jumbo extra app opent mocht komen hoor graag online account waar bestellingrn regel ziet punten meteen wanneer app opent\",\n\"goedendag benieuwd waar nr spaarpunten vinden online account zie nergens staan bedoel pasnummer goedendag precies bedoel zien zodra jumbo extra app opent mocht komen hoor graag online account waar bestellingrn regel ziet punten meteen wanneer app opent\",\n\"goedendag benieuwd waar nummer spaarpunen vinden online account zien nergens staan bedoel pasnummer goedendag precies bedoelen zien zodra jumbo extra app openen mogen komen hoor graag online account waar bestellingrn regel zien punt meteen wanneer app openen\"],\n [{\n            'v': 18,\n            'f': \"18\",\n        },\n{\n            'v': 47953,\n            'f': \"47953\",\n        },\n\"Dit heb ik gedaan Op welk pasnummer worden ze bijgeschreven? 2622278982178 Ik heb vandaag geen punten bijgeschreven gekregen Terwijl ik al wel 3 keer boodschappen bezorgd heb gekregen Ik vind het echt zonde dat ik dan geen punten spaar Hallo Anke, je chat met Gabri\\u00ebn. De punten worden elke dinsdag automatisch bijgeschreven als de punten er morgen ochtend niet op staan zou je dan opnieuw een bericht kunnen versturen dan kunnen wij die handmatig bijschrijven. Fijne avond ;). Hoi, zal ik doen!\",\n\"WhatsApp\",\n\"dit heb ik gedaan op welk pasnummer worden ze bijgeschreven [CARD_NUMBER] ik heb vandaag geen punten bijgeschreven gekregen terwijl ik al wel  keer boodschappen bezorgd heb gekregen ik vind het echt zonde dat ik dan geen punten spaar hallo anke je chat met gabrin de punten worden elke dinsdag automatisch bijgeschreven als de punten er morgen ochtend niet op staan zou je dan opnieuw een bericht kunnen versturen dan kunnen wij die handmatig bijschrijven fijne avond  hoi zal ik doen\",\n\"gedaan welk pasnummer bijgeschreven [CARD_NUMBER] vandaag punten bijgeschreven gekregen terwijl wel keer boodschappen bezorgd gekregen vind echt zonde punten spaar anke chat gabrin punten elke dinsdag automatisch bijgeschreven punten morgen ochtend staan opnieuw bericht versturen wij handmatig bijschrijven fijne avond hoi\",\n\"gedaan welk pasnummer bijgeschreven [CARD_NUMBER] vandaag punten bijgeschreven gekregen terwijl wel keer boodschappen bezorgd gekregen vind echt zonde punten spaar anke chat gabrin punten elke dinsdag automatisch bijgeschreven punten morgen ochtend staan opnieuw bericht versturen wij handmatig bijschrijven fijne avond hoi\",\n\"doen welk pasnummer bijgeschreven [CARD_NUMBER] vandaag punt bijgeschreven krijgen terwijl wel keer boodschappen bezorgen krijgen vinden echt zonde punt spaar ank chat gabrin punt elk dinsdag automatisch bijgeschreven punt morgen ochtend staan opnieuw bericht versturen wij handmatig bijschrijf fijn avond hoi\"],\n [{\n            'v': 19,\n            'f': \"19\",\n        },\n{\n            'v': 47954,\n            'f': \"47954\",\n        },\n\"Wij willen online bestellen. Hebben een code via de mail ontvangen hiervoor maar als we deze invullen wordt deze niet geaccepteerd Hallo je chat met Raffaela. Goed dat je een bericht stuurt. Heb je voor mij de voucher code ? Dan kijk ik even met je mee. \\ud83d\\ude0a Wilde eigenlijk wel vandaag bestellen ivm aanbiedingen Hallo, je chat met Manal. Heb je jouw aangemeld voor de kennismakingsbundel? Via jullie app Dat je 4x gratis bezorging kreeg bij ?60 Dit schiet niet echt op Hallo , je chat met Roberto . Waar loop je tegenaan ? Lees maar terug. Heb je al geprobeerd deze code handmatig in te voeren? Dan werkt hij vaak wel! :) Werkt ook niet Sorry van terug leze zie ik alleen dat het niet werkt . ik heb meer informatie nodig van je om je verder te helpen . Graag meer informatie geven . bv wat voor melding krijg je als je het invul. Code wordt niet herkend Heb je nu een bestelling staan ? Heb telefonisch contact gehad. Hopelijk nu opgelost dan wil ik het graag zelfeven proberen en anders maak ik een IT ticket aan voor je . . Ik kan nu niet zeggen welke dag geleverd kan worden. Als jij probeert Dan liever nieuwe ticket\",\n\"WhatsApp\",\n\"wij willen online bestellen hebben een code via de mail ontvangen hiervoor maar als we deze invullen wordt deze niet geaccepteerd hallo je chat met raffaela goed dat je een bericht stuurt heb je voor mij de voucher code  dan kijk ik even met je mee  wilde eigenlijk wel vandaag bestellen ivm aanbiedingen hallo je chat met manal heb je jouw aangemeld voor de kennismakingsbundel via jullie app dat je x gratis bezorging kreeg bij  dit schiet niet echt op hallo  je chat met roberto  waar loop je tegenaan  lees maar terug heb je al geprobeerd deze code handmatig in te voeren dan werkt hij vaak wel  werkt ook niet sorry van terug leze zie ik alleen dat het niet werkt  ik heb meer informatie nodig van je om je verder te helpen  graag meer informatie geven  bv wat voor melding krijg je als je het invul code wordt niet herkend heb je nu een bestelling staan  heb telefonisch contact gehad hopelijk nu opgelost dan wil ik het graag zelfeven proberen en anders maak ik een it ticket aan voor je   ik kan nu niet zeggen welke dag geleverd kan worden als jij probeert dan liever nieuwe ticket\",\n\"wij willen online bestellen code via mail ontvangen hiervoor invullen geaccepteerd chat raffaela goed bericht stuurt voucher code kijk even mee wilde eigenlijk wel vandaag bestellen ivm aanbiedingen chat manal jouw aangemeld kennismakingsbundel via jullie app x gratis bezorging kreeg schiet echt chat roberto waar loop tegenaan lees terug geprobeerd code handmatig voeren werkt vaak wel werkt sorry terug leze zie alleen werkt informatie nodig verder helpen graag informatie geven bv melding krijg invul code herkend bestelling staan telefonisch contact gehad hopelijk opgelost graag zelfeven proberen anders maak ticket zeggen welke dag geleverd jij probeert liever nieuwe ticket\",\n\"wij willen online bestellen code via mail ontvangen hiervoor invullen geaccepteerd chat raffaela goed bericht stuurt voucher code kijk even mee wilde eigenlijk wel vandaag bestellen ivm aanbiedingen chat manal jouw aangemeld kennismakingsbundel via jullie app x gratis bezorging kreeg schiet echt chat roberto waar loop tegenaan lees terug geprobeerd code handmatig voeren werkt vaak wel werkt sorry terug leze zie alleen werkt informatie nodig verder helpen graag informatie geven bv melding krijg invul code herkend bestelling staan telefonisch contact gehad hopelijk opgelost graag zelfeven proberen anders maak ticket zeggen welke dag geleverd jij probeert liever nieuwe ticket\",\n\"wij willen online bestellen code via mail ontvangen hiervoor invullen accepteren chat raffaela goed bericht sturen voucher code kijken even mee willen eigenlijk wel vandaag bestellen ivm aanbieding chat manal jou aanmelden kennismakingsbundel via jullie app x gratis bezorging krijgen schiet echt chat roberto waar loop tegenaan lezen terug proberen code handmatig voeren werken vaak wel werken sorry terug leze zien alleen werken informatie nodig ver helpen graag informatie geven bijvoorbeeld melding krijgen invul code herken bestelling staan telefonisch contact hebben hopelijk oplossen graag zelfeven proberen anders maken ticket zeggen welk dag leveren jij proberen liever nieuw ticket\"]],\n        columns: [[\"number\", \"index\"], [\"number\", \"Unnamed: 0\"], [\"string\", \"descr\"], [\"string\", \"source\"], [\"string\", \"clean_descr\"], [\"string\", \"stopw_descr\"], [\"string\", \"stopw\"], [\"string\", \"lemmatized\"]],\n        columnOptions: [{\"width\": \"1px\", \"className\": \"index_column\"}],\n        rowsPerPage: 25,\n        helpUrl: \"https://colab.research.google.com/notebooks/data_table.ipynb\",\n        suppressOutputScrolling: true,\n        minimumWidth: undefined,\n      });\n    "
          },
          "metadata": {},
          "execution_count": 38
        }
      ]
    }
  ]
}