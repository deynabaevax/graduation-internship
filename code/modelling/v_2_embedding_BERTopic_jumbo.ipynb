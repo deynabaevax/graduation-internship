{
 "cells": [
  {
   "cell_type": "markdown",
   "metadata": {},
   "source": [
    "# Modelling \n",
    "### Jumbo data\n",
    "\n",
    "<hr>"
   ]
  },
  {
   "cell_type": "markdown",
   "metadata": {},
   "source": [
    "### Import the libraries"
   ]
  },
  {
   "cell_type": "code",
   "execution_count": 25,
   "metadata": {},
   "outputs": [],
   "source": [
    "import pandas as pd\n",
    "import numpy as np\n",
    "\n",
    "import matplotlib.pyplot as plt\n",
    "%matplotlib inline\n",
    "import seaborn as sns\n",
    "\n",
    "from sklearn.datasets import load_digits\n",
    "from sklearn.model_selection import train_test_split\n",
    "from sklearn.preprocessing import StandardScaler\n",
    "\n",
    "import warnings\n",
    "warnings.filterwarnings(\"ignore\")"
   ]
  },
  {
   "cell_type": "markdown",
   "metadata": {},
   "source": [
    "### Load the data"
   ]
  },
  {
   "cell_type": "code",
   "execution_count": 26,
   "metadata": {},
   "outputs": [],
   "source": [
    "df = pd.read_csv(\"/Users/deyna.baeva/Documents/code/data/jumbo-lemmatized.csv\")"
   ]
  },
  {
   "cell_type": "code",
   "execution_count": 3,
   "metadata": {},
   "outputs": [],
   "source": [
    "df.drop(df.columns[df.columns.str.contains(\"Unnamed\", case=False)], axis=1, inplace=True)"
   ]
  },
  {
   "cell_type": "code",
   "execution_count": 27,
   "metadata": {},
   "outputs": [
    {
     "data": {
      "text/html": [
       "<div>\n",
       "<style scoped>\n",
       "    .dataframe tbody tr th:only-of-type {\n",
       "        vertical-align: middle;\n",
       "    }\n",
       "\n",
       "    .dataframe tbody tr th {\n",
       "        vertical-align: top;\n",
       "    }\n",
       "\n",
       "    .dataframe thead th {\n",
       "        text-align: right;\n",
       "    }\n",
       "</style>\n",
       "<table border=\"1\" class=\"dataframe\">\n",
       "  <thead>\n",
       "    <tr style=\"text-align: right;\">\n",
       "      <th></th>\n",
       "      <th>Unnamed: 0</th>\n",
       "      <th>descr</th>\n",
       "      <th>source</th>\n",
       "      <th>clean_descr</th>\n",
       "      <th>stopw_descr</th>\n",
       "      <th>stopw</th>\n",
       "      <th>lemmatized</th>\n",
       "    </tr>\n",
       "  </thead>\n",
       "  <tbody>\n",
       "    <tr>\n",
       "      <th>0</th>\n",
       "      <td>47935</td>\n",
       "      <td>Dag, ik had een probleem met mijn bestelling v...</td>\n",
       "      <td>WhatsApp</td>\n",
       "      <td>dag ik had een probleem met mijn bestelling va...</td>\n",
       "      <td>dag probleem bestelling gemeld ontvang vandaag...</td>\n",
       "      <td>dag probleem bestelling gemeld ontvang vandaag...</td>\n",
       "      <td>dag probleem bestelling melden ontvang vandaag...</td>\n",
       "    </tr>\n",
       "    <tr>\n",
       "      <th>1</th>\n",
       "      <td>47936</td>\n",
       "      <td>Beste heer mevrouw Inmiddels zijn we 3 maanden...</td>\n",
       "      <td>WhatsApp</td>\n",
       "      <td>beste heer mevrouw inmiddels zijn we  maanden ...</td>\n",
       "      <td>beste heer mevrouw inmiddels maanden verder st...</td>\n",
       "      <td>beste heer mevrouw inmiddels maanden verder st...</td>\n",
       "      <td>goed heer mevrouw inmiddels maand ver steeds r...</td>\n",
       "    </tr>\n",
       "    <tr>\n",
       "      <th>2</th>\n",
       "      <td>47937</td>\n",
       "      <td>Hallo, staan er voedingswaarden vermeld op de ...</td>\n",
       "      <td>WhatsApp</td>\n",
       "      <td>hallo staan er voedingswaarden vermeld op de f...</td>\n",
       "      <td>staan voedingswaarden vermeld flessen wijn ver...</td>\n",
       "      <td>staan voedingswaarden vermeld flessen wijn ver...</td>\n",
       "      <td>staan voedingswaarden vermelden fles wijn verk...</td>\n",
       "    </tr>\n",
       "    <tr>\n",
       "      <th>3</th>\n",
       "      <td>47938</td>\n",
       "      <td>Bij Bestelling: 6057976661 had ik een servicec...</td>\n",
       "      <td>WhatsApp</td>\n",
       "      <td>bij bestelling [ORDER_NUMBER] had ik een servi...</td>\n",
       "      <td>bestelling [ORDER_NUMBER] servicecode ingevuld...</td>\n",
       "      <td>bestelling [ORDER_NUMBER] servicecode ingevuld...</td>\n",
       "      <td>bestelling [ORDER_NUMBER] servicecode invullen...</td>\n",
       "    </tr>\n",
       "    <tr>\n",
       "      <th>4</th>\n",
       "      <td>47939</td>\n",
       "      <td>Hi! Ik heb mijn bestelling net ontvangen. Ik h...</td>\n",
       "      <td>WhatsApp</td>\n",
       "      <td>hi ik heb mijn bestelling net ontvangen ik had...</td>\n",
       "      <td>hi bestelling net ontvangen flessen ingeleverd...</td>\n",
       "      <td>hi bestelling net ontvangen flessen ingeleverd...</td>\n",
       "      <td>hi bestelling net ontvangen fles inleveren gro...</td>\n",
       "    </tr>\n",
       "  </tbody>\n",
       "</table>\n",
       "</div>"
      ],
      "text/plain": [
       "   Unnamed: 0                                              descr    source   \n",
       "0       47935  Dag, ik had een probleem met mijn bestelling v...  WhatsApp  \\\n",
       "1       47936  Beste heer mevrouw Inmiddels zijn we 3 maanden...  WhatsApp   \n",
       "2       47937  Hallo, staan er voedingswaarden vermeld op de ...  WhatsApp   \n",
       "3       47938  Bij Bestelling: 6057976661 had ik een servicec...  WhatsApp   \n",
       "4       47939  Hi! Ik heb mijn bestelling net ontvangen. Ik h...  WhatsApp   \n",
       "\n",
       "                                         clean_descr   \n",
       "0  dag ik had een probleem met mijn bestelling va...  \\\n",
       "1  beste heer mevrouw inmiddels zijn we  maanden ...   \n",
       "2  hallo staan er voedingswaarden vermeld op de f...   \n",
       "3  bij bestelling [ORDER_NUMBER] had ik een servi...   \n",
       "4  hi ik heb mijn bestelling net ontvangen ik had...   \n",
       "\n",
       "                                         stopw_descr   \n",
       "0  dag probleem bestelling gemeld ontvang vandaag...  \\\n",
       "1  beste heer mevrouw inmiddels maanden verder st...   \n",
       "2  staan voedingswaarden vermeld flessen wijn ver...   \n",
       "3  bestelling [ORDER_NUMBER] servicecode ingevuld...   \n",
       "4  hi bestelling net ontvangen flessen ingeleverd...   \n",
       "\n",
       "                                               stopw   \n",
       "0  dag probleem bestelling gemeld ontvang vandaag...  \\\n",
       "1  beste heer mevrouw inmiddels maanden verder st...   \n",
       "2  staan voedingswaarden vermeld flessen wijn ver...   \n",
       "3  bestelling [ORDER_NUMBER] servicecode ingevuld...   \n",
       "4  hi bestelling net ontvangen flessen ingeleverd...   \n",
       "\n",
       "                                          lemmatized  \n",
       "0  dag probleem bestelling melden ontvang vandaag...  \n",
       "1  goed heer mevrouw inmiddels maand ver steeds r...  \n",
       "2  staan voedingswaarden vermelden fles wijn verk...  \n",
       "3  bestelling [ORDER_NUMBER] servicecode invullen...  \n",
       "4  hi bestelling net ontvangen fles inleveren gro...  "
      ]
     },
     "execution_count": 27,
     "metadata": {},
     "output_type": "execute_result"
    }
   ],
   "source": [
    "df.head()"
   ]
  },
  {
   "cell_type": "markdown",
   "metadata": {},
   "source": [
    "## Sentence Transformers"
   ]
  },
  {
   "cell_type": "markdown",
   "metadata": {},
   "source": [
    "### Install the sentence transformers"
   ]
  },
  {
   "cell_type": "code",
   "execution_count": null,
   "metadata": {},
   "outputs": [],
   "source": [
    "!pip install -U sentence-transformers"
   ]
  },
  {
   "cell_type": "code",
   "execution_count": 12,
   "metadata": {},
   "outputs": [],
   "source": [
    "from sentence_transformers import SentenceTransformer, util"
   ]
  },
  {
   "cell_type": "code",
   "execution_count": null,
   "metadata": {},
   "outputs": [],
   "source": [
    "model = SentenceTransformer(\"sentence-transformers/paraphrase-multilingual-MiniLM-L12-v2\")"
   ]
  },
  {
   "cell_type": "code",
   "execution_count": 28,
   "metadata": {},
   "outputs": [],
   "source": [
    "sentences = df[\"lemmatized\"]"
   ]
  },
  {
   "cell_type": "code",
   "execution_count": null,
   "metadata": {},
   "outputs": [],
   "source": [
    "# encode the sentences\n",
    "# sentence_embeddings = model.encode(sentences)"
   ]
  },
  {
   "cell_type": "code",
   "execution_count": null,
   "metadata": {},
   "outputs": [],
   "source": [
    "# save the embeddings\n",
    "# np.save(\"\", sentence_embeddings)"
   ]
  },
  {
   "cell_type": "code",
   "execution_count": 29,
   "metadata": {},
   "outputs": [],
   "source": [
    "# load the embeddings\n",
    "sentence_embeddings = np.load(\"/Users/deyna.baeva/Documents/code/embeddings/multilingual-MiniLM-L12-v2.npy\")"
   ]
  },
  {
   "cell_type": "code",
   "execution_count": 30,
   "metadata": {},
   "outputs": [
    {
     "data": {
      "text/plain": [
       "(47544, 384)"
      ]
     },
     "execution_count": 30,
     "metadata": {},
     "output_type": "execute_result"
    }
   ],
   "source": [
    "sentence_embeddings.shape"
   ]
  },
  {
   "cell_type": "code",
   "execution_count": 31,
   "metadata": {},
   "outputs": [
    {
     "data": {
      "text/plain": [
       "array([[-0.14097682,  0.06298105, -0.12862955, ...,  0.14233859,\n",
       "        -0.21856892,  0.06692622],\n",
       "       [ 0.11988024,  0.28204003, -0.10396334, ...,  0.09969303,\n",
       "        -0.07212534,  0.08834539],\n",
       "       [ 0.10301279,  0.02016206, -0.09115618, ..., -0.1469303 ,\n",
       "        -0.00316487, -0.07585957],\n",
       "       ...,\n",
       "       [ 0.10466748,  0.10134393,  0.06575654, ...,  0.24203317,\n",
       "        -0.20376122,  0.06246762],\n",
       "       [ 0.02631031,  0.05412462, -0.16626863, ...,  0.06920791,\n",
       "         0.04720117,  0.14681664],\n",
       "       [-0.09887922,  0.20668933, -0.08977612, ...,  0.17091027,\n",
       "        -0.30220854,  0.06808326]], dtype=float32)"
      ]
     },
     "execution_count": 31,
     "metadata": {},
     "output_type": "execute_result"
    }
   ],
   "source": [
    "sentence_embeddings"
   ]
  },
  {
   "cell_type": "code",
   "execution_count": null,
   "metadata": {},
   "outputs": [],
   "source": [
    "# print the embeddings\n",
    "# for sentence, embedding in zip(sentences, sentence_embeddings):\n",
    "#     print(\"Sentence:\", sentence)\n",
    "#     print(\"Embedding:\", embedding)\n",
    "#     print(\"\")"
   ]
  },
  {
   "cell_type": "markdown",
   "metadata": {},
   "source": [
    "## Cosine similarities"
   ]
  },
  {
   "cell_type": "code",
   "execution_count": 17,
   "metadata": {},
   "outputs": [],
   "source": [
    "# compute cosine similarity between all pairs\n",
    "cos_sim = util.cos_sim(sentence_embeddings, sentence_embeddings)"
   ]
  },
  {
   "cell_type": "code",
   "execution_count": 20,
   "metadata": {},
   "outputs": [],
   "source": [
    "# query = \"I want to buy milk and cheese.\"\n",
    "# query_embedding = model.encode([query])[0]\n",
    "# similarity_scores = util.cos_sim([query_embedding], sentence_embeddings)[0]\n",
    "# most_similar_indices = similarity_scores.argsort()[::-1][:10]  # get top 10 most similar sentences"
   ]
  },
  {
   "cell_type": "code",
   "execution_count": null,
   "metadata": {},
   "outputs": [],
   "source": [
    "# add all pairs to a list with their cosine similarity score\n",
    "all_sentence_combinations = []\n",
    "\n",
    "for i in range(len(cos_sim)-1):\n",
    "    for j in range(i+1, len(cos_sim)):\n",
    "        all_sentence_combinations.append([cos_sim[i][j], i, j])"
   ]
  },
  {
   "cell_type": "code",
   "execution_count": null,
   "metadata": {},
   "outputs": [],
   "source": [
    "# sort list by the highest cosine similarity score\n",
    "all_sentence_combinations = sorted(all_sentence_combinations, key=lambda x: x[0], reverse=True)"
   ]
  },
  {
   "cell_type": "code",
   "execution_count": null,
   "metadata": {},
   "outputs": [],
   "source": [
    "print(\"Top-5 most similar pairs:\")\n",
    "for score, i, j in all_sentence_combinations[0:5]:\n",
    "    print(\"{} \\t {} \\t {:.4f}\".format(sentences[i], sentences[j], cos_sim[i][j]))"
   ]
  },
  {
   "cell_type": "markdown",
   "metadata": {},
   "source": [
    "## PCA\n",
    "\n",
    "> One of the main reasons to perform PCA on the sentence embeddings is to reduce the dimensionality of the data. Sentence embeddings generated by models like Sentence Transformers can have a very high dimensionality (often hundreds or thousands of dimensions), which can make it difficult to visualize and analyze the data. By applying PCA, the number of dimensions can be reduced while retaining most of the information in the data."
   ]
  },
  {
   "cell_type": "code",
   "execution_count": 21,
   "metadata": {},
   "outputs": [],
   "source": [
    "from sklearn.decomposition import PCA\n",
    "\n",
    "# Create a PCA object with n_components = 50\n",
    "pca = PCA(n_components=50)\n",
    "\n",
    "# Apply PCA to the sentence embeddings\n",
    "pca_embeddings = pca.fit_transform(sentence_embeddings)"
   ]
  },
  {
   "cell_type": "code",
   "execution_count": 22,
   "metadata": {},
   "outputs": [],
   "source": [
    "from sklearn.preprocessing import StandardScaler\n",
    "\n",
    "# Standardize the sentence embeddings\n",
    "scaler = StandardScaler()\n",
    "normalized_embeddings = scaler.fit_transform(sentence_embeddings)\n",
    "\n",
    "# Apply PCA to the normalized embeddings\n",
    "pca_embeddings = pca.fit_transform(normalized_embeddings)"
   ]
  },
  {
   "cell_type": "code",
   "execution_count": 23,
   "metadata": {},
   "outputs": [
    {
     "data": {
      "text/plain": [
       "array([ 1.0129004 ,  7.36351   ,  3.6993332 , -3.2468455 ,  0.6795826 ,\n",
       "        0.559992  , -0.8449178 , -1.8235863 , -2.1789408 , -0.10122748,\n",
       "       -2.3255565 , -2.1107223 , -1.107649  , -0.48770496,  2.058912  ,\n",
       "       -0.5650372 , -0.880474  ,  2.4190412 ,  0.4106248 , -0.72742224,\n",
       "        1.9936911 , -2.9633858 , -0.6545261 ,  0.7715547 , -1.4463716 ,\n",
       "        1.7539402 , -0.13424982, -0.7546894 ,  2.0565171 , -2.4840105 ,\n",
       "        0.03575433, -1.064006  , -1.1767817 , -4.3761964 , -0.37582472,\n",
       "       -0.7833413 ,  1.796352  ,  0.4714039 ,  1.5926218 ,  0.06254624,\n",
       "        0.29060066, -0.28330258,  0.454497  , -0.40347   , -0.00742402,\n",
       "        0.26131344, -0.50434375, -1.235677  , -0.78450924, -0.8956952 ],\n",
       "      dtype=float32)"
      ]
     },
     "execution_count": 23,
     "metadata": {},
     "output_type": "execute_result"
    }
   ],
   "source": [
    "pca_embeddings[0]"
   ]
  },
  {
   "cell_type": "markdown",
   "metadata": {},
   "source": [
    "## Dimensionality reduction"
   ]
  },
  {
   "cell_type": "markdown",
   "metadata": {},
   "source": [
    "## UMAP\n",
    "\n",
    "> UMAP (Uniform Manifold Approximation and Projection) is a dimensionality reduction technique that can be used to visualize high-dimensional data in lower-dimensional space. It is particularly well-suited for preserving local structure in the data, which can be important for identifying clusters or groups of similar data points. "
   ]
  },
  {
   "cell_type": "code",
   "execution_count": 27,
   "metadata": {},
   "outputs": [],
   "source": [
    "import locale\n",
    "locale.getpreferredencoding = lambda: \"UTF-8\""
   ]
  },
  {
   "cell_type": "code",
   "execution_count": null,
   "metadata": {},
   "outputs": [],
   "source": [
    "!pip install umap-learn"
   ]
  },
  {
   "cell_type": "code",
   "execution_count": 32,
   "metadata": {},
   "outputs": [],
   "source": [
    "sns.set(style='white', context='notebook', rc={'figure.figsize':(10,5)})"
   ]
  },
  {
   "cell_type": "code",
   "execution_count": 33,
   "metadata": {},
   "outputs": [],
   "source": [
    "import umap\n",
    "\n",
    "# apply UMAP to the sentence embeddings\n",
    "umap_ = umap.UMAP(n_neighbors=20, \n",
    "                    min_dist=0.03, \n",
    "                    n_components=5)"
   ]
  },
  {
   "cell_type": "code",
   "execution_count": 10,
   "metadata": {},
   "outputs": [],
   "source": [
    "umap_model = umap_.fit_transform(sentence_embeddings)"
   ]
  },
  {
   "cell_type": "code",
   "execution_count": 17,
   "metadata": {},
   "outputs": [
    {
     "data": {
      "image/png": "[encoded data removed]",
      "text/plain": [
       "<Figure size 1000x500 with 1 Axes>"
      ]
     },
     "metadata": {},
     "output_type": "display_data"
    }
   ],
   "source": [
    "# visualize the results\n",
    "# plot the first two dimensions\n",
    "plt.scatter(umap_model[:,0], umap_model[:,1])\n",
    "plt.show()"
   ]
  },
  {
   "cell_type": "code",
   "execution_count": 18,
   "metadata": {},
   "outputs": [
    {
     "data": {
      "image/png": "[encoded data removed]",
      "text/plain": [
       "<Figure size 1000x500 with 1 Axes>"
      ]
     },
     "metadata": {},
     "output_type": "display_data"
    }
   ],
   "source": [
    "from mpl_toolkits import mplot3d\n",
    "\n",
    "fig = plt.figure()\n",
    "ax = plt.axes(projection=\"3d\")\n",
    "ax.scatter3D(umap_model[:,0], umap_model[:,1], umap_model[:,2])\n",
    "plt.show()"
   ]
  },
  {
   "cell_type": "code",
   "execution_count": 19,
   "metadata": {},
   "outputs": [
    {
     "data": {
      "text/plain": [
       "array([8.337638 , 1.6970401, 1.1516057, 7.037611 , 3.5557013],\n",
       "      dtype=float32)"
      ]
     },
     "execution_count": 19,
     "metadata": {},
     "output_type": "execute_result"
    }
   ],
   "source": [
    "umap_model[0]"
   ]
  },
  {
   "cell_type": "code",
   "execution_count": 20,
   "metadata": {},
   "outputs": [
    {
     "data": {
      "text/plain": [
       "(47544, 5)"
      ]
     },
     "execution_count": 20,
     "metadata": {},
     "output_type": "execute_result"
    }
   ],
   "source": [
    "umap_model.shape"
   ]
  },
  {
   "cell_type": "markdown",
   "metadata": {},
   "source": [
    "## HDBSCAN\n",
    "\n",
    "> HDBSCAN is a density-based clustering algorithm that can discover clusters of varying shapes and sizes. It works by first computing the minimum spanning tree of the data, and then clustering the tree nodes based on their density."
   ]
  },
  {
   "cell_type": "code",
   "execution_count": null,
   "metadata": {},
   "outputs": [
    {
     "name": "stdout",
     "output_type": "stream",
     "text": [
      "  Building wheel for hdbscan (pyproject.toml) ... \u001b[?25l\u001b[?25hdone\n",
      "  Created wheel for hdbscan: filename=hdbscan-0.8.29-cp39-cp39-linux_x86_64.whl size=3582070 sha256=37ae50673ae34e153aeccddd74c57b99ab2ab30ac4c68a1d26756982f77d7d20\n",
      "  Stored in directory: /root/.cache/pip/wheels/05/6f/88/1a4c04276b98306f00217a1e300e6ba0252c6aa4f7616067ae\n",
      "Successfully built hdbscan\n",
      "Installing collected packages: hdbscan\n",
      "Successfully installed hdbscan-0.8.29\n"
     ]
    }
   ],
   "source": [
    "!pip install hdbscan"
   ]
  },
  {
   "cell_type": "code",
   "execution_count": 36,
   "metadata": {},
   "outputs": [],
   "source": [
    "import hdbscan"
   ]
  },
  {
   "cell_type": "code",
   "execution_count": 37,
   "metadata": {},
   "outputs": [],
   "source": [
    "# apply HDBSCAN to the sentence embeddings\n",
    "hdbscan_ = hdbscan.HDBSCAN(min_cluster_size=10, \n",
    "                            #   min_samples=1,\n",
    "                              metric=\"euclidean\",\n",
    "                              cluster_selection_method=\"eom\",\n",
    "                              prediction_data=True)"
   ]
  },
  {
   "cell_type": "markdown",
   "metadata": {},
   "source": [
    "> In this code, min_cluster_size specifies the minimum number of points needed for a cluster to be formed, min_samples specifies the number of neighboring points needed for a point to be considered a core point, and metric specifies the distance metric used to measure the distance between points."
   ]
  },
  {
   "cell_type": "code",
   "execution_count": 38,
   "metadata": {},
   "outputs": [],
   "source": [
    "hdbscan_model = hdbscan_.fit_predict(sentence_embeddings)"
   ]
  },
  {
   "cell_type": "code",
   "execution_count": null,
   "metadata": {},
   "outputs": [
    {
     "data": {
      "image/png": "[encoded data removed]",
      "text/plain": [
       "<Figure size 640x480 with 1 Axes>"
      ]
     },
     "metadata": {},
     "output_type": "display_data"
    }
   ],
   "source": [
    "# visualize the results\n",
    "plt.scatter(umap_model[:,0], umap_model[:,1], c=hdbscan_model, cmap=\"viridis\")\n",
    "plt.show()"
   ]
  },
  {
   "cell_type": "markdown",
   "metadata": {},
   "source": [
    "> Points that are close together in the plot belong to the same cluster, while points that are far away belog to different clusters."
   ]
  },
  {
   "cell_type": "markdown",
   "metadata": {},
   "source": [
    "## CountVectorizer"
   ]
  },
  {
   "cell_type": "code",
   "execution_count": null,
   "metadata": {},
   "outputs": [],
   "source": [
    "from sklearn.feature_extraction.text import CountVectorizer\n",
    "from bertopic.vectorizers import ClassTfidfTransformer\n",
    "\n",
    "from bertopic import BERTopic\n",
    "from bertopic.representation import KeyBERTInspired"
   ]
  },
  {
   "cell_type": "code",
   "execution_count": null,
   "metadata": {},
   "outputs": [],
   "source": [
    "# tokenize topics\n",
    "vectorizer_model = CountVectorizer()"
   ]
  },
  {
   "cell_type": "code",
   "execution_count": null,
   "metadata": {},
   "outputs": [],
   "source": [
    "# create topic representation\n",
    "ctfidf_model = ClassTfidfTransformer()"
   ]
  },
  {
   "cell_type": "code",
   "execution_count": null,
   "metadata": {},
   "outputs": [],
   "source": [
    "# fine-tune topic representations\n",
    "representation_model = KeyBERTInspired()"
   ]
  },
  {
   "cell_type": "code",
   "execution_count": null,
   "metadata": {},
   "outputs": [],
   "source": [
    "embedding_model = sentence_embeddings[0]"
   ]
  },
  {
   "cell_type": "code",
   "execution_count": null,
   "metadata": {},
   "outputs": [],
   "source": [
    "umap_m = umap_model[0]"
   ]
  },
  {
   "cell_type": "code",
   "execution_count": null,
   "metadata": {},
   "outputs": [
    {
     "data": {
      "text/plain": [
       "array([8.831151 , 5.777738 , 5.1543145, 4.459871 , 5.6402574, 4.1650796,\n",
       "       4.7417526, 5.1710973, 4.33806  , 4.2893057, 3.0006597],\n",
       "      dtype=float32)"
      ]
     },
     "metadata": {},
     "output_type": "display_data"
    }
   ],
   "source": [
    "umap_model[0]"
   ]
  },
  {
   "cell_type": "code",
   "execution_count": null,
   "metadata": {},
   "outputs": [],
   "source": [
    "sent = list(df[\"lemmatized\"])"
   ]
  },
  {
   "cell_type": "markdown",
   "metadata": {},
   "source": [
    "> Reference: https://maartengr.github.io/BERTopic/algorithm/algorithm.html#code-overview "
   ]
  },
  {
   "cell_type": "code",
   "execution_count": null,
   "metadata": {},
   "outputs": [],
   "source": [
    "# combine the steps\n",
    "topic_model = BERTopic(\n",
    "    language=\"multilingual\",\n",
    "    # embedding_model=\"sentence-transformers/distiluse-base-multilingual-cased-v2\",\n",
    "    embedding_model = \"sentence-transformers/paraphrase-multilingual-MiniLM-L12-v2\",\n",
    "    # embedding_model=embedding_model,          # Step 1 - Extract embeddings\n",
    "    # umap_model=umap_model,                    # Step 2 - Reduce dimensionality\n",
    "    # hdbscan_model=hdbscan_model,              # Step 3 - Cluster reduced embeddings\n",
    "    # vectorizer_model=vectorizer_model,        # Step 4 - Tokenize topics\n",
    "    # ctfidf_model=ctfidf_model,                # Step 5 - Extract topic words\n",
    "    representation_model=representation_model # Step 6 - Fine-tune topic represenations\n",
    ")"
   ]
  },
  {
   "cell_type": "code",
   "execution_count": null,
   "metadata": {},
   "outputs": [
    {
     "data": {
      "application/vnd.jupyter.widget-view+json": {
       "model_id": "e40254d03d0e405fbd5ba36ad5522a35",
       "version_major": 2,
       "version_minor": 0
      },
      "text/plain": [
       "Downloading (…)0fe39/.gitattributes:   0%|          | 0.00/968 [00:00<?, ?B/s]"
      ]
     },
     "metadata": {},
     "output_type": "display_data"
    },
    {
     "data": {
      "application/vnd.jupyter.widget-view+json": {
       "model_id": "1c3f7ec7b9374c5ca4a83efd5b0b1f16",
       "version_major": 2,
       "version_minor": 0
      },
      "text/plain": [
       "Downloading (…)_Pooling/config.json:   0%|          | 0.00/190 [00:00<?, ?B/s]"
      ]
     },
     "metadata": {},
     "output_type": "display_data"
    },
    {
     "data": {
      "application/vnd.jupyter.widget-view+json": {
       "model_id": "bb703195be6d4bcbb9a8319228f07e18",
       "version_major": 2,
       "version_minor": 0
      },
      "text/plain": [
       "Downloading (…)83e900fe39/README.md: 0.00B [00:00, ?B/s]"
      ]
     },
     "metadata": {},
     "output_type": "display_data"
    },
    {
     "data": {
      "application/vnd.jupyter.widget-view+json": {
       "model_id": "9e8d3ca9a66f496d8f446c3b490434f3",
       "version_major": 2,
       "version_minor": 0
      },
      "text/plain": [
       "Downloading (…)e900fe39/config.json:   0%|          | 0.00/645 [00:00<?, ?B/s]"
      ]
     },
     "metadata": {},
     "output_type": "display_data"
    },
    {
     "data": {
      "application/vnd.jupyter.widget-view+json": {
       "model_id": "73304c968443455ba825909037034f64",
       "version_major": 2,
       "version_minor": 0
      },
      "text/plain": [
       "Downloading (…)ce_transformers.json:   0%|          | 0.00/122 [00:00<?, ?B/s]"
      ]
     },
     "metadata": {},
     "output_type": "display_data"
    },
    {
     "data": {
      "application/vnd.jupyter.widget-view+json": {
       "model_id": "47c6712f33594b78bb80674d0260cf83",
       "version_major": 2,
       "version_minor": 0
      },
      "text/plain": [
       "Downloading pytorch_model.bin:   0%|          | 0.00/471M [00:00<?, ?B/s]"
      ]
     },
     "metadata": {},
     "output_type": "display_data"
    },
    {
     "data": {
      "application/vnd.jupyter.widget-view+json": {
       "model_id": "5cddb02a7f28413fa47a7c6d9d310526",
       "version_major": 2,
       "version_minor": 0
      },
      "text/plain": [
       "Downloading (…)nce_bert_config.json:   0%|          | 0.00/53.0 [00:00<?, ?B/s]"
      ]
     },
     "metadata": {},
     "output_type": "display_data"
    },
    {
     "data": {
      "application/vnd.jupyter.widget-view+json": {
       "model_id": "d8743e95149644bfb9b48741801b3244",
       "version_major": 2,
       "version_minor": 0
      },
      "text/plain": [
       "Downloading (…)tencepiece.bpe.model:   0%|          | 0.00/5.07M [00:00<?, ?B/s]"
      ]
     },
     "metadata": {},
     "output_type": "display_data"
    },
    {
     "data": {
      "application/vnd.jupyter.widget-view+json": {
       "model_id": "94f995780fb545d286b82af1ac186420",
       "version_major": 2,
       "version_minor": 0
      },
      "text/plain": [
       "Downloading (…)cial_tokens_map.json:   0%|          | 0.00/239 [00:00<?, ?B/s]"
      ]
     },
     "metadata": {},
     "output_type": "display_data"
    },
    {
     "data": {
      "application/vnd.jupyter.widget-view+json": {
       "model_id": "ed287843b9844332beb5802ab64d032d",
       "version_major": 2,
       "version_minor": 0
      },
      "text/plain": [
       "Downloading tokenizer.json:   0%|          | 0.00/9.08M [00:00<?, ?B/s]"
      ]
     },
     "metadata": {},
     "output_type": "display_data"
    },
    {
     "data": {
      "application/vnd.jupyter.widget-view+json": {
       "model_id": "440360bf7477480c892e11615f7a32e9",
       "version_major": 2,
       "version_minor": 0
      },
      "text/plain": [
       "Downloading (…)okenizer_config.json:   0%|          | 0.00/480 [00:00<?, ?B/s]"
      ]
     },
     "metadata": {},
     "output_type": "display_data"
    },
    {
     "data": {
      "application/vnd.jupyter.widget-view+json": {
       "model_id": "1dc043aecbeb4054b131c85cdc3ae5c2",
       "version_major": 2,
       "version_minor": 0
      },
      "text/plain": [
       "Downloading unigram.json:   0%|          | 0.00/14.8M [00:00<?, ?B/s]"
      ]
     },
     "metadata": {},
     "output_type": "display_data"
    },
    {
     "data": {
      "application/vnd.jupyter.widget-view+json": {
       "model_id": "f74029f898314b7bba39ca2b68623295",
       "version_major": 2,
       "version_minor": 0
      },
      "text/plain": [
       "Downloading (…)900fe39/modules.json:   0%|          | 0.00/229 [00:00<?, ?B/s]"
      ]
     },
     "metadata": {},
     "output_type": "display_data"
    }
   ],
   "source": [
    "topics, probs = topic_model.fit_transform(sent)"
   ]
  },
  {
   "cell_type": "code",
   "execution_count": null,
   "metadata": {},
   "outputs": [
    {
     "name": "stdout",
     "output_type": "stream",
     "text": [
      "Number of topics: 290\n"
     ]
    },
    {
     "data": {
      "text/html": [
       "\n",
       "  <div id=\"df-a844f20c-57b8-4ed8-8f1b-580876967e82\">\n",
       "    <div class=\"colab-df-container\">\n",
       "      <div>\n",
       "<style scoped>\n",
       "    .dataframe tbody tr th:only-of-type {\n",
       "        vertical-align: middle;\n",
       "    }\n",
       "\n",
       "    .dataframe tbody tr th {\n",
       "        vertical-align: top;\n",
       "    }\n",
       "\n",
       "    .dataframe thead th {\n",
       "        text-align: right;\n",
       "    }\n",
       "</style>\n",
       "<table border=\"1\" class=\"dataframe\">\n",
       "  <thead>\n",
       "    <tr style=\"text-align: right;\">\n",
       "      <th></th>\n",
       "      <th>Topic</th>\n",
       "      <th>Count</th>\n",
       "      <th>Name</th>\n",
       "    </tr>\n",
       "  </thead>\n",
       "  <tbody>\n",
       "    <tr>\n",
       "      <th>0</th>\n",
       "      <td>-1</td>\n",
       "      <td>24874</td>\n",
       "      <td>-1_boodschapp_boodschappen_melding_chat</td>\n",
       "    </tr>\n",
       "    <tr>\n",
       "      <th>1</th>\n",
       "      <td>0</td>\n",
       "      <td>1766</td>\n",
       "      <td>0_kortingscode_boodschapp_boodschappen_voucher</td>\n",
       "    </tr>\n",
       "    <tr>\n",
       "      <th>2</th>\n",
       "      <td>1</td>\n",
       "      <td>1093</td>\n",
       "      <td>1_cola_drinken_drank_alcohol</td>\n",
       "    </tr>\n",
       "    <tr>\n",
       "      <th>3</th>\n",
       "      <td>2</td>\n",
       "      <td>795</td>\n",
       "      <td>2_cancel_anuleren_ordernummer_bestelling</td>\n",
       "    </tr>\n",
       "    <tr>\n",
       "      <th>4</th>\n",
       "      <td>3</td>\n",
       "      <td>621</td>\n",
       "      <td>3_terugbetalen_terugbetaling_terugbetalingsaan...</td>\n",
       "    </tr>\n",
       "    <tr>\n",
       "      <th>5</th>\n",
       "      <td>4</td>\n",
       "      <td>541</td>\n",
       "      <td>4_winkel_winkelaankoop_winkelassortiment_online</td>\n",
       "    </tr>\n",
       "    <tr>\n",
       "      <th>6</th>\n",
       "      <td>5</td>\n",
       "      <td>516</td>\n",
       "      <td>5_cheese_mozzarella_kaasbrood_kaas</td>\n",
       "    </tr>\n",
       "    <tr>\n",
       "      <th>7</th>\n",
       "      <td>6</td>\n",
       "      <td>510</td>\n",
       "      <td>6_melkpak_melk_melkpoeder_milk</td>\n",
       "    </tr>\n",
       "    <tr>\n",
       "      <th>8</th>\n",
       "      <td>7</td>\n",
       "      <td>483</td>\n",
       "      <td>7_broodafdeling_brood_bakkerij_chat</td>\n",
       "    </tr>\n",
       "    <tr>\n",
       "      <th>9</th>\n",
       "      <td>8</td>\n",
       "      <td>434</td>\n",
       "      <td>8_boodschappen_melding_hoor_mee</td>\n",
       "    </tr>\n",
       "  </tbody>\n",
       "</table>\n",
       "</div>\n",
       "      <button class=\"colab-df-convert\" onclick=\"convertToInteractive('df-a844f20c-57b8-4ed8-8f1b-580876967e82')\"\n",
       "              title=\"Convert this dataframe to an interactive table.\"\n",
       "              style=\"display:none;\">\n",
       "        \n",
       "  <svg xmlns=\"http://www.w3.org/2000/svg\" height=\"24px\"viewBox=\"0 0 24 24\"\n",
       "       width=\"24px\">\n",
       "    <path d=\"M0 0h24v24H0V0z\" fill=\"none\"/>\n",
       "    <path d=\"M18.56 5.44l.94 2.06.94-2.06 2.06-.94-2.06-.94-.94-2.06-.94 2.06-2.06.94zm-11 1L8.5 8.5l.94-2.06 2.06-.94-2.06-.94L8.5 2.5l-.94 2.06-2.06.94zm10 10l.94 2.06.94-2.06 2.06-.94-2.06-.94-.94-2.06-.94 2.06-2.06.94z\"/><path d=\"M17.41 7.96l-1.37-1.37c-.4-.4-.92-.59-1.43-.59-.52 0-1.04.2-1.43.59L10.3 9.45l-7.72 7.72c-.78.78-.78 2.05 0 2.83L4 21.41c.39.39.9.59 1.41.59.51 0 1.02-.2 1.41-.59l7.78-7.78 2.81-2.81c.8-.78.8-2.07 0-2.86zM5.41 20L4 18.59l7.72-7.72 1.47 1.35L5.41 20z\"/>\n",
       "  </svg>\n",
       "      </button>\n",
       "      \n",
       "  <style>\n",
       "    .colab-df-container {\n",
       "      display:flex;\n",
       "      flex-wrap:wrap;\n",
       "      gap: 12px;\n",
       "    }\n",
       "\n",
       "    .colab-df-convert {\n",
       "      background-color: #E8F0FE;\n",
       "      border: none;\n",
       "      border-radius: 50%;\n",
       "      cursor: pointer;\n",
       "      display: none;\n",
       "      fill: #1967D2;\n",
       "      height: 32px;\n",
       "      padding: 0 0 0 0;\n",
       "      width: 32px;\n",
       "    }\n",
       "\n",
       "    .colab-df-convert:hover {\n",
       "      background-color: #E2EBFA;\n",
       "      box-shadow: 0px 1px 2px rgba(60, 64, 67, 0.3), 0px 1px 3px 1px rgba(60, 64, 67, 0.15);\n",
       "      fill: #174EA6;\n",
       "    }\n",
       "\n",
       "    [theme=dark] .colab-df-convert {\n",
       "      background-color: #3B4455;\n",
       "      fill: #D2E3FC;\n",
       "    }\n",
       "\n",
       "    [theme=dark] .colab-df-convert:hover {\n",
       "      background-color: #434B5C;\n",
       "      box-shadow: 0px 1px 3px 1px rgba(0, 0, 0, 0.15);\n",
       "      filter: drop-shadow(0px 1px 2px rgba(0, 0, 0, 0.3));\n",
       "      fill: #FFFFFF;\n",
       "    }\n",
       "  </style>\n",
       "\n",
       "      <script>\n",
       "        const buttonEl =\n",
       "          document.querySelector('#df-a844f20c-57b8-4ed8-8f1b-580876967e82 button.colab-df-convert');\n",
       "        buttonEl.style.display =\n",
       "          google.colab.kernel.accessAllowed ? 'block' : 'none';\n",
       "\n",
       "        async function convertToInteractive(key) {\n",
       "          const element = document.querySelector('#df-a844f20c-57b8-4ed8-8f1b-580876967e82');\n",
       "          const dataTable =\n",
       "            await google.colab.kernel.invokeFunction('convertToInteractive',\n",
       "                                                     [key], {});\n",
       "          if (!dataTable) return;\n",
       "\n",
       "          const docLinkHtml = 'Like what you see? Visit the ' +\n",
       "            '<a target=\"_blank\" href=https://colab.research.google.com/notebooks/data_table.ipynb>data table notebook</a>'\n",
       "            + ' to learn more about interactive tables.';\n",
       "          element.innerHTML = '';\n",
       "          dataTable['output_type'] = 'display_data';\n",
       "          await google.colab.output.renderOutput(dataTable, element);\n",
       "          const docLink = document.createElement('div');\n",
       "          docLink.innerHTML = docLinkHtml;\n",
       "          element.appendChild(docLink);\n",
       "        }\n",
       "      </script>\n",
       "    </div>\n",
       "  </div>\n",
       "  "
      ],
      "text/plain": [
       "   Topic  Count                                               Name\n",
       "0     -1  24874            -1_boodschapp_boodschappen_melding_chat\n",
       "1      0   1766     0_kortingscode_boodschapp_boodschappen_voucher\n",
       "2      1   1093                       1_cola_drinken_drank_alcohol\n",
       "3      2    795           2_cancel_anuleren_ordernummer_bestelling\n",
       "4      3    621  3_terugbetalen_terugbetaling_terugbetalingsaan...\n",
       "5      4    541    4_winkel_winkelaankoop_winkelassortiment_online\n",
       "6      5    516                 5_cheese_mozzarella_kaasbrood_kaas\n",
       "7      6    510                     6_melkpak_melk_melkpoeder_milk\n",
       "8      7    483                7_broodafdeling_brood_bakkerij_chat\n",
       "9      8    434                    8_boodschappen_melding_hoor_mee"
      ]
     },
     "metadata": {},
     "output_type": "display_data"
    }
   ],
   "source": [
    "freq = topic_model.get_topic_info()\n",
    "print(\"Number of topics: {}\".format(len(freq)))\n",
    "freq.head(10)"
   ]
  },
  {
   "cell_type": "code",
   "execution_count": null,
   "metadata": {},
   "outputs": [],
   "source": [
    "topic_model.save(\"paraphrase-multilingual-MiniLM-L12-v2-bert\")"
   ]
  },
  {
   "cell_type": "markdown",
   "metadata": {},
   "source": [
    "## BERTopic"
   ]
  },
  {
   "cell_type": "code",
   "execution_count": null,
   "metadata": {},
   "outputs": [],
   "source": [
    "!pip install bertopic"
   ]
  },
  {
   "cell_type": "code",
   "execution_count": 21,
   "metadata": {},
   "outputs": [],
   "source": [
    "sent = list(df[\"lemmatized\"])"
   ]
  },
  {
   "cell_type": "code",
   "execution_count": 24,
   "metadata": {},
   "outputs": [
    {
     "name": "stderr",
     "output_type": "stream",
     "text": [
      "Batches: 100%|██████████| 1496/1496 [08:59<00:00,  2.77it/s]\n",
      "2023-04-20 12:01:35,238 - BERTopic - Transformed documents to Embeddings\n",
      "2023-04-20 12:01:49,276 - BERTopic - Reduced dimensionality\n"
     ]
    },
    {
     "name": "stdout",
     "output_type": "stream",
     "text": [
      "huggingface/tokenizers: The current process just got forked, after parallelism has already been used. Disabling parallelism to avoid deadlocks...\n",
      "To disable this warning, you can either:\n",
      "\t- Avoid using `tokenizers` before the fork if possible\n",
      "\t- Explicitly set the environment variable TOKENIZERS_PARALLELISM=(true | false)\n",
      "huggingface/tokenizers: The current process just got forked, after parallelism has already been used. Disabling parallelism to avoid deadlocks...\n",
      "To disable this warning, you can either:\n",
      "\t- Avoid using `tokenizers` before the fork if possible\n",
      "\t- Explicitly set the environment variable TOKENIZERS_PARALLELISM=(true | false)\n",
      "huggingface/tokenizers: The current process just got forked, after parallelism has already been used. Disabling parallelism to avoid deadlocks...\n",
      "To disable this warning, you can either:\n",
      "\t- Avoid using `tokenizers` before the fork if possible\n",
      "\t- Explicitly set the environment variable TOKENIZERS_PARALLELISM=(true | false)\n",
      "huggingface/tokenizers: The current process just got forked, after parallelism has already been used. Disabling parallelism to avoid deadlocks...\n",
      "To disable this warning, you can either:\n",
      "\t- Avoid using `tokenizers` before the fork if possible\n",
      "\t- Explicitly set the environment variable TOKENIZERS_PARALLELISM=(true | false)\n",
      "huggingface/tokenizers: The current process just got forked, after parallelism has already been used. Disabling parallelism to avoid deadlocks...\n",
      "To disable this warning, you can either:\n",
      "\t- Avoid using `tokenizers` before the fork if possible\n",
      "\t- Explicitly set the environment variable TOKENIZERS_PARALLELISM=(true | false)\n"
     ]
    },
    {
     "name": "stderr",
     "output_type": "stream",
     "text": [
      "2023-04-20 12:03:36,082 - BERTopic - Clustered reduced embeddings\n",
      "2023-04-20 12:03:44,596 - BERTopic - Reduced number of topics from 237 to 120\n"
     ]
    }
   ],
   "source": [
    "from bertopic import BERTopic\n",
    "\n",
    "# Create a BERTopic model and fit it to the sentence embeddings\n",
    "topic_model = BERTopic(language=\"multilingual\", \n",
    "                       embedding_model=\"sentence-transformers/paraphrase-multilingual-MiniLM-L12-v2\", \n",
    "                       calculate_probabilities=True, \n",
    "                       verbose=True, \n",
    "                       nr_topics=120,\n",
    "                       umap_model=umap_)\n",
    "topics, probs = topic_model.fit_transform(sent)"
   ]
  },
  {
   "cell_type": "code",
   "execution_count": null,
   "metadata": {},
   "outputs": [],
   "source": [
    "# load the saved model\n",
    "model = BERTopic.load(\"/content/drive/MyDrive/BERTopic+embeddings/BERTopic/bert-model_v1\")"
   ]
  },
  {
   "cell_type": "code",
   "execution_count": 38,
   "metadata": {},
   "outputs": [
    {
     "name": "stdout",
     "output_type": "stream",
     "text": [
      "Number of topics: 30\n"
     ]
    },
    {
     "data": {
      "text/html": [
       "<div>\n",
       "<style scoped>\n",
       "    .dataframe tbody tr th:only-of-type {\n",
       "        vertical-align: middle;\n",
       "    }\n",
       "\n",
       "    .dataframe tbody tr th {\n",
       "        vertical-align: top;\n",
       "    }\n",
       "\n",
       "    .dataframe thead th {\n",
       "        text-align: right;\n",
       "    }\n",
       "</style>\n",
       "<table border=\"1\" class=\"dataframe\">\n",
       "  <thead>\n",
       "    <tr style=\"text-align: right;\">\n",
       "      <th></th>\n",
       "      <th>Topic</th>\n",
       "      <th>Count</th>\n",
       "      <th>Name</th>\n",
       "    </tr>\n",
       "  </thead>\n",
       "  <tbody>\n",
       "    <tr>\n",
       "      <th>0</th>\n",
       "      <td>-1</td>\n",
       "      <td>23625</td>\n",
       "      <td>-1_chat_bestelling_fijn_dag</td>\n",
       "    </tr>\n",
       "    <tr>\n",
       "      <th>1</th>\n",
       "      <td>0</td>\n",
       "      <td>18039</td>\n",
       "      <td>0_chat_fijn_dag_bestelling</td>\n",
       "    </tr>\n",
       "    <tr>\n",
       "      <th>2</th>\n",
       "      <td>1</td>\n",
       "      <td>889</td>\n",
       "      <td>1_annuleren_bestelling_order_number_morgen</td>\n",
       "    </tr>\n",
       "    <tr>\n",
       "      <th>3</th>\n",
       "      <td>2</td>\n",
       "      <td>848</td>\n",
       "      <td>2_helpen_mee_chat_sponsoring</td>\n",
       "    </tr>\n",
       "    <tr>\n",
       "      <th>4</th>\n",
       "      <td>3</td>\n",
       "      <td>676</td>\n",
       "      <td>3_brood_winkel_gaan_kopen</td>\n",
       "    </tr>\n",
       "    <tr>\n",
       "      <th>5</th>\n",
       "      <td>4</td>\n",
       "      <td>594</td>\n",
       "      <td>4_melk_yoghurt_pak_product</td>\n",
       "    </tr>\n",
       "    <tr>\n",
       "      <th>6</th>\n",
       "      <td>5</td>\n",
       "      <td>475</td>\n",
       "      <td>5_verjaardag_gebak_cadeaukaart_korting</td>\n",
       "    </tr>\n",
       "    <tr>\n",
       "      <th>7</th>\n",
       "      <td>6</td>\n",
       "      <td>451</td>\n",
       "      <td>6_koffie_aanbieding_koffiebon_koffiebonen</td>\n",
       "    </tr>\n",
       "    <tr>\n",
       "      <th>8</th>\n",
       "      <td>7</td>\n",
       "      <td>320</td>\n",
       "      <td>7_https_solliciteren_vacatures_nljobsjumbocomn...</td>\n",
       "    </tr>\n",
       "    <tr>\n",
       "      <th>9</th>\n",
       "      <td>8</td>\n",
       "      <td>300</td>\n",
       "      <td>8_fruit_banaan_groente_paprika</td>\n",
       "    </tr>\n",
       "  </tbody>\n",
       "</table>\n",
       "</div>"
      ],
      "text/plain": [
       "   Topic  Count                                               Name\n",
       "0     -1  23625                        -1_chat_bestelling_fijn_dag\n",
       "1      0  18039                         0_chat_fijn_dag_bestelling\n",
       "2      1    889         1_annuleren_bestelling_order_number_morgen\n",
       "3      2    848                       2_helpen_mee_chat_sponsoring\n",
       "4      3    676                          3_brood_winkel_gaan_kopen\n",
       "5      4    594                         4_melk_yoghurt_pak_product\n",
       "6      5    475             5_verjaardag_gebak_cadeaukaart_korting\n",
       "7      6    451          6_koffie_aanbieding_koffiebon_koffiebonen\n",
       "8      7    320  7_https_solliciteren_vacatures_nljobsjumbocomn...\n",
       "9      8    300                     8_fruit_banaan_groente_paprika"
      ]
     },
     "execution_count": 38,
     "metadata": {},
     "output_type": "execute_result"
    }
   ],
   "source": [
    "freq = topic_model.get_topic_info()\n",
    "print(\"Number of topics: {}\".format(len(freq)))\n",
    "freq.head(10)"
   ]
  },
  {
   "cell_type": "code",
   "execution_count": 39,
   "metadata": {},
   "outputs": [
    {
     "name": "stderr",
     "output_type": "stream",
     "text": [
      "100%|██████████| 28/28 [00:00<00:00, 229.19it/s]\n"
     ]
    }
   ],
   "source": [
    "from scipy.cluster import hierarchy as sch\n",
    "# Hierarchical topics\n",
    "linkage_function = lambda x: sch.linkage(x, \"single\", optimal_ordering=True)\n",
    "hierarchical_topics = topic_model.hierarchical_topics(sent, linkage_function=linkage_function)"
   ]
  },
  {
   "cell_type": "code",
   "execution_count": 40,
   "metadata": {},
   "outputs": [
    {
     "data": {
      "application/vnd.plotly.v1+json": {
       "config": {
        "plotlyServerURL": "https://plot.ly"
       },
       "data": [
        {
         "hoverinfo": "text",
         "marker": {
          "color": "rgb(61,153,112)"
         },
         "mode": "lines",
         "text": [
          "salade_dressing_kopen_winkel_terug",
          "",
          "",
          "bloemkool_bloem_persoon_klein_bos"
         ],
         "type": "scatter",
         "x": [
          0,
          0.7052897304055793,
          0.7052897304055793,
          0
         ],
         "xaxis": "x",
         "y": [
          -15,
          -15,
          -25,
          -25
         ],
         "yaxis": "y"
        },
        {
         "hoverinfo": "text",
         "marker": {
          "color": "rgb(61,153,112)"
         },
         "mode": "lines",
         "text": [
          "melk_yoghurt_pak_product_chocolade",
          "",
          "",
          "chat_fijn_dag_bestelling_punt"
         ],
         "type": "scatter",
         "x": [
          0.7052897304055793,
          0.7577032155583514,
          0.7577032155583514,
          0
         ],
         "xaxis": "x",
         "y": [
          -20,
          -20,
          -35,
          -35
         ],
         "yaxis": "y"
        },
        {
         "hoverinfo": "text",
         "marker": {
          "color": "rgb(61,153,112)"
         },
         "mode": "lines",
         "text": [
          "chat_fijn_bestelling_dag_graag",
          "",
          "",
          "vlees_vegetarisch_product_vegan_winkel"
         ],
         "type": "scatter",
         "x": [
          0,
          0.8304050138160719,
          0.8304050138160719,
          0.7577032155583514
         ],
         "xaxis": "x",
         "y": [
          -5,
          -5,
          -27.5,
          -27.5
         ],
         "yaxis": "y"
        },
        {
         "hoverinfo": "text",
         "marker": {
          "color": "rgb(255,65,54)"
         },
         "mode": "lines",
         "text": [
          "koffie_aanbieding_koffiebon_koffiebonen_bestellen",
          "",
          "",
          "chat_fijn_dag_bestelling_graag"
         ],
         "type": "scatter",
         "x": [
          0,
          0.9738797438039204,
          0.9738797438039204,
          0
         ],
         "xaxis": "x",
         "y": [
          -45,
          -45,
          -55,
          -55
         ],
         "yaxis": "y"
        },
        {
         "hoverinfo": "text",
         "marker": {
          "color": "rgb(35,205,205)"
         },
         "mode": "lines",
         "text": [
          "aardappel_zak_gratis_product_bestellen",
          "",
          "",
          "chat_fijn_dag_bestelling_graag"
         ],
         "type": "scatter",
         "x": [
          0,
          0.9763249340056063,
          0.9763249340056063,
          0
         ],
         "xaxis": "x",
         "y": [
          -75,
          -75,
          -85,
          -85
         ],
         "yaxis": "y"
        },
        {
         "hoverinfo": "text",
         "marker": {
          "color": "rgb(0,116,217)"
         },
         "mode": "lines",
         "text": [
          "aardappel_zak_gratis_product_bestellen",
          "",
          "",
          "brood_winkel_gaan_kopen_product"
         ],
         "type": "scatter",
         "x": [
          0.9763249340056063,
          1.007016497729376,
          1.007016497729376,
          0
         ],
         "xaxis": "x",
         "y": [
          -80,
          -80,
          -95,
          -95
         ],
         "yaxis": "y"
        },
        {
         "hoverinfo": "text",
         "marker": {
          "color": "rgb(0,116,217)"
         },
         "mode": "lines",
         "text": [
          "fruit_banaan_groente_paprika_groen",
          "",
          "",
          "brood_winkel_gaan_kopen_product"
         ],
         "type": "scatter",
         "x": [
          0,
          1.0852850226081798,
          1.0852850226081798,
          1.007016497729376
         ],
         "xaxis": "x",
         "y": [
          -65,
          -65,
          -87.5,
          -87.5
         ],
         "yaxis": "y"
        },
        {
         "hoverinfo": "text",
         "marker": {
          "color": "rgb(0,116,217)"
         },
         "mode": "lines",
         "text": [
          "school_dochter_uur_kind_komen",
          "",
          "",
          "verjaardag_gebak_cadeaukaart_korting_jarig"
         ],
         "type": "scatter",
         "x": [
          1.0852850226081798,
          1.1246749563128384,
          1.1246749563128384,
          0
         ],
         "xaxis": "x",
         "y": [
          -76.25,
          -76.25,
          -105,
          -105
         ],
         "yaxis": "y"
        },
        {
         "hoverinfo": "text",
         "marker": {
          "color": "rgb(0,116,217)"
         },
         "mode": "lines",
         "text": [
          "school_dochter_uur_kind_komen",
          "",
          "",
          "verjaardag_gebak_cadeaukaart_korting_jarig"
         ],
         "type": "scatter",
         "x": [
          0.9738797438039204,
          1.1864673575489837,
          1.1864673575489837,
          1.1246749563128384
         ],
         "xaxis": "x",
         "y": [
          -50,
          -50,
          -90.625,
          -90.625
         ],
         "yaxis": "y"
        },
        {
         "hoverinfo": "text",
         "marker": {
          "color": "rgb(0,116,217)"
         },
         "mode": "lines",
         "text": [
          "toiletpapier_papier_rol_rollen_wc",
          "",
          "",
          "chat_fijn_dag_bestelling_graag"
         ],
         "type": "scatter",
         "x": [
          0.8304050138160719,
          1.421048997320085,
          1.421048997320085,
          1.1864673575489837
         ],
         "xaxis": "x",
         "y": [
          -16.25,
          -16.25,
          -70.3125,
          -70.3125
         ],
         "yaxis": "y"
        },
        {
         "hoverinfo": "text",
         "marker": {
          "color": "rgb(133,20,75)"
         },
         "mode": "lines",
         "text": [
          "toiletpapier_papier_rol_rollen_wc",
          "",
          "",
          "pizza_product_terug_winkel_fijn"
         ],
         "type": "scatter",
         "x": [
          0,
          0.8187438382069165,
          0.8187438382069165,
          0
         ],
         "xaxis": "x",
         "y": [
          -115,
          -115,
          -125,
          -125
         ],
         "yaxis": "y"
        },
        {
         "hoverinfo": "text",
         "marker": {
          "color": "rgb(255,220,0)"
         },
         "mode": "lines",
         "text": [
          "toiletpapier_papier_rol_rollen_wc",
          "",
          "",
          "pizza_product_terug_winkel_fijn"
         ],
         "type": "scatter",
         "x": [
          0,
          0.9857559898687562,
          0.9857559898687562,
          0
         ],
         "xaxis": "x",
         "y": [
          -135,
          -135,
          -145,
          -145
         ],
         "yaxis": "y"
        },
        {
         "hoverinfo": "text",
         "marker": {
          "color": "rgb(0,116,217)"
         },
         "mode": "lines",
         "text": [
          "bezorginstructie_profiel_contactgegeven_bezorger_adres",
          "",
          "",
          "park_vakantiepark_slagboom_huis_bezorger"
         ],
         "type": "scatter",
         "x": [
          0.8187438382069165,
          1.5143331059913658,
          1.5143331059913658,
          0.9857559898687562
         ],
         "xaxis": "x",
         "y": [
          -120,
          -120,
          -140,
          -140
         ],
         "yaxis": "y"
        },
        {
         "hoverinfo": "text",
         "marker": {
          "color": "rgb(0,116,217)"
         },
         "mode": "lines",
         "text": [
          "annuleren_bestelling_order_number_morgen_chat",
          "",
          "",
          "ziekenhuis_annuleren_bestelling_beterschap_thuis"
         ],
         "type": "scatter",
         "x": [
          0,
          1.08131922138443,
          1.08131922138443,
          0
         ],
         "xaxis": "x",
         "y": [
          -165,
          -165,
          -175,
          -175
         ],
         "yaxis": "y"
        },
        {
         "hoverinfo": "text",
         "marker": {
          "color": "rgb(0,116,217)"
         },
         "mode": "lines",
         "text": [
          "annuleren_bestelling_order_number_morgen_chat",
          "",
          "",
          "annuleren_bestelling_order_number_morgen_chat"
         ],
         "type": "scatter",
         "x": [
          0,
          1.1943907889134449,
          1.1943907889134449,
          0
         ],
         "xaxis": "x",
         "y": [
          -185,
          -185,
          -195,
          -195
         ],
         "yaxis": "y"
        },
        {
         "hoverinfo": "text",
         "marker": {
          "color": "rgb(0,116,217)"
         },
         "mode": "lines",
         "text": [
          "olie_olijfolie_winkel_retourneren_dag",
          "",
          "",
          "retourneren_wwwjumbocomserviceherroepingsrechten_herroepingsrecht_herroepingsformulier_product"
         ],
         "type": "scatter",
         "x": [
          1.08131922138443,
          1.2820220386595542,
          1.2820220386595542,
          1.1943907889134449
         ],
         "xaxis": "x",
         "y": [
          -170,
          -170,
          -190,
          -190
         ],
         "yaxis": "y"
        },
        {
         "hoverinfo": "text",
         "marker": {
          "color": "rgb(0,116,217)"
         },
         "mode": "lines",
         "text": [
          "olie_olijfolie_winkel_retourneren_dag",
          "",
          "",
          "wijn_fles_wit_rood_doos"
         ],
         "type": "scatter",
         "x": [
          0,
          1.3300716106420758,
          1.3300716106420758,
          1.2820220386595542
         ],
         "xaxis": "x",
         "y": [
          -155,
          -155,
          -180,
          -180
         ],
         "yaxis": "y"
        },
        {
         "hoverinfo": "text",
         "marker": {
          "color": "rgb(0,116,217)"
         },
         "mode": "lines",
         "text": [
          "insecten_ingredint_product_verwerken_allergie",
          "",
          "",
          "wijn_fles_wit_rood_doos"
         ],
         "type": "scatter",
         "x": [
          0,
          1.310815492613982,
          1.310815492613982,
          0
         ],
         "xaxis": "x",
         "y": [
          -205,
          -205,
          -215,
          -215
         ],
         "yaxis": "y"
        },
        {
         "hoverinfo": "text",
         "marker": {
          "color": "rgb(0,116,217)"
         },
         "mode": "lines",
         "text": [
          "leidinggevend_korting_vraag_teamleider_werken",
          "",
          "",
          "https_solliciteren_vacatures_nljobsjumbocomnlvacatures_country"
         ],
         "type": "scatter",
         "x": [
          1.3300716106420758,
          1.3696891867471552,
          1.3696891867471552,
          1.310815492613982
         ],
         "xaxis": "x",
         "y": [
          -167.5,
          -167.5,
          -210,
          -210
         ],
         "yaxis": "y"
        },
        {
         "hoverinfo": "text",
         "marker": {
          "color": "rgb(0,116,217)"
         },
         "mode": "lines",
         "text": [
          "ticket_kaart_code_wedstrijd_kassaticket",
          "",
          "",
          "actie_schaatskaart_code_gratis_unox"
         ],
         "type": "scatter",
         "x": [
          0,
          1.0662859924339665,
          1.0662859924339665,
          0
         ],
         "xaxis": "x",
         "y": [
          -235,
          -235,
          -245,
          -245
         ],
         "yaxis": "y"
        },
        {
         "hoverinfo": "text",
         "marker": {
          "color": "rgb(0,116,217)"
         },
         "mode": "lines",
         "text": [
          "ticket_kaart_code_wedstrijd_kassaticket",
          "",
          "",
          "actie_schaatskaart_code_gratis_unox"
         ],
         "type": "scatter",
         "x": [
          1.0662859924339665,
          1.1642119829709503,
          1.1642119829709503,
          0
         ],
         "xaxis": "x",
         "y": [
          -240,
          -240,
          -255,
          -255
         ],
         "yaxis": "y"
        },
        {
         "hoverinfo": "text",
         "marker": {
          "color": "rgb(0,116,217)"
         },
         "mode": "lines",
         "text": [
          "open_openingstijen_vandaag_filiaal_sluiten",
          "",
          "",
          "actie_schaatskaart_code_gratis_unox"
         ],
         "type": "scatter",
         "x": [
          0,
          1.2397806762477592,
          1.2397806762477592,
          1.1642119829709503
         ],
         "xaxis": "x",
         "y": [
          -225,
          -225,
          -247.5,
          -247.5
         ],
         "yaxis": "y"
        },
        {
         "hoverinfo": "text",
         "marker": {
          "color": "rgb(0,116,217)"
         },
         "mode": "lines",
         "text": [
          "open_openingstijen_vandaag_filiaal_sluiten",
          "",
          "",
          "actie_schaatskaart_code_gratis_unox"
         ],
         "type": "scatter",
         "x": [
          1.3696891867471552,
          1.4570468643054966,
          1.4570468643054966,
          1.2397806762477592
         ],
         "xaxis": "x",
         "y": [
          -188.75,
          -188.75,
          -236.25,
          -236.25
         ],
         "yaxis": "y"
        },
        {
         "hoverinfo": "text",
         "marker": {
          "color": "rgb(0,116,217)"
         },
         "mode": "lines",
         "text": [
          "serviceformulier_lukken_helpen_mee_formulier",
          "",
          "",
          "helpen_mee_chat_sponsoring_sponsoren"
         ],
         "type": "scatter",
         "x": [
          0,
          1.0466507980051172,
          1.0466507980051172,
          0
         ],
         "xaxis": "x",
         "y": [
          -265,
          -265,
          -275,
          -275
         ],
         "yaxis": "y"
        },
        {
         "hoverinfo": "text",
         "marker": {
          "color": "rgb(0,116,217)"
         },
         "mode": "lines",
         "text": [
          "serviceformulier_lukken_helpen_mee_formulier",
          "",
          "",
          "tita_bericht_chat_tieta_good"
         ],
         "type": "scatter",
         "x": [
          1.0466507980051172,
          1.5796832176349385,
          1.5796832176349385,
          0
         ],
         "xaxis": "x",
         "y": [
          -270,
          -270,
          -285,
          -285
         ],
         "yaxis": "y"
        },
        {
         "hoverinfo": "text",
         "marker": {
          "color": "rgb(0,116,217)"
         },
         "mode": "lines",
         "text": [
          "serviceformulier_lukken_helpen_mee_formulier",
          "",
          "",
          "tita_bericht_chat_tieta_good"
         ],
         "type": "scatter",
         "x": [
          1.4570468643054966,
          1.7319195649963184,
          1.7319195649963184,
          1.5796832176349385
         ],
         "xaxis": "x",
         "y": [
          -212.5,
          -212.5,
          -277.5,
          -277.5
         ],
         "yaxis": "y"
        },
        {
         "hoverinfo": "text",
         "marker": {
          "color": "rgb(0,116,217)"
         },
         "mode": "lines",
         "text": [
          "serviceformulier_lukken_helpen_mee_formulier",
          "",
          "",
          "tita_bericht_chat_tieta_good"
         ],
         "type": "scatter",
         "x": [
          1.5143331059913658,
          1.805580432467124,
          1.805580432467124,
          1.7319195649963184
         ],
         "xaxis": "x",
         "y": [
          -130,
          -130,
          -245,
          -245
         ],
         "yaxis": "y"
        },
        {
         "hoverinfo": "text",
         "marker": {
          "color": "rgb(0,116,217)"
         },
         "mode": "lines",
         "text": [
          "serviceformulier_lukken_helpen_mee_formulier",
          "",
          "",
          "tita_bericht_chat_tieta_good"
         ],
         "type": "scatter",
         "x": [
          1.421048997320085,
          2.9383309718406854,
          2.9383309718406854,
          1.805580432467124
         ],
         "xaxis": "x",
         "y": [
          -43.28125,
          -43.28125,
          -187.5,
          -187.5
         ],
         "yaxis": "y"
        },
        {
         "hoverinfo": "text",
         "hovertext": [
          "melk_yoghurt_pak_product_chocolade",
          "aardappel_zak_gratis_product_bestellen",
          "school_dochter_uur_kind_komen",
          "school_dochter_uur_kind_komen",
          "toiletpapier_papier_rol_rollen_wc",
          "bezorginstructie_profiel_contactgegeven_bezorger_adres",
          "olie_olijfolie_winkel_retourneren_dag",
          "leidinggevend_korting_vraag_teamleider_werken",
          "ticket_kaart_code_wedstrijd_kassaticket",
          "open_openingstijen_vandaag_filiaal_sluiten",
          "serviceformulier_lukken_helpen_mee_formulier",
          "serviceformulier_lukken_helpen_mee_formulier",
          "serviceformulier_lukken_helpen_mee_formulier",
          "serviceformulier_lukken_helpen_mee_formulier"
         ],
         "marker": {
          "color": "black"
         },
         "mode": "markers",
         "showlegend": false,
         "type": "scatter",
         "x": [
          0.7052897304055793,
          0.9763249340056063,
          1.0852850226081798,
          0.9738797438039204,
          0.8304050138160719,
          0.8187438382069165,
          1.08131922138443,
          1.3300716106420758,
          1.0662859924339665,
          1.3696891867471552,
          1.0466507980051172,
          1.4570468643054966,
          1.5143331059913658,
          1.421048997320085
         ],
         "y": [
          -20,
          -80,
          -76.25,
          -50,
          -16.25,
          -120,
          -170,
          -167.5,
          -240,
          -188.75,
          -270,
          -212.5,
          -130,
          -43.28125
         ]
        },
        {
         "hoverinfo": "text",
         "hovertext": [
          "vlees_vegetarisch_product_vegan_winkel",
          "brood_winkel_gaan_kopen_product",
          "verjaardag_gebak_cadeaukaart_korting_jarig",
          "chat_fijn_dag_bestelling_graag",
          "park_vakantiepark_slagboom_huis_bezorger",
          "retourneren_wwwjumbocomserviceherroepingsrechten_herroepingsrecht_herroepingsformulier_product",
          "wijn_fles_wit_rood_doos",
          "https_solliciteren_vacatures_nljobsjumbocomnlvacatures_country",
          "actie_schaatskaart_code_gratis_unox",
          "actie_schaatskaart_code_gratis_unox",
          "tita_bericht_chat_tieta_good",
          "tita_bericht_chat_tieta_good",
          "tita_bericht_chat_tieta_good"
         ],
         "marker": {
          "color": "black"
         },
         "mode": "markers",
         "showlegend": false,
         "type": "scatter",
         "x": [
          0.7577032155583514,
          1.007016497729376,
          1.1246749563128384,
          1.1864673575489837,
          0.9857559898687562,
          1.1943907889134449,
          1.2820220386595542,
          1.310815492613982,
          1.1642119829709503,
          1.2397806762477592,
          1.5796832176349385,
          1.7319195649963184,
          1.805580432467124
         ],
         "y": [
          -27.5,
          -87.5,
          -90.625,
          -70.3125,
          -140,
          -190,
          -180,
          -210,
          -247.5,
          -236.25,
          -277.5,
          -245,
          -187.5
         ]
        }
       ],
       "layout": {
        "autosize": false,
        "height": 635,
        "hoverlabel": {
         "bgcolor": "white",
         "font": {
          "family": "Rockwell",
          "size": 16
         }
        },
        "hovermode": "closest",
        "plot_bgcolor": "#ECEFF1",
        "showlegend": false,
        "template": {
         "data": {
          "bar": [
           {
            "error_x": {
             "color": "#2a3f5f"
            },
            "error_y": {
             "color": "#2a3f5f"
            },
            "marker": {
             "line": {
              "color": "white",
              "width": 0.5
             },
             "pattern": {
              "fillmode": "overlay",
              "size": 10,
              "solidity": 0.2
             }
            },
            "type": "bar"
           }
          ],
          "barpolar": [
           {
            "marker": {
             "line": {
              "color": "white",
              "width": 0.5
             },
             "pattern": {
              "fillmode": "overlay",
              "size": 10,
              "solidity": 0.2
             }
            },
            "type": "barpolar"
           }
          ],
          "carpet": [
           {
            "aaxis": {
             "endlinecolor": "#2a3f5f",
             "gridcolor": "#C8D4E3",
             "linecolor": "#C8D4E3",
             "minorgridcolor": "#C8D4E3",
             "startlinecolor": "#2a3f5f"
            },
            "baxis": {
             "endlinecolor": "#2a3f5f",
             "gridcolor": "#C8D4E3",
             "linecolor": "#C8D4E3",
             "minorgridcolor": "#C8D4E3",
             "startlinecolor": "#2a3f5f"
            },
            "type": "carpet"
           }
          ],
          "choropleth": [
           {
            "colorbar": {
             "outlinewidth": 0,
             "ticks": ""
            },
            "type": "choropleth"
           }
          ],
          "contour": [
           {
            "colorbar": {
             "outlinewidth": 0,
             "ticks": ""
            },
            "colorscale": [
             [
              0,
              "#0d0887"
             ],
             [
              0.1111111111111111,
              "#46039f"
             ],
             [
              0.2222222222222222,
              "#7201a8"
             ],
             [
              0.3333333333333333,
              "#9c179e"
             ],
             [
              0.4444444444444444,
              "#bd3786"
             ],
             [
              0.5555555555555556,
              "#d8576b"
             ],
             [
              0.6666666666666666,
              "#ed7953"
             ],
             [
              0.7777777777777778,
              "#fb9f3a"
             ],
             [
              0.8888888888888888,
              "#fdca26"
             ],
             [
              1,
              "#f0f921"
             ]
            ],
            "type": "contour"
           }
          ],
          "contourcarpet": [
           {
            "colorbar": {
             "outlinewidth": 0,
             "ticks": ""
            },
            "type": "contourcarpet"
           }
          ],
          "heatmap": [
           {
            "colorbar": {
             "outlinewidth": 0,
             "ticks": ""
            },
            "colorscale": [
             [
              0,
              "#0d0887"
             ],
             [
              0.1111111111111111,
              "#46039f"
             ],
             [
              0.2222222222222222,
              "#7201a8"
             ],
             [
              0.3333333333333333,
              "#9c179e"
             ],
             [
              0.4444444444444444,
              "#bd3786"
             ],
             [
              0.5555555555555556,
              "#d8576b"
             ],
             [
              0.6666666666666666,
              "#ed7953"
             ],
             [
              0.7777777777777778,
              "#fb9f3a"
             ],
             [
              0.8888888888888888,
              "#fdca26"
             ],
             [
              1,
              "#f0f921"
             ]
            ],
            "type": "heatmap"
           }
          ],
          "heatmapgl": [
           {
            "colorbar": {
             "outlinewidth": 0,
             "ticks": ""
            },
            "colorscale": [
             [
              0,
              "#0d0887"
             ],
             [
              0.1111111111111111,
              "#46039f"
             ],
             [
              0.2222222222222222,
              "#7201a8"
             ],
             [
              0.3333333333333333,
              "#9c179e"
             ],
             [
              0.4444444444444444,
              "#bd3786"
             ],
             [
              0.5555555555555556,
              "#d8576b"
             ],
             [
              0.6666666666666666,
              "#ed7953"
             ],
             [
              0.7777777777777778,
              "#fb9f3a"
             ],
             [
              0.8888888888888888,
              "#fdca26"
             ],
             [
              1,
              "#f0f921"
             ]
            ],
            "type": "heatmapgl"
           }
          ],
          "histogram": [
           {
            "marker": {
             "pattern": {
              "fillmode": "overlay",
              "size": 10,
              "solidity": 0.2
             }
            },
            "type": "histogram"
           }
          ],
          "histogram2d": [
           {
            "colorbar": {
             "outlinewidth": 0,
             "ticks": ""
            },
            "colorscale": [
             [
              0,
              "#0d0887"
             ],
             [
              0.1111111111111111,
              "#46039f"
             ],
             [
              0.2222222222222222,
              "#7201a8"
             ],
             [
              0.3333333333333333,
              "#9c179e"
             ],
             [
              0.4444444444444444,
              "#bd3786"
             ],
             [
              0.5555555555555556,
              "#d8576b"
             ],
             [
              0.6666666666666666,
              "#ed7953"
             ],
             [
              0.7777777777777778,
              "#fb9f3a"
             ],
             [
              0.8888888888888888,
              "#fdca26"
             ],
             [
              1,
              "#f0f921"
             ]
            ],
            "type": "histogram2d"
           }
          ],
          "histogram2dcontour": [
           {
            "colorbar": {
             "outlinewidth": 0,
             "ticks": ""
            },
            "colorscale": [
             [
              0,
              "#0d0887"
             ],
             [
              0.1111111111111111,
              "#46039f"
             ],
             [
              0.2222222222222222,
              "#7201a8"
             ],
             [
              0.3333333333333333,
              "#9c179e"
             ],
             [
              0.4444444444444444,
              "#bd3786"
             ],
             [
              0.5555555555555556,
              "#d8576b"
             ],
             [
              0.6666666666666666,
              "#ed7953"
             ],
             [
              0.7777777777777778,
              "#fb9f3a"
             ],
             [
              0.8888888888888888,
              "#fdca26"
             ],
             [
              1,
              "#f0f921"
             ]
            ],
            "type": "histogram2dcontour"
           }
          ],
          "mesh3d": [
           {
            "colorbar": {
             "outlinewidth": 0,
             "ticks": ""
            },
            "type": "mesh3d"
           }
          ],
          "parcoords": [
           {
            "line": {
             "colorbar": {
              "outlinewidth": 0,
              "ticks": ""
             }
            },
            "type": "parcoords"
           }
          ],
          "pie": [
           {
            "automargin": true,
            "type": "pie"
           }
          ],
          "scatter": [
           {
            "fillpattern": {
             "fillmode": "overlay",
             "size": 10,
             "solidity": 0.2
            },
            "type": "scatter"
           }
          ],
          "scatter3d": [
           {
            "line": {
             "colorbar": {
              "outlinewidth": 0,
              "ticks": ""
             }
            },
            "marker": {
             "colorbar": {
              "outlinewidth": 0,
              "ticks": ""
             }
            },
            "type": "scatter3d"
           }
          ],
          "scattercarpet": [
           {
            "marker": {
             "colorbar": {
              "outlinewidth": 0,
              "ticks": ""
             }
            },
            "type": "scattercarpet"
           }
          ],
          "scattergeo": [
           {
            "marker": {
             "colorbar": {
              "outlinewidth": 0,
              "ticks": ""
             }
            },
            "type": "scattergeo"
           }
          ],
          "scattergl": [
           {
            "marker": {
             "colorbar": {
              "outlinewidth": 0,
              "ticks": ""
             }
            },
            "type": "scattergl"
           }
          ],
          "scattermapbox": [
           {
            "marker": {
             "colorbar": {
              "outlinewidth": 0,
              "ticks": ""
             }
            },
            "type": "scattermapbox"
           }
          ],
          "scatterpolar": [
           {
            "marker": {
             "colorbar": {
              "outlinewidth": 0,
              "ticks": ""
             }
            },
            "type": "scatterpolar"
           }
          ],
          "scatterpolargl": [
           {
            "marker": {
             "colorbar": {
              "outlinewidth": 0,
              "ticks": ""
             }
            },
            "type": "scatterpolargl"
           }
          ],
          "scatterternary": [
           {
            "marker": {
             "colorbar": {
              "outlinewidth": 0,
              "ticks": ""
             }
            },
            "type": "scatterternary"
           }
          ],
          "surface": [
           {
            "colorbar": {
             "outlinewidth": 0,
             "ticks": ""
            },
            "colorscale": [
             [
              0,
              "#0d0887"
             ],
             [
              0.1111111111111111,
              "#46039f"
             ],
             [
              0.2222222222222222,
              "#7201a8"
             ],
             [
              0.3333333333333333,
              "#9c179e"
             ],
             [
              0.4444444444444444,
              "#bd3786"
             ],
             [
              0.5555555555555556,
              "#d8576b"
             ],
             [
              0.6666666666666666,
              "#ed7953"
             ],
             [
              0.7777777777777778,
              "#fb9f3a"
             ],
             [
              0.8888888888888888,
              "#fdca26"
             ],
             [
              1,
              "#f0f921"
             ]
            ],
            "type": "surface"
           }
          ],
          "table": [
           {
            "cells": {
             "fill": {
              "color": "#EBF0F8"
             },
             "line": {
              "color": "white"
             }
            },
            "header": {
             "fill": {
              "color": "#C8D4E3"
             },
             "line": {
              "color": "white"
             }
            },
            "type": "table"
           }
          ]
         },
         "layout": {
          "annotationdefaults": {
           "arrowcolor": "#2a3f5f",
           "arrowhead": 0,
           "arrowwidth": 1
          },
          "autotypenumbers": "strict",
          "coloraxis": {
           "colorbar": {
            "outlinewidth": 0,
            "ticks": ""
           }
          },
          "colorscale": {
           "diverging": [
            [
             0,
             "#8e0152"
            ],
            [
             0.1,
             "#c51b7d"
            ],
            [
             0.2,
             "#de77ae"
            ],
            [
             0.3,
             "#f1b6da"
            ],
            [
             0.4,
             "#fde0ef"
            ],
            [
             0.5,
             "#f7f7f7"
            ],
            [
             0.6,
             "#e6f5d0"
            ],
            [
             0.7,
             "#b8e186"
            ],
            [
             0.8,
             "#7fbc41"
            ],
            [
             0.9,
             "#4d9221"
            ],
            [
             1,
             "#276419"
            ]
           ],
           "sequential": [
            [
             0,
             "#0d0887"
            ],
            [
             0.1111111111111111,
             "#46039f"
            ],
            [
             0.2222222222222222,
             "#7201a8"
            ],
            [
             0.3333333333333333,
             "#9c179e"
            ],
            [
             0.4444444444444444,
             "#bd3786"
            ],
            [
             0.5555555555555556,
             "#d8576b"
            ],
            [
             0.6666666666666666,
             "#ed7953"
            ],
            [
             0.7777777777777778,
             "#fb9f3a"
            ],
            [
             0.8888888888888888,
             "#fdca26"
            ],
            [
             1,
             "#f0f921"
            ]
           ],
           "sequentialminus": [
            [
             0,
             "#0d0887"
            ],
            [
             0.1111111111111111,
             "#46039f"
            ],
            [
             0.2222222222222222,
             "#7201a8"
            ],
            [
             0.3333333333333333,
             "#9c179e"
            ],
            [
             0.4444444444444444,
             "#bd3786"
            ],
            [
             0.5555555555555556,
             "#d8576b"
            ],
            [
             0.6666666666666666,
             "#ed7953"
            ],
            [
             0.7777777777777778,
             "#fb9f3a"
            ],
            [
             0.8888888888888888,
             "#fdca26"
            ],
            [
             1,
             "#f0f921"
            ]
           ]
          },
          "colorway": [
           "#636efa",
           "#EF553B",
           "#00cc96",
           "#ab63fa",
           "#FFA15A",
           "#19d3f3",
           "#FF6692",
           "#B6E880",
           "#FF97FF",
           "#FECB52"
          ],
          "font": {
           "color": "#2a3f5f"
          },
          "geo": {
           "bgcolor": "white",
           "lakecolor": "white",
           "landcolor": "white",
           "showlakes": true,
           "showland": true,
           "subunitcolor": "#C8D4E3"
          },
          "hoverlabel": {
           "align": "left"
          },
          "hovermode": "closest",
          "mapbox": {
           "style": "light"
          },
          "paper_bgcolor": "white",
          "plot_bgcolor": "white",
          "polar": {
           "angularaxis": {
            "gridcolor": "#EBF0F8",
            "linecolor": "#EBF0F8",
            "ticks": ""
           },
           "bgcolor": "white",
           "radialaxis": {
            "gridcolor": "#EBF0F8",
            "linecolor": "#EBF0F8",
            "ticks": ""
           }
          },
          "scene": {
           "xaxis": {
            "backgroundcolor": "white",
            "gridcolor": "#DFE8F3",
            "gridwidth": 2,
            "linecolor": "#EBF0F8",
            "showbackground": true,
            "ticks": "",
            "zerolinecolor": "#EBF0F8"
           },
           "yaxis": {
            "backgroundcolor": "white",
            "gridcolor": "#DFE8F3",
            "gridwidth": 2,
            "linecolor": "#EBF0F8",
            "showbackground": true,
            "ticks": "",
            "zerolinecolor": "#EBF0F8"
           },
           "zaxis": {
            "backgroundcolor": "white",
            "gridcolor": "#DFE8F3",
            "gridwidth": 2,
            "linecolor": "#EBF0F8",
            "showbackground": true,
            "ticks": "",
            "zerolinecolor": "#EBF0F8"
           }
          },
          "shapedefaults": {
           "line": {
            "color": "#2a3f5f"
           }
          },
          "ternary": {
           "aaxis": {
            "gridcolor": "#DFE8F3",
            "linecolor": "#A2B1C6",
            "ticks": ""
           },
           "baxis": {
            "gridcolor": "#DFE8F3",
            "linecolor": "#A2B1C6",
            "ticks": ""
           },
           "bgcolor": "white",
           "caxis": {
            "gridcolor": "#DFE8F3",
            "linecolor": "#A2B1C6",
            "ticks": ""
           }
          },
          "title": {
           "x": 0.05
          },
          "xaxis": {
           "automargin": true,
           "gridcolor": "#EBF0F8",
           "linecolor": "#EBF0F8",
           "ticks": "",
           "title": {
            "standoff": 15
           },
           "zerolinecolor": "#EBF0F8",
           "zerolinewidth": 2
          },
          "yaxis": {
           "automargin": true,
           "gridcolor": "#EBF0F8",
           "linecolor": "#EBF0F8",
           "ticks": "",
           "title": {
            "standoff": 15
           },
           "zerolinecolor": "#EBF0F8",
           "zerolinewidth": 2
          }
         }
        },
        "title": {
         "font": {
          "color": "Black",
          "size": 22
         },
         "text": "<b>Hierarchical Clustering</b>",
         "x": 0.5,
         "xanchor": "center",
         "yanchor": "top"
        },
        "width": 1000,
        "xaxis": {
         "mirror": "allticks",
         "rangemode": "tozero",
         "showgrid": false,
         "showline": true,
         "showticklabels": true,
         "ticks": "outside",
         "type": "linear",
         "zeroline": false
        },
        "yaxis": {
         "mirror": "allticks",
         "range": [
          -290,
          0
         ],
         "rangemode": "tozero",
         "showgrid": false,
         "showline": true,
         "showticklabels": true,
         "tickmode": "array",
         "ticks": "outside",
         "ticktext": [
          "0_chat_fijn_dag",
          "9_vlees_vegetarisch_product",
          "4_melk_yoghurt_pak",
          "6_koffie_aanbieding_koffiebon",
          "5_verjaardag_gebak_cadeauka...",
          "15_school_dochter_uur",
          "13_toiletpapier_papier_rol",
          "8_fruit_banaan_groente",
          "10_aardappel_zak_gratis",
          "3_brood_winkel_gaan",
          "11_pizza_product_terug",
          "18_ziekenhuis_annuleren_bes...",
          "1_annuleren_bestelling_orde...",
          "20_park_vakantiepark_slagboom",
          "16_bezorginstructie_profiel...",
          "19_wijn_fles_wit",
          "26_retourneren_wwwjumbocoms...",
          "24_olie_olijfolie_winkel",
          "21_salade_dressing_kopen",
          "17_bloemkool_bloem_persoon",
          "22_insecten_ingredint_product",
          "14_open_openingstijen_vandaag",
          "25_leidinggevend_korting_vr...",
          "7_https_solliciteren_vacatu...",
          "12_ticket_kaart_code",
          "28_actie_schaatskaart_code",
          "2_helpen_mee_chat",
          "27_serviceformulier_lukken_...",
          "23_tita_bericht_chat"
         ],
         "tickvals": [
          -5,
          -15,
          -25,
          -35,
          -45,
          -55,
          -65,
          -75,
          -85,
          -95,
          -105,
          -115,
          -125,
          -135,
          -145,
          -155,
          -165,
          -175,
          -185,
          -195,
          -205,
          -215,
          -225,
          -235,
          -245,
          -255,
          -265,
          -275,
          -285
         ],
         "type": "linear",
         "zeroline": false
        }
       }
      }
     },
     "metadata": {},
     "output_type": "display_data"
    }
   ],
   "source": [
    "topic_model.visualize_hierarchy(hierarchical_topics=hierarchical_topics, top_n_topics=30)"
   ]
  },
  {
   "cell_type": "code",
   "execution_count": 41,
   "metadata": {},
   "outputs": [],
   "source": [
    "# Select most 3 similar topics\n",
    "similar_topics, similarity = topic_model.find_topics(\"korting\", top_n = 3)"
   ]
  },
  {
   "cell_type": "code",
   "execution_count": 42,
   "metadata": {},
   "outputs": [
    {
     "name": "stdout",
     "output_type": "stream",
     "text": [
      "Most Similar Topic Info: \n",
      "[('annuleren', 0.2146011405541443), ('bestelling', 0.10330064114936599), ('order_number', 0.05728436875295825), ('morgen', 0.04365607650961275), ('chat', 0.031231813163861272), ('fijn', 0.02759010051621916), ('graag', 0.027020495392722308), ('bestelnummer', 0.025929085256463605), ('wens', 0.02529874327679888), ('bericht', 0.0251874801713679)]\n",
      "Similarity Score: 0.7306993036778097\n"
     ]
    }
   ],
   "source": [
    "most_similar = similar_topics[0]\n",
    "print(\"Most Similar Topic Info: \\n{}\".format(topic_model.get_topic(most_similar)))\n",
    "print(\"Similarity Score: {}\".format(similarity[0]))"
   ]
  },
  {
   "cell_type": "code",
   "execution_count": 43,
   "metadata": {},
   "outputs": [
    {
     "data": {
      "text/plain": [
       "{-1: [('chat', 0.020448548274394383),\n",
       "  ('bestelling', 0.018414173895101898),\n",
       "  ('fijn', 0.017478403962193082),\n",
       "  ('dag', 0.017156343643710093),\n",
       "  ('graag', 0.017092583618011404),\n",
       "  ('gaan', 0.016851273485195203),\n",
       "  ('product', 0.016055017826316152),\n",
       "  ('krijgen', 0.015256873926948267),\n",
       "  ('wens', 0.015134144250168529),\n",
       "  ('bericht', 0.015128912305938767)],\n",
       " 0: [('chat', 0.021976372546833028),\n",
       "  ('fijn', 0.018424526594311152),\n",
       "  ('dag', 0.01835559922912186),\n",
       "  ('bestelling', 0.018324781963690476),\n",
       "  ('punt', 0.017314107688933312),\n",
       "  ('graag', 0.016883998433550658),\n",
       "  ('krijgen', 0.016211678553132405),\n",
       "  ('bericht', 0.01611337841148158),\n",
       "  ('wens', 0.01592150245174804),\n",
       "  ('gaan', 0.015739238705918094)],\n",
       " 1: [('annuleren', 0.2146011405541443),\n",
       "  ('bestelling', 0.10330064114936599),\n",
       "  ('order_number', 0.05728436875295825),\n",
       "  ('morgen', 0.04365607650961275),\n",
       "  ('chat', 0.031231813163861272),\n",
       "  ('fijn', 0.02759010051621916),\n",
       "  ('graag', 0.027020495392722308),\n",
       "  ('bestelnummer', 0.025929085256463605),\n",
       "  ('wens', 0.02529874327679888),\n",
       "  ('bericht', 0.0251874801713679)],\n",
       " 2: [('helpen', 0.20418788889887193),\n",
       "  ('mee', 0.10045048066583989),\n",
       "  ('chat', 0.0861240835880326),\n",
       "  ('sponsoring', 0.052376076810892264),\n",
       "  ('sponsoren', 0.03543692180267945),\n",
       "  ('ondersteunen', 0.027174497181523493),\n",
       "  ('honoreren', 0.02489326168693032),\n",
       "  ('activiteit', 0.023518808717509335),\n",
       "  ('school', 0.022561971280803082),\n",
       "  ('doel', 0.02186441623070483)],\n",
       " 3: [('brood', 0.1522023937736444),\n",
       "  ('winkel', 0.02169527055124399),\n",
       "  ('gaan', 0.018562112158303046),\n",
       "  ('kopen', 0.017072478590800327),\n",
       "  ('product', 0.01706581018050741),\n",
       "  ('fijn', 0.0164111452846911),\n",
       "  ('chat', 0.015747329153716544),\n",
       "  ('recept', 0.015644228288047738),\n",
       "  ('klacht', 0.015070330491926498),\n",
       "  ('dag', 0.015011236457827927)],\n",
       " 4: [('melk', 0.07085126596829264),\n",
       "  ('yoghurt', 0.037691491028917896),\n",
       "  ('pak', 0.027374806752270872),\n",
       "  ('product', 0.023729809933224495),\n",
       "  ('chocolade', 0.020146987433114456),\n",
       "  ('terug', 0.018000305111848084),\n",
       "  ('pakken', 0.017610219286630216),\n",
       "  ('gaan', 0.01699652094024746),\n",
       "  ('chat', 0.016365181598563153),\n",
       "  ('graag', 0.015408675022224767)],\n",
       " 5: [('verjaardag', 0.09463029679012426),\n",
       "  ('gebak', 0.05609373315489984),\n",
       "  ('cadeaukaart', 0.04988476735268171),\n",
       "  ('korting', 0.0445124205926057),\n",
       "  ('jarig', 0.03919131328149962),\n",
       "  ('taart', 0.031664485921581914),\n",
       "  ('winkel', 0.029138006229192912),\n",
       "  ('cadeau', 0.027446071880261356),\n",
       "  ('kaart', 0.02488543154986058),\n",
       "  ('code', 0.02377268646393556)],\n",
       " 6: [('koffie', 0.09273664903470252),\n",
       "  ('aanbieding', 0.038259303026259614),\n",
       "  ('koffiebon', 0.030146142717520245),\n",
       "  ('koffiebonen', 0.026443715423174897),\n",
       "  ('bestellen', 0.024729283642826377),\n",
       "  ('actie', 0.023845669351959767),\n",
       "  ('cups', 0.023183250974730837),\n",
       "  ('winkel', 0.021058893357847084),\n",
       "  ('boon', 0.01985554766400298),\n",
       "  ('product', 0.01887100925808921)],\n",
       " 7: [('https', 0.0800909706058021),\n",
       "  ('solliciteren', 0.04972411763825581),\n",
       "  ('vacatures', 0.04617614180866414),\n",
       "  ('nljobsjumbocomnlvacatures', 0.04592229193246654),\n",
       "  ('country', 0.04391616746365898),\n",
       "  ('travelmodedriving', 0.041852560527836355),\n",
       "  ('werken', 0.0377805542257097),\n",
       "  ('jaar', 0.03539302276007335),\n",
       "  ('utmsourcegoogle', 0.03506330988875722),\n",
       "  ('utmmediumcpc', 0.03473967653308646)],\n",
       " 8: [('fruit', 0.09354549334061737),\n",
       "  ('banaan', 0.06976209624955802),\n",
       "  ('groente', 0.06606169116390513),\n",
       "  ('paprika', 0.04408039979577568),\n",
       "  ('groen', 0.04169368216084121),\n",
       "  ('punt', 0.03905292882456298),\n",
       "  ('euro', 0.03329154236054541),\n",
       "  ('kopen', 0.029174696074702494),\n",
       "  ('actie', 0.027788904760719307),\n",
       "  ('groenten', 0.023896923113578696)],\n",
       " 9: [('vlees', 0.07643226152040002),\n",
       "  ('vegetarisch', 0.037834418164353956),\n",
       "  ('product', 0.028475442226366842),\n",
       "  ('vegan', 0.02826497324686583),\n",
       "  ('winkel', 0.02062534916809428),\n",
       "  ('assortiment', 0.02005551831942229),\n",
       "  ('vinden', 0.01839347183370242),\n",
       "  ('gaan', 0.017332706928043888),\n",
       "  ('vleeswaren', 0.017145004615875956),\n",
       "  ('graag', 0.01704479985383321)],\n",
       " 10: [('aardappel', 0.15263227292618284),\n",
       "  ('zak', 0.043109781894919666),\n",
       "  ('gratis', 0.02973916322998721),\n",
       "  ('product', 0.028994974023315735),\n",
       "  ('bestellen', 0.022066834918548797),\n",
       "  ('terug', 0.02143402913830704),\n",
       "  ('krijgen', 0.019092456712002184),\n",
       "  ('chat', 0.018346191224375204),\n",
       "  ('fijn', 0.018315709002766543),\n",
       "  ('ontvangen', 0.01801636476172277)],\n",
       " 11: [('pizza', 0.20915712139235257),\n",
       "  ('product', 0.022143936458346124),\n",
       "  ('terug', 0.01903198264153701),\n",
       "  ('winkel', 0.018459714780436665),\n",
       "  ('fijn', 0.018443734158388826),\n",
       "  ('diepvrie', 0.017487983501576963),\n",
       "  ('vers', 0.017048774233278826),\n",
       "  ('leveren', 0.016610582733833208),\n",
       "  ('chat', 0.01640454975722608),\n",
       "  ('gaan', 0.01613957524246312)],\n",
       " 12: [('ticket', 0.12311421764435362),\n",
       "  ('kaart', 0.07409813517832274),\n",
       "  ('code', 0.049604516634827366),\n",
       "  ('wedstrijd', 0.03534676691305069),\n",
       "  ('kassaticket', 0.029920048769065434),\n",
       "  ('uniek', 0.02974192392292828),\n",
       "  ('points', 0.029437196077146018),\n",
       "  ('simkaart', 0.02924508781885395),\n",
       "  ('actie', 0.026418054650363253),\n",
       "  ('kopen', 0.0260135468055948)],\n",
       " 13: [('toiletpapier', 0.13721842884447388),\n",
       "  ('papier', 0.06930515124400807),\n",
       "  ('rol', 0.06775488706024671),\n",
       "  ('rollen', 0.04814209059620628),\n",
       "  ('wc', 0.04407814740762939),\n",
       "  ('laags', 0.038771451714512364),\n",
       "  ('page', 0.03436225193248972),\n",
       "  ('toilet', 0.029236618847810078),\n",
       "  ('pak', 0.029025251570369462),\n",
       "  ('bestellen', 0.024263918281554185)],\n",
       " 14: [('open', 0.276874642728443),\n",
       "  ('openingstijen', 0.121224335379766),\n",
       "  ('vandaag', 0.08341010582636361),\n",
       "  ('filiaal', 0.07413143364340569),\n",
       "  ('sluiten', 0.06934264114551375),\n",
       "  ('openen', 0.06349320155428682),\n",
       "  ('verschillen', 0.058715473596299354),\n",
       "  ('opzoeken', 0.05822343068306847),\n",
       "  ('chat', 0.05258105362780008),\n",
       "  ('openingstijd', 0.048189449790255565)],\n",
       " 15: [('school', 0.09555761642634734),\n",
       "  ('dochter', 0.08238794701424788),\n",
       "  ('uur', 0.04728550774963901),\n",
       "  ('kind', 0.032845857248041156),\n",
       "  ('komen', 0.028137681784003655),\n",
       "  ('bezorger', 0.026307748611178718),\n",
       "  ('bestelling', 0.025118877324291414),\n",
       "  ('tijd', 0.022993199572498804),\n",
       "  ('halen', 0.019762499434992385),\n",
       "  ('graag', 0.019480790695608725)],\n",
       " 16: [('bezorginstructie', 0.19550720446415945),\n",
       "  ('profiel', 0.11938355807977248),\n",
       "  ('contactgegeven', 0.06993961344414437),\n",
       "  ('bezorger', 0.06167862038356444),\n",
       "  ('adres', 0.0454673589966763),\n",
       "  ('vinden', 0.04415754232532759),\n",
       "  ('instructie', 0.04215828737393947),\n",
       "  ('bezorg', 0.039992181599336034),\n",
       "  ('staan', 0.0383022468009001),\n",
       "  ('wijzig', 0.03423138983209035)],\n",
       " 17: [('bloemkool', 0.18205478917638102),\n",
       "  ('bloem', 0.11623593223100988),\n",
       "  ('persoon', 0.08859750272035306),\n",
       "  ('klein', 0.037748891624517895),\n",
       "  ('bos', 0.034988999777589985),\n",
       "  ('spitskool', 0.0317184750578321),\n",
       "  ('winkel', 0.02786582854947414),\n",
       "  ('dag', 0.022057416829969177),\n",
       "  ('terug', 0.020315998217047597),\n",
       "  ('ontvangen', 0.020080821735618395)],\n",
       " 18: [('ziekenhuis', 0.24265552736410448),\n",
       "  ('annuleren', 0.0797729518045082),\n",
       "  ('bestelling', 0.07473047069584648),\n",
       "  ('beterschap', 0.06877951410068373),\n",
       "  ('thuis', 0.06404765904165477),\n",
       "  ('morgen', 0.059606159915332635),\n",
       "  ('lig', 0.053717395147985326),\n",
       "  ('spoed', 0.035429051891088845),\n",
       "  ('komen', 0.033785713440605034),\n",
       "  ('vandaag', 0.030054133188591365)],\n",
       " 19: [('wijn', 0.3110251698137429),\n",
       "  ('fles', 0.08920715559914988),\n",
       "  ('wit', 0.04821842766211029),\n",
       "  ('rood', 0.040841406682032046),\n",
       "  ('doos', 0.035032468378099924),\n",
       "  ('order_number', 0.0315299276794787),\n",
       "  ('geld', 0.0296257148952342),\n",
       "  ('betalen', 0.026329932008699396),\n",
       "  ('bestellen', 0.0246950468935221),\n",
       "  ('krijgen', 0.024418757990998304)],\n",
       " 20: [('park', 0.16003318269903527),\n",
       "  ('vakantiepark', 0.12030709086657015),\n",
       "  ('slagboom', 0.11483858673627151),\n",
       "  ('huis', 0.08614327612912402),\n",
       "  ('bezorger', 0.0637777130399191),\n",
       "  ('bezorgen', 0.059321751775715914),\n",
       "  ('vakantie', 0.057907344970747794),\n",
       "  ('receptie', 0.05108355690396123),\n",
       "  ('nummer', 0.04142841702361039),\n",
       "  ('verblijf', 0.04044926520189579)],\n",
       " 21: [('salade', 0.23551524135569069),\n",
       "  ('dressing', 0.047001733904116355),\n",
       "  ('kopen', 0.04618851974620472),\n",
       "  ('winkel', 0.037867866692709994),\n",
       "  ('terug', 0.037577737143265684),\n",
       "  ('boerensalade', 0.028416964716163645),\n",
       "  ('prijs', 0.0277150655773886),\n",
       "  ('zitten', 0.025440876743154178),\n",
       "  ('laag', 0.02511622023072993),\n",
       "  ('ei', 0.024742198878416454)],\n",
       " 22: [('insecten', 0.18229893721098434),\n",
       "  ('ingredint', 0.07292090346446635),\n",
       "  ('product', 0.05151470619401403),\n",
       "  ('verwerken', 0.05147384732750018),\n",
       "  ('allergie', 0.04756312490142669),\n",
       "  ('krekelmeel', 0.040767144430938304),\n",
       "  ('waarheid', 0.03888412139678219),\n",
       "  ('vermelden', 0.03387272326476139),\n",
       "  ('inzetten', 0.03031600475017136),\n",
       "  ('insectenmeel', 0.030302629262690763)],\n",
       " 23: [('tita', 1.5293222033293508),\n",
       "  ('bericht', 0.4347182886462179),\n",
       "  ('chat', 0.2670526251400044),\n",
       "  ('tieta', 0.1251313044525612),\n",
       "  ('good', 0.0663056158364244),\n",
       "  ('thank', 0.06185880411826053),\n",
       "  ('lukken', 0.030510491798828827),\n",
       "  ('doen', 0.026673828760616223),\n",
       "  ('', 1e-05),\n",
       "  ('', 1e-05)],\n",
       " 24: [('olie', 0.1305682750270082),\n",
       "  ('olijfolie', 0.11535807542310997),\n",
       "  ('winkel', 0.05700577215474),\n",
       "  ('retourneren', 0.05503037236836568),\n",
       "  ('dag', 0.04682861311742435),\n",
       "  ('wens', 0.04549102079175361),\n",
       "  ('bewaren', 0.04460379442618843),\n",
       "  ('reep', 0.04365445707523875),\n",
       "  ('kamertemperatuur', 0.04350045765029024),\n",
       "  ('chat', 0.0419269253845278)],\n",
       " 25: [('leidinggevend', 0.16759577864427472),\n",
       "  ('korting', 0.13102894996073772),\n",
       "  ('vraag', 0.1133959724155027),\n",
       "  ('teamleider', 0.10312130051807666),\n",
       "  ('werken', 0.0852126001695819),\n",
       "  ('medewerker', 0.08516892525318982),\n",
       "  ('personeelspas', 0.06371716729792994),\n",
       "  ('medewerkerskorting', 0.05603197828082819),\n",
       "  ('werk', 0.04876457457294372),\n",
       "  ('extra', 0.0482672617836646)],\n",
       " 26: [('retourneren', 0.13524010935995479),\n",
       "  ('wwwjumbocomserviceherroepingsrechten', 0.0883696465374602),\n",
       "  ('herroepingsrecht', 0.08794814557860309),\n",
       "  ('herroepingsformulier', 0.07364137211455016),\n",
       "  ('product', 0.06092818487982667),\n",
       "  ('https', 0.05373114503882921),\n",
       "  ('bezorger', 0.05311344278959539),\n",
       "  ('formulier', 0.04841749152899105),\n",
       "  ('volgen', 0.04778797937342793),\n",
       "  ('winkel', 0.04377961278790285)],\n",
       " 27: [('serviceformulier', 0.38594450624864496),\n",
       "  ('lukken', 0.2798199800334577),\n",
       "  ('helpen', 0.12479162590283809),\n",
       "  ('mee', 0.12308446234789937),\n",
       "  ('formulier', 0.10623569569897011),\n",
       "  ('dag', 0.09747717485118718),\n",
       "  ('fijn', 0.07615828619541704),\n",
       "  ('bonne', 0.07211715731414087),\n",
       "  ('chat', 0.06594032095467171),\n",
       "  ('wens', 0.061324912006562864)],\n",
       " 28: [('actie', 0.1333393295609145),\n",
       "  ('schaatskaart', 0.09887572959808609),\n",
       "  ('code', 0.09052102377552654),\n",
       "  ('gratis', 0.07766763009392441),\n",
       "  ('unox', 0.0771764335800728),\n",
       "  ('schaats', 0.07199390499832195),\n",
       "  ('schaatsbaankaartje', 0.06820352114126828),\n",
       "  ('wwwunoxnlactiesschaatsbaankaartjehtml', 0.06471289635736338),\n",
       "  ('flyer', 0.054286163513209945),\n",
       "  ('schaatsactie', 0.047316165237187145)]}"
      ]
     },
     "execution_count": 43,
     "metadata": {},
     "output_type": "execute_result"
    }
   ],
   "source": [
    "topic_model.topic_representations_"
   ]
  },
  {
   "cell_type": "code",
   "execution_count": 44,
   "metadata": {},
   "outputs": [
    {
     "data": {
      "application/vnd.plotly.v1+json": {
       "config": {
        "plotlyServerURL": "https://plot.ly"
       },
       "data": [
        {
         "marker": {
          "color": "#D55E00"
         },
         "orientation": "h",
         "type": "bar",
         "x": [
          0.017314107688933312,
          0.018324781963690476,
          0.01835559922912186,
          0.018424526594311152,
          0.021976372546833028
         ],
         "xaxis": "x",
         "y": [
          "punt  ",
          "bestelling  ",
          "dag  ",
          "fijn  ",
          "chat  "
         ],
         "yaxis": "y"
        },
        {
         "marker": {
          "color": "#0072B2"
         },
         "orientation": "h",
         "type": "bar",
         "x": [
          0.031231813163861272,
          0.04365607650961275,
          0.05728436875295825,
          0.10330064114936599,
          0.2146011405541443
         ],
         "xaxis": "x2",
         "y": [
          "chat  ",
          "morgen  ",
          "order_number  ",
          "bestelling  ",
          "annuleren  "
         ],
         "yaxis": "y2"
        },
        {
         "marker": {
          "color": "#CC79A7"
         },
         "orientation": "h",
         "type": "bar",
         "x": [
          0.03543692180267945,
          0.052376076810892264,
          0.0861240835880326,
          0.10045048066583989,
          0.20418788889887193
         ],
         "xaxis": "x3",
         "y": [
          "sponsoren  ",
          "sponsoring  ",
          "chat  ",
          "mee  ",
          "helpen  "
         ],
         "yaxis": "y3"
        },
        {
         "marker": {
          "color": "#E69F00"
         },
         "orientation": "h",
         "type": "bar",
         "x": [
          0.01706581018050741,
          0.017072478590800327,
          0.018562112158303046,
          0.02169527055124399,
          0.1522023937736444
         ],
         "xaxis": "x4",
         "y": [
          "product  ",
          "kopen  ",
          "gaan  ",
          "winkel  ",
          "brood  "
         ],
         "yaxis": "y4"
        },
        {
         "marker": {
          "color": "#56B4E9"
         },
         "orientation": "h",
         "type": "bar",
         "x": [
          0.020146987433114456,
          0.023729809933224495,
          0.027374806752270872,
          0.037691491028917896,
          0.07085126596829264
         ],
         "xaxis": "x5",
         "y": [
          "chocolade  ",
          "product  ",
          "pak  ",
          "yoghurt  ",
          "melk  "
         ],
         "yaxis": "y5"
        },
        {
         "marker": {
          "color": "#009E73"
         },
         "orientation": "h",
         "type": "bar",
         "x": [
          0.03919131328149962,
          0.0445124205926057,
          0.04988476735268171,
          0.05609373315489984,
          0.09463029679012426
         ],
         "xaxis": "x6",
         "y": [
          "jarig  ",
          "korting  ",
          "cadeaukaart  ",
          "gebak  ",
          "verjaardag  "
         ],
         "yaxis": "y6"
        },
        {
         "marker": {
          "color": "#F0E442"
         },
         "orientation": "h",
         "type": "bar",
         "x": [
          0.024729283642826377,
          0.026443715423174897,
          0.030146142717520245,
          0.038259303026259614,
          0.09273664903470252
         ],
         "xaxis": "x7",
         "y": [
          "bestellen  ",
          "koffiebonen  ",
          "koffiebon  ",
          "aanbieding  ",
          "koffie  "
         ],
         "yaxis": "y7"
        },
        {
         "marker": {
          "color": "#D55E00"
         },
         "orientation": "h",
         "type": "bar",
         "x": [
          0.04391616746365898,
          0.04592229193246654,
          0.04617614180866414,
          0.04972411763825581,
          0.0800909706058021
         ],
         "xaxis": "x8",
         "y": [
          "country  ",
          "nljobsjumbocomnlvacatures  ",
          "vacatures  ",
          "solliciteren  ",
          "https  "
         ],
         "yaxis": "y8"
        }
       ],
       "layout": {
        "annotations": [
         {
          "font": {
           "size": 16
          },
          "showarrow": false,
          "text": "Topic 0",
          "x": 0.0875,
          "xanchor": "center",
          "xref": "paper",
          "y": 1,
          "yanchor": "bottom",
          "yref": "paper"
         },
         {
          "font": {
           "size": 16
          },
          "showarrow": false,
          "text": "Topic 1",
          "x": 0.36250000000000004,
          "xanchor": "center",
          "xref": "paper",
          "y": 1,
          "yanchor": "bottom",
          "yref": "paper"
         },
         {
          "font": {
           "size": 16
          },
          "showarrow": false,
          "text": "Topic 2",
          "x": 0.6375000000000001,
          "xanchor": "center",
          "xref": "paper",
          "y": 1,
          "yanchor": "bottom",
          "yref": "paper"
         },
         {
          "font": {
           "size": 16
          },
          "showarrow": false,
          "text": "Topic 3",
          "x": 0.9125,
          "xanchor": "center",
          "xref": "paper",
          "y": 1,
          "yanchor": "bottom",
          "yref": "paper"
         },
         {
          "font": {
           "size": 16
          },
          "showarrow": false,
          "text": "Topic 4",
          "x": 0.0875,
          "xanchor": "center",
          "xref": "paper",
          "y": 0.4,
          "yanchor": "bottom",
          "yref": "paper"
         },
         {
          "font": {
           "size": 16
          },
          "showarrow": false,
          "text": "Topic 5",
          "x": 0.36250000000000004,
          "xanchor": "center",
          "xref": "paper",
          "y": 0.4,
          "yanchor": "bottom",
          "yref": "paper"
         },
         {
          "font": {
           "size": 16
          },
          "showarrow": false,
          "text": "Topic 6",
          "x": 0.6375000000000001,
          "xanchor": "center",
          "xref": "paper",
          "y": 0.4,
          "yanchor": "bottom",
          "yref": "paper"
         },
         {
          "font": {
           "size": 16
          },
          "showarrow": false,
          "text": "Topic 7",
          "x": 0.9125,
          "xanchor": "center",
          "xref": "paper",
          "y": 0.4,
          "yanchor": "bottom",
          "yref": "paper"
         }
        ],
        "height": 500,
        "hoverlabel": {
         "bgcolor": "white",
         "font": {
          "family": "Rockwell",
          "size": 16
         }
        },
        "showlegend": false,
        "template": {
         "data": {
          "bar": [
           {
            "error_x": {
             "color": "#2a3f5f"
            },
            "error_y": {
             "color": "#2a3f5f"
            },
            "marker": {
             "line": {
              "color": "white",
              "width": 0.5
             },
             "pattern": {
              "fillmode": "overlay",
              "size": 10,
              "solidity": 0.2
             }
            },
            "type": "bar"
           }
          ],
          "barpolar": [
           {
            "marker": {
             "line": {
              "color": "white",
              "width": 0.5
             },
             "pattern": {
              "fillmode": "overlay",
              "size": 10,
              "solidity": 0.2
             }
            },
            "type": "barpolar"
           }
          ],
          "carpet": [
           {
            "aaxis": {
             "endlinecolor": "#2a3f5f",
             "gridcolor": "#C8D4E3",
             "linecolor": "#C8D4E3",
             "minorgridcolor": "#C8D4E3",
             "startlinecolor": "#2a3f5f"
            },
            "baxis": {
             "endlinecolor": "#2a3f5f",
             "gridcolor": "#C8D4E3",
             "linecolor": "#C8D4E3",
             "minorgridcolor": "#C8D4E3",
             "startlinecolor": "#2a3f5f"
            },
            "type": "carpet"
           }
          ],
          "choropleth": [
           {
            "colorbar": {
             "outlinewidth": 0,
             "ticks": ""
            },
            "type": "choropleth"
           }
          ],
          "contour": [
           {
            "colorbar": {
             "outlinewidth": 0,
             "ticks": ""
            },
            "colorscale": [
             [
              0,
              "#0d0887"
             ],
             [
              0.1111111111111111,
              "#46039f"
             ],
             [
              0.2222222222222222,
              "#7201a8"
             ],
             [
              0.3333333333333333,
              "#9c179e"
             ],
             [
              0.4444444444444444,
              "#bd3786"
             ],
             [
              0.5555555555555556,
              "#d8576b"
             ],
             [
              0.6666666666666666,
              "#ed7953"
             ],
             [
              0.7777777777777778,
              "#fb9f3a"
             ],
             [
              0.8888888888888888,
              "#fdca26"
             ],
             [
              1,
              "#f0f921"
             ]
            ],
            "type": "contour"
           }
          ],
          "contourcarpet": [
           {
            "colorbar": {
             "outlinewidth": 0,
             "ticks": ""
            },
            "type": "contourcarpet"
           }
          ],
          "heatmap": [
           {
            "colorbar": {
             "outlinewidth": 0,
             "ticks": ""
            },
            "colorscale": [
             [
              0,
              "#0d0887"
             ],
             [
              0.1111111111111111,
              "#46039f"
             ],
             [
              0.2222222222222222,
              "#7201a8"
             ],
             [
              0.3333333333333333,
              "#9c179e"
             ],
             [
              0.4444444444444444,
              "#bd3786"
             ],
             [
              0.5555555555555556,
              "#d8576b"
             ],
             [
              0.6666666666666666,
              "#ed7953"
             ],
             [
              0.7777777777777778,
              "#fb9f3a"
             ],
             [
              0.8888888888888888,
              "#fdca26"
             ],
             [
              1,
              "#f0f921"
             ]
            ],
            "type": "heatmap"
           }
          ],
          "heatmapgl": [
           {
            "colorbar": {
             "outlinewidth": 0,
             "ticks": ""
            },
            "colorscale": [
             [
              0,
              "#0d0887"
             ],
             [
              0.1111111111111111,
              "#46039f"
             ],
             [
              0.2222222222222222,
              "#7201a8"
             ],
             [
              0.3333333333333333,
              "#9c179e"
             ],
             [
              0.4444444444444444,
              "#bd3786"
             ],
             [
              0.5555555555555556,
              "#d8576b"
             ],
             [
              0.6666666666666666,
              "#ed7953"
             ],
             [
              0.7777777777777778,
              "#fb9f3a"
             ],
             [
              0.8888888888888888,
              "#fdca26"
             ],
             [
              1,
              "#f0f921"
             ]
            ],
            "type": "heatmapgl"
           }
          ],
          "histogram": [
           {
            "marker": {
             "pattern": {
              "fillmode": "overlay",
              "size": 10,
              "solidity": 0.2
             }
            },
            "type": "histogram"
           }
          ],
          "histogram2d": [
           {
            "colorbar": {
             "outlinewidth": 0,
             "ticks": ""
            },
            "colorscale": [
             [
              0,
              "#0d0887"
             ],
             [
              0.1111111111111111,
              "#46039f"
             ],
             [
              0.2222222222222222,
              "#7201a8"
             ],
             [
              0.3333333333333333,
              "#9c179e"
             ],
             [
              0.4444444444444444,
              "#bd3786"
             ],
             [
              0.5555555555555556,
              "#d8576b"
             ],
             [
              0.6666666666666666,
              "#ed7953"
             ],
             [
              0.7777777777777778,
              "#fb9f3a"
             ],
             [
              0.8888888888888888,
              "#fdca26"
             ],
             [
              1,
              "#f0f921"
             ]
            ],
            "type": "histogram2d"
           }
          ],
          "histogram2dcontour": [
           {
            "colorbar": {
             "outlinewidth": 0,
             "ticks": ""
            },
            "colorscale": [
             [
              0,
              "#0d0887"
             ],
             [
              0.1111111111111111,
              "#46039f"
             ],
             [
              0.2222222222222222,
              "#7201a8"
             ],
             [
              0.3333333333333333,
              "#9c179e"
             ],
             [
              0.4444444444444444,
              "#bd3786"
             ],
             [
              0.5555555555555556,
              "#d8576b"
             ],
             [
              0.6666666666666666,
              "#ed7953"
             ],
             [
              0.7777777777777778,
              "#fb9f3a"
             ],
             [
              0.8888888888888888,
              "#fdca26"
             ],
             [
              1,
              "#f0f921"
             ]
            ],
            "type": "histogram2dcontour"
           }
          ],
          "mesh3d": [
           {
            "colorbar": {
             "outlinewidth": 0,
             "ticks": ""
            },
            "type": "mesh3d"
           }
          ],
          "parcoords": [
           {
            "line": {
             "colorbar": {
              "outlinewidth": 0,
              "ticks": ""
             }
            },
            "type": "parcoords"
           }
          ],
          "pie": [
           {
            "automargin": true,
            "type": "pie"
           }
          ],
          "scatter": [
           {
            "fillpattern": {
             "fillmode": "overlay",
             "size": 10,
             "solidity": 0.2
            },
            "type": "scatter"
           }
          ],
          "scatter3d": [
           {
            "line": {
             "colorbar": {
              "outlinewidth": 0,
              "ticks": ""
             }
            },
            "marker": {
             "colorbar": {
              "outlinewidth": 0,
              "ticks": ""
             }
            },
            "type": "scatter3d"
           }
          ],
          "scattercarpet": [
           {
            "marker": {
             "colorbar": {
              "outlinewidth": 0,
              "ticks": ""
             }
            },
            "type": "scattercarpet"
           }
          ],
          "scattergeo": [
           {
            "marker": {
             "colorbar": {
              "outlinewidth": 0,
              "ticks": ""
             }
            },
            "type": "scattergeo"
           }
          ],
          "scattergl": [
           {
            "marker": {
             "colorbar": {
              "outlinewidth": 0,
              "ticks": ""
             }
            },
            "type": "scattergl"
           }
          ],
          "scattermapbox": [
           {
            "marker": {
             "colorbar": {
              "outlinewidth": 0,
              "ticks": ""
             }
            },
            "type": "scattermapbox"
           }
          ],
          "scatterpolar": [
           {
            "marker": {
             "colorbar": {
              "outlinewidth": 0,
              "ticks": ""
             }
            },
            "type": "scatterpolar"
           }
          ],
          "scatterpolargl": [
           {
            "marker": {
             "colorbar": {
              "outlinewidth": 0,
              "ticks": ""
             }
            },
            "type": "scatterpolargl"
           }
          ],
          "scatterternary": [
           {
            "marker": {
             "colorbar": {
              "outlinewidth": 0,
              "ticks": ""
             }
            },
            "type": "scatterternary"
           }
          ],
          "surface": [
           {
            "colorbar": {
             "outlinewidth": 0,
             "ticks": ""
            },
            "colorscale": [
             [
              0,
              "#0d0887"
             ],
             [
              0.1111111111111111,
              "#46039f"
             ],
             [
              0.2222222222222222,
              "#7201a8"
             ],
             [
              0.3333333333333333,
              "#9c179e"
             ],
             [
              0.4444444444444444,
              "#bd3786"
             ],
             [
              0.5555555555555556,
              "#d8576b"
             ],
             [
              0.6666666666666666,
              "#ed7953"
             ],
             [
              0.7777777777777778,
              "#fb9f3a"
             ],
             [
              0.8888888888888888,
              "#fdca26"
             ],
             [
              1,
              "#f0f921"
             ]
            ],
            "type": "surface"
           }
          ],
          "table": [
           {
            "cells": {
             "fill": {
              "color": "#EBF0F8"
             },
             "line": {
              "color": "white"
             }
            },
            "header": {
             "fill": {
              "color": "#C8D4E3"
             },
             "line": {
              "color": "white"
             }
            },
            "type": "table"
           }
          ]
         },
         "layout": {
          "annotationdefaults": {
           "arrowcolor": "#2a3f5f",
           "arrowhead": 0,
           "arrowwidth": 1
          },
          "autotypenumbers": "strict",
          "coloraxis": {
           "colorbar": {
            "outlinewidth": 0,
            "ticks": ""
           }
          },
          "colorscale": {
           "diverging": [
            [
             0,
             "#8e0152"
            ],
            [
             0.1,
             "#c51b7d"
            ],
            [
             0.2,
             "#de77ae"
            ],
            [
             0.3,
             "#f1b6da"
            ],
            [
             0.4,
             "#fde0ef"
            ],
            [
             0.5,
             "#f7f7f7"
            ],
            [
             0.6,
             "#e6f5d0"
            ],
            [
             0.7,
             "#b8e186"
            ],
            [
             0.8,
             "#7fbc41"
            ],
            [
             0.9,
             "#4d9221"
            ],
            [
             1,
             "#276419"
            ]
           ],
           "sequential": [
            [
             0,
             "#0d0887"
            ],
            [
             0.1111111111111111,
             "#46039f"
            ],
            [
             0.2222222222222222,
             "#7201a8"
            ],
            [
             0.3333333333333333,
             "#9c179e"
            ],
            [
             0.4444444444444444,
             "#bd3786"
            ],
            [
             0.5555555555555556,
             "#d8576b"
            ],
            [
             0.6666666666666666,
             "#ed7953"
            ],
            [
             0.7777777777777778,
             "#fb9f3a"
            ],
            [
             0.8888888888888888,
             "#fdca26"
            ],
            [
             1,
             "#f0f921"
            ]
           ],
           "sequentialminus": [
            [
             0,
             "#0d0887"
            ],
            [
             0.1111111111111111,
             "#46039f"
            ],
            [
             0.2222222222222222,
             "#7201a8"
            ],
            [
             0.3333333333333333,
             "#9c179e"
            ],
            [
             0.4444444444444444,
             "#bd3786"
            ],
            [
             0.5555555555555556,
             "#d8576b"
            ],
            [
             0.6666666666666666,
             "#ed7953"
            ],
            [
             0.7777777777777778,
             "#fb9f3a"
            ],
            [
             0.8888888888888888,
             "#fdca26"
            ],
            [
             1,
             "#f0f921"
            ]
           ]
          },
          "colorway": [
           "#636efa",
           "#EF553B",
           "#00cc96",
           "#ab63fa",
           "#FFA15A",
           "#19d3f3",
           "#FF6692",
           "#B6E880",
           "#FF97FF",
           "#FECB52"
          ],
          "font": {
           "color": "#2a3f5f"
          },
          "geo": {
           "bgcolor": "white",
           "lakecolor": "white",
           "landcolor": "white",
           "showlakes": true,
           "showland": true,
           "subunitcolor": "#C8D4E3"
          },
          "hoverlabel": {
           "align": "left"
          },
          "hovermode": "closest",
          "mapbox": {
           "style": "light"
          },
          "paper_bgcolor": "white",
          "plot_bgcolor": "white",
          "polar": {
           "angularaxis": {
            "gridcolor": "#EBF0F8",
            "linecolor": "#EBF0F8",
            "ticks": ""
           },
           "bgcolor": "white",
           "radialaxis": {
            "gridcolor": "#EBF0F8",
            "linecolor": "#EBF0F8",
            "ticks": ""
           }
          },
          "scene": {
           "xaxis": {
            "backgroundcolor": "white",
            "gridcolor": "#DFE8F3",
            "gridwidth": 2,
            "linecolor": "#EBF0F8",
            "showbackground": true,
            "ticks": "",
            "zerolinecolor": "#EBF0F8"
           },
           "yaxis": {
            "backgroundcolor": "white",
            "gridcolor": "#DFE8F3",
            "gridwidth": 2,
            "linecolor": "#EBF0F8",
            "showbackground": true,
            "ticks": "",
            "zerolinecolor": "#EBF0F8"
           },
           "zaxis": {
            "backgroundcolor": "white",
            "gridcolor": "#DFE8F3",
            "gridwidth": 2,
            "linecolor": "#EBF0F8",
            "showbackground": true,
            "ticks": "",
            "zerolinecolor": "#EBF0F8"
           }
          },
          "shapedefaults": {
           "line": {
            "color": "#2a3f5f"
           }
          },
          "ternary": {
           "aaxis": {
            "gridcolor": "#DFE8F3",
            "linecolor": "#A2B1C6",
            "ticks": ""
           },
           "baxis": {
            "gridcolor": "#DFE8F3",
            "linecolor": "#A2B1C6",
            "ticks": ""
           },
           "bgcolor": "white",
           "caxis": {
            "gridcolor": "#DFE8F3",
            "linecolor": "#A2B1C6",
            "ticks": ""
           }
          },
          "title": {
           "x": 0.05
          },
          "xaxis": {
           "automargin": true,
           "gridcolor": "#EBF0F8",
           "linecolor": "#EBF0F8",
           "ticks": "",
           "title": {
            "standoff": 15
           },
           "zerolinecolor": "#EBF0F8",
           "zerolinewidth": 2
          },
          "yaxis": {
           "automargin": true,
           "gridcolor": "#EBF0F8",
           "linecolor": "#EBF0F8",
           "ticks": "",
           "title": {
            "standoff": 15
           },
           "zerolinecolor": "#EBF0F8",
           "zerolinewidth": 2
          }
         }
        },
        "title": {
         "font": {
          "color": "Black",
          "size": 22
         },
         "text": "Topic Word Scores",
         "x": 0.5,
         "xanchor": "center",
         "yanchor": "top"
        },
        "width": 1000,
        "xaxis": {
         "anchor": "y",
         "domain": [
          0,
          0.175
         ],
         "showgrid": true
        },
        "xaxis2": {
         "anchor": "y2",
         "domain": [
          0.275,
          0.45
         ],
         "showgrid": true
        },
        "xaxis3": {
         "anchor": "y3",
         "domain": [
          0.55,
          0.7250000000000001
         ],
         "showgrid": true
        },
        "xaxis4": {
         "anchor": "y4",
         "domain": [
          0.825,
          1
         ],
         "showgrid": true
        },
        "xaxis5": {
         "anchor": "y5",
         "domain": [
          0,
          0.175
         ],
         "showgrid": true
        },
        "xaxis6": {
         "anchor": "y6",
         "domain": [
          0.275,
          0.45
         ],
         "showgrid": true
        },
        "xaxis7": {
         "anchor": "y7",
         "domain": [
          0.55,
          0.7250000000000001
         ],
         "showgrid": true
        },
        "xaxis8": {
         "anchor": "y8",
         "domain": [
          0.825,
          1
         ],
         "showgrid": true
        },
        "yaxis": {
         "anchor": "x",
         "domain": [
          0.6000000000000001,
          1
         ],
         "showgrid": true
        },
        "yaxis2": {
         "anchor": "x2",
         "domain": [
          0.6000000000000001,
          1
         ],
         "showgrid": true
        },
        "yaxis3": {
         "anchor": "x3",
         "domain": [
          0.6000000000000001,
          1
         ],
         "showgrid": true
        },
        "yaxis4": {
         "anchor": "x4",
         "domain": [
          0.6000000000000001,
          1
         ],
         "showgrid": true
        },
        "yaxis5": {
         "anchor": "x5",
         "domain": [
          0,
          0.4
         ],
         "showgrid": true
        },
        "yaxis6": {
         "anchor": "x6",
         "domain": [
          0,
          0.4
         ],
         "showgrid": true
        },
        "yaxis7": {
         "anchor": "x7",
         "domain": [
          0,
          0.4
         ],
         "showgrid": true
        },
        "yaxis8": {
         "anchor": "x8",
         "domain": [
          0,
          0.4
         ],
         "showgrid": true
        }
       }
      }
     },
     "metadata": {},
     "output_type": "display_data"
    }
   ],
   "source": [
    "topic_model.visualize_barchart()"
   ]
  },
  {
   "cell_type": "code",
   "execution_count": 45,
   "metadata": {},
   "outputs": [
    {
     "data": {
      "text/plain": [
       "[('helpen', 0.20418788889887193),\n",
       " ('mee', 0.10045048066583989),\n",
       " ('chat', 0.0861240835880326),\n",
       " ('sponsoring', 0.052376076810892264),\n",
       " ('sponsoren', 0.03543692180267945),\n",
       " ('ondersteunen', 0.027174497181523493),\n",
       " ('honoreren', 0.02489326168693032),\n",
       " ('activiteit', 0.023518808717509335),\n",
       " ('school', 0.022561971280803082),\n",
       " ('doel', 0.02186441623070483)]"
      ]
     },
     "execution_count": 45,
     "metadata": {},
     "output_type": "execute_result"
    }
   ],
   "source": [
    "topic_model.get_topic(2)"
   ]
  },
  {
   "cell_type": "code",
   "execution_count": 47,
   "metadata": {},
   "outputs": [
    {
     "data": {
      "text/plain": [
       "[('brood', 0.1522023937736444),\n",
       " ('winkel', 0.02169527055124399),\n",
       " ('gaan', 0.018562112158303046),\n",
       " ('kopen', 0.017072478590800327),\n",
       " ('product', 0.01706581018050741),\n",
       " ('fijn', 0.0164111452846911),\n",
       " ('chat', 0.015747329153716544),\n",
       " ('recept', 0.015644228288047738),\n",
       " ('klacht', 0.015070330491926498),\n",
       " ('dag', 0.015011236457827927)]"
      ]
     },
     "execution_count": 47,
     "metadata": {},
     "output_type": "execute_result"
    }
   ],
   "source": [
    "topic_model.get_topic(3)"
   ]
  },
  {
   "cell_type": "code",
   "execution_count": 48,
   "metadata": {},
   "outputs": [
    {
     "name": "stdout",
     "output_type": "stream",
     "text": [
      "('aardappel', 0.15263227292618284)\n",
      "('zak', 0.043109781894919666)\n",
      "('gratis', 0.02973916322998721)\n",
      "('product', 0.028994974023315735)\n",
      "('bestellen', 0.022066834918548797)\n",
      "('terug', 0.02143402913830704)\n",
      "('krijgen', 0.019092456712002184)\n",
      "('chat', 0.018346191224375204)\n",
      "('fijn', 0.018315709002766543)\n",
      "('ontvangen', 0.01801636476172277)\n"
     ]
    }
   ],
   "source": [
    "# get top n topics and their associated keywords\n",
    "n_topics = 10\n",
    "topic_keywords = topic_model.get_topic(n_topics)\n",
    "\n",
    "# print the top keywords for each topic\n",
    "for topic in topic_keywords:\n",
    "    print(topic)"
   ]
  },
  {
   "cell_type": "code",
   "execution_count": 49,
   "metadata": {},
   "outputs": [
    {
     "data": {
      "application/vnd.plotly.v1+json": {
       "config": {
        "plotlyServerURL": "https://plot.ly"
       },
       "data": [
        {
         "customdata": [
          [
           0,
           "chat | fijn | dag | bestelling | punt",
           18039
          ],
          [
           1,
           "annuleren | bestelling | order_number | morgen | chat",
           889
          ],
          [
           2,
           "helpen | mee | chat | sponsoring | sponsoren",
           848
          ],
          [
           3,
           "brood | winkel | gaan | kopen | product",
           676
          ],
          [
           4,
           "melk | yoghurt | pak | product | chocolade",
           594
          ],
          [
           5,
           "verjaardag | gebak | cadeaukaart | korting | jarig",
           475
          ],
          [
           6,
           "koffie | aanbieding | koffiebon | koffiebonen | bestellen",
           451
          ],
          [
           7,
           "https | solliciteren | vacatures | nljobsjumbocomnlvacatures | country",
           320
          ],
          [
           8,
           "fruit | banaan | groente | paprika | groen",
           300
          ],
          [
           9,
           "vlees | vegetarisch | product | vegan | winkel",
           250
          ],
          [
           10,
           "aardappel | zak | gratis | product | bestellen",
           201
          ],
          [
           11,
           "pizza | product | terug | winkel | fijn",
           164
          ],
          [
           12,
           "ticket | kaart | code | wedstrijd | kassaticket",
           100
          ],
          [
           13,
           "toiletpapier | papier | rol | rollen | wc",
           97
          ],
          [
           14,
           "open | openingstijen | vandaag | filiaal | sluiten",
           73
          ],
          [
           15,
           "school | dochter | uur | kind | komen",
           70
          ],
          [
           16,
           "bezorginstructie | profiel | contactgegeven | bezorger | adres",
           53
          ],
          [
           17,
           "bloemkool | bloem | persoon | klein | bos",
           50
          ],
          [
           18,
           "ziekenhuis | annuleren | bestelling | beterschap | thuis",
           44
          ],
          [
           19,
           "wijn | fles | wit | rood | doos",
           33
          ],
          [
           20,
           "park | vakantiepark | slagboom | huis | bezorger",
           32
          ],
          [
           21,
           "salade | dressing | kopen | winkel | terug",
           32
          ],
          [
           22,
           "insecten | ingredint | product | verwerken | allergie",
           27
          ],
          [
           23,
           "tita | bericht | chat | tieta | good",
           26
          ],
          [
           24,
           "olie | olijfolie | winkel | retourneren | dag",
           21
          ],
          [
           25,
           "leidinggevend | korting | vraag | teamleider | werken",
           17
          ],
          [
           26,
           "retourneren | wwwjumbocomserviceherroepingsrechten | herroepingsrecht | herroepingsformulier | product",
           13
          ],
          [
           27,
           "serviceformulier | lukken | helpen | mee | formulier",
           13
          ],
          [
           28,
           "actie | schaatskaart | code | gratis | unox",
           11
          ]
         ],
         "hovertemplate": "<b>Topic %{customdata[0]}</b><br>%{customdata[1]}<br>Size: %{customdata[2]}",
         "legendgroup": "",
         "marker": {
          "color": "#B0BEC5",
          "line": {
           "color": "DarkSlateGrey",
           "width": 2
          },
          "size": [
           18039,
           889,
           848,
           676,
           594,
           475,
           451,
           320,
           300,
           250,
           201,
           164,
           100,
           97,
           73,
           70,
           53,
           50,
           44,
           33,
           32,
           32,
           27,
           26,
           21,
           17,
           13,
           13,
           11
          ],
          "sizemode": "area",
          "sizeref": 11.274375,
          "symbol": "circle"
         },
         "mode": "markers",
         "name": "",
         "orientation": "v",
         "showlegend": false,
         "type": "scatter",
         "x": [
          14.698431015014648,
          1.0699542760849,
          2.047048330307007,
          14.978882789611816,
          14.766908645629883,
          1.2061508893966675,
          14.44332218170166,
          1.970628261566162,
          12.316252708435059,
          12.376664161682129,
          12.596426010131836,
          12.735718727111816,
          12.888609886169434,
          0.5714993476867676,
          -8.37414836883545,
          1.1626332998275757,
          -7.5796637535095215,
          1.0986679792404175,
          -8.153831481933594,
          0.8993139266967773,
          -7.796016216278076,
          1.2514896392822266,
          1.1307679414749146,
          -8.532809257507324,
          -0.5201498866081238,
          -0.09597662091255188,
          -0.0393749363720417,
          -0.4194481074810028,
          -0.2074342519044876
         ],
         "xaxis": "x",
         "y": [
          -8.692093849182129,
          -8.05964469909668,
          17.605405807495117,
          -8.972675323486328,
          -8.760607719421387,
          -8.482504844665527,
          -8.437223434448242,
          17.52777671813965,
          -0.42582231760025024,
          -0.3694438636302948,
          -0.14695070683956146,
          -0.008882314898073673,
          0.1428874433040619,
          -7.473742485046387,
          10.889910697937012,
          -8.067986488342285,
          11.689677238464355,
          -6.955099105834961,
          11.112458229064941,
          -7.4738383293151855,
          11.472987174987793,
          -6.594446182250977,
          -6.460958003997803,
          10.730360984802246,
          10.573600769042969,
          10.467674255371094,
          10.400634765625,
          10.144597053527832,
          10.003236770629883
         ],
         "yaxis": "y"
        }
       ],
       "layout": {
        "annotations": [
         {
          "showarrow": false,
          "text": "D1",
          "x": -9.812730646133422,
          "y": 4.963820028305053,
          "yshift": 10
         },
         {
          "showarrow": false,
          "text": "D2",
          "x": 3.7064922809600835,
          "xshift": 10,
          "y": 20.246216678619383
         }
        ],
        "height": 650,
        "hoverlabel": {
         "bgcolor": "white",
         "font": {
          "family": "Rockwell",
          "size": 16
         }
        },
        "legend": {
         "itemsizing": "constant",
         "tracegroupgap": 0
        },
        "margin": {
         "t": 60
        },
        "shapes": [
         {
          "line": {
           "color": "#CFD8DC",
           "width": 2
          },
          "type": "line",
          "x0": 3.7064922809600835,
          "x1": 3.7064922809600835,
          "y0": -10.318576622009278,
          "y1": 20.246216678619383
         },
         {
          "line": {
           "color": "#9E9E9E",
           "width": 2
          },
          "type": "line",
          "x0": -9.812730646133422,
          "x1": 17.22571520805359,
          "y0": 4.963820028305053,
          "y1": 4.963820028305053
         }
        ],
        "sliders": [
         {
          "active": 0,
          "pad": {
           "t": 50
          },
          "steps": [
           {
            "args": [
             {
              "marker.color": [
               [
                "red",
                "#B0BEC5",
                "#B0BEC5",
                "#B0BEC5",
                "#B0BEC5",
                "#B0BEC5",
                "#B0BEC5",
                "#B0BEC5",
                "#B0BEC5",
                "#B0BEC5",
                "#B0BEC5",
                "#B0BEC5",
                "#B0BEC5",
                "#B0BEC5",
                "#B0BEC5",
                "#B0BEC5",
                "#B0BEC5",
                "#B0BEC5",
                "#B0BEC5",
                "#B0BEC5",
                "#B0BEC5",
                "#B0BEC5",
                "#B0BEC5",
                "#B0BEC5",
                "#B0BEC5",
                "#B0BEC5",
                "#B0BEC5",
                "#B0BEC5",
                "#B0BEC5"
               ]
              ]
             }
            ],
            "label": "Topic 0",
            "method": "update"
           },
           {
            "args": [
             {
              "marker.color": [
               [
                "#B0BEC5",
                "red",
                "#B0BEC5",
                "#B0BEC5",
                "#B0BEC5",
                "#B0BEC5",
                "#B0BEC5",
                "#B0BEC5",
                "#B0BEC5",
                "#B0BEC5",
                "#B0BEC5",
                "#B0BEC5",
                "#B0BEC5",
                "#B0BEC5",
                "#B0BEC5",
                "#B0BEC5",
                "#B0BEC5",
                "#B0BEC5",
                "#B0BEC5",
                "#B0BEC5",
                "#B0BEC5",
                "#B0BEC5",
                "#B0BEC5",
                "#B0BEC5",
                "#B0BEC5",
                "#B0BEC5",
                "#B0BEC5",
                "#B0BEC5",
                "#B0BEC5"
               ]
              ]
             }
            ],
            "label": "Topic 1",
            "method": "update"
           },
           {
            "args": [
             {
              "marker.color": [
               [
                "#B0BEC5",
                "#B0BEC5",
                "red",
                "#B0BEC5",
                "#B0BEC5",
                "#B0BEC5",
                "#B0BEC5",
                "#B0BEC5",
                "#B0BEC5",
                "#B0BEC5",
                "#B0BEC5",
                "#B0BEC5",
                "#B0BEC5",
                "#B0BEC5",
                "#B0BEC5",
                "#B0BEC5",
                "#B0BEC5",
                "#B0BEC5",
                "#B0BEC5",
                "#B0BEC5",
                "#B0BEC5",
                "#B0BEC5",
                "#B0BEC5",
                "#B0BEC5",
                "#B0BEC5",
                "#B0BEC5",
                "#B0BEC5",
                "#B0BEC5",
                "#B0BEC5"
               ]
              ]
             }
            ],
            "label": "Topic 2",
            "method": "update"
           },
           {
            "args": [
             {
              "marker.color": [
               [
                "#B0BEC5",
                "#B0BEC5",
                "#B0BEC5",
                "red",
                "#B0BEC5",
                "#B0BEC5",
                "#B0BEC5",
                "#B0BEC5",
                "#B0BEC5",
                "#B0BEC5",
                "#B0BEC5",
                "#B0BEC5",
                "#B0BEC5",
                "#B0BEC5",
                "#B0BEC5",
                "#B0BEC5",
                "#B0BEC5",
                "#B0BEC5",
                "#B0BEC5",
                "#B0BEC5",
                "#B0BEC5",
                "#B0BEC5",
                "#B0BEC5",
                "#B0BEC5",
                "#B0BEC5",
                "#B0BEC5",
                "#B0BEC5",
                "#B0BEC5",
                "#B0BEC5"
               ]
              ]
             }
            ],
            "label": "Topic 3",
            "method": "update"
           },
           {
            "args": [
             {
              "marker.color": [
               [
                "#B0BEC5",
                "#B0BEC5",
                "#B0BEC5",
                "#B0BEC5",
                "red",
                "#B0BEC5",
                "#B0BEC5",
                "#B0BEC5",
                "#B0BEC5",
                "#B0BEC5",
                "#B0BEC5",
                "#B0BEC5",
                "#B0BEC5",
                "#B0BEC5",
                "#B0BEC5",
                "#B0BEC5",
                "#B0BEC5",
                "#B0BEC5",
                "#B0BEC5",
                "#B0BEC5",
                "#B0BEC5",
                "#B0BEC5",
                "#B0BEC5",
                "#B0BEC5",
                "#B0BEC5",
                "#B0BEC5",
                "#B0BEC5",
                "#B0BEC5",
                "#B0BEC5"
               ]
              ]
             }
            ],
            "label": "Topic 4",
            "method": "update"
           },
           {
            "args": [
             {
              "marker.color": [
               [
                "#B0BEC5",
                "#B0BEC5",
                "#B0BEC5",
                "#B0BEC5",
                "#B0BEC5",
                "red",
                "#B0BEC5",
                "#B0BEC5",
                "#B0BEC5",
                "#B0BEC5",
                "#B0BEC5",
                "#B0BEC5",
                "#B0BEC5",
                "#B0BEC5",
                "#B0BEC5",
                "#B0BEC5",
                "#B0BEC5",
                "#B0BEC5",
                "#B0BEC5",
                "#B0BEC5",
                "#B0BEC5",
                "#B0BEC5",
                "#B0BEC5",
                "#B0BEC5",
                "#B0BEC5",
                "#B0BEC5",
                "#B0BEC5",
                "#B0BEC5",
                "#B0BEC5"
               ]
              ]
             }
            ],
            "label": "Topic 5",
            "method": "update"
           },
           {
            "args": [
             {
              "marker.color": [
               [
                "#B0BEC5",
                "#B0BEC5",
                "#B0BEC5",
                "#B0BEC5",
                "#B0BEC5",
                "#B0BEC5",
                "red",
                "#B0BEC5",
                "#B0BEC5",
                "#B0BEC5",
                "#B0BEC5",
                "#B0BEC5",
                "#B0BEC5",
                "#B0BEC5",
                "#B0BEC5",
                "#B0BEC5",
                "#B0BEC5",
                "#B0BEC5",
                "#B0BEC5",
                "#B0BEC5",
                "#B0BEC5",
                "#B0BEC5",
                "#B0BEC5",
                "#B0BEC5",
                "#B0BEC5",
                "#B0BEC5",
                "#B0BEC5",
                "#B0BEC5",
                "#B0BEC5"
               ]
              ]
             }
            ],
            "label": "Topic 6",
            "method": "update"
           },
           {
            "args": [
             {
              "marker.color": [
               [
                "#B0BEC5",
                "#B0BEC5",
                "#B0BEC5",
                "#B0BEC5",
                "#B0BEC5",
                "#B0BEC5",
                "#B0BEC5",
                "red",
                "#B0BEC5",
                "#B0BEC5",
                "#B0BEC5",
                "#B0BEC5",
                "#B0BEC5",
                "#B0BEC5",
                "#B0BEC5",
                "#B0BEC5",
                "#B0BEC5",
                "#B0BEC5",
                "#B0BEC5",
                "#B0BEC5",
                "#B0BEC5",
                "#B0BEC5",
                "#B0BEC5",
                "#B0BEC5",
                "#B0BEC5",
                "#B0BEC5",
                "#B0BEC5",
                "#B0BEC5",
                "#B0BEC5"
               ]
              ]
             }
            ],
            "label": "Topic 7",
            "method": "update"
           },
           {
            "args": [
             {
              "marker.color": [
               [
                "#B0BEC5",
                "#B0BEC5",
                "#B0BEC5",
                "#B0BEC5",
                "#B0BEC5",
                "#B0BEC5",
                "#B0BEC5",
                "#B0BEC5",
                "red",
                "#B0BEC5",
                "#B0BEC5",
                "#B0BEC5",
                "#B0BEC5",
                "#B0BEC5",
                "#B0BEC5",
                "#B0BEC5",
                "#B0BEC5",
                "#B0BEC5",
                "#B0BEC5",
                "#B0BEC5",
                "#B0BEC5",
                "#B0BEC5",
                "#B0BEC5",
                "#B0BEC5",
                "#B0BEC5",
                "#B0BEC5",
                "#B0BEC5",
                "#B0BEC5",
                "#B0BEC5"
               ]
              ]
             }
            ],
            "label": "Topic 8",
            "method": "update"
           },
           {
            "args": [
             {
              "marker.color": [
               [
                "#B0BEC5",
                "#B0BEC5",
                "#B0BEC5",
                "#B0BEC5",
                "#B0BEC5",
                "#B0BEC5",
                "#B0BEC5",
                "#B0BEC5",
                "#B0BEC5",
                "red",
                "#B0BEC5",
                "#B0BEC5",
                "#B0BEC5",
                "#B0BEC5",
                "#B0BEC5",
                "#B0BEC5",
                "#B0BEC5",
                "#B0BEC5",
                "#B0BEC5",
                "#B0BEC5",
                "#B0BEC5",
                "#B0BEC5",
                "#B0BEC5",
                "#B0BEC5",
                "#B0BEC5",
                "#B0BEC5",
                "#B0BEC5",
                "#B0BEC5",
                "#B0BEC5"
               ]
              ]
             }
            ],
            "label": "Topic 9",
            "method": "update"
           },
           {
            "args": [
             {
              "marker.color": [
               [
                "#B0BEC5",
                "#B0BEC5",
                "#B0BEC5",
                "#B0BEC5",
                "#B0BEC5",
                "#B0BEC5",
                "#B0BEC5",
                "#B0BEC5",
                "#B0BEC5",
                "#B0BEC5",
                "red",
                "#B0BEC5",
                "#B0BEC5",
                "#B0BEC5",
                "#B0BEC5",
                "#B0BEC5",
                "#B0BEC5",
                "#B0BEC5",
                "#B0BEC5",
                "#B0BEC5",
                "#B0BEC5",
                "#B0BEC5",
                "#B0BEC5",
                "#B0BEC5",
                "#B0BEC5",
                "#B0BEC5",
                "#B0BEC5",
                "#B0BEC5",
                "#B0BEC5"
               ]
              ]
             }
            ],
            "label": "Topic 10",
            "method": "update"
           },
           {
            "args": [
             {
              "marker.color": [
               [
                "#B0BEC5",
                "#B0BEC5",
                "#B0BEC5",
                "#B0BEC5",
                "#B0BEC5",
                "#B0BEC5",
                "#B0BEC5",
                "#B0BEC5",
                "#B0BEC5",
                "#B0BEC5",
                "#B0BEC5",
                "red",
                "#B0BEC5",
                "#B0BEC5",
                "#B0BEC5",
                "#B0BEC5",
                "#B0BEC5",
                "#B0BEC5",
                "#B0BEC5",
                "#B0BEC5",
                "#B0BEC5",
                "#B0BEC5",
                "#B0BEC5",
                "#B0BEC5",
                "#B0BEC5",
                "#B0BEC5",
                "#B0BEC5",
                "#B0BEC5",
                "#B0BEC5"
               ]
              ]
             }
            ],
            "label": "Topic 11",
            "method": "update"
           },
           {
            "args": [
             {
              "marker.color": [
               [
                "#B0BEC5",
                "#B0BEC5",
                "#B0BEC5",
                "#B0BEC5",
                "#B0BEC5",
                "#B0BEC5",
                "#B0BEC5",
                "#B0BEC5",
                "#B0BEC5",
                "#B0BEC5",
                "#B0BEC5",
                "#B0BEC5",
                "red",
                "#B0BEC5",
                "#B0BEC5",
                "#B0BEC5",
                "#B0BEC5",
                "#B0BEC5",
                "#B0BEC5",
                "#B0BEC5",
                "#B0BEC5",
                "#B0BEC5",
                "#B0BEC5",
                "#B0BEC5",
                "#B0BEC5",
                "#B0BEC5",
                "#B0BEC5",
                "#B0BEC5",
                "#B0BEC5"
               ]
              ]
             }
            ],
            "label": "Topic 12",
            "method": "update"
           },
           {
            "args": [
             {
              "marker.color": [
               [
                "#B0BEC5",
                "#B0BEC5",
                "#B0BEC5",
                "#B0BEC5",
                "#B0BEC5",
                "#B0BEC5",
                "#B0BEC5",
                "#B0BEC5",
                "#B0BEC5",
                "#B0BEC5",
                "#B0BEC5",
                "#B0BEC5",
                "#B0BEC5",
                "red",
                "#B0BEC5",
                "#B0BEC5",
                "#B0BEC5",
                "#B0BEC5",
                "#B0BEC5",
                "#B0BEC5",
                "#B0BEC5",
                "#B0BEC5",
                "#B0BEC5",
                "#B0BEC5",
                "#B0BEC5",
                "#B0BEC5",
                "#B0BEC5",
                "#B0BEC5",
                "#B0BEC5"
               ]
              ]
             }
            ],
            "label": "Topic 13",
            "method": "update"
           },
           {
            "args": [
             {
              "marker.color": [
               [
                "#B0BEC5",
                "#B0BEC5",
                "#B0BEC5",
                "#B0BEC5",
                "#B0BEC5",
                "#B0BEC5",
                "#B0BEC5",
                "#B0BEC5",
                "#B0BEC5",
                "#B0BEC5",
                "#B0BEC5",
                "#B0BEC5",
                "#B0BEC5",
                "#B0BEC5",
                "red",
                "#B0BEC5",
                "#B0BEC5",
                "#B0BEC5",
                "#B0BEC5",
                "#B0BEC5",
                "#B0BEC5",
                "#B0BEC5",
                "#B0BEC5",
                "#B0BEC5",
                "#B0BEC5",
                "#B0BEC5",
                "#B0BEC5",
                "#B0BEC5",
                "#B0BEC5"
               ]
              ]
             }
            ],
            "label": "Topic 14",
            "method": "update"
           },
           {
            "args": [
             {
              "marker.color": [
               [
                "#B0BEC5",
                "#B0BEC5",
                "#B0BEC5",
                "#B0BEC5",
                "#B0BEC5",
                "#B0BEC5",
                "#B0BEC5",
                "#B0BEC5",
                "#B0BEC5",
                "#B0BEC5",
                "#B0BEC5",
                "#B0BEC5",
                "#B0BEC5",
                "#B0BEC5",
                "#B0BEC5",
                "red",
                "#B0BEC5",
                "#B0BEC5",
                "#B0BEC5",
                "#B0BEC5",
                "#B0BEC5",
                "#B0BEC5",
                "#B0BEC5",
                "#B0BEC5",
                "#B0BEC5",
                "#B0BEC5",
                "#B0BEC5",
                "#B0BEC5",
                "#B0BEC5"
               ]
              ]
             }
            ],
            "label": "Topic 15",
            "method": "update"
           },
           {
            "args": [
             {
              "marker.color": [
               [
                "#B0BEC5",
                "#B0BEC5",
                "#B0BEC5",
                "#B0BEC5",
                "#B0BEC5",
                "#B0BEC5",
                "#B0BEC5",
                "#B0BEC5",
                "#B0BEC5",
                "#B0BEC5",
                "#B0BEC5",
                "#B0BEC5",
                "#B0BEC5",
                "#B0BEC5",
                "#B0BEC5",
                "#B0BEC5",
                "red",
                "#B0BEC5",
                "#B0BEC5",
                "#B0BEC5",
                "#B0BEC5",
                "#B0BEC5",
                "#B0BEC5",
                "#B0BEC5",
                "#B0BEC5",
                "#B0BEC5",
                "#B0BEC5",
                "#B0BEC5",
                "#B0BEC5"
               ]
              ]
             }
            ],
            "label": "Topic 16",
            "method": "update"
           },
           {
            "args": [
             {
              "marker.color": [
               [
                "#B0BEC5",
                "#B0BEC5",
                "#B0BEC5",
                "#B0BEC5",
                "#B0BEC5",
                "#B0BEC5",
                "#B0BEC5",
                "#B0BEC5",
                "#B0BEC5",
                "#B0BEC5",
                "#B0BEC5",
                "#B0BEC5",
                "#B0BEC5",
                "#B0BEC5",
                "#B0BEC5",
                "#B0BEC5",
                "#B0BEC5",
                "red",
                "#B0BEC5",
                "#B0BEC5",
                "#B0BEC5",
                "#B0BEC5",
                "#B0BEC5",
                "#B0BEC5",
                "#B0BEC5",
                "#B0BEC5",
                "#B0BEC5",
                "#B0BEC5",
                "#B0BEC5"
               ]
              ]
             }
            ],
            "label": "Topic 17",
            "method": "update"
           },
           {
            "args": [
             {
              "marker.color": [
               [
                "#B0BEC5",
                "#B0BEC5",
                "#B0BEC5",
                "#B0BEC5",
                "#B0BEC5",
                "#B0BEC5",
                "#B0BEC5",
                "#B0BEC5",
                "#B0BEC5",
                "#B0BEC5",
                "#B0BEC5",
                "#B0BEC5",
                "#B0BEC5",
                "#B0BEC5",
                "#B0BEC5",
                "#B0BEC5",
                "#B0BEC5",
                "#B0BEC5",
                "red",
                "#B0BEC5",
                "#B0BEC5",
                "#B0BEC5",
                "#B0BEC5",
                "#B0BEC5",
                "#B0BEC5",
                "#B0BEC5",
                "#B0BEC5",
                "#B0BEC5",
                "#B0BEC5"
               ]
              ]
             }
            ],
            "label": "Topic 18",
            "method": "update"
           },
           {
            "args": [
             {
              "marker.color": [
               [
                "#B0BEC5",
                "#B0BEC5",
                "#B0BEC5",
                "#B0BEC5",
                "#B0BEC5",
                "#B0BEC5",
                "#B0BEC5",
                "#B0BEC5",
                "#B0BEC5",
                "#B0BEC5",
                "#B0BEC5",
                "#B0BEC5",
                "#B0BEC5",
                "#B0BEC5",
                "#B0BEC5",
                "#B0BEC5",
                "#B0BEC5",
                "#B0BEC5",
                "#B0BEC5",
                "red",
                "#B0BEC5",
                "#B0BEC5",
                "#B0BEC5",
                "#B0BEC5",
                "#B0BEC5",
                "#B0BEC5",
                "#B0BEC5",
                "#B0BEC5",
                "#B0BEC5"
               ]
              ]
             }
            ],
            "label": "Topic 19",
            "method": "update"
           },
           {
            "args": [
             {
              "marker.color": [
               [
                "#B0BEC5",
                "#B0BEC5",
                "#B0BEC5",
                "#B0BEC5",
                "#B0BEC5",
                "#B0BEC5",
                "#B0BEC5",
                "#B0BEC5",
                "#B0BEC5",
                "#B0BEC5",
                "#B0BEC5",
                "#B0BEC5",
                "#B0BEC5",
                "#B0BEC5",
                "#B0BEC5",
                "#B0BEC5",
                "#B0BEC5",
                "#B0BEC5",
                "#B0BEC5",
                "#B0BEC5",
                "red",
                "#B0BEC5",
                "#B0BEC5",
                "#B0BEC5",
                "#B0BEC5",
                "#B0BEC5",
                "#B0BEC5",
                "#B0BEC5",
                "#B0BEC5"
               ]
              ]
             }
            ],
            "label": "Topic 20",
            "method": "update"
           },
           {
            "args": [
             {
              "marker.color": [
               [
                "#B0BEC5",
                "#B0BEC5",
                "#B0BEC5",
                "#B0BEC5",
                "#B0BEC5",
                "#B0BEC5",
                "#B0BEC5",
                "#B0BEC5",
                "#B0BEC5",
                "#B0BEC5",
                "#B0BEC5",
                "#B0BEC5",
                "#B0BEC5",
                "#B0BEC5",
                "#B0BEC5",
                "#B0BEC5",
                "#B0BEC5",
                "#B0BEC5",
                "#B0BEC5",
                "#B0BEC5",
                "#B0BEC5",
                "red",
                "#B0BEC5",
                "#B0BEC5",
                "#B0BEC5",
                "#B0BEC5",
                "#B0BEC5",
                "#B0BEC5",
                "#B0BEC5"
               ]
              ]
             }
            ],
            "label": "Topic 21",
            "method": "update"
           },
           {
            "args": [
             {
              "marker.color": [
               [
                "#B0BEC5",
                "#B0BEC5",
                "#B0BEC5",
                "#B0BEC5",
                "#B0BEC5",
                "#B0BEC5",
                "#B0BEC5",
                "#B0BEC5",
                "#B0BEC5",
                "#B0BEC5",
                "#B0BEC5",
                "#B0BEC5",
                "#B0BEC5",
                "#B0BEC5",
                "#B0BEC5",
                "#B0BEC5",
                "#B0BEC5",
                "#B0BEC5",
                "#B0BEC5",
                "#B0BEC5",
                "#B0BEC5",
                "#B0BEC5",
                "red",
                "#B0BEC5",
                "#B0BEC5",
                "#B0BEC5",
                "#B0BEC5",
                "#B0BEC5",
                "#B0BEC5"
               ]
              ]
             }
            ],
            "label": "Topic 22",
            "method": "update"
           },
           {
            "args": [
             {
              "marker.color": [
               [
                "#B0BEC5",
                "#B0BEC5",
                "#B0BEC5",
                "#B0BEC5",
                "#B0BEC5",
                "#B0BEC5",
                "#B0BEC5",
                "#B0BEC5",
                "#B0BEC5",
                "#B0BEC5",
                "#B0BEC5",
                "#B0BEC5",
                "#B0BEC5",
                "#B0BEC5",
                "#B0BEC5",
                "#B0BEC5",
                "#B0BEC5",
                "#B0BEC5",
                "#B0BEC5",
                "#B0BEC5",
                "#B0BEC5",
                "#B0BEC5",
                "#B0BEC5",
                "red",
                "#B0BEC5",
                "#B0BEC5",
                "#B0BEC5",
                "#B0BEC5",
                "#B0BEC5"
               ]
              ]
             }
            ],
            "label": "Topic 23",
            "method": "update"
           },
           {
            "args": [
             {
              "marker.color": [
               [
                "#B0BEC5",
                "#B0BEC5",
                "#B0BEC5",
                "#B0BEC5",
                "#B0BEC5",
                "#B0BEC5",
                "#B0BEC5",
                "#B0BEC5",
                "#B0BEC5",
                "#B0BEC5",
                "#B0BEC5",
                "#B0BEC5",
                "#B0BEC5",
                "#B0BEC5",
                "#B0BEC5",
                "#B0BEC5",
                "#B0BEC5",
                "#B0BEC5",
                "#B0BEC5",
                "#B0BEC5",
                "#B0BEC5",
                "#B0BEC5",
                "#B0BEC5",
                "#B0BEC5",
                "red",
                "#B0BEC5",
                "#B0BEC5",
                "#B0BEC5",
                "#B0BEC5"
               ]
              ]
             }
            ],
            "label": "Topic 24",
            "method": "update"
           },
           {
            "args": [
             {
              "marker.color": [
               [
                "#B0BEC5",
                "#B0BEC5",
                "#B0BEC5",
                "#B0BEC5",
                "#B0BEC5",
                "#B0BEC5",
                "#B0BEC5",
                "#B0BEC5",
                "#B0BEC5",
                "#B0BEC5",
                "#B0BEC5",
                "#B0BEC5",
                "#B0BEC5",
                "#B0BEC5",
                "#B0BEC5",
                "#B0BEC5",
                "#B0BEC5",
                "#B0BEC5",
                "#B0BEC5",
                "#B0BEC5",
                "#B0BEC5",
                "#B0BEC5",
                "#B0BEC5",
                "#B0BEC5",
                "#B0BEC5",
                "red",
                "#B0BEC5",
                "#B0BEC5",
                "#B0BEC5"
               ]
              ]
             }
            ],
            "label": "Topic 25",
            "method": "update"
           },
           {
            "args": [
             {
              "marker.color": [
               [
                "#B0BEC5",
                "#B0BEC5",
                "#B0BEC5",
                "#B0BEC5",
                "#B0BEC5",
                "#B0BEC5",
                "#B0BEC5",
                "#B0BEC5",
                "#B0BEC5",
                "#B0BEC5",
                "#B0BEC5",
                "#B0BEC5",
                "#B0BEC5",
                "#B0BEC5",
                "#B0BEC5",
                "#B0BEC5",
                "#B0BEC5",
                "#B0BEC5",
                "#B0BEC5",
                "#B0BEC5",
                "#B0BEC5",
                "#B0BEC5",
                "#B0BEC5",
                "#B0BEC5",
                "#B0BEC5",
                "#B0BEC5",
                "red",
                "#B0BEC5",
                "#B0BEC5"
               ]
              ]
             }
            ],
            "label": "Topic 26",
            "method": "update"
           },
           {
            "args": [
             {
              "marker.color": [
               [
                "#B0BEC5",
                "#B0BEC5",
                "#B0BEC5",
                "#B0BEC5",
                "#B0BEC5",
                "#B0BEC5",
                "#B0BEC5",
                "#B0BEC5",
                "#B0BEC5",
                "#B0BEC5",
                "#B0BEC5",
                "#B0BEC5",
                "#B0BEC5",
                "#B0BEC5",
                "#B0BEC5",
                "#B0BEC5",
                "#B0BEC5",
                "#B0BEC5",
                "#B0BEC5",
                "#B0BEC5",
                "#B0BEC5",
                "#B0BEC5",
                "#B0BEC5",
                "#B0BEC5",
                "#B0BEC5",
                "#B0BEC5",
                "#B0BEC5",
                "red",
                "#B0BEC5"
               ]
              ]
             }
            ],
            "label": "Topic 27",
            "method": "update"
           },
           {
            "args": [
             {
              "marker.color": [
               [
                "#B0BEC5",
                "#B0BEC5",
                "#B0BEC5",
                "#B0BEC5",
                "#B0BEC5",
                "#B0BEC5",
                "#B0BEC5",
                "#B0BEC5",
                "#B0BEC5",
                "#B0BEC5",
                "#B0BEC5",
                "#B0BEC5",
                "#B0BEC5",
                "#B0BEC5",
                "#B0BEC5",
                "#B0BEC5",
                "#B0BEC5",
                "#B0BEC5",
                "#B0BEC5",
                "#B0BEC5",
                "#B0BEC5",
                "#B0BEC5",
                "#B0BEC5",
                "#B0BEC5",
                "#B0BEC5",
                "#B0BEC5",
                "#B0BEC5",
                "#B0BEC5",
                "red"
               ]
              ]
             }
            ],
            "label": "Topic 28",
            "method": "update"
           }
          ]
         }
        ],
        "template": {
         "data": {
          "bar": [
           {
            "error_x": {
             "color": "rgb(36,36,36)"
            },
            "error_y": {
             "color": "rgb(36,36,36)"
            },
            "marker": {
             "line": {
              "color": "white",
              "width": 0.5
             },
             "pattern": {
              "fillmode": "overlay",
              "size": 10,
              "solidity": 0.2
             }
            },
            "type": "bar"
           }
          ],
          "barpolar": [
           {
            "marker": {
             "line": {
              "color": "white",
              "width": 0.5
             },
             "pattern": {
              "fillmode": "overlay",
              "size": 10,
              "solidity": 0.2
             }
            },
            "type": "barpolar"
           }
          ],
          "carpet": [
           {
            "aaxis": {
             "endlinecolor": "rgb(36,36,36)",
             "gridcolor": "white",
             "linecolor": "white",
             "minorgridcolor": "white",
             "startlinecolor": "rgb(36,36,36)"
            },
            "baxis": {
             "endlinecolor": "rgb(36,36,36)",
             "gridcolor": "white",
             "linecolor": "white",
             "minorgridcolor": "white",
             "startlinecolor": "rgb(36,36,36)"
            },
            "type": "carpet"
           }
          ],
          "choropleth": [
           {
            "colorbar": {
             "outlinewidth": 1,
             "tickcolor": "rgb(36,36,36)",
             "ticks": "outside"
            },
            "type": "choropleth"
           }
          ],
          "contour": [
           {
            "colorbar": {
             "outlinewidth": 1,
             "tickcolor": "rgb(36,36,36)",
             "ticks": "outside"
            },
            "colorscale": [
             [
              0,
              "#440154"
             ],
             [
              0.1111111111111111,
              "#482878"
             ],
             [
              0.2222222222222222,
              "#3e4989"
             ],
             [
              0.3333333333333333,
              "#31688e"
             ],
             [
              0.4444444444444444,
              "#26828e"
             ],
             [
              0.5555555555555556,
              "#1f9e89"
             ],
             [
              0.6666666666666666,
              "#35b779"
             ],
             [
              0.7777777777777778,
              "#6ece58"
             ],
             [
              0.8888888888888888,
              "#b5de2b"
             ],
             [
              1,
              "#fde725"
             ]
            ],
            "type": "contour"
           }
          ],
          "contourcarpet": [
           {
            "colorbar": {
             "outlinewidth": 1,
             "tickcolor": "rgb(36,36,36)",
             "ticks": "outside"
            },
            "type": "contourcarpet"
           }
          ],
          "heatmap": [
           {
            "colorbar": {
             "outlinewidth": 1,
             "tickcolor": "rgb(36,36,36)",
             "ticks": "outside"
            },
            "colorscale": [
             [
              0,
              "#440154"
             ],
             [
              0.1111111111111111,
              "#482878"
             ],
             [
              0.2222222222222222,
              "#3e4989"
             ],
             [
              0.3333333333333333,
              "#31688e"
             ],
             [
              0.4444444444444444,
              "#26828e"
             ],
             [
              0.5555555555555556,
              "#1f9e89"
             ],
             [
              0.6666666666666666,
              "#35b779"
             ],
             [
              0.7777777777777778,
              "#6ece58"
             ],
             [
              0.8888888888888888,
              "#b5de2b"
             ],
             [
              1,
              "#fde725"
             ]
            ],
            "type": "heatmap"
           }
          ],
          "heatmapgl": [
           {
            "colorbar": {
             "outlinewidth": 1,
             "tickcolor": "rgb(36,36,36)",
             "ticks": "outside"
            },
            "colorscale": [
             [
              0,
              "#440154"
             ],
             [
              0.1111111111111111,
              "#482878"
             ],
             [
              0.2222222222222222,
              "#3e4989"
             ],
             [
              0.3333333333333333,
              "#31688e"
             ],
             [
              0.4444444444444444,
              "#26828e"
             ],
             [
              0.5555555555555556,
              "#1f9e89"
             ],
             [
              0.6666666666666666,
              "#35b779"
             ],
             [
              0.7777777777777778,
              "#6ece58"
             ],
             [
              0.8888888888888888,
              "#b5de2b"
             ],
             [
              1,
              "#fde725"
             ]
            ],
            "type": "heatmapgl"
           }
          ],
          "histogram": [
           {
            "marker": {
             "line": {
              "color": "white",
              "width": 0.6
             }
            },
            "type": "histogram"
           }
          ],
          "histogram2d": [
           {
            "colorbar": {
             "outlinewidth": 1,
             "tickcolor": "rgb(36,36,36)",
             "ticks": "outside"
            },
            "colorscale": [
             [
              0,
              "#440154"
             ],
             [
              0.1111111111111111,
              "#482878"
             ],
             [
              0.2222222222222222,
              "#3e4989"
             ],
             [
              0.3333333333333333,
              "#31688e"
             ],
             [
              0.4444444444444444,
              "#26828e"
             ],
             [
              0.5555555555555556,
              "#1f9e89"
             ],
             [
              0.6666666666666666,
              "#35b779"
             ],
             [
              0.7777777777777778,
              "#6ece58"
             ],
             [
              0.8888888888888888,
              "#b5de2b"
             ],
             [
              1,
              "#fde725"
             ]
            ],
            "type": "histogram2d"
           }
          ],
          "histogram2dcontour": [
           {
            "colorbar": {
             "outlinewidth": 1,
             "tickcolor": "rgb(36,36,36)",
             "ticks": "outside"
            },
            "colorscale": [
             [
              0,
              "#440154"
             ],
             [
              0.1111111111111111,
              "#482878"
             ],
             [
              0.2222222222222222,
              "#3e4989"
             ],
             [
              0.3333333333333333,
              "#31688e"
             ],
             [
              0.4444444444444444,
              "#26828e"
             ],
             [
              0.5555555555555556,
              "#1f9e89"
             ],
             [
              0.6666666666666666,
              "#35b779"
             ],
             [
              0.7777777777777778,
              "#6ece58"
             ],
             [
              0.8888888888888888,
              "#b5de2b"
             ],
             [
              1,
              "#fde725"
             ]
            ],
            "type": "histogram2dcontour"
           }
          ],
          "mesh3d": [
           {
            "colorbar": {
             "outlinewidth": 1,
             "tickcolor": "rgb(36,36,36)",
             "ticks": "outside"
            },
            "type": "mesh3d"
           }
          ],
          "parcoords": [
           {
            "line": {
             "colorbar": {
              "outlinewidth": 1,
              "tickcolor": "rgb(36,36,36)",
              "ticks": "outside"
             }
            },
            "type": "parcoords"
           }
          ],
          "pie": [
           {
            "automargin": true,
            "type": "pie"
           }
          ],
          "scatter": [
           {
            "fillpattern": {
             "fillmode": "overlay",
             "size": 10,
             "solidity": 0.2
            },
            "type": "scatter"
           }
          ],
          "scatter3d": [
           {
            "line": {
             "colorbar": {
              "outlinewidth": 1,
              "tickcolor": "rgb(36,36,36)",
              "ticks": "outside"
             }
            },
            "marker": {
             "colorbar": {
              "outlinewidth": 1,
              "tickcolor": "rgb(36,36,36)",
              "ticks": "outside"
             }
            },
            "type": "scatter3d"
           }
          ],
          "scattercarpet": [
           {
            "marker": {
             "colorbar": {
              "outlinewidth": 1,
              "tickcolor": "rgb(36,36,36)",
              "ticks": "outside"
             }
            },
            "type": "scattercarpet"
           }
          ],
          "scattergeo": [
           {
            "marker": {
             "colorbar": {
              "outlinewidth": 1,
              "tickcolor": "rgb(36,36,36)",
              "ticks": "outside"
             }
            },
            "type": "scattergeo"
           }
          ],
          "scattergl": [
           {
            "marker": {
             "colorbar": {
              "outlinewidth": 1,
              "tickcolor": "rgb(36,36,36)",
              "ticks": "outside"
             }
            },
            "type": "scattergl"
           }
          ],
          "scattermapbox": [
           {
            "marker": {
             "colorbar": {
              "outlinewidth": 1,
              "tickcolor": "rgb(36,36,36)",
              "ticks": "outside"
             }
            },
            "type": "scattermapbox"
           }
          ],
          "scatterpolar": [
           {
            "marker": {
             "colorbar": {
              "outlinewidth": 1,
              "tickcolor": "rgb(36,36,36)",
              "ticks": "outside"
             }
            },
            "type": "scatterpolar"
           }
          ],
          "scatterpolargl": [
           {
            "marker": {
             "colorbar": {
              "outlinewidth": 1,
              "tickcolor": "rgb(36,36,36)",
              "ticks": "outside"
             }
            },
            "type": "scatterpolargl"
           }
          ],
          "scatterternary": [
           {
            "marker": {
             "colorbar": {
              "outlinewidth": 1,
              "tickcolor": "rgb(36,36,36)",
              "ticks": "outside"
             }
            },
            "type": "scatterternary"
           }
          ],
          "surface": [
           {
            "colorbar": {
             "outlinewidth": 1,
             "tickcolor": "rgb(36,36,36)",
             "ticks": "outside"
            },
            "colorscale": [
             [
              0,
              "#440154"
             ],
             [
              0.1111111111111111,
              "#482878"
             ],
             [
              0.2222222222222222,
              "#3e4989"
             ],
             [
              0.3333333333333333,
              "#31688e"
             ],
             [
              0.4444444444444444,
              "#26828e"
             ],
             [
              0.5555555555555556,
              "#1f9e89"
             ],
             [
              0.6666666666666666,
              "#35b779"
             ],
             [
              0.7777777777777778,
              "#6ece58"
             ],
             [
              0.8888888888888888,
              "#b5de2b"
             ],
             [
              1,
              "#fde725"
             ]
            ],
            "type": "surface"
           }
          ],
          "table": [
           {
            "cells": {
             "fill": {
              "color": "rgb(237,237,237)"
             },
             "line": {
              "color": "white"
             }
            },
            "header": {
             "fill": {
              "color": "rgb(217,217,217)"
             },
             "line": {
              "color": "white"
             }
            },
            "type": "table"
           }
          ]
         },
         "layout": {
          "annotationdefaults": {
           "arrowhead": 0,
           "arrowwidth": 1
          },
          "autotypenumbers": "strict",
          "coloraxis": {
           "colorbar": {
            "outlinewidth": 1,
            "tickcolor": "rgb(36,36,36)",
            "ticks": "outside"
           }
          },
          "colorscale": {
           "diverging": [
            [
             0,
             "rgb(103,0,31)"
            ],
            [
             0.1,
             "rgb(178,24,43)"
            ],
            [
             0.2,
             "rgb(214,96,77)"
            ],
            [
             0.3,
             "rgb(244,165,130)"
            ],
            [
             0.4,
             "rgb(253,219,199)"
            ],
            [
             0.5,
             "rgb(247,247,247)"
            ],
            [
             0.6,
             "rgb(209,229,240)"
            ],
            [
             0.7,
             "rgb(146,197,222)"
            ],
            [
             0.8,
             "rgb(67,147,195)"
            ],
            [
             0.9,
             "rgb(33,102,172)"
            ],
            [
             1,
             "rgb(5,48,97)"
            ]
           ],
           "sequential": [
            [
             0,
             "#440154"
            ],
            [
             0.1111111111111111,
             "#482878"
            ],
            [
             0.2222222222222222,
             "#3e4989"
            ],
            [
             0.3333333333333333,
             "#31688e"
            ],
            [
             0.4444444444444444,
             "#26828e"
            ],
            [
             0.5555555555555556,
             "#1f9e89"
            ],
            [
             0.6666666666666666,
             "#35b779"
            ],
            [
             0.7777777777777778,
             "#6ece58"
            ],
            [
             0.8888888888888888,
             "#b5de2b"
            ],
            [
             1,
             "#fde725"
            ]
           ],
           "sequentialminus": [
            [
             0,
             "#440154"
            ],
            [
             0.1111111111111111,
             "#482878"
            ],
            [
             0.2222222222222222,
             "#3e4989"
            ],
            [
             0.3333333333333333,
             "#31688e"
            ],
            [
             0.4444444444444444,
             "#26828e"
            ],
            [
             0.5555555555555556,
             "#1f9e89"
            ],
            [
             0.6666666666666666,
             "#35b779"
            ],
            [
             0.7777777777777778,
             "#6ece58"
            ],
            [
             0.8888888888888888,
             "#b5de2b"
            ],
            [
             1,
             "#fde725"
            ]
           ]
          },
          "colorway": [
           "#1F77B4",
           "#FF7F0E",
           "#2CA02C",
           "#D62728",
           "#9467BD",
           "#8C564B",
           "#E377C2",
           "#7F7F7F",
           "#BCBD22",
           "#17BECF"
          ],
          "font": {
           "color": "rgb(36,36,36)"
          },
          "geo": {
           "bgcolor": "white",
           "lakecolor": "white",
           "landcolor": "white",
           "showlakes": true,
           "showland": true,
           "subunitcolor": "white"
          },
          "hoverlabel": {
           "align": "left"
          },
          "hovermode": "closest",
          "mapbox": {
           "style": "light"
          },
          "paper_bgcolor": "white",
          "plot_bgcolor": "white",
          "polar": {
           "angularaxis": {
            "gridcolor": "rgb(232,232,232)",
            "linecolor": "rgb(36,36,36)",
            "showgrid": false,
            "showline": true,
            "ticks": "outside"
           },
           "bgcolor": "white",
           "radialaxis": {
            "gridcolor": "rgb(232,232,232)",
            "linecolor": "rgb(36,36,36)",
            "showgrid": false,
            "showline": true,
            "ticks": "outside"
           }
          },
          "scene": {
           "xaxis": {
            "backgroundcolor": "white",
            "gridcolor": "rgb(232,232,232)",
            "gridwidth": 2,
            "linecolor": "rgb(36,36,36)",
            "showbackground": true,
            "showgrid": false,
            "showline": true,
            "ticks": "outside",
            "zeroline": false,
            "zerolinecolor": "rgb(36,36,36)"
           },
           "yaxis": {
            "backgroundcolor": "white",
            "gridcolor": "rgb(232,232,232)",
            "gridwidth": 2,
            "linecolor": "rgb(36,36,36)",
            "showbackground": true,
            "showgrid": false,
            "showline": true,
            "ticks": "outside",
            "zeroline": false,
            "zerolinecolor": "rgb(36,36,36)"
           },
           "zaxis": {
            "backgroundcolor": "white",
            "gridcolor": "rgb(232,232,232)",
            "gridwidth": 2,
            "linecolor": "rgb(36,36,36)",
            "showbackground": true,
            "showgrid": false,
            "showline": true,
            "ticks": "outside",
            "zeroline": false,
            "zerolinecolor": "rgb(36,36,36)"
           }
          },
          "shapedefaults": {
           "fillcolor": "black",
           "line": {
            "width": 0
           },
           "opacity": 0.3
          },
          "ternary": {
           "aaxis": {
            "gridcolor": "rgb(232,232,232)",
            "linecolor": "rgb(36,36,36)",
            "showgrid": false,
            "showline": true,
            "ticks": "outside"
           },
           "baxis": {
            "gridcolor": "rgb(232,232,232)",
            "linecolor": "rgb(36,36,36)",
            "showgrid": false,
            "showline": true,
            "ticks": "outside"
           },
           "bgcolor": "white",
           "caxis": {
            "gridcolor": "rgb(232,232,232)",
            "linecolor": "rgb(36,36,36)",
            "showgrid": false,
            "showline": true,
            "ticks": "outside"
           }
          },
          "title": {
           "x": 0.05
          },
          "xaxis": {
           "automargin": true,
           "gridcolor": "rgb(232,232,232)",
           "linecolor": "rgb(36,36,36)",
           "showgrid": false,
           "showline": true,
           "ticks": "outside",
           "title": {
            "standoff": 15
           },
           "zeroline": false,
           "zerolinecolor": "rgb(36,36,36)"
          },
          "yaxis": {
           "automargin": true,
           "gridcolor": "rgb(232,232,232)",
           "linecolor": "rgb(36,36,36)",
           "showgrid": false,
           "showline": true,
           "ticks": "outside",
           "title": {
            "standoff": 15
           },
           "zeroline": false,
           "zerolinecolor": "rgb(36,36,36)"
          }
         }
        },
        "title": {
         "font": {
          "color": "Black",
          "size": 22
         },
         "text": "<b>Intertopic Distance Map</b>",
         "x": 0.5,
         "xanchor": "center",
         "y": 0.95,
         "yanchor": "top"
        },
        "width": 650,
        "xaxis": {
         "anchor": "y",
         "domain": [
          0,
          1
         ],
         "range": [
          -9.812730646133422,
          17.22571520805359
         ],
         "title": {
          "text": ""
         },
         "visible": false
        },
        "yaxis": {
         "anchor": "x",
         "domain": [
          0,
          1
         ],
         "range": [
          -10.318576622009278,
          20.246216678619383
         ],
         "title": {
          "text": ""
         },
         "visible": false
        }
       }
      }
     },
     "metadata": {},
     "output_type": "display_data"
    }
   ],
   "source": [
    "topic_model.visualize_topics()"
   ]
  },
  {
   "cell_type": "code",
   "execution_count": 50,
   "metadata": {},
   "outputs": [
    {
     "data": {
      "application/vnd.plotly.v1+json": {
       "config": {
        "plotlyServerURL": "https://plot.ly"
       },
       "data": [
        {
         "coloraxis": "coloraxis",
         "hovertemplate": "x: %{x}<br>y: %{y}<br>Similarity Score: %{z}<extra></extra>",
         "name": "0",
         "type": "heatmap",
         "x": [
          "0_chat_fijn_dag",
          "1_annuleren_bestelling_orde...",
          "2_helpen_mee_chat",
          "3_brood_winkel_gaan",
          "4_melk_yoghurt_pak",
          "5_verjaardag_gebak_cadeauka...",
          "6_koffie_aanbieding_koffiebon",
          "7_https_solliciteren_vacatu...",
          "8_fruit_banaan_groente",
          "9_vlees_vegetarisch_product",
          "10_aardappel_zak_gratis",
          "11_pizza_product_terug",
          "12_ticket_kaart_code",
          "13_toiletpapier_papier_rol",
          "14_open_openingstijen_vandaag",
          "15_school_dochter_uur",
          "16_bezorginstructie_profiel...",
          "17_bloemkool_bloem_persoon",
          "18_ziekenhuis_annuleren_bes...",
          "19_wijn_fles_wit",
          "20_park_vakantiepark_slagboom",
          "21_salade_dressing_kopen",
          "22_insecten_ingredint_product",
          "23_tita_bericht_chat",
          "24_olie_olijfolie_winkel",
          "25_leidinggevend_korting_vr...",
          "26_retourneren_wwwjumbocoms...",
          "27_serviceformulier_lukken_...",
          "28_actie_schaatskaart_code"
         ],
         "xaxis": "x",
         "y": [
          "0_chat_fijn_dag",
          "1_annuleren_bestelling_orde...",
          "2_helpen_mee_chat",
          "3_brood_winkel_gaan",
          "4_melk_yoghurt_pak",
          "5_verjaardag_gebak_cadeauka...",
          "6_koffie_aanbieding_koffiebon",
          "7_https_solliciteren_vacatu...",
          "8_fruit_banaan_groente",
          "9_vlees_vegetarisch_product",
          "10_aardappel_zak_gratis",
          "11_pizza_product_terug",
          "12_ticket_kaart_code",
          "13_toiletpapier_papier_rol",
          "14_open_openingstijen_vandaag",
          "15_school_dochter_uur",
          "16_bezorginstructie_profiel...",
          "17_bloemkool_bloem_persoon",
          "18_ziekenhuis_annuleren_bes...",
          "19_wijn_fles_wit",
          "20_park_vakantiepark_slagboom",
          "21_salade_dressing_kopen",
          "22_insecten_ingredint_product",
          "23_tita_bericht_chat",
          "24_olie_olijfolie_winkel",
          "25_leidinggevend_korting_vr...",
          "26_retourneren_wwwjumbocoms...",
          "27_serviceformulier_lukken_...",
          "28_actie_schaatskaart_code"
         ],
         "yaxis": "y",
         "z": [
          [
           0.9999999999999999,
           0.8486164300348186,
           0.8257380206209551,
           0.812942551148779,
           0.8462842882130306,
           0.8353289546109645,
           0.7689244832083701,
           0.8255159835078398,
           0.7740301087210103,
           0.7649629969201617,
           0.8062454517552549,
           0.7397127612872376,
           0.7888643678856444,
           0.7339742602274787,
           0.7638095221234295,
           0.8787617428168717,
           0.7710167987321226,
           0.7292144475939913,
           0.8232185349279496,
           0.7768770533170446,
           0.7823600218701077,
           0.7662346212629789,
           0.7605796570933264,
           0.8081055544932758,
           0.8285954686620112,
           0.745525024460765,
           0.7967683584246251,
           0.8849296802158731,
           0.7348456242497665
          ],
          [
           0.8486164300348186,
           0.9999999999999998,
           0.6915065516424006,
           0.6923409842909547,
           0.7120522341021545,
           0.7690781559581419,
           0.7052493943590443,
           0.7625656317664798,
           0.6372583709380721,
           0.655086926578923,
           0.7016403099879217,
           0.6412362522988523,
           0.7301776242199796,
           0.6452904027230089,
           0.6797042264883698,
           0.7588180812429242,
           0.7221841194939943,
           0.6154733777807146,
           0.8023209003815539,
           0.667969917356235,
           0.7111670726573444,
           0.6919154865481546,
           0.6716137717280948,
           0.6487123892602407,
           0.7283805542137213,
           0.7140183048684481,
           0.7842324896222547,
           0.7734912352522997,
           0.6651248298061132
          ],
          [
           0.8257380206209551,
           0.6915065516424006,
           1.0000000000000004,
           0.7054160615031392,
           0.7387967979536003,
           0.7024551796432298,
           0.6890951253362758,
           0.7789036271918688,
           0.6842367281996149,
           0.6786154994164272,
           0.6975515239876332,
           0.6323765540627152,
           0.7114422056120326,
           0.6403356722212611,
           0.658116700377098,
           0.7938358128179918,
           0.7764054466600454,
           0.6405831432017773,
           0.7320141546642689,
           0.6683092011046337,
           0.7125894693231558,
           0.6648868081355229,
           0.7095051737556418,
           0.7077846563508577,
           0.7206091964068937,
           0.714480013716449,
           0.7389410251604773,
           0.8498144892076949,
           0.675765661994955
          ],
          [
           0.812942551148779,
           0.6923409842909547,
           0.7054160615031392,
           1,
           0.8266899687757026,
           0.777240391885903,
           0.7398627432243687,
           0.7104419343369694,
           0.7401803535186376,
           0.7688756421686578,
           0.7972539981443016,
           0.7911475385945332,
           0.6806306742858224,
           0.7111009854744498,
           0.6503896016728147,
           0.7581003511620237,
           0.6331577810378504,
           0.6895005957411462,
           0.7257388712181643,
           0.712003150765679,
           0.7215169772675991,
           0.7783281836184494,
           0.7236072009856582,
           0.6962353116026858,
           0.772518784429841,
           0.6389688687459558,
           0.6925860355509385,
           0.7781538657538596,
           0.6445203669609474
          ],
          [
           0.8462842882130306,
           0.7120522341021545,
           0.7387967979536003,
           0.8266899687757026,
           1.0000000000000007,
           0.781728845551161,
           0.8240789882153314,
           0.7404463089299822,
           0.8177376644563525,
           0.787829858859947,
           0.8285692016636063,
           0.7623512723425284,
           0.7066268842620484,
           0.7317489579296754,
           0.6748630922654446,
           0.7875208514006299,
           0.6476810676113428,
           0.739316701660883,
           0.7346252659681072,
           0.7709068413456492,
           0.7543620638768427,
           0.7872161157211082,
           0.7563264333615514,
           0.7645803005773929,
           0.8096709838546579,
           0.6422649826468525,
           0.7232674342172916,
           0.8048746685121418,
           0.6840157289191447
          ],
          [
           0.8353289546109645,
           0.7690781559581419,
           0.7024551796432298,
           0.777240391885903,
           0.781728845551161,
           1,
           0.746561626770136,
           0.7736674769394017,
           0.7511887907617593,
           0.7322337477390043,
           0.7719654745808453,
           0.7039190299887967,
           0.7978332098788528,
           0.7193446264957145,
           0.695445707558712,
           0.7681615607496238,
           0.6793347310551807,
           0.7249208257602715,
           0.747723471207055,
           0.7457182507201157,
           0.7451120922845782,
           0.7466449507142355,
           0.7244879193509254,
           0.7363559626908796,
           0.7697179744864507,
           0.6982017822795928,
           0.7240890027412101,
           0.7870438775252806,
           0.7584087394952785
          ],
          [
           0.7689244832083701,
           0.7052493943590443,
           0.6890951253362758,
           0.7398627432243687,
           0.8240789882153314,
           0.746561626770136,
           1.0000000000000004,
           0.7005364486883794,
           0.7254416463603082,
           0.6909167006305893,
           0.7267141449118278,
           0.6973289853346684,
           0.6873131608703428,
           0.6788131954262104,
           0.6451768422852537,
           0.7228982191439446,
           0.6244327163019149,
           0.6689774936032534,
           0.705644874746702,
           0.7205805013098388,
           0.6785141149524007,
           0.7216788066830622,
           0.6950877304304185,
           0.6961525141131769,
           0.7189612865342895,
           0.6610466079098195,
           0.6806636170122377,
           0.7418395490869321,
           0.6725576104970014
          ],
          [
           0.8255159835078398,
           0.7625656317664798,
           0.7789036271918688,
           0.7104419343369694,
           0.7404463089299822,
           0.7736674769394017,
           0.7005364486883794,
           0.9999999999999996,
           0.7080952037159068,
           0.7260217094392482,
           0.7240612475355176,
           0.6645596669307776,
           0.7555743215209029,
           0.701043573865184,
           0.713410913264859,
           0.7971711170012099,
           0.7749445195954805,
           0.6818203524958182,
           0.7865249809733039,
           0.694236617032129,
           0.772372565558783,
           0.6999179502119124,
           0.7629773860758712,
           0.7014079781764724,
           0.7435278304848335,
           0.788598696144386,
           0.8194158979955433,
           0.8270607517713897,
           0.7401599209159445
          ],
          [
           0.7740301087210103,
           0.6372583709380721,
           0.6842367281996149,
           0.7401803535186376,
           0.8177376644563525,
           0.7511887907617593,
           0.7254416463603082,
           0.7080952037159068,
           0.9999999999999996,
           0.7888702183717045,
           0.8376943091480503,
           0.738022613288905,
           0.6892659069886795,
           0.6793982705042656,
           0.6336922951902335,
           0.7377495817254103,
           0.6133361310773748,
           0.7838925852267602,
           0.665430035349929,
           0.7554871503726674,
           0.7361010399728517,
           0.7960514940336134,
           0.755851516894727,
           0.7139693603395391,
           0.7617716748711993,
           0.6249871663920876,
           0.6446960549293108,
           0.7470901349918421,
           0.6571059268838699
          ],
          [
           0.7649629969201617,
           0.655086926578923,
           0.6786154994164272,
           0.7688756421686578,
           0.787829858859947,
           0.7322337477390043,
           0.6909167006305893,
           0.7260217094392482,
           0.7888702183717045,
           0.9999999999999998,
           0.771056260253957,
           0.7263143559646508,
           0.6669606001718448,
           0.6627114033679473,
           0.6415396297307637,
           0.7180976768863361,
           0.6342837388996606,
           0.6690882885261846,
           0.6822410340496946,
           0.7328923250132151,
           0.6973095005896919,
           0.7769196910736417,
           0.7814168084160426,
           0.678739667177818,
           0.7564356427507059,
           0.6387362183439981,
           0.6772389063460622,
           0.7342783219067794,
           0.6395796816350865
          ],
          [
           0.8062454517552549,
           0.7016403099879217,
           0.6975515239876332,
           0.7972539981443016,
           0.8285692016636063,
           0.7719654745808453,
           0.7267141449118278,
           0.7240612475355176,
           0.8376943091480503,
           0.771056260253957,
           1.0000000000000002,
           0.7726650437229967,
           0.7104262864311381,
           0.6960647631992786,
           0.6454869401926755,
           0.7518316405303925,
           0.6386356159641216,
           0.7252396123610726,
           0.7039947680933125,
           0.7359025904144736,
           0.73102917591084,
           0.8038803786337384,
           0.7070297608990489,
           0.7011646448829674,
           0.7662240833841791,
           0.6459986349743833,
           0.6958235923497733,
           0.7549513355932753,
           0.7144335573400977
          ],
          [
           0.7397127612872376,
           0.6412362522988523,
           0.6323765540627152,
           0.7911475385945332,
           0.7623512723425284,
           0.7039190299887967,
           0.6973289853346684,
           0.6645596669307776,
           0.738022613288905,
           0.7263143559646508,
           0.7726650437229967,
           1.0000000000000004,
           0.6298587842329679,
           0.5783859799694491,
           0.5997860038220155,
           0.7005460419031402,
           0.571021920270208,
           0.6583438963746098,
           0.6589212107728067,
           0.7152558739826196,
           0.6759908834008559,
           0.7791571521477018,
           0.662757984343421,
           0.6439655018667033,
           0.7169706450486053,
           0.5836465226433266,
           0.6557500514982566,
           0.7587648648059789,
           0.5938691050850776
          ],
          [
           0.7888643678856444,
           0.7301776242199796,
           0.7114422056120326,
           0.6806306742858224,
           0.7066268842620484,
           0.7978332098788528,
           0.6873131608703428,
           0.7555743215209029,
           0.6892659069886795,
           0.6669606001718448,
           0.7104262864311381,
           0.6298587842329679,
           0.9999999999999999,
           0.7033387972984297,
           0.6568558350862503,
           0.7286590588668864,
           0.7102053053481309,
           0.6396711783988435,
           0.7143768867770453,
           0.6725465266890917,
           0.7295875177260642,
           0.671854045683755,
           0.6757924052676237,
           0.6749438040513229,
           0.6881778982864445,
           0.6994318823848735,
           0.7195016251424513,
           0.7494900828420813,
           0.8165862761989057
          ],
          [
           0.7339742602274787,
           0.6452904027230089,
           0.6403356722212611,
           0.7111009854744498,
           0.7317489579296754,
           0.7193446264957145,
           0.6788131954262104,
           0.701043573865184,
           0.6793982705042656,
           0.6627114033679473,
           0.6960647631992786,
           0.5783859799694491,
           0.7033387972984297,
           0.9999999999999997,
           0.6344464492233477,
           0.6960333343107115,
           0.606323066174413,
           0.6462265173688235,
           0.6962719706352761,
           0.666864148654208,
           0.6717292965860644,
           0.6856790357864146,
           0.6818355202302275,
           0.6703506770673539,
           0.7050653696780481,
           0.6424087313796735,
           0.62894920165094,
           0.6877648337945068,
           0.7201652391974328
          ],
          [
           0.7638095221234295,
           0.6797042264883698,
           0.658116700377098,
           0.6503896016728147,
           0.6748630922654446,
           0.695445707558712,
           0.6451768422852537,
           0.713410913264859,
           0.6336922951902335,
           0.6415396297307637,
           0.6454869401926755,
           0.5997860038220155,
           0.6568558350862503,
           0.6344464492233477,
           0.9999999999999998,
           0.7118543770017223,
           0.6528836243014203,
           0.6224254137187173,
           0.6995764973283192,
           0.6330432670501974,
           0.6627956183912437,
           0.6414762521620536,
           0.6565039865671111,
           0.6459990694457595,
           0.688762663821465,
           0.6299290839668326,
           0.6632768508265403,
           0.7380810857602527,
           0.6403832859720144
          ],
          [
           0.8787617428168717,
           0.7588180812429242,
           0.7938358128179918,
           0.7581003511620237,
           0.7875208514006299,
           0.7681615607496238,
           0.7228982191439446,
           0.7971711170012099,
           0.7377495817254103,
           0.7180976768863361,
           0.7518316405303925,
           0.7005460419031402,
           0.7286590588668864,
           0.6960333343107115,
           0.7118543770017223,
           1.0000000000000002,
           0.7453195093667512,
           0.7308062323219513,
           0.8088614985384842,
           0.7215316673678908,
           0.7894094502679697,
           0.7441340615157189,
           0.7398337340985964,
           0.7578019936523452,
           0.7771092452175188,
           0.7424805003372031,
           0.7523315219853186,
           0.8394222430192773,
           0.6951738448027382
          ],
          [
           0.7710167987321226,
           0.7221841194939943,
           0.7764054466600454,
           0.6331577810378504,
           0.6476810676113428,
           0.6793347310551807,
           0.6244327163019149,
           0.7749445195954805,
           0.6133361310773748,
           0.6342837388996606,
           0.6386356159641216,
           0.571021920270208,
           0.7102053053481309,
           0.606323066174413,
           0.6528836243014203,
           0.7453195093667512,
           1,
           0.5810524055665726,
           0.7214209383585579,
           0.5713436608474017,
           0.7154387620642157,
           0.6129654171362575,
           0.6689047253986296,
           0.6361160277028179,
           0.6709765835014159,
           0.7318888682922313,
           0.7748457922392644,
           0.7721878854330061,
           0.6631383730979599
          ],
          [
           0.7292144475939913,
           0.6154733777807146,
           0.6405831432017773,
           0.6895005957411462,
           0.739316701660883,
           0.7249208257602715,
           0.6689774936032534,
           0.6818203524958182,
           0.7838925852267602,
           0.6690882885261846,
           0.7252396123610726,
           0.6583438963746098,
           0.6396711783988435,
           0.6462265173688235,
           0.6224254137187173,
           0.7308062323219513,
           0.5810524055665726,
           1.0000000000000002,
           0.6800144479197971,
           0.6952572131708873,
           0.7133860832264235,
           0.7101468063886236,
           0.6929918351663561,
           0.6597756726027879,
           0.7216860210113094,
           0.6140042080332291,
           0.6236315916363815,
           0.7254930743477369,
           0.6277400989077303
          ],
          [
           0.8232185349279496,
           0.8023209003815539,
           0.7320141546642689,
           0.7257388712181643,
           0.7346252659681072,
           0.747723471207055,
           0.705644874746702,
           0.7865249809733039,
           0.665430035349929,
           0.6822410340496946,
           0.7039947680933125,
           0.6589212107728067,
           0.7143768867770453,
           0.6962719706352761,
           0.6995764973283192,
           0.8088614985384842,
           0.7214209383585579,
           0.6800144479197971,
           1,
           0.6813977098971925,
           0.7962748906787569,
           0.7184026715411926,
           0.7104584082729786,
           0.6690598426465195,
           0.7494568904173688,
           0.7174957662971695,
           0.7499554859894983,
           0.7973634802185022,
           0.6620660303593534
          ],
          [
           0.7768770533170446,
           0.667969917356235,
           0.6683092011046337,
           0.712003150765679,
           0.7709068413456492,
           0.7457182507201157,
           0.7205805013098388,
           0.694236617032129,
           0.7554871503726674,
           0.7328923250132151,
           0.7359025904144736,
           0.7152558739826196,
           0.6725465266890917,
           0.666864148654208,
           0.6330432670501974,
           0.7215316673678908,
           0.5713436608474017,
           0.6952572131708873,
           0.6813977098971925,
           0.9999999999999998,
           0.6807903266012116,
           0.7249230790425312,
           0.7135875839132848,
           0.6717824267100206,
           0.7430792458104482,
           0.6158484950461962,
           0.6322357525066804,
           0.7452412103185416,
           0.6322736956262361
          ],
          [
           0.7823600218701077,
           0.7111670726573444,
           0.7125894693231558,
           0.7215169772675991,
           0.7543620638768427,
           0.7451120922845782,
           0.6785141149524007,
           0.772372565558783,
           0.7361010399728517,
           0.6973095005896919,
           0.73102917591084,
           0.6759908834008559,
           0.7295875177260642,
           0.6717292965860644,
           0.6627956183912437,
           0.7894094502679697,
           0.7154387620642157,
           0.7133860832264235,
           0.7962748906787569,
           0.6807903266012116,
           1.0000000000000004,
           0.7374097906249346,
           0.723672393497422,
           0.6728439532082104,
           0.7444143488820318,
           0.6901541268396412,
           0.7344106499538584,
           0.7699503576890325,
           0.6869395450794648
          ],
          [
           0.7662346212629789,
           0.6919154865481546,
           0.6648868081355229,
           0.7783281836184494,
           0.7872161157211082,
           0.7466449507142355,
           0.7216788066830622,
           0.6999179502119124,
           0.7960514940336134,
           0.7769196910736417,
           0.8038803786337384,
           0.7791571521477018,
           0.671854045683755,
           0.6856790357864146,
           0.6414762521620536,
           0.7441340615157189,
           0.6129654171362575,
           0.7101468063886236,
           0.7184026715411926,
           0.7249230790425312,
           0.7374097906249346,
           1,
           0.7032866729684009,
           0.6654107103765486,
           0.8012260718069324,
           0.6562093696489781,
           0.6979304806673834,
           0.7339155049405791,
           0.6396085654642917
          ],
          [
           0.7605796570933264,
           0.6716137717280948,
           0.7095051737556418,
           0.7236072009856582,
           0.7563264333615514,
           0.7244879193509254,
           0.6950877304304185,
           0.7629773860758712,
           0.755851516894727,
           0.7814168084160426,
           0.7070297608990489,
           0.662757984343421,
           0.6757924052676237,
           0.6818355202302275,
           0.6565039865671111,
           0.7398337340985964,
           0.6689047253986296,
           0.6929918351663561,
           0.7104584082729786,
           0.7135875839132848,
           0.723672393497422,
           0.7032866729684009,
           1,
           0.6991037089964998,
           0.7284577014159836,
           0.668908517304845,
           0.7075175089464811,
           0.7819314790143161,
           0.6738783834419768
          ],
          [
           0.8081055544932758,
           0.6487123892602407,
           0.7077846563508577,
           0.6962353116026858,
           0.7645803005773929,
           0.7363559626908796,
           0.6961525141131769,
           0.7014079781764724,
           0.7139693603395391,
           0.678739667177818,
           0.7011646448829674,
           0.6439655018667033,
           0.6749438040513229,
           0.6703506770673539,
           0.6459990694457595,
           0.7578019936523452,
           0.6361160277028179,
           0.6597756726027879,
           0.6690598426465195,
           0.6717824267100206,
           0.6728439532082104,
           0.6654107103765486,
           0.6991037089964998,
           1.0000000000000002,
           0.6984147873439385,
           0.605599709281412,
           0.6336359324041432,
           0.7598679623740935,
           0.6613874801755112
          ],
          [
           0.8285954686620112,
           0.7283805542137213,
           0.7206091964068937,
           0.772518784429841,
           0.8096709838546579,
           0.7697179744864507,
           0.7189612865342895,
           0.7435278304848335,
           0.7617716748711993,
           0.7564356427507059,
           0.7662240833841791,
           0.7169706450486053,
           0.6881778982864445,
           0.7050653696780481,
           0.688762663821465,
           0.7771092452175188,
           0.6709765835014159,
           0.7216860210113094,
           0.7494568904173688,
           0.7430792458104482,
           0.7444143488820318,
           0.8012260718069324,
           0.7284577014159836,
           0.6984147873439385,
           0.9999999999999998,
           0.6643553394620917,
           0.7597177304240564,
           0.8105878116365182,
           0.6612317974200326
          ],
          [
           0.745525024460765,
           0.7140183048684481,
           0.714480013716449,
           0.6389688687459558,
           0.6422649826468525,
           0.6982017822795928,
           0.6610466079098195,
           0.788598696144386,
           0.6249871663920876,
           0.6387362183439981,
           0.6459986349743833,
           0.5836465226433266,
           0.6994318823848735,
           0.6424087313796735,
           0.6299290839668326,
           0.7424805003372031,
           0.7318888682922313,
           0.6140042080332291,
           0.7174957662971695,
           0.6158484950461962,
           0.6901541268396412,
           0.6562093696489781,
           0.668908517304845,
           0.605599709281412,
           0.6643553394620917,
           1.0000000000000002,
           0.7071260348452268,
           0.7405933359114778,
           0.6557931532291413
          ],
          [
           0.7967683584246251,
           0.7842324896222547,
           0.7389410251604773,
           0.6925860355509385,
           0.7232674342172916,
           0.7240890027412101,
           0.6806636170122377,
           0.8194158979955433,
           0.6446960549293108,
           0.6772389063460622,
           0.6958235923497733,
           0.6557500514982566,
           0.7195016251424513,
           0.62894920165094,
           0.6632768508265403,
           0.7523315219853186,
           0.7748457922392644,
           0.6236315916363815,
           0.7499554859894983,
           0.6322357525066804,
           0.7344106499538584,
           0.6979304806673834,
           0.7075175089464811,
           0.6336359324041432,
           0.7597177304240564,
           0.7071260348452268,
           0.9999999999999999,
           0.8191075175050555,
           0.6806317332414702
          ],
          [
           0.8849296802158731,
           0.7734912352522997,
           0.8498144892076949,
           0.7781538657538596,
           0.8048746685121418,
           0.7870438775252806,
           0.7418395490869321,
           0.8270607517713897,
           0.7470901349918421,
           0.7342783219067794,
           0.7549513355932753,
           0.7587648648059789,
           0.7494900828420813,
           0.6877648337945068,
           0.7380810857602527,
           0.8394222430192773,
           0.7721878854330061,
           0.7254930743477369,
           0.7973634802185022,
           0.7452412103185416,
           0.7699503576890325,
           0.7339155049405791,
           0.7819314790143161,
           0.7598679623740935,
           0.8105878116365182,
           0.7405933359114778,
           0.8191075175050555,
           1.0000000000000002,
           0.7389850117004453
          ],
          [
           0.7348456242497665,
           0.6651248298061132,
           0.675765661994955,
           0.6445203669609474,
           0.6840157289191447,
           0.7584087394952785,
           0.6725576104970014,
           0.7401599209159445,
           0.6571059268838699,
           0.6395796816350865,
           0.7144335573400977,
           0.5938691050850776,
           0.8165862761989057,
           0.7201652391974328,
           0.6403832859720144,
           0.6951738448027382,
           0.6631383730979599,
           0.6277400989077303,
           0.6620660303593534,
           0.6322736956262361,
           0.6869395450794648,
           0.6396085654642917,
           0.6738783834419768,
           0.6613874801755112,
           0.6612317974200326,
           0.6557931532291413,
           0.6806317332414702,
           0.7389850117004453,
           1.0000000000000007
          ]
         ]
        }
       ],
       "layout": {
        "coloraxis": {
         "colorbar": {
          "title": {
           "text": "Similarity Score"
          }
         },
         "colorscale": [
          [
           0,
           "rgb(247,252,240)"
          ],
          [
           0.125,
           "rgb(224,243,219)"
          ],
          [
           0.25,
           "rgb(204,235,197)"
          ],
          [
           0.375,
           "rgb(168,221,181)"
          ],
          [
           0.5,
           "rgb(123,204,196)"
          ],
          [
           0.625,
           "rgb(78,179,211)"
          ],
          [
           0.75,
           "rgb(43,140,190)"
          ],
          [
           0.875,
           "rgb(8,104,172)"
          ],
          [
           1,
           "rgb(8,64,129)"
          ]
         ]
        },
        "height": 800,
        "hoverlabel": {
         "bgcolor": "white",
         "font": {
          "family": "Rockwell",
          "size": 16
         }
        },
        "legend": {
         "title": {
          "text": "Trend"
         }
        },
        "margin": {
         "t": 60
        },
        "showlegend": true,
        "template": {
         "data": {
          "bar": [
           {
            "error_x": {
             "color": "#2a3f5f"
            },
            "error_y": {
             "color": "#2a3f5f"
            },
            "marker": {
             "line": {
              "color": "#E5ECF6",
              "width": 0.5
             },
             "pattern": {
              "fillmode": "overlay",
              "size": 10,
              "solidity": 0.2
             }
            },
            "type": "bar"
           }
          ],
          "barpolar": [
           {
            "marker": {
             "line": {
              "color": "#E5ECF6",
              "width": 0.5
             },
             "pattern": {
              "fillmode": "overlay",
              "size": 10,
              "solidity": 0.2
             }
            },
            "type": "barpolar"
           }
          ],
          "carpet": [
           {
            "aaxis": {
             "endlinecolor": "#2a3f5f",
             "gridcolor": "white",
             "linecolor": "white",
             "minorgridcolor": "white",
             "startlinecolor": "#2a3f5f"
            },
            "baxis": {
             "endlinecolor": "#2a3f5f",
             "gridcolor": "white",
             "linecolor": "white",
             "minorgridcolor": "white",
             "startlinecolor": "#2a3f5f"
            },
            "type": "carpet"
           }
          ],
          "choropleth": [
           {
            "colorbar": {
             "outlinewidth": 0,
             "ticks": ""
            },
            "type": "choropleth"
           }
          ],
          "contour": [
           {
            "colorbar": {
             "outlinewidth": 0,
             "ticks": ""
            },
            "colorscale": [
             [
              0,
              "#0d0887"
             ],
             [
              0.1111111111111111,
              "#46039f"
             ],
             [
              0.2222222222222222,
              "#7201a8"
             ],
             [
              0.3333333333333333,
              "#9c179e"
             ],
             [
              0.4444444444444444,
              "#bd3786"
             ],
             [
              0.5555555555555556,
              "#d8576b"
             ],
             [
              0.6666666666666666,
              "#ed7953"
             ],
             [
              0.7777777777777778,
              "#fb9f3a"
             ],
             [
              0.8888888888888888,
              "#fdca26"
             ],
             [
              1,
              "#f0f921"
             ]
            ],
            "type": "contour"
           }
          ],
          "contourcarpet": [
           {
            "colorbar": {
             "outlinewidth": 0,
             "ticks": ""
            },
            "type": "contourcarpet"
           }
          ],
          "heatmap": [
           {
            "colorbar": {
             "outlinewidth": 0,
             "ticks": ""
            },
            "colorscale": [
             [
              0,
              "#0d0887"
             ],
             [
              0.1111111111111111,
              "#46039f"
             ],
             [
              0.2222222222222222,
              "#7201a8"
             ],
             [
              0.3333333333333333,
              "#9c179e"
             ],
             [
              0.4444444444444444,
              "#bd3786"
             ],
             [
              0.5555555555555556,
              "#d8576b"
             ],
             [
              0.6666666666666666,
              "#ed7953"
             ],
             [
              0.7777777777777778,
              "#fb9f3a"
             ],
             [
              0.8888888888888888,
              "#fdca26"
             ],
             [
              1,
              "#f0f921"
             ]
            ],
            "type": "heatmap"
           }
          ],
          "heatmapgl": [
           {
            "colorbar": {
             "outlinewidth": 0,
             "ticks": ""
            },
            "colorscale": [
             [
              0,
              "#0d0887"
             ],
             [
              0.1111111111111111,
              "#46039f"
             ],
             [
              0.2222222222222222,
              "#7201a8"
             ],
             [
              0.3333333333333333,
              "#9c179e"
             ],
             [
              0.4444444444444444,
              "#bd3786"
             ],
             [
              0.5555555555555556,
              "#d8576b"
             ],
             [
              0.6666666666666666,
              "#ed7953"
             ],
             [
              0.7777777777777778,
              "#fb9f3a"
             ],
             [
              0.8888888888888888,
              "#fdca26"
             ],
             [
              1,
              "#f0f921"
             ]
            ],
            "type": "heatmapgl"
           }
          ],
          "histogram": [
           {
            "marker": {
             "pattern": {
              "fillmode": "overlay",
              "size": 10,
              "solidity": 0.2
             }
            },
            "type": "histogram"
           }
          ],
          "histogram2d": [
           {
            "colorbar": {
             "outlinewidth": 0,
             "ticks": ""
            },
            "colorscale": [
             [
              0,
              "#0d0887"
             ],
             [
              0.1111111111111111,
              "#46039f"
             ],
             [
              0.2222222222222222,
              "#7201a8"
             ],
             [
              0.3333333333333333,
              "#9c179e"
             ],
             [
              0.4444444444444444,
              "#bd3786"
             ],
             [
              0.5555555555555556,
              "#d8576b"
             ],
             [
              0.6666666666666666,
              "#ed7953"
             ],
             [
              0.7777777777777778,
              "#fb9f3a"
             ],
             [
              0.8888888888888888,
              "#fdca26"
             ],
             [
              1,
              "#f0f921"
             ]
            ],
            "type": "histogram2d"
           }
          ],
          "histogram2dcontour": [
           {
            "colorbar": {
             "outlinewidth": 0,
             "ticks": ""
            },
            "colorscale": [
             [
              0,
              "#0d0887"
             ],
             [
              0.1111111111111111,
              "#46039f"
             ],
             [
              0.2222222222222222,
              "#7201a8"
             ],
             [
              0.3333333333333333,
              "#9c179e"
             ],
             [
              0.4444444444444444,
              "#bd3786"
             ],
             [
              0.5555555555555556,
              "#d8576b"
             ],
             [
              0.6666666666666666,
              "#ed7953"
             ],
             [
              0.7777777777777778,
              "#fb9f3a"
             ],
             [
              0.8888888888888888,
              "#fdca26"
             ],
             [
              1,
              "#f0f921"
             ]
            ],
            "type": "histogram2dcontour"
           }
          ],
          "mesh3d": [
           {
            "colorbar": {
             "outlinewidth": 0,
             "ticks": ""
            },
            "type": "mesh3d"
           }
          ],
          "parcoords": [
           {
            "line": {
             "colorbar": {
              "outlinewidth": 0,
              "ticks": ""
             }
            },
            "type": "parcoords"
           }
          ],
          "pie": [
           {
            "automargin": true,
            "type": "pie"
           }
          ],
          "scatter": [
           {
            "fillpattern": {
             "fillmode": "overlay",
             "size": 10,
             "solidity": 0.2
            },
            "type": "scatter"
           }
          ],
          "scatter3d": [
           {
            "line": {
             "colorbar": {
              "outlinewidth": 0,
              "ticks": ""
             }
            },
            "marker": {
             "colorbar": {
              "outlinewidth": 0,
              "ticks": ""
             }
            },
            "type": "scatter3d"
           }
          ],
          "scattercarpet": [
           {
            "marker": {
             "colorbar": {
              "outlinewidth": 0,
              "ticks": ""
             }
            },
            "type": "scattercarpet"
           }
          ],
          "scattergeo": [
           {
            "marker": {
             "colorbar": {
              "outlinewidth": 0,
              "ticks": ""
             }
            },
            "type": "scattergeo"
           }
          ],
          "scattergl": [
           {
            "marker": {
             "colorbar": {
              "outlinewidth": 0,
              "ticks": ""
             }
            },
            "type": "scattergl"
           }
          ],
          "scattermapbox": [
           {
            "marker": {
             "colorbar": {
              "outlinewidth": 0,
              "ticks": ""
             }
            },
            "type": "scattermapbox"
           }
          ],
          "scatterpolar": [
           {
            "marker": {
             "colorbar": {
              "outlinewidth": 0,
              "ticks": ""
             }
            },
            "type": "scatterpolar"
           }
          ],
          "scatterpolargl": [
           {
            "marker": {
             "colorbar": {
              "outlinewidth": 0,
              "ticks": ""
             }
            },
            "type": "scatterpolargl"
           }
          ],
          "scatterternary": [
           {
            "marker": {
             "colorbar": {
              "outlinewidth": 0,
              "ticks": ""
             }
            },
            "type": "scatterternary"
           }
          ],
          "surface": [
           {
            "colorbar": {
             "outlinewidth": 0,
             "ticks": ""
            },
            "colorscale": [
             [
              0,
              "#0d0887"
             ],
             [
              0.1111111111111111,
              "#46039f"
             ],
             [
              0.2222222222222222,
              "#7201a8"
             ],
             [
              0.3333333333333333,
              "#9c179e"
             ],
             [
              0.4444444444444444,
              "#bd3786"
             ],
             [
              0.5555555555555556,
              "#d8576b"
             ],
             [
              0.6666666666666666,
              "#ed7953"
             ],
             [
              0.7777777777777778,
              "#fb9f3a"
             ],
             [
              0.8888888888888888,
              "#fdca26"
             ],
             [
              1,
              "#f0f921"
             ]
            ],
            "type": "surface"
           }
          ],
          "table": [
           {
            "cells": {
             "fill": {
              "color": "#EBF0F8"
             },
             "line": {
              "color": "white"
             }
            },
            "header": {
             "fill": {
              "color": "#C8D4E3"
             },
             "line": {
              "color": "white"
             }
            },
            "type": "table"
           }
          ]
         },
         "layout": {
          "annotationdefaults": {
           "arrowcolor": "#2a3f5f",
           "arrowhead": 0,
           "arrowwidth": 1
          },
          "autotypenumbers": "strict",
          "coloraxis": {
           "colorbar": {
            "outlinewidth": 0,
            "ticks": ""
           }
          },
          "colorscale": {
           "diverging": [
            [
             0,
             "#8e0152"
            ],
            [
             0.1,
             "#c51b7d"
            ],
            [
             0.2,
             "#de77ae"
            ],
            [
             0.3,
             "#f1b6da"
            ],
            [
             0.4,
             "#fde0ef"
            ],
            [
             0.5,
             "#f7f7f7"
            ],
            [
             0.6,
             "#e6f5d0"
            ],
            [
             0.7,
             "#b8e186"
            ],
            [
             0.8,
             "#7fbc41"
            ],
            [
             0.9,
             "#4d9221"
            ],
            [
             1,
             "#276419"
            ]
           ],
           "sequential": [
            [
             0,
             "#0d0887"
            ],
            [
             0.1111111111111111,
             "#46039f"
            ],
            [
             0.2222222222222222,
             "#7201a8"
            ],
            [
             0.3333333333333333,
             "#9c179e"
            ],
            [
             0.4444444444444444,
             "#bd3786"
            ],
            [
             0.5555555555555556,
             "#d8576b"
            ],
            [
             0.6666666666666666,
             "#ed7953"
            ],
            [
             0.7777777777777778,
             "#fb9f3a"
            ],
            [
             0.8888888888888888,
             "#fdca26"
            ],
            [
             1,
             "#f0f921"
            ]
           ],
           "sequentialminus": [
            [
             0,
             "#0d0887"
            ],
            [
             0.1111111111111111,
             "#46039f"
            ],
            [
             0.2222222222222222,
             "#7201a8"
            ],
            [
             0.3333333333333333,
             "#9c179e"
            ],
            [
             0.4444444444444444,
             "#bd3786"
            ],
            [
             0.5555555555555556,
             "#d8576b"
            ],
            [
             0.6666666666666666,
             "#ed7953"
            ],
            [
             0.7777777777777778,
             "#fb9f3a"
            ],
            [
             0.8888888888888888,
             "#fdca26"
            ],
            [
             1,
             "#f0f921"
            ]
           ]
          },
          "colorway": [
           "#636efa",
           "#EF553B",
           "#00cc96",
           "#ab63fa",
           "#FFA15A",
           "#19d3f3",
           "#FF6692",
           "#B6E880",
           "#FF97FF",
           "#FECB52"
          ],
          "font": {
           "color": "#2a3f5f"
          },
          "geo": {
           "bgcolor": "white",
           "lakecolor": "white",
           "landcolor": "#E5ECF6",
           "showlakes": true,
           "showland": true,
           "subunitcolor": "white"
          },
          "hoverlabel": {
           "align": "left"
          },
          "hovermode": "closest",
          "mapbox": {
           "style": "light"
          },
          "paper_bgcolor": "white",
          "plot_bgcolor": "#E5ECF6",
          "polar": {
           "angularaxis": {
            "gridcolor": "white",
            "linecolor": "white",
            "ticks": ""
           },
           "bgcolor": "#E5ECF6",
           "radialaxis": {
            "gridcolor": "white",
            "linecolor": "white",
            "ticks": ""
           }
          },
          "scene": {
           "xaxis": {
            "backgroundcolor": "#E5ECF6",
            "gridcolor": "white",
            "gridwidth": 2,
            "linecolor": "white",
            "showbackground": true,
            "ticks": "",
            "zerolinecolor": "white"
           },
           "yaxis": {
            "backgroundcolor": "#E5ECF6",
            "gridcolor": "white",
            "gridwidth": 2,
            "linecolor": "white",
            "showbackground": true,
            "ticks": "",
            "zerolinecolor": "white"
           },
           "zaxis": {
            "backgroundcolor": "#E5ECF6",
            "gridcolor": "white",
            "gridwidth": 2,
            "linecolor": "white",
            "showbackground": true,
            "ticks": "",
            "zerolinecolor": "white"
           }
          },
          "shapedefaults": {
           "line": {
            "color": "#2a3f5f"
           }
          },
          "ternary": {
           "aaxis": {
            "gridcolor": "white",
            "linecolor": "white",
            "ticks": ""
           },
           "baxis": {
            "gridcolor": "white",
            "linecolor": "white",
            "ticks": ""
           },
           "bgcolor": "#E5ECF6",
           "caxis": {
            "gridcolor": "white",
            "linecolor": "white",
            "ticks": ""
           }
          },
          "title": {
           "x": 0.05
          },
          "xaxis": {
           "automargin": true,
           "gridcolor": "white",
           "linecolor": "white",
           "ticks": "",
           "title": {
            "standoff": 15
           },
           "zerolinecolor": "white",
           "zerolinewidth": 2
          },
          "yaxis": {
           "automargin": true,
           "gridcolor": "white",
           "linecolor": "white",
           "ticks": "",
           "title": {
            "standoff": 15
           },
           "zerolinecolor": "white",
           "zerolinewidth": 2
          }
         }
        },
        "title": {
         "font": {
          "color": "Black",
          "size": 22
         },
         "text": "<b>Similarity Matrix</b>",
         "x": 0.55,
         "xanchor": "center",
         "y": 0.95,
         "yanchor": "top"
        },
        "width": 800,
        "xaxis": {
         "anchor": "y",
         "constrain": "domain",
         "domain": [
          0,
          1
         ],
         "scaleanchor": "y"
        },
        "yaxis": {
         "anchor": "x",
         "autorange": "reversed",
         "constrain": "domain",
         "domain": [
          0,
          1
         ]
        }
       }
      }
     },
     "metadata": {},
     "output_type": "display_data"
    }
   ],
   "source": [
    "topic_model.visualize_heatmap()"
   ]
  },
  {
   "cell_type": "code",
   "execution_count": 52,
   "metadata": {},
   "outputs": [
    {
     "data": {
      "text/html": [
       "<div>\n",
       "<style scoped>\n",
       "    .dataframe tbody tr th:only-of-type {\n",
       "        vertical-align: middle;\n",
       "    }\n",
       "\n",
       "    .dataframe tbody tr th {\n",
       "        vertical-align: top;\n",
       "    }\n",
       "\n",
       "    .dataframe thead th {\n",
       "        text-align: right;\n",
       "    }\n",
       "</style>\n",
       "<table border=\"1\" class=\"dataframe\">\n",
       "  <thead>\n",
       "    <tr style=\"text-align: right;\">\n",
       "      <th></th>\n",
       "      <th>Document</th>\n",
       "      <th>Topic</th>\n",
       "      <th>Name</th>\n",
       "      <th>Top_n_words</th>\n",
       "      <th>Probability</th>\n",
       "      <th>Representative_document</th>\n",
       "    </tr>\n",
       "  </thead>\n",
       "  <tbody>\n",
       "    <tr>\n",
       "      <th>0</th>\n",
       "      <td>probleem bestelling melden ontvang vandaag mai...</td>\n",
       "      <td>-1</td>\n",
       "      <td>-1_chat_bestelling_fijn_dag</td>\n",
       "      <td>chat - bestelling - fijn - dag - graag - gaan ...</td>\n",
       "      <td>0.866653</td>\n",
       "      <td>False</td>\n",
       "    </tr>\n",
       "    <tr>\n",
       "      <th>1</th>\n",
       "      <td>heer mevrouw maand race auto ontvangen lang sn...</td>\n",
       "      <td>-1</td>\n",
       "      <td>-1_chat_bestelling_fijn_dag</td>\n",
       "      <td>chat - bestelling - fijn - dag - graag - gaan ...</td>\n",
       "      <td>0.404737</td>\n",
       "      <td>False</td>\n",
       "    </tr>\n",
       "    <tr>\n",
       "      <th>2</th>\n",
       "      <td>staan voedingswaarden vermelden fles wijn verk...</td>\n",
       "      <td>0</td>\n",
       "      <td>0_chat_fijn_dag_bestelling</td>\n",
       "      <td>chat - fijn - dag - bestelling - punt - graag ...</td>\n",
       "      <td>0.357058</td>\n",
       "      <td>False</td>\n",
       "    </tr>\n",
       "    <tr>\n",
       "      <th>3</th>\n",
       "      <td>[ORDER_NUMBER] servicecode invullen euro korti...</td>\n",
       "      <td>0</td>\n",
       "      <td>0_chat_fijn_dag_bestelling</td>\n",
       "      <td>chat - fijn - dag - bestelling - punt - graag ...</td>\n",
       "      <td>0.873839</td>\n",
       "      <td>False</td>\n",
       "    </tr>\n",
       "    <tr>\n",
       "      <th>4</th>\n",
       "      <td>bestelling ontvangen fles inleveren groot klei...</td>\n",
       "      <td>0</td>\n",
       "      <td>0_chat_fijn_dag_bestelling</td>\n",
       "      <td>chat - fijn - dag - bestelling - punt - graag ...</td>\n",
       "      <td>0.593755</td>\n",
       "      <td>False</td>\n",
       "    </tr>\n",
       "    <tr>\n",
       "      <th>5</th>\n",
       "      <td>possible conversation english made refund requ...</td>\n",
       "      <td>1</td>\n",
       "      <td>1_annuleren_bestelling_order_number_morgen</td>\n",
       "      <td>annuleren - bestelling - order_number - morgen...</td>\n",
       "      <td>0.674576</td>\n",
       "      <td>False</td>\n",
       "    </tr>\n",
       "    <tr>\n",
       "      <th>6</th>\n",
       "      <td>geven morgen dubbel betaling verleden week mor...</td>\n",
       "      <td>0</td>\n",
       "      <td>0_chat_fijn_dag_bestelling</td>\n",
       "      <td>chat - fijn - dag - bestelling - punt - graag ...</td>\n",
       "      <td>0.750730</td>\n",
       "      <td>False</td>\n",
       "    </tr>\n",
       "    <tr>\n",
       "      <th>7</th>\n",
       "      <td>proberen artikel bestelling voegen alweer app ...</td>\n",
       "      <td>0</td>\n",
       "      <td>0_chat_fijn_dag_bestelling</td>\n",
       "      <td>chat - fijn - dag - bestelling - punt - graag ...</td>\n",
       "      <td>0.597063</td>\n",
       "      <td>False</td>\n",
       "    </tr>\n",
       "    <tr>\n",
       "      <th>8</th>\n",
       "      <td>repen verkade bestellen leverbaar vanmiddag vo...</td>\n",
       "      <td>-1</td>\n",
       "      <td>-1_chat_bestelling_fijn_dag</td>\n",
       "      <td>chat - bestelling - fijn - dag - graag - gaan ...</td>\n",
       "      <td>0.551132</td>\n",
       "      <td>False</td>\n",
       "    </tr>\n",
       "    <tr>\n",
       "      <th>9</th>\n",
       "      <td>terug betaling ontvangen laat bericht week ver...</td>\n",
       "      <td>-1</td>\n",
       "      <td>-1_chat_bestelling_fijn_dag</td>\n",
       "      <td>chat - bestelling - fijn - dag - graag - gaan ...</td>\n",
       "      <td>0.259122</td>\n",
       "      <td>False</td>\n",
       "    </tr>\n",
       "    <tr>\n",
       "      <th>10</th>\n",
       "      <td>morgen wachten boodschappen chat bericht sture...</td>\n",
       "      <td>-1</td>\n",
       "      <td>-1_chat_bestelling_fijn_dag</td>\n",
       "      <td>chat - bestelling - fijn - dag - graag - gaan ...</td>\n",
       "      <td>0.250789</td>\n",
       "      <td>False</td>\n",
       "    </tr>\n",
       "    <tr>\n",
       "      <th>11</th>\n",
       "      <td>aantal product bestelling chat bericht jammer ...</td>\n",
       "      <td>-1</td>\n",
       "      <td>-1_chat_bestelling_fijn_dag</td>\n",
       "      <td>chat - bestelling - fijn - dag - graag - gaan ...</td>\n",
       "      <td>0.562462</td>\n",
       "      <td>False</td>\n",
       "    </tr>\n",
       "    <tr>\n",
       "      <th>12</th>\n",
       "      <td>app geven besteltijd bestellingen storing n be...</td>\n",
       "      <td>0</td>\n",
       "      <td>0_chat_fijn_dag_bestelling</td>\n",
       "      <td>chat - fijn - dag - bestelling - punt - graag ...</td>\n",
       "      <td>0.854116</td>\n",
       "      <td>False</td>\n",
       "    </tr>\n",
       "    <tr>\n",
       "      <th>13</th>\n",
       "      <td>nodig servicedesk oplossen avond dochter werke...</td>\n",
       "      <td>0</td>\n",
       "      <td>0_chat_fijn_dag_bestelling</td>\n",
       "      <td>chat - fijn - dag - bestelling - punt - graag ...</td>\n",
       "      <td>0.384559</td>\n",
       "      <td>False</td>\n",
       "    </tr>\n",
       "    <tr>\n",
       "      <th>14</th>\n",
       "      <td>boodschappenlijst staan mis zien mis antwoord ...</td>\n",
       "      <td>-1</td>\n",
       "      <td>-1_chat_bestelling_fijn_dag</td>\n",
       "      <td>chat - bestelling - fijn - dag - graag - gaan ...</td>\n",
       "      <td>0.191678</td>\n",
       "      <td>False</td>\n",
       "    </tr>\n",
       "    <tr>\n",
       "      <th>15</th>\n",
       "      <td>zitten gratis product chat bericht sturen orde...</td>\n",
       "      <td>-1</td>\n",
       "      <td>-1_chat_bestelling_fijn_dag</td>\n",
       "      <td>chat - bestelling - fijn - dag - graag - gaan ...</td>\n",
       "      <td>0.182877</td>\n",
       "      <td>False</td>\n",
       "    </tr>\n",
       "    <tr>\n",
       "      <th>16</th>\n",
       "      <td>proberen tijd online bestelling app lukken web...</td>\n",
       "      <td>-1</td>\n",
       "      <td>-1_chat_bestelling_fijn_dag</td>\n",
       "      <td>chat - bestelling - fijn - dag - graag - gaan ...</td>\n",
       "      <td>0.722006</td>\n",
       "      <td>False</td>\n",
       "    </tr>\n",
       "    <tr>\n",
       "      <th>17</th>\n",
       "      <td>benieuwd nummer spaarpunten vinden online acco...</td>\n",
       "      <td>0</td>\n",
       "      <td>0_chat_fijn_dag_bestelling</td>\n",
       "      <td>chat - fijn - dag - bestelling - punt - graag ...</td>\n",
       "      <td>0.911224</td>\n",
       "      <td>False</td>\n",
       "    </tr>\n",
       "    <tr>\n",
       "      <th>18</th>\n",
       "      <td>doen pasnummer bijgeschreven [CARD_NUMBER] van...</td>\n",
       "      <td>-1</td>\n",
       "      <td>-1_chat_bestelling_fijn_dag</td>\n",
       "      <td>chat - bestelling - fijn - dag - graag - gaan ...</td>\n",
       "      <td>0.978220</td>\n",
       "      <td>False</td>\n",
       "    </tr>\n",
       "    <tr>\n",
       "      <th>19</th>\n",
       "      <td>online bestellen code mail ontvangen hiervoor ...</td>\n",
       "      <td>0</td>\n",
       "      <td>0_chat_fijn_dag_bestelling</td>\n",
       "      <td>chat - fijn - dag - bestelling - punt - graag ...</td>\n",
       "      <td>0.707349</td>\n",
       "      <td>False</td>\n",
       "    </tr>\n",
       "    <tr>\n",
       "      <th>20</th>\n",
       "      <td>missen product assortiment online winkel gaan ...</td>\n",
       "      <td>4</td>\n",
       "      <td>4_melk_yoghurt_pak_product</td>\n",
       "      <td>melk - yoghurt - pak - product - chocolade - t...</td>\n",
       "      <td>1.000000</td>\n",
       "      <td>False</td>\n",
       "    </tr>\n",
       "    <tr>\n",
       "      <th>21</th>\n",
       "      <td>uitpakken bestelling merken mager yoghurt kapo...</td>\n",
       "      <td>4</td>\n",
       "      <td>4_melk_yoghurt_pak_product</td>\n",
       "      <td>melk - yoghurt - pak - product - chocolade - t...</td>\n",
       "      <td>0.597048</td>\n",
       "      <td>False</td>\n",
       "    </tr>\n",
       "    <tr>\n",
       "      <th>22</th>\n",
       "      <td>koppeal online account punten sparen optie koo...</td>\n",
       "      <td>-1</td>\n",
       "      <td>-1_chat_bestelling_fijn_dag</td>\n",
       "      <td>chat - bestelling - fijn - dag - graag - gaan ...</td>\n",
       "      <td>0.543075</td>\n",
       "      <td>False</td>\n",
       "    </tr>\n",
       "    <tr>\n",
       "      <th>23</th>\n",
       "      <td>punt extra bijgeschreven laat keer online best...</td>\n",
       "      <td>-1</td>\n",
       "      <td>-1_chat_bestelling_fijn_dag</td>\n",
       "      <td>chat - bestelling - fijn - dag - graag - gaan ...</td>\n",
       "      <td>0.515076</td>\n",
       "      <td>False</td>\n",
       "    </tr>\n",
       "    <tr>\n",
       "      <th>24</th>\n",
       "      <td>rekening boodschappen vanmorgen duren betalen ...</td>\n",
       "      <td>-1</td>\n",
       "      <td>-1_chat_bestelling_fijn_dag</td>\n",
       "      <td>chat - bestelling - fijn - dag - graag - gaan ...</td>\n",
       "      <td>0.252779</td>\n",
       "      <td>False</td>\n",
       "    </tr>\n",
       "    <tr>\n",
       "      <th>25</th>\n",
       "      <td>goed klacht product biefreep duidelijk bederve...</td>\n",
       "      <td>-1</td>\n",
       "      <td>-1_chat_bestelling_fijn_dag</td>\n",
       "      <td>chat - bestelling - fijn - dag - graag - gaan ...</td>\n",
       "      <td>0.220563</td>\n",
       "      <td>False</td>\n",
       "    </tr>\n",
       "    <tr>\n",
       "      <th>26</th>\n",
       "      <td>zojuist mail leverbaar extra artikel erbij doe...</td>\n",
       "      <td>-1</td>\n",
       "      <td>-1_chat_bestelling_fijn_dag</td>\n",
       "      <td>chat - bestelling - fijn - dag - graag - gaan ...</td>\n",
       "      <td>0.867465</td>\n",
       "      <td>False</td>\n",
       "    </tr>\n",
       "    <tr>\n",
       "      <th>27</th>\n",
       "      <td>klacht doorgeven chat excuus laat reactie fijn</td>\n",
       "      <td>0</td>\n",
       "      <td>0_chat_fijn_dag_bestelling</td>\n",
       "      <td>chat - fijn - dag - bestelling - punt - graag ...</td>\n",
       "      <td>0.814152</td>\n",
       "      <td>False</td>\n",
       "    </tr>\n",
       "    <tr>\n",
       "      <th>28</th>\n",
       "      <td>product actie gratis vink maal producg uur ant...</td>\n",
       "      <td>-1</td>\n",
       "      <td>-1_chat_bestelling_fijn_dag</td>\n",
       "      <td>chat - bestelling - fijn - dag - graag - gaan ...</td>\n",
       "      <td>0.866397</td>\n",
       "      <td>False</td>\n",
       "    </tr>\n",
       "    <tr>\n",
       "      <th>29</th>\n",
       "      <td>storing bestelling uur bezorgd bestelling aann...</td>\n",
       "      <td>-1</td>\n",
       "      <td>-1_chat_bestelling_fijn_dag</td>\n",
       "      <td>chat - bestelling - fijn - dag - graag - gaan ...</td>\n",
       "      <td>0.520885</td>\n",
       "      <td>False</td>\n",
       "    </tr>\n",
       "  </tbody>\n",
       "</table>\n",
       "</div>"
      ],
      "text/plain": [
       "                                             Document  Topic   \n",
       "0   probleem bestelling melden ontvang vandaag mai...     -1  \\\n",
       "1   heer mevrouw maand race auto ontvangen lang sn...     -1   \n",
       "2   staan voedingswaarden vermelden fles wijn verk...      0   \n",
       "3   [ORDER_NUMBER] servicecode invullen euro korti...      0   \n",
       "4   bestelling ontvangen fles inleveren groot klei...      0   \n",
       "5   possible conversation english made refund requ...      1   \n",
       "6   geven morgen dubbel betaling verleden week mor...      0   \n",
       "7   proberen artikel bestelling voegen alweer app ...      0   \n",
       "8   repen verkade bestellen leverbaar vanmiddag vo...     -1   \n",
       "9   terug betaling ontvangen laat bericht week ver...     -1   \n",
       "10  morgen wachten boodschappen chat bericht sture...     -1   \n",
       "11  aantal product bestelling chat bericht jammer ...     -1   \n",
       "12  app geven besteltijd bestellingen storing n be...      0   \n",
       "13  nodig servicedesk oplossen avond dochter werke...      0   \n",
       "14  boodschappenlijst staan mis zien mis antwoord ...     -1   \n",
       "15  zitten gratis product chat bericht sturen orde...     -1   \n",
       "16  proberen tijd online bestelling app lukken web...     -1   \n",
       "17  benieuwd nummer spaarpunten vinden online acco...      0   \n",
       "18  doen pasnummer bijgeschreven [CARD_NUMBER] van...     -1   \n",
       "19  online bestellen code mail ontvangen hiervoor ...      0   \n",
       "20  missen product assortiment online winkel gaan ...      4   \n",
       "21  uitpakken bestelling merken mager yoghurt kapo...      4   \n",
       "22  koppeal online account punten sparen optie koo...     -1   \n",
       "23  punt extra bijgeschreven laat keer online best...     -1   \n",
       "24  rekening boodschappen vanmorgen duren betalen ...     -1   \n",
       "25  goed klacht product biefreep duidelijk bederve...     -1   \n",
       "26  zojuist mail leverbaar extra artikel erbij doe...     -1   \n",
       "27     klacht doorgeven chat excuus laat reactie fijn      0   \n",
       "28  product actie gratis vink maal producg uur ant...     -1   \n",
       "29  storing bestelling uur bezorgd bestelling aann...     -1   \n",
       "\n",
       "                                          Name   \n",
       "0                  -1_chat_bestelling_fijn_dag  \\\n",
       "1                  -1_chat_bestelling_fijn_dag   \n",
       "2                   0_chat_fijn_dag_bestelling   \n",
       "3                   0_chat_fijn_dag_bestelling   \n",
       "4                   0_chat_fijn_dag_bestelling   \n",
       "5   1_annuleren_bestelling_order_number_morgen   \n",
       "6                   0_chat_fijn_dag_bestelling   \n",
       "7                   0_chat_fijn_dag_bestelling   \n",
       "8                  -1_chat_bestelling_fijn_dag   \n",
       "9                  -1_chat_bestelling_fijn_dag   \n",
       "10                 -1_chat_bestelling_fijn_dag   \n",
       "11                 -1_chat_bestelling_fijn_dag   \n",
       "12                  0_chat_fijn_dag_bestelling   \n",
       "13                  0_chat_fijn_dag_bestelling   \n",
       "14                 -1_chat_bestelling_fijn_dag   \n",
       "15                 -1_chat_bestelling_fijn_dag   \n",
       "16                 -1_chat_bestelling_fijn_dag   \n",
       "17                  0_chat_fijn_dag_bestelling   \n",
       "18                 -1_chat_bestelling_fijn_dag   \n",
       "19                  0_chat_fijn_dag_bestelling   \n",
       "20                  4_melk_yoghurt_pak_product   \n",
       "21                  4_melk_yoghurt_pak_product   \n",
       "22                 -1_chat_bestelling_fijn_dag   \n",
       "23                 -1_chat_bestelling_fijn_dag   \n",
       "24                 -1_chat_bestelling_fijn_dag   \n",
       "25                 -1_chat_bestelling_fijn_dag   \n",
       "26                 -1_chat_bestelling_fijn_dag   \n",
       "27                  0_chat_fijn_dag_bestelling   \n",
       "28                 -1_chat_bestelling_fijn_dag   \n",
       "29                 -1_chat_bestelling_fijn_dag   \n",
       "\n",
       "                                          Top_n_words  Probability   \n",
       "0   chat - bestelling - fijn - dag - graag - gaan ...     0.866653  \\\n",
       "1   chat - bestelling - fijn - dag - graag - gaan ...     0.404737   \n",
       "2   chat - fijn - dag - bestelling - punt - graag ...     0.357058   \n",
       "3   chat - fijn - dag - bestelling - punt - graag ...     0.873839   \n",
       "4   chat - fijn - dag - bestelling - punt - graag ...     0.593755   \n",
       "5   annuleren - bestelling - order_number - morgen...     0.674576   \n",
       "6   chat - fijn - dag - bestelling - punt - graag ...     0.750730   \n",
       "7   chat - fijn - dag - bestelling - punt - graag ...     0.597063   \n",
       "8   chat - bestelling - fijn - dag - graag - gaan ...     0.551132   \n",
       "9   chat - bestelling - fijn - dag - graag - gaan ...     0.259122   \n",
       "10  chat - bestelling - fijn - dag - graag - gaan ...     0.250789   \n",
       "11  chat - bestelling - fijn - dag - graag - gaan ...     0.562462   \n",
       "12  chat - fijn - dag - bestelling - punt - graag ...     0.854116   \n",
       "13  chat - fijn - dag - bestelling - punt - graag ...     0.384559   \n",
       "14  chat - bestelling - fijn - dag - graag - gaan ...     0.191678   \n",
       "15  chat - bestelling - fijn - dag - graag - gaan ...     0.182877   \n",
       "16  chat - bestelling - fijn - dag - graag - gaan ...     0.722006   \n",
       "17  chat - fijn - dag - bestelling - punt - graag ...     0.911224   \n",
       "18  chat - bestelling - fijn - dag - graag - gaan ...     0.978220   \n",
       "19  chat - fijn - dag - bestelling - punt - graag ...     0.707349   \n",
       "20  melk - yoghurt - pak - product - chocolade - t...     1.000000   \n",
       "21  melk - yoghurt - pak - product - chocolade - t...     0.597048   \n",
       "22  chat - bestelling - fijn - dag - graag - gaan ...     0.543075   \n",
       "23  chat - bestelling - fijn - dag - graag - gaan ...     0.515076   \n",
       "24  chat - bestelling - fijn - dag - graag - gaan ...     0.252779   \n",
       "25  chat - bestelling - fijn - dag - graag - gaan ...     0.220563   \n",
       "26  chat - bestelling - fijn - dag - graag - gaan ...     0.867465   \n",
       "27  chat - fijn - dag - bestelling - punt - graag ...     0.814152   \n",
       "28  chat - bestelling - fijn - dag - graag - gaan ...     0.866397   \n",
       "29  chat - bestelling - fijn - dag - graag - gaan ...     0.520885   \n",
       "\n",
       "    Representative_document  \n",
       "0                     False  \n",
       "1                     False  \n",
       "2                     False  \n",
       "3                     False  \n",
       "4                     False  \n",
       "5                     False  \n",
       "6                     False  \n",
       "7                     False  \n",
       "8                     False  \n",
       "9                     False  \n",
       "10                    False  \n",
       "11                    False  \n",
       "12                    False  \n",
       "13                    False  \n",
       "14                    False  \n",
       "15                    False  \n",
       "16                    False  \n",
       "17                    False  \n",
       "18                    False  \n",
       "19                    False  \n",
       "20                    False  \n",
       "21                    False  \n",
       "22                    False  \n",
       "23                    False  \n",
       "24                    False  \n",
       "25                    False  \n",
       "26                    False  \n",
       "27                    False  \n",
       "28                    False  \n",
       "29                    False  "
      ]
     },
     "execution_count": 52,
     "metadata": {},
     "output_type": "execute_result"
    }
   ],
   "source": [
    "topic_model.get_document_info(sent).head(30)"
   ]
  },
  {
   "cell_type": "code",
   "execution_count": 53,
   "metadata": {},
   "outputs": [
    {
     "name": "stderr",
     "output_type": "stream",
     "text": [
      "Batches: 100%|██████████| 1/1 [00:00<00:00, 42.24it/s]\n",
      "2023-04-19 11:54:12,949 - BERTopic - Reduced dimensionality\n",
      "2023-04-19 11:54:12,986 - BERTopic - Calculated probabilities with HDBSCAN\n",
      "2023-04-19 11:54:12,987 - BERTopic - Predicted clusters\n"
     ]
    },
    {
     "name": "stdout",
     "output_type": "stream",
     "text": [
      "Predicted topic: 0, Confidence: [1. 0. 0. 0. 0. 0. 0. 0. 0. 0. 0. 0. 0. 0. 0. 0. 0. 0. 0. 0. 0. 0. 0. 0.\n",
      " 0. 0. 0. 0. 0.]\n"
     ]
    }
   ],
   "source": [
    "new_text = \"problem with order\"\n",
    "topic, confidence = topic_model.transform([new_text])\n",
    "print(f\"Predicted topic: {topic[0]}, Confidence: {confidence[0]}\")"
   ]
  }
 ],
 "metadata": {
  "accelerator": "GPU",
  "colab": {
   "authorship_tag": "ABX9TyMK38rNwbgew/oJxWGwsAqh",
   "collapsed_sections": [
    "LRQ3OK4YSwnz",
    "fTNQ0qHxhNZr",
    "CeQQ_ZKdldvO",
    "bMLc6FiiURg4"
   ],
   "machine_shape": "hm",
   "mount_file_id": "1z-M3z5uvVzTxoF5uH_HAT4Z1UWHOgBEu",
   "provenance": []
  },
  "gpuClass": "premium",
  "kernelspec": {
   "display_name": ".venv",
   "language": "python",
   "name": "python3"
  },
  "language_info": {
   "codemirror_mode": {
    "name": "ipython",
    "version": 3
   },
   "file_extension": ".py",
   "mimetype": "text/x-python",
   "name": "python",
   "nbconvert_exporter": "python",
   "pygments_lexer": "ipython3",
   "version": "3.10.4"
  },
  "vscode": {
   "interpreter": {
    "hash": "d5ec8887bbc94fe5db422128c6c2f2fb31508518f64d564225ee2e596981f4f3"
   }
  },
  "widgets": {
   "application/vnd.jupyter.widget-state+json": {
    "state": {},
    "version_major": 2,
    "version_minor": 0
   }
  }
 },
 "nbformat": 4,
 "nbformat_minor": 4
}
